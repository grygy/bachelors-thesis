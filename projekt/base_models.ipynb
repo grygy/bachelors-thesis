{
 "cells": [
  {
   "cell_type": "code",
   "execution_count": 17,
   "metadata": {},
   "outputs": [
    {
     "name": "stdout",
     "output_type": "stream",
     "text": [
      "The tensorboard extension is already loaded. To reload it, use:\n",
      "  %reload_ext tensorboard\n"
     ]
    }
   ],
   "source": [
    "import numpy as np\n",
    "import tensorflow as tf\n",
    "from tensorflow import keras\n",
    "from tensorflow.keras import layers\n",
    "from tensorflow.keras.datasets import mnist\n",
    "\n",
    "import tempfile\n",
    "from os import path\n",
    "%load_ext tensorboard"
   ]
  },
  {
   "cell_type": "markdown",
   "metadata": {},
   "source": [
    "# Base MNIST model"
   ]
  },
  {
   "cell_type": "code",
   "execution_count": 18,
   "metadata": {},
   "outputs": [],
   "source": [
    "# Load MNIST dataset\n",
    "mnist = keras.datasets.mnist\n",
    "(train_images, train_labels), (test_images, test_labels) = mnist.load_data()\n",
    "\n"
   ]
  },
  {
   "cell_type": "markdown",
   "metadata": {},
   "source": [
    "#### Constatns"
   ]
  },
  {
   "cell_type": "code",
   "execution_count": 19,
   "metadata": {},
   "outputs": [],
   "source": [
    "# Model / data parameters\n",
    "NUM_CLASSES = 10\n",
    "INPUT_SHAPE = (28, 28, 1)\n",
    "MODEL_PATH = './mnist_models/first_mnist_model.h5'"
   ]
  },
  {
   "cell_type": "code",
   "execution_count": 20,
   "metadata": {
    "scrolled": true
   },
   "outputs": [
    {
     "data": {
      "image/png": "[encoded data removed]",
      "text/plain": [
       "<Figure size 720x720 with 9 Axes>"
      ]
     },
     "metadata": {
      "needs_background": "light"
     },
     "output_type": "display_data"
    }
   ],
   "source": [
    "import matplotlib.pyplot as plt\n",
    "\n",
    "plt.figure(figsize=(10, 10))\n",
    "\n",
    "for i in range(9):\n",
    "    ax = plt.subplot(3, 3, i + 1)\n",
    "    plt.imshow(train_images[i])\n",
    "    plt.title(int(train_labels[i]))\n",
    "    plt.axis(\"off\")\n",
    "    \n",
    "plt.show()"
   ]
  },
  {
   "cell_type": "code",
   "execution_count": 21,
   "metadata": {
    "scrolled": true
   },
   "outputs": [
    {
     "data": {
      "text/plain": [
       "<tf.Tensor: shape=(10000, 28, 28), dtype=float32, numpy=\n",
       "array([[[0., 0., 0., ..., 0., 0., 0.],\n",
       "        [0., 0., 0., ..., 0., 0., 0.],\n",
       "        [0., 0., 0., ..., 0., 0., 0.],\n",
       "        ...,\n",
       "        [0., 0., 0., ..., 0., 0., 0.],\n",
       "        [0., 0., 0., ..., 0., 0., 0.],\n",
       "        [0., 0., 0., ..., 0., 0., 0.]],\n",
       "\n",
       "       [[0., 0., 0., ..., 0., 0., 0.],\n",
       "        [0., 0., 0., ..., 0., 0., 0.],\n",
       "        [0., 0., 0., ..., 0., 0., 0.],\n",
       "        ...,\n",
       "        [0., 0., 0., ..., 0., 0., 0.],\n",
       "        [0., 0., 0., ..., 0., 0., 0.],\n",
       "        [0., 0., 0., ..., 0., 0., 0.]],\n",
       "\n",
       "       [[0., 0., 0., ..., 0., 0., 0.],\n",
       "        [0., 0., 0., ..., 0., 0., 0.],\n",
       "        [0., 0., 0., ..., 0., 0., 0.],\n",
       "        ...,\n",
       "        [0., 0., 0., ..., 0., 0., 0.],\n",
       "        [0., 0., 0., ..., 0., 0., 0.],\n",
       "        [0., 0., 0., ..., 0., 0., 0.]],\n",
       "\n",
       "       ...,\n",
       "\n",
       "       [[0., 0., 0., ..., 0., 0., 0.],\n",
       "        [0., 0., 0., ..., 0., 0., 0.],\n",
       "        [0., 0., 0., ..., 0., 0., 0.],\n",
       "        ...,\n",
       "        [0., 0., 0., ..., 0., 0., 0.],\n",
       "        [0., 0., 0., ..., 0., 0., 0.],\n",
       "        [0., 0., 0., ..., 0., 0., 0.]],\n",
       "\n",
       "       [[0., 0., 0., ..., 0., 0., 0.],\n",
       "        [0., 0., 0., ..., 0., 0., 0.],\n",
       "        [0., 0., 0., ..., 0., 0., 0.],\n",
       "        ...,\n",
       "        [0., 0., 0., ..., 0., 0., 0.],\n",
       "        [0., 0., 0., ..., 0., 0., 0.],\n",
       "        [0., 0., 0., ..., 0., 0., 0.]],\n",
       "\n",
       "       [[0., 0., 0., ..., 0., 0., 0.],\n",
       "        [0., 0., 0., ..., 0., 0., 0.],\n",
       "        [0., 0., 0., ..., 0., 0., 0.],\n",
       "        ...,\n",
       "        [0., 0., 0., ..., 0., 0., 0.],\n",
       "        [0., 0., 0., ..., 0., 0., 0.],\n",
       "        [0., 0., 0., ..., 0., 0., 0.]]], dtype=float32)>"
      ]
     },
     "execution_count": 21,
     "metadata": {},
     "output_type": "execute_result"
    }
   ],
   "source": [
    "tf.dtypes.cast(train_images, tf.float32)\n",
    "tf.dtypes.cast(test_images, tf.float32)"
   ]
  },
  {
   "cell_type": "code",
   "execution_count": 22,
   "metadata": {},
   "outputs": [],
   "source": [
    "def make_model(input_shape, num_classes):\n",
    "    inputs = keras.Input(shape=input_shape)\n",
    "\n",
    "    # Entry block\n",
    "    x = layers.experimental.preprocessing.Rescaling(1.0 / 255)(inputs)\n",
    "    x = layers.Conv2D(28, 1, padding=\"same\")(x)\n",
    "    x = layers.BatchNormalization()(x)\n",
    "    x = layers.Activation(\"relu\")(x)\n",
    "\n",
    "    x = layers.Conv2D(64, 1, padding=\"same\")(x)\n",
    "    x = layers.BatchNormalization()(x)\n",
    "    x = layers.Activation(\"relu\")(x)\n",
    "\n",
    "    previous_block_activation = x  # Set aside residual\n",
    "\n",
    "    for size in [128, 256, 512, 728]:\n",
    "        x = layers.Activation(\"relu\")(x)\n",
    "        x = layers.SeparableConv2D(size, 3, padding=\"same\")(x)\n",
    "        x = layers.BatchNormalization()(x)\n",
    "\n",
    "        x = layers.Activation(\"relu\")(x)\n",
    "        x = layers.SeparableConv2D(size, 3, padding=\"same\")(x)\n",
    "        x = layers.BatchNormalization()(x)\n",
    "\n",
    "        x = layers.MaxPooling2D(3, strides=2, padding=\"same\")(x)\n",
    "\n",
    "        # Project residual\n",
    "        residual = layers.Conv2D(size, 1, strides=2, padding=\"same\")(\n",
    "            previous_block_activation\n",
    "        )\n",
    "        x = layers.add([x, residual])  # Add back residual\n",
    "        previous_block_activation = x  # Set aside next residual\n",
    "\n",
    "    x = layers.SeparableConv2D(1024, 3, padding=\"same\")(x)\n",
    "    x = layers.BatchNormalization()(x)\n",
    "    x = layers.Activation(\"relu\")(x)\n",
    "\n",
    "    x = layers.GlobalAveragePooling2D()(x)\n",
    "    if num_classes == 2:\n",
    "        activation = \"sigmoid\"\n",
    "        units = 1\n",
    "    else:\n",
    "        activation = \"softmax\"\n",
    "        units = num_classes\n",
    "\n",
    "    x = layers.Dropout(0.5)(x)\n",
    "    outputs = layers.Dense(units, activation=activation)(x)\n",
    "    return keras.Model(inputs, outputs)\n",
    "\n"
   ]
  },
  {
   "cell_type": "code",
   "execution_count": 23,
   "metadata": {},
   "outputs": [
    {
     "name": "stdout",
     "output_type": "stream",
     "text": [
      "Epoch 1/4\n",
      "844/844 [==============================] - 495s 584ms/step - loss: 0.2071 - accuracy: 0.9357 - val_loss: 0.1034 - val_accuracy: 0.9715\n",
      "Epoch 2/4\n",
      "844/844 [==============================] - 484s 573ms/step - loss: 0.0457 - accuracy: 0.9854 - val_loss: 0.0521 - val_accuracy: 0.9870\n",
      "Epoch 3/4\n",
      "844/844 [==============================] - 488s 578ms/step - loss: 0.0401 - accuracy: 0.9879 - val_loss: 0.0556 - val_accuracy: 0.9852\n",
      "Epoch 4/4\n",
      "844/844 [==============================] - 507s 601ms/step - loss: 0.0342 - accuracy: 0.9898 - val_loss: 0.0518 - val_accuracy: 0.9852\n",
      "Saved\n"
     ]
    }
   ],
   "source": [
    "if path.exists(MODEL_PATH):\n",
    "    model = tf.keras.models.load_model(MODEL_PATH)\n",
    "    \n",
    "    # Compile\n",
    "    model.compile(optimizer='adam',\n",
    "                  loss=tf.keras.losses.SparseCategoricalCrossentropy(from_logits=True),\n",
    "                  metrics=['accuracy'])\n",
    "else:\n",
    "    model = make_model(input_shape=INPUT_SHAPE, num_classes=NUM_CLASSES)\n",
    "\n",
    "    # Train the digit classification model\n",
    "    model.compile(optimizer='adam',\n",
    "                  loss=tf.keras.losses.SparseCategoricalCrossentropy(from_logits=True),\n",
    "                  metrics=['accuracy'])\n",
    "\n",
    "    model.fit(\n",
    "        train_images,\n",
    "        train_labels,\n",
    "        epochs=4,\n",
    "        validation_split=0.1,\n",
    "        batch_size=64,\n",
    "    )\n",
    "    \n",
    "    # save model\n",
    "    model.save(MODEL_PATH)\n",
    "    print('Saved')\n",
    "    "
   ]
  },
  {
   "cell_type": "code",
   "execution_count": 24,
   "metadata": {},
   "outputs": [
    {
     "name": "stdout",
     "output_type": "stream",
     "text": [
      "313/313 [==============================] - 23s 75ms/step - loss: 0.0452 - accuracy: 0.9845\n"
     ]
    },
    {
     "data": {
      "text/plain": [
       "[0.04520625248551369, 0.984499990940094]"
      ]
     },
     "execution_count": 24,
     "metadata": {},
     "output_type": "execute_result"
    }
   ],
   "source": [
    "model.evaluate(test_images, test_labels)"
   ]
  },
  {
   "cell_type": "code",
   "execution_count": 25,
   "metadata": {},
   "outputs": [
    {
     "name": "stdout",
     "output_type": "stream",
     "text": [
      "Model: \"model_1\"\n",
      "__________________________________________________________________________________________________\n",
      "Layer (type)                    Output Shape         Param #     Connected to                     \n",
      "==================================================================================================\n",
      "input_2 (InputLayer)            [(None, 28, 28, 1)]  0                                            \n",
      "__________________________________________________________________________________________________\n",
      "rescaling_1 (Rescaling)         (None, 28, 28, 1)    0           input_2[0][0]                    \n",
      "__________________________________________________________________________________________________\n",
      "conv2d_6 (Conv2D)               (None, 28, 28, 28)   56          rescaling_1[0][0]                \n",
      "__________________________________________________________________________________________________\n",
      "batch_normalization_11 (BatchNo (None, 28, 28, 28)   112         conv2d_6[0][0]                   \n",
      "__________________________________________________________________________________________________\n",
      "activation_11 (Activation)      (None, 28, 28, 28)   0           batch_normalization_11[0][0]     \n",
      "__________________________________________________________________________________________________\n",
      "conv2d_7 (Conv2D)               (None, 28, 28, 64)   1856        activation_11[0][0]              \n",
      "__________________________________________________________________________________________________\n",
      "batch_normalization_12 (BatchNo (None, 28, 28, 64)   256         conv2d_7[0][0]                   \n",
      "__________________________________________________________________________________________________\n",
      "activation_12 (Activation)      (None, 28, 28, 64)   0           batch_normalization_12[0][0]     \n",
      "__________________________________________________________________________________________________\n",
      "activation_13 (Activation)      (None, 28, 28, 64)   0           activation_12[0][0]              \n",
      "__________________________________________________________________________________________________\n",
      "separable_conv2d_9 (SeparableCo (None, 28, 28, 128)  8896        activation_13[0][0]              \n",
      "__________________________________________________________________________________________________\n",
      "batch_normalization_13 (BatchNo (None, 28, 28, 128)  512         separable_conv2d_9[0][0]         \n",
      "__________________________________________________________________________________________________\n",
      "activation_14 (Activation)      (None, 28, 28, 128)  0           batch_normalization_13[0][0]     \n",
      "__________________________________________________________________________________________________\n",
      "separable_conv2d_10 (SeparableC (None, 28, 28, 128)  17664       activation_14[0][0]              \n",
      "__________________________________________________________________________________________________\n",
      "batch_normalization_14 (BatchNo (None, 28, 28, 128)  512         separable_conv2d_10[0][0]        \n",
      "__________________________________________________________________________________________________\n",
      "max_pooling2d_4 (MaxPooling2D)  (None, 14, 14, 128)  0           batch_normalization_14[0][0]     \n",
      "__________________________________________________________________________________________________\n",
      "conv2d_8 (Conv2D)               (None, 14, 14, 128)  8320        activation_12[0][0]              \n",
      "__________________________________________________________________________________________________\n",
      "add_4 (Add)                     (None, 14, 14, 128)  0           max_pooling2d_4[0][0]            \n",
      "                                                                 conv2d_8[0][0]                   \n",
      "__________________________________________________________________________________________________\n",
      "activation_15 (Activation)      (None, 14, 14, 128)  0           add_4[0][0]                      \n",
      "__________________________________________________________________________________________________\n",
      "separable_conv2d_11 (SeparableC (None, 14, 14, 256)  34176       activation_15[0][0]              \n",
      "__________________________________________________________________________________________________\n",
      "batch_normalization_15 (BatchNo (None, 14, 14, 256)  1024        separable_conv2d_11[0][0]        \n",
      "__________________________________________________________________________________________________\n",
      "activation_16 (Activation)      (None, 14, 14, 256)  0           batch_normalization_15[0][0]     \n",
      "__________________________________________________________________________________________________\n",
      "separable_conv2d_12 (SeparableC (None, 14, 14, 256)  68096       activation_16[0][0]              \n",
      "__________________________________________________________________________________________________\n",
      "batch_normalization_16 (BatchNo (None, 14, 14, 256)  1024        separable_conv2d_12[0][0]        \n",
      "__________________________________________________________________________________________________\n",
      "max_pooling2d_5 (MaxPooling2D)  (None, 7, 7, 256)    0           batch_normalization_16[0][0]     \n",
      "__________________________________________________________________________________________________\n",
      "conv2d_9 (Conv2D)               (None, 7, 7, 256)    33024       add_4[0][0]                      \n",
      "__________________________________________________________________________________________________\n",
      "add_5 (Add)                     (None, 7, 7, 256)    0           max_pooling2d_5[0][0]            \n",
      "                                                                 conv2d_9[0][0]                   \n",
      "__________________________________________________________________________________________________\n",
      "activation_17 (Activation)      (None, 7, 7, 256)    0           add_5[0][0]                      \n",
      "__________________________________________________________________________________________________\n",
      "separable_conv2d_13 (SeparableC (None, 7, 7, 512)    133888      activation_17[0][0]              \n",
      "__________________________________________________________________________________________________\n",
      "batch_normalization_17 (BatchNo (None, 7, 7, 512)    2048        separable_conv2d_13[0][0]        \n",
      "__________________________________________________________________________________________________\n",
      "activation_18 (Activation)      (None, 7, 7, 512)    0           batch_normalization_17[0][0]     \n",
      "__________________________________________________________________________________________________\n",
      "separable_conv2d_14 (SeparableC (None, 7, 7, 512)    267264      activation_18[0][0]              \n",
      "__________________________________________________________________________________________________\n",
      "batch_normalization_18 (BatchNo (None, 7, 7, 512)    2048        separable_conv2d_14[0][0]        \n",
      "__________________________________________________________________________________________________\n",
      "max_pooling2d_6 (MaxPooling2D)  (None, 4, 4, 512)    0           batch_normalization_18[0][0]     \n",
      "__________________________________________________________________________________________________\n",
      "conv2d_10 (Conv2D)              (None, 4, 4, 512)    131584      add_5[0][0]                      \n",
      "__________________________________________________________________________________________________\n",
      "add_6 (Add)                     (None, 4, 4, 512)    0           max_pooling2d_6[0][0]            \n",
      "                                                                 conv2d_10[0][0]                  \n",
      "__________________________________________________________________________________________________\n",
      "activation_19 (Activation)      (None, 4, 4, 512)    0           add_6[0][0]                      \n",
      "__________________________________________________________________________________________________\n",
      "separable_conv2d_15 (SeparableC (None, 4, 4, 728)    378072      activation_19[0][0]              \n",
      "__________________________________________________________________________________________________\n",
      "batch_normalization_19 (BatchNo (None, 4, 4, 728)    2912        separable_conv2d_15[0][0]        \n",
      "__________________________________________________________________________________________________\n",
      "activation_20 (Activation)      (None, 4, 4, 728)    0           batch_normalization_19[0][0]     \n",
      "__________________________________________________________________________________________________\n",
      "separable_conv2d_16 (SeparableC (None, 4, 4, 728)    537264      activation_20[0][0]              \n",
      "__________________________________________________________________________________________________\n",
      "batch_normalization_20 (BatchNo (None, 4, 4, 728)    2912        separable_conv2d_16[0][0]        \n",
      "__________________________________________________________________________________________________\n",
      "max_pooling2d_7 (MaxPooling2D)  (None, 2, 2, 728)    0           batch_normalization_20[0][0]     \n",
      "__________________________________________________________________________________________________\n",
      "conv2d_11 (Conv2D)              (None, 2, 2, 728)    373464      add_6[0][0]                      \n",
      "__________________________________________________________________________________________________\n",
      "add_7 (Add)                     (None, 2, 2, 728)    0           max_pooling2d_7[0][0]            \n",
      "                                                                 conv2d_11[0][0]                  \n",
      "__________________________________________________________________________________________________\n",
      "separable_conv2d_17 (SeparableC (None, 2, 2, 1024)   753048      add_7[0][0]                      \n",
      "__________________________________________________________________________________________________\n",
      "batch_normalization_21 (BatchNo (None, 2, 2, 1024)   4096        separable_conv2d_17[0][0]        \n",
      "__________________________________________________________________________________________________\n",
      "activation_21 (Activation)      (None, 2, 2, 1024)   0           batch_normalization_21[0][0]     \n",
      "__________________________________________________________________________________________________\n",
      "global_average_pooling2d_1 (Glo (None, 1024)         0           activation_21[0][0]              \n",
      "__________________________________________________________________________________________________\n",
      "dropout_1 (Dropout)             (None, 1024)         0           global_average_pooling2d_1[0][0] \n",
      "__________________________________________________________________________________________________\n",
      "dense_1 (Dense)                 (None, 10)           10250       dropout_1[0][0]                  \n",
      "==================================================================================================\n",
      "Total params: 2,774,378\n",
      "Trainable params: 2,765,650\n",
      "Non-trainable params: 8,728\n",
      "__________________________________________________________________________________________________\n"
     ]
    }
   ],
   "source": [
    "model.summary()"
   ]
  },
  {
   "cell_type": "markdown",
   "metadata": {},
   "source": [
    "# CIFAR  model"
   ]
  },
  {
   "cell_type": "code",
   "execution_count": 27,
   "metadata": {},
   "outputs": [],
   "source": [
    "from tensorflow.keras import datasets"
   ]
  },
  {
   "cell_type": "code",
   "execution_count": 26,
   "metadata": {},
   "outputs": [],
   "source": [
    "# Model / data parameters\n",
    "NUM_CLASSES = 10\n",
    "INPUT_SHAPE = (32, 32, 3)\n",
    "MODEL_PATH = './cifar_models/first_cifar_model.h5'"
   ]
  },
  {
   "cell_type": "code",
   "execution_count": 29,
   "metadata": {},
   "outputs": [
    {
     "name": "stdout",
     "output_type": "stream",
     "text": [
      "Downloading data from https://www.cs.toronto.edu/~kriz/cifar-10-python.tar.gz\n",
      "170500096/170498071 [==============================] - 2617s 15us/step\n"
     ]
    }
   ],
   "source": [
    "(train_images, train_labels), (test_images, test_labels) = datasets.cifar10.load_data()"
   ]
  },
  {
   "cell_type": "code",
   "execution_count": 38,
   "metadata": {},
   "outputs": [
    {
     "name": "stdout",
     "output_type": "stream",
     "text": [
      "Epoch 1/30\n",
      "704/704 [==============================] - 481s 675ms/step - loss: 1.5306 - accuracy: 0.4531 - val_loss: 0.9998 - val_accuracy: 0.6560\n",
      "Epoch 2/30\n",
      "704/704 [==============================] - 1773s 3s/step - loss: 0.8345 - accuracy: 0.7062 - val_loss: 0.9009 - val_accuracy: 0.7066\n",
      "Epoch 3/30\n",
      "704/704 [==============================] - 467s 663ms/step - loss: 0.6205 - accuracy: 0.7850 - val_loss: 0.7882 - val_accuracy: 0.7484\n",
      "Epoch 4/30\n",
      "704/704 [==============================] - 459s 651ms/step - loss: 0.4840 - accuracy: 0.8322 - val_loss: 0.7921 - val_accuracy: 0.7560\n",
      "Epoch 5/30\n",
      "704/704 [==============================] - 459s 652ms/step - loss: 0.3936 - accuracy: 0.8655 - val_loss: 0.9241 - val_accuracy: 0.7384\n",
      "Epoch 6/30\n",
      "704/704 [==============================] - 490s 697ms/step - loss: 0.3393 - accuracy: 0.8815 - val_loss: 0.8502 - val_accuracy: 0.7626\n",
      "Epoch 7/30\n",
      "704/704 [==============================] - 459s 652ms/step - loss: 0.2373 - accuracy: 0.9178 - val_loss: 0.8760 - val_accuracy: 0.7504\n",
      "Epoch 8/30\n",
      "704/704 [==============================] - 460s 654ms/step - loss: 0.2171 - accuracy: 0.9233 - val_loss: 0.7383 - val_accuracy: 0.8048\n",
      "Epoch 9/30\n",
      "704/704 [==============================] - 457s 650ms/step - loss: 0.1841 - accuracy: 0.9355 - val_loss: 0.9388 - val_accuracy: 0.7662\n",
      "Epoch 10/30\n",
      "704/704 [==============================] - 459s 653ms/step - loss: 0.1571 - accuracy: 0.9452 - val_loss: 1.0929 - val_accuracy: 0.7484\n",
      "Epoch 11/30\n",
      "704/704 [==============================] - 459s 652ms/step - loss: 0.1317 - accuracy: 0.9536 - val_loss: 0.7610 - val_accuracy: 0.8064\n",
      "Epoch 12/30\n",
      "704/704 [==============================] - 459s 652ms/step - loss: 0.1393 - accuracy: 0.9524 - val_loss: 0.9099 - val_accuracy: 0.7844\n",
      "Epoch 13/30\n",
      "704/704 [==============================] - 457s 649ms/step - loss: 0.1021 - accuracy: 0.9654 - val_loss: 1.0199 - val_accuracy: 0.7878\n",
      "Epoch 14/30\n",
      "704/704 [==============================] - 460s 653ms/step - loss: 0.1303 - accuracy: 0.9551 - val_loss: 0.8073 - val_accuracy: 0.8100\n",
      "Epoch 15/30\n",
      "704/704 [==============================] - 457s 649ms/step - loss: 0.1167 - accuracy: 0.9610 - val_loss: 0.8803 - val_accuracy: 0.8098\n",
      "Epoch 16/30\n",
      "704/704 [==============================] - 458s 651ms/step - loss: 0.1087 - accuracy: 0.9631 - val_loss: 0.7218 - val_accuracy: 0.8298\n",
      "Epoch 17/30\n",
      "704/704 [==============================] - 461s 655ms/step - loss: 0.0697 - accuracy: 0.9759 - val_loss: 0.7624 - val_accuracy: 0.8214\n",
      "Epoch 18/30\n",
      "704/704 [==============================] - 457s 650ms/step - loss: 0.0731 - accuracy: 0.9737 - val_loss: 0.8313 - val_accuracy: 0.8160\n",
      "Epoch 19/30\n",
      "704/704 [==============================] - 457s 650ms/step - loss: 0.0879 - accuracy: 0.9695 - val_loss: 1.1431 - val_accuracy: 0.7866\n",
      "Epoch 20/30\n",
      "704/704 [==============================] - 461s 655ms/step - loss: 0.0645 - accuracy: 0.9780 - val_loss: 0.9734 - val_accuracy: 0.8002\n",
      "Epoch 21/30\n",
      "704/704 [==============================] - 457s 650ms/step - loss: 0.0680 - accuracy: 0.9756 - val_loss: 0.9436 - val_accuracy: 0.8030\n",
      "Epoch 22/30\n",
      "704/704 [==============================] - 457s 649ms/step - loss: 0.1115 - accuracy: 0.9628 - val_loss: 0.9181 - val_accuracy: 0.8150\n",
      "Epoch 23/30\n",
      "704/704 [==============================] - 459s 652ms/step - loss: 0.0661 - accuracy: 0.9782 - val_loss: 0.9437 - val_accuracy: 0.8110\n",
      "Epoch 24/30\n",
      "704/704 [==============================] - 474s 673ms/step - loss: 0.0527 - accuracy: 0.9826 - val_loss: 0.8712 - val_accuracy: 0.8228\n",
      "Epoch 25/30\n",
      "704/704 [==============================] - 472s 671ms/step - loss: 0.0685 - accuracy: 0.9771 - val_loss: 0.9333 - val_accuracy: 0.8156\n",
      "Epoch 26/30\n",
      "704/704 [==============================] - 457s 649ms/step - loss: 0.0660 - accuracy: 0.9785 - val_loss: 1.0089 - val_accuracy: 0.8062\n",
      "Epoch 27/30\n",
      "704/704 [==============================] - 457s 648ms/step - loss: 0.0520 - accuracy: 0.9812 - val_loss: 1.0637 - val_accuracy: 0.7954\n",
      "Epoch 28/30\n",
      "704/704 [==============================] - 458s 650ms/step - loss: 0.0725 - accuracy: 0.9764 - val_loss: 0.8991 - val_accuracy: 0.8226\n",
      "Epoch 29/30\n",
      "704/704 [==============================] - 460s 653ms/step - loss: 0.0426 - accuracy: 0.9852 - val_loss: 0.9876 - val_accuracy: 0.8108\n",
      "Epoch 30/30\n",
      "704/704 [==============================] - 483s 685ms/step - loss: 0.0510 - accuracy: 0.9827 - val_loss: 0.9708 - val_accuracy: 0.8126\n",
      "Saved to: ./cifar_models/first_cifar_model.h5\n"
     ]
    }
   ],
   "source": [
    "if path.exists(MODEL_PATH):\n",
    "    model = tf.keras.models.load_model(MODEL_PATH)\n",
    "    \n",
    "    # Compile\n",
    "    model.compile(optimizer='adam',\n",
    "                  loss=tf.keras.losses.SparseCategoricalCrossentropy(from_logits=True),\n",
    "                  metrics=['accuracy'])\n",
    "    print('Loaded from: ' + MODEL_PATH)\n",
    "else:\n",
    "    model = make_model(input_shape=INPUT_SHAPE, num_classes=NUM_CLASSES)\n",
    "\n",
    "    # Train the digit classification model\n",
    "    model.compile(optimizer='adam',\n",
    "                  loss=tf.keras.losses.SparseCategoricalCrossentropy(from_logits=True),\n",
    "                  metrics=['accuracy'])\n",
    "    \n",
    "    checkpoint_filepath = './tmp/'\n",
    "    model_checkpoint_callback = tf.keras.callbacks.ModelCheckpoint(\n",
    "        filepath=checkpoint_filepath,\n",
    "        save_weights_only=True,\n",
    "        monitor='val_accuracy',\n",
    "        mode='max',\n",
    "        save_best_only=True)\n",
    "\n",
    "    model.fit(\n",
    "        train_images,\n",
    "        train_labels,\n",
    "        epochs=30,\n",
    "        validation_split=0.1,\n",
    "        batch_size=64,\n",
    "        callbacks=[model_checkpoint_callback]\n",
    "    )\n",
    "    \n",
    "    # save model\n",
    "    model.save(MODEL_PATH)\n",
    "    print('Saved to: ' + MODEL_PATH)\n",
    "    "
   ]
  },
  {
   "cell_type": "code",
   "execution_count": 36,
   "metadata": {},
   "outputs": [
    {
     "name": "stdout",
     "output_type": "stream",
     "text": [
      "313/313 [==============================] - 32s 99ms/step - loss: 0.7219 - accuracy: 0.7756\n"
     ]
    },
    {
     "data": {
      "text/plain": [
       "[0.7163470983505249, 0.7759000062942505]"
      ]
     },
     "execution_count": 36,
     "metadata": {},
     "output_type": "execute_result"
    }
   ],
   "source": [
    "model.evaluate(test_images, test_labels)"
   ]
  },
  {
   "cell_type": "code",
   "execution_count": null,
   "metadata": {},
   "outputs": [],
   "source": []
  }
 ],
 "metadata": {
  "kernelspec": {
   "display_name": "Python 3",
   "language": "python",
   "name": "python3"
  },
  "language_info": {
   "codemirror_mode": {
    "name": "ipython",
    "version": 3
   },
   "file_extension": ".py",
   "mimetype": "text/x-python",
   "name": "python",
   "nbconvert_exporter": "python",
   "pygments_lexer": "ipython3",
   "version": "3.8.6"
  }
 },
 "nbformat": 4,
 "nbformat_minor": 4
}
