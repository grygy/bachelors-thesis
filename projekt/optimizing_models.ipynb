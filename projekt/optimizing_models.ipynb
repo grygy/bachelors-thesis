{
 "cells": [
  {
   "cell_type": "code",
   "execution_count": 2,
   "metadata": {},
   "outputs": [],
   "source": [
    "import numpy as np\n",
    "import tensorflow as tf\n",
    "from tensorflow import keras\n",
    "import tensorflow_model_optimization as tfmot\n",
    "import tensorflow_datasets as tfds\n",
    "\n",
    "%load_ext tensorboard\n",
    "\n",
    "from os import path\n",
    "import pathlib\n",
    "import tempfile"
   ]
  },
  {
   "cell_type": "code",
   "execution_count": 3,
   "metadata": {},
   "outputs": [],
   "source": [
    "# normalizing the images to [0, 1]\n",
    "def normalize(image, label):\n",
    "    return tf.cast(image, tf.float32) / 255., label\n",
    "\n",
    "def random_crop(image):\n",
    "    cropped_image = tf.image.random_crop(\n",
    "        image, size=[256, 256, 3])\n",
    "\n",
    "    return cropped_image\n",
    "\n",
    "def random_jitter(image):\n",
    "    # resizing to 286 x 286 x 3\n",
    "    image = tf.image.resize(image, [286, 286],\n",
    "                          method=tf.image.ResizeMethod.NEAREST_NEIGHBOR)\n",
    "\n",
    "    # randomly cropping to 256 x 256 x 3\n",
    "    image = random_crop(image)\n",
    "\n",
    "    # random mirroring\n",
    "    image = tf.image.random_flip_left_right(image)\n",
    "\n",
    "    return image\n",
    "\n",
    "def preprocess_tf_flowers_train(image, label):\n",
    "    image = random_jitter(image)\n",
    "    return image, label\n",
    "\n",
    "# -------------------------------\n",
    "\n",
    "def preprocess_tf_flowers(image, label):\n",
    "    image = tf.image.resize(image, [256, 256],\n",
    "                          method=tf.image.ResizeMethod.NEAREST_NEIGHBOR)\n",
    "    return image, label\n",
    "\n",
    "def load_flowers_dataset():  \n",
    "    (ds_train, ds_validation, ds_test), ds_info = tfds.load(name=\"oxford_flowers102\", \n",
    "                                             with_info=True,\n",
    "                                             split=['train', 'validation', 'test'],  \n",
    "                                             as_supervised=True)\n",
    "\n",
    "    ds_train = ds_train.map(normalize)    \n",
    "    ds_train = ds_train.map(preprocess_tf_flowers)\n",
    "    ds_train = ds_train.shuffle(ds_info.splits['train'].num_examples)\n",
    "    \n",
    "    ds_validation = ds_validation.map(normalize)\n",
    "    ds_validation = ds_validation.map(preprocess_tf_flowers)\n",
    "    \n",
    "    ds_test = ds_test.map(normalize)\n",
    "    ds_test = ds_test.map(preprocess_tf_flowers)\n",
    "    \n",
    "    return ds_train, ds_validation, ds_test\n",
    "\n",
    "def load_tf_flowers_dataset():  \n",
    "    (ds_train, ds_validation, ds_test), ds_info = tfds.load(name=\"tf_flowers\", \n",
    "                                             with_info=True,\n",
    "                                             split=['train[:70%]', 'train[70%:85%]', 'train[85%:]'],  #70/15/15 split\n",
    "                                             as_supervised=True)\n",
    "\n",
    "    ds_train = ds_train.map(normalize)    \n",
    "    ds_train = ds_train.map(preprocess_tf_flowers)\n",
    "    ds_train = ds_train.shuffle(ds_info.splits['train'].num_examples)\n",
    "    \n",
    "    ds_validation = ds_validation.map(normalize)\n",
    "    ds_validation = ds_validation.map(preprocess_tf_flowers)\n",
    "    \n",
    "    ds_test = ds_test.map(normalize)\n",
    "    ds_test = ds_test.map(preprocess_tf_flowers)\n",
    "    \n",
    "    return ds_train, ds_validation, ds_test\n",
    "\n",
    "def load_beans_datasets():\n",
    "    (ds_train, ds_validation, ds_test), ds_info = tfds.load(\n",
    "        'beans',\n",
    "        split=['train', 'validation', 'test'],\n",
    "        shuffle_files=True,\n",
    "        as_supervised=True,\n",
    "        with_info=True,\n",
    "    )\n",
    "    \n",
    "    ds_train = ds_train.map(normalize)\n",
    "    ds_train = ds_train.shuffle(ds_info.splits['train'].num_examples)\n",
    "    \n",
    "    ds_validation = ds_validation.map(normalize)\n",
    "    \n",
    "    ds_test = ds_test.map(normalize)\n",
    "    \n",
    "    return ds_train, ds_validation, ds_test"
   ]
  },
  {
   "cell_type": "markdown",
   "metadata": {},
   "source": [
    "# Optimization after training"
   ]
  },
  {
   "cell_type": "markdown",
   "metadata": {},
   "source": [
    "## Quantization after training\n",
    "\n",
    "1. Dynamic range quantization\n",
    "2. Full integer quantization\n",
    "3. Float16 quantization"
   ]
  },
  {
   "cell_type": "markdown",
   "metadata": {},
   "source": [
    "### 1. Dynamic range quantization\n",
    "\n",
    "Only the weights are converted from float to 8 bit int. "
   ]
  },
  {
   "cell_type": "markdown",
   "metadata": {},
   "source": [
    "### 2. Full integer quantization\n",
    "\n",
    "Weights and activation outputs are quantizated. Good for microcontrolers and TPUs"
   ]
  },
  {
   "cell_type": "code",
   "execution_count": 4,
   "metadata": {},
   "outputs": [],
   "source": [
    "def model_quantization(model_path, ds):\n",
    "    # check if model was already in optimization folder\n",
    "    if (len(model_path.split('/')[0].split('_')) == 3):\n",
    "        optimized_dir = pathlib.Path(model_path.split('/')[0] + '/')\n",
    "    else:\n",
    "        optimized_dir = pathlib.Path(model_path.split('/')[0] + '_optimized/')\n",
    "    model_name = model_path.split('/')[-1].split('.')[0]\n",
    "    \n",
    "    model = tf.keras.models.load_model(model_path)\n",
    "    \n",
    "    converter = tf.lite.TFLiteConverter.from_keras_model(model)\n",
    "    tflite_model = converter.convert()\n",
    "    \n",
    "    # save converted tflite model\n",
    "    tf_model_path = optimized_dir/(model_name + '.tflite')\n",
    "    size = tf_model_path.write_bytes(tflite_model)\n",
    "    print('Converted TFLite model ('+ str(size) +' Bytes) saved to: ' + str(tf_model_path))\n",
    "    \n",
    "    # 1. optimize model using dynamic range quantization\n",
    "    converter.optimizations = [tf.lite.Optimize.DEFAULT]\n",
    "    tflite_model_quant = converter.convert()\n",
    "    \n",
    "    tf_quant_model_path = optimized_dir/(model_name + '_dynamic_rage_quantization.tflite')\n",
    "    size = tf_quant_model_path.write_bytes(tflite_model_quant)\n",
    "    print('Dynamic range quantizatized TFLite model ('+ str(size) +' Bytes) saved to: ' + str(tf_quant_model_path))\n",
    "    \n",
    "    # 2. Full integer quantization\n",
    "    def representative_data_gen():\n",
    "        for input_value, _ in ds.batch(1).take(100):\n",
    "            # Model has only one input so each data point has one element.\n",
    "            yield [input_value]\n",
    "\n",
    "    converter = tf.lite.TFLiteConverter.from_keras_model(model)\n",
    "    converter.optimizations = [tf.lite.Optimize.DEFAULT]\n",
    "    converter.representative_dataset = representative_data_gen\n",
    "\n",
    "    tflite_model_quant = converter.convert()\n",
    "    tf_quant_model_path = optimized_dir/(model_name + '_full_integer_quantization.tflite')\n",
    "    size = tf_quant_model_path.write_bytes(tflite_model_quant)\n",
    "    print('Full integer quantizatized TFLite model ('+ str(size) +' Bytes) saved to: ' + str(tf_quant_model_path))\n",
    "    \n",
    "    # 2.1 Full integer quantization with input and output in integer too\n",
    "    try:\n",
    "        converter = tf.lite.TFLiteConverter.from_keras_model(model)\n",
    "        converter.optimizations = [tf.lite.Optimize.DEFAULT]\n",
    "        converter.representative_dataset = representative_data_gen\n",
    "        converter.target_spec.supported_ops = [tf.lite.OpsSet.TFLITE_BUILTINS_INT8]\n",
    "        converter.inference_input_type = tf.uint8\n",
    "        converter.inference_output_type = tf.uint8\n",
    "\n",
    "        tflite_model_quant = converter.convert()\n",
    "        tf_quant_model_path = optimized_dir/(model_name + '_full_integer_quantization_integer_io.tflite')\n",
    "        size = tf_quant_model_path.write_bytes(tflite_model_quant)\n",
    "        print('Full integer quantizatized with integer io TFLite model ('+ str(size) +' Bytes) saved to: ' + str(tf_quant_model_path))\n",
    "    except:\n",
    "        print('ERROR: Failed Full integer quantizatized with integer io TFLite model')\n",
    "        \n",
    "    # 3. float16 quantization\n",
    "    converter = tf.lite.TFLiteConverter.from_keras_model(model)\n",
    "    converter.optimizations = [tf.lite.Optimize.DEFAULT]\n",
    "    converter.target_spec.supported_types = [tf.float16]\n",
    "    \n",
    "    tflite_model_quant = converter.convert()\n",
    "    tf_quant_model_path = optimized_dir/(model_name + '_float16_quantization.tflite')\n",
    "    size = tf_quant_model_path.write_bytes(tflite_model_quant)\n",
    "    print('float16 quantizatized TFLite model ('+ str(size) +' Bytes) saved to: ' + str(tf_quant_model_path))\n"
   ]
  },
  {
   "cell_type": "markdown",
   "metadata": {},
   "source": [
    "## Pruning and fine-tuning\n",
    "\n",
    "1. Prune model to different sparsity  ( tf uses magnitude-based pruning )\n",
    "    1. ConstantSparsity - sparsity is kept constant during training.\n",
    "    2. PolynomialDecay - the degree of sparsity is changed during training.\n",
    "2. Fine-tune model\n",
    "\n",
    "https://www.machinecurve.com/index.php/2020/09/29/tensorflow-pruning-schedules-constantsparsity-and-polynomialdecay/"
   ]
  },
  {
   "cell_type": "code",
   "execution_count": 5,
   "metadata": {},
   "outputs": [],
   "source": [
    "BATCH_SIZE = 32\n",
    "PRUNING_EPOCHS = 10\n",
    "prune_low_magnitude = tfmot.sparsity.keras.prune_low_magnitude"
   ]
  },
  {
   "cell_type": "code",
   "execution_count": 6,
   "metadata": {},
   "outputs": [],
   "source": [
    "# Some layers cannot be pruned\n",
    "\n",
    "def prune_prunable_layers(model, pruning_params):\n",
    "    \"\"\"returns model for pruning with avoided non prunable layers\"\"\"\n",
    "    \n",
    "    # Rescaling layer cannot be pruned\n",
    "    def apply_pruning_to_prunable(layer):\n",
    "        if isinstance(layer, tf.keras.layers.experimental.preprocessing.Rescaling) or isinstance(layer, tf.keras.layers.experimental.preprocessing.Normalization):\n",
    "            return layer\n",
    "        return prune_low_magnitude(layer, **pruning_params)\n",
    "    model_for_pruning = tf.keras.models.clone_model(\n",
    "                                model,\n",
    "                                clone_function=apply_pruning_to_prunable,\n",
    "                            )\n",
    "    return model_for_pruning"
   ]
  },
  {
   "cell_type": "code",
   "execution_count": 7,
   "metadata": {},
   "outputs": [],
   "source": [
    "def prune_model(model_path, batch_size, pruning_epochs, ds_train, ds_validation, sparsity):\n",
    "     # check if model was already in optimization folder\n",
    "    if (len(model_path.split('/')[0].split('_')) == 3):\n",
    "        optimized_dir = pathlib.Path(model_path.split('/')[0] + '/')\n",
    "    else:\n",
    "        optimized_dir = pathlib.Path(model_path.split('/')[0] + '_optimized/')\n",
    "    model_name = model_path.split('/')[-1].split('.')[0]\n",
    "    \n",
    "    model = tf.keras.models.load_model(model_path)\n",
    "    \n",
    "    sparsities = [0.5, 0.75, 0.9]\n",
    "    \n",
    "    ds_train = ds_train.batch(batch_size)\n",
    "    ds_validation = ds_validation.batch(batch_size)\n",
    "    \n",
    "    ds_train.cache()\n",
    "    ds_validation.cache()\n",
    "    \n",
    "    # get number of images\n",
    "    num_images = 0\n",
    "    for i in ds_train.as_numpy_iterator():\n",
    "        num_images+=1\n",
    "\n",
    "    end_step = np.ceil(num_images / batch_size).astype(np.int32) * pruning_epochs\n",
    "\n",
    "    # Define pruning configuration\n",
    "    pruning_params_constant = {\n",
    "        'pruning_schedule': tfmot.sparsity.keras.ConstantSparsity(target_sparsity=sparsity,\n",
    "                                                                    begin_step=0,\n",
    "                                                                    end_step=end_step)\n",
    "    }\n",
    "\n",
    "    pruning_params_polynomial = {\n",
    "        'pruning_schedule': tfmot.sparsity.keras.PolynomialDecay(initial_sparsity=0,\n",
    "                                                                final_sparsity=sparsity,\n",
    "                                                                begin_step=0,\n",
    "                                                                end_step=end_step)\n",
    "    }\n",
    "\n",
    "    model_cs = tf.keras.models.clone_model(model)\n",
    "    model_pd = tf.keras.models.clone_model(model)\n",
    "    \n",
    "    # Rescaling layer cannot be wrapped in prune low magnitude\n",
    "    try:\n",
    "        model_for_pruning_constant = prune_low_magnitude(model_cs, **pruning_params_constant)\n",
    "        model_for_pruning_polynomial = prune_low_magnitude(model_pd, **pruning_params_polynomial)\n",
    "    except:\n",
    "        model_for_pruning_constant = prune_prunable_layers(model_cs, pruning_params_constant) \n",
    "        model_for_pruning_polynomial = prune_prunable_layers(model_pd, pruning_params_polynomial)\n",
    "\n",
    "\n",
    "    # Compile models for pruning\n",
    "    model_for_pruning_constant.compile(optimizer='adam',\n",
    "                      loss=tf.keras.losses.SparseCategoricalCrossentropy(from_logits=True),\n",
    "                      metrics=['accuracy'])\n",
    "    model_for_pruning_polynomial.compile(optimizer='adam',\n",
    "                      loss=tf.keras.losses.SparseCategoricalCrossentropy(from_logits=True),\n",
    "                      metrics=['accuracy'])\n",
    "\n",
    "\n",
    "    constant_log_dir = pathlib.Path(\"./tmp/\" + model_name + '_ConstantSparsity' + str(int(sparsity*100)))\n",
    "    constant_log_dir.mkdir(parents=True, exist_ok=True)\n",
    "    polynomial_log_dir = pathlib.Path(\"./tmp/\" + model_name + '_PolynomialDecay' + str(int(sparsity*100)))\n",
    "    polynomial_log_dir.mkdir(parents=True, exist_ok=True)\n",
    "\n",
    "    # Model callbacks\n",
    "    constant_callbacks = [\n",
    "        tfmot.sparsity.keras.UpdatePruningStep(),\n",
    "        tfmot.sparsity.keras.PruningSummaries(log_dir=str(constant_log_dir))\n",
    "    ]\n",
    "    polynomial_callbacks = [\n",
    "        tfmot.sparsity.keras.UpdatePruningStep(),\n",
    "        tfmot.sparsity.keras.PruningSummaries(log_dir=str(polynomial_log_dir))\n",
    "    ]\n",
    "\n",
    "    # Fitting data\n",
    "    model_for_pruning_constant.fit(ds_train,\n",
    "                              validation_data=ds_validation,\n",
    "                              epochs=pruning_epochs,\n",
    "                              callbacks=constant_callbacks)\n",
    "\n",
    "    model_for_pruning_polynomial.fit(ds_train,\n",
    "                              validation_data=ds_validation,\n",
    "                              epochs=pruning_epochs,\n",
    "                              callbacks=polynomial_callbacks)\n",
    "\n",
    "    # Save pruned models\n",
    "    model_constant_path = optimized_dir/(model_name + '_ConstantSparsity' + str(int(sparsity*100)) + '.h5')\n",
    "    model_for_export = tfmot.sparsity.keras.strip_pruning(model_for_pruning_constant)\n",
    "    model_for_export.save(str(model_constant_path))\n",
    "    print('saved ' + str(model_constant_path))\n",
    "\n",
    "    model_polynomial_path = optimized_dir/(model_name + '_PolynomialDecay' + str(int(sparsity*100)) + '.h5')\n",
    "    model_for_export = tfmot.sparsity.keras.strip_pruning(model_for_pruning_polynomial)\n",
    "    model_for_export.save(str(model_polynomial_path))\n",
    "    print('saved ' + str(model_polynomial_path))"
   ]
  },
  {
   "cell_type": "markdown",
   "metadata": {},
   "source": [
    "## Weight clustering"
   ]
  },
  {
   "cell_type": "code",
   "execution_count": 8,
   "metadata": {},
   "outputs": [],
   "source": [
    "cluster_weights = tfmot.clustering.keras.cluster_weights\n",
    "CentroidInitialization = tfmot.clustering.keras.CentroidInitialization"
   ]
  },
  {
   "cell_type": "code",
   "execution_count": 9,
   "metadata": {},
   "outputs": [],
   "source": [
    "# Some layers cannot be weight clustered\n",
    "\n",
    "def cluster_clustred_layers(model, cluster_params):    \n",
    "    # Rescaling layer cannot be pruned\n",
    "    def apply_clustering_to_clusterable(layer):\n",
    "        if model.layers[0] == layer or  model.layers[-1] == layer:\n",
    "            return layer\n",
    "        try:\n",
    "            x = cluster_weights(layer, **cluster_params)\n",
    "            return x\n",
    "        except:\n",
    "            return layer\n",
    "\n",
    "    model_for_clustering = tf.keras.models.clone_model(\n",
    "                                model,\n",
    "                                clone_function=apply_clustering_to_clusterable,\n",
    "                            )\n",
    "    return model_for_clustering"
   ]
  },
  {
   "cell_type": "code",
   "execution_count": 10,
   "metadata": {},
   "outputs": [],
   "source": [
    "def weight_cluster_model(model_path, batch_size, epochs, ds_train, ds_validation, number_of_clusters):\n",
    "    \"\"\" Weight clustering on given moodel \n",
    "    note: cannot use for cycle in this function to do different number of clusters because of compatibility issues\"\"\"\n",
    "     # check if model was already in optimization folder\n",
    "    if (len(model_path.split('/')[0].split('_')) == 3):\n",
    "        optimized_dir = pathlib.Path(model_path.split('/')[0] + '/')\n",
    "    else:\n",
    "        optimized_dir = pathlib.Path(model_path.split('/')[0] + '_optimized/')\n",
    "    model_name = model_path.split('/')[-1].split('.')[0]\n",
    "    \n",
    "    model = tf.keras.models.load_model(model_path)\n",
    "    \n",
    "    ds_train = ds_train.batch(batch_size)\n",
    "    ds_validation = ds_validation.batch(batch_size)\n",
    "    \n",
    "    ds_train.cache()\n",
    "    ds_validation.cache()\n",
    "    \n",
    "    # get number of images\n",
    "    num_images = 0\n",
    "    for i in ds_train.as_numpy_iterator():\n",
    "        num_images+=1\n",
    "\n",
    "    end_step = np.ceil(num_images / batch_size).astype(np.int32) * epochs\n",
    "\n",
    "    # Define weight clustering configuration\n",
    "    cluster_params_kmeans = {\n",
    "                                  'number_of_clusters': number_of_clusters,\n",
    "                                  'cluster_centroids_init': CentroidInitialization.KMEANS_PLUS_PLUS\n",
    "                                }\n",
    "\n",
    "    # Rescaling layer cannot be wrapped in prune low magnitude\n",
    "    try:\n",
    "        model_for_clustering_kmeans = cluster_weights(model, **cluster_params_kmeans)\n",
    "    except:\n",
    "        model_for_clustering_kmeans = cluster_clustred_layers(model, cluster_params_kmeans)\n",
    "\n",
    "    # Compile models for clustering\n",
    "    model_for_clustering_kmeans.compile(optimizer='adam',\n",
    "                      loss=tf.keras.losses.SparseCategoricalCrossentropy(from_logits=True),\n",
    "                      metrics=['accuracy'])\n",
    "\n",
    "    # Fitting data        \n",
    "    model_for_clustering_kmeans.fit(ds_train,\n",
    "                              validation_data=ds_validation,\n",
    "                              epochs=epochs)\n",
    "\n",
    "    # Save pruned models\n",
    "    model_kmeans_path = optimized_dir/(model_name + '_KMeansPlusPlus' + str(number_of_clusters) + '.h5')\n",
    "    model_for_export = tfmot.clustering.keras.strip_clustering(model_for_clustering_kmeans)\n",
    "    model_for_export.save(str(model_kmeans_path))\n",
    "    print('saved ' + str(model_kmeans_path))"
   ]
  },
  {
   "cell_type": "markdown",
   "metadata": {},
   "source": [
    "# optimze models"
   ]
  },
  {
   "cell_type": "code",
   "execution_count": 11,
   "metadata": {},
   "outputs": [],
   "source": [
    "# datasets\n",
    "flowers_datasets = load_flowers_dataset()\n",
    "tf_flowers_datasets = load_tf_flowers_dataset()\n",
    "beans_datasets = load_beans_datasets()"
   ]
  },
  {
   "cell_type": "markdown",
   "metadata": {},
   "source": [
    "### Note\n",
    "\n",
    "Due to bad tensorflow optimization of calling fit function in a loop, calling prune_model in a loop is unusable.\n",
    "Solution: don't use for loops\n",
    "Issue: https://github.com/tensorflow/tensorflow/issues/34025"
   ]
  },
  {
   "cell_type": "markdown",
   "metadata": {},
   "source": [
    "# Only oxford flowers"
   ]
  },
  {
   "cell_type": "code",
   "execution_count": 11,
   "metadata": {},
   "outputs": [
    {
     "name": "stderr",
     "output_type": "stream",
     "text": [
      "/home/macenpav/.conda/envs/ml/lib/python3.9/site-packages/tensorflow/python/keras/engine/base_layer.py:2281: UserWarning: `layer.add_variable` is deprecated and will be removed in a future version. Please use `layer.add_weight` method instead.\n",
      "  warnings.warn('`layer.add_variable` is deprecated and '\n"
     ]
    },
    {
     "name": "stdout",
     "output_type": "stream",
     "text": [
      "Epoch 1/10\n",
      " 6/32 [====>.........................] - ETA: 9s - loss: 4.8381 - accuracy: 0.0028    WARNING:tensorflow:Callback method `on_train_batch_end` is slow compared to the batch time (batch time: 0.0999s vs `on_train_batch_end` time: 0.2080s). Check your callbacks.\n"
     ]
    },
    {
     "name": "stderr",
     "output_type": "stream",
     "text": [
      "WARNING:tensorflow:Callback method `on_train_batch_end` is slow compared to the batch time (batch time: 0.0999s vs `on_train_batch_end` time: 0.2080s). Check your callbacks.\n"
     ]
    },
    {
     "name": "stdout",
     "output_type": "stream",
     "text": [
      "32/32 [==============================] - 45s 600ms/step - loss: 4.8316 - accuracy: 0.0127 - val_loss: 4.6250 - val_accuracy: 0.0098\n",
      "Epoch 2/10\n",
      "32/32 [==============================] - 26s 517ms/step - loss: 4.2679 - accuracy: 0.0583 - val_loss: 4.6255 - val_accuracy: 0.0098\n",
      "Epoch 3/10\n",
      "32/32 [==============================] - 25s 508ms/step - loss: 3.8345 - accuracy: 0.0861 - val_loss: 4.6271 - val_accuracy: 0.0098\n",
      "Epoch 4/10\n",
      "32/32 [==============================] - 27s 536ms/step - loss: 3.4922 - accuracy: 0.1036 - val_loss: 4.6310 - val_accuracy: 0.0098\n",
      "Epoch 5/10\n",
      "32/32 [==============================] - 26s 522ms/step - loss: 3.2784 - accuracy: 0.1798 - val_loss: 4.6390 - val_accuracy: 0.0098\n",
      "Epoch 6/10\n",
      "32/32 [==============================] - 26s 531ms/step - loss: 2.9270 - accuracy: 0.2400 - val_loss: 4.6527 - val_accuracy: 0.0098\n",
      "Epoch 7/10\n",
      "32/32 [==============================] - 26s 520ms/step - loss: 2.7867 - accuracy: 0.2470 - val_loss: 4.6714 - val_accuracy: 0.0098\n",
      "Epoch 8/10\n",
      "32/32 [==============================] - 26s 528ms/step - loss: 2.5370 - accuracy: 0.3255 - val_loss: 4.6985 - val_accuracy: 0.0098\n",
      "Epoch 9/10\n",
      "32/32 [==============================] - 26s 519ms/step - loss: 2.3228 - accuracy: 0.3525 - val_loss: 4.7395 - val_accuracy: 0.0098\n",
      "Epoch 10/10\n",
      "32/32 [==============================] - 26s 537ms/step - loss: 2.2435 - accuracy: 0.3858 - val_loss: 4.7857 - val_accuracy: 0.0098\n",
      "Epoch 1/10\n",
      " 6/32 [====>.........................] - ETA: 17s - loss: 4.9603 - accuracy: 0.0134  WARNING:tensorflow:Callback method `on_train_batch_end` is slow compared to the batch time (batch time: 0.1049s vs `on_train_batch_end` time: 0.4540s). Check your callbacks.\n"
     ]
    },
    {
     "name": "stderr",
     "output_type": "stream",
     "text": [
      "WARNING:tensorflow:Callback method `on_train_batch_end` is slow compared to the batch time (batch time: 0.1049s vs `on_train_batch_end` time: 0.4540s). Check your callbacks.\n"
     ]
    },
    {
     "name": "stdout",
     "output_type": "stream",
     "text": [
      "32/32 [==============================] - 47s 620ms/step - loss: 4.9733 - accuracy: 0.0187 - val_loss: 4.6251 - val_accuracy: 0.0098\n",
      "Epoch 2/10\n",
      "32/32 [==============================] - 27s 542ms/step - loss: 4.1998 - accuracy: 0.0709 - val_loss: 4.6270 - val_accuracy: 0.0098\n",
      "Epoch 3/10\n",
      "32/32 [==============================] - 26s 518ms/step - loss: 3.8128 - accuracy: 0.0999 - val_loss: 4.6355 - val_accuracy: 0.0098\n",
      "Epoch 4/10\n",
      "32/32 [==============================] - 26s 516ms/step - loss: 3.4648 - accuracy: 0.1237 - val_loss: 4.6588 - val_accuracy: 0.0098\n",
      "Epoch 5/10\n",
      "32/32 [==============================] - 27s 529ms/step - loss: 3.3726 - accuracy: 0.1420 - val_loss: 4.6901 - val_accuracy: 0.0098\n",
      "Epoch 6/10\n",
      "32/32 [==============================] - 25s 509ms/step - loss: 2.9196 - accuracy: 0.2130 - val_loss: 4.7612 - val_accuracy: 0.0098\n",
      "Epoch 7/10\n",
      "32/32 [==============================] - 25s 520ms/step - loss: 2.7869 - accuracy: 0.2299 - val_loss: 4.8475 - val_accuracy: 0.0098\n",
      "Epoch 8/10\n",
      "32/32 [==============================] - 27s 540ms/step - loss: 2.4775 - accuracy: 0.3388 - val_loss: 4.9733 - val_accuracy: 0.0098\n",
      "Epoch 9/10\n",
      "32/32 [==============================] - 25s 530ms/step - loss: 2.3199 - accuracy: 0.3863 - val_loss: 5.1027 - val_accuracy: 0.0098\n",
      "Epoch 10/10\n",
      "32/32 [==============================] - 27s 544ms/step - loss: 2.2212 - accuracy: 0.3728 - val_loss: 5.2829 - val_accuracy: 0.0098\n",
      "saved flowers_models_optimized/MobileNetV2_flowers_model_ConstantSparsity50.h5\n",
      "saved flowers_models_optimized/MobileNetV2_flowers_model_PolynomialDecay50.h5\n",
      "Epoch 1/10\n",
      " 6/32 [====>.........................] - ETA: 15s - loss: 4.7186 - accuracy: 0.0144  WARNING:tensorflow:Callback method `on_train_batch_end` is slow compared to the batch time (batch time: 0.1051s vs `on_train_batch_end` time: 0.4004s). Check your callbacks.\n"
     ]
    },
    {
     "name": "stderr",
     "output_type": "stream",
     "text": [
      "WARNING:tensorflow:Callback method `on_train_batch_end` is slow compared to the batch time (batch time: 0.1051s vs `on_train_batch_end` time: 0.4004s). Check your callbacks.\n"
     ]
    },
    {
     "name": "stdout",
     "output_type": "stream",
     "text": [
      "32/32 [==============================] - 43s 587ms/step - loss: 4.7269 - accuracy: 0.0151 - val_loss: 4.6250 - val_accuracy: 0.0098\n",
      "Epoch 2/10\n",
      "32/32 [==============================] - 25s 497ms/step - loss: 4.3269 - accuracy: 0.0495 - val_loss: 4.6251 - val_accuracy: 0.0098\n",
      "Epoch 3/10\n",
      "32/32 [==============================] - 26s 533ms/step - loss: 3.8916 - accuracy: 0.0797 - val_loss: 4.6254 - val_accuracy: 0.0098\n",
      "Epoch 4/10\n",
      "32/32 [==============================] - 25s 513ms/step - loss: 3.6154 - accuracy: 0.1078 - val_loss: 4.6260 - val_accuracy: 0.0098\n",
      "Epoch 5/10\n",
      "32/32 [==============================] - 26s 532ms/step - loss: 3.2835 - accuracy: 0.2037 - val_loss: 4.6273 - val_accuracy: 0.0098\n",
      "Epoch 6/10\n",
      "32/32 [==============================] - 26s 534ms/step - loss: 3.0053 - accuracy: 0.2262 - val_loss: 4.6294 - val_accuracy: 0.0098\n",
      "Epoch 7/10\n",
      "32/32 [==============================] - 26s 535ms/step - loss: 2.9183 - accuracy: 0.2177 - val_loss: 4.6327 - val_accuracy: 0.0098\n",
      "Epoch 8/10\n",
      "32/32 [==============================] - 25s 502ms/step - loss: 2.6663 - accuracy: 0.3217 - val_loss: 4.6368 - val_accuracy: 0.0098\n",
      "Epoch 9/10\n",
      "32/32 [==============================] - 26s 522ms/step - loss: 2.5159 - accuracy: 0.3463 - val_loss: 4.6419 - val_accuracy: 0.0098\n",
      "Epoch 10/10\n",
      "32/32 [==============================] - 26s 530ms/step - loss: 2.2516 - accuracy: 0.3899 - val_loss: 4.6501 - val_accuracy: 0.0098\n",
      "Epoch 1/10\n",
      " 6/32 [====>.........................] - ETA: 16s - loss: 4.8247 - accuracy: 0.0134  WARNING:tensorflow:Callback method `on_train_batch_end` is slow compared to the batch time (batch time: 0.1045s vs `on_train_batch_end` time: 0.4194s). Check your callbacks.\n"
     ]
    },
    {
     "name": "stderr",
     "output_type": "stream",
     "text": [
      "WARNING:tensorflow:Callback method `on_train_batch_end` is slow compared to the batch time (batch time: 0.1045s vs `on_train_batch_end` time: 0.4194s). Check your callbacks.\n"
     ]
    },
    {
     "name": "stdout",
     "output_type": "stream",
     "text": [
      "32/32 [==============================] - 47s 625ms/step - loss: 4.9860 - accuracy: 0.0155 - val_loss: 4.6251 - val_accuracy: 0.0098\n",
      "Epoch 2/10\n",
      "32/32 [==============================] - 26s 523ms/step - loss: 4.3535 - accuracy: 0.0412 - val_loss: 4.6273 - val_accuracy: 0.0098\n",
      "Epoch 3/10\n",
      "32/32 [==============================] - 26s 538ms/step - loss: 3.8514 - accuracy: 0.0805 - val_loss: 4.6379 - val_accuracy: 0.0098\n",
      "Epoch 4/10\n",
      "32/32 [==============================] - 26s 519ms/step - loss: 3.5391 - accuracy: 0.1232 - val_loss: 4.6587 - val_accuracy: 0.0098\n",
      "Epoch 5/10\n",
      "32/32 [==============================] - 26s 510ms/step - loss: 3.2921 - accuracy: 0.1770 - val_loss: 4.6941 - val_accuracy: 0.0098\n",
      "Epoch 6/10\n",
      "32/32 [==============================] - 26s 517ms/step - loss: 3.1739 - accuracy: 0.1770 - val_loss: 4.7434 - val_accuracy: 0.0098\n",
      "Epoch 7/10\n",
      "32/32 [==============================] - 26s 543ms/step - loss: 2.9019 - accuracy: 0.2268 - val_loss: 4.8111 - val_accuracy: 0.0098\n",
      "Epoch 8/10\n",
      "32/32 [==============================] - 26s 521ms/step - loss: 2.8283 - accuracy: 0.2377 - val_loss: 4.8928 - val_accuracy: 0.0098\n",
      "Epoch 9/10\n",
      "32/32 [==============================] - 26s 536ms/step - loss: 2.5702 - accuracy: 0.2764 - val_loss: 5.0031 - val_accuracy: 0.0098\n",
      "Epoch 10/10\n",
      "32/32 [==============================] - 26s 534ms/step - loss: 2.5212 - accuracy: 0.2903 - val_loss: 5.1069 - val_accuracy: 0.0098\n",
      "saved flowers_models_optimized/MobileNetV2_flowers_model_ConstantSparsity75.h5\n",
      "saved flowers_models_optimized/MobileNetV2_flowers_model_PolynomialDecay75.h5\n",
      "Epoch 1/10\n",
      " 6/32 [====>.........................] - ETA: 16s - loss: 4.6773 - accuracy: 0.0116  WARNING:tensorflow:Callback method `on_train_batch_end` is slow compared to the batch time (batch time: 0.1048s vs `on_train_batch_end` time: 0.4273s). Check your callbacks.\n"
     ]
    },
    {
     "name": "stderr",
     "output_type": "stream",
     "text": [
      "WARNING:tensorflow:Callback method `on_train_batch_end` is slow compared to the batch time (batch time: 0.1048s vs `on_train_batch_end` time: 0.4273s). Check your callbacks.\n"
     ]
    },
    {
     "name": "stdout",
     "output_type": "stream",
     "text": [
      "32/32 [==============================] - 44s 638ms/step - loss: 4.6651 - accuracy: 0.0131 - val_loss: 4.6250 - val_accuracy: 0.0098\n",
      "Epoch 2/10\n",
      "32/32 [==============================] - 25s 524ms/step - loss: 4.4289 - accuracy: 0.0401 - val_loss: 4.6250 - val_accuracy: 0.0098\n",
      "Epoch 3/10\n",
      "32/32 [==============================] - 27s 535ms/step - loss: 4.2493 - accuracy: 0.0472 - val_loss: 4.6251 - val_accuracy: 0.0098\n",
      "Epoch 4/10\n",
      "32/32 [==============================] - 26s 537ms/step - loss: 3.9225 - accuracy: 0.1003 - val_loss: 4.6253 - val_accuracy: 0.0098\n",
      "Epoch 5/10\n",
      "32/32 [==============================] - 26s 522ms/step - loss: 3.7224 - accuracy: 0.1294 - val_loss: 4.6256 - val_accuracy: 0.0098\n",
      "Epoch 6/10\n",
      "32/32 [==============================] - 25s 515ms/step - loss: 3.4913 - accuracy: 0.1602 - val_loss: 4.6261 - val_accuracy: 0.0098\n",
      "Epoch 7/10\n",
      "32/32 [==============================] - 26s 530ms/step - loss: 3.2872 - accuracy: 0.1759 - val_loss: 4.6269 - val_accuracy: 0.0098\n",
      "Epoch 8/10\n",
      "32/32 [==============================] - 26s 519ms/step - loss: 3.1035 - accuracy: 0.2133 - val_loss: 4.6280 - val_accuracy: 0.0098\n",
      "Epoch 9/10\n",
      "32/32 [==============================] - 26s 524ms/step - loss: 3.0498 - accuracy: 0.2347 - val_loss: 4.6293 - val_accuracy: 0.0098\n",
      "Epoch 10/10\n",
      "32/32 [==============================] - 26s 526ms/step - loss: 2.8006 - accuracy: 0.3180 - val_loss: 4.6309 - val_accuracy: 0.0098\n",
      "Epoch 1/10\n",
      " 6/32 [====>.........................] - ETA: 15s - loss: 5.0050 - accuracy: 0.0084  WARNING:tensorflow:Callback method `on_train_batch_end` is slow compared to the batch time (batch time: 0.1058s vs `on_train_batch_end` time: 0.4071s). Check your callbacks.\n"
     ]
    },
    {
     "name": "stderr",
     "output_type": "stream",
     "text": [
      "WARNING:tensorflow:Callback method `on_train_batch_end` is slow compared to the batch time (batch time: 0.1058s vs `on_train_batch_end` time: 0.4071s). Check your callbacks.\n"
     ]
    },
    {
     "name": "stdout",
     "output_type": "stream",
     "text": [
      "32/32 [==============================] - 47s 616ms/step - loss: 5.0254 - accuracy: 0.0107 - val_loss: 4.6251 - val_accuracy: 0.0098\n",
      "Epoch 2/10\n",
      "32/32 [==============================] - 26s 520ms/step - loss: 4.3052 - accuracy: 0.0493 - val_loss: 4.6274 - val_accuracy: 0.0098\n",
      "Epoch 3/10\n",
      "32/32 [==============================] - 26s 535ms/step - loss: 3.9287 - accuracy: 0.0759 - val_loss: 4.6388 - val_accuracy: 0.0098\n",
      "Epoch 4/10\n",
      "32/32 [==============================] - 26s 510ms/step - loss: 3.6379 - accuracy: 0.0870 - val_loss: 4.6674 - val_accuracy: 0.0098\n",
      "Epoch 5/10\n",
      "32/32 [==============================] - 27s 538ms/step - loss: 3.3329 - accuracy: 0.1688 - val_loss: 4.7138 - val_accuracy: 0.0098\n",
      "Epoch 6/10\n",
      "32/32 [==============================] - 26s 521ms/step - loss: 3.1947 - accuracy: 0.1687 - val_loss: 4.7953 - val_accuracy: 0.0098\n",
      "Epoch 7/10\n",
      "32/32 [==============================] - 26s 529ms/step - loss: 2.9801 - accuracy: 0.2087 - val_loss: 4.8738 - val_accuracy: 0.0098\n",
      "Epoch 8/10\n",
      "32/32 [==============================] - 26s 531ms/step - loss: 2.7841 - accuracy: 0.2468 - val_loss: 5.0195 - val_accuracy: 0.0098\n",
      "Epoch 9/10\n",
      "32/32 [==============================] - 26s 530ms/step - loss: 2.6769 - accuracy: 0.2548 - val_loss: 5.1412 - val_accuracy: 0.0098\n",
      "Epoch 10/10\n",
      "32/32 [==============================] - 25s 514ms/step - loss: 2.4103 - accuracy: 0.3360 - val_loss: 5.3337 - val_accuracy: 0.0098\n",
      "saved flowers_models_optimized/MobileNetV2_flowers_model_ConstantSparsity90.h5\n",
      "saved flowers_models_optimized/MobileNetV2_flowers_model_PolynomialDecay90.h5\n"
     ]
    }
   ],
   "source": [
    "# todo odtud\n",
    "prune_model(model_path='flowers_models/MobileNetV2_flowers_model.h5', \n",
    "            ds_train=flowers_datasets[0], \n",
    "            ds_validation=flowers_datasets[1],\n",
    "            batch_size=BATCH_SIZE, \n",
    "            pruning_epochs=PRUNING_EPOCHS,\n",
    "            sparsity=0.5)\n",
    "prune_model(model_path='flowers_models/MobileNetV2_flowers_model.h5', \n",
    "            ds_train=flowers_datasets[0], \n",
    "            ds_validation=flowers_datasets[1],\n",
    "            batch_size=BATCH_SIZE, \n",
    "            pruning_epochs=PRUNING_EPOCHS,\n",
    "            sparsity=0.75)\n",
    "prune_model(model_path='flowers_models/MobileNetV2_flowers_model.h5', \n",
    "            ds_train=flowers_datasets[0], \n",
    "            ds_validation=flowers_datasets[1],\n",
    "            batch_size=BATCH_SIZE, \n",
    "            pruning_epochs=PRUNING_EPOCHS,\n",
    "            sparsity=0.9)"
   ]
  },
  {
   "cell_type": "code",
   "execution_count": 12,
   "metadata": {},
   "outputs": [
    {
     "name": "stdout",
     "output_type": "stream",
     "text": [
      "Epoch 1/10\n",
      " 6/32 [====>.........................] - ETA: 27s - loss: 4.8031 - accuracy: 0.0000e+00WARNING:tensorflow:Callback method `on_train_batch_end` is slow compared to the batch time (batch time: 0.1683s vs `on_train_batch_end` time: 0.7076s). Check your callbacks.\n"
     ]
    },
    {
     "name": "stderr",
     "output_type": "stream",
     "text": [
      "WARNING:tensorflow:Callback method `on_train_batch_end` is slow compared to the batch time (batch time: 0.1683s vs `on_train_batch_end` time: 0.7076s). Check your callbacks.\n"
     ]
    },
    {
     "name": "stdout",
     "output_type": "stream",
     "text": [
      "32/32 [==============================] - 61s 822ms/step - loss: 4.7862 - accuracy: 0.0058 - val_loss: 4.6320 - val_accuracy: 0.0098\n",
      "Epoch 2/10\n",
      "32/32 [==============================] - 30s 664ms/step - loss: 4.6143 - accuracy: 0.0236 - val_loss: 4.6856 - val_accuracy: 0.0098\n",
      "Epoch 3/10\n",
      "32/32 [==============================] - 31s 681ms/step - loss: 4.2524 - accuracy: 0.0578 - val_loss: 4.8117 - val_accuracy: 0.0098\n",
      "Epoch 4/10\n",
      "32/32 [==============================] - 30s 658ms/step - loss: 4.0020 - accuracy: 0.0683 - val_loss: 5.0508 - val_accuracy: 0.0098\n",
      "Epoch 5/10\n",
      "32/32 [==============================] - 31s 670ms/step - loss: 3.6770 - accuracy: 0.1141 - val_loss: 5.7073 - val_accuracy: 0.0098\n",
      "Epoch 6/10\n",
      "32/32 [==============================] - 31s 663ms/step - loss: 3.4377 - accuracy: 0.1493 - val_loss: 5.9086 - val_accuracy: 0.0098\n",
      "Epoch 7/10\n",
      "32/32 [==============================] - 30s 646ms/step - loss: 3.0288 - accuracy: 0.2520 - val_loss: 5.8346 - val_accuracy: 0.0098\n",
      "Epoch 8/10\n",
      "32/32 [==============================] - 30s 652ms/step - loss: 2.6648 - accuracy: 0.3117 - val_loss: 6.6012 - val_accuracy: 0.0098\n",
      "Epoch 9/10\n",
      "32/32 [==============================] - 30s 657ms/step - loss: 2.3368 - accuracy: 0.4014 - val_loss: 6.1969 - val_accuracy: 0.0098\n",
      "Epoch 10/10\n",
      "32/32 [==============================] - 30s 640ms/step - loss: 2.0142 - accuracy: 0.4673 - val_loss: 8.2618 - val_accuracy: 0.0098\n",
      "Epoch 1/10\n",
      " 6/32 [====>.........................] - ETA: 27s - loss: 4.8881 - accuracy: 0.0108  WARNING:tensorflow:Callback method `on_train_batch_end` is slow compared to the batch time (batch time: 0.1691s vs `on_train_batch_end` time: 0.7167s). Check your callbacks.\n"
     ]
    },
    {
     "name": "stderr",
     "output_type": "stream",
     "text": [
      "WARNING:tensorflow:Callback method `on_train_batch_end` is slow compared to the batch time (batch time: 0.1691s vs `on_train_batch_end` time: 0.7167s). Check your callbacks.\n"
     ]
    },
    {
     "name": "stdout",
     "output_type": "stream",
     "text": [
      "32/32 [==============================] - 66s 808ms/step - loss: 4.9239 - accuracy: 0.0130 - val_loss: 4.6513 - val_accuracy: 0.0098\n",
      "Epoch 2/10\n",
      "32/32 [==============================] - 31s 658ms/step - loss: 4.5233 - accuracy: 0.0423 - val_loss: 5.1214 - val_accuracy: 0.0098\n",
      "Epoch 3/10\n",
      "32/32 [==============================] - 31s 685ms/step - loss: 4.1495 - accuracy: 0.0380 - val_loss: 6.3388 - val_accuracy: 0.0098\n",
      "Epoch 4/10\n",
      "32/32 [==============================] - 30s 670ms/step - loss: 3.8890 - accuracy: 0.0860 - val_loss: 7.6942 - val_accuracy: 0.0098\n",
      "Epoch 5/10\n",
      "32/32 [==============================] - 31s 675ms/step - loss: 3.5373 - accuracy: 0.1295 - val_loss: 6.6654 - val_accuracy: 0.0098\n",
      "Epoch 6/10\n",
      "32/32 [==============================] - 30s 651ms/step - loss: 3.2378 - accuracy: 0.1499 - val_loss: 6.3845 - val_accuracy: 0.0098\n",
      "Epoch 7/10\n",
      "32/32 [==============================] - 30s 672ms/step - loss: 2.9506 - accuracy: 0.1999 - val_loss: 8.2552 - val_accuracy: 0.0098\n",
      "Epoch 8/10\n",
      "32/32 [==============================] - 31s 665ms/step - loss: 2.6385 - accuracy: 0.2821 - val_loss: 8.1340 - val_accuracy: 0.0098\n",
      "Epoch 9/10\n",
      "32/32 [==============================] - 30s 658ms/step - loss: 2.4936 - accuracy: 0.3052 - val_loss: 6.5293 - val_accuracy: 0.0098\n",
      "Epoch 10/10\n",
      "32/32 [==============================] - 31s 686ms/step - loss: 2.0959 - accuracy: 0.4211 - val_loss: 7.3236 - val_accuracy: 0.0098\n",
      "saved flowers_models_optimized/EfficentNetB0_flowers_model_ConstantSparsity50.h5\n",
      "saved flowers_models_optimized/EfficentNetB0_flowers_model_PolynomialDecay50.h5\n",
      "Epoch 1/10\n",
      " 6/32 [====>.........................] - ETA: 26s - loss: 4.6722 - accuracy: 0.0120  WARNING:tensorflow:Callback method `on_train_batch_end` is slow compared to the batch time (batch time: 0.1637s vs `on_train_batch_end` time: 0.7047s). Check your callbacks.\n"
     ]
    },
    {
     "name": "stderr",
     "output_type": "stream",
     "text": [
      "WARNING:tensorflow:Callback method `on_train_batch_end` is slow compared to the batch time (batch time: 0.1637s vs `on_train_batch_end` time: 0.7047s). Check your callbacks.\n"
     ]
    },
    {
     "name": "stdout",
     "output_type": "stream",
     "text": [
      "32/32 [==============================] - 62s 817ms/step - loss: 4.6796 - accuracy: 0.0136 - val_loss: 4.6270 - val_accuracy: 0.0098\n",
      "Epoch 2/10\n",
      "32/32 [==============================] - 29s 656ms/step - loss: 4.4711 - accuracy: 0.0383 - val_loss: 4.6390 - val_accuracy: 0.0098\n",
      "Epoch 3/10\n",
      "32/32 [==============================] - 31s 671ms/step - loss: 4.3622 - accuracy: 0.0323 - val_loss: 4.6762 - val_accuracy: 0.0098\n",
      "Epoch 4/10\n",
      "32/32 [==============================] - 30s 652ms/step - loss: 4.1372 - accuracy: 0.0823 - val_loss: 4.8750 - val_accuracy: 0.0098\n",
      "Epoch 5/10\n",
      "32/32 [==============================] - 30s 642ms/step - loss: 3.8946 - accuracy: 0.1002 - val_loss: 5.1109 - val_accuracy: 0.0098\n",
      "Epoch 6/10\n",
      "32/32 [==============================] - 30s 652ms/step - loss: 3.5624 - accuracy: 0.1433 - val_loss: 5.7750 - val_accuracy: 0.0098\n",
      "Epoch 7/10\n",
      "32/32 [==============================] - 31s 682ms/step - loss: 3.2801 - accuracy: 0.2252 - val_loss: 5.8624 - val_accuracy: 0.0098\n",
      "Epoch 8/10\n",
      "32/32 [==============================] - 30s 655ms/step - loss: 2.9924 - accuracy: 0.2733 - val_loss: 6.2136 - val_accuracy: 0.0098\n",
      "Epoch 9/10\n",
      "32/32 [==============================] - 30s 660ms/step - loss: 2.7185 - accuracy: 0.3389 - val_loss: 6.2338 - val_accuracy: 0.0098\n",
      "Epoch 10/10\n",
      "32/32 [==============================] - 30s 654ms/step - loss: 2.4658 - accuracy: 0.3875 - val_loss: 6.7909 - val_accuracy: 0.0098\n",
      "Epoch 1/10\n",
      " 6/32 [====>.........................] - ETA: 25s - loss: 4.9178 - accuracy: 0.0000e+00WARNING:tensorflow:Callback method `on_train_batch_end` is slow compared to the batch time (batch time: 0.1677s vs `on_train_batch_end` time: 0.6662s). Check your callbacks.\n"
     ]
    },
    {
     "name": "stderr",
     "output_type": "stream",
     "text": [
      "WARNING:tensorflow:Callback method `on_train_batch_end` is slow compared to the batch time (batch time: 0.1677s vs `on_train_batch_end` time: 0.6662s). Check your callbacks.\n"
     ]
    },
    {
     "name": "stdout",
     "output_type": "stream",
     "text": [
      "32/32 [==============================] - 65s 809ms/step - loss: 4.9766 - accuracy: 0.0031 - val_loss: 4.6547 - val_accuracy: 0.0098\n",
      "Epoch 2/10\n",
      "32/32 [==============================] - 30s 674ms/step - loss: 4.5446 - accuracy: 0.0251 - val_loss: 4.8885 - val_accuracy: 0.0098\n",
      "Epoch 3/10\n",
      "32/32 [==============================] - 32s 687ms/step - loss: 4.1804 - accuracy: 0.0380 - val_loss: 5.2163 - val_accuracy: 0.0098\n",
      "Epoch 4/10\n",
      "32/32 [==============================] - 30s 657ms/step - loss: 3.8363 - accuracy: 0.0779 - val_loss: 5.9945 - val_accuracy: 0.0098\n",
      "Epoch 5/10\n",
      "32/32 [==============================] - 31s 680ms/step - loss: 3.5090 - accuracy: 0.1189 - val_loss: 6.5582 - val_accuracy: 0.0098\n",
      "Epoch 6/10\n",
      "32/32 [==============================] - 31s 666ms/step - loss: 3.3061 - accuracy: 0.1307 - val_loss: 6.4382 - val_accuracy: 0.0098\n",
      "Epoch 7/10\n",
      "32/32 [==============================] - 30s 675ms/step - loss: 3.0679 - accuracy: 0.1735 - val_loss: 7.5889 - val_accuracy: 0.0098\n",
      "Epoch 8/10\n",
      "32/32 [==============================] - 31s 674ms/step - loss: 2.6735 - accuracy: 0.2698 - val_loss: 11.7747 - val_accuracy: 0.0098\n",
      "Epoch 9/10\n",
      "32/32 [==============================] - 29s 639ms/step - loss: 2.4766 - accuracy: 0.3093 - val_loss: 7.6438 - val_accuracy: 0.0098\n",
      "Epoch 10/10\n",
      "32/32 [==============================] - 30s 646ms/step - loss: 2.1761 - accuracy: 0.3552 - val_loss: 10.2861 - val_accuracy: 0.0108\n",
      "saved flowers_models_optimized/EfficentNetB0_flowers_model_ConstantSparsity75.h5\n",
      "saved flowers_models_optimized/EfficentNetB0_flowers_model_PolynomialDecay75.h5\n",
      "Epoch 1/10\n",
      " 6/32 [====>.........................] - ETA: 24s - loss: 4.6950 - accuracy: 0.0084  WARNING:tensorflow:Callback method `on_train_batch_end` is slow compared to the batch time (batch time: 0.1595s vs `on_train_batch_end` time: 0.6365s). Check your callbacks.\n"
     ]
    },
    {
     "name": "stderr",
     "output_type": "stream",
     "text": [
      "WARNING:tensorflow:Callback method `on_train_batch_end` is slow compared to the batch time (batch time: 0.1595s vs `on_train_batch_end` time: 0.6365s). Check your callbacks.\n"
     ]
    },
    {
     "name": "stdout",
     "output_type": "stream",
     "text": [
      "32/32 [==============================] - 66s 808ms/step - loss: 4.6443 - accuracy: 0.0142 - val_loss: 4.6252 - val_accuracy: 0.0098\n",
      "Epoch 2/10\n",
      "32/32 [==============================] - 30s 658ms/step - loss: 4.5069 - accuracy: 0.0423 - val_loss: 4.6275 - val_accuracy: 0.0098\n",
      "Epoch 3/10\n",
      "32/32 [==============================] - 30s 658ms/step - loss: 4.4018 - accuracy: 0.0384 - val_loss: 4.6357 - val_accuracy: 0.0098\n",
      "Epoch 4/10\n",
      "32/32 [==============================] - 31s 662ms/step - loss: 4.2541 - accuracy: 0.0658 - val_loss: 4.6536 - val_accuracy: 0.0098\n",
      "Epoch 5/10\n",
      "32/32 [==============================] - 31s 664ms/step - loss: 4.1398 - accuracy: 0.0627 - val_loss: 4.6877 - val_accuracy: 0.0098\n",
      "Epoch 6/10\n",
      "32/32 [==============================] - 30s 663ms/step - loss: 3.9166 - accuracy: 0.0987 - val_loss: 4.7555 - val_accuracy: 0.0098\n",
      "Epoch 7/10\n",
      "32/32 [==============================] - 30s 674ms/step - loss: 3.7136 - accuracy: 0.1253 - val_loss: 4.9345 - val_accuracy: 0.0098\n",
      "Epoch 8/10\n",
      "32/32 [==============================] - 31s 670ms/step - loss: 3.5801 - accuracy: 0.1375 - val_loss: 5.1086 - val_accuracy: 0.0098\n",
      "Epoch 9/10\n",
      "32/32 [==============================] - 31s 674ms/step - loss: 3.4030 - accuracy: 0.1579 - val_loss: 5.5260 - val_accuracy: 0.0098\n",
      "Epoch 10/10\n",
      "32/32 [==============================] - 30s 664ms/step - loss: 3.1844 - accuracy: 0.2190 - val_loss: 5.3619 - val_accuracy: 0.0098\n",
      "Epoch 1/10\n",
      " 6/32 [====>.........................] - ETA: 26s - loss: 4.8343 - accuracy: 0.0073  WARNING:tensorflow:Callback method `on_train_batch_end` is slow compared to the batch time (batch time: 0.1695s vs `on_train_batch_end` time: 0.6785s). Check your callbacks.\n"
     ]
    },
    {
     "name": "stderr",
     "output_type": "stream",
     "text": [
      "WARNING:tensorflow:Callback method `on_train_batch_end` is slow compared to the batch time (batch time: 0.1695s vs `on_train_batch_end` time: 0.6785s). Check your callbacks.\n"
     ]
    },
    {
     "name": "stdout",
     "output_type": "stream",
     "text": [
      "32/32 [==============================] - 65s 810ms/step - loss: 4.8731 - accuracy: 0.0116 - val_loss: 4.6472 - val_accuracy: 0.0098\n",
      "Epoch 2/10\n",
      "32/32 [==============================] - 31s 675ms/step - loss: 4.4743 - accuracy: 0.0409 - val_loss: 4.7992 - val_accuracy: 0.0098\n",
      "Epoch 3/10\n",
      "32/32 [==============================] - 30s 682ms/step - loss: 4.1172 - accuracy: 0.0658 - val_loss: 5.0505 - val_accuracy: 0.0098\n",
      "Epoch 4/10\n",
      "32/32 [==============================] - 30s 668ms/step - loss: 3.8661 - accuracy: 0.0676 - val_loss: 6.6533 - val_accuracy: 0.0098\n",
      "Epoch 5/10\n",
      "32/32 [==============================] - 30s 642ms/step - loss: 3.5463 - accuracy: 0.1233 - val_loss: 7.3685 - val_accuracy: 0.0098\n",
      "Epoch 6/10\n",
      "32/32 [==============================] - 30s 649ms/step - loss: 3.2992 - accuracy: 0.1552 - val_loss: 6.7825 - val_accuracy: 0.0098\n",
      "Epoch 7/10\n",
      "32/32 [==============================] - 30s 651ms/step - loss: 3.0457 - accuracy: 0.1992 - val_loss: 8.9527 - val_accuracy: 0.0098\n",
      "Epoch 8/10\n",
      "32/32 [==============================] - 31s 673ms/step - loss: 2.8002 - accuracy: 0.2401 - val_loss: 7.9395 - val_accuracy: 0.0098\n",
      "Epoch 9/10\n",
      "32/32 [==============================] - 31s 667ms/step - loss: 2.4861 - accuracy: 0.3224 - val_loss: 9.6831 - val_accuracy: 0.0098\n",
      "Epoch 10/10\n",
      "32/32 [==============================] - 30s 667ms/step - loss: 2.2321 - accuracy: 0.3745 - val_loss: 9.6792 - val_accuracy: 0.0098\n",
      "saved flowers_models_optimized/EfficentNetB0_flowers_model_ConstantSparsity90.h5\n",
      "saved flowers_models_optimized/EfficentNetB0_flowers_model_PolynomialDecay90.h5\n"
     ]
    }
   ],
   "source": [
    "prune_model(model_path='flowers_models/EfficentNetB0_flowers_model.h5', \n",
    "            ds_train=flowers_datasets[0], \n",
    "            ds_validation=flowers_datasets[1], \n",
    "            batch_size=BATCH_SIZE, \n",
    "            pruning_epochs=PRUNING_EPOCHS,\n",
    "            sparsity=0.5)\n",
    "prune_model(model_path='flowers_models/EfficentNetB0_flowers_model.h5', \n",
    "            ds_train=flowers_datasets[0], \n",
    "            ds_validation=flowers_datasets[1], \n",
    "            batch_size=BATCH_SIZE, \n",
    "            pruning_epochs=PRUNING_EPOCHS,\n",
    "            sparsity=0.75)\n",
    "prune_model(model_path='flowers_models/EfficentNetB0_flowers_model.h5', \n",
    "            ds_train=flowers_datasets[0], \n",
    "            ds_validation=flowers_datasets[1], \n",
    "            batch_size=BATCH_SIZE, \n",
    "            pruning_epochs=PRUNING_EPOCHS,\n",
    "            sparsity=0.9)"
   ]
  },
  {
   "cell_type": "code",
   "execution_count": 13,
   "metadata": {},
   "outputs": [
    {
     "name": "stdout",
     "output_type": "stream",
     "text": [
      "Epoch 1/10\n",
      "32/32 [==============================] - 32s 533ms/step - loss: 8.2054 - accuracy: 0.1695 - val_loss: 4.1890 - val_accuracy: 0.2020\n",
      "Epoch 2/10\n",
      "32/32 [==============================] - 26s 509ms/step - loss: 0.6522 - accuracy: 0.8379 - val_loss: 6.6768 - val_accuracy: 0.2176\n",
      "Epoch 3/10\n",
      "32/32 [==============================] - 26s 503ms/step - loss: 0.1261 - accuracy: 0.9644 - val_loss: 5.0541 - val_accuracy: 0.2284\n",
      "Epoch 4/10\n",
      "32/32 [==============================] - 26s 511ms/step - loss: 0.1162 - accuracy: 0.9578 - val_loss: 6.5619 - val_accuracy: 0.2029\n",
      "Epoch 5/10\n",
      "32/32 [==============================] - 26s 519ms/step - loss: 0.0952 - accuracy: 0.9755 - val_loss: 5.8236 - val_accuracy: 0.2275\n",
      "Epoch 6/10\n",
      "32/32 [==============================] - 26s 519ms/step - loss: 0.0575 - accuracy: 0.9799 - val_loss: 5.6476 - val_accuracy: 0.2265\n",
      "Epoch 7/10\n",
      "32/32 [==============================] - 25s 503ms/step - loss: 0.0611 - accuracy: 0.9818 - val_loss: 5.2441 - val_accuracy: 0.2324\n",
      "Epoch 8/10\n",
      "32/32 [==============================] - 26s 501ms/step - loss: 0.1494 - accuracy: 0.9543 - val_loss: 5.8449 - val_accuracy: 0.2176\n",
      "Epoch 9/10\n",
      "32/32 [==============================] - 26s 503ms/step - loss: 0.0997 - accuracy: 0.9644 - val_loss: 5.4371 - val_accuracy: 0.2265\n",
      "Epoch 10/10\n",
      "32/32 [==============================] - 25s 500ms/step - loss: 0.1664 - accuracy: 0.9508 - val_loss: 6.8877 - val_accuracy: 0.2029\n",
      "saved flowers_models_optimized/MobileNetV2_flowers_model_KMeansPlusPlus32.h5\n",
      "Epoch 1/10\n",
      "32/32 [==============================] - 31s 543ms/step - loss: 8.0727 - accuracy: 0.1515 - val_loss: 4.3473 - val_accuracy: 0.0980\n",
      "Epoch 2/10\n",
      "32/32 [==============================] - 26s 501ms/step - loss: 2.4765 - accuracy: 0.3955 - val_loss: 5.6133 - val_accuracy: 0.2118\n",
      "Epoch 3/10\n",
      "32/32 [==============================] - 26s 515ms/step - loss: 0.1934 - accuracy: 0.9409 - val_loss: 5.3392 - val_accuracy: 0.2186\n",
      "Epoch 4/10\n",
      "32/32 [==============================] - 25s 503ms/step - loss: 0.1142 - accuracy: 0.9640 - val_loss: 6.0814 - val_accuracy: 0.2431\n",
      "Epoch 5/10\n",
      "32/32 [==============================] - 25s 509ms/step - loss: 0.1302 - accuracy: 0.9559 - val_loss: 4.7992 - val_accuracy: 0.2196\n",
      "Epoch 6/10\n",
      "32/32 [==============================] - 26s 510ms/step - loss: 0.3043 - accuracy: 0.9025 - val_loss: 5.5405 - val_accuracy: 0.2245\n",
      "Epoch 7/10\n",
      "32/32 [==============================] - 26s 515ms/step - loss: 0.2197 - accuracy: 0.9215 - val_loss: 5.9648 - val_accuracy: 0.2314\n",
      "Epoch 8/10\n",
      "32/32 [==============================] - 25s 507ms/step - loss: 0.0963 - accuracy: 0.9726 - val_loss: 5.7135 - val_accuracy: 0.2186\n",
      "Epoch 9/10\n",
      "32/32 [==============================] - 25s 510ms/step - loss: 0.1017 - accuracy: 0.9628 - val_loss: 4.9371 - val_accuracy: 0.2118\n",
      "Epoch 10/10\n",
      "32/32 [==============================] - 26s 533ms/step - loss: 0.0931 - accuracy: 0.9681 - val_loss: 5.5824 - val_accuracy: 0.2422\n",
      "saved flowers_models_optimized/MobileNetV2_flowers_model_KMeansPlusPlus128.h5\n"
     ]
    }
   ],
   "source": [
    "weight_cluster_model(model_path='flowers_models/MobileNetV2_flowers_model.h5', \n",
    "                     ds_train=flowers_datasets[0], \n",
    "                     ds_validation=flowers_datasets[1], \n",
    "                     batch_size=BATCH_SIZE, \n",
    "                     epochs=PRUNING_EPOCHS, \n",
    "                     number_of_clusters=32)\n",
    "weight_cluster_model(model_path='flowers_models/MobileNetV2_flowers_model.h5', \n",
    "                     ds_train=flowers_datasets[0], \n",
    "                     ds_validation=flowers_datasets[1], \n",
    "                     batch_size=BATCH_SIZE, \n",
    "                     epochs=PRUNING_EPOCHS, \n",
    "                     number_of_clusters=128)"
   ]
  },
  {
   "cell_type": "code",
   "execution_count": 14,
   "metadata": {},
   "outputs": [
    {
     "name": "stdout",
     "output_type": "stream",
     "text": [
      "Epoch 1/10\n",
      "32/32 [==============================] - 40s 654ms/step - loss: 0.0246 - accuracy: 0.9905 - val_loss: 7.9552 - val_accuracy: 0.1402\n",
      "Epoch 2/10\n",
      "32/32 [==============================] - 29s 628ms/step - loss: 0.0419 - accuracy: 0.9881 - val_loss: 6.6063 - val_accuracy: 0.1520\n",
      "Epoch 3/10\n",
      "32/32 [==============================] - 29s 604ms/step - loss: 0.0167 - accuracy: 0.9975 - val_loss: 8.7211 - val_accuracy: 0.1304\n",
      "Epoch 4/10\n",
      "32/32 [==============================] - 29s 612ms/step - loss: 0.0012 - accuracy: 1.0000 - val_loss: 8.4957 - val_accuracy: 0.1431\n",
      "Epoch 5/10\n",
      "32/32 [==============================] - 29s 621ms/step - loss: 1.9253e-04 - accuracy: 1.0000 - val_loss: 8.5434 - val_accuracy: 0.1627\n",
      "Epoch 6/10\n",
      "32/32 [==============================] - 29s 623ms/step - loss: 4.1650e-05 - accuracy: 1.0000 - val_loss: 8.5682 - val_accuracy: 0.1647\n",
      "Epoch 7/10\n",
      "32/32 [==============================] - 29s 602ms/step - loss: 1.3026e-05 - accuracy: 1.0000 - val_loss: 8.5722 - val_accuracy: 0.1647\n",
      "Epoch 8/10\n",
      "32/32 [==============================] - 28s 592ms/step - loss: 1.2365e-05 - accuracy: 1.0000 - val_loss: 8.5796 - val_accuracy: 0.1657\n",
      "Epoch 9/10\n",
      "32/32 [==============================] - 28s 609ms/step - loss: 9.2084e-06 - accuracy: 1.0000 - val_loss: 8.5861 - val_accuracy: 0.1647\n",
      "Epoch 10/10\n",
      "32/32 [==============================] - 28s 600ms/step - loss: 7.0179e-06 - accuracy: 1.0000 - val_loss: 8.5935 - val_accuracy: 0.1657\n",
      "saved flowers_models_optimized/EfficentNetB0_flowers_model_KMeansPlusPlus32.h5\n",
      "Epoch 1/10\n",
      "32/32 [==============================] - 39s 648ms/step - loss: 0.0489 - accuracy: 0.9838 - val_loss: 7.4717 - val_accuracy: 0.1284\n",
      "Epoch 2/10\n",
      "32/32 [==============================] - 29s 625ms/step - loss: 0.0080 - accuracy: 0.9965 - val_loss: 8.4734 - val_accuracy: 0.1294\n",
      "Epoch 3/10\n",
      "32/32 [==============================] - 29s 625ms/step - loss: 0.0152 - accuracy: 0.9938 - val_loss: 8.4183 - val_accuracy: 0.1461\n",
      "Epoch 4/10\n",
      "32/32 [==============================] - 29s 621ms/step - loss: 0.0063 - accuracy: 1.0000 - val_loss: 8.2055 - val_accuracy: 0.1471\n",
      "Epoch 5/10\n",
      "32/32 [==============================] - 29s 622ms/step - loss: 7.6275e-04 - accuracy: 1.0000 - val_loss: 8.1406 - val_accuracy: 0.1578\n",
      "Epoch 6/10\n",
      "32/32 [==============================] - 29s 621ms/step - loss: 3.0322e-05 - accuracy: 1.0000 - val_loss: 8.2489 - val_accuracy: 0.1520\n",
      "Epoch 7/10\n",
      "32/32 [==============================] - 29s 610ms/step - loss: 2.6294e-05 - accuracy: 1.0000 - val_loss: 8.2510 - val_accuracy: 0.1549\n",
      "Epoch 8/10\n",
      "32/32 [==============================] - 29s 638ms/step - loss: 1.9938e-05 - accuracy: 1.0000 - val_loss: 8.2632 - val_accuracy: 0.1549\n",
      "Epoch 9/10\n",
      "32/32 [==============================] - 29s 625ms/step - loss: 1.1999e-05 - accuracy: 1.0000 - val_loss: 8.2768 - val_accuracy: 0.1549\n",
      "Epoch 10/10\n",
      "32/32 [==============================] - 29s 627ms/step - loss: 9.3189e-06 - accuracy: 1.0000 - val_loss: 8.2912 - val_accuracy: 0.1549\n",
      "saved flowers_models_optimized/EfficentNetB0_flowers_model_KMeansPlusPlus128.h5\n"
     ]
    }
   ],
   "source": [
    "weight_cluster_model(model_path='flowers_models/EfficentNetB0_flowers_model.h5', \n",
    "                     ds_train=flowers_datasets[0], \n",
    "                     ds_validation=flowers_datasets[1], \n",
    "                     batch_size=BATCH_SIZE, \n",
    "                     epochs=PRUNING_EPOCHS, \n",
    "                     number_of_clusters=32)\n",
    "weight_cluster_model(model_path='flowers_models/EfficentNetB0_flowers_model.h5', \n",
    "                     ds_train=flowers_datasets[0], \n",
    "                     ds_validation=flowers_datasets[1], \n",
    "                     batch_size=BATCH_SIZE, \n",
    "                     epochs=PRUNING_EPOCHS, \n",
    "                     number_of_clusters=128)"
   ]
  },
  {
   "cell_type": "code",
   "execution_count": 15,
   "metadata": {},
   "outputs": [
    {
     "name": "stdout",
     "output_type": "stream",
     "text": [
      "WARNING:tensorflow:No training configuration found in the save file, so the model was *not* compiled. Compile it manually.\n"
     ]
    },
    {
     "name": "stderr",
     "output_type": "stream",
     "text": [
      "WARNING:tensorflow:No training configuration found in the save file, so the model was *not* compiled. Compile it manually.\n"
     ]
    },
    {
     "name": "stdout",
     "output_type": "stream",
     "text": [
      "Epoch 1/10\n",
      "32/32 [==============================] - 33s 552ms/step - loss: 4.7008 - accuracy: 0.0138 - val_loss: 4.6250 - val_accuracy: 0.0098\n",
      "Epoch 2/10\n",
      "32/32 [==============================] - 26s 516ms/step - loss: 4.6250 - accuracy: 0.0019 - val_loss: 4.6250 - val_accuracy: 0.0098\n",
      "Epoch 3/10\n",
      "32/32 [==============================] - 25s 521ms/step - loss: 4.6254 - accuracy: 0.0080 - val_loss: 4.6250 - val_accuracy: 0.0098\n",
      "Epoch 4/10\n",
      "32/32 [==============================] - 26s 512ms/step - loss: 4.6253 - accuracy: 0.0025 - val_loss: 4.6250 - val_accuracy: 0.0098\n",
      "Epoch 5/10\n",
      "32/32 [==============================] - 27s 539ms/step - loss: 4.6250 - accuracy: 0.0124 - val_loss: 4.6250 - val_accuracy: 0.0098\n",
      "Epoch 6/10\n",
      "32/32 [==============================] - 25s 524ms/step - loss: 4.6252 - accuracy: 0.0111 - val_loss: 4.6250 - val_accuracy: 0.0098\n",
      "Epoch 7/10\n",
      "32/32 [==============================] - 26s 513ms/step - loss: 4.6253 - accuracy: 0.0063 - val_loss: 4.6250 - val_accuracy: 0.0098\n",
      "Epoch 8/10\n",
      "32/32 [==============================] - 26s 513ms/step - loss: 4.6250 - accuracy: 0.0096 - val_loss: 4.6250 - val_accuracy: 0.0098\n",
      "Epoch 9/10\n",
      "32/32 [==============================] - 25s 482ms/step - loss: 4.6251 - accuracy: 0.0094 - val_loss: 4.6250 - val_accuracy: 0.0098\n",
      "Epoch 10/10\n",
      "32/32 [==============================] - 25s 504ms/step - loss: 4.6250 - accuracy: 0.0112 - val_loss: 4.6250 - val_accuracy: 0.0098\n",
      "saved flowers_models_optimized/MobileNetV2_flowers_model_ConstantSparsity50_KMeansPlusPlus32.h5\n",
      "WARNING:tensorflow:No training configuration found in the save file, so the model was *not* compiled. Compile it manually.\n"
     ]
    },
    {
     "name": "stderr",
     "output_type": "stream",
     "text": [
      "WARNING:tensorflow:No training configuration found in the save file, so the model was *not* compiled. Compile it manually.\n"
     ]
    },
    {
     "name": "stdout",
     "output_type": "stream",
     "text": [
      "Epoch 1/10\n",
      "32/32 [==============================] - 32s 516ms/step - loss: 4.6710 - accuracy: 0.0089 - val_loss: 4.6250 - val_accuracy: 0.0098\n",
      "Epoch 2/10\n",
      "32/32 [==============================] - 26s 520ms/step - loss: 4.6254 - accuracy: 0.0070 - val_loss: 4.6250 - val_accuracy: 0.0098\n",
      "Epoch 3/10\n",
      "32/32 [==============================] - 24s 498ms/step - loss: 4.6252 - accuracy: 0.0049 - val_loss: 4.6250 - val_accuracy: 0.0098\n",
      "Epoch 4/10\n",
      "32/32 [==============================] - 26s 512ms/step - loss: 4.6255 - accuracy: 0.0074 - val_loss: 4.6250 - val_accuracy: 0.0098\n",
      "Epoch 5/10\n",
      "32/32 [==============================] - 25s 502ms/step - loss: 4.6251 - accuracy: 0.0076 - val_loss: 4.6250 - val_accuracy: 0.0098\n",
      "Epoch 6/10\n",
      "32/32 [==============================] - 26s 513ms/step - loss: 4.6254 - accuracy: 0.0082 - val_loss: 4.6250 - val_accuracy: 0.0098\n",
      "Epoch 7/10\n",
      "32/32 [==============================] - 26s 513ms/step - loss: 4.6251 - accuracy: 0.0064 - val_loss: 4.6250 - val_accuracy: 0.0098\n",
      "Epoch 8/10\n",
      "32/32 [==============================] - 25s 510ms/step - loss: 4.6255 - accuracy: 0.0065 - val_loss: 4.6250 - val_accuracy: 0.0098\n",
      "Epoch 9/10\n",
      "32/32 [==============================] - 26s 524ms/step - loss: 4.6253 - accuracy: 0.0066 - val_loss: 4.6250 - val_accuracy: 0.0098\n",
      "Epoch 10/10\n",
      "32/32 [==============================] - 25s 504ms/step - loss: 4.6251 - accuracy: 0.0086 - val_loss: 4.6250 - val_accuracy: 0.0098\n",
      "saved flowers_models_optimized/MobileNetV2_flowers_model_ConstantSparsity50_KMeansPlusPlus128.h5\n"
     ]
    }
   ],
   "source": [
    "weight_cluster_model(model_path='flowers_models_optimized/MobileNetV2_flowers_model_ConstantSparsity50.h5', \n",
    "                     ds_train=flowers_datasets[0], \n",
    "                     ds_validation=flowers_datasets[1], \n",
    "                     batch_size=BATCH_SIZE, \n",
    "                     epochs=PRUNING_EPOCHS, \n",
    "                     number_of_clusters=32)\n",
    "weight_cluster_model(model_path='flowers_models_optimized/MobileNetV2_flowers_model_ConstantSparsity50.h5', \n",
    "                     ds_train=flowers_datasets[0], \n",
    "                     ds_validation=flowers_datasets[1], \n",
    "                     batch_size=BATCH_SIZE, \n",
    "                     epochs=PRUNING_EPOCHS, \n",
    "                     number_of_clusters=128)"
   ]
  },
  {
   "cell_type": "code",
   "execution_count": 16,
   "metadata": {},
   "outputs": [
    {
     "name": "stdout",
     "output_type": "stream",
     "text": [
      "WARNING:tensorflow:No training configuration found in the save file, so the model was *not* compiled. Compile it manually.\n"
     ]
    },
    {
     "name": "stderr",
     "output_type": "stream",
     "text": [
      "WARNING:tensorflow:No training configuration found in the save file, so the model was *not* compiled. Compile it manually.\n"
     ]
    },
    {
     "name": "stdout",
     "output_type": "stream",
     "text": [
      "Epoch 1/10\n",
      "32/32 [==============================] - 33s 561ms/step - loss: 4.9436 - accuracy: 0.0143 - val_loss: 4.6250 - val_accuracy: 0.0098\n",
      "Epoch 2/10\n",
      "32/32 [==============================] - 25s 504ms/step - loss: 4.6255 - accuracy: 0.0131 - val_loss: 4.6250 - val_accuracy: 0.0098\n",
      "Epoch 3/10\n",
      "32/32 [==============================] - 25s 499ms/step - loss: 4.6252 - accuracy: 0.0022 - val_loss: 4.6250 - val_accuracy: 0.0098\n",
      "Epoch 4/10\n",
      "32/32 [==============================] - 25s 519ms/step - loss: 4.6253 - accuracy: 0.0038 - val_loss: 4.6250 - val_accuracy: 0.0098\n",
      "Epoch 5/10\n",
      "32/32 [==============================] - 26s 517ms/step - loss: 4.6254 - accuracy: 0.0102 - val_loss: 4.6250 - val_accuracy: 0.0098\n",
      "Epoch 6/10\n",
      "32/32 [==============================] - 26s 516ms/step - loss: 4.6254 - accuracy: 0.0092 - val_loss: 4.6250 - val_accuracy: 0.0098\n",
      "Epoch 7/10\n",
      "32/32 [==============================] - 26s 515ms/step - loss: 4.6255 - accuracy: 0.0152 - val_loss: 4.6250 - val_accuracy: 0.0098\n",
      "Epoch 8/10\n",
      "32/32 [==============================] - 25s 520ms/step - loss: 4.6252 - accuracy: 0.0076 - val_loss: 4.6250 - val_accuracy: 0.0098\n",
      "Epoch 9/10\n",
      "32/32 [==============================] - 25s 500ms/step - loss: 4.6253 - accuracy: 0.0055 - val_loss: 4.6250 - val_accuracy: 0.0098\n",
      "Epoch 10/10\n",
      "32/32 [==============================] - 25s 510ms/step - loss: 4.6252 - accuracy: 0.0103 - val_loss: 4.6250 - val_accuracy: 0.0098\n",
      "saved flowers_models_optimized/MobileNetV2_flowers_model_PolynomialDecay50_KMeansPlusPlus32.h5\n",
      "WARNING:tensorflow:No training configuration found in the save file, so the model was *not* compiled. Compile it manually.\n"
     ]
    },
    {
     "name": "stderr",
     "output_type": "stream",
     "text": [
      "WARNING:tensorflow:No training configuration found in the save file, so the model was *not* compiled. Compile it manually.\n"
     ]
    },
    {
     "name": "stdout",
     "output_type": "stream",
     "text": [
      "Epoch 1/10\n",
      "32/32 [==============================] - 32s 520ms/step - loss: 4.9444 - accuracy: 0.0081 - val_loss: 4.6250 - val_accuracy: 0.0098\n",
      "Epoch 2/10\n",
      "32/32 [==============================] - 26s 517ms/step - loss: 4.6251 - accuracy: 0.0049 - val_loss: 4.6250 - val_accuracy: 0.0098\n",
      "Epoch 3/10\n",
      "32/32 [==============================] - 26s 510ms/step - loss: 4.6251 - accuracy: 0.0096 - val_loss: 4.6250 - val_accuracy: 0.0098\n",
      "Epoch 4/10\n",
      "32/32 [==============================] - 25s 486ms/step - loss: 4.6250 - accuracy: 0.0102 - val_loss: 4.6250 - val_accuracy: 0.0098\n",
      "Epoch 5/10\n",
      "32/32 [==============================] - 25s 502ms/step - loss: 4.6251 - accuracy: 0.0093 - val_loss: 4.6250 - val_accuracy: 0.0098\n",
      "Epoch 6/10\n",
      "32/32 [==============================] - 26s 505ms/step - loss: 4.6251 - accuracy: 0.0113 - val_loss: 4.6250 - val_accuracy: 0.0098\n",
      "Epoch 7/10\n",
      "32/32 [==============================] - 25s 507ms/step - loss: 4.6252 - accuracy: 0.0126 - val_loss: 4.6250 - val_accuracy: 0.0098\n",
      "Epoch 8/10\n",
      "32/32 [==============================] - 25s 495ms/step - loss: 4.6252 - accuracy: 0.0051 - val_loss: 4.6250 - val_accuracy: 0.0098\n",
      "Epoch 9/10\n",
      "32/32 [==============================] - 25s 508ms/step - loss: 4.6250 - accuracy: 0.0119 - val_loss: 4.6250 - val_accuracy: 0.0098\n",
      "Epoch 10/10\n",
      "32/32 [==============================] - 25s 500ms/step - loss: 4.6251 - accuracy: 0.0052 - val_loss: 4.6250 - val_accuracy: 0.0098\n",
      "saved flowers_models_optimized/MobileNetV2_flowers_model_PolynomialDecay50_KMeansPlusPlus128.h5\n"
     ]
    }
   ],
   "source": [
    "weight_cluster_model(model_path='flowers_models_optimized/MobileNetV2_flowers_model_PolynomialDecay50.h5', \n",
    "                     ds_train=flowers_datasets[0], \n",
    "                     ds_validation=flowers_datasets[1], \n",
    "                     batch_size=BATCH_SIZE, \n",
    "                     epochs=PRUNING_EPOCHS, \n",
    "                     number_of_clusters=32)\n",
    "weight_cluster_model(model_path='flowers_models_optimized/MobileNetV2_flowers_model_PolynomialDecay50.h5', \n",
    "                     ds_train=flowers_datasets[0], \n",
    "                     ds_validation=flowers_datasets[1], \n",
    "                     batch_size=BATCH_SIZE, \n",
    "                     epochs=PRUNING_EPOCHS, \n",
    "                     number_of_clusters=128)"
   ]
  },
  {
   "cell_type": "code",
   "execution_count": 17,
   "metadata": {},
   "outputs": [
    {
     "name": "stdout",
     "output_type": "stream",
     "text": [
      "WARNING:tensorflow:No training configuration found in the save file, so the model was *not* compiled. Compile it manually.\n"
     ]
    },
    {
     "name": "stderr",
     "output_type": "stream",
     "text": [
      "WARNING:tensorflow:No training configuration found in the save file, so the model was *not* compiled. Compile it manually.\n"
     ]
    },
    {
     "name": "stdout",
     "output_type": "stream",
     "text": [
      "Epoch 1/10\n",
      "32/32 [==============================] - 31s 518ms/step - loss: 4.6497 - accuracy: 0.0067 - val_loss: 4.6250 - val_accuracy: 0.0098\n",
      "Epoch 2/10\n",
      "32/32 [==============================] - 26s 511ms/step - loss: 4.6249 - accuracy: 0.0053 - val_loss: 4.6250 - val_accuracy: 0.0098\n",
      "Epoch 3/10\n",
      "32/32 [==============================] - 26s 512ms/step - loss: 4.6254 - accuracy: 0.0087 - val_loss: 4.6250 - val_accuracy: 0.0098\n",
      "Epoch 4/10\n",
      "32/32 [==============================] - 26s 514ms/step - loss: 4.6254 - accuracy: 0.0088 - val_loss: 4.6250 - val_accuracy: 0.0098\n",
      "Epoch 5/10\n",
      "32/32 [==============================] - 26s 505ms/step - loss: 4.6251 - accuracy: 0.0116 - val_loss: 4.6250 - val_accuracy: 0.0098\n",
      "Epoch 6/10\n",
      "32/32 [==============================] - 26s 509ms/step - loss: 4.6255 - accuracy: 0.0085 - val_loss: 4.6250 - val_accuracy: 0.0098\n",
      "Epoch 7/10\n",
      "32/32 [==============================] - 26s 504ms/step - loss: 4.6254 - accuracy: 0.0122 - val_loss: 4.6250 - val_accuracy: 0.0098\n",
      "Epoch 8/10\n",
      "32/32 [==============================] - 25s 511ms/step - loss: 4.6251 - accuracy: 0.0068 - val_loss: 4.6250 - val_accuracy: 0.0098\n",
      "Epoch 9/10\n",
      "32/32 [==============================] - 25s 499ms/step - loss: 4.6257 - accuracy: 0.0017 - val_loss: 4.6250 - val_accuracy: 0.0098\n",
      "Epoch 10/10\n",
      "32/32 [==============================] - 26s 509ms/step - loss: 4.6251 - accuracy: 0.0178 - val_loss: 4.6250 - val_accuracy: 0.0098\n",
      "saved flowers_models_optimized/MobileNetV2_flowers_model_ConstantSparsity75_KMeansPlusPlus32.h5\n",
      "WARNING:tensorflow:No training configuration found in the save file, so the model was *not* compiled. Compile it manually.\n"
     ]
    },
    {
     "name": "stderr",
     "output_type": "stream",
     "text": [
      "WARNING:tensorflow:No training configuration found in the save file, so the model was *not* compiled. Compile it manually.\n"
     ]
    },
    {
     "name": "stdout",
     "output_type": "stream",
     "text": [
      "Epoch 1/10\n",
      "32/32 [==============================] - 31s 539ms/step - loss: 4.6295 - accuracy: 0.0150 - val_loss: 4.6250 - val_accuracy: 0.0098\n",
      "Epoch 2/10\n",
      "32/32 [==============================] - 26s 516ms/step - loss: 4.6252 - accuracy: 0.0107 - val_loss: 4.6250 - val_accuracy: 0.0098\n",
      "Epoch 3/10\n",
      "32/32 [==============================] - 26s 515ms/step - loss: 4.6253 - accuracy: 0.0073 - val_loss: 4.6250 - val_accuracy: 0.0098\n",
      "Epoch 4/10\n",
      "32/32 [==============================] - 25s 510ms/step - loss: 4.6253 - accuracy: 0.0141 - val_loss: 4.6250 - val_accuracy: 0.0098\n",
      "Epoch 5/10\n",
      "32/32 [==============================] - 26s 517ms/step - loss: 4.6256 - accuracy: 0.0116 - val_loss: 4.6250 - val_accuracy: 0.0098\n",
      "Epoch 6/10\n",
      "32/32 [==============================] - 25s 497ms/step - loss: 4.6256 - accuracy: 0.0051 - val_loss: 4.6250 - val_accuracy: 0.0098\n",
      "Epoch 7/10\n",
      "32/32 [==============================] - 26s 511ms/step - loss: 4.6252 - accuracy: 0.0081 - val_loss: 4.6250 - val_accuracy: 0.0098\n",
      "Epoch 8/10\n",
      "32/32 [==============================] - 26s 517ms/step - loss: 4.6248 - accuracy: 0.0090 - val_loss: 4.6250 - val_accuracy: 0.0098\n",
      "Epoch 9/10\n",
      "32/32 [==============================] - 26s 523ms/step - loss: 4.6250 - accuracy: 0.0085 - val_loss: 4.6250 - val_accuracy: 0.0098\n",
      "Epoch 10/10\n",
      "32/32 [==============================] - 26s 515ms/step - loss: 4.6249 - accuracy: 0.0047 - val_loss: 4.6250 - val_accuracy: 0.0098\n",
      "saved flowers_models_optimized/MobileNetV2_flowers_model_ConstantSparsity75_KMeansPlusPlus128.h5\n"
     ]
    }
   ],
   "source": [
    "weight_cluster_model(model_path='flowers_models_optimized/MobileNetV2_flowers_model_ConstantSparsity75.h5', \n",
    "                     ds_train=flowers_datasets[0], \n",
    "                     ds_validation=flowers_datasets[1], \n",
    "                     batch_size=BATCH_SIZE, \n",
    "                     epochs=PRUNING_EPOCHS, \n",
    "                     number_of_clusters=32)\n",
    "weight_cluster_model(model_path='flowers_models_optimized/MobileNetV2_flowers_model_ConstantSparsity75.h5', \n",
    "                     ds_train=flowers_datasets[0], \n",
    "                     ds_validation=flowers_datasets[1], \n",
    "                     batch_size=BATCH_SIZE, \n",
    "                     epochs=PRUNING_EPOCHS, \n",
    "                     number_of_clusters=128)"
   ]
  },
  {
   "cell_type": "code",
   "execution_count": 18,
   "metadata": {},
   "outputs": [
    {
     "name": "stdout",
     "output_type": "stream",
     "text": [
      "WARNING:tensorflow:No training configuration found in the save file, so the model was *not* compiled. Compile it manually.\n"
     ]
    },
    {
     "name": "stderr",
     "output_type": "stream",
     "text": [
      "WARNING:tensorflow:No training configuration found in the save file, so the model was *not* compiled. Compile it manually.\n"
     ]
    },
    {
     "name": "stdout",
     "output_type": "stream",
     "text": [
      "Epoch 1/10\n",
      "32/32 [==============================] - 31s 515ms/step - loss: 4.9006 - accuracy: 0.0057 - val_loss: 4.6250 - val_accuracy: 0.0098\n",
      "Epoch 2/10\n",
      "32/32 [==============================] - 26s 518ms/step - loss: 4.6251 - accuracy: 0.0133 - val_loss: 4.6250 - val_accuracy: 0.0098\n",
      "Epoch 3/10\n",
      "32/32 [==============================] - 25s 506ms/step - loss: 4.6252 - accuracy: 0.0066 - val_loss: 4.6250 - val_accuracy: 0.0098\n",
      "Epoch 4/10\n",
      "32/32 [==============================] - 25s 510ms/step - loss: 4.6249 - accuracy: 0.0152 - val_loss: 4.6250 - val_accuracy: 0.0098\n",
      "Epoch 5/10\n",
      "32/32 [==============================] - 26s 528ms/step - loss: 4.6254 - accuracy: 0.0088 - val_loss: 4.6250 - val_accuracy: 0.0098\n",
      "Epoch 6/10\n",
      "32/32 [==============================] - 26s 503ms/step - loss: 4.6253 - accuracy: 0.0112 - val_loss: 4.6250 - val_accuracy: 0.0098\n",
      "Epoch 7/10\n",
      "32/32 [==============================] - 26s 512ms/step - loss: 4.6253 - accuracy: 0.0112 - val_loss: 4.6250 - val_accuracy: 0.0098\n",
      "Epoch 8/10\n",
      "32/32 [==============================] - 25s 494ms/step - loss: 4.6250 - accuracy: 0.0119 - val_loss: 4.6250 - val_accuracy: 0.0098\n",
      "Epoch 9/10\n",
      "32/32 [==============================] - 26s 504ms/step - loss: 4.6253 - accuracy: 0.0109 - val_loss: 4.6250 - val_accuracy: 0.0098\n",
      "Epoch 10/10\n",
      "32/32 [==============================] - 26s 513ms/step - loss: 4.6254 - accuracy: 0.0080 - val_loss: 4.6250 - val_accuracy: 0.0098\n",
      "saved flowers_models_optimized/MobileNetV2_flowers_model_PolynomialDecay75_KMeansPlusPlus32.h5\n",
      "WARNING:tensorflow:No training configuration found in the save file, so the model was *not* compiled. Compile it manually.\n"
     ]
    },
    {
     "name": "stderr",
     "output_type": "stream",
     "text": [
      "WARNING:tensorflow:No training configuration found in the save file, so the model was *not* compiled. Compile it manually.\n"
     ]
    },
    {
     "name": "stdout",
     "output_type": "stream",
     "text": [
      "Epoch 1/10\n",
      "32/32 [==============================] - 32s 516ms/step - loss: 4.8385 - accuracy: 0.0102 - val_loss: 4.6250 - val_accuracy: 0.0098\n",
      "Epoch 2/10\n",
      "32/32 [==============================] - 26s 507ms/step - loss: 4.6252 - accuracy: 0.0124 - val_loss: 4.6250 - val_accuracy: 0.0098\n",
      "Epoch 3/10\n",
      "32/32 [==============================] - 25s 505ms/step - loss: 4.6251 - accuracy: 0.0124 - val_loss: 4.6250 - val_accuracy: 0.0098\n",
      "Epoch 4/10\n",
      "32/32 [==============================] - 25s 485ms/step - loss: 4.6251 - accuracy: 0.0098 - val_loss: 4.6250 - val_accuracy: 0.0098\n",
      "Epoch 5/10\n",
      "32/32 [==============================] - 24s 468ms/step - loss: 4.6250 - accuracy: 0.0087 - val_loss: 4.6250 - val_accuracy: 0.0098\n",
      "Epoch 6/10\n",
      "32/32 [==============================] - 25s 505ms/step - loss: 4.6252 - accuracy: 0.0064 - val_loss: 4.6250 - val_accuracy: 0.0098\n",
      "Epoch 7/10\n",
      "32/32 [==============================] - 25s 500ms/step - loss: 4.6253 - accuracy: 0.0123 - val_loss: 4.6250 - val_accuracy: 0.0098\n",
      "Epoch 8/10\n",
      "32/32 [==============================] - 26s 505ms/step - loss: 4.6249 - accuracy: 0.0104 - val_loss: 4.6250 - val_accuracy: 0.0098\n",
      "Epoch 9/10\n",
      "32/32 [==============================] - 25s 501ms/step - loss: 4.6252 - accuracy: 0.0079 - val_loss: 4.6250 - val_accuracy: 0.0098\n",
      "Epoch 10/10\n",
      "32/32 [==============================] - 26s 517ms/step - loss: 4.6254 - accuracy: 0.0036 - val_loss: 4.6250 - val_accuracy: 0.0098\n",
      "saved flowers_models_optimized/MobileNetV2_flowers_model_PolynomialDecay75_KMeansPlusPlus128.h5\n"
     ]
    }
   ],
   "source": [
    "weight_cluster_model(model_path='flowers_models_optimized/MobileNetV2_flowers_model_PolynomialDecay75.h5', \n",
    "                     ds_train=flowers_datasets[0], \n",
    "                     ds_validation=flowers_datasets[1], \n",
    "                     batch_size=BATCH_SIZE, \n",
    "                     epochs=PRUNING_EPOCHS, \n",
    "                     number_of_clusters=32)\n",
    "weight_cluster_model(model_path='flowers_models_optimized/MobileNetV2_flowers_model_PolynomialDecay75.h5', \n",
    "                     ds_train=flowers_datasets[0], \n",
    "                     ds_validation=flowers_datasets[1], \n",
    "                     batch_size=BATCH_SIZE, \n",
    "                     epochs=PRUNING_EPOCHS, \n",
    "                     number_of_clusters=128)"
   ]
  },
  {
   "cell_type": "code",
   "execution_count": 19,
   "metadata": {},
   "outputs": [
    {
     "name": "stdout",
     "output_type": "stream",
     "text": [
      "WARNING:tensorflow:No training configuration found in the save file, so the model was *not* compiled. Compile it manually.\n"
     ]
    },
    {
     "name": "stderr",
     "output_type": "stream",
     "text": [
      "WARNING:tensorflow:No training configuration found in the save file, so the model was *not* compiled. Compile it manually.\n"
     ]
    },
    {
     "name": "stdout",
     "output_type": "stream",
     "text": [
      "Epoch 1/10\n",
      "32/32 [==============================] - 32s 531ms/step - loss: 4.6284 - accuracy: 0.0085 - val_loss: 4.6251 - val_accuracy: 0.0098\n",
      "Epoch 2/10\n",
      "32/32 [==============================] - 26s 525ms/step - loss: 4.6253 - accuracy: 0.0055 - val_loss: 4.6251 - val_accuracy: 0.0098\n",
      "Epoch 3/10\n",
      "32/32 [==============================] - 26s 524ms/step - loss: 4.6251 - accuracy: 0.0087 - val_loss: 4.6251 - val_accuracy: 0.0098\n",
      "Epoch 4/10\n",
      "32/32 [==============================] - 25s 504ms/step - loss: 4.6250 - accuracy: 0.0122 - val_loss: 4.6251 - val_accuracy: 0.0098\n",
      "Epoch 5/10\n",
      "32/32 [==============================] - 26s 524ms/step - loss: 4.6260 - accuracy: 0.0089 - val_loss: 4.6250 - val_accuracy: 0.0098\n",
      "Epoch 6/10\n",
      "32/32 [==============================] - 25s 501ms/step - loss: 4.6249 - accuracy: 0.0102 - val_loss: 4.6250 - val_accuracy: 0.0098\n",
      "Epoch 7/10\n",
      "32/32 [==============================] - 26s 512ms/step - loss: 4.6248 - accuracy: 0.0109 - val_loss: 4.6250 - val_accuracy: 0.0098\n",
      "Epoch 8/10\n",
      "32/32 [==============================] - 26s 515ms/step - loss: 4.6252 - accuracy: 0.0150 - val_loss: 4.6250 - val_accuracy: 0.0098\n",
      "Epoch 9/10\n",
      "32/32 [==============================] - 26s 533ms/step - loss: 4.6252 - accuracy: 0.0140 - val_loss: 4.6250 - val_accuracy: 0.0098\n",
      "Epoch 10/10\n",
      "32/32 [==============================] - 26s 522ms/step - loss: 4.6249 - accuracy: 0.0042 - val_loss: 4.6250 - val_accuracy: 0.0098\n",
      "saved flowers_models_optimized/MobileNetV2_flowers_model_ConstantSparsity90_KMeansPlusPlus32.h5\n",
      "WARNING:tensorflow:No training configuration found in the save file, so the model was *not* compiled. Compile it manually.\n"
     ]
    },
    {
     "name": "stderr",
     "output_type": "stream",
     "text": [
      "WARNING:tensorflow:No training configuration found in the save file, so the model was *not* compiled. Compile it manually.\n"
     ]
    },
    {
     "name": "stdout",
     "output_type": "stream",
     "text": [
      "Epoch 1/10\n",
      "32/32 [==============================] - 32s 544ms/step - loss: 4.6298 - accuracy: 0.0028 - val_loss: 4.6251 - val_accuracy: 0.0098\n",
      "Epoch 2/10\n",
      "32/32 [==============================] - 27s 540ms/step - loss: 4.6248 - accuracy: 0.0092 - val_loss: 4.6251 - val_accuracy: 0.0098\n",
      "Epoch 3/10\n",
      "32/32 [==============================] - 26s 507ms/step - loss: 4.6249 - accuracy: 0.0139 - val_loss: 4.6251 - val_accuracy: 0.0098\n",
      "Epoch 4/10\n",
      "32/32 [==============================] - 26s 511ms/step - loss: 4.6253 - accuracy: 0.0081 - val_loss: 4.6251 - val_accuracy: 0.0098\n",
      "Epoch 5/10\n",
      "32/32 [==============================] - 25s 499ms/step - loss: 4.6257 - accuracy: 0.0061 - val_loss: 4.6250 - val_accuracy: 0.0098\n",
      "Epoch 6/10\n",
      "32/32 [==============================] - 27s 532ms/step - loss: 4.6254 - accuracy: 0.0058 - val_loss: 4.6250 - val_accuracy: 0.0098\n",
      "Epoch 7/10\n",
      "32/32 [==============================] - 26s 525ms/step - loss: 4.6254 - accuracy: 0.0144 - val_loss: 4.6250 - val_accuracy: 0.0098\n",
      "Epoch 8/10\n",
      "32/32 [==============================] - 26s 518ms/step - loss: 4.6254 - accuracy: 0.0065 - val_loss: 4.6250 - val_accuracy: 0.0098\n",
      "Epoch 9/10\n",
      "32/32 [==============================] - 26s 522ms/step - loss: 4.6252 - accuracy: 0.0116 - val_loss: 4.6250 - val_accuracy: 0.0098\n",
      "Epoch 10/10\n",
      "32/32 [==============================] - 25s 513ms/step - loss: 4.6245 - accuracy: 0.0083 - val_loss: 4.6250 - val_accuracy: 0.0098\n",
      "saved flowers_models_optimized/MobileNetV2_flowers_model_ConstantSparsity90_KMeansPlusPlus128.h5\n"
     ]
    }
   ],
   "source": [
    "weight_cluster_model(model_path='flowers_models_optimized/MobileNetV2_flowers_model_ConstantSparsity90.h5', \n",
    "                     ds_train=flowers_datasets[0], \n",
    "                     ds_validation=flowers_datasets[1], \n",
    "                     batch_size=BATCH_SIZE, \n",
    "                     epochs=PRUNING_EPOCHS, \n",
    "                     number_of_clusters=32)\n",
    "weight_cluster_model(model_path='flowers_models_optimized/MobileNetV2_flowers_model_ConstantSparsity90.h5', \n",
    "                     ds_train=flowers_datasets[0], \n",
    "                     ds_validation=flowers_datasets[1], \n",
    "                     batch_size=BATCH_SIZE, \n",
    "                     epochs=PRUNING_EPOCHS, \n",
    "                     number_of_clusters=128)"
   ]
  },
  {
   "cell_type": "code",
   "execution_count": 20,
   "metadata": {},
   "outputs": [
    {
     "name": "stdout",
     "output_type": "stream",
     "text": [
      "WARNING:tensorflow:No training configuration found in the save file, so the model was *not* compiled. Compile it manually.\n"
     ]
    },
    {
     "name": "stderr",
     "output_type": "stream",
     "text": [
      "WARNING:tensorflow:No training configuration found in the save file, so the model was *not* compiled. Compile it manually.\n"
     ]
    },
    {
     "name": "stdout",
     "output_type": "stream",
     "text": [
      "Epoch 1/10\n",
      "32/32 [==============================] - 33s 533ms/step - loss: 4.9287 - accuracy: 0.0088 - val_loss: 4.6250 - val_accuracy: 0.0098\n",
      "Epoch 2/10\n",
      "32/32 [==============================] - 26s 513ms/step - loss: 4.6253 - accuracy: 0.0076 - val_loss: 4.6250 - val_accuracy: 0.0098\n",
      "Epoch 3/10\n",
      "32/32 [==============================] - 26s 518ms/step - loss: 4.6252 - accuracy: 0.0051 - val_loss: 4.6250 - val_accuracy: 0.0098\n",
      "Epoch 4/10\n",
      "32/32 [==============================] - 26s 523ms/step - loss: 4.6253 - accuracy: 0.0120 - val_loss: 4.6250 - val_accuracy: 0.0098\n",
      "Epoch 5/10\n",
      "32/32 [==============================] - 26s 512ms/step - loss: 4.6253 - accuracy: 0.0035 - val_loss: 4.6250 - val_accuracy: 0.0098\n",
      "Epoch 6/10\n",
      "32/32 [==============================] - 25s 499ms/step - loss: 4.6251 - accuracy: 0.0087 - val_loss: 4.6250 - val_accuracy: 0.0098\n",
      "Epoch 7/10\n",
      "32/32 [==============================] - 25s 501ms/step - loss: 4.6254 - accuracy: 0.0105 - val_loss: 4.6250 - val_accuracy: 0.0098\n",
      "Epoch 8/10\n",
      "32/32 [==============================] - 26s 530ms/step - loss: 4.6252 - accuracy: 0.0032 - val_loss: 4.6250 - val_accuracy: 0.0098\n",
      "Epoch 9/10\n",
      "32/32 [==============================] - 26s 520ms/step - loss: 4.6251 - accuracy: 0.0075 - val_loss: 4.6250 - val_accuracy: 0.0098\n",
      "Epoch 10/10\n",
      "32/32 [==============================] - 26s 520ms/step - loss: 4.6253 - accuracy: 0.0096 - val_loss: 4.6250 - val_accuracy: 0.0098\n",
      "saved flowers_models_optimized/MobileNetV2_flowers_model_PolynomialDecay90_KMeansPlusPlus32.h5\n",
      "WARNING:tensorflow:No training configuration found in the save file, so the model was *not* compiled. Compile it manually.\n"
     ]
    },
    {
     "name": "stderr",
     "output_type": "stream",
     "text": [
      "WARNING:tensorflow:No training configuration found in the save file, so the model was *not* compiled. Compile it manually.\n"
     ]
    },
    {
     "name": "stdout",
     "output_type": "stream",
     "text": [
      "Epoch 1/10\n",
      "32/32 [==============================] - 31s 543ms/step - loss: 4.9692 - accuracy: 0.0066 - val_loss: 4.6250 - val_accuracy: 0.0098\n",
      "Epoch 2/10\n",
      "32/32 [==============================] - 25s 491ms/step - loss: 4.6252 - accuracy: 0.0091 - val_loss: 4.6250 - val_accuracy: 0.0098\n",
      "Epoch 3/10\n",
      "32/32 [==============================] - 25s 499ms/step - loss: 4.6251 - accuracy: 0.0069 - val_loss: 4.6250 - val_accuracy: 0.0098\n",
      "Epoch 4/10\n",
      "32/32 [==============================] - 26s 515ms/step - loss: 4.6251 - accuracy: 0.0072 - val_loss: 4.6250 - val_accuracy: 0.0098\n",
      "Epoch 5/10\n",
      "32/32 [==============================] - 26s 523ms/step - loss: 4.6254 - accuracy: 0.0058 - val_loss: 4.6250 - val_accuracy: 0.0098\n",
      "Epoch 6/10\n",
      "32/32 [==============================] - 26s 525ms/step - loss: 4.6249 - accuracy: 0.0075 - val_loss: 4.6250 - val_accuracy: 0.0098\n",
      "Epoch 7/10\n",
      "32/32 [==============================] - 25s 503ms/step - loss: 4.6251 - accuracy: 0.0141 - val_loss: 4.6250 - val_accuracy: 0.0098\n",
      "Epoch 8/10\n",
      "32/32 [==============================] - 26s 517ms/step - loss: 4.6252 - accuracy: 0.0066 - val_loss: 4.6250 - val_accuracy: 0.0098\n",
      "Epoch 9/10\n",
      "32/32 [==============================] - 26s 529ms/step - loss: 4.6251 - accuracy: 0.0036 - val_loss: 4.6250 - val_accuracy: 0.0098\n",
      "Epoch 10/10\n",
      "32/32 [==============================] - 26s 513ms/step - loss: 4.6252 - accuracy: 0.0067 - val_loss: 4.6250 - val_accuracy: 0.0098\n",
      "saved flowers_models_optimized/MobileNetV2_flowers_model_PolynomialDecay90_KMeansPlusPlus128.h5\n"
     ]
    }
   ],
   "source": [
    "weight_cluster_model(model_path='flowers_models_optimized/MobileNetV2_flowers_model_PolynomialDecay90.h5', \n",
    "                     ds_train=flowers_datasets[0], \n",
    "                     ds_validation=flowers_datasets[1], \n",
    "                     batch_size=BATCH_SIZE, \n",
    "                     epochs=PRUNING_EPOCHS, \n",
    "                     number_of_clusters=32)\n",
    "weight_cluster_model(model_path='flowers_models_optimized/MobileNetV2_flowers_model_PolynomialDecay90.h5', \n",
    "                     ds_train=flowers_datasets[0], \n",
    "                     ds_validation=flowers_datasets[1], \n",
    "                     batch_size=BATCH_SIZE, \n",
    "                     epochs=PRUNING_EPOCHS, \n",
    "                     number_of_clusters=128)"
   ]
  },
  {
   "cell_type": "code",
   "execution_count": 21,
   "metadata": {},
   "outputs": [
    {
     "name": "stdout",
     "output_type": "stream",
     "text": [
      "WARNING:tensorflow:No training configuration found in the save file, so the model was *not* compiled. Compile it manually.\n"
     ]
    },
    {
     "name": "stderr",
     "output_type": "stream",
     "text": [
      "WARNING:tensorflow:No training configuration found in the save file, so the model was *not* compiled. Compile it manually.\n"
     ]
    },
    {
     "name": "stdout",
     "output_type": "stream",
     "text": [
      "Epoch 1/10\n",
      "32/32 [==============================] - 39s 665ms/step - loss: 5.4539 - accuracy: 0.0078 - val_loss: 4.6478 - val_accuracy: 0.0098\n",
      "Epoch 2/10\n",
      "32/32 [==============================] - 30s 622ms/step - loss: 4.6535 - accuracy: 0.0114 - val_loss: 4.6409 - val_accuracy: 0.0098\n",
      "Epoch 3/10\n",
      "32/32 [==============================] - 29s 629ms/step - loss: 4.6466 - accuracy: 0.0057 - val_loss: 4.6323 - val_accuracy: 0.0098\n",
      "Epoch 4/10\n",
      "32/32 [==============================] - 29s 624ms/step - loss: 4.6373 - accuracy: 0.0036 - val_loss: 4.6269 - val_accuracy: 0.0098\n",
      "Epoch 5/10\n",
      "32/32 [==============================] - 29s 618ms/step - loss: 4.6466 - accuracy: 0.0016 - val_loss: 4.6296 - val_accuracy: 0.0098\n",
      "Epoch 6/10\n",
      "32/32 [==============================] - 29s 616ms/step - loss: 4.6331 - accuracy: 0.0058 - val_loss: 4.6239 - val_accuracy: 0.0098\n",
      "Epoch 7/10\n",
      "32/32 [==============================] - 29s 616ms/step - loss: 4.6356 - accuracy: 0.0076 - val_loss: 4.6309 - val_accuracy: 0.0098\n",
      "Epoch 8/10\n",
      "32/32 [==============================] - 30s 634ms/step - loss: 4.6417 - accuracy: 0.0043 - val_loss: 4.6182 - val_accuracy: 0.0118\n",
      "Epoch 9/10\n",
      "32/32 [==============================] - 29s 619ms/step - loss: 4.6068 - accuracy: 0.0073 - val_loss: 4.3984 - val_accuracy: 0.0176\n",
      "Epoch 10/10\n",
      "32/32 [==============================] - 29s 613ms/step - loss: 4.3610 - accuracy: 0.0282 - val_loss: 4.2628 - val_accuracy: 0.0255\n",
      "saved flowers_models_optimized/EfficentNetB0_flowers_model_ConstantSparsity50_KMeansPlusPlus32.h5\n",
      "WARNING:tensorflow:No training configuration found in the save file, so the model was *not* compiled. Compile it manually.\n"
     ]
    },
    {
     "name": "stderr",
     "output_type": "stream",
     "text": [
      "WARNING:tensorflow:No training configuration found in the save file, so the model was *not* compiled. Compile it manually.\n"
     ]
    },
    {
     "name": "stdout",
     "output_type": "stream",
     "text": [
      "Epoch 1/10\n",
      "32/32 [==============================] - 39s 647ms/step - loss: 5.6166 - accuracy: 0.0051 - val_loss: 4.6632 - val_accuracy: 0.0098\n",
      "Epoch 2/10\n",
      "32/32 [==============================] - 29s 622ms/step - loss: 4.6658 - accuracy: 0.0102 - val_loss: 4.6338 - val_accuracy: 0.0118\n",
      "Epoch 3/10\n",
      "32/32 [==============================] - 29s 610ms/step - loss: 4.6516 - accuracy: 0.0050 - val_loss: 4.6417 - val_accuracy: 0.0059\n",
      "Epoch 4/10\n",
      "32/32 [==============================] - 29s 613ms/step - loss: 4.6491 - accuracy: 0.0085 - val_loss: 4.6248 - val_accuracy: 0.0098\n",
      "Epoch 5/10\n",
      "32/32 [==============================] - 29s 604ms/step - loss: 4.6161 - accuracy: 0.0062 - val_loss: 4.5721 - val_accuracy: 0.0186\n",
      "Epoch 6/10\n",
      "32/32 [==============================] - 29s 613ms/step - loss: 4.5817 - accuracy: 0.0079 - val_loss: 4.5058 - val_accuracy: 0.0196\n",
      "Epoch 7/10\n",
      "32/32 [==============================] - 29s 621ms/step - loss: 4.4002 - accuracy: 0.0100 - val_loss: 4.3023 - val_accuracy: 0.0363\n",
      "Epoch 8/10\n",
      "32/32 [==============================] - 29s 615ms/step - loss: 4.2455 - accuracy: 0.0151 - val_loss: 4.2294 - val_accuracy: 0.0294\n",
      "Epoch 9/10\n",
      "32/32 [==============================] - 29s 601ms/step - loss: 4.1868 - accuracy: 0.0278 - val_loss: 4.3381 - val_accuracy: 0.0324\n",
      "Epoch 10/10\n",
      "32/32 [==============================] - 29s 605ms/step - loss: 4.0572 - accuracy: 0.0407 - val_loss: 4.0453 - val_accuracy: 0.0539\n",
      "saved flowers_models_optimized/EfficentNetB0_flowers_model_ConstantSparsity50_KMeansPlusPlus128.h5\n"
     ]
    }
   ],
   "source": [
    "weight_cluster_model(model_path='flowers_models_optimized/EfficentNetB0_flowers_model_ConstantSparsity50.h5', \n",
    "                     ds_train=flowers_datasets[0], \n",
    "                     ds_validation=flowers_datasets[1], \n",
    "                     batch_size=BATCH_SIZE, \n",
    "                     epochs=PRUNING_EPOCHS, \n",
    "                     number_of_clusters=32)\n",
    "weight_cluster_model(model_path='flowers_models_optimized/EfficentNetB0_flowers_model_ConstantSparsity50.h5', \n",
    "                     ds_train=flowers_datasets[0], \n",
    "                     ds_validation=flowers_datasets[1], \n",
    "                     batch_size=BATCH_SIZE, \n",
    "                     epochs=PRUNING_EPOCHS, \n",
    "                     number_of_clusters=128)"
   ]
  },
  {
   "cell_type": "code",
   "execution_count": 22,
   "metadata": {},
   "outputs": [
    {
     "name": "stdout",
     "output_type": "stream",
     "text": [
      "WARNING:tensorflow:No training configuration found in the save file, so the model was *not* compiled. Compile it manually.\n"
     ]
    },
    {
     "name": "stderr",
     "output_type": "stream",
     "text": [
      "WARNING:tensorflow:No training configuration found in the save file, so the model was *not* compiled. Compile it manually.\n"
     ]
    },
    {
     "name": "stdout",
     "output_type": "stream",
     "text": [
      "Epoch 1/10\n",
      "32/32 [==============================] - 39s 644ms/step - loss: 5.2913 - accuracy: 0.0140 - val_loss: 4.6304 - val_accuracy: 0.0098\n",
      "Epoch 2/10\n",
      "32/32 [==============================] - 30s 636ms/step - loss: 4.6441 - accuracy: 0.0097 - val_loss: 4.6185 - val_accuracy: 0.0098\n",
      "Epoch 3/10\n",
      "32/32 [==============================] - 29s 593ms/step - loss: 4.6264 - accuracy: 0.0074 - val_loss: 4.6077 - val_accuracy: 0.0098\n",
      "Epoch 4/10\n",
      "32/32 [==============================] - 28s 602ms/step - loss: 4.5952 - accuracy: 0.0150 - val_loss: 4.4358 - val_accuracy: 0.0294\n",
      "Epoch 5/10\n",
      "32/32 [==============================] - 28s 591ms/step - loss: 4.3384 - accuracy: 0.0328 - val_loss: 4.0969 - val_accuracy: 0.0549\n",
      "Epoch 6/10\n",
      "32/32 [==============================] - 29s 605ms/step - loss: 3.9295 - accuracy: 0.0825 - val_loss: 3.8187 - val_accuracy: 0.0833\n",
      "Epoch 7/10\n",
      "32/32 [==============================] - 29s 621ms/step - loss: 3.4361 - accuracy: 0.1578 - val_loss: 3.6881 - val_accuracy: 0.1196\n",
      "Epoch 8/10\n",
      "32/32 [==============================] - 29s 605ms/step - loss: 3.2696 - accuracy: 0.1681 - val_loss: 3.6858 - val_accuracy: 0.1304\n",
      "Epoch 9/10\n",
      "32/32 [==============================] - 30s 632ms/step - loss: 2.9448 - accuracy: 0.2156 - val_loss: 3.4221 - val_accuracy: 0.1794\n",
      "Epoch 10/10\n",
      "32/32 [==============================] - 30s 629ms/step - loss: 2.7285 - accuracy: 0.2877 - val_loss: 3.5054 - val_accuracy: 0.1804\n",
      "saved flowers_models_optimized/EfficentNetB0_flowers_model_PolynomialDecay50_KMeansPlusPlus32.h5\n",
      "WARNING:tensorflow:No training configuration found in the save file, so the model was *not* compiled. Compile it manually.\n"
     ]
    },
    {
     "name": "stderr",
     "output_type": "stream",
     "text": [
      "WARNING:tensorflow:No training configuration found in the save file, so the model was *not* compiled. Compile it manually.\n"
     ]
    },
    {
     "name": "stdout",
     "output_type": "stream",
     "text": [
      "Epoch 1/10\n",
      "32/32 [==============================] - 41s 663ms/step - loss: 5.1063 - accuracy: 0.0092 - val_loss: 4.6204 - val_accuracy: 0.0127\n",
      "Epoch 2/10\n",
      "32/32 [==============================] - 29s 631ms/step - loss: 4.6298 - accuracy: 0.0118 - val_loss: 4.6565 - val_accuracy: 0.0098\n",
      "Epoch 3/10\n",
      "32/32 [==============================] - 30s 645ms/step - loss: 4.6147 - accuracy: 0.0101 - val_loss: 4.5962 - val_accuracy: 0.0196\n",
      "Epoch 4/10\n",
      "32/32 [==============================] - 30s 632ms/step - loss: 4.4951 - accuracy: 0.0179 - val_loss: 4.1416 - val_accuracy: 0.0559\n",
      "Epoch 5/10\n",
      "32/32 [==============================] - 29s 632ms/step - loss: 3.9391 - accuracy: 0.0631 - val_loss: 3.8054 - val_accuracy: 0.0980\n",
      "Epoch 6/10\n",
      "32/32 [==============================] - 29s 634ms/step - loss: 3.4421 - accuracy: 0.1404 - val_loss: 3.5402 - val_accuracy: 0.1471\n",
      "Epoch 7/10\n",
      "32/32 [==============================] - 29s 633ms/step - loss: 3.0584 - accuracy: 0.1984 - val_loss: 3.4515 - val_accuracy: 0.1461\n",
      "Epoch 8/10\n",
      "32/32 [==============================] - 30s 642ms/step - loss: 2.8444 - accuracy: 0.2380 - val_loss: 3.5431 - val_accuracy: 0.1588\n",
      "Epoch 9/10\n",
      "32/32 [==============================] - 30s 646ms/step - loss: 2.6180 - accuracy: 0.2843 - val_loss: 3.4010 - val_accuracy: 0.1863\n",
      "Epoch 10/10\n",
      "32/32 [==============================] - 30s 641ms/step - loss: 2.4045 - accuracy: 0.3274 - val_loss: 3.4203 - val_accuracy: 0.1931\n",
      "saved flowers_models_optimized/EfficentNetB0_flowers_model_PolynomialDecay50_KMeansPlusPlus128.h5\n"
     ]
    }
   ],
   "source": [
    "weight_cluster_model(model_path='flowers_models_optimized/EfficentNetB0_flowers_model_PolynomialDecay50.h5', \n",
    "                     ds_train=flowers_datasets[0], \n",
    "                     ds_validation=flowers_datasets[1], \n",
    "                     batch_size=BATCH_SIZE, \n",
    "                     epochs=PRUNING_EPOCHS, \n",
    "                     number_of_clusters=32)\n",
    "weight_cluster_model(model_path='flowers_models_optimized/EfficentNetB0_flowers_model_PolynomialDecay50.h5', \n",
    "                     ds_train=flowers_datasets[0], \n",
    "                     ds_validation=flowers_datasets[1], \n",
    "                     batch_size=BATCH_SIZE, \n",
    "                     epochs=PRUNING_EPOCHS, \n",
    "                     number_of_clusters=128)"
   ]
  },
  {
   "cell_type": "code",
   "execution_count": 23,
   "metadata": {},
   "outputs": [
    {
     "name": "stdout",
     "output_type": "stream",
     "text": [
      "WARNING:tensorflow:No training configuration found in the save file, so the model was *not* compiled. Compile it manually.\n"
     ]
    },
    {
     "name": "stderr",
     "output_type": "stream",
     "text": [
      "WARNING:tensorflow:No training configuration found in the save file, so the model was *not* compiled. Compile it manually.\n"
     ]
    },
    {
     "name": "stdout",
     "output_type": "stream",
     "text": [
      "Epoch 1/10\n",
      "32/32 [==============================] - 40s 672ms/step - loss: 5.0812 - accuracy: 0.0135 - val_loss: 4.6645 - val_accuracy: 0.0098\n",
      "Epoch 2/10\n",
      "32/32 [==============================] - 29s 612ms/step - loss: 4.6816 - accuracy: 0.0047 - val_loss: 4.6321 - val_accuracy: 0.0108\n",
      "Epoch 3/10\n",
      "32/32 [==============================] - 30s 632ms/step - loss: 4.6436 - accuracy: 0.0053 - val_loss: 4.6270 - val_accuracy: 0.0098\n",
      "Epoch 4/10\n",
      "32/32 [==============================] - 30s 632ms/step - loss: 4.6327 - accuracy: 0.0108 - val_loss: 4.6283 - val_accuracy: 0.0098\n",
      "Epoch 5/10\n",
      "32/32 [==============================] - 30s 630ms/step - loss: 4.6331 - accuracy: 0.0098 - val_loss: 4.6283 - val_accuracy: 0.0088\n",
      "Epoch 6/10\n",
      "32/32 [==============================] - 29s 615ms/step - loss: 4.6267 - accuracy: 0.0078 - val_loss: 4.5481 - val_accuracy: 0.0118\n",
      "Epoch 7/10\n",
      "32/32 [==============================] - 29s 631ms/step - loss: 4.5398 - accuracy: 0.0173 - val_loss: 4.4553 - val_accuracy: 0.0216\n",
      "Epoch 8/10\n",
      "32/32 [==============================] - 29s 619ms/step - loss: 4.3869 - accuracy: 0.0220 - val_loss: 4.3819 - val_accuracy: 0.0245\n",
      "Epoch 9/10\n",
      "32/32 [==============================] - 29s 617ms/step - loss: 4.2982 - accuracy: 0.0321 - val_loss: 4.2677 - val_accuracy: 0.0363\n",
      "Epoch 10/10\n",
      "32/32 [==============================] - 29s 615ms/step - loss: 4.1851 - accuracy: 0.0490 - val_loss: 4.1840 - val_accuracy: 0.0333\n",
      "saved flowers_models_optimized/EfficentNetB0_flowers_model_ConstantSparsity75_KMeansPlusPlus32.h5\n",
      "WARNING:tensorflow:No training configuration found in the save file, so the model was *not* compiled. Compile it manually.\n"
     ]
    },
    {
     "name": "stderr",
     "output_type": "stream",
     "text": [
      "WARNING:tensorflow:No training configuration found in the save file, so the model was *not* compiled. Compile it manually.\n"
     ]
    },
    {
     "name": "stdout",
     "output_type": "stream",
     "text": [
      "Epoch 1/10\n",
      "32/32 [==============================] - 40s 664ms/step - loss: 5.1354 - accuracy: 0.0064 - val_loss: 4.6534 - val_accuracy: 0.0098\n",
      "Epoch 2/10\n",
      "32/32 [==============================] - 29s 626ms/step - loss: 4.6654 - accuracy: 0.0035 - val_loss: 4.6424 - val_accuracy: 0.0098\n",
      "Epoch 3/10\n",
      "32/32 [==============================] - 29s 629ms/step - loss: 4.6428 - accuracy: 0.0054 - val_loss: 4.6313 - val_accuracy: 0.0098\n",
      "Epoch 4/10\n",
      "32/32 [==============================] - 30s 637ms/step - loss: 4.6457 - accuracy: 0.0079 - val_loss: 4.6271 - val_accuracy: 0.0098\n",
      "Epoch 5/10\n",
      "32/32 [==============================] - 30s 633ms/step - loss: 4.6378 - accuracy: 0.0075 - val_loss: 4.6221 - val_accuracy: 0.0127\n",
      "Epoch 6/10\n",
      "32/32 [==============================] - 30s 641ms/step - loss: 4.6205 - accuracy: 0.0117 - val_loss: 4.5119 - val_accuracy: 0.0186\n",
      "Epoch 7/10\n",
      "32/32 [==============================] - 29s 633ms/step - loss: 4.4958 - accuracy: 0.0177 - val_loss: 4.3952 - val_accuracy: 0.0255\n",
      "Epoch 8/10\n",
      "32/32 [==============================] - 30s 643ms/step - loss: 4.3499 - accuracy: 0.0131 - val_loss: 4.2491 - val_accuracy: 0.0343\n",
      "Epoch 9/10\n",
      "32/32 [==============================] - 30s 629ms/step - loss: 4.2067 - accuracy: 0.0440 - val_loss: 4.2631 - val_accuracy: 0.0284\n",
      "Epoch 10/10\n",
      "32/32 [==============================] - 29s 627ms/step - loss: 4.1377 - accuracy: 0.0267 - val_loss: 4.1674 - val_accuracy: 0.0422\n",
      "saved flowers_models_optimized/EfficentNetB0_flowers_model_ConstantSparsity75_KMeansPlusPlus128.h5\n"
     ]
    }
   ],
   "source": [
    "weight_cluster_model(model_path='flowers_models_optimized/EfficentNetB0_flowers_model_ConstantSparsity75.h5', \n",
    "                     ds_train=flowers_datasets[0], \n",
    "                     ds_validation=flowers_datasets[1], \n",
    "                     batch_size=BATCH_SIZE, \n",
    "                     epochs=PRUNING_EPOCHS, \n",
    "                     number_of_clusters=32)\n",
    "weight_cluster_model(model_path='flowers_models_optimized/EfficentNetB0_flowers_model_ConstantSparsity75.h5', \n",
    "                     ds_train=flowers_datasets[0], \n",
    "                     ds_validation=flowers_datasets[1], \n",
    "                     batch_size=BATCH_SIZE, \n",
    "                     epochs=PRUNING_EPOCHS, \n",
    "                     number_of_clusters=128)"
   ]
  },
  {
   "cell_type": "code",
   "execution_count": 24,
   "metadata": {},
   "outputs": [
    {
     "name": "stdout",
     "output_type": "stream",
     "text": [
      "WARNING:tensorflow:No training configuration found in the save file, so the model was *not* compiled. Compile it manually.\n"
     ]
    },
    {
     "name": "stderr",
     "output_type": "stream",
     "text": [
      "WARNING:tensorflow:No training configuration found in the save file, so the model was *not* compiled. Compile it manually.\n"
     ]
    },
    {
     "name": "stdout",
     "output_type": "stream",
     "text": [
      "Epoch 1/10\n",
      "32/32 [==============================] - 40s 661ms/step - loss: 5.9666 - accuracy: 0.0089 - val_loss: 4.6392 - val_accuracy: 0.0098\n",
      "Epoch 2/10\n",
      "32/32 [==============================] - 29s 623ms/step - loss: 4.6402 - accuracy: 0.0068 - val_loss: 4.6279 - val_accuracy: 0.0108\n",
      "Epoch 3/10\n",
      "32/32 [==============================] - 30s 636ms/step - loss: 4.6341 - accuracy: 0.0118 - val_loss: 4.6270 - val_accuracy: 0.0088\n",
      "Epoch 4/10\n",
      "32/32 [==============================] - 29s 641ms/step - loss: 4.6332 - accuracy: 0.0082 - val_loss: 4.6204 - val_accuracy: 0.0118\n",
      "Epoch 5/10\n",
      "32/32 [==============================] - 31s 660ms/step - loss: 4.6298 - accuracy: 0.0097 - val_loss: 4.6169 - val_accuracy: 0.0108\n",
      "Epoch 6/10\n",
      "32/32 [==============================] - 30s 645ms/step - loss: 4.6266 - accuracy: 0.0059 - val_loss: 4.6174 - val_accuracy: 0.0137\n",
      "Epoch 7/10\n",
      "32/32 [==============================] - 30s 640ms/step - loss: 4.6133 - accuracy: 0.0126 - val_loss: 4.5771 - val_accuracy: 0.0176\n",
      "Epoch 8/10\n",
      "32/32 [==============================] - 29s 620ms/step - loss: 4.5684 - accuracy: 0.0130 - val_loss: 4.3841 - val_accuracy: 0.0255\n",
      "Epoch 9/10\n",
      "32/32 [==============================] - 30s 646ms/step - loss: 4.3350 - accuracy: 0.0242 - val_loss: 4.2856 - val_accuracy: 0.0373\n",
      "Epoch 10/10\n",
      "32/32 [==============================] - 29s 630ms/step - loss: 4.1743 - accuracy: 0.0255 - val_loss: 4.1317 - val_accuracy: 0.0510\n",
      "saved flowers_models_optimized/EfficentNetB0_flowers_model_PolynomialDecay75_KMeansPlusPlus32.h5\n",
      "WARNING:tensorflow:No training configuration found in the save file, so the model was *not* compiled. Compile it manually.\n"
     ]
    },
    {
     "name": "stderr",
     "output_type": "stream",
     "text": [
      "WARNING:tensorflow:No training configuration found in the save file, so the model was *not* compiled. Compile it manually.\n"
     ]
    },
    {
     "name": "stdout",
     "output_type": "stream",
     "text": [
      "Epoch 1/10\n",
      "32/32 [==============================] - 39s 662ms/step - loss: 6.0582 - accuracy: 0.0139 - val_loss: 4.6595 - val_accuracy: 0.0108\n",
      "Epoch 2/10\n",
      "32/32 [==============================] - 29s 610ms/step - loss: 4.6646 - accuracy: 0.0058 - val_loss: 4.6341 - val_accuracy: 0.0098\n",
      "Epoch 3/10\n",
      "32/32 [==============================] - 29s 611ms/step - loss: 4.6387 - accuracy: 0.0089 - val_loss: 4.6242 - val_accuracy: 0.0098\n",
      "Epoch 4/10\n",
      "32/32 [==============================] - 29s 614ms/step - loss: 4.6238 - accuracy: 0.0162 - val_loss: 4.6280 - val_accuracy: 0.0098\n",
      "Epoch 5/10\n",
      "32/32 [==============================] - 29s 623ms/step - loss: 4.6333 - accuracy: 0.0124 - val_loss: 4.6237 - val_accuracy: 0.0098\n",
      "Epoch 6/10\n",
      "32/32 [==============================] - 28s 612ms/step - loss: 4.6277 - accuracy: 0.0084 - val_loss: 4.5782 - val_accuracy: 0.0167\n",
      "Epoch 7/10\n",
      "32/32 [==============================] - 28s 601ms/step - loss: 4.5468 - accuracy: 0.0150 - val_loss: 4.3466 - val_accuracy: 0.0294\n",
      "Epoch 8/10\n",
      "32/32 [==============================] - 29s 605ms/step - loss: 4.3208 - accuracy: 0.0215 - val_loss: 4.1775 - val_accuracy: 0.0471\n",
      "Epoch 9/10\n",
      "32/32 [==============================] - 29s 604ms/step - loss: 3.9790 - accuracy: 0.0560 - val_loss: 3.7691 - val_accuracy: 0.1000\n",
      "Epoch 10/10\n",
      "32/32 [==============================] - 29s 619ms/step - loss: 3.5134 - accuracy: 0.1094 - val_loss: 3.5521 - val_accuracy: 0.1647\n",
      "saved flowers_models_optimized/EfficentNetB0_flowers_model_PolynomialDecay75_KMeansPlusPlus128.h5\n"
     ]
    }
   ],
   "source": [
    "weight_cluster_model(model_path='flowers_models_optimized/EfficentNetB0_flowers_model_PolynomialDecay75.h5', \n",
    "                     ds_train=flowers_datasets[0], \n",
    "                     ds_validation=flowers_datasets[1], \n",
    "                     batch_size=BATCH_SIZE, \n",
    "                     epochs=PRUNING_EPOCHS, \n",
    "                     number_of_clusters=32)\n",
    "weight_cluster_model(model_path='flowers_models_optimized/EfficentNetB0_flowers_model_PolynomialDecay75.h5', \n",
    "                     ds_train=flowers_datasets[0], \n",
    "                     ds_validation=flowers_datasets[1], \n",
    "                     batch_size=BATCH_SIZE, \n",
    "                     epochs=PRUNING_EPOCHS, \n",
    "                     number_of_clusters=128)"
   ]
  },
  {
   "cell_type": "code",
   "execution_count": 25,
   "metadata": {},
   "outputs": [
    {
     "name": "stdout",
     "output_type": "stream",
     "text": [
      "WARNING:tensorflow:No training configuration found in the save file, so the model was *not* compiled. Compile it manually.\n"
     ]
    },
    {
     "name": "stderr",
     "output_type": "stream",
     "text": [
      "WARNING:tensorflow:No training configuration found in the save file, so the model was *not* compiled. Compile it manually.\n"
     ]
    },
    {
     "name": "stdout",
     "output_type": "stream",
     "text": [
      "Epoch 1/10\n",
      "32/32 [==============================] - 40s 671ms/step - loss: 4.8553 - accuracy: 0.0063 - val_loss: 4.6253 - val_accuracy: 0.0098\n",
      "Epoch 2/10\n",
      "32/32 [==============================] - 30s 644ms/step - loss: 4.6255 - accuracy: 0.0124 - val_loss: 4.6252 - val_accuracy: 0.0098\n",
      "Epoch 3/10\n",
      "32/32 [==============================] - 29s 643ms/step - loss: 4.6256 - accuracy: 0.0078 - val_loss: 4.6252 - val_accuracy: 0.0098\n",
      "Epoch 4/10\n",
      "32/32 [==============================] - 30s 627ms/step - loss: 4.6248 - accuracy: 0.0093 - val_loss: 4.6252 - val_accuracy: 0.0098\n",
      "Epoch 5/10\n",
      "32/32 [==============================] - 30s 644ms/step - loss: 4.6253 - accuracy: 0.0126 - val_loss: 4.6251 - val_accuracy: 0.0098\n",
      "Epoch 6/10\n",
      "32/32 [==============================] - 30s 654ms/step - loss: 4.6250 - accuracy: 0.0156 - val_loss: 4.6251 - val_accuracy: 0.0098\n",
      "Epoch 7/10\n",
      "32/32 [==============================] - 29s 631ms/step - loss: 4.6256 - accuracy: 0.0112 - val_loss: 4.6251 - val_accuracy: 0.0098\n",
      "Epoch 8/10\n",
      "32/32 [==============================] - 30s 635ms/step - loss: 4.6258 - accuracy: 0.0133 - val_loss: 4.6251 - val_accuracy: 0.0098\n",
      "Epoch 9/10\n",
      "32/32 [==============================] - 30s 627ms/step - loss: 4.6252 - accuracy: 0.0104 - val_loss: 4.6251 - val_accuracy: 0.0098\n",
      "Epoch 10/10\n",
      "32/32 [==============================] - 30s 637ms/step - loss: 4.6249 - accuracy: 0.0063 - val_loss: 4.6251 - val_accuracy: 0.0098\n",
      "saved flowers_models_optimized/EfficentNetB0_flowers_model_ConstantSparsity90_KMeansPlusPlus32.h5\n",
      "WARNING:tensorflow:No training configuration found in the save file, so the model was *not* compiled. Compile it manually.\n"
     ]
    },
    {
     "name": "stderr",
     "output_type": "stream",
     "text": [
      "WARNING:tensorflow:No training configuration found in the save file, so the model was *not* compiled. Compile it manually.\n"
     ]
    },
    {
     "name": "stdout",
     "output_type": "stream",
     "text": [
      "Epoch 1/10\n",
      "32/32 [==============================] - 40s 642ms/step - loss: 4.8565 - accuracy: 0.0163 - val_loss: 4.6252 - val_accuracy: 0.0098\n",
      "Epoch 2/10\n",
      "32/32 [==============================] - 29s 628ms/step - loss: 4.6261 - accuracy: 0.0102 - val_loss: 4.6252 - val_accuracy: 0.0098\n",
      "Epoch 3/10\n",
      "32/32 [==============================] - 29s 639ms/step - loss: 4.6252 - accuracy: 0.0081 - val_loss: 4.6252 - val_accuracy: 0.0098\n",
      "Epoch 4/10\n",
      "32/32 [==============================] - 29s 625ms/step - loss: 4.6246 - accuracy: 0.0088 - val_loss: 4.6251 - val_accuracy: 0.0098\n",
      "Epoch 5/10\n",
      "32/32 [==============================] - 29s 617ms/step - loss: 4.6252 - accuracy: 0.0059 - val_loss: 4.6251 - val_accuracy: 0.0098\n",
      "Epoch 6/10\n",
      "32/32 [==============================] - 30s 633ms/step - loss: 4.6258 - accuracy: 0.0073 - val_loss: 4.6251 - val_accuracy: 0.0098\n",
      "Epoch 7/10\n",
      "32/32 [==============================] - 30s 633ms/step - loss: 4.6256 - accuracy: 0.0107 - val_loss: 4.6251 - val_accuracy: 0.0098\n",
      "Epoch 8/10\n",
      "32/32 [==============================] - 30s 657ms/step - loss: 4.6253 - accuracy: 0.0087 - val_loss: 4.6251 - val_accuracy: 0.0098\n",
      "Epoch 9/10\n",
      "32/32 [==============================] - 30s 638ms/step - loss: 4.6248 - accuracy: 0.0134 - val_loss: 4.6251 - val_accuracy: 0.0098\n",
      "Epoch 10/10\n",
      "32/32 [==============================] - 30s 630ms/step - loss: 4.6253 - accuracy: 0.0080 - val_loss: 4.6251 - val_accuracy: 0.0098\n",
      "saved flowers_models_optimized/EfficentNetB0_flowers_model_ConstantSparsity90_KMeansPlusPlus128.h5\n"
     ]
    }
   ],
   "source": [
    "weight_cluster_model(model_path='flowers_models_optimized/EfficentNetB0_flowers_model_ConstantSparsity90.h5', \n",
    "                     ds_train=flowers_datasets[0], \n",
    "                     ds_validation=flowers_datasets[1], \n",
    "                     batch_size=BATCH_SIZE, \n",
    "                     epochs=PRUNING_EPOCHS, \n",
    "                     number_of_clusters=32)\n",
    "weight_cluster_model(model_path='flowers_models_optimized/EfficentNetB0_flowers_model_ConstantSparsity90.h5', \n",
    "                     ds_train=flowers_datasets[0], \n",
    "                     ds_validation=flowers_datasets[1], \n",
    "                     batch_size=BATCH_SIZE, \n",
    "                     epochs=PRUNING_EPOCHS, \n",
    "                     number_of_clusters=128)"
   ]
  },
  {
   "cell_type": "code",
   "execution_count": 26,
   "metadata": {},
   "outputs": [
    {
     "name": "stdout",
     "output_type": "stream",
     "text": [
      "WARNING:tensorflow:No training configuration found in the save file, so the model was *not* compiled. Compile it manually.\n"
     ]
    },
    {
     "name": "stderr",
     "output_type": "stream",
     "text": [
      "WARNING:tensorflow:No training configuration found in the save file, so the model was *not* compiled. Compile it manually.\n"
     ]
    },
    {
     "name": "stdout",
     "output_type": "stream",
     "text": [
      "Epoch 1/10\n",
      "32/32 [==============================] - 39s 663ms/step - loss: 5.8399 - accuracy: 0.0117 - val_loss: 4.6439 - val_accuracy: 0.0098\n",
      "Epoch 2/10\n",
      "32/32 [==============================] - 29s 627ms/step - loss: 4.6525 - accuracy: 0.0026 - val_loss: 4.6350 - val_accuracy: 0.0098\n",
      "Epoch 3/10\n",
      "32/32 [==============================] - 30s 641ms/step - loss: 4.6498 - accuracy: 0.0108 - val_loss: 4.6284 - val_accuracy: 0.0098\n",
      "Epoch 4/10\n",
      "32/32 [==============================] - 29s 609ms/step - loss: 4.6356 - accuracy: 0.0023 - val_loss: 4.6256 - val_accuracy: 0.0108\n",
      "Epoch 5/10\n",
      "32/32 [==============================] - 30s 625ms/step - loss: 4.6365 - accuracy: 0.0062 - val_loss: 4.6247 - val_accuracy: 0.0098\n",
      "Epoch 6/10\n",
      "32/32 [==============================] - 30s 652ms/step - loss: 4.6281 - accuracy: 0.0049 - val_loss: 4.6311 - val_accuracy: 0.0098\n",
      "Epoch 7/10\n",
      "32/32 [==============================] - 30s 648ms/step - loss: 4.6399 - accuracy: 0.0137 - val_loss: 4.6209 - val_accuracy: 0.0176\n",
      "Epoch 8/10\n",
      "32/32 [==============================] - 30s 644ms/step - loss: 4.6188 - accuracy: 0.0068 - val_loss: 4.4996 - val_accuracy: 0.0186\n",
      "Epoch 9/10\n",
      "32/32 [==============================] - 29s 627ms/step - loss: 4.5235 - accuracy: 0.0120 - val_loss: 4.6283 - val_accuracy: 0.0098\n",
      "Epoch 10/10\n",
      "32/32 [==============================] - 30s 643ms/step - loss: 4.6302 - accuracy: 0.0075 - val_loss: 4.6265 - val_accuracy: 0.0098\n",
      "saved flowers_models_optimized/EfficentNetB0_flowers_model_PolynomialDecay90_KMeansPlusPlus32.h5\n",
      "WARNING:tensorflow:No training configuration found in the save file, so the model was *not* compiled. Compile it manually.\n"
     ]
    },
    {
     "name": "stderr",
     "output_type": "stream",
     "text": [
      "WARNING:tensorflow:No training configuration found in the save file, so the model was *not* compiled. Compile it manually.\n"
     ]
    },
    {
     "name": "stdout",
     "output_type": "stream",
     "text": [
      "Epoch 1/10\n",
      "32/32 [==============================] - 43s 685ms/step - loss: 5.8674 - accuracy: 0.0096 - val_loss: 4.6464 - val_accuracy: 0.0098\n",
      "Epoch 2/10\n",
      "32/32 [==============================] - 29s 633ms/step - loss: 4.6510 - accuracy: 0.0022 - val_loss: 4.6337 - val_accuracy: 0.0098\n",
      "Epoch 3/10\n",
      "32/32 [==============================] - 30s 639ms/step - loss: 4.6452 - accuracy: 0.0070 - val_loss: 4.6269 - val_accuracy: 0.0098\n",
      "Epoch 4/10\n",
      "32/32 [==============================] - 29s 616ms/step - loss: 4.6350 - accuracy: 0.0023 - val_loss: 4.6354 - val_accuracy: 0.0098\n",
      "Epoch 5/10\n",
      "32/32 [==============================] - 30s 636ms/step - loss: 4.6426 - accuracy: 0.0079 - val_loss: 4.6280 - val_accuracy: 0.0098\n",
      "Epoch 6/10\n",
      "32/32 [==============================] - 29s 622ms/step - loss: 4.6353 - accuracy: 0.0113 - val_loss: 4.6316 - val_accuracy: 0.0098\n",
      "Epoch 7/10\n",
      "32/32 [==============================] - 29s 618ms/step - loss: 4.6375 - accuracy: 0.0115 - val_loss: 4.6282 - val_accuracy: 0.0098\n",
      "Epoch 8/10\n",
      "32/32 [==============================] - 29s 617ms/step - loss: 4.6362 - accuracy: 0.0061 - val_loss: 4.6269 - val_accuracy: 0.0098\n",
      "Epoch 9/10\n",
      "32/32 [==============================] - 29s 621ms/step - loss: 4.6348 - accuracy: 0.0079 - val_loss: 4.6250 - val_accuracy: 0.0098\n",
      "Epoch 10/10\n",
      "32/32 [==============================] - 29s 618ms/step - loss: 4.6285 - accuracy: 0.0040 - val_loss: 4.6231 - val_accuracy: 0.0137\n",
      "saved flowers_models_optimized/EfficentNetB0_flowers_model_PolynomialDecay90_KMeansPlusPlus128.h5\n"
     ]
    }
   ],
   "source": [
    "weight_cluster_model(model_path='flowers_models_optimized/EfficentNetB0_flowers_model_PolynomialDecay90.h5', \n",
    "                     ds_train=flowers_datasets[0], \n",
    "                     ds_validation=flowers_datasets[1], \n",
    "                     batch_size=BATCH_SIZE, \n",
    "                     epochs=PRUNING_EPOCHS, \n",
    "                     number_of_clusters=32)\n",
    "weight_cluster_model(model_path='flowers_models_optimized/EfficentNetB0_flowers_model_PolynomialDecay90.h5', \n",
    "                     ds_train=flowers_datasets[0], \n",
    "                     ds_validation=flowers_datasets[1], \n",
    "                     batch_size=BATCH_SIZE, \n",
    "                     epochs=PRUNING_EPOCHS, \n",
    "                     number_of_clusters=128)"
   ]
  },
  {
   "cell_type": "markdown",
   "metadata": {},
   "source": [
    "## 1. Prune base models"
   ]
  },
  {
   "cell_type": "code",
   "execution_count": 33,
   "metadata": {
    "scrolled": true
   },
   "outputs": [
    {
     "name": "stdout",
     "output_type": "stream",
     "text": [
      "Epoch 1/10\n",
      " 6/81 [=>............................] - ETA: 5:33 - loss: 4.5759 - accuracy: 0.1030WARNING:tensorflow:Callback method `on_train_batch_end` is slow compared to the batch time (batch time: 0.1111s vs `on_train_batch_end` time: 3.5971s). Check your callbacks.\n"
     ]
    },
    {
     "name": "stderr",
     "output_type": "stream",
     "text": [
      "WARNING:tensorflow:Callback method `on_train_batch_end` is slow compared to the batch time (batch time: 0.1111s vs `on_train_batch_end` time: 3.5971s). Check your callbacks.\n"
     ]
    },
    {
     "name": "stdout",
     "output_type": "stream",
     "text": [
      "81/81 [==============================] - 71s 565ms/step - loss: 2.3130 - accuracy: 0.3017 - val_loss: 4.1403 - val_accuracy: 0.2668\n",
      "Epoch 2/10\n",
      "81/81 [==============================] - 41s 284ms/step - loss: 1.2401 - accuracy: 0.5021 - val_loss: 3.7335 - val_accuracy: 0.2668\n",
      "Epoch 3/10\n",
      "81/81 [==============================] - 36s 290ms/step - loss: 1.0454 - accuracy: 0.5865 - val_loss: 3.2857 - val_accuracy: 0.2668\n",
      "Epoch 4/10\n",
      "81/81 [==============================] - 42s 300ms/step - loss: 0.9488 - accuracy: 0.6282 - val_loss: 2.8430 - val_accuracy: 0.2668\n",
      "Epoch 5/10\n",
      "81/81 [==============================] - 40s 295ms/step - loss: 0.8219 - accuracy: 0.6928 - val_loss: 2.4836 - val_accuracy: 0.2668\n",
      "Epoch 6/10\n",
      "81/81 [==============================] - 36s 288ms/step - loss: 0.7694 - accuracy: 0.7190 - val_loss: 2.2601 - val_accuracy: 0.2668\n",
      "Epoch 7/10\n",
      "81/81 [==============================] - 34s 293ms/step - loss: 0.6924 - accuracy: 0.7573 - val_loss: 2.1318 - val_accuracy: 0.2668\n",
      "Epoch 8/10\n",
      "81/81 [==============================] - 41s 288ms/step - loss: 0.6420 - accuracy: 0.7735 - val_loss: 2.0171 - val_accuracy: 0.2668\n",
      "Epoch 9/10\n",
      "81/81 [==============================] - 41s 286ms/step - loss: 0.5769 - accuracy: 0.7922 - val_loss: 2.0340 - val_accuracy: 0.2668\n",
      "Epoch 10/10\n",
      "81/81 [==============================] - 41s 291ms/step - loss: 0.5569 - accuracy: 0.8012 - val_loss: 1.9918 - val_accuracy: 0.2668\n",
      "Epoch 1/10\n",
      " 6/81 [=>............................] - ETA: 1:07 - loss: 3.7561 - accuracy: 0.1985WARNING:tensorflow:Callback method `on_train_batch_end` is slow compared to the batch time (batch time: 0.1070s vs `on_train_batch_end` time: 0.6469s). Check your callbacks.\n"
     ]
    },
    {
     "name": "stderr",
     "output_type": "stream",
     "text": [
      "WARNING:tensorflow:Callback method `on_train_batch_end` is slow compared to the batch time (batch time: 0.1070s vs `on_train_batch_end` time: 0.6469s). Check your callbacks.\n"
     ]
    },
    {
     "name": "stdout",
     "output_type": "stream",
     "text": [
      "81/81 [==============================] - 63s 349ms/step - loss: 1.9113 - accuracy: 0.3597 - val_loss: 3.7687 - val_accuracy: 0.2668\n",
      "Epoch 2/10\n",
      "81/81 [==============================] - 37s 289ms/step - loss: 1.1633 - accuracy: 0.5210 - val_loss: 2.5998 - val_accuracy: 0.2668\n",
      "Epoch 3/10\n",
      "81/81 [==============================] - 34s 302ms/step - loss: 0.9927 - accuracy: 0.6043 - val_loss: 1.9434 - val_accuracy: 0.2668\n",
      "Epoch 4/10\n",
      "81/81 [==============================] - 42s 301ms/step - loss: 0.9659 - accuracy: 0.6386 - val_loss: 1.9169 - val_accuracy: 0.1379\n",
      "Epoch 5/10\n",
      "81/81 [==============================] - 41s 293ms/step - loss: 0.8366 - accuracy: 0.6795 - val_loss: 1.8433 - val_accuracy: 0.1379\n",
      "Epoch 6/10\n",
      "81/81 [==============================] - 37s 298ms/step - loss: 0.7373 - accuracy: 0.7146 - val_loss: 2.0342 - val_accuracy: 0.1379\n",
      "Epoch 7/10\n",
      "81/81 [==============================] - 30s 294ms/step - loss: 0.7201 - accuracy: 0.7264 - val_loss: 2.0955 - val_accuracy: 0.1379\n",
      "Epoch 8/10\n",
      "81/81 [==============================] - 39s 288ms/step - loss: 0.6206 - accuracy: 0.7696 - val_loss: 2.2118 - val_accuracy: 0.1379\n",
      "Epoch 9/10\n",
      "81/81 [==============================] - 31s 289ms/step - loss: 0.6175 - accuracy: 0.7678 - val_loss: 2.4047 - val_accuracy: 0.1379\n",
      "Epoch 10/10\n",
      "81/81 [==============================] - 38s 295ms/step - loss: 0.5786 - accuracy: 0.7910 - val_loss: 2.6627 - val_accuracy: 0.1379\n",
      "saved tf_flowers_models/MobileNetV2_tf_flowers_model_ConstantSparsity50.h5\n",
      "saved tf_flowers_models/MobileNetV2_tf_flowers_model_PolynomialDecay50.h5\n",
      "Epoch 1/10\n",
      " 6/81 [=>............................] - ETA: 1:11 - loss: 4.6143 - accuracy: 0.0530WARNING:tensorflow:Callback method `on_train_batch_end` is slow compared to the batch time (batch time: 0.1073s vs `on_train_batch_end` time: 0.6882s). Check your callbacks.\n"
     ]
    },
    {
     "name": "stderr",
     "output_type": "stream",
     "text": [
      "WARNING:tensorflow:Callback method `on_train_batch_end` is slow compared to the batch time (batch time: 0.1073s vs `on_train_batch_end` time: 0.6882s). Check your callbacks.\n"
     ]
    },
    {
     "name": "stdout",
     "output_type": "stream",
     "text": [
      "81/81 [==============================] - 68s 351ms/step - loss: 2.5821 - accuracy: 0.2989 - val_loss: 4.1028 - val_accuracy: 0.2432\n",
      "Epoch 2/10\n",
      "81/81 [==============================] - 40s 293ms/step - loss: 1.2174 - accuracy: 0.5222 - val_loss: 3.8983 - val_accuracy: 0.2668\n",
      "Epoch 3/10\n",
      "81/81 [==============================] - 34s 293ms/step - loss: 1.0064 - accuracy: 0.5994 - val_loss: 3.6618 - val_accuracy: 0.2668\n",
      "Epoch 4/10\n",
      "81/81 [==============================] - 30s 288ms/step - loss: 0.8323 - accuracy: 0.6793 - val_loss: 3.4097 - val_accuracy: 0.1379\n",
      "Epoch 5/10\n",
      "81/81 [==============================] - 41s 291ms/step - loss: 0.7839 - accuracy: 0.7006 - val_loss: 3.1322 - val_accuracy: 0.1379\n",
      "Epoch 6/10\n",
      "81/81 [==============================] - 39s 291ms/step - loss: 0.7233 - accuracy: 0.7395 - val_loss: 2.8117 - val_accuracy: 0.2668\n",
      "Epoch 7/10\n",
      "81/81 [==============================] - 42s 297ms/step - loss: 0.6966 - accuracy: 0.7342 - val_loss: 2.5622 - val_accuracy: 0.1379\n",
      "Epoch 8/10\n",
      "81/81 [==============================] - 37s 300ms/step - loss: 0.6092 - accuracy: 0.7724 - val_loss: 2.3375 - val_accuracy: 0.1379\n",
      "Epoch 9/10\n",
      "81/81 [==============================] - 41s 294ms/step - loss: 0.5933 - accuracy: 0.7803 - val_loss: 2.1812 - val_accuracy: 0.1379\n",
      "Epoch 10/10\n",
      "81/81 [==============================] - 41s 288ms/step - loss: 0.4835 - accuracy: 0.8342 - val_loss: 2.1114 - val_accuracy: 0.1379\n",
      "Epoch 1/10\n",
      " 6/81 [=>............................] - ETA: 56s - loss: 3.6714 - accuracy: 0.1783 WARNING:tensorflow:Callback method `on_train_batch_end` is slow compared to the batch time (batch time: 0.1042s vs `on_train_batch_end` time: 0.5297s). Check your callbacks.\n"
     ]
    },
    {
     "name": "stderr",
     "output_type": "stream",
     "text": [
      "WARNING:tensorflow:Callback method `on_train_batch_end` is slow compared to the batch time (batch time: 0.1042s vs `on_train_batch_end` time: 0.5297s). Check your callbacks.\n"
     ]
    },
    {
     "name": "stdout",
     "output_type": "stream",
     "text": [
      "81/81 [==============================] - 62s 348ms/step - loss: 1.8941 - accuracy: 0.3613 - val_loss: 3.8100 - val_accuracy: 0.2668\n",
      "Epoch 2/10\n",
      "81/81 [==============================] - 36s 298ms/step - loss: 1.1538 - accuracy: 0.5417 - val_loss: 2.6510 - val_accuracy: 0.2668\n",
      "Epoch 3/10\n",
      "81/81 [==============================] - 41s 291ms/step - loss: 0.9935 - accuracy: 0.6045 - val_loss: 2.0047 - val_accuracy: 0.2668\n",
      "Epoch 4/10\n",
      "81/81 [==============================] - 33s 298ms/step - loss: 0.8201 - accuracy: 0.6854 - val_loss: 1.9132 - val_accuracy: 0.2668\n",
      "Epoch 5/10\n",
      "81/81 [==============================] - 41s 292ms/step - loss: 0.7697 - accuracy: 0.7195 - val_loss: 2.1138 - val_accuracy: 0.2668\n",
      "Epoch 6/10\n",
      "81/81 [==============================] - 33s 308ms/step - loss: 0.7354 - accuracy: 0.7287 - val_loss: 2.7425 - val_accuracy: 0.2668\n",
      "Epoch 7/10\n",
      "81/81 [==============================] - 42s 304ms/step - loss: 0.6434 - accuracy: 0.7601 - val_loss: 2.8300 - val_accuracy: 0.2668\n",
      "Epoch 8/10\n",
      "81/81 [==============================] - 36s 290ms/step - loss: 0.5668 - accuracy: 0.8039 - val_loss: 2.4642 - val_accuracy: 0.2668\n",
      "Epoch 9/10\n",
      "81/81 [==============================] - 38s 290ms/step - loss: 0.6346 - accuracy: 0.7770 - val_loss: 3.0822 - val_accuracy: 0.2668\n",
      "Epoch 10/10\n",
      "81/81 [==============================] - 31s 290ms/step - loss: 0.4961 - accuracy: 0.8185 - val_loss: 4.8733 - val_accuracy: 0.2668\n",
      "saved tf_flowers_models/MobileNetV2_tf_flowers_model_ConstantSparsity75.h5\n",
      "saved tf_flowers_models/MobileNetV2_tf_flowers_model_PolynomialDecay75.h5\n",
      "Epoch 1/10\n",
      " 6/81 [=>............................] - ETA: 1:14 - loss: 4.4776 - accuracy: 0.0413WARNING:tensorflow:Callback method `on_train_batch_end` is slow compared to the batch time (batch time: 0.1054s vs `on_train_batch_end` time: 0.7300s). Check your callbacks.\n"
     ]
    },
    {
     "name": "stderr",
     "output_type": "stream",
     "text": [
      "WARNING:tensorflow:Callback method `on_train_batch_end` is slow compared to the batch time (batch time: 0.1054s vs `on_train_batch_end` time: 0.7300s). Check your callbacks.\n"
     ]
    },
    {
     "name": "stdout",
     "output_type": "stream",
     "text": [
      "81/81 [==============================] - 68s 357ms/step - loss: 3.0089 - accuracy: 0.2821 - val_loss: 4.0149 - val_accuracy: 0.1379\n",
      "Epoch 2/10\n",
      "81/81 [==============================] - 42s 298ms/step - loss: 1.2222 - accuracy: 0.5244 - val_loss: 3.7721 - val_accuracy: 0.1379\n",
      "Epoch 3/10\n",
      "81/81 [==============================] - 30s 299ms/step - loss: 1.0686 - accuracy: 0.5764 - val_loss: 3.5780 - val_accuracy: 0.2668\n",
      "Epoch 4/10\n",
      "81/81 [==============================] - 36s 291ms/step - loss: 0.8916 - accuracy: 0.6710 - val_loss: 3.3956 - val_accuracy: 0.1379\n",
      "Epoch 5/10\n",
      "81/81 [==============================] - 40s 296ms/step - loss: 0.8846 - accuracy: 0.6572 - val_loss: 3.2167 - val_accuracy: 0.2668\n",
      "Epoch 6/10\n",
      "81/81 [==============================] - 42s 294ms/step - loss: 0.7832 - accuracy: 0.7145 - val_loss: 3.0371 - val_accuracy: 0.1379\n",
      "Epoch 7/10\n",
      "81/81 [==============================] - 29s 291ms/step - loss: 0.6908 - accuracy: 0.7372 - val_loss: 2.8535 - val_accuracy: 0.2668\n",
      "Epoch 8/10\n",
      "81/81 [==============================] - 36s 302ms/step - loss: 0.6972 - accuracy: 0.7434 - val_loss: 2.6657 - val_accuracy: 0.2668\n",
      "Epoch 9/10\n",
      "81/81 [==============================] - 42s 296ms/step - loss: 0.6788 - accuracy: 0.7479 - val_loss: 2.4982 - val_accuracy: 0.2668\n",
      "Epoch 10/10\n",
      "81/81 [==============================] - 36s 301ms/step - loss: 0.5949 - accuracy: 0.7847 - val_loss: 2.3387 - val_accuracy: 0.2668\n",
      "Epoch 1/10\n",
      " 6/81 [=>............................] - ETA: 55s - loss: 3.4876 - accuracy: 0.1800 WARNING:tensorflow:Callback method `on_train_batch_end` is slow compared to the batch time (batch time: 0.1090s vs `on_train_batch_end` time: 0.5156s). Check your callbacks.\n"
     ]
    },
    {
     "name": "stderr",
     "output_type": "stream",
     "text": [
      "WARNING:tensorflow:Callback method `on_train_batch_end` is slow compared to the batch time (batch time: 0.1090s vs `on_train_batch_end` time: 0.5156s). Check your callbacks.\n"
     ]
    },
    {
     "name": "stdout",
     "output_type": "stream",
     "text": [
      "81/81 [==============================] - 60s 339ms/step - loss: 1.9276 - accuracy: 0.3228 - val_loss: 3.7759 - val_accuracy: 0.2668\n",
      "Epoch 2/10\n",
      "81/81 [==============================] - 42s 296ms/step - loss: 1.1623 - accuracy: 0.5348 - val_loss: 2.6165 - val_accuracy: 0.2668\n",
      "Epoch 3/10\n",
      "81/81 [==============================] - 29s 295ms/step - loss: 1.0136 - accuracy: 0.5993 - val_loss: 1.9715 - val_accuracy: 0.2668\n",
      "Epoch 4/10\n",
      "81/81 [==============================] - 41s 290ms/step - loss: 0.8576 - accuracy: 0.6775 - val_loss: 1.8582 - val_accuracy: 0.2668\n",
      "Epoch 5/10\n",
      "81/81 [==============================] - 40s 296ms/step - loss: 0.8442 - accuracy: 0.6910 - val_loss: 1.8179 - val_accuracy: 0.2668\n",
      "Epoch 6/10\n",
      "81/81 [==============================] - 37s 293ms/step - loss: 0.8555 - accuracy: 0.6656 - val_loss: 1.9323 - val_accuracy: 0.2668\n",
      "Epoch 7/10\n",
      "81/81 [==============================] - 41s 292ms/step - loss: 0.6538 - accuracy: 0.7600 - val_loss: 1.8620 - val_accuracy: 0.2668\n",
      "Epoch 8/10\n",
      "81/81 [==============================] - 41s 296ms/step - loss: 0.6306 - accuracy: 0.7740 - val_loss: 2.1449 - val_accuracy: 0.2668\n",
      "Epoch 9/10\n",
      "81/81 [==============================] - 42s 297ms/step - loss: 0.5613 - accuracy: 0.7959 - val_loss: 2.2606 - val_accuracy: 0.2668\n",
      "Epoch 10/10\n",
      "81/81 [==============================] - 39s 294ms/step - loss: 0.5972 - accuracy: 0.7823 - val_loss: 2.3010 - val_accuracy: 0.2668\n",
      "saved tf_flowers_models/MobileNetV2_tf_flowers_model_ConstantSparsity90.h5\n",
      "saved tf_flowers_models/MobileNetV2_tf_flowers_model_PolynomialDecay90.h5\n"
     ]
    }
   ],
   "source": [
    "prune_model(model_path='tf_flowers_models/MobileNetV2_tf_flowers_model.h5', \n",
    "            ds_train=tf_flowers_datasets[0], \n",
    "            ds_validation=tf_flowers_datasets[1],\n",
    "            batch_size=BATCH_SIZE, \n",
    "            pruning_epochs=PRUNING_EPOCHS,\n",
    "            sparsity=0.5)\n",
    "prune_model(model_path='tf_flowers_models/MobileNetV2_tf_flowers_model.h5', \n",
    "            ds_train=tf_flowers_datasets[0], \n",
    "            ds_validation=tf_flowers_datasets[1],\n",
    "            batch_size=BATCH_SIZE, \n",
    "            pruning_epochs=PRUNING_EPOCHS,\n",
    "            sparsity=0.75)\n",
    "prune_model(model_path='tf_flowers_models/MobileNetV2_tf_flowers_model.h5', \n",
    "            ds_train=tf_flowers_datasets[0], \n",
    "            ds_validation=tf_flowers_datasets[1],\n",
    "            batch_size=BATCH_SIZE, \n",
    "            pruning_epochs=PRUNING_EPOCHS,\n",
    "            sparsity=0.9)"
   ]
  },
  {
   "cell_type": "code",
   "execution_count": 34,
   "metadata": {
    "scrolled": true
   },
   "outputs": [
    {
     "name": "stdout",
     "output_type": "stream",
     "text": [
      "Epoch 1/10\n",
      " 6/81 [=>............................] - ETA: 1:28 - loss: 4.5947 - accuracy: 0.1095WARNING:tensorflow:Callback method `on_train_batch_end` is slow compared to the batch time (batch time: 0.1698s vs `on_train_batch_end` time: 0.8223s). Check your callbacks.\n"
     ]
    },
    {
     "name": "stderr",
     "output_type": "stream",
     "text": [
      "WARNING:tensorflow:Callback method `on_train_batch_end` is slow compared to the batch time (batch time: 0.1698s vs `on_train_batch_end` time: 0.8223s). Check your callbacks.\n"
     ]
    },
    {
     "name": "stdout",
     "output_type": "stream",
     "text": [
      "81/81 [==============================] - 91s 495ms/step - loss: 2.7770 - accuracy: 0.3115 - val_loss: 2.1217 - val_accuracy: 0.2668\n",
      "Epoch 2/10\n",
      "81/81 [==============================] - 49s 427ms/step - loss: 1.2693 - accuracy: 0.4822 - val_loss: 2.2240 - val_accuracy: 0.2668\n",
      "Epoch 3/10\n",
      "81/81 [==============================] - 48s 433ms/step - loss: 1.0239 - accuracy: 0.5720 - val_loss: 3.0491 - val_accuracy: 0.2668\n",
      "Epoch 4/10\n",
      "81/81 [==============================] - 46s 427ms/step - loss: 0.8934 - accuracy: 0.6448 - val_loss: 2.5905 - val_accuracy: 0.2668\n",
      "Epoch 5/10\n",
      "81/81 [==============================] - 49s 437ms/step - loss: 0.8031 - accuracy: 0.6904 - val_loss: 3.8008 - val_accuracy: 0.2668\n",
      "Epoch 6/10\n",
      "81/81 [==============================] - 49s 429ms/step - loss: 0.6531 - accuracy: 0.7499 - val_loss: 4.6803 - val_accuracy: 0.2668\n",
      "Epoch 7/10\n",
      "81/81 [==============================] - 48s 437ms/step - loss: 0.5574 - accuracy: 0.7845 - val_loss: 3.5511 - val_accuracy: 0.2668\n",
      "Epoch 8/10\n",
      "81/81 [==============================] - 46s 426ms/step - loss: 0.4361 - accuracy: 0.8488 - val_loss: 2.0408 - val_accuracy: 0.3721\n",
      "Epoch 9/10\n",
      "81/81 [==============================] - 45s 429ms/step - loss: 0.3264 - accuracy: 0.8905 - val_loss: 1.7226 - val_accuracy: 0.5481\n",
      "Epoch 10/10\n",
      "81/81 [==============================] - 50s 433ms/step - loss: 0.3046 - accuracy: 0.8829 - val_loss: 1.5766 - val_accuracy: 0.5935\n",
      "Epoch 1/10\n",
      " 6/81 [=>............................] - ETA: 1:13 - loss: 4.4793 - accuracy: 0.2002WARNING:tensorflow:Callback method `on_train_batch_end` is slow compared to the batch time (batch time: 0.1703s vs `on_train_batch_end` time: 0.6571s). Check your callbacks.\n"
     ]
    },
    {
     "name": "stderr",
     "output_type": "stream",
     "text": [
      "WARNING:tensorflow:Callback method `on_train_batch_end` is slow compared to the batch time (batch time: 0.1703s vs `on_train_batch_end` time: 0.6571s). Check your callbacks.\n"
     ]
    },
    {
     "name": "stdout",
     "output_type": "stream",
     "text": [
      "81/81 [==============================] - 82s 487ms/step - loss: 2.4952 - accuracy: 0.3514 - val_loss: 2.0025 - val_accuracy: 0.2668\n",
      "Epoch 2/10\n",
      "81/81 [==============================] - 43s 433ms/step - loss: 1.1718 - accuracy: 0.5407 - val_loss: 2.6527 - val_accuracy: 0.2668\n",
      "Epoch 3/10\n",
      "81/81 [==============================] - 50s 426ms/step - loss: 1.0170 - accuracy: 0.5955 - val_loss: 4.9386 - val_accuracy: 0.2668\n",
      "Epoch 4/10\n",
      "81/81 [==============================] - 46s 431ms/step - loss: 0.8469 - accuracy: 0.6704 - val_loss: 3.3533 - val_accuracy: 0.2668\n",
      "Epoch 5/10\n",
      "81/81 [==============================] - 44s 433ms/step - loss: 0.7527 - accuracy: 0.7187 - val_loss: 4.9370 - val_accuracy: 0.2668\n",
      "Epoch 6/10\n",
      "81/81 [==============================] - 52s 427ms/step - loss: 0.6247 - accuracy: 0.7602 - val_loss: 4.3971 - val_accuracy: 0.2668\n",
      "Epoch 7/10\n",
      "81/81 [==============================] - 49s 425ms/step - loss: 0.6468 - accuracy: 0.7640 - val_loss: 6.2506 - val_accuracy: 0.2704\n",
      "Epoch 8/10\n",
      "81/81 [==============================] - 48s 429ms/step - loss: 0.4115 - accuracy: 0.8536 - val_loss: 2.0138 - val_accuracy: 0.4301\n",
      "Epoch 9/10\n",
      "81/81 [==============================] - 50s 429ms/step - loss: 0.4053 - accuracy: 0.8562 - val_loss: 1.3677 - val_accuracy: 0.5844\n",
      "Epoch 10/10\n",
      "81/81 [==============================] - 45s 435ms/step - loss: 0.3465 - accuracy: 0.8854 - val_loss: 1.1609 - val_accuracy: 0.5971\n",
      "saved tf_flowers_models/EfficentNetB0_tf_flowers_model_ConstantSparsity50.h5\n",
      "saved tf_flowers_models/EfficentNetB0_tf_flowers_model_PolynomialDecay50.h5\n",
      "Epoch 1/10\n",
      " 6/81 [=>............................] - ETA: 1:26 - loss: 4.4806 - accuracy: 0.1907WARNING:tensorflow:Callback method `on_train_batch_end` is slow compared to the batch time (batch time: 0.1719s vs `on_train_batch_end` time: 0.8011s). Check your callbacks.\n"
     ]
    },
    {
     "name": "stderr",
     "output_type": "stream",
     "text": [
      "WARNING:tensorflow:Callback method `on_train_batch_end` is slow compared to the batch time (batch time: 0.1719s vs `on_train_batch_end` time: 0.8011s). Check your callbacks.\n"
     ]
    },
    {
     "name": "stdout",
     "output_type": "stream",
     "text": [
      "81/81 [==============================] - 91s 498ms/step - loss: 3.0527 - accuracy: 0.3133 - val_loss: 2.5551 - val_accuracy: 0.2668\n",
      "Epoch 2/10\n",
      "81/81 [==============================] - 46s 431ms/step - loss: 1.2297 - accuracy: 0.4979 - val_loss: 2.0305 - val_accuracy: 0.2668\n",
      "Epoch 3/10\n",
      "81/81 [==============================] - 50s 425ms/step - loss: 1.0237 - accuracy: 0.5678 - val_loss: 2.2160 - val_accuracy: 0.2668\n",
      "Epoch 4/10\n",
      "81/81 [==============================] - 50s 424ms/step - loss: 0.8997 - accuracy: 0.6384 - val_loss: 2.6019 - val_accuracy: 0.2668\n",
      "Epoch 5/10\n",
      "81/81 [==============================] - 46s 429ms/step - loss: 0.7816 - accuracy: 0.6955 - val_loss: 2.6816 - val_accuracy: 0.2668\n",
      "Epoch 6/10\n",
      "81/81 [==============================] - 52s 425ms/step - loss: 0.6694 - accuracy: 0.7556 - val_loss: 2.7700 - val_accuracy: 0.2668\n",
      "Epoch 7/10\n",
      "81/81 [==============================] - 49s 429ms/step - loss: 0.5268 - accuracy: 0.8246 - val_loss: 3.0881 - val_accuracy: 0.2650\n",
      "Epoch 8/10\n",
      "81/81 [==============================] - 39s 419ms/step - loss: 0.4739 - accuracy: 0.8199 - val_loss: 3.1903 - val_accuracy: 0.2813\n",
      "Epoch 9/10\n",
      "81/81 [==============================] - 47s 431ms/step - loss: 0.4229 - accuracy: 0.8481 - val_loss: 1.3668 - val_accuracy: 0.5354\n",
      "Epoch 10/10\n",
      "81/81 [==============================] - 42s 430ms/step - loss: 0.3597 - accuracy: 0.8812 - val_loss: 1.6454 - val_accuracy: 0.5535\n",
      "Epoch 1/10\n",
      " 6/81 [=>............................] - ETA: 1:15 - loss: 4.4865 - accuracy: 0.1987WARNING:tensorflow:Callback method `on_train_batch_end` is slow compared to the batch time (batch time: 0.1736s vs `on_train_batch_end` time: 0.6740s). Check your callbacks.\n"
     ]
    },
    {
     "name": "stderr",
     "output_type": "stream",
     "text": [
      "WARNING:tensorflow:Callback method `on_train_batch_end` is slow compared to the batch time (batch time: 0.1736s vs `on_train_batch_end` time: 0.6740s). Check your callbacks.\n"
     ]
    },
    {
     "name": "stdout",
     "output_type": "stream",
     "text": [
      "81/81 [==============================] - 81s 482ms/step - loss: 2.5172 - accuracy: 0.3296 - val_loss: 2.1950 - val_accuracy: 0.2668\n",
      "Epoch 2/10\n",
      "81/81 [==============================] - 42s 428ms/step - loss: 1.1954 - accuracy: 0.5263 - val_loss: 3.1524 - val_accuracy: 0.2668\n",
      "Epoch 3/10\n",
      "81/81 [==============================] - 46s 426ms/step - loss: 1.0475 - accuracy: 0.5849 - val_loss: 2.1915 - val_accuracy: 0.2668\n",
      "Epoch 4/10\n",
      "81/81 [==============================] - 52s 433ms/step - loss: 0.9338 - accuracy: 0.6585 - val_loss: 3.0729 - val_accuracy: 0.2668\n",
      "Epoch 5/10\n",
      "81/81 [==============================] - 44s 434ms/step - loss: 0.7643 - accuracy: 0.7150 - val_loss: 3.0235 - val_accuracy: 0.2668\n",
      "Epoch 6/10\n",
      "81/81 [==============================] - 51s 424ms/step - loss: 0.6383 - accuracy: 0.7651 - val_loss: 3.9738 - val_accuracy: 0.2668\n",
      "Epoch 7/10\n",
      "81/81 [==============================] - 52s 431ms/step - loss: 0.5427 - accuracy: 0.8056 - val_loss: 6.5326 - val_accuracy: 0.2668\n",
      "Epoch 8/10\n",
      "81/81 [==============================] - 47s 427ms/step - loss: 0.4938 - accuracy: 0.8247 - val_loss: 2.7024 - val_accuracy: 0.4719\n",
      "Epoch 9/10\n",
      "81/81 [==============================] - 52s 430ms/step - loss: 0.3258 - accuracy: 0.8875 - val_loss: 1.9863 - val_accuracy: 0.4973\n",
      "Epoch 10/10\n",
      "81/81 [==============================] - 52s 434ms/step - loss: 0.3296 - accuracy: 0.8853 - val_loss: 1.3032 - val_accuracy: 0.6515\n",
      "saved tf_flowers_models/EfficentNetB0_tf_flowers_model_ConstantSparsity75.h5\n",
      "saved tf_flowers_models/EfficentNetB0_tf_flowers_model_PolynomialDecay75.h5\n",
      "Epoch 1/10\n",
      " 6/81 [=>............................] - ETA: 1:29 - loss: 4.6058 - accuracy: 0.0318WARNING:tensorflow:Callback method `on_train_batch_end` is slow compared to the batch time (batch time: 0.1673s vs `on_train_batch_end` time: 0.8284s). Check your callbacks.\n"
     ]
    },
    {
     "name": "stderr",
     "output_type": "stream",
     "text": [
      "WARNING:tensorflow:Callback method `on_train_batch_end` is slow compared to the batch time (batch time: 0.1673s vs `on_train_batch_end` time: 0.8284s). Check your callbacks.\n"
     ]
    },
    {
     "name": "stdout",
     "output_type": "stream",
     "text": [
      "81/81 [==============================] - 83s 500ms/step - loss: 3.7153 - accuracy: 0.2564 - val_loss: 3.4246 - val_accuracy: 0.2668\n",
      "Epoch 2/10\n",
      "81/81 [==============================] - 43s 435ms/step - loss: 1.3920 - accuracy: 0.5158 - val_loss: 2.2642 - val_accuracy: 0.2668\n",
      "Epoch 3/10\n",
      "81/81 [==============================] - 52s 429ms/step - loss: 1.0527 - accuracy: 0.6054 - val_loss: 1.9383 - val_accuracy: 0.2668\n",
      "Epoch 4/10\n",
      "81/81 [==============================] - 52s 431ms/step - loss: 0.9078 - accuracy: 0.6538 - val_loss: 2.3867 - val_accuracy: 0.2668\n",
      "Epoch 5/10\n",
      "81/81 [==============================] - 50s 433ms/step - loss: 0.7906 - accuracy: 0.7017 - val_loss: 1.9353 - val_accuracy: 0.2668\n",
      "Epoch 6/10\n",
      "81/81 [==============================] - 52s 432ms/step - loss: 0.6716 - accuracy: 0.7445 - val_loss: 1.8627 - val_accuracy: 0.2668\n",
      "Epoch 7/10\n",
      "81/81 [==============================] - 52s 424ms/step - loss: 0.6203 - accuracy: 0.7705 - val_loss: 3.3683 - val_accuracy: 0.2668\n",
      "Epoch 8/10\n",
      "81/81 [==============================] - 51s 428ms/step - loss: 0.4836 - accuracy: 0.8288 - val_loss: 2.4621 - val_accuracy: 0.2704\n",
      "Epoch 9/10\n",
      "81/81 [==============================] - 47s 428ms/step - loss: 0.4994 - accuracy: 0.8211 - val_loss: 1.4629 - val_accuracy: 0.4701\n",
      "Epoch 10/10\n",
      "81/81 [==============================] - 52s 437ms/step - loss: 0.4008 - accuracy: 0.8467 - val_loss: 2.2856 - val_accuracy: 0.4791\n",
      "Epoch 1/10\n",
      " 6/81 [=>............................] - ETA: 1:15 - loss: 4.3283 - accuracy: 0.1748WARNING:tensorflow:Callback method `on_train_batch_end` is slow compared to the batch time (batch time: 0.1614s vs `on_train_batch_end` time: 0.6814s). Check your callbacks.\n"
     ]
    },
    {
     "name": "stderr",
     "output_type": "stream",
     "text": [
      "WARNING:tensorflow:Callback method `on_train_batch_end` is slow compared to the batch time (batch time: 0.1614s vs `on_train_batch_end` time: 0.6814s). Check your callbacks.\n"
     ]
    },
    {
     "name": "stdout",
     "output_type": "stream",
     "text": [
      "81/81 [==============================] - 85s 484ms/step - loss: 2.4429 - accuracy: 0.3120 - val_loss: 2.6988 - val_accuracy: 0.2668\n",
      "Epoch 2/10\n",
      "81/81 [==============================] - 48s 426ms/step - loss: 1.2301 - accuracy: 0.5080 - val_loss: 3.1534 - val_accuracy: 0.2668\n",
      "Epoch 3/10\n",
      "81/81 [==============================] - 51s 429ms/step - loss: 1.0613 - accuracy: 0.5878 - val_loss: 6.4755 - val_accuracy: 0.2668\n",
      "Epoch 4/10\n",
      "81/81 [==============================] - 47s 425ms/step - loss: 0.9271 - accuracy: 0.6260 - val_loss: 2.4142 - val_accuracy: 0.2668\n",
      "Epoch 5/10\n",
      "81/81 [==============================] - 40s 432ms/step - loss: 0.7321 - accuracy: 0.7318 - val_loss: 3.1565 - val_accuracy: 0.2668\n",
      "Epoch 6/10\n",
      "81/81 [==============================] - 52s 429ms/step - loss: 0.6466 - accuracy: 0.7524 - val_loss: 3.1928 - val_accuracy: 0.2668\n",
      "Epoch 7/10\n",
      "81/81 [==============================] - 52s 436ms/step - loss: 0.4857 - accuracy: 0.8388 - val_loss: 5.6739 - val_accuracy: 0.2704\n",
      "Epoch 8/10\n",
      "81/81 [==============================] - 46s 425ms/step - loss: 0.4710 - accuracy: 0.8320 - val_loss: 3.3636 - val_accuracy: 0.3521\n",
      "Epoch 9/10\n",
      "81/81 [==============================] - 50s 421ms/step - loss: 0.3670 - accuracy: 0.8714 - val_loss: 1.3506 - val_accuracy: 0.5572\n",
      "Epoch 10/10\n",
      "81/81 [==============================] - 52s 431ms/step - loss: 0.3441 - accuracy: 0.8841 - val_loss: 1.1863 - val_accuracy: 0.6842\n",
      "saved tf_flowers_models/EfficentNetB0_tf_flowers_model_ConstantSparsity90.h5\n",
      "saved tf_flowers_models/EfficentNetB0_tf_flowers_model_PolynomialDecay90.h5\n"
     ]
    }
   ],
   "source": [
    "prune_model(model_path='tf_flowers_models/EfficentNetB0_tf_flowers_model.h5', \n",
    "            ds_train=tf_flowers_datasets[0], \n",
    "            ds_validation=tf_flowers_datasets[1], \n",
    "            batch_size=BATCH_SIZE, \n",
    "            pruning_epochs=PRUNING_EPOCHS,\n",
    "            sparsity=0.5)\n",
    "prune_model(model_path='tf_flowers_models/EfficentNetB0_tf_flowers_model.h5', \n",
    "            ds_train=tf_flowers_datasets[0], \n",
    "            ds_validation=tf_flowers_datasets[1], \n",
    "            batch_size=BATCH_SIZE, \n",
    "            pruning_epochs=PRUNING_EPOCHS,\n",
    "            sparsity=0.75)\n",
    "prune_model(model_path='tf_flowers_models/EfficentNetB0_tf_flowers_model.h5', \n",
    "            ds_train=tf_flowers_datasets[0], \n",
    "            ds_validation=tf_flowers_datasets[1], \n",
    "            batch_size=BATCH_SIZE, \n",
    "            pruning_epochs=PRUNING_EPOCHS,\n",
    "            sparsity=0.9)"
   ]
  },
  {
   "cell_type": "code",
   "execution_count": 35,
   "metadata": {
    "scrolled": true
   },
   "outputs": [
    {
     "name": "stdout",
     "output_type": "stream",
     "text": [
      "Epoch 1/10\n",
      " 6/33 [====>.........................] - ETA: 43s - loss: 1.2582 - accuracy: 0.4089WARNING:tensorflow:Callback method `on_train_batch_end` is slow compared to the batch time (batch time: 0.2328s vs `on_train_batch_end` time: 1.1799s). Check your callbacks.\n"
     ]
    },
    {
     "name": "stderr",
     "output_type": "stream",
     "text": [
      "WARNING:tensorflow:Callback method `on_train_batch_end` is slow compared to the batch time (batch time: 0.2328s vs `on_train_batch_end` time: 1.1799s). Check your callbacks.\n"
     ]
    },
    {
     "name": "stdout",
     "output_type": "stream",
     "text": [
      "33/33 [==============================] - 63s 1s/step - loss: 1.0580 - accuracy: 0.5242 - val_loss: 1.0987 - val_accuracy: 0.3383\n",
      "Epoch 2/10\n",
      "33/33 [==============================] - 34s 944ms/step - loss: 0.7599 - accuracy: 0.6544 - val_loss: 1.0988 - val_accuracy: 0.3383\n",
      "Epoch 3/10\n",
      "33/33 [==============================] - 33s 938ms/step - loss: 0.6567 - accuracy: 0.7104 - val_loss: 1.0987 - val_accuracy: 0.3383\n",
      "Epoch 4/10\n",
      "33/33 [==============================] - 33s 934ms/step - loss: 0.5975 - accuracy: 0.7415 - val_loss: 1.1006 - val_accuracy: 0.3383\n",
      "Epoch 5/10\n",
      "33/33 [==============================] - 34s 943ms/step - loss: 0.6047 - accuracy: 0.7501 - val_loss: 1.1056 - val_accuracy: 0.3383\n",
      "Epoch 6/10\n",
      "33/33 [==============================] - 33s 931ms/step - loss: 0.5094 - accuracy: 0.7799 - val_loss: 1.1148 - val_accuracy: 0.3383\n",
      "Epoch 7/10\n",
      "33/33 [==============================] - 34s 942ms/step - loss: 0.4857 - accuracy: 0.7898 - val_loss: 1.1255 - val_accuracy: 0.3383\n",
      "Epoch 8/10\n",
      "33/33 [==============================] - 34s 953ms/step - loss: 0.3629 - accuracy: 0.8508 - val_loss: 1.1374 - val_accuracy: 0.3383\n",
      "Epoch 9/10\n",
      "33/33 [==============================] - 34s 944ms/step - loss: 0.4338 - accuracy: 0.8325 - val_loss: 1.1490 - val_accuracy: 0.3383\n",
      "Epoch 10/10\n",
      "33/33 [==============================] - 34s 959ms/step - loss: 0.4439 - accuracy: 0.8170 - val_loss: 1.1572 - val_accuracy: 0.3383\n",
      "Epoch 1/10\n",
      " 6/33 [====>.........................] - ETA: 40s - loss: 1.3054 - accuracy: 0.3820WARNING:tensorflow:Callback method `on_train_batch_end` is slow compared to the batch time (batch time: 0.2365s vs `on_train_batch_end` time: 1.0944s). Check your callbacks.\n"
     ]
    },
    {
     "name": "stderr",
     "output_type": "stream",
     "text": [
      "WARNING:tensorflow:Callback method `on_train_batch_end` is slow compared to the batch time (batch time: 0.2365s vs `on_train_batch_end` time: 1.0944s). Check your callbacks.\n"
     ]
    },
    {
     "name": "stdout",
     "output_type": "stream",
     "text": [
      "33/33 [==============================] - 58s 1s/step - loss: 1.1375 - accuracy: 0.4923 - val_loss: 1.0986 - val_accuracy: 0.3383\n",
      "Epoch 2/10\n",
      "33/33 [==============================] - 34s 946ms/step - loss: 0.7364 - accuracy: 0.6711 - val_loss: 1.1004 - val_accuracy: 0.3308\n",
      "Epoch 3/10\n",
      "33/33 [==============================] - 34s 945ms/step - loss: 0.6044 - accuracy: 0.7447 - val_loss: 1.1034 - val_accuracy: 0.3383\n",
      "Epoch 4/10\n",
      "33/33 [==============================] - 34s 940ms/step - loss: 0.6225 - accuracy: 0.7319 - val_loss: 1.1139 - val_accuracy: 0.3308\n",
      "Epoch 5/10\n",
      "33/33 [==============================] - 34s 949ms/step - loss: 0.5036 - accuracy: 0.7940 - val_loss: 1.1235 - val_accuracy: 0.3308\n",
      "Epoch 6/10\n",
      "33/33 [==============================] - 34s 949ms/step - loss: 0.5373 - accuracy: 0.7733 - val_loss: 1.1259 - val_accuracy: 0.3308\n",
      "Epoch 7/10\n",
      "33/33 [==============================] - 34s 940ms/step - loss: 0.4764 - accuracy: 0.7959 - val_loss: 1.1723 - val_accuracy: 0.3308\n",
      "Epoch 8/10\n",
      "33/33 [==============================] - 34s 946ms/step - loss: 0.4344 - accuracy: 0.8296 - val_loss: 1.1762 - val_accuracy: 0.3308\n",
      "Epoch 9/10\n",
      "33/33 [==============================] - 34s 961ms/step - loss: 0.4308 - accuracy: 0.8402 - val_loss: 1.1766 - val_accuracy: 0.3308\n",
      "Epoch 10/10\n",
      "33/33 [==============================] - 34s 940ms/step - loss: 0.3272 - accuracy: 0.8750 - val_loss: 1.2459 - val_accuracy: 0.3308\n",
      "saved beans_models_optimized/MobileNetV2_beans_model_ConstantSparsity50.h5\n",
      "saved beans_models_optimized/MobileNetV2_beans_model_PolynomialDecay50.h5\n",
      "Epoch 1/10\n",
      " 6/33 [====>.........................] - ETA: 40s - loss: 1.2108 - accuracy: 0.3200WARNING:tensorflow:Callback method `on_train_batch_end` is slow compared to the batch time (batch time: 0.2408s vs `on_train_batch_end` time: 1.1016s). Check your callbacks.\n"
     ]
    },
    {
     "name": "stderr",
     "output_type": "stream",
     "text": [
      "WARNING:tensorflow:Callback method `on_train_batch_end` is slow compared to the batch time (batch time: 0.2408s vs `on_train_batch_end` time: 1.1016s). Check your callbacks.\n"
     ]
    },
    {
     "name": "stdout",
     "output_type": "stream",
     "text": [
      "33/33 [==============================] - 57s 1s/step - loss: 1.0942 - accuracy: 0.4262 - val_loss: 1.0988 - val_accuracy: 0.3308\n",
      "Epoch 2/10\n",
      "33/33 [==============================] - 34s 940ms/step - loss: 0.8000 - accuracy: 0.6357 - val_loss: 1.0997 - val_accuracy: 0.3383\n",
      "Epoch 3/10\n",
      "33/33 [==============================] - 34s 939ms/step - loss: 0.6730 - accuracy: 0.7069 - val_loss: 1.1002 - val_accuracy: 0.3383\n",
      "Epoch 4/10\n",
      "33/33 [==============================] - 34s 946ms/step - loss: 0.6462 - accuracy: 0.7199 - val_loss: 1.1023 - val_accuracy: 0.3383\n",
      "Epoch 5/10\n",
      "33/33 [==============================] - 33s 931ms/step - loss: 0.5160 - accuracy: 0.8032 - val_loss: 1.1072 - val_accuracy: 0.3383\n",
      "Epoch 6/10\n",
      "33/33 [==============================] - 34s 937ms/step - loss: 0.4331 - accuracy: 0.8209 - val_loss: 1.1127 - val_accuracy: 0.3383\n",
      "Epoch 7/10\n",
      "33/33 [==============================] - 34s 948ms/step - loss: 0.4080 - accuracy: 0.8276 - val_loss: 1.1202 - val_accuracy: 0.3383\n",
      "Epoch 8/10\n",
      "33/33 [==============================] - 34s 949ms/step - loss: 0.4129 - accuracy: 0.8254 - val_loss: 1.1327 - val_accuracy: 0.3383\n",
      "Epoch 9/10\n",
      "33/33 [==============================] - 34s 950ms/step - loss: 0.3780 - accuracy: 0.8491 - val_loss: 1.1473 - val_accuracy: 0.3383\n",
      "Epoch 10/10\n",
      "33/33 [==============================] - 33s 934ms/step - loss: 0.2996 - accuracy: 0.8895 - val_loss: 1.1567 - val_accuracy: 0.3383\n",
      "Epoch 1/10\n",
      " 6/33 [====>.........................] - ETA: 38s - loss: 1.2161 - accuracy: 0.4405WARNING:tensorflow:Callback method `on_train_batch_end` is slow compared to the batch time (batch time: 0.2366s vs `on_train_batch_end` time: 1.0362s). Check your callbacks.\n"
     ]
    },
    {
     "name": "stderr",
     "output_type": "stream",
     "text": [
      "WARNING:tensorflow:Callback method `on_train_batch_end` is slow compared to the batch time (batch time: 0.2366s vs `on_train_batch_end` time: 1.0362s). Check your callbacks.\n"
     ]
    },
    {
     "name": "stdout",
     "output_type": "stream",
     "text": [
      "33/33 [==============================] - 57s 1s/step - loss: 1.0911 - accuracy: 0.5220 - val_loss: 1.0987 - val_accuracy: 0.3383\n",
      "Epoch 2/10\n",
      "33/33 [==============================] - 33s 936ms/step - loss: 0.8003 - accuracy: 0.6502 - val_loss: 1.1039 - val_accuracy: 0.3308\n",
      "Epoch 3/10\n",
      "33/33 [==============================] - 34s 946ms/step - loss: 0.6861 - accuracy: 0.6927 - val_loss: 1.1006 - val_accuracy: 0.3308\n",
      "Epoch 4/10\n",
      "33/33 [==============================] - 33s 937ms/step - loss: 0.6001 - accuracy: 0.7363 - val_loss: 1.1432 - val_accuracy: 0.3383\n",
      "Epoch 5/10\n",
      "33/33 [==============================] - 33s 930ms/step - loss: 0.6631 - accuracy: 0.6861 - val_loss: 1.1556 - val_accuracy: 0.3308\n",
      "Epoch 6/10\n",
      "33/33 [==============================] - 34s 941ms/step - loss: 0.5748 - accuracy: 0.7750 - val_loss: 1.1852 - val_accuracy: 0.3308\n",
      "Epoch 7/10\n",
      "33/33 [==============================] - 33s 930ms/step - loss: 0.5879 - accuracy: 0.7825 - val_loss: 1.2715 - val_accuracy: 0.3308\n",
      "Epoch 8/10\n",
      "33/33 [==============================] - 34s 945ms/step - loss: 0.3923 - accuracy: 0.8479 - val_loss: 1.3030 - val_accuracy: 0.3308\n",
      "Epoch 9/10\n",
      "33/33 [==============================] - 34s 937ms/step - loss: 0.3610 - accuracy: 0.8681 - val_loss: 1.3459 - val_accuracy: 0.3308\n",
      "Epoch 10/10\n",
      "33/33 [==============================] - 33s 932ms/step - loss: 0.2436 - accuracy: 0.9064 - val_loss: 1.4166 - val_accuracy: 0.3308\n",
      "saved beans_models_optimized/MobileNetV2_beans_model_ConstantSparsity75.h5\n",
      "saved beans_models_optimized/MobileNetV2_beans_model_PolynomialDecay75.h5\n",
      "Epoch 1/10\n",
      " 6/33 [====>.........................] - ETA: 42s - loss: 1.0847 - accuracy: 0.3424WARNING:tensorflow:Callback method `on_train_batch_end` is slow compared to the batch time (batch time: 0.2293s vs `on_train_batch_end` time: 1.1553s). Check your callbacks.\n"
     ]
    },
    {
     "name": "stderr",
     "output_type": "stream",
     "text": [
      "WARNING:tensorflow:Callback method `on_train_batch_end` is slow compared to the batch time (batch time: 0.2293s vs `on_train_batch_end` time: 1.1553s). Check your callbacks.\n"
     ]
    },
    {
     "name": "stdout",
     "output_type": "stream",
     "text": [
      "33/33 [==============================] - 61s 1s/step - loss: 0.9871 - accuracy: 0.4844 - val_loss: 1.0987 - val_accuracy: 0.3383\n",
      "Epoch 2/10\n",
      "33/33 [==============================] - 33s 940ms/step - loss: 0.7168 - accuracy: 0.6863 - val_loss: 1.0987 - val_accuracy: 0.3383\n",
      "Epoch 3/10\n",
      "33/33 [==============================] - 34s 957ms/step - loss: 0.6220 - accuracy: 0.7447 - val_loss: 1.0986 - val_accuracy: 0.3308\n",
      "Epoch 4/10\n",
      "33/33 [==============================] - 34s 957ms/step - loss: 0.5946 - accuracy: 0.7379 - val_loss: 1.0987 - val_accuracy: 0.3383\n",
      "Epoch 5/10\n",
      "33/33 [==============================] - 33s 934ms/step - loss: 0.4774 - accuracy: 0.8118 - val_loss: 1.0988 - val_accuracy: 0.3383\n",
      "Epoch 6/10\n",
      "33/33 [==============================] - 34s 957ms/step - loss: 0.5079 - accuracy: 0.7952 - val_loss: 1.0988 - val_accuracy: 0.3383\n",
      "Epoch 7/10\n",
      "33/33 [==============================] - 34s 945ms/step - loss: 0.4846 - accuracy: 0.7992 - val_loss: 1.0987 - val_accuracy: 0.3383\n",
      "Epoch 8/10\n",
      "33/33 [==============================] - 34s 951ms/step - loss: 0.3798 - accuracy: 0.8516 - val_loss: 1.0991 - val_accuracy: 0.3383\n",
      "Epoch 9/10\n",
      "33/33 [==============================] - 34s 937ms/step - loss: 0.3504 - accuracy: 0.8589 - val_loss: 1.0997 - val_accuracy: 0.3383\n",
      "Epoch 10/10\n",
      "33/33 [==============================] - 33s 926ms/step - loss: 0.3425 - accuracy: 0.8717 - val_loss: 1.1002 - val_accuracy: 0.3383\n",
      "Epoch 1/10\n",
      " 6/33 [====>.........................] - ETA: 39s - loss: 1.2260 - accuracy: 0.4261WARNING:tensorflow:Callback method `on_train_batch_end` is slow compared to the batch time (batch time: 0.2317s vs `on_train_batch_end` time: 1.0780s). Check your callbacks.\n"
     ]
    },
    {
     "name": "stderr",
     "output_type": "stream",
     "text": [
      "WARNING:tensorflow:Callback method `on_train_batch_end` is slow compared to the batch time (batch time: 0.2317s vs `on_train_batch_end` time: 1.0780s). Check your callbacks.\n"
     ]
    },
    {
     "name": "stdout",
     "output_type": "stream",
     "text": [
      "33/33 [==============================] - 57s 1s/step - loss: 1.0802 - accuracy: 0.5095 - val_loss: 1.0986 - val_accuracy: 0.3308\n",
      "Epoch 2/10\n",
      "33/33 [==============================] - 34s 943ms/step - loss: 0.7709 - accuracy: 0.6795 - val_loss: 1.0987 - val_accuracy: 0.3383\n",
      "Epoch 3/10\n",
      "33/33 [==============================] - 34s 945ms/step - loss: 0.6495 - accuracy: 0.7127 - val_loss: 1.1030 - val_accuracy: 0.3383\n",
      "Epoch 4/10\n",
      "33/33 [==============================] - 34s 944ms/step - loss: 0.6638 - accuracy: 0.7155 - val_loss: 1.1159 - val_accuracy: 0.3308\n",
      "Epoch 5/10\n",
      "33/33 [==============================] - 34s 946ms/step - loss: 0.5686 - accuracy: 0.7761 - val_loss: 1.1148 - val_accuracy: 0.3383\n",
      "Epoch 6/10\n",
      "33/33 [==============================] - 34s 939ms/step - loss: 0.5769 - accuracy: 0.7559 - val_loss: 1.1288 - val_accuracy: 0.3383\n",
      "Epoch 7/10\n",
      "33/33 [==============================] - 34s 949ms/step - loss: 0.4448 - accuracy: 0.8215 - val_loss: 1.1583 - val_accuracy: 0.3383\n",
      "Epoch 8/10\n",
      "33/33 [==============================] - 33s 930ms/step - loss: 0.3924 - accuracy: 0.8366 - val_loss: 1.1818 - val_accuracy: 0.3383\n",
      "Epoch 9/10\n",
      "33/33 [==============================] - 34s 946ms/step - loss: 0.5178 - accuracy: 0.7446 - val_loss: 1.1945 - val_accuracy: 0.3383\n",
      "Epoch 10/10\n",
      "33/33 [==============================] - 34s 943ms/step - loss: 0.3462 - accuracy: 0.8605 - val_loss: 1.2177 - val_accuracy: 0.3383\n",
      "saved beans_models_optimized/MobileNetV2_beans_model_ConstantSparsity90.h5\n",
      "saved beans_models_optimized/MobileNetV2_beans_model_PolynomialDecay90.h5\n"
     ]
    }
   ],
   "source": [
    "prune_model(model_path='beans_models/MobileNetV2_beans_model.h5', \n",
    "            ds_train=beans_datasets[0], \n",
    "            ds_validation=beans_datasets[1],\n",
    "            batch_size=BATCH_SIZE, \n",
    "            pruning_epochs=PRUNING_EPOCHS,\n",
    "            sparsity=0.5)\n",
    "prune_model(model_path='beans_models/MobileNetV2_beans_model.h5', \n",
    "            ds_train=beans_datasets[0], \n",
    "            ds_validation=beans_datasets[1],\n",
    "            batch_size=BATCH_SIZE, \n",
    "            pruning_epochs=PRUNING_EPOCHS,\n",
    "            sparsity=0.75)\n",
    "prune_model(model_path='beans_models/MobileNetV2_beans_model.h5', \n",
    "            ds_train=beans_datasets[0], \n",
    "            ds_validation=beans_datasets[1],\n",
    "            batch_size=BATCH_SIZE, \n",
    "            pruning_epochs=PRUNING_EPOCHS,\n",
    "            sparsity=0.9)"
   ]
  },
  {
   "cell_type": "code",
   "execution_count": 36,
   "metadata": {
    "scrolled": true
   },
   "outputs": [
    {
     "name": "stdout",
     "output_type": "stream",
     "text": [
      "Epoch 1/10\n",
      " 6/33 [====>.........................] - ETA: 57s - loss: 1.1102 - accuracy: 0.4663 WARNING:tensorflow:Callback method `on_train_batch_end` is slow compared to the batch time (batch time: 0.4026s vs `on_train_batch_end` time: 1.4952s). Check your callbacks.\n"
     ]
    },
    {
     "name": "stderr",
     "output_type": "stream",
     "text": [
      "WARNING:tensorflow:Callback method `on_train_batch_end` is slow compared to the batch time (batch time: 0.4026s vs `on_train_batch_end` time: 1.4952s). Check your callbacks.\n"
     ]
    },
    {
     "name": "stdout",
     "output_type": "stream",
     "text": [
      "33/33 [==============================] - 83s 2s/step - loss: 1.0568 - accuracy: 0.4857 - val_loss: 1.1230 - val_accuracy: 0.3383\n",
      "Epoch 2/10\n",
      "33/33 [==============================] - 47s 1s/step - loss: 0.8465 - accuracy: 0.6143 - val_loss: 1.1769 - val_accuracy: 0.3308\n",
      "Epoch 3/10\n",
      "33/33 [==============================] - 47s 1s/step - loss: 0.7222 - accuracy: 0.6713 - val_loss: 1.4131 - val_accuracy: 0.3308\n",
      "Epoch 4/10\n",
      "33/33 [==============================] - 47s 1s/step - loss: 0.6649 - accuracy: 0.7252 - val_loss: 2.6931 - val_accuracy: 0.3308\n",
      "Epoch 5/10\n",
      "33/33 [==============================] - 47s 1s/step - loss: 0.5331 - accuracy: 0.7888 - val_loss: 4.3021 - val_accuracy: 0.3308\n",
      "Epoch 6/10\n",
      "33/33 [==============================] - 47s 1s/step - loss: 0.6056 - accuracy: 0.7689 - val_loss: 3.2661 - val_accuracy: 0.3308\n",
      "Epoch 7/10\n",
      "33/33 [==============================] - 47s 1s/step - loss: 0.5269 - accuracy: 0.7529 - val_loss: 4.3162 - val_accuracy: 0.3308\n",
      "Epoch 8/10\n",
      "33/33 [==============================] - 47s 1s/step - loss: 0.4055 - accuracy: 0.8270 - val_loss: 3.3208 - val_accuracy: 0.3308\n",
      "Epoch 9/10\n",
      "33/33 [==============================] - 47s 1s/step - loss: 0.3853 - accuracy: 0.8515 - val_loss: 5.5002 - val_accuracy: 0.3308\n",
      "Epoch 10/10\n",
      "33/33 [==============================] - 47s 1s/step - loss: 0.3569 - accuracy: 0.8472 - val_loss: 4.9452 - val_accuracy: 0.3308\n",
      "Epoch 1/10\n",
      " 6/33 [====>.........................] - ETA: 52s - loss: 1.4044 - accuracy: 0.3822WARNING:tensorflow:Callback method `on_train_batch_end` is slow compared to the batch time (batch time: 0.3930s vs `on_train_batch_end` time: 1.3812s). Check your callbacks.\n"
     ]
    },
    {
     "name": "stderr",
     "output_type": "stream",
     "text": [
      "WARNING:tensorflow:Callback method `on_train_batch_end` is slow compared to the batch time (batch time: 0.3930s vs `on_train_batch_end` time: 1.3812s). Check your callbacks.\n"
     ]
    },
    {
     "name": "stdout",
     "output_type": "stream",
     "text": [
      "33/33 [==============================] - 83s 2s/step - loss: 1.2533 - accuracy: 0.4542 - val_loss: 1.1948 - val_accuracy: 0.3383\n",
      "Epoch 2/10\n",
      "33/33 [==============================] - 46s 1s/step - loss: 0.8474 - accuracy: 0.5998 - val_loss: 1.5107 - val_accuracy: 0.3383\n",
      "Epoch 3/10\n",
      "33/33 [==============================] - 47s 1s/step - loss: 0.7126 - accuracy: 0.6949 - val_loss: 2.0215 - val_accuracy: 0.3383\n",
      "Epoch 4/10\n",
      "33/33 [==============================] - 47s 1s/step - loss: 0.6479 - accuracy: 0.7326 - val_loss: 3.4888 - val_accuracy: 0.3383\n",
      "Epoch 5/10\n",
      "33/33 [==============================] - 46s 1s/step - loss: 0.6512 - accuracy: 0.7431 - val_loss: 2.8643 - val_accuracy: 0.3308\n",
      "Epoch 6/10\n",
      "33/33 [==============================] - 46s 1s/step - loss: 0.5423 - accuracy: 0.7941 - val_loss: 2.1348 - val_accuracy: 0.3308\n",
      "Epoch 7/10\n",
      "33/33 [==============================] - 47s 1s/step - loss: 0.4495 - accuracy: 0.8123 - val_loss: 2.2361 - val_accuracy: 0.3308\n",
      "Epoch 8/10\n",
      "33/33 [==============================] - 47s 1s/step - loss: 0.4305 - accuracy: 0.8210 - val_loss: 2.5012 - val_accuracy: 0.3308\n",
      "Epoch 9/10\n",
      "33/33 [==============================] - 47s 1s/step - loss: 0.4229 - accuracy: 0.8317 - val_loss: 1.3922 - val_accuracy: 0.3308\n",
      "Epoch 10/10\n",
      "33/33 [==============================] - 46s 1s/step - loss: 0.3625 - accuracy: 0.8599 - val_loss: 3.2987 - val_accuracy: 0.3383\n",
      "saved beans_models_optimized/EfficentNetB0_beans_model_ConstantSparsity50.h5\n",
      "saved beans_models_optimized/EfficentNetB0_beans_model_PolynomialDecay50.h5\n",
      "Epoch 1/10\n",
      " 6/33 [====>.........................] - ETA: 1:01 - loss: 1.1640 - accuracy: 0.3565WARNING:tensorflow:Callback method `on_train_batch_end` is slow compared to the batch time (batch time: 0.3971s vs `on_train_batch_end` time: 1.6272s). Check your callbacks.\n"
     ]
    },
    {
     "name": "stderr",
     "output_type": "stream",
     "text": [
      "WARNING:tensorflow:Callback method `on_train_batch_end` is slow compared to the batch time (batch time: 0.3971s vs `on_train_batch_end` time: 1.6272s). Check your callbacks.\n"
     ]
    },
    {
     "name": "stdout",
     "output_type": "stream",
     "text": [
      "33/33 [==============================] - 89s 2s/step - loss: 1.1213 - accuracy: 0.4165 - val_loss: 1.1008 - val_accuracy: 0.3383\n",
      "Epoch 2/10\n",
      "33/33 [==============================] - 47s 1s/step - loss: 0.8677 - accuracy: 0.6247 - val_loss: 1.1149 - val_accuracy: 0.3383\n",
      "Epoch 3/10\n",
      "33/33 [==============================] - 47s 1s/step - loss: 0.7894 - accuracy: 0.6511 - val_loss: 1.2113 - val_accuracy: 0.3383\n",
      "Epoch 4/10\n",
      "33/33 [==============================] - 47s 1s/step - loss: 0.6255 - accuracy: 0.7341 - val_loss: 1.3920 - val_accuracy: 0.3308\n",
      "Epoch 5/10\n",
      "33/33 [==============================] - 47s 1s/step - loss: 0.5421 - accuracy: 0.7644 - val_loss: 1.5689 - val_accuracy: 0.3383\n",
      "Epoch 6/10\n",
      "33/33 [==============================] - 47s 1s/step - loss: 0.4473 - accuracy: 0.8343 - val_loss: 1.7158 - val_accuracy: 0.3308\n",
      "Epoch 7/10\n",
      "33/33 [==============================] - 47s 1s/step - loss: 0.4750 - accuracy: 0.8112 - val_loss: 1.9140 - val_accuracy: 0.3308\n",
      "Epoch 8/10\n",
      "33/33 [==============================] - 47s 1s/step - loss: 0.3893 - accuracy: 0.8344 - val_loss: 2.0348 - val_accuracy: 0.3383\n",
      "Epoch 9/10\n",
      "33/33 [==============================] - 47s 1s/step - loss: 0.3476 - accuracy: 0.8740 - val_loss: 2.3557 - val_accuracy: 0.3383\n",
      "Epoch 10/10\n",
      "33/33 [==============================] - 46s 1s/step - loss: 0.2632 - accuracy: 0.8969 - val_loss: 2.2853 - val_accuracy: 0.3308\n",
      "Epoch 1/10\n",
      " 6/33 [====>.........................] - ETA: 54s - loss: 1.4290 - accuracy: 0.4155 WARNING:tensorflow:Callback method `on_train_batch_end` is slow compared to the batch time (batch time: 0.4082s vs `on_train_batch_end` time: 1.4309s). Check your callbacks.\n"
     ]
    },
    {
     "name": "stderr",
     "output_type": "stream",
     "text": [
      "WARNING:tensorflow:Callback method `on_train_batch_end` is slow compared to the batch time (batch time: 0.4082s vs `on_train_batch_end` time: 1.4309s). Check your callbacks.\n"
     ]
    },
    {
     "name": "stdout",
     "output_type": "stream",
     "text": [
      "33/33 [==============================] - 86s 2s/step - loss: 1.3346 - accuracy: 0.4353 - val_loss: 1.2988 - val_accuracy: 0.3308\n",
      "Epoch 2/10\n",
      "33/33 [==============================] - 47s 1s/step - loss: 0.8214 - accuracy: 0.6472 - val_loss: 1.5132 - val_accuracy: 0.3383\n",
      "Epoch 3/10\n",
      "33/33 [==============================] - 47s 1s/step - loss: 0.7280 - accuracy: 0.6780 - val_loss: 2.5111 - val_accuracy: 0.3308\n",
      "Epoch 4/10\n",
      "33/33 [==============================] - 47s 1s/step - loss: 0.7389 - accuracy: 0.6962 - val_loss: 2.2731 - val_accuracy: 0.3308\n",
      "Epoch 5/10\n",
      "33/33 [==============================] - 47s 1s/step - loss: 0.6351 - accuracy: 0.7608 - val_loss: 4.3877 - val_accuracy: 0.3308\n",
      "Epoch 6/10\n",
      "33/33 [==============================] - 47s 1s/step - loss: 0.5161 - accuracy: 0.7825 - val_loss: 2.8250 - val_accuracy: 0.3308\n",
      "Epoch 7/10\n",
      "33/33 [==============================] - 47s 1s/step - loss: 0.5178 - accuracy: 0.7840 - val_loss: 3.9455 - val_accuracy: 0.3308\n",
      "Epoch 8/10\n",
      "33/33 [==============================] - 46s 1s/step - loss: 0.4825 - accuracy: 0.8137 - val_loss: 2.8361 - val_accuracy: 0.3308\n",
      "Epoch 9/10\n",
      "33/33 [==============================] - 47s 1s/step - loss: 0.3857 - accuracy: 0.8533 - val_loss: 3.0029 - val_accuracy: 0.3308\n",
      "Epoch 10/10\n",
      "33/33 [==============================] - 47s 1s/step - loss: 0.3791 - accuracy: 0.8653 - val_loss: 7.5552 - val_accuracy: 0.3308\n",
      "saved beans_models_optimized/EfficentNetB0_beans_model_ConstantSparsity75.h5\n",
      "saved beans_models_optimized/EfficentNetB0_beans_model_PolynomialDecay75.h5\n",
      "Epoch 1/10\n",
      " 6/33 [====>.........................] - ETA: 57s - loss: 1.1234 - accuracy: 0.3661 WARNING:tensorflow:Callback method `on_train_batch_end` is slow compared to the batch time (batch time: 0.3959s vs `on_train_batch_end` time: 1.5098s). Check your callbacks.\n"
     ]
    },
    {
     "name": "stderr",
     "output_type": "stream",
     "text": [
      "WARNING:tensorflow:Callback method `on_train_batch_end` is slow compared to the batch time (batch time: 0.3959s vs `on_train_batch_end` time: 1.5098s). Check your callbacks.\n"
     ]
    },
    {
     "name": "stdout",
     "output_type": "stream",
     "text": [
      "33/33 [==============================] - 87s 2s/step - loss: 1.0806 - accuracy: 0.4261 - val_loss: 1.1002 - val_accuracy: 0.3308\n",
      "Epoch 2/10\n",
      "33/33 [==============================] - 47s 1s/step - loss: 0.9132 - accuracy: 0.5807 - val_loss: 1.1098 - val_accuracy: 0.3308\n",
      "Epoch 3/10\n",
      "33/33 [==============================] - 47s 1s/step - loss: 0.7824 - accuracy: 0.6558 - val_loss: 1.1399 - val_accuracy: 0.3308\n",
      "Epoch 4/10\n",
      "33/33 [==============================] - 47s 1s/step - loss: 0.6814 - accuracy: 0.7172 - val_loss: 1.1701 - val_accuracy: 0.3308\n",
      "Epoch 5/10\n",
      "33/33 [==============================] - 47s 1s/step - loss: 0.6319 - accuracy: 0.7276 - val_loss: 1.2646 - val_accuracy: 0.3308\n",
      "Epoch 6/10\n",
      "33/33 [==============================] - 47s 1s/step - loss: 0.5544 - accuracy: 0.7857 - val_loss: 1.4420 - val_accuracy: 0.3308\n",
      "Epoch 7/10\n",
      "33/33 [==============================] - 47s 1s/step - loss: 0.4697 - accuracy: 0.8215 - val_loss: 1.5343 - val_accuracy: 0.3308\n",
      "Epoch 8/10\n",
      "33/33 [==============================] - 46s 1s/step - loss: 0.4644 - accuracy: 0.8109 - val_loss: 1.6344 - val_accuracy: 0.3308\n",
      "Epoch 9/10\n",
      "33/33 [==============================] - 47s 1s/step - loss: 0.4059 - accuracy: 0.8296 - val_loss: 2.6602 - val_accuracy: 0.3308\n",
      "Epoch 10/10\n",
      "33/33 [==============================] - 47s 1s/step - loss: 0.2929 - accuracy: 0.9034 - val_loss: 3.3230 - val_accuracy: 0.3308\n",
      "Epoch 1/10\n",
      " 6/33 [====>.........................] - ETA: 53s - loss: 1.4116 - accuracy: 0.4023WARNING:tensorflow:Callback method `on_train_batch_end` is slow compared to the batch time (batch time: 0.4045s vs `on_train_batch_end` time: 1.3901s). Check your callbacks.\n"
     ]
    },
    {
     "name": "stderr",
     "output_type": "stream",
     "text": [
      "WARNING:tensorflow:Callback method `on_train_batch_end` is slow compared to the batch time (batch time: 0.4045s vs `on_train_batch_end` time: 1.3901s). Check your callbacks.\n"
     ]
    },
    {
     "name": "stdout",
     "output_type": "stream",
     "text": [
      "33/33 [==============================] - 86s 2s/step - loss: 1.3584 - accuracy: 0.4286 - val_loss: 1.2842 - val_accuracy: 0.3383\n",
      "Epoch 2/10\n",
      "33/33 [==============================] - 47s 1s/step - loss: 0.9221 - accuracy: 0.6298 - val_loss: 2.0954 - val_accuracy: 0.3383\n",
      "Epoch 3/10\n",
      "33/33 [==============================] - 47s 1s/step - loss: 0.7141 - accuracy: 0.7238 - val_loss: 1.3336 - val_accuracy: 0.3383\n",
      "Epoch 4/10\n",
      "33/33 [==============================] - 47s 1s/step - loss: 0.6551 - accuracy: 0.7343 - val_loss: 1.7497 - val_accuracy: 0.3383\n",
      "Epoch 5/10\n",
      "33/33 [==============================] - 47s 1s/step - loss: 0.6011 - accuracy: 0.7753 - val_loss: 1.7407 - val_accuracy: 0.3383\n",
      "Epoch 6/10\n",
      "33/33 [==============================] - 47s 1s/step - loss: 0.5365 - accuracy: 0.7868 - val_loss: 1.7450 - val_accuracy: 0.3308\n",
      "Epoch 7/10\n",
      "33/33 [==============================] - 47s 1s/step - loss: 0.5451 - accuracy: 0.7839 - val_loss: 2.3441 - val_accuracy: 0.3308\n",
      "Epoch 8/10\n",
      "33/33 [==============================] - 47s 1s/step - loss: 0.4262 - accuracy: 0.8294 - val_loss: 3.5257 - val_accuracy: 0.3308\n",
      "Epoch 9/10\n",
      "33/33 [==============================] - 47s 1s/step - loss: 0.4425 - accuracy: 0.8156 - val_loss: 2.6899 - val_accuracy: 0.3383\n",
      "Epoch 10/10\n",
      "33/33 [==============================] - 47s 1s/step - loss: 0.3334 - accuracy: 0.8687 - val_loss: 1.8426 - val_accuracy: 0.3308\n",
      "saved beans_models_optimized/EfficentNetB0_beans_model_ConstantSparsity90.h5\n",
      "saved beans_models_optimized/EfficentNetB0_beans_model_PolynomialDecay90.h5\n"
     ]
    }
   ],
   "source": [
    "prune_model(model_path='beans_models/EfficentNetB0_beans_model.h5', \n",
    "            ds_train=beans_datasets[0], \n",
    "            ds_validation=beans_datasets[1], \n",
    "            batch_size=BATCH_SIZE, \n",
    "            pruning_epochs=PRUNING_EPOCHS,\n",
    "            sparsity=0.5)\n",
    "prune_model(model_path='beans_models/EfficentNetB0_beans_model.h5', \n",
    "            ds_train=beans_datasets[0], \n",
    "            ds_validation=beans_datasets[1], \n",
    "            batch_size=BATCH_SIZE, \n",
    "            pruning_epochs=PRUNING_EPOCHS,\n",
    "            sparsity=0.75)\n",
    "prune_model(model_path='beans_models/EfficentNetB0_beans_model.h5', \n",
    "            ds_train=beans_datasets[0], \n",
    "            ds_validation=beans_datasets[1], \n",
    "            batch_size=BATCH_SIZE, \n",
    "            pruning_epochs=PRUNING_EPOCHS,\n",
    "            sparsity=0.9)"
   ]
  },
  {
   "cell_type": "markdown",
   "metadata": {},
   "source": [
    "## 2. Weight cluster base models"
   ]
  },
  {
   "cell_type": "code",
   "execution_count": 27,
   "metadata": {
    "scrolled": true
   },
   "outputs": [
    {
     "name": "stdout",
     "output_type": "stream",
     "text": [
      "Epoch 1/10\n",
      "81/81 [==============================] - 44s 289ms/step - loss: 0.2748 - accuracy: 0.9220 - val_loss: 1.7442 - val_accuracy: 0.6733\n",
      "Epoch 2/10\n",
      "81/81 [==============================] - 31s 267ms/step - loss: 0.0366 - accuracy: 0.9874 - val_loss: 2.1898 - val_accuracy: 0.6352\n",
      "Epoch 3/10\n",
      "81/81 [==============================] - 38s 268ms/step - loss: 0.0765 - accuracy: 0.9735 - val_loss: 1.5476 - val_accuracy: 0.6606\n",
      "Epoch 4/10\n",
      "81/81 [==============================] - 39s 262ms/step - loss: 0.0739 - accuracy: 0.9722 - val_loss: 1.6050 - val_accuracy: 0.6552\n",
      "Epoch 5/10\n",
      "81/81 [==============================] - 37s 269ms/step - loss: 0.0437 - accuracy: 0.9884 - val_loss: 1.6673 - val_accuracy: 0.6461\n",
      "Epoch 6/10\n",
      "81/81 [==============================] - 30s 270ms/step - loss: 0.0325 - accuracy: 0.9897 - val_loss: 1.9145 - val_accuracy: 0.6661\n",
      "Epoch 7/10\n",
      "81/81 [==============================] - 40s 274ms/step - loss: 0.0582 - accuracy: 0.9796 - val_loss: 1.9791 - val_accuracy: 0.6751\n",
      "Epoch 8/10\n",
      "81/81 [==============================] - 34s 268ms/step - loss: 0.0616 - accuracy: 0.9818 - val_loss: 1.4500 - val_accuracy: 0.6661\n",
      "Epoch 9/10\n",
      "81/81 [==============================] - 28s 272ms/step - loss: 0.0656 - accuracy: 0.9800 - val_loss: 1.1483 - val_accuracy: 0.6298\n",
      "Epoch 10/10\n",
      "81/81 [==============================] - 32s 266ms/step - loss: 0.1207 - accuracy: 0.9591 - val_loss: 1.9376 - val_accuracy: 0.6661\n",
      "saved tf_flowers_models/MobileNetV2_tf_flowers_model_KMeansPlusPlus32.h5\n",
      "Epoch 1/10\n",
      "81/81 [==============================] - 35s 287ms/step - loss: 0.5669 - accuracy: 0.8573 - val_loss: 1.7364 - val_accuracy: 0.6588\n",
      "Epoch 2/10\n",
      "81/81 [==============================] - 40s 277ms/step - loss: 0.0520 - accuracy: 0.9808 - val_loss: 1.4033 - val_accuracy: 0.6806\n",
      "Epoch 3/10\n",
      "81/81 [==============================] - 34s 272ms/step - loss: 0.0398 - accuracy: 0.9873 - val_loss: 2.0290 - val_accuracy: 0.6770\n",
      "Epoch 4/10\n",
      "81/81 [==============================] - 38s 273ms/step - loss: 0.0140 - accuracy: 0.9965 - val_loss: 1.9599 - val_accuracy: 0.6624\n",
      "Epoch 5/10\n",
      "81/81 [==============================] - 33s 279ms/step - loss: 0.0283 - accuracy: 0.9908 - val_loss: 1.8258 - val_accuracy: 0.6606\n",
      "Epoch 6/10\n",
      "81/81 [==============================] - 38s 271ms/step - loss: 0.0336 - accuracy: 0.9902 - val_loss: 2.2207 - val_accuracy: 0.6352\n",
      "Epoch 7/10\n",
      "81/81 [==============================] - 30s 274ms/step - loss: 0.1370 - accuracy: 0.9530 - val_loss: 1.3261 - val_accuracy: 0.6570\n",
      "Epoch 8/10\n",
      "81/81 [==============================] - 31s 276ms/step - loss: 0.1875 - accuracy: 0.9371 - val_loss: 1.7098 - val_accuracy: 0.7060\n",
      "Epoch 9/10\n",
      "81/81 [==============================] - 40s 278ms/step - loss: 0.0370 - accuracy: 0.9839 - val_loss: 2.4398 - val_accuracy: 0.6171\n",
      "Epoch 10/10\n",
      "81/81 [==============================] - 33s 277ms/step - loss: 0.2228 - accuracy: 0.9207 - val_loss: 1.5633 - val_accuracy: 0.6697\n",
      "saved tf_flowers_models/MobileNetV2_tf_flowers_model_KMeansPlusPlus128.h5\n"
     ]
    }
   ],
   "source": [
    "weight_cluster_model(model_path='tf_flowers_models/MobileNetV2_tf_flowers_model.h5', \n",
    "                     ds_train=tf_flowers_datasets[0], \n",
    "                     ds_validation=tf_flowers_datasets[1], \n",
    "                     batch_size=BATCH_SIZE, \n",
    "                     epochs=PRUNING_EPOCHS, \n",
    "                     number_of_clusters=32)\n",
    "weight_cluster_model(model_path='tf_flowers_models/MobileNetV2_tf_flowers_model.h5', \n",
    "                     ds_train=tf_flowers_datasets[0], \n",
    "                     ds_validation=tf_flowers_datasets[1], \n",
    "                     batch_size=BATCH_SIZE, \n",
    "                     epochs=PRUNING_EPOCHS, \n",
    "                     number_of_clusters=128)"
   ]
  },
  {
   "cell_type": "code",
   "execution_count": 28,
   "metadata": {
    "scrolled": true
   },
   "outputs": [
    {
     "name": "stdout",
     "output_type": "stream",
     "text": [
      "Epoch 1/10\n",
      "81/81 [==============================] - 59s 407ms/step - loss: 0.0385 - accuracy: 0.9884 - val_loss: 1.8030 - val_accuracy: 0.7078\n",
      "Epoch 2/10\n",
      "81/81 [==============================] - 45s 385ms/step - loss: 0.0061 - accuracy: 0.9976 - val_loss: 1.5411 - val_accuracy: 0.6425\n",
      "Epoch 3/10\n",
      "81/81 [==============================] - 47s 381ms/step - loss: 0.0236 - accuracy: 0.9937 - val_loss: 1.9565 - val_accuracy: 0.6987\n",
      "Epoch 4/10\n",
      "81/81 [==============================] - 47s 379ms/step - loss: 0.0321 - accuracy: 0.9880 - val_loss: 1.7340 - val_accuracy: 0.6842\n",
      "Epoch 5/10\n",
      "81/81 [==============================] - 49s 378ms/step - loss: 0.0027 - accuracy: 0.9991 - val_loss: 2.3304 - val_accuracy: 0.6697\n",
      "Epoch 6/10\n",
      "81/81 [==============================] - 45s 385ms/step - loss: 0.0335 - accuracy: 0.9880 - val_loss: 2.0664 - val_accuracy: 0.6933\n",
      "Epoch 7/10\n",
      "81/81 [==============================] - 38s 381ms/step - loss: 0.0233 - accuracy: 0.9894 - val_loss: 1.8362 - val_accuracy: 0.6552\n",
      "Epoch 8/10\n",
      "81/81 [==============================] - 41s 382ms/step - loss: 0.0107 - accuracy: 0.9965 - val_loss: 1.8021 - val_accuracy: 0.6588\n",
      "Epoch 9/10\n",
      "81/81 [==============================] - 47s 378ms/step - loss: 0.0231 - accuracy: 0.9925 - val_loss: 1.5636 - val_accuracy: 0.6860\n",
      "Epoch 10/10\n",
      "81/81 [==============================] - 42s 378ms/step - loss: 0.0088 - accuracy: 0.9974 - val_loss: 2.0573 - val_accuracy: 0.6715\n",
      "saved tf_flowers_models/EfficentNetB0_tf_flowers_model_KMeansPlusPlus32.h5\n",
      "Epoch 1/10\n",
      "81/81 [==============================] - 59s 404ms/step - loss: 0.0260 - accuracy: 0.9918 - val_loss: 2.1080 - val_accuracy: 0.6606\n",
      "Epoch 2/10\n",
      "81/81 [==============================] - 40s 395ms/step - loss: 0.0295 - accuracy: 0.9895 - val_loss: 1.9335 - val_accuracy: 0.6806\n",
      "Epoch 3/10\n",
      "81/81 [==============================] - 48s 382ms/step - loss: 0.0420 - accuracy: 0.9874 - val_loss: 1.7585 - val_accuracy: 0.6642\n",
      "Epoch 4/10\n",
      "81/81 [==============================] - 48s 383ms/step - loss: 0.0464 - accuracy: 0.9827 - val_loss: 1.2033 - val_accuracy: 0.7060\n",
      "Epoch 5/10\n",
      "81/81 [==============================] - 45s 395ms/step - loss: 0.0037 - accuracy: 0.9999 - val_loss: 2.0231 - val_accuracy: 0.6697\n",
      "Epoch 6/10\n",
      "81/81 [==============================] - 46s 383ms/step - loss: 0.0050 - accuracy: 0.9983 - val_loss: 2.0953 - val_accuracy: 0.6570\n",
      "Epoch 7/10\n",
      "81/81 [==============================] - 46s 384ms/step - loss: 0.0279 - accuracy: 0.9901 - val_loss: 2.3741 - val_accuracy: 0.6497\n",
      "Epoch 8/10\n",
      "81/81 [==============================] - 49s 389ms/step - loss: 0.0078 - accuracy: 0.9956 - val_loss: 2.1423 - val_accuracy: 0.6842\n",
      "Epoch 9/10\n",
      "81/81 [==============================] - 47s 387ms/step - loss: 0.0349 - accuracy: 0.9883 - val_loss: 1.7894 - val_accuracy: 0.6515\n",
      "Epoch 10/10\n",
      "81/81 [==============================] - 41s 385ms/step - loss: 0.0198 - accuracy: 0.9965 - val_loss: 1.6296 - val_accuracy: 0.6624\n",
      "saved tf_flowers_models/EfficentNetB0_tf_flowers_model_KMeansPlusPlus128.h5\n"
     ]
    }
   ],
   "source": [
    "weight_cluster_model(model_path='tf_flowers_models/EfficentNetB0_tf_flowers_model.h5', \n",
    "                     ds_train=tf_flowers_datasets[0], \n",
    "                     ds_validation=tf_flowers_datasets[1], \n",
    "                     batch_size=BATCH_SIZE, \n",
    "                     epochs=PRUNING_EPOCHS, \n",
    "                     number_of_clusters=32)\n",
    "weight_cluster_model(model_path='tf_flowers_models/EfficentNetB0_tf_flowers_model.h5', \n",
    "                     ds_train=tf_flowers_datasets[0], \n",
    "                     ds_validation=tf_flowers_datasets[1], \n",
    "                     batch_size=BATCH_SIZE, \n",
    "                     epochs=PRUNING_EPOCHS, \n",
    "                     number_of_clusters=128)"
   ]
  },
  {
   "cell_type": "code",
   "execution_count": 29,
   "metadata": {},
   "outputs": [
    {
     "name": "stdout",
     "output_type": "stream",
     "text": [
      "Epoch 1/10\n",
      "33/33 [==============================] - 44s 1s/step - loss: 3.7637 - accuracy: 0.6958 - val_loss: 0.7142 - val_accuracy: 0.6541\n",
      "Epoch 2/10\n",
      "33/33 [==============================] - 36s 986ms/step - loss: 0.6046 - accuracy: 0.7246 - val_loss: 0.7573 - val_accuracy: 0.6241\n",
      "Epoch 3/10\n",
      "33/33 [==============================] - 36s 1s/step - loss: 0.4702 - accuracy: 0.8134 - val_loss: 0.5811 - val_accuracy: 0.7519\n",
      "Epoch 4/10\n",
      "33/33 [==============================] - 36s 1s/step - loss: 0.2608 - accuracy: 0.9114 - val_loss: 0.9700 - val_accuracy: 0.6767\n",
      "Epoch 5/10\n",
      "33/33 [==============================] - 37s 1s/step - loss: 0.2134 - accuracy: 0.9278 - val_loss: 0.7754 - val_accuracy: 0.7368\n",
      "Epoch 6/10\n",
      "33/33 [==============================] - 36s 1s/step - loss: 0.2293 - accuracy: 0.8988 - val_loss: 0.9504 - val_accuracy: 0.6767\n",
      "Epoch 7/10\n",
      "33/33 [==============================] - 37s 1s/step - loss: 0.0676 - accuracy: 0.9762 - val_loss: 1.2316 - val_accuracy: 0.7669\n",
      "Epoch 8/10\n",
      "33/33 [==============================] - 36s 1s/step - loss: 0.0200 - accuracy: 0.9930 - val_loss: 1.6093 - val_accuracy: 0.7444\n",
      "Epoch 9/10\n",
      "33/33 [==============================] - 37s 1s/step - loss: 0.0434 - accuracy: 0.9859 - val_loss: 1.5513 - val_accuracy: 0.6692\n",
      "Epoch 10/10\n",
      "33/33 [==============================] - 37s 1s/step - loss: 0.2583 - accuracy: 0.8935 - val_loss: 0.9805 - val_accuracy: 0.6391\n",
      "saved beans_models_optimized/MobileNetV2_beans_model_KMeansPlusPlus32.h5\n",
      "Epoch 1/10\n",
      "33/33 [==============================] - 41s 1s/step - loss: 2.7313 - accuracy: 0.5489 - val_loss: 0.8878 - val_accuracy: 0.5489\n",
      "Epoch 2/10\n",
      "33/33 [==============================] - 35s 984ms/step - loss: 0.8383 - accuracy: 0.5857 - val_loss: 0.7902 - val_accuracy: 0.6090\n",
      "Epoch 3/10\n",
      "33/33 [==============================] - 35s 988ms/step - loss: 0.6749 - accuracy: 0.6759 - val_loss: 0.7276 - val_accuracy: 0.6391\n",
      "Epoch 4/10\n",
      "33/33 [==============================] - 36s 994ms/step - loss: 0.4859 - accuracy: 0.7954 - val_loss: 0.9443 - val_accuracy: 0.6090\n",
      "Epoch 5/10\n",
      "33/33 [==============================] - 36s 994ms/step - loss: 0.3536 - accuracy: 0.8499 - val_loss: 0.8272 - val_accuracy: 0.6617\n",
      "Epoch 6/10\n",
      "33/33 [==============================] - 36s 1000ms/step - loss: 0.2670 - accuracy: 0.8918 - val_loss: 1.0580 - val_accuracy: 0.6617\n",
      "Epoch 7/10\n",
      "33/33 [==============================] - 35s 995ms/step - loss: 0.1332 - accuracy: 0.9571 - val_loss: 1.6903 - val_accuracy: 0.5940\n",
      "Epoch 8/10\n",
      "33/33 [==============================] - 36s 1s/step - loss: 0.1646 - accuracy: 0.9344 - val_loss: 1.3172 - val_accuracy: 0.6692\n",
      "Epoch 9/10\n",
      "33/33 [==============================] - 36s 997ms/step - loss: 0.0977 - accuracy: 0.9601 - val_loss: 0.7059 - val_accuracy: 0.7820\n",
      "Epoch 10/10\n",
      "33/33 [==============================] - 35s 972ms/step - loss: 0.0392 - accuracy: 0.9868 - val_loss: 1.0505 - val_accuracy: 0.7519\n",
      "saved beans_models_optimized/MobileNetV2_beans_model_KMeansPlusPlus128.h5\n"
     ]
    }
   ],
   "source": [
    "weight_cluster_model(model_path='beans_models/MobileNetV2_beans_model.h5', \n",
    "                     ds_train=beans_datasets[0], \n",
    "                     ds_validation=beans_datasets[1], \n",
    "                     batch_size=BATCH_SIZE, \n",
    "                     epochs=PRUNING_EPOCHS, \n",
    "                     number_of_clusters=32)\n",
    "weight_cluster_model(model_path='beans_models/MobileNetV2_beans_model.h5', \n",
    "                     ds_train=beans_datasets[0], \n",
    "                     ds_validation=beans_datasets[1], \n",
    "                     batch_size=BATCH_SIZE, \n",
    "                     epochs=PRUNING_EPOCHS, \n",
    "                     number_of_clusters=128)"
   ]
  },
  {
   "cell_type": "code",
   "execution_count": 31,
   "metadata": {},
   "outputs": [
    {
     "name": "stdout",
     "output_type": "stream",
     "text": [
      "Epoch 1/10\n",
      "33/33 [==============================] - 58s 1s/step - loss: 0.0369 - accuracy: 0.9912 - val_loss: 1.3306 - val_accuracy: 0.6842\n",
      "Epoch 2/10\n",
      "33/33 [==============================] - 47s 1s/step - loss: 0.0030 - accuracy: 1.0000 - val_loss: 1.3111 - val_accuracy: 0.7444\n",
      "Epoch 3/10\n",
      "33/33 [==============================] - 47s 1s/step - loss: 5.6424e-05 - accuracy: 1.0000 - val_loss: 1.3342 - val_accuracy: 0.7519\n",
      "Epoch 4/10\n",
      "33/33 [==============================] - 47s 1s/step - loss: 1.6206e-05 - accuracy: 1.0000 - val_loss: 1.3479 - val_accuracy: 0.7519\n",
      "Epoch 5/10\n",
      "33/33 [==============================] - 47s 1s/step - loss: 9.0645e-06 - accuracy: 1.0000 - val_loss: 1.3593 - val_accuracy: 0.7519\n",
      "Epoch 6/10\n",
      "33/33 [==============================] - 47s 1s/step - loss: 1.1409e-05 - accuracy: 1.0000 - val_loss: 1.3722 - val_accuracy: 0.7519\n",
      "Epoch 7/10\n",
      "33/33 [==============================] - 47s 1s/step - loss: 5.9880e-06 - accuracy: 1.0000 - val_loss: 1.3825 - val_accuracy: 0.7519\n",
      "Epoch 8/10\n",
      "33/33 [==============================] - 47s 1s/step - loss: 7.5762e-06 - accuracy: 1.0000 - val_loss: 1.3933 - val_accuracy: 0.7594\n",
      "Epoch 9/10\n",
      "33/33 [==============================] - 47s 1s/step - loss: 6.2324e-06 - accuracy: 1.0000 - val_loss: 1.4036 - val_accuracy: 0.7594\n",
      "Epoch 10/10\n",
      "33/33 [==============================] - 47s 1s/step - loss: 3.6285e-06 - accuracy: 1.0000 - val_loss: 1.4127 - val_accuracy: 0.7594\n",
      "saved beans_models_optimized/EfficentNetB0_beans_model_KMeansPlusPlus32.h5\n",
      "Epoch 1/10\n",
      "33/33 [==============================] - 60s 1s/step - loss: 0.0245 - accuracy: 0.9892 - val_loss: 2.1345 - val_accuracy: 0.6992\n",
      "Epoch 2/10\n",
      "33/33 [==============================] - 47s 1s/step - loss: 0.0466 - accuracy: 0.9815 - val_loss: 1.0053 - val_accuracy: 0.7594\n",
      "Epoch 3/10\n",
      "33/33 [==============================] - 48s 1s/step - loss: 0.0043 - accuracy: 0.9995 - val_loss: 1.6528 - val_accuracy: 0.7444\n",
      "Epoch 4/10\n",
      "33/33 [==============================] - 47s 1s/step - loss: 0.0296 - accuracy: 0.9901 - val_loss: 1.0377 - val_accuracy: 0.7143\n",
      "Epoch 5/10\n",
      "33/33 [==============================] - 48s 1s/step - loss: 0.0159 - accuracy: 0.9929 - val_loss: 1.2863 - val_accuracy: 0.7519\n",
      "Epoch 6/10\n",
      "33/33 [==============================] - 47s 1s/step - loss: 4.4455e-04 - accuracy: 1.0000 - val_loss: 1.2739 - val_accuracy: 0.7744\n",
      "Epoch 7/10\n",
      "33/33 [==============================] - 48s 1s/step - loss: 1.5496e-04 - accuracy: 1.0000 - val_loss: 1.2704 - val_accuracy: 0.7744\n",
      "Epoch 8/10\n",
      "33/33 [==============================] - 47s 1s/step - loss: 3.4151e-05 - accuracy: 1.0000 - val_loss: 1.2729 - val_accuracy: 0.7744\n",
      "Epoch 9/10\n",
      "33/33 [==============================] - 48s 1s/step - loss: 2.2743e-05 - accuracy: 1.0000 - val_loss: 1.2770 - val_accuracy: 0.7744\n",
      "Epoch 10/10\n",
      "33/33 [==============================] - 47s 1s/step - loss: 2.5050e-05 - accuracy: 1.0000 - val_loss: 1.2839 - val_accuracy: 0.7744\n",
      "saved beans_models_optimized/EfficentNetB0_beans_model_KMeansPlusPlus128.h5\n"
     ]
    }
   ],
   "source": [
    "weight_cluster_model(model_path='beans_models/EfficentNetB0_beans_model.h5', \n",
    "                     ds_train=beans_datasets[0], \n",
    "                     ds_validation=beans_datasets[1], \n",
    "                     batch_size=BATCH_SIZE, \n",
    "                     epochs=PRUNING_EPOCHS, \n",
    "                     number_of_clusters=32)\n",
    "weight_cluster_model(model_path='beans_models/EfficentNetB0_beans_model.h5', \n",
    "                     ds_train=beans_datasets[0], \n",
    "                     ds_validation=beans_datasets[1], \n",
    "                     batch_size=BATCH_SIZE, \n",
    "                     epochs=PRUNING_EPOCHS, \n",
    "                     number_of_clusters=128)"
   ]
  },
  {
   "cell_type": "markdown",
   "metadata": {},
   "source": [
    "## 3. weight cluster prunned models"
   ]
  },
  {
   "cell_type": "code",
   "execution_count": 38,
   "metadata": {},
   "outputs": [
    {
     "name": "stdout",
     "output_type": "stream",
     "text": [
      "WARNING:tensorflow:No training configuration found in the save file, so the model was *not* compiled. Compile it manually.\n"
     ]
    },
    {
     "name": "stderr",
     "output_type": "stream",
     "text": [
      "WARNING:tensorflow:No training configuration found in the save file, so the model was *not* compiled. Compile it manually.\n"
     ]
    },
    {
     "name": "stdout",
     "output_type": "stream",
     "text": [
      "Epoch 1/10\n",
      "81/81 [==============================] - 38s 284ms/step - loss: 1.7164 - accuracy: 0.2318 - val_loss: 1.5979 - val_accuracy: 0.2668\n",
      "Epoch 2/10\n",
      "81/81 [==============================] - 39s 280ms/step - loss: 1.6089 - accuracy: 0.2327 - val_loss: 1.6063 - val_accuracy: 0.1833\n",
      "Epoch 3/10\n",
      "81/81 [==============================] - 36s 276ms/step - loss: 1.6045 - accuracy: 0.2421 - val_loss: 1.6094 - val_accuracy: 0.2668\n",
      "Epoch 4/10\n",
      "81/81 [==============================] - 36s 285ms/step - loss: 1.6041 - accuracy: 0.2564 - val_loss: 1.6021 - val_accuracy: 0.2668\n",
      "Epoch 5/10\n",
      "81/81 [==============================] - 31s 286ms/step - loss: 1.6067 - accuracy: 0.2435 - val_loss: 1.5856 - val_accuracy: 0.2668\n",
      "Epoch 6/10\n",
      "81/81 [==============================] - 32s 282ms/step - loss: 1.6044 - accuracy: 0.2469 - val_loss: 1.5947 - val_accuracy: 0.2668\n",
      "Epoch 7/10\n",
      "81/81 [==============================] - 37s 275ms/step - loss: 1.6045 - accuracy: 0.2590 - val_loss: 1.5892 - val_accuracy: 0.2668\n",
      "Epoch 8/10\n",
      "81/81 [==============================] - 36s 283ms/step - loss: 1.6000 - accuracy: 0.2570 - val_loss: 1.5946 - val_accuracy: 0.2668\n",
      "Epoch 9/10\n",
      "81/81 [==============================] - 39s 278ms/step - loss: 1.6031 - accuracy: 0.2557 - val_loss: 1.5928 - val_accuracy: 0.2668\n",
      "Epoch 10/10\n",
      "81/81 [==============================] - 35s 278ms/step - loss: 1.6026 - accuracy: 0.2578 - val_loss: 1.5875 - val_accuracy: 0.2668\n",
      "saved tf_flowers_models/MobileNetV2_tf_flowers_model_ConstantSparsity50_KMeansPlusPlus32.h5\n",
      "WARNING:tensorflow:No training configuration found in the save file, so the model was *not* compiled. Compile it manually.\n"
     ]
    },
    {
     "name": "stderr",
     "output_type": "stream",
     "text": [
      "WARNING:tensorflow:No training configuration found in the save file, so the model was *not* compiled. Compile it manually.\n"
     ]
    },
    {
     "name": "stdout",
     "output_type": "stream",
     "text": [
      "Epoch 1/10\n",
      "81/81 [==============================] - 42s 284ms/step - loss: 1.6883 - accuracy: 0.2583 - val_loss: 1.5861 - val_accuracy: 0.2668\n",
      "Epoch 2/10\n",
      "81/81 [==============================] - 35s 272ms/step - loss: 1.6067 - accuracy: 0.2514 - val_loss: 1.5972 - val_accuracy: 0.2432\n",
      "Epoch 3/10\n",
      "81/81 [==============================] - 31s 279ms/step - loss: 1.6103 - accuracy: 0.2271 - val_loss: 1.5912 - val_accuracy: 0.2668\n",
      "Epoch 4/10\n",
      "81/81 [==============================] - 40s 275ms/step - loss: 1.6025 - accuracy: 0.2412 - val_loss: 1.5979 - val_accuracy: 0.2668\n",
      "Epoch 5/10\n",
      "81/81 [==============================] - 35s 275ms/step - loss: 1.6044 - accuracy: 0.2535 - val_loss: 1.5934 - val_accuracy: 0.2668\n",
      "Epoch 6/10\n",
      "81/81 [==============================] - 31s 276ms/step - loss: 1.6000 - accuracy: 0.2680 - val_loss: 1.6050 - val_accuracy: 0.2668\n",
      "Epoch 7/10\n",
      "81/81 [==============================] - 35s 277ms/step - loss: 1.6079 - accuracy: 0.2292 - val_loss: 1.5910 - val_accuracy: 0.2668\n",
      "Epoch 8/10\n",
      "81/81 [==============================] - 40s 281ms/step - loss: 1.6081 - accuracy: 0.2403 - val_loss: 1.5948 - val_accuracy: 0.2668\n",
      "Epoch 9/10\n",
      "81/81 [==============================] - 36s 276ms/step - loss: 1.6076 - accuracy: 0.2435 - val_loss: 1.5843 - val_accuracy: 0.2668\n",
      "Epoch 10/10\n",
      "81/81 [==============================] - 36s 272ms/step - loss: 1.6088 - accuracy: 0.2160 - val_loss: 1.5925 - val_accuracy: 0.2668\n",
      "saved tf_flowers_models/MobileNetV2_tf_flowers_model_ConstantSparsity50_KMeansPlusPlus128.h5\n"
     ]
    }
   ],
   "source": [
    "weight_cluster_model(model_path='tf_flowers_models/MobileNetV2_tf_flowers_model_ConstantSparsity50.h5', \n",
    "                     ds_train=tf_flowers_datasets[0], \n",
    "                     ds_validation=tf_flowers_datasets[1], \n",
    "                     batch_size=BATCH_SIZE, \n",
    "                     epochs=PRUNING_EPOCHS, \n",
    "                     number_of_clusters=32)\n",
    "weight_cluster_model(model_path='tf_flowers_models/MobileNetV2_tf_flowers_model_ConstantSparsity50.h5', \n",
    "                     ds_train=tf_flowers_datasets[0], \n",
    "                     ds_validation=tf_flowers_datasets[1], \n",
    "                     batch_size=BATCH_SIZE, \n",
    "                     epochs=PRUNING_EPOCHS, \n",
    "                     number_of_clusters=128)"
   ]
  },
  {
   "cell_type": "code",
   "execution_count": 39,
   "metadata": {},
   "outputs": [
    {
     "name": "stdout",
     "output_type": "stream",
     "text": [
      "WARNING:tensorflow:No training configuration found in the save file, so the model was *not* compiled. Compile it manually.\n"
     ]
    },
    {
     "name": "stderr",
     "output_type": "stream",
     "text": [
      "WARNING:tensorflow:No training configuration found in the save file, so the model was *not* compiled. Compile it manually.\n"
     ]
    },
    {
     "name": "stdout",
     "output_type": "stream",
     "text": [
      "Epoch 1/10\n",
      "81/81 [==============================] - 51s 361ms/step - loss: 1.8402 - accuracy: 0.2026 - val_loss: 1.5975 - val_accuracy: 0.2668\n",
      "Epoch 2/10\n",
      "81/81 [==============================] - 32s 293ms/step - loss: 1.6103 - accuracy: 0.2444 - val_loss: 1.5996 - val_accuracy: 0.2668\n",
      "Epoch 3/10\n",
      "81/81 [==============================] - 40s 279ms/step - loss: 1.6047 - accuracy: 0.2588 - val_loss: 1.5829 - val_accuracy: 0.2668\n",
      "Epoch 4/10\n",
      "81/81 [==============================] - 36s 285ms/step - loss: 1.6116 - accuracy: 0.2312 - val_loss: 1.5915 - val_accuracy: 0.2668\n",
      "Epoch 5/10\n",
      "81/81 [==============================] - 41s 281ms/step - loss: 1.6060 - accuracy: 0.2402 - val_loss: 1.5896 - val_accuracy: 0.2668\n",
      "Epoch 6/10\n",
      "81/81 [==============================] - 28s 282ms/step - loss: 1.6052 - accuracy: 0.2544 - val_loss: 1.5916 - val_accuracy: 0.2668\n",
      "Epoch 7/10\n",
      "81/81 [==============================] - 37s 282ms/step - loss: 1.6010 - accuracy: 0.2440 - val_loss: 1.6079 - val_accuracy: 0.2668\n",
      "Epoch 8/10\n",
      "81/81 [==============================] - 39s 283ms/step - loss: 1.6098 - accuracy: 0.2278 - val_loss: 1.5967 - val_accuracy: 0.2668\n",
      "Epoch 9/10\n",
      "81/81 [==============================] - 40s 283ms/step - loss: 1.6040 - accuracy: 0.2489 - val_loss: 1.5913 - val_accuracy: 0.2668\n",
      "Epoch 10/10\n",
      "81/81 [==============================] - 39s 278ms/step - loss: 1.6070 - accuracy: 0.2474 - val_loss: 1.5991 - val_accuracy: 0.2668\n",
      "saved tf_flowers_models/MobileNetV2_tf_flowers_model_PolynomialDecay50_KMeansPlusPlus32.h5\n",
      "WARNING:tensorflow:No training configuration found in the save file, so the model was *not* compiled. Compile it manually.\n"
     ]
    },
    {
     "name": "stderr",
     "output_type": "stream",
     "text": [
      "WARNING:tensorflow:No training configuration found in the save file, so the model was *not* compiled. Compile it manually.\n"
     ]
    },
    {
     "name": "stdout",
     "output_type": "stream",
     "text": [
      "Epoch 1/10\n",
      "81/81 [==============================] - 45s 284ms/step - loss: 1.8371 - accuracy: 0.2196 - val_loss: 1.5880 - val_accuracy: 0.2668\n",
      "Epoch 2/10\n",
      "81/81 [==============================] - 32s 274ms/step - loss: 1.6106 - accuracy: 0.2504 - val_loss: 1.5911 - val_accuracy: 0.2668\n",
      "Epoch 3/10\n",
      "81/81 [==============================] - 34s 276ms/step - loss: 1.6093 - accuracy: 0.2384 - val_loss: 1.6001 - val_accuracy: 0.2432\n",
      "Epoch 4/10\n",
      "81/81 [==============================] - 32s 272ms/step - loss: 1.6108 - accuracy: 0.2299 - val_loss: 1.6007 - val_accuracy: 0.2668\n",
      "Epoch 5/10\n",
      "81/81 [==============================] - 39s 269ms/step - loss: 1.6089 - accuracy: 0.2203 - val_loss: 1.6006 - val_accuracy: 0.1833\n",
      "Epoch 6/10\n",
      "81/81 [==============================] - 31s 267ms/step - loss: 1.6114 - accuracy: 0.2226 - val_loss: 1.5893 - val_accuracy: 0.2432\n",
      "Epoch 7/10\n",
      "81/81 [==============================] - 40s 276ms/step - loss: 1.6139 - accuracy: 0.2123 - val_loss: 1.5913 - val_accuracy: 0.2668\n",
      "Epoch 8/10\n",
      "81/81 [==============================] - 40s 273ms/step - loss: 1.6059 - accuracy: 0.2334 - val_loss: 1.5973 - val_accuracy: 0.2668\n",
      "Epoch 9/10\n",
      "81/81 [==============================] - 31s 273ms/step - loss: 1.6052 - accuracy: 0.2429 - val_loss: 1.6002 - val_accuracy: 0.2668\n",
      "Epoch 10/10\n",
      "81/81 [==============================] - 39s 276ms/step - loss: 1.6087 - accuracy: 0.2179 - val_loss: 1.5900 - val_accuracy: 0.2668\n",
      "saved tf_flowers_models/MobileNetV2_tf_flowers_model_PolynomialDecay50_KMeansPlusPlus128.h5\n"
     ]
    }
   ],
   "source": [
    "weight_cluster_model(model_path='tf_flowers_models/MobileNetV2_tf_flowers_model_PolynomialDecay50.h5', \n",
    "                     ds_train=tf_flowers_datasets[0], \n",
    "                     ds_validation=tf_flowers_datasets[1], \n",
    "                     batch_size=BATCH_SIZE, \n",
    "                     epochs=PRUNING_EPOCHS, \n",
    "                     number_of_clusters=32)\n",
    "weight_cluster_model(model_path='tf_flowers_models/MobileNetV2_tf_flowers_model_PolynomialDecay50.h5', \n",
    "                     ds_train=tf_flowers_datasets[0], \n",
    "                     ds_validation=tf_flowers_datasets[1], \n",
    "                     batch_size=BATCH_SIZE, \n",
    "                     epochs=PRUNING_EPOCHS, \n",
    "                     number_of_clusters=128)"
   ]
  },
  {
   "cell_type": "code",
   "execution_count": 40,
   "metadata": {},
   "outputs": [
    {
     "name": "stdout",
     "output_type": "stream",
     "text": [
      "WARNING:tensorflow:No training configuration found in the save file, so the model was *not* compiled. Compile it manually.\n"
     ]
    },
    {
     "name": "stderr",
     "output_type": "stream",
     "text": [
      "WARNING:tensorflow:No training configuration found in the save file, so the model was *not* compiled. Compile it manually.\n"
     ]
    },
    {
     "name": "stdout",
     "output_type": "stream",
     "text": [
      "Epoch 1/10\n",
      "81/81 [==============================] - 37s 285ms/step - loss: 1.7226 - accuracy: 0.2214 - val_loss: 1.5925 - val_accuracy: 0.2668\n",
      "Epoch 2/10\n",
      "81/81 [==============================] - 37s 282ms/step - loss: 1.6044 - accuracy: 0.2675 - val_loss: 1.5855 - val_accuracy: 0.2668\n",
      "Epoch 3/10\n",
      "81/81 [==============================] - 29s 281ms/step - loss: 1.6103 - accuracy: 0.2380 - val_loss: 1.5935 - val_accuracy: 0.2668\n",
      "Epoch 4/10\n",
      "81/81 [==============================] - 40s 283ms/step - loss: 1.6097 - accuracy: 0.2340 - val_loss: 1.5900 - val_accuracy: 0.2668\n",
      "Epoch 5/10\n",
      "81/81 [==============================] - 36s 278ms/step - loss: 1.5969 - accuracy: 0.2609 - val_loss: 1.6001 - val_accuracy: 0.2668\n",
      "Epoch 6/10\n",
      "81/81 [==============================] - 40s 279ms/step - loss: 1.6013 - accuracy: 0.2582 - val_loss: 1.5956 - val_accuracy: 0.2668\n",
      "Epoch 7/10\n",
      "81/81 [==============================] - 36s 284ms/step - loss: 1.6067 - accuracy: 0.2406 - val_loss: 1.5915 - val_accuracy: 0.2668\n",
      "Epoch 8/10\n",
      "81/81 [==============================] - 38s 280ms/step - loss: 1.6096 - accuracy: 0.2298 - val_loss: 1.5925 - val_accuracy: 0.2668\n",
      "Epoch 9/10\n",
      "81/81 [==============================] - 41s 287ms/step - loss: 1.6011 - accuracy: 0.2570 - val_loss: 1.5900 - val_accuracy: 0.2668\n",
      "Epoch 10/10\n",
      "81/81 [==============================] - 41s 286ms/step - loss: 1.6041 - accuracy: 0.2388 - val_loss: 1.5927 - val_accuracy: 0.2668\n",
      "saved tf_flowers_models/MobileNetV2_tf_flowers_model_ConstantSparsity75_KMeansPlusPlus32.h5\n",
      "WARNING:tensorflow:No training configuration found in the save file, so the model was *not* compiled. Compile it manually.\n"
     ]
    },
    {
     "name": "stderr",
     "output_type": "stream",
     "text": [
      "WARNING:tensorflow:No training configuration found in the save file, so the model was *not* compiled. Compile it manually.\n"
     ]
    },
    {
     "name": "stdout",
     "output_type": "stream",
     "text": [
      "Epoch 1/10\n",
      "81/81 [==============================] - 44s 296ms/step - loss: 1.7291 - accuracy: 0.2101 - val_loss: 1.6031 - val_accuracy: 0.1833\n",
      "Epoch 2/10\n",
      "81/81 [==============================] - 33s 281ms/step - loss: 1.6061 - accuracy: 0.2286 - val_loss: 1.5892 - val_accuracy: 0.2668\n",
      "Epoch 3/10\n",
      "81/81 [==============================] - 37s 279ms/step - loss: 1.6069 - accuracy: 0.2488 - val_loss: 1.6008 - val_accuracy: 0.2432\n",
      "Epoch 4/10\n",
      "81/81 [==============================] - 39s 282ms/step - loss: 1.6065 - accuracy: 0.2261 - val_loss: 1.5979 - val_accuracy: 0.2668\n",
      "Epoch 5/10\n",
      "81/81 [==============================] - 28s 282ms/step - loss: 1.5994 - accuracy: 0.2598 - val_loss: 1.5962 - val_accuracy: 0.2668\n",
      "Epoch 6/10\n",
      "81/81 [==============================] - 33s 282ms/step - loss: 1.6053 - accuracy: 0.2433 - val_loss: 1.5872 - val_accuracy: 0.2668\n",
      "Epoch 7/10\n",
      "81/81 [==============================] - 34s 282ms/step - loss: 1.6012 - accuracy: 0.2483 - val_loss: 1.5985 - val_accuracy: 0.2668\n",
      "Epoch 8/10\n",
      "81/81 [==============================] - 28s 280ms/step - loss: 1.6076 - accuracy: 0.2407 - val_loss: 1.5898 - val_accuracy: 0.2668\n",
      "Epoch 9/10\n",
      "81/81 [==============================] - 34s 277ms/step - loss: 1.6035 - accuracy: 0.2500 - val_loss: 1.5870 - val_accuracy: 0.2668\n",
      "Epoch 10/10\n",
      "81/81 [==============================] - 36s 275ms/step - loss: 1.6062 - accuracy: 0.2388 - val_loss: 1.5922 - val_accuracy: 0.2668\n",
      "saved tf_flowers_models/MobileNetV2_tf_flowers_model_ConstantSparsity75_KMeansPlusPlus128.h5\n"
     ]
    }
   ],
   "source": [
    "weight_cluster_model(model_path='tf_flowers_models/MobileNetV2_tf_flowers_model_ConstantSparsity75.h5', \n",
    "                     ds_train=tf_flowers_datasets[0], \n",
    "                     ds_validation=tf_flowers_datasets[1], \n",
    "                     batch_size=BATCH_SIZE, \n",
    "                     epochs=PRUNING_EPOCHS, \n",
    "                     number_of_clusters=32)\n",
    "weight_cluster_model(model_path='tf_flowers_models/MobileNetV2_tf_flowers_model_ConstantSparsity75.h5', \n",
    "                     ds_train=tf_flowers_datasets[0], \n",
    "                     ds_validation=tf_flowers_datasets[1], \n",
    "                     batch_size=BATCH_SIZE, \n",
    "                     epochs=PRUNING_EPOCHS, \n",
    "                     number_of_clusters=128)"
   ]
  },
  {
   "cell_type": "code",
   "execution_count": 41,
   "metadata": {},
   "outputs": [
    {
     "name": "stdout",
     "output_type": "stream",
     "text": [
      "WARNING:tensorflow:No training configuration found in the save file, so the model was *not* compiled. Compile it manually.\n"
     ]
    },
    {
     "name": "stderr",
     "output_type": "stream",
     "text": [
      "WARNING:tensorflow:No training configuration found in the save file, so the model was *not* compiled. Compile it manually.\n"
     ]
    },
    {
     "name": "stdout",
     "output_type": "stream",
     "text": [
      "Epoch 1/10\n",
      "81/81 [==============================] - 47s 302ms/step - loss: 2.5659 - accuracy: 0.2385 - val_loss: 1.5903 - val_accuracy: 0.2432\n",
      "Epoch 2/10\n",
      "81/81 [==============================] - 38s 285ms/step - loss: 1.6110 - accuracy: 0.2248 - val_loss: 1.6047 - val_accuracy: 0.2668\n",
      "Epoch 3/10\n",
      "81/81 [==============================] - 40s 282ms/step - loss: 1.6120 - accuracy: 0.2407 - val_loss: 1.5877 - val_accuracy: 0.2668\n",
      "Epoch 4/10\n",
      "81/81 [==============================] - 40s 282ms/step - loss: 1.6086 - accuracy: 0.2399 - val_loss: 1.5866 - val_accuracy: 0.2668\n",
      "Epoch 5/10\n",
      "81/81 [==============================] - 41s 288ms/step - loss: 1.6082 - accuracy: 0.2396 - val_loss: 1.5895 - val_accuracy: 0.2432\n",
      "Epoch 6/10\n",
      "81/81 [==============================] - 33s 283ms/step - loss: 1.6014 - accuracy: 0.2386 - val_loss: 1.5919 - val_accuracy: 0.2668\n",
      "Epoch 7/10\n",
      "81/81 [==============================] - 35s 285ms/step - loss: 1.6079 - accuracy: 0.2418 - val_loss: 1.5866 - val_accuracy: 0.2668\n",
      "Epoch 8/10\n",
      "81/81 [==============================] - 36s 286ms/step - loss: 1.6038 - accuracy: 0.2311 - val_loss: 1.5988 - val_accuracy: 0.2668\n",
      "Epoch 9/10\n",
      "81/81 [==============================] - 38s 281ms/step - loss: 1.6094 - accuracy: 0.2328 - val_loss: 1.5931 - val_accuracy: 0.2668\n",
      "Epoch 10/10\n",
      "81/81 [==============================] - 40s 283ms/step - loss: 1.6084 - accuracy: 0.2527 - val_loss: 1.5881 - val_accuracy: 0.2668\n",
      "saved tf_flowers_models/MobileNetV2_tf_flowers_model_PolynomialDecay75_KMeansPlusPlus32.h5\n",
      "WARNING:tensorflow:No training configuration found in the save file, so the model was *not* compiled. Compile it manually.\n"
     ]
    },
    {
     "name": "stderr",
     "output_type": "stream",
     "text": [
      "WARNING:tensorflow:No training configuration found in the save file, so the model was *not* compiled. Compile it manually.\n"
     ]
    },
    {
     "name": "stdout",
     "output_type": "stream",
     "text": [
      "Epoch 1/10\n",
      "81/81 [==============================] - 43s 299ms/step - loss: 2.4906 - accuracy: 0.2302 - val_loss: 1.5871 - val_accuracy: 0.2432\n",
      "Epoch 2/10\n",
      "81/81 [==============================] - 40s 286ms/step - loss: 1.6114 - accuracy: 0.2289 - val_loss: 1.6014 - val_accuracy: 0.2668\n",
      "Epoch 3/10\n",
      "81/81 [==============================] - 40s 285ms/step - loss: 1.6090 - accuracy: 0.2449 - val_loss: 1.5963 - val_accuracy: 0.2432\n",
      "Epoch 4/10\n",
      "81/81 [==============================] - 40s 289ms/step - loss: 1.6048 - accuracy: 0.2398 - val_loss: 1.6136 - val_accuracy: 0.1833\n",
      "Epoch 5/10\n",
      "81/81 [==============================] - 41s 282ms/step - loss: 1.6096 - accuracy: 0.2230 - val_loss: 1.5930 - val_accuracy: 0.2432\n",
      "Epoch 6/10\n",
      "81/81 [==============================] - 35s 287ms/step - loss: 1.6061 - accuracy: 0.2431 - val_loss: 1.6038 - val_accuracy: 0.2668\n",
      "Epoch 7/10\n",
      "81/81 [==============================] - 34s 282ms/step - loss: 1.6034 - accuracy: 0.2469 - val_loss: 1.5903 - val_accuracy: 0.2668\n",
      "Epoch 8/10\n",
      "81/81 [==============================] - 37s 279ms/step - loss: 1.6066 - accuracy: 0.2534 - val_loss: 1.5957 - val_accuracy: 0.2668\n",
      "Epoch 9/10\n",
      "81/81 [==============================] - 41s 288ms/step - loss: 1.6078 - accuracy: 0.2558 - val_loss: 1.5905 - val_accuracy: 0.2668\n",
      "Epoch 10/10\n",
      "81/81 [==============================] - 39s 283ms/step - loss: 1.6037 - accuracy: 0.2435 - val_loss: 1.6126 - val_accuracy: 0.2668\n",
      "saved tf_flowers_models/MobileNetV2_tf_flowers_model_PolynomialDecay75_KMeansPlusPlus128.h5\n"
     ]
    }
   ],
   "source": [
    "weight_cluster_model(model_path='tf_flowers_models/MobileNetV2_tf_flowers_model_PolynomialDecay75.h5', \n",
    "                     ds_train=tf_flowers_datasets[0], \n",
    "                     ds_validation=tf_flowers_datasets[1], \n",
    "                     batch_size=BATCH_SIZE, \n",
    "                     epochs=PRUNING_EPOCHS, \n",
    "                     number_of_clusters=32)\n",
    "weight_cluster_model(model_path='tf_flowers_models/MobileNetV2_tf_flowers_model_PolynomialDecay75.h5', \n",
    "                     ds_train=tf_flowers_datasets[0], \n",
    "                     ds_validation=tf_flowers_datasets[1], \n",
    "                     batch_size=BATCH_SIZE, \n",
    "                     epochs=PRUNING_EPOCHS, \n",
    "                     number_of_clusters=128)"
   ]
  },
  {
   "cell_type": "code",
   "execution_count": 42,
   "metadata": {},
   "outputs": [
    {
     "name": "stdout",
     "output_type": "stream",
     "text": [
      "WARNING:tensorflow:No training configuration found in the save file, so the model was *not* compiled. Compile it manually.\n"
     ]
    },
    {
     "name": "stderr",
     "output_type": "stream",
     "text": [
      "WARNING:tensorflow:No training configuration found in the save file, so the model was *not* compiled. Compile it manually.\n"
     ]
    },
    {
     "name": "stdout",
     "output_type": "stream",
     "text": [
      "Epoch 1/10\n",
      "81/81 [==============================] - 36s 297ms/step - loss: 1.7790 - accuracy: 0.2459 - val_loss: 1.5949 - val_accuracy: 0.2668\n",
      "Epoch 2/10\n",
      "81/81 [==============================] - 40s 285ms/step - loss: 1.6037 - accuracy: 0.2442 - val_loss: 1.5840 - val_accuracy: 0.2668\n",
      "Epoch 3/10\n",
      "81/81 [==============================] - 41s 290ms/step - loss: 1.5999 - accuracy: 0.2575 - val_loss: 1.5953 - val_accuracy: 0.2668\n",
      "Epoch 4/10\n",
      "81/81 [==============================] - 37s 281ms/step - loss: 1.6034 - accuracy: 0.2421 - val_loss: 1.5976 - val_accuracy: 0.2668\n",
      "Epoch 5/10\n",
      "81/81 [==============================] - 36s 286ms/step - loss: 1.6035 - accuracy: 0.2500 - val_loss: 1.6026 - val_accuracy: 0.2668\n",
      "Epoch 6/10\n",
      "81/81 [==============================] - 31s 283ms/step - loss: 1.6053 - accuracy: 0.2487 - val_loss: 1.5874 - val_accuracy: 0.2668\n",
      "Epoch 7/10\n",
      "81/81 [==============================] - 40s 283ms/step - loss: 1.6014 - accuracy: 0.2397 - val_loss: 1.5957 - val_accuracy: 0.2668\n",
      "Epoch 8/10\n",
      "81/81 [==============================] - 37s 282ms/step - loss: 1.6049 - accuracy: 0.2476 - val_loss: 1.5857 - val_accuracy: 0.2668\n",
      "Epoch 9/10\n",
      "81/81 [==============================] - 39s 284ms/step - loss: 1.6154 - accuracy: 0.2143 - val_loss: 1.5876 - val_accuracy: 0.2668\n",
      "Epoch 10/10\n",
      "81/81 [==============================] - 35s 281ms/step - loss: 1.6058 - accuracy: 0.2433 - val_loss: 1.5890 - val_accuracy: 0.2668\n",
      "saved tf_flowers_models/MobileNetV2_tf_flowers_model_ConstantSparsity90_KMeansPlusPlus32.h5\n",
      "WARNING:tensorflow:No training configuration found in the save file, so the model was *not* compiled. Compile it manually.\n"
     ]
    },
    {
     "name": "stderr",
     "output_type": "stream",
     "text": [
      "WARNING:tensorflow:No training configuration found in the save file, so the model was *not* compiled. Compile it manually.\n"
     ]
    },
    {
     "name": "stdout",
     "output_type": "stream",
     "text": [
      "Epoch 1/10\n",
      "81/81 [==============================] - 46s 290ms/step - loss: 1.7809 - accuracy: 0.2234 - val_loss: 1.5942 - val_accuracy: 0.2668\n",
      "Epoch 2/10\n",
      "81/81 [==============================] - 32s 283ms/step - loss: 1.6086 - accuracy: 0.2518 - val_loss: 1.5911 - val_accuracy: 0.2668\n",
      "Epoch 3/10\n",
      "81/81 [==============================] - 33s 277ms/step - loss: 1.6035 - accuracy: 0.2449 - val_loss: 1.5948 - val_accuracy: 0.2668\n",
      "Epoch 4/10\n",
      "81/81 [==============================] - 39s 272ms/step - loss: 1.6048 - accuracy: 0.2462 - val_loss: 1.5901 - val_accuracy: 0.2668\n",
      "Epoch 5/10\n",
      "81/81 [==============================] - 36s 275ms/step - loss: 1.6106 - accuracy: 0.2330 - val_loss: 1.5890 - val_accuracy: 0.2668\n",
      "Epoch 6/10\n",
      "81/81 [==============================] - 40s 279ms/step - loss: 1.6033 - accuracy: 0.2557 - val_loss: 1.5935 - val_accuracy: 0.2668\n",
      "Epoch 7/10\n",
      "81/81 [==============================] - 40s 278ms/step - loss: 1.6041 - accuracy: 0.2523 - val_loss: 1.5904 - val_accuracy: 0.2668\n",
      "Epoch 8/10\n",
      "81/81 [==============================] - 33s 277ms/step - loss: 1.6017 - accuracy: 0.2574 - val_loss: 1.5932 - val_accuracy: 0.2668\n",
      "Epoch 9/10\n",
      "81/81 [==============================] - 39s 279ms/step - loss: 1.6030 - accuracy: 0.2566 - val_loss: 1.5946 - val_accuracy: 0.2432\n",
      "Epoch 10/10\n",
      "81/81 [==============================] - 40s 273ms/step - loss: 1.6038 - accuracy: 0.2366 - val_loss: 1.5910 - val_accuracy: 0.2668\n",
      "saved tf_flowers_models/MobileNetV2_tf_flowers_model_ConstantSparsity90_KMeansPlusPlus128.h5\n"
     ]
    }
   ],
   "source": [
    "weight_cluster_model(model_path='tf_flowers_models/MobileNetV2_tf_flowers_model_ConstantSparsity90.h5', \n",
    "                     ds_train=tf_flowers_datasets[0], \n",
    "                     ds_validation=tf_flowers_datasets[1], \n",
    "                     batch_size=BATCH_SIZE, \n",
    "                     epochs=PRUNING_EPOCHS, \n",
    "                     number_of_clusters=32)\n",
    "weight_cluster_model(model_path='tf_flowers_models/MobileNetV2_tf_flowers_model_ConstantSparsity90.h5', \n",
    "                     ds_train=tf_flowers_datasets[0], \n",
    "                     ds_validation=tf_flowers_datasets[1], \n",
    "                     batch_size=BATCH_SIZE, \n",
    "                     epochs=PRUNING_EPOCHS, \n",
    "                     number_of_clusters=128)"
   ]
  },
  {
   "cell_type": "code",
   "execution_count": 43,
   "metadata": {},
   "outputs": [
    {
     "name": "stdout",
     "output_type": "stream",
     "text": [
      "WARNING:tensorflow:No training configuration found in the save file, so the model was *not* compiled. Compile it manually.\n"
     ]
    },
    {
     "name": "stderr",
     "output_type": "stream",
     "text": [
      "WARNING:tensorflow:No training configuration found in the save file, so the model was *not* compiled. Compile it manually.\n"
     ]
    },
    {
     "name": "stdout",
     "output_type": "stream",
     "text": [
      "Epoch 1/10\n",
      "81/81 [==============================] - 46s 282ms/step - loss: 1.7853 - accuracy: 0.2300 - val_loss: 1.6153 - val_accuracy: 0.2668\n",
      "Epoch 2/10\n",
      "81/81 [==============================] - 37s 274ms/step - loss: 1.6056 - accuracy: 0.2670 - val_loss: 1.5926 - val_accuracy: 0.2668\n",
      "Epoch 3/10\n",
      "81/81 [==============================] - 39s 280ms/step - loss: 1.6039 - accuracy: 0.2494 - val_loss: 1.5937 - val_accuracy: 0.2668\n",
      "Epoch 4/10\n",
      "81/81 [==============================] - 40s 277ms/step - loss: 1.6061 - accuracy: 0.2414 - val_loss: 1.5958 - val_accuracy: 0.2668\n",
      "Epoch 5/10\n",
      "81/81 [==============================] - 40s 278ms/step - loss: 1.6079 - accuracy: 0.2498 - val_loss: 1.5886 - val_accuracy: 0.2668\n",
      "Epoch 6/10\n",
      "81/81 [==============================] - 38s 273ms/step - loss: 1.6035 - accuracy: 0.2469 - val_loss: 1.5963 - val_accuracy: 0.2668\n",
      "Epoch 7/10\n",
      "81/81 [==============================] - 39s 271ms/step - loss: 1.6045 - accuracy: 0.2470 - val_loss: 1.5900 - val_accuracy: 0.2668\n",
      "Epoch 8/10\n",
      "81/81 [==============================] - 38s 270ms/step - loss: 1.6061 - accuracy: 0.2358 - val_loss: 1.5896 - val_accuracy: 0.2668\n",
      "Epoch 9/10\n",
      "81/81 [==============================] - 36s 272ms/step - loss: 1.6042 - accuracy: 0.2455 - val_loss: 1.5893 - val_accuracy: 0.2668\n",
      "Epoch 10/10\n",
      "81/81 [==============================] - 37s 272ms/step - loss: 1.6041 - accuracy: 0.2541 - val_loss: 1.5910 - val_accuracy: 0.2668\n",
      "saved tf_flowers_models/MobileNetV2_tf_flowers_model_PolynomialDecay90_KMeansPlusPlus32.h5\n",
      "WARNING:tensorflow:No training configuration found in the save file, so the model was *not* compiled. Compile it manually.\n"
     ]
    },
    {
     "name": "stderr",
     "output_type": "stream",
     "text": [
      "WARNING:tensorflow:No training configuration found in the save file, so the model was *not* compiled. Compile it manually.\n"
     ]
    },
    {
     "name": "stdout",
     "output_type": "stream",
     "text": [
      "Epoch 1/10\n",
      "81/81 [==============================] - 50s 292ms/step - loss: 1.7580 - accuracy: 0.2154 - val_loss: 1.5874 - val_accuracy: 0.2668\n",
      "Epoch 2/10\n",
      "81/81 [==============================] - 37s 280ms/step - loss: 1.6056 - accuracy: 0.2250 - val_loss: 1.5982 - val_accuracy: 0.2668\n",
      "Epoch 3/10\n",
      "81/81 [==============================] - 40s 276ms/step - loss: 1.6072 - accuracy: 0.2371 - val_loss: 1.5910 - val_accuracy: 0.2668\n",
      "Epoch 4/10\n",
      "81/81 [==============================] - 32s 278ms/step - loss: 1.6052 - accuracy: 0.2501 - val_loss: 1.5954 - val_accuracy: 0.2668\n",
      "Epoch 5/10\n",
      "81/81 [==============================] - 32s 287ms/step - loss: 1.6070 - accuracy: 0.2314 - val_loss: 1.5985 - val_accuracy: 0.2668\n",
      "Epoch 6/10\n",
      "81/81 [==============================] - 28s 281ms/step - loss: 1.6072 - accuracy: 0.2317 - val_loss: 1.5914 - val_accuracy: 0.2668\n",
      "Epoch 7/10\n",
      "81/81 [==============================] - 35s 278ms/step - loss: 1.6078 - accuracy: 0.2489 - val_loss: 1.5898 - val_accuracy: 0.2668\n",
      "Epoch 8/10\n",
      "81/81 [==============================] - 36s 275ms/step - loss: 1.6035 - accuracy: 0.2407 - val_loss: 1.5914 - val_accuracy: 0.2668\n",
      "Epoch 9/10\n",
      "81/81 [==============================] - 33s 276ms/step - loss: 1.6056 - accuracy: 0.2389 - val_loss: 1.5975 - val_accuracy: 0.2668\n",
      "Epoch 10/10\n",
      "81/81 [==============================] - 38s 279ms/step - loss: 1.6043 - accuracy: 0.2458 - val_loss: 1.5966 - val_accuracy: 0.2668\n",
      "saved tf_flowers_models/MobileNetV2_tf_flowers_model_PolynomialDecay90_KMeansPlusPlus128.h5\n"
     ]
    }
   ],
   "source": [
    "weight_cluster_model(model_path='tf_flowers_models/MobileNetV2_tf_flowers_model_PolynomialDecay90.h5', \n",
    "                     ds_train=tf_flowers_datasets[0], \n",
    "                     ds_validation=tf_flowers_datasets[1], \n",
    "                     batch_size=BATCH_SIZE, \n",
    "                     epochs=PRUNING_EPOCHS, \n",
    "                     number_of_clusters=32)\n",
    "weight_cluster_model(model_path='tf_flowers_models/MobileNetV2_tf_flowers_model_PolynomialDecay90.h5', \n",
    "                     ds_train=tf_flowers_datasets[0], \n",
    "                     ds_validation=tf_flowers_datasets[1], \n",
    "                     batch_size=BATCH_SIZE, \n",
    "                     epochs=PRUNING_EPOCHS, \n",
    "                     number_of_clusters=128)"
   ]
  },
  {
   "cell_type": "code",
   "execution_count": 44,
   "metadata": {},
   "outputs": [
    {
     "name": "stdout",
     "output_type": "stream",
     "text": [
      "WARNING:tensorflow:No training configuration found in the save file, so the model was *not* compiled. Compile it manually.\n"
     ]
    },
    {
     "name": "stderr",
     "output_type": "stream",
     "text": [
      "WARNING:tensorflow:No training configuration found in the save file, so the model was *not* compiled. Compile it manually.\n"
     ]
    },
    {
     "name": "stdout",
     "output_type": "stream",
     "text": [
      "Epoch 1/10\n",
      "81/81 [==============================] - 58s 409ms/step - loss: 0.3119 - accuracy: 0.8851 - val_loss: 1.3623 - val_accuracy: 0.6824\n",
      "Epoch 2/10\n",
      "81/81 [==============================] - 49s 394ms/step - loss: 0.0748 - accuracy: 0.9774 - val_loss: 1.6688 - val_accuracy: 0.6316\n",
      "Epoch 3/10\n",
      "81/81 [==============================] - 47s 399ms/step - loss: 0.0794 - accuracy: 0.9753 - val_loss: 1.2669 - val_accuracy: 0.6933\n",
      "Epoch 4/10\n",
      "81/81 [==============================] - 44s 394ms/step - loss: 0.0413 - accuracy: 0.9894 - val_loss: 1.6762 - val_accuracy: 0.6624\n",
      "Epoch 5/10\n",
      "81/81 [==============================] - 48s 392ms/step - loss: 0.0330 - accuracy: 0.9892 - val_loss: 2.1733 - val_accuracy: 0.6751\n",
      "Epoch 6/10\n",
      "81/81 [==============================] - 49s 395ms/step - loss: 0.0614 - accuracy: 0.9816 - val_loss: 2.0821 - val_accuracy: 0.6860\n",
      "Epoch 7/10\n",
      "81/81 [==============================] - 48s 392ms/step - loss: 0.0239 - accuracy: 0.9912 - val_loss: 1.9853 - val_accuracy: 0.6733\n",
      "Epoch 8/10\n",
      "81/81 [==============================] - 48s 401ms/step - loss: 0.0333 - accuracy: 0.9885 - val_loss: 1.6603 - val_accuracy: 0.6878\n",
      "Epoch 9/10\n",
      "81/81 [==============================] - 49s 393ms/step - loss: 0.0387 - accuracy: 0.9863 - val_loss: 1.4182 - val_accuracy: 0.6642\n",
      "Epoch 10/10\n",
      "81/81 [==============================] - 39s 397ms/step - loss: 0.0473 - accuracy: 0.9828 - val_loss: 1.2788 - val_accuracy: 0.7060\n",
      "saved tf_flowers_models/EfficentNetB0_tf_flowers_model_ConstantSparsity50_KMeansPlusPlus32.h5\n",
      "WARNING:tensorflow:No training configuration found in the save file, so the model was *not* compiled. Compile it manually.\n"
     ]
    },
    {
     "name": "stderr",
     "output_type": "stream",
     "text": [
      "WARNING:tensorflow:No training configuration found in the save file, so the model was *not* compiled. Compile it manually.\n"
     ]
    },
    {
     "name": "stdout",
     "output_type": "stream",
     "text": [
      "Epoch 1/10\n",
      "81/81 [==============================] - 58s 390ms/step - loss: 0.2991 - accuracy: 0.8988 - val_loss: 1.1280 - val_accuracy: 0.6897\n",
      "Epoch 2/10\n",
      "81/81 [==============================] - 44s 375ms/step - loss: 0.1001 - accuracy: 0.9705 - val_loss: 1.3414 - val_accuracy: 0.7151\n",
      "Epoch 3/10\n",
      "81/81 [==============================] - 44s 373ms/step - loss: 0.0585 - accuracy: 0.9805 - val_loss: 1.8311 - val_accuracy: 0.6987\n",
      "Epoch 4/10\n",
      "81/81 [==============================] - 48s 370ms/step - loss: 0.0638 - accuracy: 0.9810 - val_loss: 1.4304 - val_accuracy: 0.6588\n",
      "Epoch 5/10\n",
      "81/81 [==============================] - 45s 381ms/step - loss: 0.0791 - accuracy: 0.9712 - val_loss: 1.4285 - val_accuracy: 0.7042\n",
      "Epoch 6/10\n",
      "81/81 [==============================] - 46s 373ms/step - loss: 0.0493 - accuracy: 0.9804 - val_loss: 1.4823 - val_accuracy: 0.6987\n",
      "Epoch 7/10\n",
      "81/81 [==============================] - 40s 376ms/step - loss: 0.0387 - accuracy: 0.9917 - val_loss: 1.7568 - val_accuracy: 0.6806\n",
      "Epoch 8/10\n",
      "81/81 [==============================] - 41s 376ms/step - loss: 0.0326 - accuracy: 0.9876 - val_loss: 1.7037 - val_accuracy: 0.6552\n",
      "Epoch 9/10\n",
      "81/81 [==============================] - 43s 371ms/step - loss: 0.0517 - accuracy: 0.9817 - val_loss: 1.6223 - val_accuracy: 0.6951\n",
      "Epoch 10/10\n",
      "81/81 [==============================] - 48s 380ms/step - loss: 0.0070 - accuracy: 0.9986 - val_loss: 1.8394 - val_accuracy: 0.7060\n",
      "saved tf_flowers_models/EfficentNetB0_tf_flowers_model_ConstantSparsity50_KMeansPlusPlus128.h5\n"
     ]
    }
   ],
   "source": [
    "weight_cluster_model(model_path='tf_flowers_models/EfficentNetB0_tf_flowers_model_ConstantSparsity50.h5', \n",
    "                     ds_train=tf_flowers_datasets[0], \n",
    "                     ds_validation=tf_flowers_datasets[1], \n",
    "                     batch_size=BATCH_SIZE, \n",
    "                     epochs=PRUNING_EPOCHS, \n",
    "                     number_of_clusters=32)\n",
    "weight_cluster_model(model_path='tf_flowers_models/EfficentNetB0_tf_flowers_model_ConstantSparsity50.h5', \n",
    "                     ds_train=tf_flowers_datasets[0], \n",
    "                     ds_validation=tf_flowers_datasets[1], \n",
    "                     batch_size=BATCH_SIZE, \n",
    "                     epochs=PRUNING_EPOCHS, \n",
    "                     number_of_clusters=128)"
   ]
  },
  {
   "cell_type": "code",
   "execution_count": 45,
   "metadata": {},
   "outputs": [
    {
     "name": "stdout",
     "output_type": "stream",
     "text": [
      "WARNING:tensorflow:No training configuration found in the save file, so the model was *not* compiled. Compile it manually.\n"
     ]
    },
    {
     "name": "stderr",
     "output_type": "stream",
     "text": [
      "WARNING:tensorflow:No training configuration found in the save file, so the model was *not* compiled. Compile it manually.\n"
     ]
    },
    {
     "name": "stdout",
     "output_type": "stream",
     "text": [
      "Epoch 1/10\n",
      "81/81 [==============================] - 50s 395ms/step - loss: 0.2506 - accuracy: 0.9121 - val_loss: 1.2869 - val_accuracy: 0.6733\n",
      "Epoch 2/10\n",
      "81/81 [==============================] - 48s 376ms/step - loss: 0.0468 - accuracy: 0.9842 - val_loss: 1.7616 - val_accuracy: 0.6806\n",
      "Epoch 3/10\n",
      "81/81 [==============================] - 44s 376ms/step - loss: 0.0941 - accuracy: 0.9635 - val_loss: 1.6077 - val_accuracy: 0.6515\n",
      "Epoch 4/10\n",
      "81/81 [==============================] - 36s 374ms/step - loss: 0.0119 - accuracy: 0.9982 - val_loss: 1.8552 - val_accuracy: 0.7024\n",
      "Epoch 5/10\n",
      "81/81 [==============================] - 44s 370ms/step - loss: 0.0702 - accuracy: 0.9741 - val_loss: 1.4057 - val_accuracy: 0.6624\n",
      "Epoch 6/10\n",
      "81/81 [==============================] - 46s 369ms/step - loss: 0.0259 - accuracy: 0.9945 - val_loss: 1.7360 - val_accuracy: 0.7005\n",
      "Epoch 7/10\n",
      "81/81 [==============================] - 41s 373ms/step - loss: 0.0045 - accuracy: 0.9988 - val_loss: 2.1752 - val_accuracy: 0.6697\n",
      "Epoch 8/10\n",
      "81/81 [==============================] - 43s 368ms/step - loss: 0.0041 - accuracy: 0.9993 - val_loss: 1.9981 - val_accuracy: 0.6842\n",
      "Epoch 9/10\n",
      "81/81 [==============================] - 47s 378ms/step - loss: 0.0048 - accuracy: 0.9986 - val_loss: 2.4303 - val_accuracy: 0.6679\n",
      "Epoch 10/10\n",
      "81/81 [==============================] - 48s 374ms/step - loss: 0.0379 - accuracy: 0.9919 - val_loss: 2.1396 - val_accuracy: 0.6987\n",
      "saved tf_flowers_models/EfficentNetB0_tf_flowers_model_PolynomialDecay50_KMeansPlusPlus32.h5\n",
      "WARNING:tensorflow:No training configuration found in the save file, so the model was *not* compiled. Compile it manually.\n"
     ]
    },
    {
     "name": "stderr",
     "output_type": "stream",
     "text": [
      "WARNING:tensorflow:No training configuration found in the save file, so the model was *not* compiled. Compile it manually.\n"
     ]
    },
    {
     "name": "stdout",
     "output_type": "stream",
     "text": [
      "Epoch 1/10\n",
      "81/81 [==============================] - 53s 395ms/step - loss: 0.1740 - accuracy: 0.9352 - val_loss: 1.4683 - val_accuracy: 0.6842\n",
      "Epoch 2/10\n",
      "81/81 [==============================] - 48s 376ms/step - loss: 0.0616 - accuracy: 0.9784 - val_loss: 1.6356 - val_accuracy: 0.6860\n",
      "Epoch 3/10\n",
      "81/81 [==============================] - 46s 384ms/step - loss: 0.0199 - accuracy: 0.9931 - val_loss: 1.6568 - val_accuracy: 0.6842\n",
      "Epoch 4/10\n",
      "81/81 [==============================] - 41s 384ms/step - loss: 0.0692 - accuracy: 0.9791 - val_loss: 1.3034 - val_accuracy: 0.6279\n",
      "Epoch 5/10\n",
      "81/81 [==============================] - 40s 376ms/step - loss: 0.0641 - accuracy: 0.9779 - val_loss: 1.5635 - val_accuracy: 0.7060\n",
      "Epoch 6/10\n",
      "81/81 [==============================] - 42s 377ms/step - loss: 0.0130 - accuracy: 0.9966 - val_loss: 1.9374 - val_accuracy: 0.6878\n",
      "Epoch 7/10\n",
      "81/81 [==============================] - 45s 380ms/step - loss: 0.0412 - accuracy: 0.9850 - val_loss: 1.2039 - val_accuracy: 0.6461\n",
      "Epoch 8/10\n",
      "81/81 [==============================] - 43s 374ms/step - loss: 0.0518 - accuracy: 0.9785 - val_loss: 2.0556 - val_accuracy: 0.6370\n",
      "Epoch 9/10\n",
      "81/81 [==============================] - 38s 376ms/step - loss: 0.0489 - accuracy: 0.9847 - val_loss: 1.8644 - val_accuracy: 0.6824\n",
      "Epoch 10/10\n",
      "81/81 [==============================] - 49s 386ms/step - loss: 0.0132 - accuracy: 0.9990 - val_loss: 1.9175 - val_accuracy: 0.6951\n",
      "saved tf_flowers_models/EfficentNetB0_tf_flowers_model_PolynomialDecay50_KMeansPlusPlus128.h5\n"
     ]
    }
   ],
   "source": [
    "weight_cluster_model(model_path='tf_flowers_models/EfficentNetB0_tf_flowers_model_PolynomialDecay50.h5', \n",
    "                     ds_train=tf_flowers_datasets[0], \n",
    "                     ds_validation=tf_flowers_datasets[1], \n",
    "                     batch_size=BATCH_SIZE, \n",
    "                     epochs=PRUNING_EPOCHS, \n",
    "                     number_of_clusters=32)\n",
    "weight_cluster_model(model_path='tf_flowers_models/EfficentNetB0_tf_flowers_model_PolynomialDecay50.h5', \n",
    "                     ds_train=tf_flowers_datasets[0], \n",
    "                     ds_validation=tf_flowers_datasets[1], \n",
    "                     batch_size=BATCH_SIZE, \n",
    "                     epochs=PRUNING_EPOCHS, \n",
    "                     number_of_clusters=128)"
   ]
  },
  {
   "cell_type": "code",
   "execution_count": 46,
   "metadata": {},
   "outputs": [
    {
     "name": "stdout",
     "output_type": "stream",
     "text": [
      "WARNING:tensorflow:No training configuration found in the save file, so the model was *not* compiled. Compile it manually.\n"
     ]
    },
    {
     "name": "stderr",
     "output_type": "stream",
     "text": [
      "WARNING:tensorflow:No training configuration found in the save file, so the model was *not* compiled. Compile it manually.\n"
     ]
    },
    {
     "name": "stdout",
     "output_type": "stream",
     "text": [
      "Epoch 1/10\n",
      "81/81 [==============================] - 62s 400ms/step - loss: 0.6453 - accuracy: 0.7874 - val_loss: 1.1045 - val_accuracy: 0.6298\n",
      "Epoch 2/10\n",
      "81/81 [==============================] - 47s 374ms/step - loss: 0.1325 - accuracy: 0.9500 - val_loss: 1.5302 - val_accuracy: 0.6897\n",
      "Epoch 3/10\n",
      "81/81 [==============================] - 48s 381ms/step - loss: 0.1392 - accuracy: 0.9515 - val_loss: 1.7672 - val_accuracy: 0.6207\n",
      "Epoch 4/10\n",
      "81/81 [==============================] - 48s 381ms/step - loss: 0.1027 - accuracy: 0.9584 - val_loss: 1.5496 - val_accuracy: 0.6497\n",
      "Epoch 5/10\n",
      "81/81 [==============================] - 48s 379ms/step - loss: 0.0523 - accuracy: 0.9842 - val_loss: 1.5960 - val_accuracy: 0.6679\n",
      "Epoch 6/10\n",
      "81/81 [==============================] - 46s 375ms/step - loss: 0.0778 - accuracy: 0.9774 - val_loss: 1.9448 - val_accuracy: 0.6189\n",
      "Epoch 7/10\n",
      "81/81 [==============================] - 45s 375ms/step - loss: 0.1128 - accuracy: 0.9603 - val_loss: 1.4496 - val_accuracy: 0.6425\n",
      "Epoch 8/10\n",
      "81/81 [==============================] - 41s 378ms/step - loss: 0.1537 - accuracy: 0.9460 - val_loss: 1.7730 - val_accuracy: 0.6697\n",
      "Epoch 9/10\n",
      "81/81 [==============================] - 48s 377ms/step - loss: 0.0867 - accuracy: 0.9698 - val_loss: 2.1337 - val_accuracy: 0.6171\n",
      "Epoch 10/10\n",
      "81/81 [==============================] - 46s 379ms/step - loss: 0.0413 - accuracy: 0.9858 - val_loss: 1.7319 - val_accuracy: 0.6334\n",
      "saved tf_flowers_models/EfficentNetB0_tf_flowers_model_ConstantSparsity75_KMeansPlusPlus32.h5\n",
      "WARNING:tensorflow:No training configuration found in the save file, so the model was *not* compiled. Compile it manually.\n"
     ]
    },
    {
     "name": "stderr",
     "output_type": "stream",
     "text": [
      "WARNING:tensorflow:No training configuration found in the save file, so the model was *not* compiled. Compile it manually.\n"
     ]
    },
    {
     "name": "stdout",
     "output_type": "stream",
     "text": [
      "Epoch 1/10\n",
      "81/81 [==============================] - 57s 394ms/step - loss: 0.7347 - accuracy: 0.7745 - val_loss: 1.4334 - val_accuracy: 0.6624\n",
      "Epoch 2/10\n",
      "81/81 [==============================] - 44s 379ms/step - loss: 0.1206 - accuracy: 0.9621 - val_loss: 1.7751 - val_accuracy: 0.5463\n",
      "Epoch 3/10\n",
      "81/81 [==============================] - 36s 374ms/step - loss: 0.1167 - accuracy: 0.9598 - val_loss: 1.4414 - val_accuracy: 0.6189\n",
      "Epoch 4/10\n",
      "81/81 [==============================] - 46s 379ms/step - loss: 0.1543 - accuracy: 0.9457 - val_loss: 1.6551 - val_accuracy: 0.6552\n",
      "Epoch 5/10\n",
      "81/81 [==============================] - 48s 377ms/step - loss: 0.1162 - accuracy: 0.9606 - val_loss: 1.5988 - val_accuracy: 0.6534\n",
      "Epoch 6/10\n",
      "81/81 [==============================] - 47s 375ms/step - loss: 0.0731 - accuracy: 0.9714 - val_loss: 1.7647 - val_accuracy: 0.6352\n",
      "Epoch 7/10\n",
      "81/81 [==============================] - 48s 378ms/step - loss: 0.0731 - accuracy: 0.9784 - val_loss: 1.5470 - val_accuracy: 0.6316\n",
      "Epoch 8/10\n",
      "81/81 [==============================] - 42s 373ms/step - loss: 0.0490 - accuracy: 0.9830 - val_loss: 1.9352 - val_accuracy: 0.6116\n",
      "Epoch 9/10\n",
      "81/81 [==============================] - 48s 377ms/step - loss: 0.0785 - accuracy: 0.9732 - val_loss: 1.5165 - val_accuracy: 0.6588\n",
      "Epoch 10/10\n",
      "81/81 [==============================] - 48s 378ms/step - loss: 0.0997 - accuracy: 0.9665 - val_loss: 1.6352 - val_accuracy: 0.6080\n",
      "saved tf_flowers_models/EfficentNetB0_tf_flowers_model_ConstantSparsity75_KMeansPlusPlus128.h5\n"
     ]
    }
   ],
   "source": [
    "weight_cluster_model(model_path='tf_flowers_models/EfficentNetB0_tf_flowers_model_ConstantSparsity75.h5', \n",
    "                     ds_train=tf_flowers_datasets[0], \n",
    "                     ds_validation=tf_flowers_datasets[1], \n",
    "                     batch_size=BATCH_SIZE, \n",
    "                     epochs=PRUNING_EPOCHS, \n",
    "                     number_of_clusters=32)\n",
    "weight_cluster_model(model_path='tf_flowers_models/EfficentNetB0_tf_flowers_model_ConstantSparsity75.h5', \n",
    "                     ds_train=tf_flowers_datasets[0], \n",
    "                     ds_validation=tf_flowers_datasets[1], \n",
    "                     batch_size=BATCH_SIZE, \n",
    "                     epochs=PRUNING_EPOCHS, \n",
    "                     number_of_clusters=128)"
   ]
  },
  {
   "cell_type": "code",
   "execution_count": 47,
   "metadata": {},
   "outputs": [
    {
     "name": "stdout",
     "output_type": "stream",
     "text": [
      "WARNING:tensorflow:No training configuration found in the save file, so the model was *not* compiled. Compile it manually.\n"
     ]
    },
    {
     "name": "stderr",
     "output_type": "stream",
     "text": [
      "WARNING:tensorflow:No training configuration found in the save file, so the model was *not* compiled. Compile it manually.\n"
     ]
    },
    {
     "name": "stdout",
     "output_type": "stream",
     "text": [
      "Epoch 1/10\n",
      "81/81 [==============================] - 54s 391ms/step - loss: 0.1542 - accuracy: 0.9493 - val_loss: 1.3634 - val_accuracy: 0.7078\n",
      "Epoch 2/10\n",
      "81/81 [==============================] - 47s 376ms/step - loss: 0.0482 - accuracy: 0.9820 - val_loss: 1.2896 - val_accuracy: 0.7042\n",
      "Epoch 3/10\n",
      "81/81 [==============================] - 47s 370ms/step - loss: 0.0305 - accuracy: 0.9910 - val_loss: 1.6926 - val_accuracy: 0.7132\n",
      "Epoch 4/10\n",
      "81/81 [==============================] - 37s 381ms/step - loss: 0.0209 - accuracy: 0.9910 - val_loss: 1.7707 - val_accuracy: 0.6897\n",
      "Epoch 5/10\n",
      "81/81 [==============================] - 48s 373ms/step - loss: 0.0777 - accuracy: 0.9761 - val_loss: 2.0190 - val_accuracy: 0.6951\n",
      "Epoch 6/10\n",
      "81/81 [==============================] - 43s 376ms/step - loss: 0.0165 - accuracy: 0.9927 - val_loss: 2.0250 - val_accuracy: 0.7151\n",
      "Epoch 7/10\n",
      "81/81 [==============================] - 48s 371ms/step - loss: 0.0411 - accuracy: 0.9893 - val_loss: 1.5995 - val_accuracy: 0.6951\n",
      "Epoch 8/10\n",
      "81/81 [==============================] - 42s 374ms/step - loss: 0.0915 - accuracy: 0.9737 - val_loss: 2.6639 - val_accuracy: 0.7042\n",
      "Epoch 9/10\n",
      "81/81 [==============================] - 45s 372ms/step - loss: 0.0187 - accuracy: 0.9932 - val_loss: 2.0031 - val_accuracy: 0.6824\n",
      "Epoch 10/10\n",
      "81/81 [==============================] - 39s 367ms/step - loss: 0.0337 - accuracy: 0.9859 - val_loss: 1.9056 - val_accuracy: 0.6897\n",
      "saved tf_flowers_models/EfficentNetB0_tf_flowers_model_PolynomialDecay75_KMeansPlusPlus32.h5\n",
      "WARNING:tensorflow:No training configuration found in the save file, so the model was *not* compiled. Compile it manually.\n"
     ]
    },
    {
     "name": "stderr",
     "output_type": "stream",
     "text": [
      "WARNING:tensorflow:No training configuration found in the save file, so the model was *not* compiled. Compile it manually.\n"
     ]
    },
    {
     "name": "stdout",
     "output_type": "stream",
     "text": [
      "Epoch 1/10\n",
      "81/81 [==============================] - 56s 403ms/step - loss: 0.2372 - accuracy: 0.9223 - val_loss: 1.3406 - val_accuracy: 0.6751\n",
      "Epoch 2/10\n",
      "81/81 [==============================] - 48s 380ms/step - loss: 0.0543 - accuracy: 0.9834 - val_loss: 1.8108 - val_accuracy: 0.7024\n",
      "Epoch 3/10\n",
      "81/81 [==============================] - 45s 384ms/step - loss: 0.0321 - accuracy: 0.9877 - val_loss: 1.9078 - val_accuracy: 0.6987\n",
      "Epoch 4/10\n",
      "81/81 [==============================] - 47s 380ms/step - loss: 0.0661 - accuracy: 0.9777 - val_loss: 1.5442 - val_accuracy: 0.7187\n",
      "Epoch 5/10\n",
      "81/81 [==============================] - 48s 377ms/step - loss: 0.0149 - accuracy: 0.9959 - val_loss: 2.0381 - val_accuracy: 0.6987\n",
      "Epoch 6/10\n",
      "81/81 [==============================] - 41s 382ms/step - loss: 0.0227 - accuracy: 0.9931 - val_loss: 1.8784 - val_accuracy: 0.6515\n",
      "Epoch 7/10\n",
      "81/81 [==============================] - 39s 386ms/step - loss: 0.0663 - accuracy: 0.9773 - val_loss: 1.7362 - val_accuracy: 0.6878\n",
      "Epoch 8/10\n",
      "81/81 [==============================] - 45s 386ms/step - loss: 0.0404 - accuracy: 0.9873 - val_loss: 2.0126 - val_accuracy: 0.6860\n",
      "Epoch 9/10\n",
      "81/81 [==============================] - 43s 383ms/step - loss: 0.0066 - accuracy: 0.9992 - val_loss: 2.0632 - val_accuracy: 0.7114\n",
      "Epoch 10/10\n",
      "81/81 [==============================] - 48s 385ms/step - loss: 5.8246e-04 - accuracy: 1.0000 - val_loss: 2.2570 - val_accuracy: 0.7151\n",
      "saved tf_flowers_models/EfficentNetB0_tf_flowers_model_PolynomialDecay75_KMeansPlusPlus128.h5\n"
     ]
    }
   ],
   "source": [
    "weight_cluster_model(model_path='tf_flowers_models/EfficentNetB0_tf_flowers_model_PolynomialDecay75.h5', \n",
    "                     ds_train=tf_flowers_datasets[0], \n",
    "                     ds_validation=tf_flowers_datasets[1], \n",
    "                     batch_size=BATCH_SIZE, \n",
    "                     epochs=PRUNING_EPOCHS, \n",
    "                     number_of_clusters=32)\n",
    "weight_cluster_model(model_path='tf_flowers_models/EfficentNetB0_tf_flowers_model_PolynomialDecay75.h5', \n",
    "                     ds_train=tf_flowers_datasets[0], \n",
    "                     ds_validation=tf_flowers_datasets[1], \n",
    "                     batch_size=BATCH_SIZE, \n",
    "                     epochs=PRUNING_EPOCHS, \n",
    "                     number_of_clusters=128)"
   ]
  },
  {
   "cell_type": "code",
   "execution_count": 48,
   "metadata": {},
   "outputs": [
    {
     "name": "stdout",
     "output_type": "stream",
     "text": [
      "WARNING:tensorflow:No training configuration found in the save file, so the model was *not* compiled. Compile it manually.\n"
     ]
    },
    {
     "name": "stderr",
     "output_type": "stream",
     "text": [
      "WARNING:tensorflow:No training configuration found in the save file, so the model was *not* compiled. Compile it manually.\n"
     ]
    },
    {
     "name": "stdout",
     "output_type": "stream",
     "text": [
      "Epoch 1/10\n",
      "81/81 [==============================] - 63s 401ms/step - loss: 2.3905 - accuracy: 0.2631 - val_loss: 1.5726 - val_accuracy: 0.2432\n",
      "Epoch 2/10\n",
      "81/81 [==============================] - 41s 381ms/step - loss: 1.6067 - accuracy: 0.2478 - val_loss: 1.6718 - val_accuracy: 0.2668\n",
      "Epoch 3/10\n",
      "81/81 [==============================] - 44s 386ms/step - loss: 1.5157 - accuracy: 0.3296 - val_loss: 1.4042 - val_accuracy: 0.3702\n",
      "Epoch 4/10\n",
      "81/81 [==============================] - 49s 386ms/step - loss: 1.3564 - accuracy: 0.3934 - val_loss: 1.3073 - val_accuracy: 0.4283\n",
      "Epoch 5/10\n",
      "81/81 [==============================] - 47s 395ms/step - loss: 1.3717 - accuracy: 0.3851 - val_loss: 1.2981 - val_accuracy: 0.3938\n",
      "Epoch 6/10\n",
      "81/81 [==============================] - 39s 384ms/step - loss: 1.3034 - accuracy: 0.4304 - val_loss: 1.2957 - val_accuracy: 0.4610\n",
      "Epoch 7/10\n",
      "81/81 [==============================] - 48s 383ms/step - loss: 1.3548 - accuracy: 0.3826 - val_loss: 1.2533 - val_accuracy: 0.4955\n",
      "Epoch 8/10\n",
      "81/81 [==============================] - 45s 384ms/step - loss: 1.2774 - accuracy: 0.4503 - val_loss: 1.3321 - val_accuracy: 0.4446\n",
      "Epoch 9/10\n",
      "81/81 [==============================] - 39s 385ms/step - loss: 1.3141 - accuracy: 0.4289 - val_loss: 1.2505 - val_accuracy: 0.4882\n",
      "Epoch 10/10\n",
      "81/81 [==============================] - 42s 389ms/step - loss: 1.2750 - accuracy: 0.4583 - val_loss: 1.2018 - val_accuracy: 0.5172\n",
      "saved tf_flowers_models/EfficentNetB0_tf_flowers_model_ConstantSparsity90_KMeansPlusPlus32.h5\n",
      "WARNING:tensorflow:No training configuration found in the save file, so the model was *not* compiled. Compile it manually.\n"
     ]
    },
    {
     "name": "stderr",
     "output_type": "stream",
     "text": [
      "WARNING:tensorflow:No training configuration found in the save file, so the model was *not* compiled. Compile it manually.\n"
     ]
    },
    {
     "name": "stdout",
     "output_type": "stream",
     "text": [
      "Epoch 1/10\n",
      "81/81 [==============================] - 56s 404ms/step - loss: 3.4403 - accuracy: 0.2560 - val_loss: 1.6343 - val_accuracy: 0.2668\n",
      "Epoch 2/10\n",
      "81/81 [==============================] - 49s 392ms/step - loss: 1.6339 - accuracy: 0.2359 - val_loss: 1.5990 - val_accuracy: 0.3158\n",
      "Epoch 3/10\n",
      "81/81 [==============================] - 46s 392ms/step - loss: 1.5908 - accuracy: 0.2629 - val_loss: 1.7844 - val_accuracy: 0.2123\n",
      "Epoch 4/10\n",
      "81/81 [==============================] - 48s 393ms/step - loss: 1.5555 - accuracy: 0.2659 - val_loss: 1.5635 - val_accuracy: 0.2287\n",
      "Epoch 5/10\n",
      "81/81 [==============================] - 48s 394ms/step - loss: 1.4941 - accuracy: 0.2987 - val_loss: 1.3922 - val_accuracy: 0.3430\n",
      "Epoch 6/10\n",
      "81/81 [==============================] - 50s 396ms/step - loss: 1.4332 - accuracy: 0.3403 - val_loss: 1.3840 - val_accuracy: 0.3575\n",
      "Epoch 7/10\n",
      "81/81 [==============================] - 37s 388ms/step - loss: 1.4240 - accuracy: 0.3637 - val_loss: 1.3903 - val_accuracy: 0.4211\n",
      "Epoch 8/10\n",
      "81/81 [==============================] - 44s 394ms/step - loss: 1.3794 - accuracy: 0.4137 - val_loss: 1.3339 - val_accuracy: 0.4065\n",
      "Epoch 9/10\n",
      "81/81 [==============================] - 45s 389ms/step - loss: 1.2977 - accuracy: 0.4716 - val_loss: 1.2719 - val_accuracy: 0.4864\n",
      "Epoch 10/10\n",
      "81/81 [==============================] - 43s 388ms/step - loss: 1.3688 - accuracy: 0.4383 - val_loss: 1.2612 - val_accuracy: 0.4755\n",
      "saved tf_flowers_models/EfficentNetB0_tf_flowers_model_ConstantSparsity90_KMeansPlusPlus128.h5\n"
     ]
    }
   ],
   "source": [
    "weight_cluster_model(model_path='tf_flowers_models/EfficentNetB0_tf_flowers_model_ConstantSparsity90.h5', \n",
    "                     ds_train=tf_flowers_datasets[0], \n",
    "                     ds_validation=tf_flowers_datasets[1], \n",
    "                     batch_size=BATCH_SIZE, \n",
    "                     epochs=PRUNING_EPOCHS, \n",
    "                     number_of_clusters=32)\n",
    "weight_cluster_model(model_path='tf_flowers_models/EfficentNetB0_tf_flowers_model_ConstantSparsity90.h5', \n",
    "                     ds_train=tf_flowers_datasets[0], \n",
    "                     ds_validation=tf_flowers_datasets[1], \n",
    "                     batch_size=BATCH_SIZE, \n",
    "                     epochs=PRUNING_EPOCHS, \n",
    "                     number_of_clusters=128)"
   ]
  },
  {
   "cell_type": "code",
   "execution_count": 49,
   "metadata": {},
   "outputs": [
    {
     "name": "stdout",
     "output_type": "stream",
     "text": [
      "WARNING:tensorflow:No training configuration found in the save file, so the model was *not* compiled. Compile it manually.\n"
     ]
    },
    {
     "name": "stderr",
     "output_type": "stream",
     "text": [
      "WARNING:tensorflow:No training configuration found in the save file, so the model was *not* compiled. Compile it manually.\n"
     ]
    },
    {
     "name": "stdout",
     "output_type": "stream",
     "text": [
      "Epoch 1/10\n",
      "81/81 [==============================] - 58s 404ms/step - loss: 0.1535 - accuracy: 0.9489 - val_loss: 1.5108 - val_accuracy: 0.6751\n",
      "Epoch 2/10\n",
      "81/81 [==============================] - 45s 383ms/step - loss: 0.0613 - accuracy: 0.9787 - val_loss: 1.5013 - val_accuracy: 0.6878\n",
      "Epoch 3/10\n",
      "81/81 [==============================] - 44s 382ms/step - loss: 0.0422 - accuracy: 0.9873 - val_loss: 1.4356 - val_accuracy: 0.6751\n",
      "Epoch 4/10\n",
      "81/81 [==============================] - 37s 386ms/step - loss: 0.0328 - accuracy: 0.9897 - val_loss: 1.7570 - val_accuracy: 0.6770\n",
      "Epoch 5/10\n",
      "81/81 [==============================] - 39s 383ms/step - loss: 0.0396 - accuracy: 0.9873 - val_loss: 2.0132 - val_accuracy: 0.6842\n",
      "Epoch 6/10\n",
      "81/81 [==============================] - 44s 380ms/step - loss: 0.0557 - accuracy: 0.9839 - val_loss: 1.6410 - val_accuracy: 0.6788\n",
      "Epoch 7/10\n",
      "81/81 [==============================] - 41s 381ms/step - loss: 0.0119 - accuracy: 0.9976 - val_loss: 1.9109 - val_accuracy: 0.6733\n",
      "Epoch 8/10\n",
      "81/81 [==============================] - 39s 385ms/step - loss: 0.0608 - accuracy: 0.9785 - val_loss: 1.9591 - val_accuracy: 0.6733\n",
      "Epoch 9/10\n",
      "81/81 [==============================] - 42s 382ms/step - loss: 0.0149 - accuracy: 0.9936 - val_loss: 2.0282 - val_accuracy: 0.6933\n",
      "Epoch 10/10\n",
      "81/81 [==============================] - 47s 384ms/step - loss: 0.0225 - accuracy: 0.9953 - val_loss: 1.7106 - val_accuracy: 0.6515\n",
      "saved tf_flowers_models/EfficentNetB0_tf_flowers_model_PolynomialDecay90_KMeansPlusPlus32.h5\n",
      "WARNING:tensorflow:No training configuration found in the save file, so the model was *not* compiled. Compile it manually.\n"
     ]
    },
    {
     "name": "stderr",
     "output_type": "stream",
     "text": [
      "WARNING:tensorflow:No training configuration found in the save file, so the model was *not* compiled. Compile it manually.\n"
     ]
    },
    {
     "name": "stdout",
     "output_type": "stream",
     "text": [
      "Epoch 1/10\n",
      "81/81 [==============================] - 57s 394ms/step - loss: 0.1448 - accuracy: 0.9548 - val_loss: 1.3962 - val_accuracy: 0.6534\n",
      "Epoch 2/10\n",
      "81/81 [==============================] - 46s 381ms/step - loss: 0.0921 - accuracy: 0.9671 - val_loss: 1.6156 - val_accuracy: 0.6770\n",
      "Epoch 3/10\n",
      "81/81 [==============================] - 36s 380ms/step - loss: 0.0402 - accuracy: 0.9845 - val_loss: 1.5294 - val_accuracy: 0.6788\n",
      "Epoch 4/10\n",
      "81/81 [==============================] - 46s 379ms/step - loss: 0.0523 - accuracy: 0.9858 - val_loss: 1.7826 - val_accuracy: 0.6878\n",
      "Epoch 5/10\n",
      "81/81 [==============================] - 48s 376ms/step - loss: 0.0066 - accuracy: 0.9984 - val_loss: 1.7093 - val_accuracy: 0.6788\n",
      "Epoch 6/10\n",
      "81/81 [==============================] - 44s 379ms/step - loss: 0.0223 - accuracy: 0.9938 - val_loss: 1.8165 - val_accuracy: 0.7114\n",
      "Epoch 7/10\n",
      "81/81 [==============================] - 46s 382ms/step - loss: 0.0467 - accuracy: 0.9875 - val_loss: 1.7841 - val_accuracy: 0.7042\n",
      "Epoch 8/10\n",
      "81/81 [==============================] - 43s 376ms/step - loss: 0.1088 - accuracy: 0.9680 - val_loss: 2.0711 - val_accuracy: 0.6897\n",
      "Epoch 9/10\n",
      "81/81 [==============================] - 47s 381ms/step - loss: 0.0460 - accuracy: 0.9877 - val_loss: 1.8672 - val_accuracy: 0.6915\n",
      "Epoch 10/10\n",
      "81/81 [==============================] - 42s 382ms/step - loss: 0.0212 - accuracy: 0.9923 - val_loss: 1.6852 - val_accuracy: 0.6824\n",
      "saved tf_flowers_models/EfficentNetB0_tf_flowers_model_PolynomialDecay90_KMeansPlusPlus128.h5\n"
     ]
    }
   ],
   "source": [
    "weight_cluster_model(model_path='tf_flowers_models/EfficentNetB0_tf_flowers_model_PolynomialDecay90.h5', \n",
    "                     ds_train=tf_flowers_datasets[0], \n",
    "                     ds_validation=tf_flowers_datasets[1], \n",
    "                     batch_size=BATCH_SIZE, \n",
    "                     epochs=PRUNING_EPOCHS, \n",
    "                     number_of_clusters=32)\n",
    "weight_cluster_model(model_path='tf_flowers_models/EfficentNetB0_tf_flowers_model_PolynomialDecay90.h5', \n",
    "                     ds_train=tf_flowers_datasets[0], \n",
    "                     ds_validation=tf_flowers_datasets[1], \n",
    "                     batch_size=BATCH_SIZE, \n",
    "                     epochs=PRUNING_EPOCHS, \n",
    "                     number_of_clusters=128)"
   ]
  },
  {
   "cell_type": "markdown",
   "metadata": {},
   "source": [
    "#### beans models"
   ]
  },
  {
   "cell_type": "code",
   "execution_count": 50,
   "metadata": {},
   "outputs": [
    {
     "name": "stdout",
     "output_type": "stream",
     "text": [
      "WARNING:tensorflow:No training configuration found in the save file, so the model was *not* compiled. Compile it manually.\n"
     ]
    },
    {
     "name": "stderr",
     "output_type": "stream",
     "text": [
      "WARNING:tensorflow:No training configuration found in the save file, so the model was *not* compiled. Compile it manually.\n"
     ]
    },
    {
     "name": "stdout",
     "output_type": "stream",
     "text": [
      "Epoch 1/10\n",
      "33/33 [==============================] - 41s 1s/step - loss: 1.1039 - accuracy: 0.3207 - val_loss: 1.0992 - val_accuracy: 0.3308\n",
      "Epoch 2/10\n",
      "33/33 [==============================] - 35s 982ms/step - loss: 1.0991 - accuracy: 0.3290 - val_loss: 1.0986 - val_accuracy: 0.3308\n",
      "Epoch 3/10\n",
      "33/33 [==============================] - 35s 988ms/step - loss: 1.0986 - accuracy: 0.3376 - val_loss: 1.0986 - val_accuracy: 0.3308\n",
      "Epoch 4/10\n",
      "33/33 [==============================] - 35s 997ms/step - loss: 1.0987 - accuracy: 0.3340 - val_loss: 1.0986 - val_accuracy: 0.3383\n",
      "Epoch 5/10\n",
      "33/33 [==============================] - 35s 986ms/step - loss: 1.0986 - accuracy: 0.3371 - val_loss: 1.0986 - val_accuracy: 0.3383\n",
      "Epoch 6/10\n",
      "33/33 [==============================] - 35s 988ms/step - loss: 1.0985 - accuracy: 0.3591 - val_loss: 1.0986 - val_accuracy: 0.3383\n",
      "Epoch 7/10\n",
      "33/33 [==============================] - 35s 997ms/step - loss: 1.0986 - accuracy: 0.3403 - val_loss: 1.0986 - val_accuracy: 0.3383\n",
      "Epoch 8/10\n",
      "33/33 [==============================] - 35s 985ms/step - loss: 1.0986 - accuracy: 0.3372 - val_loss: 1.0986 - val_accuracy: 0.3383\n",
      "Epoch 9/10\n",
      "33/33 [==============================] - 35s 997ms/step - loss: 1.0986 - accuracy: 0.3514 - val_loss: 1.0986 - val_accuracy: 0.3383\n",
      "Epoch 10/10\n",
      "33/33 [==============================] - 35s 987ms/step - loss: 1.0987 - accuracy: 0.3340 - val_loss: 1.0986 - val_accuracy: 0.3383\n",
      "saved beans_models_optimized/MobileNetV2_beans_model_ConstantSparsity50_KMeansPlusPlus32.h5\n",
      "WARNING:tensorflow:No training configuration found in the save file, so the model was *not* compiled. Compile it manually.\n"
     ]
    },
    {
     "name": "stderr",
     "output_type": "stream",
     "text": [
      "WARNING:tensorflow:No training configuration found in the save file, so the model was *not* compiled. Compile it manually.\n"
     ]
    },
    {
     "name": "stdout",
     "output_type": "stream",
     "text": [
      "Epoch 1/10\n",
      "33/33 [==============================] - 45s 1s/step - loss: 1.1105 - accuracy: 0.3065 - val_loss: 1.0991 - val_accuracy: 0.3308\n",
      "Epoch 2/10\n",
      "33/33 [==============================] - 35s 987ms/step - loss: 1.0982 - accuracy: 0.3481 - val_loss: 1.0986 - val_accuracy: 0.3308\n",
      "Epoch 3/10\n",
      "33/33 [==============================] - 35s 996ms/step - loss: 1.0987 - accuracy: 0.3258 - val_loss: 1.0986 - val_accuracy: 0.3308\n",
      "Epoch 4/10\n",
      "33/33 [==============================] - 35s 985ms/step - loss: 1.0987 - accuracy: 0.3469 - val_loss: 1.0986 - val_accuracy: 0.3308\n",
      "Epoch 5/10\n",
      "33/33 [==============================] - 35s 995ms/step - loss: 1.0986 - accuracy: 0.3394 - val_loss: 1.0986 - val_accuracy: 0.3383\n",
      "Epoch 6/10\n",
      "33/33 [==============================] - 35s 979ms/step - loss: 1.0987 - accuracy: 0.3240 - val_loss: 1.0986 - val_accuracy: 0.3383\n",
      "Epoch 7/10\n",
      "33/33 [==============================] - 35s 996ms/step - loss: 1.0987 - accuracy: 0.3450 - val_loss: 1.0986 - val_accuracy: 0.3383\n",
      "Epoch 8/10\n",
      "33/33 [==============================] - 35s 991ms/step - loss: 1.0987 - accuracy: 0.3308 - val_loss: 1.0986 - val_accuracy: 0.3383\n",
      "Epoch 9/10\n",
      "33/33 [==============================] - 35s 992ms/step - loss: 1.0986 - accuracy: 0.3293 - val_loss: 1.0986 - val_accuracy: 0.3383\n",
      "Epoch 10/10\n",
      "33/33 [==============================] - 35s 980ms/step - loss: 1.0987 - accuracy: 0.3370 - val_loss: 1.0986 - val_accuracy: 0.3383\n",
      "saved beans_models_optimized/MobileNetV2_beans_model_ConstantSparsity50_KMeansPlusPlus128.h5\n"
     ]
    }
   ],
   "source": [
    "weight_cluster_model(model_path='beans_models_optimized/MobileNetV2_beans_model_ConstantSparsity50.h5', \n",
    "                     ds_train=beans_datasets[0], \n",
    "                     ds_validation=beans_datasets[1], \n",
    "                     batch_size=BATCH_SIZE, \n",
    "                     epochs=PRUNING_EPOCHS, \n",
    "                     number_of_clusters=32)\n",
    "weight_cluster_model(model_path='beans_models_optimized/MobileNetV2_beans_model_ConstantSparsity50.h5', \n",
    "                     ds_train=beans_datasets[0], \n",
    "                     ds_validation=beans_datasets[1], \n",
    "                     batch_size=BATCH_SIZE, \n",
    "                     epochs=PRUNING_EPOCHS, \n",
    "                     number_of_clusters=128)"
   ]
  },
  {
   "cell_type": "code",
   "execution_count": 51,
   "metadata": {},
   "outputs": [
    {
     "name": "stdout",
     "output_type": "stream",
     "text": [
      "WARNING:tensorflow:No training configuration found in the save file, so the model was *not* compiled. Compile it manually.\n"
     ]
    },
    {
     "name": "stderr",
     "output_type": "stream",
     "text": [
      "WARNING:tensorflow:No training configuration found in the save file, so the model was *not* compiled. Compile it manually.\n"
     ]
    },
    {
     "name": "stdout",
     "output_type": "stream",
     "text": [
      "Epoch 1/10\n",
      "33/33 [==============================] - 41s 1s/step - loss: 1.1317 - accuracy: 0.3409 - val_loss: 1.1018 - val_accuracy: 0.3308\n",
      "Epoch 2/10\n",
      "33/33 [==============================] - 35s 975ms/step - loss: 1.1028 - accuracy: 0.3138 - val_loss: 1.0991 - val_accuracy: 0.3308\n",
      "Epoch 3/10\n",
      "33/33 [==============================] - 36s 995ms/step - loss: 1.0982 - accuracy: 0.3315 - val_loss: 1.0986 - val_accuracy: 0.3383\n",
      "Epoch 4/10\n",
      "33/33 [==============================] - 35s 984ms/step - loss: 1.0988 - accuracy: 0.3213 - val_loss: 1.0986 - val_accuracy: 0.3383\n",
      "Epoch 5/10\n",
      "33/33 [==============================] - 35s 993ms/step - loss: 1.0982 - accuracy: 0.3662 - val_loss: 1.0986 - val_accuracy: 0.3383\n",
      "Epoch 6/10\n",
      "33/33 [==============================] - 35s 989ms/step - loss: 1.0988 - accuracy: 0.3240 - val_loss: 1.0986 - val_accuracy: 0.3383\n",
      "Epoch 7/10\n",
      "33/33 [==============================] - 35s 978ms/step - loss: 1.0989 - accuracy: 0.3102 - val_loss: 1.0986 - val_accuracy: 0.3383\n",
      "Epoch 8/10\n",
      "33/33 [==============================] - 35s 983ms/step - loss: 1.0985 - accuracy: 0.3444 - val_loss: 1.0986 - val_accuracy: 0.3383\n",
      "Epoch 9/10\n",
      "33/33 [==============================] - 35s 985ms/step - loss: 1.0987 - accuracy: 0.3279 - val_loss: 1.0986 - val_accuracy: 0.3383\n",
      "Epoch 10/10\n",
      "33/33 [==============================] - 35s 979ms/step - loss: 1.0989 - accuracy: 0.3195 - val_loss: 1.0986 - val_accuracy: 0.3383\n",
      "saved beans_models_optimized/MobileNetV2_beans_model_PolynomialDecay50_KMeansPlusPlus32.h5\n",
      "WARNING:tensorflow:No training configuration found in the save file, so the model was *not* compiled. Compile it manually.\n"
     ]
    },
    {
     "name": "stderr",
     "output_type": "stream",
     "text": [
      "WARNING:tensorflow:No training configuration found in the save file, so the model was *not* compiled. Compile it manually.\n"
     ]
    },
    {
     "name": "stdout",
     "output_type": "stream",
     "text": [
      "Epoch 1/10\n",
      "33/33 [==============================] - 40s 1s/step - loss: 1.1587 - accuracy: 0.3231 - val_loss: 1.0986 - val_accuracy: 0.3308\n",
      "Epoch 2/10\n",
      "33/33 [==============================] - 35s 978ms/step - loss: 1.0996 - accuracy: 0.3489 - val_loss: 1.1012 - val_accuracy: 0.3383\n",
      "Epoch 3/10\n",
      "33/33 [==============================] - 35s 982ms/step - loss: 1.1021 - accuracy: 0.3342 - val_loss: 1.0993 - val_accuracy: 0.3308\n",
      "Epoch 4/10\n",
      "33/33 [==============================] - 35s 969ms/step - loss: 1.0990 - accuracy: 0.3355 - val_loss: 1.0994 - val_accuracy: 0.3383\n",
      "Epoch 5/10\n",
      "33/33 [==============================] - 35s 975ms/step - loss: 1.1029 - accuracy: 0.3388 - val_loss: 1.0987 - val_accuracy: 0.3308\n",
      "Epoch 6/10\n",
      "33/33 [==============================] - 35s 976ms/step - loss: 1.1014 - accuracy: 0.2967 - val_loss: 1.0994 - val_accuracy: 0.3308\n",
      "Epoch 7/10\n",
      "33/33 [==============================] - 34s 971ms/step - loss: 1.1017 - accuracy: 0.2912 - val_loss: 1.0991 - val_accuracy: 0.3308\n",
      "Epoch 8/10\n",
      "33/33 [==============================] - 35s 970ms/step - loss: 1.1009 - accuracy: 0.3567 - val_loss: 1.0998 - val_accuracy: 0.3383\n",
      "Epoch 9/10\n",
      "33/33 [==============================] - 35s 988ms/step - loss: 1.0988 - accuracy: 0.3472 - val_loss: 1.0992 - val_accuracy: 0.3308\n",
      "Epoch 10/10\n",
      "33/33 [==============================] - 35s 980ms/step - loss: 1.1002 - accuracy: 0.3140 - val_loss: 1.0987 - val_accuracy: 0.3308\n",
      "saved beans_models_optimized/MobileNetV2_beans_model_PolynomialDecay50_KMeansPlusPlus128.h5\n"
     ]
    }
   ],
   "source": [
    "weight_cluster_model(model_path='beans_models_optimized/MobileNetV2_beans_model_PolynomialDecay50.h5', \n",
    "                     ds_train=beans_datasets[0], \n",
    "                     ds_validation=beans_datasets[1], \n",
    "                     batch_size=BATCH_SIZE, \n",
    "                     epochs=PRUNING_EPOCHS, \n",
    "                     number_of_clusters=32)\n",
    "weight_cluster_model(model_path='beans_models_optimized/MobileNetV2_beans_model_PolynomialDecay50.h5', \n",
    "                     ds_train=beans_datasets[0], \n",
    "                     ds_validation=beans_datasets[1], \n",
    "                     batch_size=BATCH_SIZE, \n",
    "                     epochs=PRUNING_EPOCHS, \n",
    "                     number_of_clusters=128)"
   ]
  },
  {
   "cell_type": "code",
   "execution_count": 52,
   "metadata": {},
   "outputs": [
    {
     "name": "stdout",
     "output_type": "stream",
     "text": [
      "WARNING:tensorflow:No training configuration found in the save file, so the model was *not* compiled. Compile it manually.\n"
     ]
    },
    {
     "name": "stderr",
     "output_type": "stream",
     "text": [
      "WARNING:tensorflow:No training configuration found in the save file, so the model was *not* compiled. Compile it manually.\n"
     ]
    },
    {
     "name": "stdout",
     "output_type": "stream",
     "text": [
      "Epoch 1/10\n",
      "33/33 [==============================] - 42s 1s/step - loss: 1.1224 - accuracy: 0.3349 - val_loss: 1.0987 - val_accuracy: 0.3308\n",
      "Epoch 2/10\n",
      "33/33 [==============================] - 34s 968ms/step - loss: 1.0986 - accuracy: 0.3431 - val_loss: 1.0987 - val_accuracy: 0.3308\n",
      "Epoch 3/10\n",
      "33/33 [==============================] - 35s 977ms/step - loss: 1.0986 - accuracy: 0.3348 - val_loss: 1.0986 - val_accuracy: 0.3308\n",
      "Epoch 4/10\n",
      "33/33 [==============================] - 35s 975ms/step - loss: 1.0987 - accuracy: 0.3064 - val_loss: 1.0986 - val_accuracy: 0.3308\n",
      "Epoch 5/10\n",
      "33/33 [==============================] - 35s 980ms/step - loss: 1.0985 - accuracy: 0.3600 - val_loss: 1.0986 - val_accuracy: 0.3308\n",
      "Epoch 6/10\n",
      "33/33 [==============================] - 35s 981ms/step - loss: 1.0987 - accuracy: 0.3045 - val_loss: 1.0986 - val_accuracy: 0.3383\n",
      "Epoch 7/10\n",
      "33/33 [==============================] - 35s 988ms/step - loss: 1.0986 - accuracy: 0.3176 - val_loss: 1.0986 - val_accuracy: 0.3308\n",
      "Epoch 8/10\n",
      "33/33 [==============================] - 35s 976ms/step - loss: 1.0985 - accuracy: 0.3362 - val_loss: 1.0986 - val_accuracy: 0.3383\n",
      "Epoch 9/10\n",
      "33/33 [==============================] - 35s 973ms/step - loss: 1.0986 - accuracy: 0.3453 - val_loss: 1.0986 - val_accuracy: 0.3308\n",
      "Epoch 10/10\n",
      "33/33 [==============================] - 34s 977ms/step - loss: 1.0986 - accuracy: 0.3424 - val_loss: 1.0986 - val_accuracy: 0.3308\n",
      "saved beans_models_optimized/MobileNetV2_beans_model_ConstantSparsity75_KMeansPlusPlus32.h5\n",
      "WARNING:tensorflow:No training configuration found in the save file, so the model was *not* compiled. Compile it manually.\n"
     ]
    },
    {
     "name": "stderr",
     "output_type": "stream",
     "text": [
      "WARNING:tensorflow:No training configuration found in the save file, so the model was *not* compiled. Compile it manually.\n"
     ]
    },
    {
     "name": "stdout",
     "output_type": "stream",
     "text": [
      "Epoch 1/10\n",
      "33/33 [==============================] - 40s 1s/step - loss: 1.1242 - accuracy: 0.3244 - val_loss: 1.0989 - val_accuracy: 0.3308\n",
      "Epoch 2/10\n",
      "33/33 [==============================] - 35s 990ms/step - loss: 1.0987 - accuracy: 0.3386 - val_loss: 1.0986 - val_accuracy: 0.3308\n",
      "Epoch 3/10\n",
      "33/33 [==============================] - 35s 992ms/step - loss: 1.0987 - accuracy: 0.3115 - val_loss: 1.0986 - val_accuracy: 0.3308\n",
      "Epoch 4/10\n",
      "33/33 [==============================] - 35s 984ms/step - loss: 1.0986 - accuracy: 0.3554 - val_loss: 1.0986 - val_accuracy: 0.3308\n",
      "Epoch 5/10\n",
      "33/33 [==============================] - 35s 990ms/step - loss: 1.0987 - accuracy: 0.3147 - val_loss: 1.0986 - val_accuracy: 0.3308\n",
      "Epoch 6/10\n",
      "33/33 [==============================] - 35s 984ms/step - loss: 1.0987 - accuracy: 0.3213 - val_loss: 1.0986 - val_accuracy: 0.3308\n",
      "Epoch 7/10\n",
      "33/33 [==============================] - 35s 997ms/step - loss: 1.0986 - accuracy: 0.3302 - val_loss: 1.0986 - val_accuracy: 0.3383\n",
      "Epoch 8/10\n",
      "33/33 [==============================] - 35s 988ms/step - loss: 1.0986 - accuracy: 0.3467 - val_loss: 1.0986 - val_accuracy: 0.3383\n",
      "Epoch 9/10\n",
      "33/33 [==============================] - 35s 982ms/step - loss: 1.0988 - accuracy: 0.3236 - val_loss: 1.0986 - val_accuracy: 0.3383\n",
      "Epoch 10/10\n",
      "33/33 [==============================] - 35s 993ms/step - loss: 1.0987 - accuracy: 0.3242 - val_loss: 1.0986 - val_accuracy: 0.3383\n",
      "saved beans_models_optimized/MobileNetV2_beans_model_ConstantSparsity75_KMeansPlusPlus128.h5\n"
     ]
    }
   ],
   "source": [
    "weight_cluster_model(model_path='beans_models_optimized/MobileNetV2_beans_model_ConstantSparsity75.h5', \n",
    "                     ds_train=beans_datasets[0], \n",
    "                     ds_validation=beans_datasets[1], \n",
    "                     batch_size=BATCH_SIZE, \n",
    "                     epochs=PRUNING_EPOCHS, \n",
    "                     number_of_clusters=32)\n",
    "weight_cluster_model(model_path='beans_models_optimized/MobileNetV2_beans_model_ConstantSparsity75.h5', \n",
    "                     ds_train=beans_datasets[0], \n",
    "                     ds_validation=beans_datasets[1], \n",
    "                     batch_size=BATCH_SIZE, \n",
    "                     epochs=PRUNING_EPOCHS, \n",
    "                     number_of_clusters=128)"
   ]
  },
  {
   "cell_type": "code",
   "execution_count": 53,
   "metadata": {},
   "outputs": [
    {
     "name": "stdout",
     "output_type": "stream",
     "text": [
      "WARNING:tensorflow:No training configuration found in the save file, so the model was *not* compiled. Compile it manually.\n"
     ]
    },
    {
     "name": "stderr",
     "output_type": "stream",
     "text": [
      "WARNING:tensorflow:No training configuration found in the save file, so the model was *not* compiled. Compile it manually.\n"
     ]
    },
    {
     "name": "stdout",
     "output_type": "stream",
     "text": [
      "Epoch 1/10\n",
      "33/33 [==============================] - 42s 1s/step - loss: 1.1710 - accuracy: 0.3489 - val_loss: 1.1000 - val_accuracy: 0.3383\n",
      "Epoch 2/10\n",
      "33/33 [==============================] - 35s 992ms/step - loss: 1.1016 - accuracy: 0.3462 - val_loss: 1.0997 - val_accuracy: 0.3308\n",
      "Epoch 3/10\n",
      "33/33 [==============================] - 35s 981ms/step - loss: 1.0995 - accuracy: 0.3368 - val_loss: 1.0991 - val_accuracy: 0.3308\n",
      "Epoch 4/10\n",
      "33/33 [==============================] - 35s 975ms/step - loss: 1.0994 - accuracy: 0.3389 - val_loss: 1.0986 - val_accuracy: 0.3383\n",
      "Epoch 5/10\n",
      "33/33 [==============================] - 35s 983ms/step - loss: 1.0998 - accuracy: 0.3424 - val_loss: 1.0986 - val_accuracy: 0.3308\n",
      "Epoch 6/10\n",
      "33/33 [==============================] - 34s 966ms/step - loss: 1.1009 - accuracy: 0.3063 - val_loss: 1.0987 - val_accuracy: 0.3308\n",
      "Epoch 7/10\n",
      "33/33 [==============================] - 35s 989ms/step - loss: 1.0991 - accuracy: 0.3575 - val_loss: 1.0986 - val_accuracy: 0.3383\n",
      "Epoch 8/10\n",
      "33/33 [==============================] - 35s 973ms/step - loss: 1.1002 - accuracy: 0.2834 - val_loss: 1.0987 - val_accuracy: 0.3383\n",
      "Epoch 9/10\n",
      "33/33 [==============================] - 35s 981ms/step - loss: 1.0973 - accuracy: 0.3660 - val_loss: 1.0990 - val_accuracy: 0.3308\n",
      "Epoch 10/10\n",
      "33/33 [==============================] - 35s 990ms/step - loss: 1.0993 - accuracy: 0.3443 - val_loss: 1.0987 - val_accuracy: 0.3308\n",
      "saved beans_models_optimized/MobileNetV2_beans_model_PolynomialDecay75_KMeansPlusPlus32.h5\n",
      "WARNING:tensorflow:No training configuration found in the save file, so the model was *not* compiled. Compile it manually.\n"
     ]
    },
    {
     "name": "stderr",
     "output_type": "stream",
     "text": [
      "WARNING:tensorflow:No training configuration found in the save file, so the model was *not* compiled. Compile it manually.\n"
     ]
    },
    {
     "name": "stdout",
     "output_type": "stream",
     "text": [
      "Epoch 1/10\n",
      "33/33 [==============================] - 40s 995ms/step - loss: 1.1848 - accuracy: 0.3321 - val_loss: 1.1057 - val_accuracy: 0.3383\n",
      "Epoch 2/10\n",
      "33/33 [==============================] - 35s 981ms/step - loss: 1.1063 - accuracy: 0.3253 - val_loss: 1.0993 - val_accuracy: 0.3308\n",
      "Epoch 3/10\n",
      "33/33 [==============================] - 35s 979ms/step - loss: 1.1010 - accuracy: 0.3336 - val_loss: 1.0999 - val_accuracy: 0.3383\n",
      "Epoch 4/10\n",
      "33/33 [==============================] - 35s 981ms/step - loss: 1.0999 - accuracy: 0.3432 - val_loss: 1.1010 - val_accuracy: 0.3308\n",
      "Epoch 5/10\n",
      "33/33 [==============================] - 35s 984ms/step - loss: 1.1002 - accuracy: 0.3402 - val_loss: 1.0992 - val_accuracy: 0.3308\n",
      "Epoch 6/10\n",
      "33/33 [==============================] - 34s 976ms/step - loss: 1.1013 - accuracy: 0.3114 - val_loss: 1.0993 - val_accuracy: 0.3308\n",
      "Epoch 7/10\n",
      "33/33 [==============================] - 35s 982ms/step - loss: 1.1025 - accuracy: 0.3116 - val_loss: 1.0994 - val_accuracy: 0.3383\n",
      "Epoch 8/10\n",
      "33/33 [==============================] - 35s 973ms/step - loss: 1.1005 - accuracy: 0.3525 - val_loss: 1.0986 - val_accuracy: 0.3383\n",
      "Epoch 9/10\n",
      "33/33 [==============================] - 35s 974ms/step - loss: 1.0990 - accuracy: 0.3386 - val_loss: 1.0988 - val_accuracy: 0.3308\n",
      "Epoch 10/10\n",
      "33/33 [==============================] - 34s 964ms/step - loss: 1.0999 - accuracy: 0.3195 - val_loss: 1.0989 - val_accuracy: 0.3308\n",
      "saved beans_models_optimized/MobileNetV2_beans_model_PolynomialDecay75_KMeansPlusPlus128.h5\n"
     ]
    }
   ],
   "source": [
    "weight_cluster_model(model_path='beans_models_optimized/MobileNetV2_beans_model_PolynomialDecay75.h5', \n",
    "                     ds_train=beans_datasets[0], \n",
    "                     ds_validation=beans_datasets[1], \n",
    "                     batch_size=BATCH_SIZE, \n",
    "                     epochs=PRUNING_EPOCHS, \n",
    "                     number_of_clusters=32)\n",
    "weight_cluster_model(model_path='beans_models_optimized/MobileNetV2_beans_model_PolynomialDecay75.h5', \n",
    "                     ds_train=beans_datasets[0], \n",
    "                     ds_validation=beans_datasets[1], \n",
    "                     batch_size=BATCH_SIZE, \n",
    "                     epochs=PRUNING_EPOCHS, \n",
    "                     number_of_clusters=128)"
   ]
  },
  {
   "cell_type": "code",
   "execution_count": 54,
   "metadata": {},
   "outputs": [
    {
     "name": "stdout",
     "output_type": "stream",
     "text": [
      "WARNING:tensorflow:No training configuration found in the save file, so the model was *not* compiled. Compile it manually.\n"
     ]
    },
    {
     "name": "stderr",
     "output_type": "stream",
     "text": [
      "WARNING:tensorflow:No training configuration found in the save file, so the model was *not* compiled. Compile it manually.\n"
     ]
    },
    {
     "name": "stdout",
     "output_type": "stream",
     "text": [
      "Epoch 1/10\n",
      "33/33 [==============================] - 41s 1s/step - loss: 1.1004 - accuracy: 0.3367 - val_loss: 1.0986 - val_accuracy: 0.3308\n",
      "Epoch 2/10\n",
      "33/33 [==============================] - 35s 989ms/step - loss: 1.0987 - accuracy: 0.3339 - val_loss: 1.0986 - val_accuracy: 0.3308\n",
      "Epoch 3/10\n",
      "33/33 [==============================] - 35s 989ms/step - loss: 1.0988 - accuracy: 0.3203 - val_loss: 1.0986 - val_accuracy: 0.3308\n",
      "Epoch 4/10\n",
      "33/33 [==============================] - 35s 989ms/step - loss: 1.0986 - accuracy: 0.3404 - val_loss: 1.0986 - val_accuracy: 0.3308\n",
      "Epoch 5/10\n",
      "33/33 [==============================] - 35s 984ms/step - loss: 1.0985 - accuracy: 0.3358 - val_loss: 1.0986 - val_accuracy: 0.3383\n",
      "Epoch 6/10\n",
      "33/33 [==============================] - 36s 995ms/step - loss: 1.0986 - accuracy: 0.3262 - val_loss: 1.0986 - val_accuracy: 0.3383\n",
      "Epoch 7/10\n",
      "33/33 [==============================] - 35s 982ms/step - loss: 1.0984 - accuracy: 0.3688 - val_loss: 1.0986 - val_accuracy: 0.3383\n",
      "Epoch 8/10\n",
      "33/33 [==============================] - 35s 985ms/step - loss: 1.0985 - accuracy: 0.3411 - val_loss: 1.0986 - val_accuracy: 0.3383\n",
      "Epoch 9/10\n",
      "33/33 [==============================] - 35s 984ms/step - loss: 1.0986 - accuracy: 0.3305 - val_loss: 1.0986 - val_accuracy: 0.3383\n",
      "Epoch 10/10\n",
      "33/33 [==============================] - 35s 988ms/step - loss: 1.0988 - accuracy: 0.3301 - val_loss: 1.0986 - val_accuracy: 0.3383\n",
      "saved beans_models_optimized/MobileNetV2_beans_model_ConstantSparsity90_KMeansPlusPlus32.h5\n",
      "WARNING:tensorflow:No training configuration found in the save file, so the model was *not* compiled. Compile it manually.\n"
     ]
    },
    {
     "name": "stderr",
     "output_type": "stream",
     "text": [
      "WARNING:tensorflow:No training configuration found in the save file, so the model was *not* compiled. Compile it manually.\n"
     ]
    },
    {
     "name": "stdout",
     "output_type": "stream",
     "text": [
      "Epoch 1/10\n",
      "33/33 [==============================] - 40s 1s/step - loss: 1.1009 - accuracy: 0.3338 - val_loss: 1.0987 - val_accuracy: 0.3308\n",
      "Epoch 2/10\n",
      "33/33 [==============================] - 35s 976ms/step - loss: 1.0990 - accuracy: 0.3247 - val_loss: 1.0987 - val_accuracy: 0.3308\n",
      "Epoch 3/10\n",
      "33/33 [==============================] - 35s 988ms/step - loss: 1.0987 - accuracy: 0.3308 - val_loss: 1.0986 - val_accuracy: 0.3308\n",
      "Epoch 4/10\n",
      "33/33 [==============================] - 35s 981ms/step - loss: 1.0987 - accuracy: 0.3139 - val_loss: 1.0986 - val_accuracy: 0.3383\n",
      "Epoch 5/10\n",
      "33/33 [==============================] - 35s 989ms/step - loss: 1.0987 - accuracy: 0.3383 - val_loss: 1.0986 - val_accuracy: 0.3383\n",
      "Epoch 6/10\n",
      "33/33 [==============================] - 36s 990ms/step - loss: 1.0986 - accuracy: 0.3414 - val_loss: 1.0986 - val_accuracy: 0.3383\n",
      "Epoch 7/10\n",
      "33/33 [==============================] - 35s 979ms/step - loss: 1.0986 - accuracy: 0.3531 - val_loss: 1.0986 - val_accuracy: 0.3383\n",
      "Epoch 8/10\n",
      "33/33 [==============================] - 35s 968ms/step - loss: 1.0989 - accuracy: 0.2980 - val_loss: 1.0986 - val_accuracy: 0.3383\n",
      "Epoch 9/10\n",
      "33/33 [==============================] - 35s 1s/step - loss: 1.0988 - accuracy: 0.3374 - val_loss: 1.0986 - val_accuracy: 0.3383\n",
      "Epoch 10/10\n",
      "33/33 [==============================] - 35s 977ms/step - loss: 1.0987 - accuracy: 0.3276 - val_loss: 1.0986 - val_accuracy: 0.3383\n",
      "saved beans_models_optimized/MobileNetV2_beans_model_ConstantSparsity90_KMeansPlusPlus128.h5\n"
     ]
    }
   ],
   "source": [
    "weight_cluster_model(model_path='beans_models_optimized/MobileNetV2_beans_model_ConstantSparsity90.h5', \n",
    "                     ds_train=beans_datasets[0], \n",
    "                     ds_validation=beans_datasets[1], \n",
    "                     batch_size=BATCH_SIZE, \n",
    "                     epochs=PRUNING_EPOCHS, \n",
    "                     number_of_clusters=32)\n",
    "weight_cluster_model(model_path='beans_models_optimized/MobileNetV2_beans_model_ConstantSparsity90.h5', \n",
    "                     ds_train=beans_datasets[0], \n",
    "                     ds_validation=beans_datasets[1], \n",
    "                     batch_size=BATCH_SIZE, \n",
    "                     epochs=PRUNING_EPOCHS, \n",
    "                     number_of_clusters=128)"
   ]
  },
  {
   "cell_type": "code",
   "execution_count": 55,
   "metadata": {},
   "outputs": [
    {
     "name": "stdout",
     "output_type": "stream",
     "text": [
      "WARNING:tensorflow:No training configuration found in the save file, so the model was *not* compiled. Compile it manually.\n"
     ]
    },
    {
     "name": "stderr",
     "output_type": "stream",
     "text": [
      "WARNING:tensorflow:No training configuration found in the save file, so the model was *not* compiled. Compile it manually.\n"
     ]
    },
    {
     "name": "stdout",
     "output_type": "stream",
     "text": [
      "Epoch 1/10\n",
      "33/33 [==============================] - 44s 1s/step - loss: 1.1228 - accuracy: 0.3317 - val_loss: 1.0987 - val_accuracy: 0.3383\n",
      "Epoch 2/10\n",
      "33/33 [==============================] - 35s 983ms/step - loss: 1.1007 - accuracy: 0.3360 - val_loss: 1.0987 - val_accuracy: 0.3383\n",
      "Epoch 3/10\n",
      "33/33 [==============================] - 35s 982ms/step - loss: 1.1018 - accuracy: 0.2843 - val_loss: 1.0988 - val_accuracy: 0.3308\n",
      "Epoch 4/10\n",
      "33/33 [==============================] - 35s 993ms/step - loss: 1.1002 - accuracy: 0.2802 - val_loss: 1.0986 - val_accuracy: 0.3383\n",
      "Epoch 5/10\n",
      "33/33 [==============================] - 35s 988ms/step - loss: 1.1002 - accuracy: 0.3038 - val_loss: 1.0989 - val_accuracy: 0.3308\n",
      "Epoch 6/10\n",
      "33/33 [==============================] - 35s 986ms/step - loss: 1.0999 - accuracy: 0.3081 - val_loss: 1.0989 - val_accuracy: 0.3308\n",
      "Epoch 7/10\n",
      "33/33 [==============================] - 36s 1s/step - loss: 1.0987 - accuracy: 0.3469 - val_loss: 1.0987 - val_accuracy: 0.3308\n",
      "Epoch 8/10\n",
      "33/33 [==============================] - 34s 969ms/step - loss: 1.0994 - accuracy: 0.3535 - val_loss: 1.0987 - val_accuracy: 0.3383\n",
      "Epoch 9/10\n",
      "33/33 [==============================] - 35s 987ms/step - loss: 1.0989 - accuracy: 0.3298 - val_loss: 1.0986 - val_accuracy: 0.3308\n",
      "Epoch 10/10\n",
      "33/33 [==============================] - 35s 987ms/step - loss: 1.0994 - accuracy: 0.3451 - val_loss: 1.0986 - val_accuracy: 0.3383\n",
      "saved beans_models_optimized/MobileNetV2_beans_model_PolynomialDecay90_KMeansPlusPlus32.h5\n",
      "WARNING:tensorflow:No training configuration found in the save file, so the model was *not* compiled. Compile it manually.\n"
     ]
    },
    {
     "name": "stderr",
     "output_type": "stream",
     "text": [
      "WARNING:tensorflow:No training configuration found in the save file, so the model was *not* compiled. Compile it manually.\n"
     ]
    },
    {
     "name": "stdout",
     "output_type": "stream",
     "text": [
      "Epoch 1/10\n",
      "33/33 [==============================] - 40s 1s/step - loss: 1.1353 - accuracy: 0.3375 - val_loss: 1.0995 - val_accuracy: 0.3308\n",
      "Epoch 2/10\n",
      "33/33 [==============================] - 35s 979ms/step - loss: 1.0989 - accuracy: 0.3408 - val_loss: 1.0990 - val_accuracy: 0.3383\n",
      "Epoch 3/10\n",
      "33/33 [==============================] - 35s 979ms/step - loss: 1.1015 - accuracy: 0.3095 - val_loss: 1.1013 - val_accuracy: 0.3383\n",
      "Epoch 4/10\n",
      "33/33 [==============================] - 35s 980ms/step - loss: 1.1011 - accuracy: 0.3288 - val_loss: 1.0988 - val_accuracy: 0.3308\n",
      "Epoch 5/10\n",
      "33/33 [==============================] - 35s 978ms/step - loss: 1.1025 - accuracy: 0.2987 - val_loss: 1.1003 - val_accuracy: 0.3383\n",
      "Epoch 6/10\n",
      "33/33 [==============================] - 35s 975ms/step - loss: 1.1010 - accuracy: 0.3169 - val_loss: 1.0991 - val_accuracy: 0.3383\n",
      "Epoch 7/10\n",
      "33/33 [==============================] - 35s 994ms/step - loss: 1.0996 - accuracy: 0.3392 - val_loss: 1.0988 - val_accuracy: 0.3308\n",
      "Epoch 8/10\n",
      "33/33 [==============================] - 35s 987ms/step - loss: 1.1000 - accuracy: 0.3400 - val_loss: 1.0988 - val_accuracy: 0.3383\n",
      "Epoch 9/10\n",
      "33/33 [==============================] - 35s 981ms/step - loss: 1.1007 - accuracy: 0.3221 - val_loss: 1.0988 - val_accuracy: 0.3308\n",
      "Epoch 10/10\n",
      "33/33 [==============================] - 35s 974ms/step - loss: 1.0987 - accuracy: 0.3306 - val_loss: 1.0987 - val_accuracy: 0.3308\n",
      "saved beans_models_optimized/MobileNetV2_beans_model_PolynomialDecay90_KMeansPlusPlus128.h5\n"
     ]
    }
   ],
   "source": [
    "weight_cluster_model(model_path='beans_models_optimized/MobileNetV2_beans_model_PolynomialDecay90.h5', \n",
    "                     ds_train=beans_datasets[0], \n",
    "                     ds_validation=beans_datasets[1], \n",
    "                     batch_size=BATCH_SIZE, \n",
    "                     epochs=PRUNING_EPOCHS, \n",
    "                     number_of_clusters=32)\n",
    "weight_cluster_model(model_path='beans_models_optimized/MobileNetV2_beans_model_PolynomialDecay90.h5', \n",
    "                     ds_train=beans_datasets[0], \n",
    "                     ds_validation=beans_datasets[1], \n",
    "                     batch_size=BATCH_SIZE, \n",
    "                     epochs=PRUNING_EPOCHS, \n",
    "                     number_of_clusters=128)"
   ]
  },
  {
   "cell_type": "code",
   "execution_count": 56,
   "metadata": {},
   "outputs": [
    {
     "name": "stdout",
     "output_type": "stream",
     "text": [
      "WARNING:tensorflow:No training configuration found in the save file, so the model was *not* compiled. Compile it manually.\n"
     ]
    },
    {
     "name": "stderr",
     "output_type": "stream",
     "text": [
      "WARNING:tensorflow:No training configuration found in the save file, so the model was *not* compiled. Compile it manually.\n"
     ]
    },
    {
     "name": "stdout",
     "output_type": "stream",
     "text": [
      "Epoch 1/10\n",
      "33/33 [==============================] - 59s 1s/step - loss: 1.8269 - accuracy: 0.3106 - val_loss: 1.1011 - val_accuracy: 0.3383\n",
      "Epoch 2/10\n",
      "33/33 [==============================] - 48s 1s/step - loss: 1.1046 - accuracy: 0.3387 - val_loss: 1.0977 - val_accuracy: 0.3383\n",
      "Epoch 3/10\n",
      "33/33 [==============================] - 48s 1s/step - loss: 1.0988 - accuracy: 0.3462 - val_loss: 1.0989 - val_accuracy: 0.3308\n",
      "Epoch 4/10\n",
      "33/33 [==============================] - 48s 1s/step - loss: 1.0999 - accuracy: 0.3432 - val_loss: 1.0980 - val_accuracy: 0.3308\n",
      "Epoch 5/10\n",
      "33/33 [==============================] - 47s 1s/step - loss: 1.1006 - accuracy: 0.3380 - val_loss: 1.0991 - val_accuracy: 0.3835\n",
      "Epoch 6/10\n",
      "33/33 [==============================] - 47s 1s/step - loss: 1.1013 - accuracy: 0.3213 - val_loss: 1.1080 - val_accuracy: 0.3308\n",
      "Epoch 7/10\n",
      "33/33 [==============================] - 47s 1s/step - loss: 1.1017 - accuracy: 0.3330 - val_loss: 1.0974 - val_accuracy: 0.3308\n",
      "Epoch 8/10\n",
      "33/33 [==============================] - 48s 1s/step - loss: 1.0979 - accuracy: 0.3550 - val_loss: 1.0978 - val_accuracy: 0.4662\n",
      "Epoch 9/10\n",
      "33/33 [==============================] - 47s 1s/step - loss: 1.1041 - accuracy: 0.3504 - val_loss: 1.0968 - val_accuracy: 0.3383\n",
      "Epoch 10/10\n",
      "33/33 [==============================] - 48s 1s/step - loss: 1.0976 - accuracy: 0.3492 - val_loss: 1.0973 - val_accuracy: 0.3684\n",
      "saved beans_models_optimized/EfficentNetB0_beans_model_ConstantSparsity50_KMeansPlusPlus32.h5\n",
      "WARNING:tensorflow:No training configuration found in the save file, so the model was *not* compiled. Compile it manually.\n"
     ]
    },
    {
     "name": "stderr",
     "output_type": "stream",
     "text": [
      "WARNING:tensorflow:No training configuration found in the save file, so the model was *not* compiled. Compile it manually.\n"
     ]
    },
    {
     "name": "stdout",
     "output_type": "stream",
     "text": [
      "Epoch 1/10\n",
      "33/33 [==============================] - 61s 1s/step - loss: 1.9167 - accuracy: 0.3394 - val_loss: 1.1168 - val_accuracy: 0.3308\n",
      "Epoch 2/10\n",
      "33/33 [==============================] - 47s 1s/step - loss: 1.0985 - accuracy: 0.3536 - val_loss: 1.1020 - val_accuracy: 0.3383\n",
      "Epoch 3/10\n",
      "33/33 [==============================] - 47s 1s/step - loss: 1.1024 - accuracy: 0.3281 - val_loss: 1.0985 - val_accuracy: 0.3383\n",
      "Epoch 4/10\n",
      "33/33 [==============================] - 47s 1s/step - loss: 1.1024 - accuracy: 0.3416 - val_loss: 1.0984 - val_accuracy: 0.3308\n",
      "Epoch 5/10\n",
      "33/33 [==============================] - 47s 1s/step - loss: 1.1000 - accuracy: 0.3378 - val_loss: 1.0986 - val_accuracy: 0.3383\n",
      "Epoch 6/10\n",
      "33/33 [==============================] - 46s 1s/step - loss: 1.1010 - accuracy: 0.3309 - val_loss: 1.1010 - val_accuracy: 0.3308\n",
      "Epoch 7/10\n",
      "33/33 [==============================] - 47s 1s/step - loss: 1.1009 - accuracy: 0.3236 - val_loss: 1.1022 - val_accuracy: 0.3383\n",
      "Epoch 8/10\n",
      "33/33 [==============================] - 48s 1s/step - loss: 1.0996 - accuracy: 0.3554 - val_loss: 1.1003 - val_accuracy: 0.3308\n",
      "Epoch 9/10\n",
      "33/33 [==============================] - 47s 1s/step - loss: 1.1040 - accuracy: 0.3096 - val_loss: 1.0998 - val_accuracy: 0.3308\n",
      "Epoch 10/10\n",
      "33/33 [==============================] - 47s 1s/step - loss: 1.1044 - accuracy: 0.2944 - val_loss: 1.0989 - val_accuracy: 0.3308\n",
      "saved beans_models_optimized/EfficentNetB0_beans_model_ConstantSparsity50_KMeansPlusPlus128.h5\n"
     ]
    }
   ],
   "source": [
    "weight_cluster_model(model_path='beans_models_optimized/EfficentNetB0_beans_model_ConstantSparsity50.h5', \n",
    "                     ds_train=beans_datasets[0], \n",
    "                     ds_validation=beans_datasets[1], \n",
    "                     batch_size=BATCH_SIZE, \n",
    "                     epochs=PRUNING_EPOCHS, \n",
    "                     number_of_clusters=32)\n",
    "weight_cluster_model(model_path='beans_models_optimized/EfficentNetB0_beans_model_ConstantSparsity50.h5', \n",
    "                     ds_train=beans_datasets[0], \n",
    "                     ds_validation=beans_datasets[1], \n",
    "                     batch_size=BATCH_SIZE, \n",
    "                     epochs=PRUNING_EPOCHS, \n",
    "                     number_of_clusters=128)"
   ]
  },
  {
   "cell_type": "code",
   "execution_count": 57,
   "metadata": {},
   "outputs": [
    {
     "name": "stdout",
     "output_type": "stream",
     "text": [
      "WARNING:tensorflow:No training configuration found in the save file, so the model was *not* compiled. Compile it manually.\n"
     ]
    },
    {
     "name": "stderr",
     "output_type": "stream",
     "text": [
      "WARNING:tensorflow:No training configuration found in the save file, so the model was *not* compiled. Compile it manually.\n"
     ]
    },
    {
     "name": "stdout",
     "output_type": "stream",
     "text": [
      "Epoch 1/10\n",
      "33/33 [==============================] - 56s 1s/step - loss: 1.7997 - accuracy: 0.3079 - val_loss: 1.1019 - val_accuracy: 0.3308\n",
      "Epoch 2/10\n",
      "33/33 [==============================] - 47s 1s/step - loss: 1.1048 - accuracy: 0.3074 - val_loss: 1.0991 - val_accuracy: 0.3308\n",
      "Epoch 3/10\n",
      "33/33 [==============================] - 46s 1s/step - loss: 1.0981 - accuracy: 0.3554 - val_loss: 1.1009 - val_accuracy: 0.3383\n",
      "Epoch 4/10\n",
      "33/33 [==============================] - 47s 1s/step - loss: 1.1093 - accuracy: 0.3166 - val_loss: 1.1011 - val_accuracy: 0.3383\n",
      "Epoch 5/10\n",
      "33/33 [==============================] - 47s 1s/step - loss: 1.1035 - accuracy: 0.3393 - val_loss: 1.1000 - val_accuracy: 0.3308\n",
      "Epoch 6/10\n",
      "33/33 [==============================] - 46s 1s/step - loss: 1.1029 - accuracy: 0.3064 - val_loss: 1.1013 - val_accuracy: 0.3383\n",
      "Epoch 7/10\n",
      "33/33 [==============================] - 47s 1s/step - loss: 1.1036 - accuracy: 0.3358 - val_loss: 1.0985 - val_accuracy: 0.3308\n",
      "Epoch 8/10\n",
      "33/33 [==============================] - 47s 1s/step - loss: 1.1010 - accuracy: 0.3323 - val_loss: 1.0990 - val_accuracy: 0.3308\n",
      "Epoch 9/10\n",
      "33/33 [==============================] - 46s 1s/step - loss: 1.1006 - accuracy: 0.3218 - val_loss: 1.0995 - val_accuracy: 0.3308\n",
      "Epoch 10/10\n",
      "33/33 [==============================] - 47s 1s/step - loss: 1.1017 - accuracy: 0.3293 - val_loss: 1.1037 - val_accuracy: 0.3308\n",
      "saved beans_models_optimized/EfficentNetB0_beans_model_PolynomialDecay50_KMeansPlusPlus32.h5\n",
      "WARNING:tensorflow:No training configuration found in the save file, so the model was *not* compiled. Compile it manually.\n"
     ]
    },
    {
     "name": "stderr",
     "output_type": "stream",
     "text": [
      "WARNING:tensorflow:No training configuration found in the save file, so the model was *not* compiled. Compile it manually.\n"
     ]
    },
    {
     "name": "stdout",
     "output_type": "stream",
     "text": [
      "Epoch 1/10\n",
      "33/33 [==============================] - 57s 1s/step - loss: 1.7988 - accuracy: 0.3082 - val_loss: 1.1040 - val_accuracy: 0.3308\n",
      "Epoch 2/10\n",
      "33/33 [==============================] - 47s 1s/step - loss: 1.0999 - accuracy: 0.3423 - val_loss: 1.0979 - val_accuracy: 0.3534\n",
      "Epoch 3/10\n",
      "33/33 [==============================] - 47s 1s/step - loss: 1.1106 - accuracy: 0.3386 - val_loss: 1.0991 - val_accuracy: 0.3308\n",
      "Epoch 4/10\n",
      "33/33 [==============================] - 47s 1s/step - loss: 1.1015 - accuracy: 0.3459 - val_loss: 1.1007 - val_accuracy: 0.3383\n",
      "Epoch 5/10\n",
      "33/33 [==============================] - 47s 1s/step - loss: 1.1024 - accuracy: 0.3265 - val_loss: 1.1012 - val_accuracy: 0.3308\n",
      "Epoch 6/10\n",
      "33/33 [==============================] - 47s 1s/step - loss: 1.1037 - accuracy: 0.3450 - val_loss: 1.1005 - val_accuracy: 0.3308\n",
      "Epoch 7/10\n",
      "33/33 [==============================] - 47s 1s/step - loss: 1.1049 - accuracy: 0.3197 - val_loss: 1.0988 - val_accuracy: 0.3383\n",
      "Epoch 8/10\n",
      "33/33 [==============================] - 47s 1s/step - loss: 1.0996 - accuracy: 0.3407 - val_loss: 1.0987 - val_accuracy: 0.3308\n",
      "Epoch 9/10\n",
      "33/33 [==============================] - 47s 1s/step - loss: 1.0988 - accuracy: 0.3514 - val_loss: 1.1035 - val_accuracy: 0.3308\n",
      "Epoch 10/10\n",
      "33/33 [==============================] - 47s 1s/step - loss: 1.1045 - accuracy: 0.3196 - val_loss: 1.1046 - val_accuracy: 0.3308\n",
      "saved beans_models_optimized/EfficentNetB0_beans_model_PolynomialDecay50_KMeansPlusPlus128.h5\n"
     ]
    }
   ],
   "source": [
    "weight_cluster_model(model_path='beans_models_optimized/EfficentNetB0_beans_model_PolynomialDecay50.h5', \n",
    "                     ds_train=beans_datasets[0], \n",
    "                     ds_validation=beans_datasets[1], \n",
    "                     batch_size=BATCH_SIZE, \n",
    "                     epochs=PRUNING_EPOCHS, \n",
    "                     number_of_clusters=32)\n",
    "weight_cluster_model(model_path='beans_models_optimized/EfficentNetB0_beans_model_PolynomialDecay50.h5', \n",
    "                     ds_train=beans_datasets[0], \n",
    "                     ds_validation=beans_datasets[1], \n",
    "                     batch_size=BATCH_SIZE, \n",
    "                     epochs=PRUNING_EPOCHS, \n",
    "                     number_of_clusters=128)"
   ]
  },
  {
   "cell_type": "code",
   "execution_count": 58,
   "metadata": {},
   "outputs": [
    {
     "name": "stdout",
     "output_type": "stream",
     "text": [
      "WARNING:tensorflow:No training configuration found in the save file, so the model was *not* compiled. Compile it manually.\n"
     ]
    },
    {
     "name": "stderr",
     "output_type": "stream",
     "text": [
      "WARNING:tensorflow:No training configuration found in the save file, so the model was *not* compiled. Compile it manually.\n"
     ]
    },
    {
     "name": "stdout",
     "output_type": "stream",
     "text": [
      "Epoch 1/10\n",
      "33/33 [==============================] - 62s 1s/step - loss: 1.2641 - accuracy: 0.3325 - val_loss: 1.0977 - val_accuracy: 0.3383\n",
      "Epoch 2/10\n",
      "33/33 [==============================] - 48s 1s/step - loss: 1.1077 - accuracy: 0.3267 - val_loss: 1.1185 - val_accuracy: 0.3308\n",
      "Epoch 3/10\n",
      "33/33 [==============================] - 48s 1s/step - loss: 1.1135 - accuracy: 0.3194 - val_loss: 1.0985 - val_accuracy: 0.3308\n",
      "Epoch 4/10\n",
      "33/33 [==============================] - 47s 1s/step - loss: 1.1050 - accuracy: 0.3496 - val_loss: 1.0981 - val_accuracy: 0.4662\n",
      "Epoch 5/10\n",
      "33/33 [==============================] - 47s 1s/step - loss: 1.1040 - accuracy: 0.3390 - val_loss: 1.1000 - val_accuracy: 0.3383\n",
      "Epoch 6/10\n",
      "33/33 [==============================] - 47s 1s/step - loss: 1.1036 - accuracy: 0.3474 - val_loss: 1.1019 - val_accuracy: 0.3308\n",
      "Epoch 7/10\n",
      "33/33 [==============================] - 47s 1s/step - loss: 1.1018 - accuracy: 0.3286 - val_loss: 1.0984 - val_accuracy: 0.3308\n",
      "Epoch 8/10\n",
      "33/33 [==============================] - 48s 1s/step - loss: 1.1023 - accuracy: 0.3179 - val_loss: 1.0988 - val_accuracy: 0.3383\n",
      "Epoch 9/10\n",
      "33/33 [==============================] - 47s 1s/step - loss: 1.1001 - accuracy: 0.3333 - val_loss: 1.1014 - val_accuracy: 0.3308\n",
      "Epoch 10/10\n",
      "33/33 [==============================] - 47s 1s/step - loss: 1.1034 - accuracy: 0.3165 - val_loss: 1.0981 - val_accuracy: 0.3308\n",
      "saved beans_models_optimized/EfficentNetB0_beans_model_ConstantSparsity75_KMeansPlusPlus32.h5\n",
      "WARNING:tensorflow:No training configuration found in the save file, so the model was *not* compiled. Compile it manually.\n"
     ]
    },
    {
     "name": "stderr",
     "output_type": "stream",
     "text": [
      "WARNING:tensorflow:No training configuration found in the save file, so the model was *not* compiled. Compile it manually.\n"
     ]
    },
    {
     "name": "stdout",
     "output_type": "stream",
     "text": [
      "Epoch 1/10\n",
      "33/33 [==============================] - 56s 1s/step - loss: 1.2748 - accuracy: 0.3437 - val_loss: 1.0982 - val_accuracy: 0.3233\n",
      "Epoch 2/10\n",
      "33/33 [==============================] - 47s 1s/step - loss: 1.1021 - accuracy: 0.3241 - val_loss: 1.1031 - val_accuracy: 0.3308\n",
      "Epoch 3/10\n",
      "33/33 [==============================] - 46s 1s/step - loss: 1.1050 - accuracy: 0.3148 - val_loss: 1.1025 - val_accuracy: 0.3383\n",
      "Epoch 4/10\n",
      "33/33 [==============================] - 47s 1s/step - loss: 1.1014 - accuracy: 0.3373 - val_loss: 1.1002 - val_accuracy: 0.4887\n",
      "Epoch 5/10\n",
      "33/33 [==============================] - 47s 1s/step - loss: 1.1045 - accuracy: 0.3275 - val_loss: 1.0982 - val_accuracy: 0.3985\n",
      "Epoch 6/10\n",
      "33/33 [==============================] - 47s 1s/step - loss: 1.1018 - accuracy: 0.3302 - val_loss: 1.0981 - val_accuracy: 0.3459\n",
      "Epoch 7/10\n",
      "33/33 [==============================] - 47s 1s/step - loss: 1.1015 - accuracy: 0.3321 - val_loss: 1.1110 - val_accuracy: 0.3383\n",
      "Epoch 8/10\n",
      "33/33 [==============================] - 47s 1s/step - loss: 1.1090 - accuracy: 0.3229 - val_loss: 1.0997 - val_accuracy: 0.3383\n",
      "Epoch 9/10\n",
      "33/33 [==============================] - 47s 1s/step - loss: 1.1017 - accuracy: 0.3299 - val_loss: 1.1018 - val_accuracy: 0.3383\n",
      "Epoch 10/10\n",
      "33/33 [==============================] - 47s 1s/step - loss: 1.1033 - accuracy: 0.3489 - val_loss: 1.1001 - val_accuracy: 0.3308\n",
      "saved beans_models_optimized/EfficentNetB0_beans_model_ConstantSparsity75_KMeansPlusPlus128.h5\n"
     ]
    }
   ],
   "source": [
    "weight_cluster_model(model_path='beans_models_optimized/EfficentNetB0_beans_model_ConstantSparsity75.h5', \n",
    "                     ds_train=beans_datasets[0], \n",
    "                     ds_validation=beans_datasets[1], \n",
    "                     batch_size=BATCH_SIZE, \n",
    "                     epochs=PRUNING_EPOCHS, \n",
    "                     number_of_clusters=32)\n",
    "weight_cluster_model(model_path='beans_models_optimized/EfficentNetB0_beans_model_ConstantSparsity75.h5', \n",
    "                     ds_train=beans_datasets[0], \n",
    "                     ds_validation=beans_datasets[1], \n",
    "                     batch_size=BATCH_SIZE, \n",
    "                     epochs=PRUNING_EPOCHS, \n",
    "                     number_of_clusters=128)"
   ]
  },
  {
   "cell_type": "code",
   "execution_count": 12,
   "metadata": {},
   "outputs": [
    {
     "name": "stdout",
     "output_type": "stream",
     "text": [
      "WARNING:tensorflow:No training configuration found in the save file, so the model was *not* compiled. Compile it manually.\n"
     ]
    },
    {
     "name": "stderr",
     "output_type": "stream",
     "text": [
      "WARNING:tensorflow:No training configuration found in the save file, so the model was *not* compiled. Compile it manually.\n"
     ]
    },
    {
     "name": "stdout",
     "output_type": "stream",
     "text": [
      "Epoch 1/10\n",
      "33/33 [==============================] - 60s 1s/step - loss: 2.5904 - accuracy: 0.2982 - val_loss: 1.1082 - val_accuracy: 0.3308\n",
      "Epoch 2/10\n",
      "33/33 [==============================] - 48s 1s/step - loss: 1.1009 - accuracy: 0.3406 - val_loss: 1.1000 - val_accuracy: 0.3308\n",
      "Epoch 3/10\n",
      "33/33 [==============================] - 47s 1s/step - loss: 1.1006 - accuracy: 0.3014 - val_loss: 1.0988 - val_accuracy: 0.3308\n",
      "Epoch 4/10\n",
      "33/33 [==============================] - 47s 1s/step - loss: 1.0996 - accuracy: 0.3547 - val_loss: 1.1014 - val_accuracy: 0.3308\n",
      "Epoch 5/10\n",
      "33/33 [==============================] - 47s 1s/step - loss: 1.1038 - accuracy: 0.3205 - val_loss: 1.0995 - val_accuracy: 0.3308\n",
      "Epoch 6/10\n",
      "33/33 [==============================] - 47s 1s/step - loss: 1.1029 - accuracy: 0.3095 - val_loss: 1.1020 - val_accuracy: 0.3308\n",
      "Epoch 7/10\n",
      "33/33 [==============================] - 47s 1s/step - loss: 1.0998 - accuracy: 0.3217 - val_loss: 1.1011 - val_accuracy: 0.3383\n",
      "Epoch 8/10\n",
      "33/33 [==============================] - 47s 1s/step - loss: 1.1054 - accuracy: 0.3117 - val_loss: 1.0988 - val_accuracy: 0.3383\n",
      "Epoch 9/10\n",
      "33/33 [==============================] - 47s 1s/step - loss: 1.1007 - accuracy: 0.3308 - val_loss: 1.0984 - val_accuracy: 0.3383\n",
      "Epoch 10/10\n",
      "33/33 [==============================] - 47s 1s/step - loss: 1.0995 - accuracy: 0.3493 - val_loss: 1.0985 - val_accuracy: 0.3308\n",
      "saved beans_models_optimized/EfficentNetB0_beans_model_PolynomialDecay75_KMeansPlusPlus32.h5\n",
      "WARNING:tensorflow:No training configuration found in the save file, so the model was *not* compiled. Compile it manually.\n"
     ]
    },
    {
     "name": "stderr",
     "output_type": "stream",
     "text": [
      "WARNING:tensorflow:No training configuration found in the save file, so the model was *not* compiled. Compile it manually.\n"
     ]
    },
    {
     "name": "stdout",
     "output_type": "stream",
     "text": [
      "Epoch 1/10\n",
      "33/33 [==============================] - 57s 1s/step - loss: 2.7391 - accuracy: 0.3164 - val_loss: 1.1092 - val_accuracy: 0.3308\n",
      "Epoch 2/10\n",
      "33/33 [==============================] - 47s 1s/step - loss: 1.1040 - accuracy: 0.3272 - val_loss: 1.0997 - val_accuracy: 0.3308\n",
      "Epoch 3/10\n",
      "33/33 [==============================] - 47s 1s/step - loss: 1.1011 - accuracy: 0.3318 - val_loss: 1.0983 - val_accuracy: 0.3383\n",
      "Epoch 4/10\n",
      "33/33 [==============================] - 47s 1s/step - loss: 1.1015 - accuracy: 0.3331 - val_loss: 1.0983 - val_accuracy: 0.3383\n",
      "Epoch 5/10\n",
      "33/33 [==============================] - 47s 1s/step - loss: 1.1001 - accuracy: 0.3057 - val_loss: 1.0988 - val_accuracy: 0.3308\n",
      "Epoch 6/10\n",
      "33/33 [==============================] - 47s 1s/step - loss: 1.0990 - accuracy: 0.3780 - val_loss: 1.1061 - val_accuracy: 0.3383\n",
      "Epoch 7/10\n",
      "33/33 [==============================] - 47s 1s/step - loss: 1.1071 - accuracy: 0.3168 - val_loss: 1.1012 - val_accuracy: 0.3383\n",
      "Epoch 8/10\n",
      "33/33 [==============================] - 47s 1s/step - loss: 1.1041 - accuracy: 0.3379 - val_loss: 1.0985 - val_accuracy: 0.3308\n",
      "Epoch 9/10\n",
      "33/33 [==============================] - 47s 1s/step - loss: 1.1008 - accuracy: 0.3360 - val_loss: 1.1003 - val_accuracy: 0.3308\n",
      "Epoch 10/10\n",
      "33/33 [==============================] - 47s 1s/step - loss: 1.1015 - accuracy: 0.3536 - val_loss: 1.0987 - val_accuracy: 0.3308\n",
      "saved beans_models_optimized/EfficentNetB0_beans_model_PolynomialDecay75_KMeansPlusPlus128.h5\n"
     ]
    }
   ],
   "source": [
    "weight_cluster_model(model_path='beans_models_optimized/EfficentNetB0_beans_model_PolynomialDecay75.h5', \n",
    "                     ds_train=beans_datasets[0], \n",
    "                     ds_validation=beans_datasets[1], \n",
    "                     batch_size=BATCH_SIZE, \n",
    "                     epochs=PRUNING_EPOCHS, \n",
    "                     number_of_clusters=32)\n",
    "weight_cluster_model(model_path='beans_models_optimized/EfficentNetB0_beans_model_PolynomialDecay75.h5', \n",
    "                     ds_train=beans_datasets[0], \n",
    "                     ds_validation=beans_datasets[1], \n",
    "                     batch_size=BATCH_SIZE, \n",
    "                     epochs=PRUNING_EPOCHS, \n",
    "                     number_of_clusters=128)"
   ]
  },
  {
   "cell_type": "code",
   "execution_count": 13,
   "metadata": {},
   "outputs": [
    {
     "name": "stdout",
     "output_type": "stream",
     "text": [
      "WARNING:tensorflow:No training configuration found in the save file, so the model was *not* compiled. Compile it manually.\n"
     ]
    },
    {
     "name": "stderr",
     "output_type": "stream",
     "text": [
      "WARNING:tensorflow:No training configuration found in the save file, so the model was *not* compiled. Compile it manually.\n"
     ]
    },
    {
     "name": "stdout",
     "output_type": "stream",
     "text": [
      "Epoch 1/10\n",
      "33/33 [==============================] - 57s 1s/step - loss: 1.3615 - accuracy: 0.3428 - val_loss: 1.0997 - val_accuracy: 0.3308\n",
      "Epoch 2/10\n",
      "33/33 [==============================] - 47s 1s/step - loss: 1.1013 - accuracy: 0.3244 - val_loss: 1.0986 - val_accuracy: 0.3383\n",
      "Epoch 3/10\n",
      "33/33 [==============================] - 48s 1s/step - loss: 1.0989 - accuracy: 0.3402 - val_loss: 1.0986 - val_accuracy: 0.3383\n",
      "Epoch 4/10\n",
      "33/33 [==============================] - 47s 1s/step - loss: 1.0987 - accuracy: 0.3317 - val_loss: 1.0986 - val_accuracy: 0.3383\n",
      "Epoch 5/10\n",
      "33/33 [==============================] - 47s 1s/step - loss: 1.0994 - accuracy: 0.3246 - val_loss: 1.0986 - val_accuracy: 0.3383\n",
      "Epoch 6/10\n",
      "33/33 [==============================] - 47s 1s/step - loss: 1.0986 - accuracy: 0.3356 - val_loss: 1.0986 - val_accuracy: 0.3383\n",
      "Epoch 7/10\n",
      "33/33 [==============================] - 47s 1s/step - loss: 1.0985 - accuracy: 0.3495 - val_loss: 1.0986 - val_accuracy: 0.3383\n",
      "Epoch 8/10\n",
      "33/33 [==============================] - 47s 1s/step - loss: 1.0987 - accuracy: 0.3431 - val_loss: 1.0986 - val_accuracy: 0.3383\n",
      "Epoch 9/10\n",
      "33/33 [==============================] - 47s 1s/step - loss: 1.0986 - accuracy: 0.3394 - val_loss: 1.0986 - val_accuracy: 0.3383\n",
      "Epoch 10/10\n",
      "33/33 [==============================] - 47s 1s/step - loss: 1.0983 - accuracy: 0.3496 - val_loss: 1.0986 - val_accuracy: 0.3383\n",
      "saved beans_models_optimized/EfficentNetB0_beans_model_ConstantSparsity90_KMeansPlusPlus32.h5\n",
      "WARNING:tensorflow:No training configuration found in the save file, so the model was *not* compiled. Compile it manually.\n"
     ]
    },
    {
     "name": "stderr",
     "output_type": "stream",
     "text": [
      "WARNING:tensorflow:No training configuration found in the save file, so the model was *not* compiled. Compile it manually.\n"
     ]
    },
    {
     "name": "stdout",
     "output_type": "stream",
     "text": [
      "Epoch 1/10\n",
      "33/33 [==============================] - 57s 1s/step - loss: 1.6190 - accuracy: 0.3401 - val_loss: 1.0986 - val_accuracy: 0.3383\n",
      "Epoch 2/10\n",
      "33/33 [==============================] - 47s 1s/step - loss: 1.1025 - accuracy: 0.3318 - val_loss: 1.1047 - val_accuracy: 0.3308\n",
      "Epoch 3/10\n",
      "33/33 [==============================] - 47s 1s/step - loss: 1.1054 - accuracy: 0.3249 - val_loss: 1.1036 - val_accuracy: 0.3383\n",
      "Epoch 4/10\n",
      "33/33 [==============================] - 47s 1s/step - loss: 1.1040 - accuracy: 0.3652 - val_loss: 1.1098 - val_accuracy: 0.3308\n",
      "Epoch 5/10\n",
      "33/33 [==============================] - 47s 1s/step - loss: 1.1097 - accuracy: 0.2958 - val_loss: 1.1026 - val_accuracy: 0.3308\n",
      "Epoch 6/10\n",
      "33/33 [==============================] - 47s 1s/step - loss: 1.1034 - accuracy: 0.3229 - val_loss: 1.1020 - val_accuracy: 0.3308\n",
      "Epoch 7/10\n",
      "33/33 [==============================] - 47s 1s/step - loss: 1.1053 - accuracy: 0.3164 - val_loss: 1.0994 - val_accuracy: 0.3308\n",
      "Epoch 8/10\n",
      "33/33 [==============================] - 47s 1s/step - loss: 1.1005 - accuracy: 0.3412 - val_loss: 1.1017 - val_accuracy: 0.3308\n",
      "Epoch 9/10\n",
      "33/33 [==============================] - 47s 1s/step - loss: 1.1043 - accuracy: 0.3278 - val_loss: 1.0994 - val_accuracy: 0.3383\n",
      "Epoch 10/10\n",
      "33/33 [==============================] - 47s 1s/step - loss: 1.1020 - accuracy: 0.3214 - val_loss: 1.0999 - val_accuracy: 0.3383\n",
      "saved beans_models_optimized/EfficentNetB0_beans_model_ConstantSparsity90_KMeansPlusPlus128.h5\n"
     ]
    }
   ],
   "source": [
    "weight_cluster_model(model_path='beans_models_optimized/EfficentNetB0_beans_model_ConstantSparsity90.h5', \n",
    "                     ds_train=beans_datasets[0], \n",
    "                     ds_validation=beans_datasets[1], \n",
    "                     batch_size=BATCH_SIZE, \n",
    "                     epochs=PRUNING_EPOCHS, \n",
    "                     number_of_clusters=32)\n",
    "weight_cluster_model(model_path='beans_models_optimized/EfficentNetB0_beans_model_ConstantSparsity90.h5', \n",
    "                     ds_train=beans_datasets[0], \n",
    "                     ds_validation=beans_datasets[1], \n",
    "                     batch_size=BATCH_SIZE, \n",
    "                     epochs=PRUNING_EPOCHS, \n",
    "                     number_of_clusters=128)"
   ]
  },
  {
   "cell_type": "code",
   "execution_count": 14,
   "metadata": {},
   "outputs": [
    {
     "name": "stdout",
     "output_type": "stream",
     "text": [
      "WARNING:tensorflow:No training configuration found in the save file, so the model was *not* compiled. Compile it manually.\n"
     ]
    },
    {
     "name": "stderr",
     "output_type": "stream",
     "text": [
      "WARNING:tensorflow:No training configuration found in the save file, so the model was *not* compiled. Compile it manually.\n"
     ]
    },
    {
     "name": "stdout",
     "output_type": "stream",
     "text": [
      "Epoch 1/10\n",
      "33/33 [==============================] - 57s 1s/step - loss: 1.2484 - accuracy: 0.3550 - val_loss: 1.0953 - val_accuracy: 0.3308\n",
      "Epoch 2/10\n",
      "33/33 [==============================] - 47s 1s/step - loss: 1.0996 - accuracy: 0.3213 - val_loss: 1.1072 - val_accuracy: 0.3308\n",
      "Epoch 3/10\n",
      "33/33 [==============================] - 47s 1s/step - loss: 1.0974 - accuracy: 0.3552 - val_loss: 1.0914 - val_accuracy: 0.3308\n",
      "Epoch 4/10\n",
      "33/33 [==============================] - 47s 1s/step - loss: 1.0909 - accuracy: 0.3628 - val_loss: 1.0793 - val_accuracy: 0.3383\n",
      "Epoch 5/10\n",
      "33/33 [==============================] - 47s 1s/step - loss: 1.0805 - accuracy: 0.3886 - val_loss: 1.0847 - val_accuracy: 0.3759\n",
      "Epoch 6/10\n",
      "33/33 [==============================] - 47s 1s/step - loss: 1.0923 - accuracy: 0.3869 - val_loss: 1.0863 - val_accuracy: 0.3609\n",
      "Epoch 7/10\n",
      "33/33 [==============================] - 47s 1s/step - loss: 1.0765 - accuracy: 0.4173 - val_loss: 1.0817 - val_accuracy: 0.3835\n",
      "Epoch 8/10\n",
      "33/33 [==============================] - 47s 1s/step - loss: 1.0582 - accuracy: 0.4350 - val_loss: 1.0840 - val_accuracy: 0.3609\n",
      "Epoch 9/10\n",
      "33/33 [==============================] - 48s 1s/step - loss: 1.0630 - accuracy: 0.4245 - val_loss: 1.0628 - val_accuracy: 0.4662\n",
      "Epoch 10/10\n",
      "33/33 [==============================] - 47s 1s/step - loss: 1.0282 - accuracy: 0.4698 - val_loss: 0.9508 - val_accuracy: 0.5414\n",
      "saved beans_models_optimized/EfficentNetB0_beans_model_PolynomialDecay90_KMeansPlusPlus32.h5\n",
      "WARNING:tensorflow:No training configuration found in the save file, so the model was *not* compiled. Compile it manually.\n"
     ]
    },
    {
     "name": "stderr",
     "output_type": "stream",
     "text": [
      "WARNING:tensorflow:No training configuration found in the save file, so the model was *not* compiled. Compile it manually.\n"
     ]
    },
    {
     "name": "stdout",
     "output_type": "stream",
     "text": [
      "Epoch 1/10\n",
      "33/33 [==============================] - 57s 1s/step - loss: 1.3820 - accuracy: 0.3295 - val_loss: 1.0999 - val_accuracy: 0.3383\n",
      "Epoch 2/10\n",
      "33/33 [==============================] - 47s 1s/step - loss: 1.1035 - accuracy: 0.3168 - val_loss: 1.0958 - val_accuracy: 0.3534\n",
      "Epoch 3/10\n",
      "33/33 [==============================] - 47s 1s/step - loss: 1.1006 - accuracy: 0.3344 - val_loss: 1.0970 - val_accuracy: 0.3308\n",
      "Epoch 4/10\n",
      "33/33 [==============================] - 47s 1s/step - loss: 1.1015 - accuracy: 0.3018 - val_loss: 1.0952 - val_accuracy: 0.3383\n",
      "Epoch 5/10\n",
      "33/33 [==============================] - 47s 1s/step - loss: 1.1050 - accuracy: 0.3128 - val_loss: 1.0939 - val_accuracy: 0.3308\n",
      "Epoch 6/10\n",
      "33/33 [==============================] - 47s 1s/step - loss: 1.0953 - accuracy: 0.3480 - val_loss: 1.0923 - val_accuracy: 0.3308\n",
      "Epoch 7/10\n",
      "33/33 [==============================] - 47s 1s/step - loss: 1.0954 - accuracy: 0.3664 - val_loss: 1.0635 - val_accuracy: 0.3835\n",
      "Epoch 8/10\n",
      "33/33 [==============================] - 46s 1s/step - loss: 1.0671 - accuracy: 0.4386 - val_loss: 1.0979 - val_accuracy: 0.3383\n",
      "Epoch 9/10\n",
      "33/33 [==============================] - 47s 1s/step - loss: 1.0749 - accuracy: 0.3971 - val_loss: 1.0120 - val_accuracy: 0.5113\n",
      "Epoch 10/10\n",
      "33/33 [==============================] - 47s 1s/step - loss: 1.0042 - accuracy: 0.4787 - val_loss: 0.9727 - val_accuracy: 0.4586\n",
      "saved beans_models_optimized/EfficentNetB0_beans_model_PolynomialDecay90_KMeansPlusPlus128.h5\n"
     ]
    }
   ],
   "source": [
    "weight_cluster_model(model_path='beans_models_optimized/EfficentNetB0_beans_model_PolynomialDecay90.h5', \n",
    "                     ds_train=beans_datasets[0], \n",
    "                     ds_validation=beans_datasets[1], \n",
    "                     batch_size=BATCH_SIZE, \n",
    "                     epochs=PRUNING_EPOCHS, \n",
    "                     number_of_clusters=32)\n",
    "weight_cluster_model(model_path='beans_models_optimized/EfficentNetB0_beans_model_PolynomialDecay90.h5', \n",
    "                     ds_train=beans_datasets[0], \n",
    "                     ds_validation=beans_datasets[1], \n",
    "                     batch_size=BATCH_SIZE, \n",
    "                     epochs=PRUNING_EPOCHS, \n",
    "                     number_of_clusters=128)"
   ]
  },
  {
   "cell_type": "markdown",
   "metadata": {},
   "source": [
    "## Quantization of all models"
   ]
  },
  {
   "cell_type": "code",
   "execution_count": 15,
   "metadata": {},
   "outputs": [],
   "source": [
    "model_paths = []\n",
    "import os\n",
    "for file in os.listdir(\"beans_models/\"):\n",
    "    if file.endswith(\".h5\"):\n",
    "        model_paths.append(str(os.path.join(\"beans_models/\", file)))\n",
    "for file in os.listdir(\"beans_models_optimized/\"):\n",
    "    if file.endswith(\".h5\"):\n",
    "        model_paths.append(str(os.path.join(\"beans_models_optimized/\", file)))\n",
    "for file in os.listdir(\"tf_flowers_models/\"):\n",
    "    if file.endswith(\".h5\"):\n",
    "        model_paths.append(str(os.path.join(\"tf_flowers_models/\", file)))\n",
    "for file in os.listdir(\"tf_flowers_models_optimized/\"):\n",
    "    if file.endswith(\".h5\"):\n",
    "        model_paths.append(str(os.path.join(\"tf_flowers_models_optimized/\", file)))\n",
    "for file in os.listdir(\"flowers_models/\"):\n",
    "    if file.endswith(\".h5\"):\n",
    "        model_paths.append(str(os.path.join(\"flowers_models/\", file)))\n",
    "for file in os.listdir(\"flowers_models_optimized/\"):\n",
    "    if file.endswith(\".h5\"):\n",
    "        model_paths.append(str(os.path.join(\"flowers_models_optimized/\", file)))"
   ]
  },
  {
   "cell_type": "code",
   "execution_count": 16,
   "metadata": {},
   "outputs": [
    {
     "data": {
      "text/plain": [
       "['beans_models/EfficentNetB0_beans_model.h5',\n",
       " 'beans_models/MobileNetV2_beans_model.h5',\n",
       " 'beans_models_optimized/EfficentNetB0_beans_model_PolynomialDecay75.h5',\n",
       " 'beans_models_optimized/MobileNetV2_beans_model_ConstantSparsity50_KMeansPlusPlus32.h5',\n",
       " 'beans_models_optimized/MobileNetV2_beans_model_ConstantSparsity90_KMeansPlusPlus32.h5',\n",
       " 'beans_models_optimized/MobileNetV2_beans_model_ConstantSparsity50_KMeansPlusPlus128.h5',\n",
       " 'beans_models_optimized/EfficentNetB0_beans_model_PolynomialDecay90_KMeansPlusPlus128.h5',\n",
       " 'beans_models_optimized/EfficentNetB0_beans_model_ConstantSparsity75.h5',\n",
       " 'beans_models_optimized/MobileNetV2_beans_model_ConstantSparsity90_KMeansPlusPlus128.h5',\n",
       " 'beans_models_optimized/MobileNetV2_beans_model_ConstantSparsity75.h5',\n",
       " 'beans_models_optimized/EfficentNetB0_beans_model_PolynomialDecay90.h5',\n",
       " 'beans_models_optimized/EfficentNetB0_beans_model_ConstantSparsity75_KMeansPlusPlus32.h5',\n",
       " 'beans_models_optimized/EfficentNetB0_beans_model_PolynomialDecay75_KMeansPlusPlus128.h5',\n",
       " 'beans_models_optimized/EfficentNetB0_beans_model_ConstantSparsity50.h5',\n",
       " 'beans_models_optimized/MobileNetV2_beans_model_PolynomialDecay75_KMeansPlusPlus32.h5',\n",
       " 'beans_models_optimized/EfficentNetB0_beans_model_ConstantSparsity90_KMeansPlusPlus32.h5',\n",
       " 'beans_models_optimized/MobileNetV2_beans_model_PolynomialDecay90.h5',\n",
       " 'beans_models_optimized/MobileNetV2_beans_model_PolynomialDecay50_KMeansPlusPlus128.h5',\n",
       " 'beans_models_optimized/EfficentNetB0_beans_model_PolynomialDecay50_KMeansPlusPlus128.h5',\n",
       " 'beans_models_optimized/MobileNetV2_beans_model_ConstantSparsity75_KMeansPlusPlus32.h5',\n",
       " 'beans_models_optimized/MobileNetV2_beans_model_PolynomialDecay50_KMeansPlusPlus32.h5',\n",
       " 'beans_models_optimized/MobileNetV2_beans_model_ConstantSparsity90.h5',\n",
       " 'beans_models_optimized/EfficentNetB0_beans_model_ConstantSparsity50_KMeansPlusPlus128.h5',\n",
       " 'beans_models_optimized/EfficentNetB0_beans_model_ConstantSparsity75_KMeansPlusPlus128.h5',\n",
       " 'beans_models_optimized/EfficentNetB0_beans_model_KMeansPlusPlus128.h5',\n",
       " 'beans_models_optimized/MobileNetV2_beans_model_PolynomialDecay75_KMeansPlusPlus128.h5',\n",
       " 'beans_models_optimized/EfficentNetB0_beans_model_PolynomialDecay90_KMeansPlusPlus32.h5',\n",
       " 'beans_models_optimized/MobileNetV2_beans_model_PolynomialDecay50.h5',\n",
       " 'beans_models_optimized/MobileNetV2_beans_model_PolynomialDecay75.h5',\n",
       " 'beans_models_optimized/MobileNetV2_beans_model_PolynomialDecay90_KMeansPlusPlus32.h5',\n",
       " 'beans_models_optimized/MobileNetV2_beans_model_KMeansPlusPlus128.h5',\n",
       " 'beans_models_optimized/EfficentNetB0_beans_model_PolynomialDecay75_KMeansPlusPlus32.h5',\n",
       " 'beans_models_optimized/EfficentNetB0_beans_model_PolynomialDecay50.h5',\n",
       " 'beans_models_optimized/EfficentNetB0_beans_model_ConstantSparsity90.h5',\n",
       " 'beans_models_optimized/EfficentNetB0_beans_model_ConstantSparsity50_KMeansPlusPlus32.h5',\n",
       " 'beans_models_optimized/EfficentNetB0_beans_model_PolynomialDecay50_KMeansPlusPlus32.h5',\n",
       " 'beans_models_optimized/EfficentNetB0_beans_model_ConstantSparsity90_KMeansPlusPlus128.h5',\n",
       " 'beans_models_optimized/MobileNetV2_beans_model_KMeansPlusPlus32.h5',\n",
       " 'beans_models_optimized/MobileNetV2_beans_model_ConstantSparsity75_KMeansPlusPlus128.h5',\n",
       " 'beans_models_optimized/EfficentNetB0_beans_model_KMeansPlusPlus32.h5',\n",
       " 'beans_models_optimized/MobileNetV2_beans_model_PolynomialDecay90_KMeansPlusPlus128.h5',\n",
       " 'beans_models_optimized/MobileNetV2_beans_model_ConstantSparsity50.h5',\n",
       " 'tf_flowers_models/EfficentNetB0_tf_flowers_model.h5',\n",
       " 'tf_flowers_models/MobileNetV2_tf_flowers_model_ConstantSparsity90.h5',\n",
       " 'tf_flowers_models/EfficentNetB0_tf_flowers_model_PolynomialDecay75_KMeansPlusPlus128.h5',\n",
       " 'tf_flowers_models/EfficentNetB0_tf_flowers_model_PolynomialDecay50_KMeansPlusPlus128.h5',\n",
       " 'tf_flowers_models/MobileNetV2_tf_flowers_model_ConstantSparsity75_KMeansPlusPlus32.h5',\n",
       " 'tf_flowers_models/EfficentNetB0_tf_flowers_model_ConstantSparsity90.h5',\n",
       " 'tf_flowers_models/EfficentNetB0_tf_flowers_model_ConstantSparsity50_KMeansPlusPlus128.h5',\n",
       " 'tf_flowers_models/MobileNetV2_tf_flowers_model_ConstantSparsity75.h5',\n",
       " 'tf_flowers_models/EfficentNetB0_tf_flowers_model_ConstantSparsity90_KMeansPlusPlus128.h5',\n",
       " 'tf_flowers_models/MobileNetV2_tf_flowers_model_KMeansPlusPlus128.h5',\n",
       " 'tf_flowers_models/MobileNetV2_tf_flowers_model.h5',\n",
       " 'tf_flowers_models/EfficentNetB0_tf_flowers_model_KMeansPlusPlus128.h5',\n",
       " 'tf_flowers_models/MobileNetV2_tf_flowers_model_ConstantSparsity75_KMeansPlusPlus128.h5',\n",
       " 'tf_flowers_models/MobileNetV2_tf_flowers_model_PolynomialDecay75_KMeansPlusPlus128.h5',\n",
       " 'tf_flowers_models/EfficentNetB0_tf_flowers_model_PolynomialDecay90.h5',\n",
       " 'tf_flowers_models/EfficentNetB0_tf_flowers_model_ConstantSparsity50.h5',\n",
       " 'tf_flowers_models/MobileNetV2_tf_flowers_model_ConstantSparsity50_KMeansPlusPlus128.h5',\n",
       " 'tf_flowers_models/MobileNetV2_tf_flowers_model_PolynomialDecay75.h5',\n",
       " 'tf_flowers_models/MobileNetV2_tf_flowers_model_ConstantSparsity50.h5',\n",
       " 'tf_flowers_models/EfficentNetB0_tf_flowers_model_ConstantSparsity50_KMeansPlusPlus32.h5',\n",
       " 'tf_flowers_models/MobileNetV2_tf_flowers_model_PolynomialDecay90_KMeansPlusPlus32.h5',\n",
       " 'tf_flowers_models/MobileNetV2_tf_flowers_model_PolynomialDecay50_KMeansPlusPlus32.h5',\n",
       " 'tf_flowers_models/EfficentNetB0_tf_flowers_model_ConstantSparsity75_KMeansPlusPlus32.h5',\n",
       " 'tf_flowers_models/EfficentNetB0_tf_flowers_model_PolynomialDecay90_KMeansPlusPlus128.h5',\n",
       " 'tf_flowers_models/MobileNetV2_tf_flowers_model_PolynomialDecay50.h5',\n",
       " 'tf_flowers_models/MobileNetV2_tf_flowers_model_ConstantSparsity50_KMeansPlusPlus32.h5',\n",
       " 'tf_flowers_models/EfficentNetB0_tf_flowers_model_PolynomialDecay75.h5',\n",
       " 'tf_flowers_models/EfficentNetB0_tf_flowers_model_ConstantSparsity75.h5',\n",
       " 'tf_flowers_models/MobileNetV2_tf_flowers_model_KMeansPlusPlus32.h5',\n",
       " 'tf_flowers_models/MobileNetV2_tf_flowers_model_ConstantSparsity90_KMeansPlusPlus128.h5',\n",
       " 'tf_flowers_models/MobileNetV2_tf_flowers_model_PolynomialDecay75_KMeansPlusPlus32.h5',\n",
       " 'tf_flowers_models/MobileNetV2_tf_flowers_model_PolynomialDecay90.h5',\n",
       " 'tf_flowers_models/EfficentNetB0_tf_flowers_model_PolynomialDecay50_KMeansPlusPlus32.h5',\n",
       " 'tf_flowers_models/MobileNetV2_tf_flowers_model_PolynomialDecay50_KMeansPlusPlus128.h5',\n",
       " 'tf_flowers_models/EfficentNetB0_tf_flowers_model_ConstantSparsity90_KMeansPlusPlus32.h5',\n",
       " 'tf_flowers_models/EfficentNetB0_tf_flowers_model_KMeansPlusPlus32.h5',\n",
       " 'tf_flowers_models/EfficentNetB0_tf_flowers_model_PolynomialDecay75_KMeansPlusPlus32.h5',\n",
       " 'tf_flowers_models/EfficentNetB0_tf_flowers_model_PolynomialDecay50.h5',\n",
       " 'tf_flowers_models/EfficentNetB0_tf_flowers_model_ConstantSparsity75_KMeansPlusPlus128.h5',\n",
       " 'tf_flowers_models/MobileNetV2_tf_flowers_model_ConstantSparsity90_KMeansPlusPlus32.h5',\n",
       " 'tf_flowers_models/EfficentNetB0_tf_flowers_model_PolynomialDecay90_KMeansPlusPlus32.h5',\n",
       " 'tf_flowers_models/MobileNetV2_tf_flowers_model_PolynomialDecay90_KMeansPlusPlus128.h5',\n",
       " 'flowers_models/EfficentNetB0_flowers_model.h5',\n",
       " 'flowers_models/MobileNetV2_flowers_model.h5',\n",
       " 'flowers_models_optimized/MobileNetV2_flowers_model_PolynomialDecay90_KMeansPlusPlus128.h5',\n",
       " 'flowers_models_optimized/EfficentNetB0_flowers_model_PolynomialDecay50_KMeansPlusPlus128.h5',\n",
       " 'flowers_models_optimized/EfficentNetB0_flowers_model_PolynomialDecay90_KMeansPlusPlus128.h5',\n",
       " 'flowers_models_optimized/MobileNetV2_flowers_model_ConstantSparsity50.h5',\n",
       " 'flowers_models_optimized/EfficentNetB0_flowers_model_ConstantSparsity50_KMeansPlusPlus32.h5',\n",
       " 'flowers_models_optimized/MobileNetV2_flowers_model_PolynomialDecay90_KMeansPlusPlus32.h5',\n",
       " 'flowers_models_optimized/EfficentNetB0_flowers_model_ConstantSparsity75.h5',\n",
       " 'flowers_models_optimized/EfficentNetB0_flowers_model_PolynomialDecay50_KMeansPlusPlus32.h5',\n",
       " 'flowers_models_optimized/EfficentNetB0_flowers_model_PolynomialDecay90.h5',\n",
       " 'flowers_models_optimized/EfficentNetB0_flowers_model_PolynomialDecay90_KMeansPlusPlus32.h5',\n",
       " 'flowers_models_optimized/MobileNetV2_flowers_model_PolynomialDecay75_KMeansPlusPlus128.h5',\n",
       " 'flowers_models_optimized/EfficentNetB0_flowers_model_ConstantSparsity50.h5',\n",
       " 'flowers_models_optimized/MobileNetV2_flowers_model_ConstantSparsity75_KMeansPlusPlus32.h5',\n",
       " 'flowers_models_optimized/MobileNetV2_flowers_model_ConstantSparsity75_KMeansPlusPlus128.h5',\n",
       " 'flowers_models_optimized/MobileNetV2_flowers_model_KMeansPlusPlus128.h5',\n",
       " 'flowers_models_optimized/MobileNetV2_flowers_model_KMeansPlusPlus32.h5',\n",
       " 'flowers_models_optimized/EfficentNetB0_flowers_model_ConstantSparsity90_KMeansPlusPlus32.h5',\n",
       " 'flowers_models_optimized/MobileNetV2_flowers_model_ConstantSparsity90.h5',\n",
       " 'flowers_models_optimized/MobileNetV2_flowers_model_ConstantSparsity75.h5',\n",
       " 'flowers_models_optimized/MobileNetV2_flowers_model_ConstantSparsity50_KMeansPlusPlus128.h5',\n",
       " 'flowers_models_optimized/EfficentNetB0_flowers_model_ConstantSparsity90.h5',\n",
       " 'flowers_models_optimized/MobileNetV2_flowers_model_ConstantSparsity50_KMeansPlusPlus32.h5',\n",
       " 'flowers_models_optimized/MobileNetV2_flowers_model_ConstantSparsity90_KMeansPlusPlus32.h5',\n",
       " 'flowers_models_optimized/MobileNetV2_flowers_model_PolynomialDecay75.h5',\n",
       " 'flowers_models_optimized/MobileNetV2_flowers_model_PolynomialDecay50.h5',\n",
       " 'flowers_models_optimized/MobileNetV2_flowers_model_PolynomialDecay50_KMeansPlusPlus128.h5',\n",
       " 'flowers_models_optimized/EfficentNetB0_flowers_model_PolynomialDecay75.h5',\n",
       " 'flowers_models_optimized/EfficentNetB0_flowers_model_ConstantSparsity50_KMeansPlusPlus128.h5',\n",
       " 'flowers_models_optimized/EfficentNetB0_flowers_model_KMeansPlusPlus32.h5',\n",
       " 'flowers_models_optimized/MobileNetV2_flowers_model_PolynomialDecay75_KMeansPlusPlus32.h5',\n",
       " 'flowers_models_optimized/EfficentNetB0_flowers_model_PolynomialDecay75_KMeansPlusPlus32.h5',\n",
       " 'flowers_models_optimized/EfficentNetB0_flowers_model_PolynomialDecay50.h5',\n",
       " 'flowers_models_optimized/EfficentNetB0_flowers_model_KMeansPlusPlus128.h5',\n",
       " 'flowers_models_optimized/EfficentNetB0_flowers_model_ConstantSparsity90_KMeansPlusPlus128.h5',\n",
       " 'flowers_models_optimized/EfficentNetB0_flowers_model_ConstantSparsity75_KMeansPlusPlus32.h5',\n",
       " 'flowers_models_optimized/EfficentNetB0_flowers_model_ConstantSparsity75_KMeansPlusPlus128.h5',\n",
       " 'flowers_models_optimized/EfficentNetB0_flowers_model_PolynomialDecay75_KMeansPlusPlus128.h5',\n",
       " 'flowers_models_optimized/MobileNetV2_flowers_model_PolynomialDecay90.h5',\n",
       " 'flowers_models_optimized/MobileNetV2_flowers_model_PolynomialDecay50_KMeansPlusPlus32.h5',\n",
       " 'flowers_models_optimized/MobileNetV2_flowers_model_ConstantSparsity90_KMeansPlusPlus128.h5']"
      ]
     },
     "execution_count": 16,
     "metadata": {},
     "output_type": "execute_result"
    }
   ],
   "source": [
    "model_paths"
   ]
  },
  {
   "cell_type": "code",
   "execution_count": 17,
   "metadata": {
    "scrolled": true
   },
   "outputs": [
    {
     "name": "stdout",
     "output_type": "stream",
     "text": [
      "INFO:tensorflow:Assets written to: /tmp/tmpvfj0vvcw/assets\n"
     ]
    },
    {
     "name": "stderr",
     "output_type": "stream",
     "text": [
      "INFO:tensorflow:Assets written to: /tmp/tmpvfj0vvcw/assets\n"
     ]
    },
    {
     "name": "stdout",
     "output_type": "stream",
     "text": [
      "Converted TFLite model (16044956 Bytes) saved to: beans_models_optimized/EfficentNetB0_beans_model.tflite\n",
      "INFO:tensorflow:Assets written to: /tmp/tmpv7tkgqao/assets\n"
     ]
    },
    {
     "name": "stderr",
     "output_type": "stream",
     "text": [
      "INFO:tensorflow:Assets written to: /tmp/tmpv7tkgqao/assets\n"
     ]
    },
    {
     "name": "stdout",
     "output_type": "stream",
     "text": [
      "Dynamic range quantizatized TFLite model (4789504 Bytes) saved to: beans_models_optimized/EfficentNetB0_beans_model_dynamic_rage_quantization.tflite\n",
      "INFO:tensorflow:Assets written to: /tmp/tmp8lomock6/assets\n"
     ]
    },
    {
     "name": "stderr",
     "output_type": "stream",
     "text": [
      "INFO:tensorflow:Assets written to: /tmp/tmp8lomock6/assets\n"
     ]
    },
    {
     "name": "stdout",
     "output_type": "stream",
     "text": [
      "Full integer quantizatized TFLite model (5160800 Bytes) saved to: beans_models_optimized/EfficentNetB0_beans_model_full_integer_quantization.tflite\n",
      "INFO:tensorflow:Assets written to: /tmp/tmpoz65m3w1/assets\n"
     ]
    },
    {
     "name": "stderr",
     "output_type": "stream",
     "text": [
      "INFO:tensorflow:Assets written to: /tmp/tmpoz65m3w1/assets\n"
     ]
    },
    {
     "name": "stdout",
     "output_type": "stream",
     "text": [
      "ERROR: Failed Full integer quantizatized with integer io TFLite model\n",
      "INFO:tensorflow:Assets written to: /tmp/tmpog2z1nck/assets\n"
     ]
    },
    {
     "name": "stderr",
     "output_type": "stream",
     "text": [
      "INFO:tensorflow:Assets written to: /tmp/tmpog2z1nck/assets\n"
     ]
    },
    {
     "name": "stdout",
     "output_type": "stream",
     "text": [
      "float16 quantizatized TFLite model (8096720 Bytes) saved to: beans_models_optimized/EfficentNetB0_beans_model_float16_quantization.tflite\n",
      "INFO:tensorflow:Assets written to: /tmp/tmpzy2cb9uf/assets\n"
     ]
    },
    {
     "name": "stderr",
     "output_type": "stream",
     "text": [
      "INFO:tensorflow:Assets written to: /tmp/tmpzy2cb9uf/assets\n"
     ]
    },
    {
     "name": "stdout",
     "output_type": "stream",
     "text": [
      "Converted TFLite model (8873924 Bytes) saved to: beans_models_optimized/MobileNetV2_beans_model.tflite\n",
      "INFO:tensorflow:Assets written to: /tmp/tmp5i1x6qh_/assets\n"
     ]
    },
    {
     "name": "stderr",
     "output_type": "stream",
     "text": [
      "INFO:tensorflow:Assets written to: /tmp/tmp5i1x6qh_/assets\n"
     ]
    },
    {
     "name": "stdout",
     "output_type": "stream",
     "text": [
      "Dynamic range quantizatized TFLite model (2641872 Bytes) saved to: beans_models_optimized/MobileNetV2_beans_model_dynamic_rage_quantization.tflite\n",
      "INFO:tensorflow:Assets written to: /tmp/tmpdnvn85tw/assets\n"
     ]
    },
    {
     "name": "stderr",
     "output_type": "stream",
     "text": [
      "INFO:tensorflow:Assets written to: /tmp/tmpdnvn85tw/assets\n"
     ]
    },
    {
     "name": "stdout",
     "output_type": "stream",
     "text": [
      "Full integer quantizatized TFLite model (2848144 Bytes) saved to: beans_models_optimized/MobileNetV2_beans_model_full_integer_quantization.tflite\n",
      "INFO:tensorflow:Assets written to: /tmp/tmpgvz1tsx0/assets\n"
     ]
    },
    {
     "name": "stderr",
     "output_type": "stream",
     "text": [
      "INFO:tensorflow:Assets written to: /tmp/tmpgvz1tsx0/assets\n"
     ]
    },
    {
     "name": "stdout",
     "output_type": "stream",
     "text": [
      "Full integer quantizatized with integer io TFLite model (2846896 Bytes) saved to: beans_models_optimized/MobileNetV2_beans_model_full_integer_quantization_integer_io.tflite\n",
      "INFO:tensorflow:Assets written to: /tmp/tmpz9g2lwnj/assets\n"
     ]
    },
    {
     "name": "stderr",
     "output_type": "stream",
     "text": [
      "INFO:tensorflow:Assets written to: /tmp/tmpz9g2lwnj/assets\n"
     ]
    },
    {
     "name": "stdout",
     "output_type": "stream",
     "text": [
      "float16 quantizatized TFLite model (4469136 Bytes) saved to: beans_models_optimized/MobileNetV2_beans_model_float16_quantization.tflite\n",
      "WARNING:tensorflow:No training configuration found in the save file, so the model was *not* compiled. Compile it manually.\n"
     ]
    },
    {
     "name": "stderr",
     "output_type": "stream",
     "text": [
      "WARNING:tensorflow:No training configuration found in the save file, so the model was *not* compiled. Compile it manually.\n"
     ]
    },
    {
     "name": "stdout",
     "output_type": "stream",
     "text": [
      "INFO:tensorflow:Assets written to: /tmp/tmppe54_2bd/assets\n"
     ]
    },
    {
     "name": "stderr",
     "output_type": "stream",
     "text": [
      "INFO:tensorflow:Assets written to: /tmp/tmppe54_2bd/assets\n"
     ]
    },
    {
     "name": "stdout",
     "output_type": "stream",
     "text": [
      "Converted TFLite model (16044956 Bytes) saved to: beans_models_optimized/EfficentNetB0_beans_model_PolynomialDecay75.tflite\n",
      "INFO:tensorflow:Assets written to: /tmp/tmp4coippsh/assets\n"
     ]
    },
    {
     "name": "stderr",
     "output_type": "stream",
     "text": [
      "INFO:tensorflow:Assets written to: /tmp/tmp4coippsh/assets\n"
     ]
    },
    {
     "name": "stdout",
     "output_type": "stream",
     "text": [
      "Dynamic range quantizatized TFLite model (4789504 Bytes) saved to: beans_models_optimized/EfficentNetB0_beans_model_PolynomialDecay75_dynamic_rage_quantization.tflite\n",
      "INFO:tensorflow:Assets written to: /tmp/tmpvuwsfcj5/assets\n"
     ]
    },
    {
     "name": "stderr",
     "output_type": "stream",
     "text": [
      "INFO:tensorflow:Assets written to: /tmp/tmpvuwsfcj5/assets\n"
     ]
    },
    {
     "name": "stdout",
     "output_type": "stream",
     "text": [
      "Full integer quantizatized TFLite model (5160800 Bytes) saved to: beans_models_optimized/EfficentNetB0_beans_model_PolynomialDecay75_full_integer_quantization.tflite\n",
      "INFO:tensorflow:Assets written to: /tmp/tmp0hd5du3s/assets\n"
     ]
    },
    {
     "name": "stderr",
     "output_type": "stream",
     "text": [
      "INFO:tensorflow:Assets written to: /tmp/tmp0hd5du3s/assets\n"
     ]
    },
    {
     "name": "stdout",
     "output_type": "stream",
     "text": [
      "ERROR: Failed Full integer quantizatized with integer io TFLite model\n",
      "INFO:tensorflow:Assets written to: /tmp/tmp6gg1_xkx/assets\n"
     ]
    },
    {
     "name": "stderr",
     "output_type": "stream",
     "text": [
      "INFO:tensorflow:Assets written to: /tmp/tmp6gg1_xkx/assets\n"
     ]
    },
    {
     "name": "stdout",
     "output_type": "stream",
     "text": [
      "float16 quantizatized TFLite model (8096720 Bytes) saved to: beans_models_optimized/EfficentNetB0_beans_model_PolynomialDecay75_float16_quantization.tflite\n",
      "WARNING:tensorflow:No training configuration found in the save file, so the model was *not* compiled. Compile it manually.\n"
     ]
    },
    {
     "name": "stderr",
     "output_type": "stream",
     "text": [
      "WARNING:tensorflow:No training configuration found in the save file, so the model was *not* compiled. Compile it manually.\n"
     ]
    },
    {
     "name": "stdout",
     "output_type": "stream",
     "text": [
      "INFO:tensorflow:Assets written to: /tmp/tmpmk31jq8w/assets\n"
     ]
    },
    {
     "name": "stderr",
     "output_type": "stream",
     "text": [
      "INFO:tensorflow:Assets written to: /tmp/tmpmk31jq8w/assets\n"
     ]
    },
    {
     "name": "stdout",
     "output_type": "stream",
     "text": [
      "Converted TFLite model (8873924 Bytes) saved to: beans_models_optimized/MobileNetV2_beans_model_ConstantSparsity50_KMeansPlusPlus32.tflite\n",
      "INFO:tensorflow:Assets written to: /tmp/tmp1vpafl4_/assets\n"
     ]
    },
    {
     "name": "stderr",
     "output_type": "stream",
     "text": [
      "INFO:tensorflow:Assets written to: /tmp/tmp1vpafl4_/assets\n"
     ]
    },
    {
     "name": "stdout",
     "output_type": "stream",
     "text": [
      "Dynamic range quantizatized TFLite model (2641872 Bytes) saved to: beans_models_optimized/MobileNetV2_beans_model_ConstantSparsity50_KMeansPlusPlus32_dynamic_rage_quantization.tflite\n",
      "INFO:tensorflow:Assets written to: /tmp/tmplkhxtli6/assets\n"
     ]
    },
    {
     "name": "stderr",
     "output_type": "stream",
     "text": [
      "INFO:tensorflow:Assets written to: /tmp/tmplkhxtli6/assets\n"
     ]
    },
    {
     "name": "stdout",
     "output_type": "stream",
     "text": [
      "Full integer quantizatized TFLite model (2848144 Bytes) saved to: beans_models_optimized/MobileNetV2_beans_model_ConstantSparsity50_KMeansPlusPlus32_full_integer_quantization.tflite\n",
      "INFO:tensorflow:Assets written to: /tmp/tmp39aoqirx/assets\n"
     ]
    },
    {
     "name": "stderr",
     "output_type": "stream",
     "text": [
      "INFO:tensorflow:Assets written to: /tmp/tmp39aoqirx/assets\n"
     ]
    },
    {
     "name": "stdout",
     "output_type": "stream",
     "text": [
      "Full integer quantizatized with integer io TFLite model (2846896 Bytes) saved to: beans_models_optimized/MobileNetV2_beans_model_ConstantSparsity50_KMeansPlusPlus32_full_integer_quantization_integer_io.tflite\n",
      "INFO:tensorflow:Assets written to: /tmp/tmpiw2g8u6r/assets\n"
     ]
    },
    {
     "name": "stderr",
     "output_type": "stream",
     "text": [
      "INFO:tensorflow:Assets written to: /tmp/tmpiw2g8u6r/assets\n"
     ]
    },
    {
     "name": "stdout",
     "output_type": "stream",
     "text": [
      "float16 quantizatized TFLite model (4469136 Bytes) saved to: beans_models_optimized/MobileNetV2_beans_model_ConstantSparsity50_KMeansPlusPlus32_float16_quantization.tflite\n",
      "WARNING:tensorflow:No training configuration found in the save file, so the model was *not* compiled. Compile it manually.\n"
     ]
    },
    {
     "name": "stderr",
     "output_type": "stream",
     "text": [
      "WARNING:tensorflow:No training configuration found in the save file, so the model was *not* compiled. Compile it manually.\n"
     ]
    },
    {
     "name": "stdout",
     "output_type": "stream",
     "text": [
      "INFO:tensorflow:Assets written to: /tmp/tmpnlap9bir/assets\n"
     ]
    },
    {
     "name": "stderr",
     "output_type": "stream",
     "text": [
      "INFO:tensorflow:Assets written to: /tmp/tmpnlap9bir/assets\n"
     ]
    },
    {
     "name": "stdout",
     "output_type": "stream",
     "text": [
      "Converted TFLite model (8873924 Bytes) saved to: beans_models_optimized/MobileNetV2_beans_model_ConstantSparsity90_KMeansPlusPlus32.tflite\n",
      "INFO:tensorflow:Assets written to: /tmp/tmpq6x7z2rj/assets\n"
     ]
    },
    {
     "name": "stderr",
     "output_type": "stream",
     "text": [
      "INFO:tensorflow:Assets written to: /tmp/tmpq6x7z2rj/assets\n"
     ]
    },
    {
     "name": "stdout",
     "output_type": "stream",
     "text": [
      "Dynamic range quantizatized TFLite model (2641872 Bytes) saved to: beans_models_optimized/MobileNetV2_beans_model_ConstantSparsity90_KMeansPlusPlus32_dynamic_rage_quantization.tflite\n",
      "INFO:tensorflow:Assets written to: /tmp/tmpwdrl23l4/assets\n"
     ]
    },
    {
     "name": "stderr",
     "output_type": "stream",
     "text": [
      "INFO:tensorflow:Assets written to: /tmp/tmpwdrl23l4/assets\n"
     ]
    },
    {
     "name": "stdout",
     "output_type": "stream",
     "text": [
      "Full integer quantizatized TFLite model (2848144 Bytes) saved to: beans_models_optimized/MobileNetV2_beans_model_ConstantSparsity90_KMeansPlusPlus32_full_integer_quantization.tflite\n",
      "INFO:tensorflow:Assets written to: /tmp/tmps3di8wdb/assets\n"
     ]
    },
    {
     "name": "stderr",
     "output_type": "stream",
     "text": [
      "INFO:tensorflow:Assets written to: /tmp/tmps3di8wdb/assets\n"
     ]
    },
    {
     "name": "stdout",
     "output_type": "stream",
     "text": [
      "Full integer quantizatized with integer io TFLite model (2846896 Bytes) saved to: beans_models_optimized/MobileNetV2_beans_model_ConstantSparsity90_KMeansPlusPlus32_full_integer_quantization_integer_io.tflite\n",
      "INFO:tensorflow:Assets written to: /tmp/tmpq85ofo8l/assets\n"
     ]
    },
    {
     "name": "stderr",
     "output_type": "stream",
     "text": [
      "INFO:tensorflow:Assets written to: /tmp/tmpq85ofo8l/assets\n"
     ]
    },
    {
     "name": "stdout",
     "output_type": "stream",
     "text": [
      "float16 quantizatized TFLite model (4469136 Bytes) saved to: beans_models_optimized/MobileNetV2_beans_model_ConstantSparsity90_KMeansPlusPlus32_float16_quantization.tflite\n",
      "WARNING:tensorflow:No training configuration found in the save file, so the model was *not* compiled. Compile it manually.\n"
     ]
    },
    {
     "name": "stderr",
     "output_type": "stream",
     "text": [
      "WARNING:tensorflow:No training configuration found in the save file, so the model was *not* compiled. Compile it manually.\n"
     ]
    },
    {
     "name": "stdout",
     "output_type": "stream",
     "text": [
      "INFO:tensorflow:Assets written to: /tmp/tmpknaap694/assets\n"
     ]
    },
    {
     "name": "stderr",
     "output_type": "stream",
     "text": [
      "INFO:tensorflow:Assets written to: /tmp/tmpknaap694/assets\n"
     ]
    },
    {
     "name": "stdout",
     "output_type": "stream",
     "text": [
      "Converted TFLite model (8873924 Bytes) saved to: beans_models_optimized/MobileNetV2_beans_model_ConstantSparsity50_KMeansPlusPlus128.tflite\n",
      "INFO:tensorflow:Assets written to: /tmp/tmpexlep5d6/assets\n"
     ]
    },
    {
     "name": "stderr",
     "output_type": "stream",
     "text": [
      "INFO:tensorflow:Assets written to: /tmp/tmpexlep5d6/assets\n"
     ]
    },
    {
     "name": "stdout",
     "output_type": "stream",
     "text": [
      "Dynamic range quantizatized TFLite model (2641872 Bytes) saved to: beans_models_optimized/MobileNetV2_beans_model_ConstantSparsity50_KMeansPlusPlus128_dynamic_rage_quantization.tflite\n",
      "INFO:tensorflow:Assets written to: /tmp/tmpvks4x_la/assets\n"
     ]
    },
    {
     "name": "stderr",
     "output_type": "stream",
     "text": [
      "INFO:tensorflow:Assets written to: /tmp/tmpvks4x_la/assets\n"
     ]
    },
    {
     "name": "stdout",
     "output_type": "stream",
     "text": [
      "Full integer quantizatized TFLite model (2848144 Bytes) saved to: beans_models_optimized/MobileNetV2_beans_model_ConstantSparsity50_KMeansPlusPlus128_full_integer_quantization.tflite\n",
      "INFO:tensorflow:Assets written to: /tmp/tmpm0j7ldnp/assets\n"
     ]
    },
    {
     "name": "stderr",
     "output_type": "stream",
     "text": [
      "INFO:tensorflow:Assets written to: /tmp/tmpm0j7ldnp/assets\n"
     ]
    },
    {
     "name": "stdout",
     "output_type": "stream",
     "text": [
      "Full integer quantizatized with integer io TFLite model (2846896 Bytes) saved to: beans_models_optimized/MobileNetV2_beans_model_ConstantSparsity50_KMeansPlusPlus128_full_integer_quantization_integer_io.tflite\n",
      "INFO:tensorflow:Assets written to: /tmp/tmpndaczaym/assets\n"
     ]
    },
    {
     "name": "stderr",
     "output_type": "stream",
     "text": [
      "INFO:tensorflow:Assets written to: /tmp/tmpndaczaym/assets\n"
     ]
    },
    {
     "name": "stdout",
     "output_type": "stream",
     "text": [
      "float16 quantizatized TFLite model (4469136 Bytes) saved to: beans_models_optimized/MobileNetV2_beans_model_ConstantSparsity50_KMeansPlusPlus128_float16_quantization.tflite\n",
      "WARNING:tensorflow:No training configuration found in the save file, so the model was *not* compiled. Compile it manually.\n"
     ]
    },
    {
     "name": "stderr",
     "output_type": "stream",
     "text": [
      "WARNING:tensorflow:No training configuration found in the save file, so the model was *not* compiled. Compile it manually.\n"
     ]
    },
    {
     "name": "stdout",
     "output_type": "stream",
     "text": [
      "INFO:tensorflow:Assets written to: /tmp/tmpv_78ybk9/assets\n"
     ]
    },
    {
     "name": "stderr",
     "output_type": "stream",
     "text": [
      "INFO:tensorflow:Assets written to: /tmp/tmpv_78ybk9/assets\n"
     ]
    },
    {
     "name": "stdout",
     "output_type": "stream",
     "text": [
      "Converted TFLite model (16044956 Bytes) saved to: beans_models_optimized/EfficentNetB0_beans_model_PolynomialDecay90_KMeansPlusPlus128.tflite\n",
      "INFO:tensorflow:Assets written to: /tmp/tmpbkd0yjc5/assets\n"
     ]
    },
    {
     "name": "stderr",
     "output_type": "stream",
     "text": [
      "INFO:tensorflow:Assets written to: /tmp/tmpbkd0yjc5/assets\n"
     ]
    },
    {
     "name": "stdout",
     "output_type": "stream",
     "text": [
      "Dynamic range quantizatized TFLite model (4789504 Bytes) saved to: beans_models_optimized/EfficentNetB0_beans_model_PolynomialDecay90_KMeansPlusPlus128_dynamic_rage_quantization.tflite\n",
      "INFO:tensorflow:Assets written to: /tmp/tmp5nc0op6f/assets\n"
     ]
    },
    {
     "name": "stderr",
     "output_type": "stream",
     "text": [
      "INFO:tensorflow:Assets written to: /tmp/tmp5nc0op6f/assets\n"
     ]
    },
    {
     "name": "stdout",
     "output_type": "stream",
     "text": [
      "Full integer quantizatized TFLite model (5160800 Bytes) saved to: beans_models_optimized/EfficentNetB0_beans_model_PolynomialDecay90_KMeansPlusPlus128_full_integer_quantization.tflite\n",
      "INFO:tensorflow:Assets written to: /tmp/tmpn2ysy9_i/assets\n"
     ]
    },
    {
     "name": "stderr",
     "output_type": "stream",
     "text": [
      "INFO:tensorflow:Assets written to: /tmp/tmpn2ysy9_i/assets\n"
     ]
    },
    {
     "name": "stdout",
     "output_type": "stream",
     "text": [
      "ERROR: Failed Full integer quantizatized with integer io TFLite model\n",
      "INFO:tensorflow:Assets written to: /tmp/tmplq2w5dmd/assets\n"
     ]
    },
    {
     "name": "stderr",
     "output_type": "stream",
     "text": [
      "INFO:tensorflow:Assets written to: /tmp/tmplq2w5dmd/assets\n"
     ]
    },
    {
     "name": "stdout",
     "output_type": "stream",
     "text": [
      "float16 quantizatized TFLite model (8096720 Bytes) saved to: beans_models_optimized/EfficentNetB0_beans_model_PolynomialDecay90_KMeansPlusPlus128_float16_quantization.tflite\n",
      "WARNING:tensorflow:No training configuration found in the save file, so the model was *not* compiled. Compile it manually.\n"
     ]
    },
    {
     "name": "stderr",
     "output_type": "stream",
     "text": [
      "WARNING:tensorflow:No training configuration found in the save file, so the model was *not* compiled. Compile it manually.\n"
     ]
    },
    {
     "name": "stdout",
     "output_type": "stream",
     "text": [
      "INFO:tensorflow:Assets written to: /tmp/tmp3hwgsrl4/assets\n"
     ]
    },
    {
     "name": "stderr",
     "output_type": "stream",
     "text": [
      "INFO:tensorflow:Assets written to: /tmp/tmp3hwgsrl4/assets\n"
     ]
    },
    {
     "name": "stdout",
     "output_type": "stream",
     "text": [
      "Converted TFLite model (16044956 Bytes) saved to: beans_models_optimized/EfficentNetB0_beans_model_ConstantSparsity75.tflite\n",
      "INFO:tensorflow:Assets written to: /tmp/tmp3ldqiqzt/assets\n"
     ]
    },
    {
     "name": "stderr",
     "output_type": "stream",
     "text": [
      "INFO:tensorflow:Assets written to: /tmp/tmp3ldqiqzt/assets\n"
     ]
    },
    {
     "name": "stdout",
     "output_type": "stream",
     "text": [
      "Dynamic range quantizatized TFLite model (4789504 Bytes) saved to: beans_models_optimized/EfficentNetB0_beans_model_ConstantSparsity75_dynamic_rage_quantization.tflite\n",
      "INFO:tensorflow:Assets written to: /tmp/tmp5bkyepbu/assets\n"
     ]
    },
    {
     "name": "stderr",
     "output_type": "stream",
     "text": [
      "INFO:tensorflow:Assets written to: /tmp/tmp5bkyepbu/assets\n"
     ]
    },
    {
     "name": "stdout",
     "output_type": "stream",
     "text": [
      "Full integer quantizatized TFLite model (5160800 Bytes) saved to: beans_models_optimized/EfficentNetB0_beans_model_ConstantSparsity75_full_integer_quantization.tflite\n",
      "INFO:tensorflow:Assets written to: /tmp/tmpmyde11sg/assets\n"
     ]
    },
    {
     "name": "stderr",
     "output_type": "stream",
     "text": [
      "INFO:tensorflow:Assets written to: /tmp/tmpmyde11sg/assets\n"
     ]
    },
    {
     "name": "stdout",
     "output_type": "stream",
     "text": [
      "ERROR: Failed Full integer quantizatized with integer io TFLite model\n",
      "INFO:tensorflow:Assets written to: /tmp/tmp3zjpow7_/assets\n"
     ]
    },
    {
     "name": "stderr",
     "output_type": "stream",
     "text": [
      "INFO:tensorflow:Assets written to: /tmp/tmp3zjpow7_/assets\n"
     ]
    },
    {
     "name": "stdout",
     "output_type": "stream",
     "text": [
      "float16 quantizatized TFLite model (8096720 Bytes) saved to: beans_models_optimized/EfficentNetB0_beans_model_ConstantSparsity75_float16_quantization.tflite\n",
      "WARNING:tensorflow:No training configuration found in the save file, so the model was *not* compiled. Compile it manually.\n"
     ]
    },
    {
     "name": "stderr",
     "output_type": "stream",
     "text": [
      "WARNING:tensorflow:No training configuration found in the save file, so the model was *not* compiled. Compile it manually.\n"
     ]
    },
    {
     "name": "stdout",
     "output_type": "stream",
     "text": [
      "INFO:tensorflow:Assets written to: /tmp/tmptkt44ge5/assets\n"
     ]
    },
    {
     "name": "stderr",
     "output_type": "stream",
     "text": [
      "INFO:tensorflow:Assets written to: /tmp/tmptkt44ge5/assets\n"
     ]
    },
    {
     "name": "stdout",
     "output_type": "stream",
     "text": [
      "Converted TFLite model (8873924 Bytes) saved to: beans_models_optimized/MobileNetV2_beans_model_ConstantSparsity90_KMeansPlusPlus128.tflite\n",
      "INFO:tensorflow:Assets written to: /tmp/tmps_huaecg/assets\n"
     ]
    },
    {
     "name": "stderr",
     "output_type": "stream",
     "text": [
      "INFO:tensorflow:Assets written to: /tmp/tmps_huaecg/assets\n"
     ]
    },
    {
     "name": "stdout",
     "output_type": "stream",
     "text": [
      "Dynamic range quantizatized TFLite model (2641872 Bytes) saved to: beans_models_optimized/MobileNetV2_beans_model_ConstantSparsity90_KMeansPlusPlus128_dynamic_rage_quantization.tflite\n",
      "INFO:tensorflow:Assets written to: /tmp/tmpunddioar/assets\n"
     ]
    },
    {
     "name": "stderr",
     "output_type": "stream",
     "text": [
      "INFO:tensorflow:Assets written to: /tmp/tmpunddioar/assets\n"
     ]
    },
    {
     "name": "stdout",
     "output_type": "stream",
     "text": [
      "Full integer quantizatized TFLite model (2848144 Bytes) saved to: beans_models_optimized/MobileNetV2_beans_model_ConstantSparsity90_KMeansPlusPlus128_full_integer_quantization.tflite\n",
      "INFO:tensorflow:Assets written to: /tmp/tmpuly7d0r9/assets\n"
     ]
    },
    {
     "name": "stderr",
     "output_type": "stream",
     "text": [
      "INFO:tensorflow:Assets written to: /tmp/tmpuly7d0r9/assets\n"
     ]
    },
    {
     "name": "stdout",
     "output_type": "stream",
     "text": [
      "Full integer quantizatized with integer io TFLite model (2846896 Bytes) saved to: beans_models_optimized/MobileNetV2_beans_model_ConstantSparsity90_KMeansPlusPlus128_full_integer_quantization_integer_io.tflite\n",
      "INFO:tensorflow:Assets written to: /tmp/tmp8s2h818g/assets\n"
     ]
    },
    {
     "name": "stderr",
     "output_type": "stream",
     "text": [
      "INFO:tensorflow:Assets written to: /tmp/tmp8s2h818g/assets\n"
     ]
    },
    {
     "name": "stdout",
     "output_type": "stream",
     "text": [
      "float16 quantizatized TFLite model (4469136 Bytes) saved to: beans_models_optimized/MobileNetV2_beans_model_ConstantSparsity90_KMeansPlusPlus128_float16_quantization.tflite\n",
      "WARNING:tensorflow:No training configuration found in the save file, so the model was *not* compiled. Compile it manually.\n"
     ]
    },
    {
     "name": "stderr",
     "output_type": "stream",
     "text": [
      "WARNING:tensorflow:No training configuration found in the save file, so the model was *not* compiled. Compile it manually.\n"
     ]
    },
    {
     "name": "stdout",
     "output_type": "stream",
     "text": [
      "INFO:tensorflow:Assets written to: /tmp/tmpm9jp3j49/assets\n"
     ]
    },
    {
     "name": "stderr",
     "output_type": "stream",
     "text": [
      "INFO:tensorflow:Assets written to: /tmp/tmpm9jp3j49/assets\n"
     ]
    },
    {
     "name": "stdout",
     "output_type": "stream",
     "text": [
      "Converted TFLite model (8873924 Bytes) saved to: beans_models_optimized/MobileNetV2_beans_model_ConstantSparsity75.tflite\n",
      "INFO:tensorflow:Assets written to: /tmp/tmp8s5soao4/assets\n"
     ]
    },
    {
     "name": "stderr",
     "output_type": "stream",
     "text": [
      "INFO:tensorflow:Assets written to: /tmp/tmp8s5soao4/assets\n"
     ]
    },
    {
     "name": "stdout",
     "output_type": "stream",
     "text": [
      "Dynamic range quantizatized TFLite model (2641872 Bytes) saved to: beans_models_optimized/MobileNetV2_beans_model_ConstantSparsity75_dynamic_rage_quantization.tflite\n",
      "INFO:tensorflow:Assets written to: /tmp/tmpk2bwsmlr/assets\n"
     ]
    },
    {
     "name": "stderr",
     "output_type": "stream",
     "text": [
      "INFO:tensorflow:Assets written to: /tmp/tmpk2bwsmlr/assets\n"
     ]
    },
    {
     "name": "stdout",
     "output_type": "stream",
     "text": [
      "Full integer quantizatized TFLite model (2848144 Bytes) saved to: beans_models_optimized/MobileNetV2_beans_model_ConstantSparsity75_full_integer_quantization.tflite\n",
      "INFO:tensorflow:Assets written to: /tmp/tmpygsmafl0/assets\n"
     ]
    },
    {
     "name": "stderr",
     "output_type": "stream",
     "text": [
      "INFO:tensorflow:Assets written to: /tmp/tmpygsmafl0/assets\n"
     ]
    },
    {
     "name": "stdout",
     "output_type": "stream",
     "text": [
      "Full integer quantizatized with integer io TFLite model (2846896 Bytes) saved to: beans_models_optimized/MobileNetV2_beans_model_ConstantSparsity75_full_integer_quantization_integer_io.tflite\n",
      "INFO:tensorflow:Assets written to: /tmp/tmp6y4hjtc2/assets\n"
     ]
    },
    {
     "name": "stderr",
     "output_type": "stream",
     "text": [
      "INFO:tensorflow:Assets written to: /tmp/tmp6y4hjtc2/assets\n"
     ]
    },
    {
     "name": "stdout",
     "output_type": "stream",
     "text": [
      "float16 quantizatized TFLite model (4469136 Bytes) saved to: beans_models_optimized/MobileNetV2_beans_model_ConstantSparsity75_float16_quantization.tflite\n",
      "WARNING:tensorflow:No training configuration found in the save file, so the model was *not* compiled. Compile it manually.\n"
     ]
    },
    {
     "name": "stderr",
     "output_type": "stream",
     "text": [
      "WARNING:tensorflow:No training configuration found in the save file, so the model was *not* compiled. Compile it manually.\n"
     ]
    },
    {
     "name": "stdout",
     "output_type": "stream",
     "text": [
      "INFO:tensorflow:Assets written to: /tmp/tmp0t9xqc3a/assets\n"
     ]
    },
    {
     "name": "stderr",
     "output_type": "stream",
     "text": [
      "INFO:tensorflow:Assets written to: /tmp/tmp0t9xqc3a/assets\n"
     ]
    },
    {
     "name": "stdout",
     "output_type": "stream",
     "text": [
      "Converted TFLite model (16044956 Bytes) saved to: beans_models_optimized/EfficentNetB0_beans_model_PolynomialDecay90.tflite\n",
      "INFO:tensorflow:Assets written to: /tmp/tmpb8li3b77/assets\n"
     ]
    },
    {
     "name": "stderr",
     "output_type": "stream",
     "text": [
      "INFO:tensorflow:Assets written to: /tmp/tmpb8li3b77/assets\n"
     ]
    },
    {
     "name": "stdout",
     "output_type": "stream",
     "text": [
      "Dynamic range quantizatized TFLite model (4789504 Bytes) saved to: beans_models_optimized/EfficentNetB0_beans_model_PolynomialDecay90_dynamic_rage_quantization.tflite\n",
      "INFO:tensorflow:Assets written to: /tmp/tmpugpt5uao/assets\n"
     ]
    },
    {
     "name": "stderr",
     "output_type": "stream",
     "text": [
      "INFO:tensorflow:Assets written to: /tmp/tmpugpt5uao/assets\n"
     ]
    },
    {
     "name": "stdout",
     "output_type": "stream",
     "text": [
      "Full integer quantizatized TFLite model (5160800 Bytes) saved to: beans_models_optimized/EfficentNetB0_beans_model_PolynomialDecay90_full_integer_quantization.tflite\n",
      "INFO:tensorflow:Assets written to: /tmp/tmpwbph4u8r/assets\n"
     ]
    },
    {
     "name": "stderr",
     "output_type": "stream",
     "text": [
      "INFO:tensorflow:Assets written to: /tmp/tmpwbph4u8r/assets\n"
     ]
    },
    {
     "name": "stdout",
     "output_type": "stream",
     "text": [
      "ERROR: Failed Full integer quantizatized with integer io TFLite model\n",
      "INFO:tensorflow:Assets written to: /tmp/tmpqqvvsazw/assets\n"
     ]
    },
    {
     "name": "stderr",
     "output_type": "stream",
     "text": [
      "INFO:tensorflow:Assets written to: /tmp/tmpqqvvsazw/assets\n"
     ]
    },
    {
     "name": "stdout",
     "output_type": "stream",
     "text": [
      "float16 quantizatized TFLite model (8096720 Bytes) saved to: beans_models_optimized/EfficentNetB0_beans_model_PolynomialDecay90_float16_quantization.tflite\n",
      "WARNING:tensorflow:No training configuration found in the save file, so the model was *not* compiled. Compile it manually.\n"
     ]
    },
    {
     "name": "stderr",
     "output_type": "stream",
     "text": [
      "WARNING:tensorflow:No training configuration found in the save file, so the model was *not* compiled. Compile it manually.\n"
     ]
    },
    {
     "name": "stdout",
     "output_type": "stream",
     "text": [
      "INFO:tensorflow:Assets written to: /tmp/tmpnf28a4ca/assets\n"
     ]
    },
    {
     "name": "stderr",
     "output_type": "stream",
     "text": [
      "INFO:tensorflow:Assets written to: /tmp/tmpnf28a4ca/assets\n"
     ]
    },
    {
     "name": "stdout",
     "output_type": "stream",
     "text": [
      "Converted TFLite model (16044956 Bytes) saved to: beans_models_optimized/EfficentNetB0_beans_model_ConstantSparsity75_KMeansPlusPlus32.tflite\n",
      "INFO:tensorflow:Assets written to: /tmp/tmpvyn7lg7y/assets\n"
     ]
    },
    {
     "name": "stderr",
     "output_type": "stream",
     "text": [
      "INFO:tensorflow:Assets written to: /tmp/tmpvyn7lg7y/assets\n"
     ]
    },
    {
     "name": "stdout",
     "output_type": "stream",
     "text": [
      "Dynamic range quantizatized TFLite model (4789504 Bytes) saved to: beans_models_optimized/EfficentNetB0_beans_model_ConstantSparsity75_KMeansPlusPlus32_dynamic_rage_quantization.tflite\n",
      "INFO:tensorflow:Assets written to: /tmp/tmp5r284ehx/assets\n"
     ]
    },
    {
     "name": "stderr",
     "output_type": "stream",
     "text": [
      "INFO:tensorflow:Assets written to: /tmp/tmp5r284ehx/assets\n"
     ]
    },
    {
     "name": "stdout",
     "output_type": "stream",
     "text": [
      "Full integer quantizatized TFLite model (5160800 Bytes) saved to: beans_models_optimized/EfficentNetB0_beans_model_ConstantSparsity75_KMeansPlusPlus32_full_integer_quantization.tflite\n",
      "INFO:tensorflow:Assets written to: /tmp/tmpghu1qorj/assets\n"
     ]
    },
    {
     "name": "stderr",
     "output_type": "stream",
     "text": [
      "INFO:tensorflow:Assets written to: /tmp/tmpghu1qorj/assets\n"
     ]
    },
    {
     "name": "stdout",
     "output_type": "stream",
     "text": [
      "ERROR: Failed Full integer quantizatized with integer io TFLite model\n",
      "INFO:tensorflow:Assets written to: /tmp/tmpxrt2yi3s/assets\n"
     ]
    },
    {
     "name": "stderr",
     "output_type": "stream",
     "text": [
      "INFO:tensorflow:Assets written to: /tmp/tmpxrt2yi3s/assets\n"
     ]
    },
    {
     "name": "stdout",
     "output_type": "stream",
     "text": [
      "float16 quantizatized TFLite model (8096720 Bytes) saved to: beans_models_optimized/EfficentNetB0_beans_model_ConstantSparsity75_KMeansPlusPlus32_float16_quantization.tflite\n",
      "WARNING:tensorflow:No training configuration found in the save file, so the model was *not* compiled. Compile it manually.\n"
     ]
    },
    {
     "name": "stderr",
     "output_type": "stream",
     "text": [
      "WARNING:tensorflow:No training configuration found in the save file, so the model was *not* compiled. Compile it manually.\n"
     ]
    },
    {
     "name": "stdout",
     "output_type": "stream",
     "text": [
      "INFO:tensorflow:Assets written to: /tmp/tmpo4b6s9_t/assets\n"
     ]
    },
    {
     "name": "stderr",
     "output_type": "stream",
     "text": [
      "INFO:tensorflow:Assets written to: /tmp/tmpo4b6s9_t/assets\n"
     ]
    },
    {
     "name": "stdout",
     "output_type": "stream",
     "text": [
      "Converted TFLite model (16044956 Bytes) saved to: beans_models_optimized/EfficentNetB0_beans_model_PolynomialDecay75_KMeansPlusPlus128.tflite\n",
      "INFO:tensorflow:Assets written to: /tmp/tmpx7lcy5xz/assets\n"
     ]
    },
    {
     "name": "stderr",
     "output_type": "stream",
     "text": [
      "INFO:tensorflow:Assets written to: /tmp/tmpx7lcy5xz/assets\n"
     ]
    },
    {
     "name": "stdout",
     "output_type": "stream",
     "text": [
      "Dynamic range quantizatized TFLite model (4789504 Bytes) saved to: beans_models_optimized/EfficentNetB0_beans_model_PolynomialDecay75_KMeansPlusPlus128_dynamic_rage_quantization.tflite\n",
      "INFO:tensorflow:Assets written to: /tmp/tmpws0xcq6j/assets\n"
     ]
    },
    {
     "name": "stderr",
     "output_type": "stream",
     "text": [
      "INFO:tensorflow:Assets written to: /tmp/tmpws0xcq6j/assets\n"
     ]
    },
    {
     "name": "stdout",
     "output_type": "stream",
     "text": [
      "Full integer quantizatized TFLite model (5160800 Bytes) saved to: beans_models_optimized/EfficentNetB0_beans_model_PolynomialDecay75_KMeansPlusPlus128_full_integer_quantization.tflite\n",
      "INFO:tensorflow:Assets written to: /tmp/tmp13zhkqc9/assets\n"
     ]
    },
    {
     "name": "stderr",
     "output_type": "stream",
     "text": [
      "INFO:tensorflow:Assets written to: /tmp/tmp13zhkqc9/assets\n"
     ]
    },
    {
     "name": "stdout",
     "output_type": "stream",
     "text": [
      "ERROR: Failed Full integer quantizatized with integer io TFLite model\n",
      "INFO:tensorflow:Assets written to: /tmp/tmp09hwus9s/assets\n"
     ]
    },
    {
     "name": "stderr",
     "output_type": "stream",
     "text": [
      "INFO:tensorflow:Assets written to: /tmp/tmp09hwus9s/assets\n"
     ]
    },
    {
     "name": "stdout",
     "output_type": "stream",
     "text": [
      "float16 quantizatized TFLite model (8096720 Bytes) saved to: beans_models_optimized/EfficentNetB0_beans_model_PolynomialDecay75_KMeansPlusPlus128_float16_quantization.tflite\n",
      "WARNING:tensorflow:No training configuration found in the save file, so the model was *not* compiled. Compile it manually.\n"
     ]
    },
    {
     "name": "stderr",
     "output_type": "stream",
     "text": [
      "WARNING:tensorflow:No training configuration found in the save file, so the model was *not* compiled. Compile it manually.\n"
     ]
    },
    {
     "name": "stdout",
     "output_type": "stream",
     "text": [
      "INFO:tensorflow:Assets written to: /tmp/tmp_41lwoa9/assets\n"
     ]
    },
    {
     "name": "stderr",
     "output_type": "stream",
     "text": [
      "INFO:tensorflow:Assets written to: /tmp/tmp_41lwoa9/assets\n"
     ]
    },
    {
     "name": "stdout",
     "output_type": "stream",
     "text": [
      "Converted TFLite model (16044956 Bytes) saved to: beans_models_optimized/EfficentNetB0_beans_model_ConstantSparsity50.tflite\n",
      "INFO:tensorflow:Assets written to: /tmp/tmpj9b3uiil/assets\n"
     ]
    },
    {
     "name": "stderr",
     "output_type": "stream",
     "text": [
      "INFO:tensorflow:Assets written to: /tmp/tmpj9b3uiil/assets\n"
     ]
    },
    {
     "name": "stdout",
     "output_type": "stream",
     "text": [
      "Dynamic range quantizatized TFLite model (4789504 Bytes) saved to: beans_models_optimized/EfficentNetB0_beans_model_ConstantSparsity50_dynamic_rage_quantization.tflite\n",
      "INFO:tensorflow:Assets written to: /tmp/tmp5hw_7nlz/assets\n"
     ]
    },
    {
     "name": "stderr",
     "output_type": "stream",
     "text": [
      "INFO:tensorflow:Assets written to: /tmp/tmp5hw_7nlz/assets\n"
     ]
    },
    {
     "name": "stdout",
     "output_type": "stream",
     "text": [
      "Full integer quantizatized TFLite model (5160800 Bytes) saved to: beans_models_optimized/EfficentNetB0_beans_model_ConstantSparsity50_full_integer_quantization.tflite\n",
      "INFO:tensorflow:Assets written to: /tmp/tmpj0fwp5l_/assets\n"
     ]
    },
    {
     "name": "stderr",
     "output_type": "stream",
     "text": [
      "INFO:tensorflow:Assets written to: /tmp/tmpj0fwp5l_/assets\n"
     ]
    },
    {
     "name": "stdout",
     "output_type": "stream",
     "text": [
      "ERROR: Failed Full integer quantizatized with integer io TFLite model\n",
      "INFO:tensorflow:Assets written to: /tmp/tmp___itgjj/assets\n"
     ]
    },
    {
     "name": "stderr",
     "output_type": "stream",
     "text": [
      "INFO:tensorflow:Assets written to: /tmp/tmp___itgjj/assets\n"
     ]
    },
    {
     "name": "stdout",
     "output_type": "stream",
     "text": [
      "float16 quantizatized TFLite model (8096720 Bytes) saved to: beans_models_optimized/EfficentNetB0_beans_model_ConstantSparsity50_float16_quantization.tflite\n",
      "WARNING:tensorflow:No training configuration found in the save file, so the model was *not* compiled. Compile it manually.\n"
     ]
    },
    {
     "name": "stderr",
     "output_type": "stream",
     "text": [
      "WARNING:tensorflow:No training configuration found in the save file, so the model was *not* compiled. Compile it manually.\n"
     ]
    },
    {
     "name": "stdout",
     "output_type": "stream",
     "text": [
      "INFO:tensorflow:Assets written to: /tmp/tmpyokwydbr/assets\n"
     ]
    },
    {
     "name": "stderr",
     "output_type": "stream",
     "text": [
      "INFO:tensorflow:Assets written to: /tmp/tmpyokwydbr/assets\n"
     ]
    },
    {
     "name": "stdout",
     "output_type": "stream",
     "text": [
      "Converted TFLite model (8873924 Bytes) saved to: beans_models_optimized/MobileNetV2_beans_model_PolynomialDecay75_KMeansPlusPlus32.tflite\n",
      "INFO:tensorflow:Assets written to: /tmp/tmp0oj6s4ap/assets\n"
     ]
    },
    {
     "name": "stderr",
     "output_type": "stream",
     "text": [
      "INFO:tensorflow:Assets written to: /tmp/tmp0oj6s4ap/assets\n"
     ]
    },
    {
     "name": "stdout",
     "output_type": "stream",
     "text": [
      "Dynamic range quantizatized TFLite model (2641872 Bytes) saved to: beans_models_optimized/MobileNetV2_beans_model_PolynomialDecay75_KMeansPlusPlus32_dynamic_rage_quantization.tflite\n",
      "INFO:tensorflow:Assets written to: /tmp/tmpq2meq3wo/assets\n"
     ]
    },
    {
     "name": "stderr",
     "output_type": "stream",
     "text": [
      "INFO:tensorflow:Assets written to: /tmp/tmpq2meq3wo/assets\n"
     ]
    },
    {
     "name": "stdout",
     "output_type": "stream",
     "text": [
      "Full integer quantizatized TFLite model (2848144 Bytes) saved to: beans_models_optimized/MobileNetV2_beans_model_PolynomialDecay75_KMeansPlusPlus32_full_integer_quantization.tflite\n",
      "INFO:tensorflow:Assets written to: /tmp/tmp4lsc4v1a/assets\n"
     ]
    },
    {
     "name": "stderr",
     "output_type": "stream",
     "text": [
      "INFO:tensorflow:Assets written to: /tmp/tmp4lsc4v1a/assets\n"
     ]
    },
    {
     "name": "stdout",
     "output_type": "stream",
     "text": [
      "Full integer quantizatized with integer io TFLite model (2846896 Bytes) saved to: beans_models_optimized/MobileNetV2_beans_model_PolynomialDecay75_KMeansPlusPlus32_full_integer_quantization_integer_io.tflite\n",
      "INFO:tensorflow:Assets written to: /tmp/tmpt84g18q7/assets\n"
     ]
    },
    {
     "name": "stderr",
     "output_type": "stream",
     "text": [
      "INFO:tensorflow:Assets written to: /tmp/tmpt84g18q7/assets\n"
     ]
    },
    {
     "name": "stdout",
     "output_type": "stream",
     "text": [
      "float16 quantizatized TFLite model (4469136 Bytes) saved to: beans_models_optimized/MobileNetV2_beans_model_PolynomialDecay75_KMeansPlusPlus32_float16_quantization.tflite\n",
      "WARNING:tensorflow:No training configuration found in the save file, so the model was *not* compiled. Compile it manually.\n"
     ]
    },
    {
     "name": "stderr",
     "output_type": "stream",
     "text": [
      "WARNING:tensorflow:No training configuration found in the save file, so the model was *not* compiled. Compile it manually.\n"
     ]
    },
    {
     "name": "stdout",
     "output_type": "stream",
     "text": [
      "INFO:tensorflow:Assets written to: /tmp/tmpml_w2nba/assets\n"
     ]
    },
    {
     "name": "stderr",
     "output_type": "stream",
     "text": [
      "INFO:tensorflow:Assets written to: /tmp/tmpml_w2nba/assets\n"
     ]
    },
    {
     "name": "stdout",
     "output_type": "stream",
     "text": [
      "Converted TFLite model (16044956 Bytes) saved to: beans_models_optimized/EfficentNetB0_beans_model_ConstantSparsity90_KMeansPlusPlus32.tflite\n",
      "INFO:tensorflow:Assets written to: /tmp/tmprrkglqd7/assets\n"
     ]
    },
    {
     "name": "stderr",
     "output_type": "stream",
     "text": [
      "INFO:tensorflow:Assets written to: /tmp/tmprrkglqd7/assets\n"
     ]
    },
    {
     "name": "stdout",
     "output_type": "stream",
     "text": [
      "Dynamic range quantizatized TFLite model (4789504 Bytes) saved to: beans_models_optimized/EfficentNetB0_beans_model_ConstantSparsity90_KMeansPlusPlus32_dynamic_rage_quantization.tflite\n",
      "INFO:tensorflow:Assets written to: /tmp/tmpefda04nt/assets\n"
     ]
    },
    {
     "name": "stderr",
     "output_type": "stream",
     "text": [
      "INFO:tensorflow:Assets written to: /tmp/tmpefda04nt/assets\n"
     ]
    },
    {
     "name": "stdout",
     "output_type": "stream",
     "text": [
      "Full integer quantizatized TFLite model (5160800 Bytes) saved to: beans_models_optimized/EfficentNetB0_beans_model_ConstantSparsity90_KMeansPlusPlus32_full_integer_quantization.tflite\n",
      "INFO:tensorflow:Assets written to: /tmp/tmpwwe2ygz2/assets\n"
     ]
    },
    {
     "name": "stderr",
     "output_type": "stream",
     "text": [
      "INFO:tensorflow:Assets written to: /tmp/tmpwwe2ygz2/assets\n"
     ]
    },
    {
     "name": "stdout",
     "output_type": "stream",
     "text": [
      "ERROR: Failed Full integer quantizatized with integer io TFLite model\n",
      "INFO:tensorflow:Assets written to: /tmp/tmpl5o2odd8/assets\n"
     ]
    },
    {
     "name": "stderr",
     "output_type": "stream",
     "text": [
      "INFO:tensorflow:Assets written to: /tmp/tmpl5o2odd8/assets\n"
     ]
    },
    {
     "name": "stdout",
     "output_type": "stream",
     "text": [
      "float16 quantizatized TFLite model (8096720 Bytes) saved to: beans_models_optimized/EfficentNetB0_beans_model_ConstantSparsity90_KMeansPlusPlus32_float16_quantization.tflite\n",
      "WARNING:tensorflow:No training configuration found in the save file, so the model was *not* compiled. Compile it manually.\n"
     ]
    },
    {
     "name": "stderr",
     "output_type": "stream",
     "text": [
      "WARNING:tensorflow:No training configuration found in the save file, so the model was *not* compiled. Compile it manually.\n"
     ]
    },
    {
     "name": "stdout",
     "output_type": "stream",
     "text": [
      "INFO:tensorflow:Assets written to: /tmp/tmpgrodf2gx/assets\n"
     ]
    },
    {
     "name": "stderr",
     "output_type": "stream",
     "text": [
      "INFO:tensorflow:Assets written to: /tmp/tmpgrodf2gx/assets\n"
     ]
    },
    {
     "name": "stdout",
     "output_type": "stream",
     "text": [
      "Converted TFLite model (8873924 Bytes) saved to: beans_models_optimized/MobileNetV2_beans_model_PolynomialDecay90.tflite\n",
      "INFO:tensorflow:Assets written to: /tmp/tmpo58u0pzp/assets\n"
     ]
    },
    {
     "name": "stderr",
     "output_type": "stream",
     "text": [
      "INFO:tensorflow:Assets written to: /tmp/tmpo58u0pzp/assets\n"
     ]
    },
    {
     "name": "stdout",
     "output_type": "stream",
     "text": [
      "Dynamic range quantizatized TFLite model (2641872 Bytes) saved to: beans_models_optimized/MobileNetV2_beans_model_PolynomialDecay90_dynamic_rage_quantization.tflite\n",
      "INFO:tensorflow:Assets written to: /tmp/tmpjr8fgayk/assets\n"
     ]
    },
    {
     "name": "stderr",
     "output_type": "stream",
     "text": [
      "INFO:tensorflow:Assets written to: /tmp/tmpjr8fgayk/assets\n"
     ]
    },
    {
     "name": "stdout",
     "output_type": "stream",
     "text": [
      "Full integer quantizatized TFLite model (2848144 Bytes) saved to: beans_models_optimized/MobileNetV2_beans_model_PolynomialDecay90_full_integer_quantization.tflite\n",
      "INFO:tensorflow:Assets written to: /tmp/tmps9wx0y5q/assets\n"
     ]
    },
    {
     "name": "stderr",
     "output_type": "stream",
     "text": [
      "INFO:tensorflow:Assets written to: /tmp/tmps9wx0y5q/assets\n"
     ]
    },
    {
     "name": "stdout",
     "output_type": "stream",
     "text": [
      "Full integer quantizatized with integer io TFLite model (2846896 Bytes) saved to: beans_models_optimized/MobileNetV2_beans_model_PolynomialDecay90_full_integer_quantization_integer_io.tflite\n",
      "INFO:tensorflow:Assets written to: /tmp/tmp9380aip4/assets\n"
     ]
    },
    {
     "name": "stderr",
     "output_type": "stream",
     "text": [
      "INFO:tensorflow:Assets written to: /tmp/tmp9380aip4/assets\n"
     ]
    },
    {
     "name": "stdout",
     "output_type": "stream",
     "text": [
      "float16 quantizatized TFLite model (4469136 Bytes) saved to: beans_models_optimized/MobileNetV2_beans_model_PolynomialDecay90_float16_quantization.tflite\n",
      "WARNING:tensorflow:No training configuration found in the save file, so the model was *not* compiled. Compile it manually.\n"
     ]
    },
    {
     "name": "stderr",
     "output_type": "stream",
     "text": [
      "WARNING:tensorflow:No training configuration found in the save file, so the model was *not* compiled. Compile it manually.\n"
     ]
    },
    {
     "name": "stdout",
     "output_type": "stream",
     "text": [
      "INFO:tensorflow:Assets written to: /tmp/tmpcef7yoz1/assets\n"
     ]
    },
    {
     "name": "stderr",
     "output_type": "stream",
     "text": [
      "INFO:tensorflow:Assets written to: /tmp/tmpcef7yoz1/assets\n"
     ]
    },
    {
     "name": "stdout",
     "output_type": "stream",
     "text": [
      "Converted TFLite model (8873924 Bytes) saved to: beans_models_optimized/MobileNetV2_beans_model_PolynomialDecay50_KMeansPlusPlus128.tflite\n",
      "INFO:tensorflow:Assets written to: /tmp/tmp1_75kg8a/assets\n"
     ]
    },
    {
     "name": "stderr",
     "output_type": "stream",
     "text": [
      "INFO:tensorflow:Assets written to: /tmp/tmp1_75kg8a/assets\n"
     ]
    },
    {
     "name": "stdout",
     "output_type": "stream",
     "text": [
      "Dynamic range quantizatized TFLite model (2641872 Bytes) saved to: beans_models_optimized/MobileNetV2_beans_model_PolynomialDecay50_KMeansPlusPlus128_dynamic_rage_quantization.tflite\n",
      "INFO:tensorflow:Assets written to: /tmp/tmp3012aj_i/assets\n"
     ]
    },
    {
     "name": "stderr",
     "output_type": "stream",
     "text": [
      "INFO:tensorflow:Assets written to: /tmp/tmp3012aj_i/assets\n"
     ]
    },
    {
     "name": "stdout",
     "output_type": "stream",
     "text": [
      "Full integer quantizatized TFLite model (2848144 Bytes) saved to: beans_models_optimized/MobileNetV2_beans_model_PolynomialDecay50_KMeansPlusPlus128_full_integer_quantization.tflite\n",
      "INFO:tensorflow:Assets written to: /tmp/tmpy0xx367p/assets\n"
     ]
    },
    {
     "name": "stderr",
     "output_type": "stream",
     "text": [
      "INFO:tensorflow:Assets written to: /tmp/tmpy0xx367p/assets\n"
     ]
    },
    {
     "name": "stdout",
     "output_type": "stream",
     "text": [
      "Full integer quantizatized with integer io TFLite model (2846896 Bytes) saved to: beans_models_optimized/MobileNetV2_beans_model_PolynomialDecay50_KMeansPlusPlus128_full_integer_quantization_integer_io.tflite\n",
      "INFO:tensorflow:Assets written to: /tmp/tmpyz2cbbp8/assets\n"
     ]
    },
    {
     "name": "stderr",
     "output_type": "stream",
     "text": [
      "INFO:tensorflow:Assets written to: /tmp/tmpyz2cbbp8/assets\n"
     ]
    },
    {
     "name": "stdout",
     "output_type": "stream",
     "text": [
      "float16 quantizatized TFLite model (4469136 Bytes) saved to: beans_models_optimized/MobileNetV2_beans_model_PolynomialDecay50_KMeansPlusPlus128_float16_quantization.tflite\n",
      "WARNING:tensorflow:No training configuration found in the save file, so the model was *not* compiled. Compile it manually.\n"
     ]
    },
    {
     "name": "stderr",
     "output_type": "stream",
     "text": [
      "WARNING:tensorflow:No training configuration found in the save file, so the model was *not* compiled. Compile it manually.\n"
     ]
    },
    {
     "name": "stdout",
     "output_type": "stream",
     "text": [
      "INFO:tensorflow:Assets written to: /tmp/tmpk7mfbk41/assets\n"
     ]
    },
    {
     "name": "stderr",
     "output_type": "stream",
     "text": [
      "INFO:tensorflow:Assets written to: /tmp/tmpk7mfbk41/assets\n"
     ]
    },
    {
     "name": "stdout",
     "output_type": "stream",
     "text": [
      "Converted TFLite model (16044956 Bytes) saved to: beans_models_optimized/EfficentNetB0_beans_model_PolynomialDecay50_KMeansPlusPlus128.tflite\n",
      "INFO:tensorflow:Assets written to: /tmp/tmpuy2hc308/assets\n"
     ]
    },
    {
     "name": "stderr",
     "output_type": "stream",
     "text": [
      "INFO:tensorflow:Assets written to: /tmp/tmpuy2hc308/assets\n"
     ]
    },
    {
     "name": "stdout",
     "output_type": "stream",
     "text": [
      "Dynamic range quantizatized TFLite model (4789504 Bytes) saved to: beans_models_optimized/EfficentNetB0_beans_model_PolynomialDecay50_KMeansPlusPlus128_dynamic_rage_quantization.tflite\n",
      "INFO:tensorflow:Assets written to: /tmp/tmp8_mekd6b/assets\n"
     ]
    },
    {
     "name": "stderr",
     "output_type": "stream",
     "text": [
      "INFO:tensorflow:Assets written to: /tmp/tmp8_mekd6b/assets\n"
     ]
    },
    {
     "name": "stdout",
     "output_type": "stream",
     "text": [
      "Full integer quantizatized TFLite model (5160800 Bytes) saved to: beans_models_optimized/EfficentNetB0_beans_model_PolynomialDecay50_KMeansPlusPlus128_full_integer_quantization.tflite\n",
      "INFO:tensorflow:Assets written to: /tmp/tmpg7ie0_uk/assets\n"
     ]
    },
    {
     "name": "stderr",
     "output_type": "stream",
     "text": [
      "INFO:tensorflow:Assets written to: /tmp/tmpg7ie0_uk/assets\n"
     ]
    },
    {
     "name": "stdout",
     "output_type": "stream",
     "text": [
      "ERROR: Failed Full integer quantizatized with integer io TFLite model\n",
      "INFO:tensorflow:Assets written to: /tmp/tmps01ijpc5/assets\n"
     ]
    },
    {
     "name": "stderr",
     "output_type": "stream",
     "text": [
      "INFO:tensorflow:Assets written to: /tmp/tmps01ijpc5/assets\n"
     ]
    },
    {
     "name": "stdout",
     "output_type": "stream",
     "text": [
      "float16 quantizatized TFLite model (8096720 Bytes) saved to: beans_models_optimized/EfficentNetB0_beans_model_PolynomialDecay50_KMeansPlusPlus128_float16_quantization.tflite\n",
      "WARNING:tensorflow:No training configuration found in the save file, so the model was *not* compiled. Compile it manually.\n"
     ]
    },
    {
     "name": "stderr",
     "output_type": "stream",
     "text": [
      "WARNING:tensorflow:No training configuration found in the save file, so the model was *not* compiled. Compile it manually.\n"
     ]
    },
    {
     "name": "stdout",
     "output_type": "stream",
     "text": [
      "INFO:tensorflow:Assets written to: /tmp/tmp7csk4000/assets\n"
     ]
    },
    {
     "name": "stderr",
     "output_type": "stream",
     "text": [
      "INFO:tensorflow:Assets written to: /tmp/tmp7csk4000/assets\n"
     ]
    },
    {
     "name": "stdout",
     "output_type": "stream",
     "text": [
      "Converted TFLite model (8873924 Bytes) saved to: beans_models_optimized/MobileNetV2_beans_model_ConstantSparsity75_KMeansPlusPlus32.tflite\n",
      "INFO:tensorflow:Assets written to: /tmp/tmp0sr0sh58/assets\n"
     ]
    },
    {
     "name": "stderr",
     "output_type": "stream",
     "text": [
      "INFO:tensorflow:Assets written to: /tmp/tmp0sr0sh58/assets\n"
     ]
    },
    {
     "name": "stdout",
     "output_type": "stream",
     "text": [
      "Dynamic range quantizatized TFLite model (2641872 Bytes) saved to: beans_models_optimized/MobileNetV2_beans_model_ConstantSparsity75_KMeansPlusPlus32_dynamic_rage_quantization.tflite\n",
      "INFO:tensorflow:Assets written to: /tmp/tmp796uvj3y/assets\n"
     ]
    },
    {
     "name": "stderr",
     "output_type": "stream",
     "text": [
      "INFO:tensorflow:Assets written to: /tmp/tmp796uvj3y/assets\n"
     ]
    },
    {
     "name": "stdout",
     "output_type": "stream",
     "text": [
      "Full integer quantizatized TFLite model (2848144 Bytes) saved to: beans_models_optimized/MobileNetV2_beans_model_ConstantSparsity75_KMeansPlusPlus32_full_integer_quantization.tflite\n",
      "INFO:tensorflow:Assets written to: /tmp/tmp7xg3_jzp/assets\n"
     ]
    },
    {
     "name": "stderr",
     "output_type": "stream",
     "text": [
      "INFO:tensorflow:Assets written to: /tmp/tmp7xg3_jzp/assets\n"
     ]
    },
    {
     "name": "stdout",
     "output_type": "stream",
     "text": [
      "Full integer quantizatized with integer io TFLite model (2846896 Bytes) saved to: beans_models_optimized/MobileNetV2_beans_model_ConstantSparsity75_KMeansPlusPlus32_full_integer_quantization_integer_io.tflite\n",
      "INFO:tensorflow:Assets written to: /tmp/tmp45k4tgd2/assets\n"
     ]
    },
    {
     "name": "stderr",
     "output_type": "stream",
     "text": [
      "INFO:tensorflow:Assets written to: /tmp/tmp45k4tgd2/assets\n"
     ]
    },
    {
     "name": "stdout",
     "output_type": "stream",
     "text": [
      "float16 quantizatized TFLite model (4469136 Bytes) saved to: beans_models_optimized/MobileNetV2_beans_model_ConstantSparsity75_KMeansPlusPlus32_float16_quantization.tflite\n",
      "WARNING:tensorflow:No training configuration found in the save file, so the model was *not* compiled. Compile it manually.\n"
     ]
    },
    {
     "name": "stderr",
     "output_type": "stream",
     "text": [
      "WARNING:tensorflow:No training configuration found in the save file, so the model was *not* compiled. Compile it manually.\n"
     ]
    },
    {
     "name": "stdout",
     "output_type": "stream",
     "text": [
      "INFO:tensorflow:Assets written to: /tmp/tmp0ktveb25/assets\n"
     ]
    },
    {
     "name": "stderr",
     "output_type": "stream",
     "text": [
      "INFO:tensorflow:Assets written to: /tmp/tmp0ktveb25/assets\n"
     ]
    },
    {
     "name": "stdout",
     "output_type": "stream",
     "text": [
      "Converted TFLite model (8873924 Bytes) saved to: beans_models_optimized/MobileNetV2_beans_model_PolynomialDecay50_KMeansPlusPlus32.tflite\n",
      "INFO:tensorflow:Assets written to: /tmp/tmp0gduhp0f/assets\n"
     ]
    },
    {
     "name": "stderr",
     "output_type": "stream",
     "text": [
      "INFO:tensorflow:Assets written to: /tmp/tmp0gduhp0f/assets\n"
     ]
    },
    {
     "name": "stdout",
     "output_type": "stream",
     "text": [
      "Dynamic range quantizatized TFLite model (2641872 Bytes) saved to: beans_models_optimized/MobileNetV2_beans_model_PolynomialDecay50_KMeansPlusPlus32_dynamic_rage_quantization.tflite\n",
      "INFO:tensorflow:Assets written to: /tmp/tmp2_s86cvr/assets\n"
     ]
    },
    {
     "name": "stderr",
     "output_type": "stream",
     "text": [
      "INFO:tensorflow:Assets written to: /tmp/tmp2_s86cvr/assets\n"
     ]
    },
    {
     "name": "stdout",
     "output_type": "stream",
     "text": [
      "Full integer quantizatized TFLite model (2848144 Bytes) saved to: beans_models_optimized/MobileNetV2_beans_model_PolynomialDecay50_KMeansPlusPlus32_full_integer_quantization.tflite\n",
      "INFO:tensorflow:Assets written to: /tmp/tmp99672i2d/assets\n"
     ]
    },
    {
     "name": "stderr",
     "output_type": "stream",
     "text": [
      "INFO:tensorflow:Assets written to: /tmp/tmp99672i2d/assets\n"
     ]
    },
    {
     "name": "stdout",
     "output_type": "stream",
     "text": [
      "Full integer quantizatized with integer io TFLite model (2846896 Bytes) saved to: beans_models_optimized/MobileNetV2_beans_model_PolynomialDecay50_KMeansPlusPlus32_full_integer_quantization_integer_io.tflite\n",
      "INFO:tensorflow:Assets written to: /tmp/tmp4a4mm6va/assets\n"
     ]
    },
    {
     "name": "stderr",
     "output_type": "stream",
     "text": [
      "INFO:tensorflow:Assets written to: /tmp/tmp4a4mm6va/assets\n"
     ]
    },
    {
     "name": "stdout",
     "output_type": "stream",
     "text": [
      "float16 quantizatized TFLite model (4469136 Bytes) saved to: beans_models_optimized/MobileNetV2_beans_model_PolynomialDecay50_KMeansPlusPlus32_float16_quantization.tflite\n",
      "WARNING:tensorflow:No training configuration found in the save file, so the model was *not* compiled. Compile it manually.\n"
     ]
    },
    {
     "name": "stderr",
     "output_type": "stream",
     "text": [
      "WARNING:tensorflow:No training configuration found in the save file, so the model was *not* compiled. Compile it manually.\n"
     ]
    },
    {
     "name": "stdout",
     "output_type": "stream",
     "text": [
      "INFO:tensorflow:Assets written to: /tmp/tmpz3ta3fw1/assets\n"
     ]
    },
    {
     "name": "stderr",
     "output_type": "stream",
     "text": [
      "INFO:tensorflow:Assets written to: /tmp/tmpz3ta3fw1/assets\n"
     ]
    },
    {
     "name": "stdout",
     "output_type": "stream",
     "text": [
      "Converted TFLite model (8873924 Bytes) saved to: beans_models_optimized/MobileNetV2_beans_model_ConstantSparsity90.tflite\n",
      "INFO:tensorflow:Assets written to: /tmp/tmpvsv9mt0s/assets\n"
     ]
    },
    {
     "name": "stderr",
     "output_type": "stream",
     "text": [
      "INFO:tensorflow:Assets written to: /tmp/tmpvsv9mt0s/assets\n"
     ]
    },
    {
     "name": "stdout",
     "output_type": "stream",
     "text": [
      "Dynamic range quantizatized TFLite model (2641872 Bytes) saved to: beans_models_optimized/MobileNetV2_beans_model_ConstantSparsity90_dynamic_rage_quantization.tflite\n",
      "INFO:tensorflow:Assets written to: /tmp/tmp3ncl7ug3/assets\n"
     ]
    },
    {
     "name": "stderr",
     "output_type": "stream",
     "text": [
      "INFO:tensorflow:Assets written to: /tmp/tmp3ncl7ug3/assets\n"
     ]
    },
    {
     "name": "stdout",
     "output_type": "stream",
     "text": [
      "Full integer quantizatized TFLite model (2848144 Bytes) saved to: beans_models_optimized/MobileNetV2_beans_model_ConstantSparsity90_full_integer_quantization.tflite\n",
      "INFO:tensorflow:Assets written to: /tmp/tmpx8hmdxk8/assets\n"
     ]
    },
    {
     "name": "stderr",
     "output_type": "stream",
     "text": [
      "INFO:tensorflow:Assets written to: /tmp/tmpx8hmdxk8/assets\n"
     ]
    },
    {
     "name": "stdout",
     "output_type": "stream",
     "text": [
      "Full integer quantizatized with integer io TFLite model (2846896 Bytes) saved to: beans_models_optimized/MobileNetV2_beans_model_ConstantSparsity90_full_integer_quantization_integer_io.tflite\n",
      "INFO:tensorflow:Assets written to: /tmp/tmpjcy0ndkd/assets\n"
     ]
    },
    {
     "name": "stderr",
     "output_type": "stream",
     "text": [
      "INFO:tensorflow:Assets written to: /tmp/tmpjcy0ndkd/assets\n"
     ]
    },
    {
     "name": "stdout",
     "output_type": "stream",
     "text": [
      "float16 quantizatized TFLite model (4469136 Bytes) saved to: beans_models_optimized/MobileNetV2_beans_model_ConstantSparsity90_float16_quantization.tflite\n",
      "WARNING:tensorflow:No training configuration found in the save file, so the model was *not* compiled. Compile it manually.\n"
     ]
    },
    {
     "name": "stderr",
     "output_type": "stream",
     "text": [
      "WARNING:tensorflow:No training configuration found in the save file, so the model was *not* compiled. Compile it manually.\n"
     ]
    },
    {
     "name": "stdout",
     "output_type": "stream",
     "text": [
      "INFO:tensorflow:Assets written to: /tmp/tmp6_v59b2d/assets\n"
     ]
    },
    {
     "name": "stderr",
     "output_type": "stream",
     "text": [
      "INFO:tensorflow:Assets written to: /tmp/tmp6_v59b2d/assets\n"
     ]
    },
    {
     "name": "stdout",
     "output_type": "stream",
     "text": [
      "Converted TFLite model (16044956 Bytes) saved to: beans_models_optimized/EfficentNetB0_beans_model_ConstantSparsity50_KMeansPlusPlus128.tflite\n",
      "INFO:tensorflow:Assets written to: /tmp/tmpxa1496va/assets\n"
     ]
    },
    {
     "name": "stderr",
     "output_type": "stream",
     "text": [
      "INFO:tensorflow:Assets written to: /tmp/tmpxa1496va/assets\n"
     ]
    },
    {
     "name": "stdout",
     "output_type": "stream",
     "text": [
      "Dynamic range quantizatized TFLite model (4789504 Bytes) saved to: beans_models_optimized/EfficentNetB0_beans_model_ConstantSparsity50_KMeansPlusPlus128_dynamic_rage_quantization.tflite\n",
      "INFO:tensorflow:Assets written to: /tmp/tmps1ygj0j1/assets\n"
     ]
    },
    {
     "name": "stderr",
     "output_type": "stream",
     "text": [
      "INFO:tensorflow:Assets written to: /tmp/tmps1ygj0j1/assets\n"
     ]
    },
    {
     "name": "stdout",
     "output_type": "stream",
     "text": [
      "Full integer quantizatized TFLite model (5160800 Bytes) saved to: beans_models_optimized/EfficentNetB0_beans_model_ConstantSparsity50_KMeansPlusPlus128_full_integer_quantization.tflite\n",
      "INFO:tensorflow:Assets written to: /tmp/tmpi0rhufh7/assets\n"
     ]
    },
    {
     "name": "stderr",
     "output_type": "stream",
     "text": [
      "INFO:tensorflow:Assets written to: /tmp/tmpi0rhufh7/assets\n"
     ]
    },
    {
     "name": "stdout",
     "output_type": "stream",
     "text": [
      "ERROR: Failed Full integer quantizatized with integer io TFLite model\n",
      "INFO:tensorflow:Assets written to: /tmp/tmp69rp1v6q/assets\n"
     ]
    },
    {
     "name": "stderr",
     "output_type": "stream",
     "text": [
      "INFO:tensorflow:Assets written to: /tmp/tmp69rp1v6q/assets\n"
     ]
    },
    {
     "name": "stdout",
     "output_type": "stream",
     "text": [
      "float16 quantizatized TFLite model (8096720 Bytes) saved to: beans_models_optimized/EfficentNetB0_beans_model_ConstantSparsity50_KMeansPlusPlus128_float16_quantization.tflite\n",
      "WARNING:tensorflow:No training configuration found in the save file, so the model was *not* compiled. Compile it manually.\n"
     ]
    },
    {
     "name": "stderr",
     "output_type": "stream",
     "text": [
      "WARNING:tensorflow:No training configuration found in the save file, so the model was *not* compiled. Compile it manually.\n"
     ]
    },
    {
     "name": "stdout",
     "output_type": "stream",
     "text": [
      "INFO:tensorflow:Assets written to: /tmp/tmpqyo7tsyo/assets\n"
     ]
    },
    {
     "name": "stderr",
     "output_type": "stream",
     "text": [
      "INFO:tensorflow:Assets written to: /tmp/tmpqyo7tsyo/assets\n"
     ]
    },
    {
     "name": "stdout",
     "output_type": "stream",
     "text": [
      "Converted TFLite model (16044956 Bytes) saved to: beans_models_optimized/EfficentNetB0_beans_model_ConstantSparsity75_KMeansPlusPlus128.tflite\n",
      "INFO:tensorflow:Assets written to: /tmp/tmp5twmc7ub/assets\n"
     ]
    },
    {
     "name": "stderr",
     "output_type": "stream",
     "text": [
      "INFO:tensorflow:Assets written to: /tmp/tmp5twmc7ub/assets\n"
     ]
    },
    {
     "name": "stdout",
     "output_type": "stream",
     "text": [
      "Dynamic range quantizatized TFLite model (4789504 Bytes) saved to: beans_models_optimized/EfficentNetB0_beans_model_ConstantSparsity75_KMeansPlusPlus128_dynamic_rage_quantization.tflite\n",
      "INFO:tensorflow:Assets written to: /tmp/tmpa87k0qdh/assets\n"
     ]
    },
    {
     "name": "stderr",
     "output_type": "stream",
     "text": [
      "INFO:tensorflow:Assets written to: /tmp/tmpa87k0qdh/assets\n"
     ]
    },
    {
     "name": "stdout",
     "output_type": "stream",
     "text": [
      "Full integer quantizatized TFLite model (5160800 Bytes) saved to: beans_models_optimized/EfficentNetB0_beans_model_ConstantSparsity75_KMeansPlusPlus128_full_integer_quantization.tflite\n",
      "INFO:tensorflow:Assets written to: /tmp/tmp4sbj3p8b/assets\n"
     ]
    },
    {
     "name": "stderr",
     "output_type": "stream",
     "text": [
      "INFO:tensorflow:Assets written to: /tmp/tmp4sbj3p8b/assets\n"
     ]
    },
    {
     "name": "stdout",
     "output_type": "stream",
     "text": [
      "ERROR: Failed Full integer quantizatized with integer io TFLite model\n",
      "INFO:tensorflow:Assets written to: /tmp/tmpqbokjm9j/assets\n"
     ]
    },
    {
     "name": "stderr",
     "output_type": "stream",
     "text": [
      "INFO:tensorflow:Assets written to: /tmp/tmpqbokjm9j/assets\n"
     ]
    },
    {
     "name": "stdout",
     "output_type": "stream",
     "text": [
      "float16 quantizatized TFLite model (8096720 Bytes) saved to: beans_models_optimized/EfficentNetB0_beans_model_ConstantSparsity75_KMeansPlusPlus128_float16_quantization.tflite\n",
      "WARNING:tensorflow:No training configuration found in the save file, so the model was *not* compiled. Compile it manually.\n"
     ]
    },
    {
     "name": "stderr",
     "output_type": "stream",
     "text": [
      "WARNING:tensorflow:No training configuration found in the save file, so the model was *not* compiled. Compile it manually.\n"
     ]
    },
    {
     "name": "stdout",
     "output_type": "stream",
     "text": [
      "INFO:tensorflow:Assets written to: /tmp/tmpo2ndfq_9/assets\n"
     ]
    },
    {
     "name": "stderr",
     "output_type": "stream",
     "text": [
      "INFO:tensorflow:Assets written to: /tmp/tmpo2ndfq_9/assets\n"
     ]
    },
    {
     "name": "stdout",
     "output_type": "stream",
     "text": [
      "Converted TFLite model (16044956 Bytes) saved to: beans_models_optimized/EfficentNetB0_beans_model_KMeansPlusPlus128.tflite\n",
      "INFO:tensorflow:Assets written to: /tmp/tmpn4lsk47p/assets\n"
     ]
    },
    {
     "name": "stderr",
     "output_type": "stream",
     "text": [
      "INFO:tensorflow:Assets written to: /tmp/tmpn4lsk47p/assets\n"
     ]
    },
    {
     "name": "stdout",
     "output_type": "stream",
     "text": [
      "Dynamic range quantizatized TFLite model (4789504 Bytes) saved to: beans_models_optimized/EfficentNetB0_beans_model_KMeansPlusPlus128_dynamic_rage_quantization.tflite\n",
      "INFO:tensorflow:Assets written to: /tmp/tmpq0ya5mrw/assets\n"
     ]
    },
    {
     "name": "stderr",
     "output_type": "stream",
     "text": [
      "INFO:tensorflow:Assets written to: /tmp/tmpq0ya5mrw/assets\n"
     ]
    },
    {
     "name": "stdout",
     "output_type": "stream",
     "text": [
      "Full integer quantizatized TFLite model (5160800 Bytes) saved to: beans_models_optimized/EfficentNetB0_beans_model_KMeansPlusPlus128_full_integer_quantization.tflite\n",
      "INFO:tensorflow:Assets written to: /tmp/tmptgzszw4h/assets\n"
     ]
    },
    {
     "name": "stderr",
     "output_type": "stream",
     "text": [
      "INFO:tensorflow:Assets written to: /tmp/tmptgzszw4h/assets\n"
     ]
    },
    {
     "name": "stdout",
     "output_type": "stream",
     "text": [
      "ERROR: Failed Full integer quantizatized with integer io TFLite model\n",
      "INFO:tensorflow:Assets written to: /tmp/tmp8elzzzud/assets\n"
     ]
    },
    {
     "name": "stderr",
     "output_type": "stream",
     "text": [
      "INFO:tensorflow:Assets written to: /tmp/tmp8elzzzud/assets\n"
     ]
    },
    {
     "name": "stdout",
     "output_type": "stream",
     "text": [
      "float16 quantizatized TFLite model (8096720 Bytes) saved to: beans_models_optimized/EfficentNetB0_beans_model_KMeansPlusPlus128_float16_quantization.tflite\n",
      "WARNING:tensorflow:No training configuration found in the save file, so the model was *not* compiled. Compile it manually.\n"
     ]
    },
    {
     "name": "stderr",
     "output_type": "stream",
     "text": [
      "WARNING:tensorflow:No training configuration found in the save file, so the model was *not* compiled. Compile it manually.\n"
     ]
    },
    {
     "name": "stdout",
     "output_type": "stream",
     "text": [
      "INFO:tensorflow:Assets written to: /tmp/tmpeo8uezti/assets\n"
     ]
    },
    {
     "name": "stderr",
     "output_type": "stream",
     "text": [
      "INFO:tensorflow:Assets written to: /tmp/tmpeo8uezti/assets\n"
     ]
    },
    {
     "name": "stdout",
     "output_type": "stream",
     "text": [
      "Converted TFLite model (8873924 Bytes) saved to: beans_models_optimized/MobileNetV2_beans_model_PolynomialDecay75_KMeansPlusPlus128.tflite\n",
      "INFO:tensorflow:Assets written to: /tmp/tmpr67f5gb_/assets\n"
     ]
    },
    {
     "name": "stderr",
     "output_type": "stream",
     "text": [
      "INFO:tensorflow:Assets written to: /tmp/tmpr67f5gb_/assets\n"
     ]
    },
    {
     "name": "stdout",
     "output_type": "stream",
     "text": [
      "Dynamic range quantizatized TFLite model (2641872 Bytes) saved to: beans_models_optimized/MobileNetV2_beans_model_PolynomialDecay75_KMeansPlusPlus128_dynamic_rage_quantization.tflite\n",
      "INFO:tensorflow:Assets written to: /tmp/tmpaa4_pbj5/assets\n"
     ]
    },
    {
     "name": "stderr",
     "output_type": "stream",
     "text": [
      "INFO:tensorflow:Assets written to: /tmp/tmpaa4_pbj5/assets\n"
     ]
    },
    {
     "name": "stdout",
     "output_type": "stream",
     "text": [
      "Full integer quantizatized TFLite model (2848144 Bytes) saved to: beans_models_optimized/MobileNetV2_beans_model_PolynomialDecay75_KMeansPlusPlus128_full_integer_quantization.tflite\n",
      "INFO:tensorflow:Assets written to: /tmp/tmpn2p6wvu1/assets\n"
     ]
    },
    {
     "name": "stderr",
     "output_type": "stream",
     "text": [
      "INFO:tensorflow:Assets written to: /tmp/tmpn2p6wvu1/assets\n"
     ]
    },
    {
     "name": "stdout",
     "output_type": "stream",
     "text": [
      "Full integer quantizatized with integer io TFLite model (2846896 Bytes) saved to: beans_models_optimized/MobileNetV2_beans_model_PolynomialDecay75_KMeansPlusPlus128_full_integer_quantization_integer_io.tflite\n",
      "INFO:tensorflow:Assets written to: /tmp/tmpg_kv7izm/assets\n"
     ]
    },
    {
     "name": "stderr",
     "output_type": "stream",
     "text": [
      "INFO:tensorflow:Assets written to: /tmp/tmpg_kv7izm/assets\n"
     ]
    },
    {
     "name": "stdout",
     "output_type": "stream",
     "text": [
      "float16 quantizatized TFLite model (4469136 Bytes) saved to: beans_models_optimized/MobileNetV2_beans_model_PolynomialDecay75_KMeansPlusPlus128_float16_quantization.tflite\n",
      "WARNING:tensorflow:No training configuration found in the save file, so the model was *not* compiled. Compile it manually.\n"
     ]
    },
    {
     "name": "stderr",
     "output_type": "stream",
     "text": [
      "WARNING:tensorflow:No training configuration found in the save file, so the model was *not* compiled. Compile it manually.\n"
     ]
    },
    {
     "name": "stdout",
     "output_type": "stream",
     "text": [
      "INFO:tensorflow:Assets written to: /tmp/tmps_ar5wb5/assets\n"
     ]
    },
    {
     "name": "stderr",
     "output_type": "stream",
     "text": [
      "INFO:tensorflow:Assets written to: /tmp/tmps_ar5wb5/assets\n"
     ]
    },
    {
     "name": "stdout",
     "output_type": "stream",
     "text": [
      "Converted TFLite model (16044956 Bytes) saved to: beans_models_optimized/EfficentNetB0_beans_model_PolynomialDecay90_KMeansPlusPlus32.tflite\n",
      "INFO:tensorflow:Assets written to: /tmp/tmpafckxr3_/assets\n"
     ]
    },
    {
     "name": "stderr",
     "output_type": "stream",
     "text": [
      "INFO:tensorflow:Assets written to: /tmp/tmpafckxr3_/assets\n"
     ]
    },
    {
     "name": "stdout",
     "output_type": "stream",
     "text": [
      "Dynamic range quantizatized TFLite model (4789504 Bytes) saved to: beans_models_optimized/EfficentNetB0_beans_model_PolynomialDecay90_KMeansPlusPlus32_dynamic_rage_quantization.tflite\n",
      "INFO:tensorflow:Assets written to: /tmp/tmp__0v9c24/assets\n"
     ]
    },
    {
     "name": "stderr",
     "output_type": "stream",
     "text": [
      "INFO:tensorflow:Assets written to: /tmp/tmp__0v9c24/assets\n"
     ]
    },
    {
     "name": "stdout",
     "output_type": "stream",
     "text": [
      "Full integer quantizatized TFLite model (5160800 Bytes) saved to: beans_models_optimized/EfficentNetB0_beans_model_PolynomialDecay90_KMeansPlusPlus32_full_integer_quantization.tflite\n",
      "INFO:tensorflow:Assets written to: /tmp/tmps3dadock/assets\n"
     ]
    },
    {
     "name": "stderr",
     "output_type": "stream",
     "text": [
      "INFO:tensorflow:Assets written to: /tmp/tmps3dadock/assets\n"
     ]
    },
    {
     "name": "stdout",
     "output_type": "stream",
     "text": [
      "ERROR: Failed Full integer quantizatized with integer io TFLite model\n",
      "INFO:tensorflow:Assets written to: /tmp/tmp5wxvi7pi/assets\n"
     ]
    },
    {
     "name": "stderr",
     "output_type": "stream",
     "text": [
      "INFO:tensorflow:Assets written to: /tmp/tmp5wxvi7pi/assets\n"
     ]
    },
    {
     "name": "stdout",
     "output_type": "stream",
     "text": [
      "float16 quantizatized TFLite model (8096720 Bytes) saved to: beans_models_optimized/EfficentNetB0_beans_model_PolynomialDecay90_KMeansPlusPlus32_float16_quantization.tflite\n",
      "WARNING:tensorflow:No training configuration found in the save file, so the model was *not* compiled. Compile it manually.\n"
     ]
    },
    {
     "name": "stderr",
     "output_type": "stream",
     "text": [
      "WARNING:tensorflow:No training configuration found in the save file, so the model was *not* compiled. Compile it manually.\n"
     ]
    },
    {
     "name": "stdout",
     "output_type": "stream",
     "text": [
      "INFO:tensorflow:Assets written to: /tmp/tmp_5j3btve/assets\n"
     ]
    },
    {
     "name": "stderr",
     "output_type": "stream",
     "text": [
      "INFO:tensorflow:Assets written to: /tmp/tmp_5j3btve/assets\n"
     ]
    },
    {
     "name": "stdout",
     "output_type": "stream",
     "text": [
      "Converted TFLite model (8873924 Bytes) saved to: beans_models_optimized/MobileNetV2_beans_model_PolynomialDecay50.tflite\n",
      "INFO:tensorflow:Assets written to: /tmp/tmpf0qmgx3s/assets\n"
     ]
    },
    {
     "name": "stderr",
     "output_type": "stream",
     "text": [
      "INFO:tensorflow:Assets written to: /tmp/tmpf0qmgx3s/assets\n"
     ]
    },
    {
     "name": "stdout",
     "output_type": "stream",
     "text": [
      "Dynamic range quantizatized TFLite model (2641872 Bytes) saved to: beans_models_optimized/MobileNetV2_beans_model_PolynomialDecay50_dynamic_rage_quantization.tflite\n",
      "INFO:tensorflow:Assets written to: /tmp/tmpny4kh6e7/assets\n"
     ]
    },
    {
     "name": "stderr",
     "output_type": "stream",
     "text": [
      "INFO:tensorflow:Assets written to: /tmp/tmpny4kh6e7/assets\n"
     ]
    },
    {
     "name": "stdout",
     "output_type": "stream",
     "text": [
      "Full integer quantizatized TFLite model (2848144 Bytes) saved to: beans_models_optimized/MobileNetV2_beans_model_PolynomialDecay50_full_integer_quantization.tflite\n",
      "INFO:tensorflow:Assets written to: /tmp/tmpopyx8f8n/assets\n"
     ]
    },
    {
     "name": "stderr",
     "output_type": "stream",
     "text": [
      "INFO:tensorflow:Assets written to: /tmp/tmpopyx8f8n/assets\n"
     ]
    },
    {
     "name": "stdout",
     "output_type": "stream",
     "text": [
      "Full integer quantizatized with integer io TFLite model (2846896 Bytes) saved to: beans_models_optimized/MobileNetV2_beans_model_PolynomialDecay50_full_integer_quantization_integer_io.tflite\n",
      "INFO:tensorflow:Assets written to: /tmp/tmprqbalh5g/assets\n"
     ]
    },
    {
     "name": "stderr",
     "output_type": "stream",
     "text": [
      "INFO:tensorflow:Assets written to: /tmp/tmprqbalh5g/assets\n"
     ]
    },
    {
     "name": "stdout",
     "output_type": "stream",
     "text": [
      "float16 quantizatized TFLite model (4469136 Bytes) saved to: beans_models_optimized/MobileNetV2_beans_model_PolynomialDecay50_float16_quantization.tflite\n",
      "WARNING:tensorflow:No training configuration found in the save file, so the model was *not* compiled. Compile it manually.\n"
     ]
    },
    {
     "name": "stderr",
     "output_type": "stream",
     "text": [
      "WARNING:tensorflow:No training configuration found in the save file, so the model was *not* compiled. Compile it manually.\n"
     ]
    },
    {
     "name": "stdout",
     "output_type": "stream",
     "text": [
      "INFO:tensorflow:Assets written to: /tmp/tmpep59jg3h/assets\n"
     ]
    },
    {
     "name": "stderr",
     "output_type": "stream",
     "text": [
      "INFO:tensorflow:Assets written to: /tmp/tmpep59jg3h/assets\n"
     ]
    },
    {
     "name": "stdout",
     "output_type": "stream",
     "text": [
      "Converted TFLite model (8873924 Bytes) saved to: beans_models_optimized/MobileNetV2_beans_model_PolynomialDecay75.tflite\n",
      "INFO:tensorflow:Assets written to: /tmp/tmp3y4lnop0/assets\n"
     ]
    },
    {
     "name": "stderr",
     "output_type": "stream",
     "text": [
      "INFO:tensorflow:Assets written to: /tmp/tmp3y4lnop0/assets\n"
     ]
    },
    {
     "name": "stdout",
     "output_type": "stream",
     "text": [
      "Dynamic range quantizatized TFLite model (2641872 Bytes) saved to: beans_models_optimized/MobileNetV2_beans_model_PolynomialDecay75_dynamic_rage_quantization.tflite\n",
      "INFO:tensorflow:Assets written to: /tmp/tmp4kmx0zi_/assets\n"
     ]
    },
    {
     "name": "stderr",
     "output_type": "stream",
     "text": [
      "INFO:tensorflow:Assets written to: /tmp/tmp4kmx0zi_/assets\n"
     ]
    },
    {
     "name": "stdout",
     "output_type": "stream",
     "text": [
      "Full integer quantizatized TFLite model (2848144 Bytes) saved to: beans_models_optimized/MobileNetV2_beans_model_PolynomialDecay75_full_integer_quantization.tflite\n",
      "INFO:tensorflow:Assets written to: /tmp/tmpgict2z_j/assets\n"
     ]
    },
    {
     "name": "stderr",
     "output_type": "stream",
     "text": [
      "INFO:tensorflow:Assets written to: /tmp/tmpgict2z_j/assets\n"
     ]
    },
    {
     "name": "stdout",
     "output_type": "stream",
     "text": [
      "Full integer quantizatized with integer io TFLite model (2846896 Bytes) saved to: beans_models_optimized/MobileNetV2_beans_model_PolynomialDecay75_full_integer_quantization_integer_io.tflite\n",
      "INFO:tensorflow:Assets written to: /tmp/tmptkvs2chz/assets\n"
     ]
    },
    {
     "name": "stderr",
     "output_type": "stream",
     "text": [
      "INFO:tensorflow:Assets written to: /tmp/tmptkvs2chz/assets\n"
     ]
    },
    {
     "name": "stdout",
     "output_type": "stream",
     "text": [
      "float16 quantizatized TFLite model (4469136 Bytes) saved to: beans_models_optimized/MobileNetV2_beans_model_PolynomialDecay75_float16_quantization.tflite\n",
      "WARNING:tensorflow:No training configuration found in the save file, so the model was *not* compiled. Compile it manually.\n"
     ]
    },
    {
     "name": "stderr",
     "output_type": "stream",
     "text": [
      "WARNING:tensorflow:No training configuration found in the save file, so the model was *not* compiled. Compile it manually.\n"
     ]
    },
    {
     "name": "stdout",
     "output_type": "stream",
     "text": [
      "INFO:tensorflow:Assets written to: /tmp/tmpitojmnay/assets\n"
     ]
    },
    {
     "name": "stderr",
     "output_type": "stream",
     "text": [
      "INFO:tensorflow:Assets written to: /tmp/tmpitojmnay/assets\n"
     ]
    },
    {
     "name": "stdout",
     "output_type": "stream",
     "text": [
      "Converted TFLite model (8873924 Bytes) saved to: beans_models_optimized/MobileNetV2_beans_model_PolynomialDecay90_KMeansPlusPlus32.tflite\n",
      "INFO:tensorflow:Assets written to: /tmp/tmpn3neaq2f/assets\n"
     ]
    },
    {
     "name": "stderr",
     "output_type": "stream",
     "text": [
      "INFO:tensorflow:Assets written to: /tmp/tmpn3neaq2f/assets\n"
     ]
    },
    {
     "name": "stdout",
     "output_type": "stream",
     "text": [
      "Dynamic range quantizatized TFLite model (2641872 Bytes) saved to: beans_models_optimized/MobileNetV2_beans_model_PolynomialDecay90_KMeansPlusPlus32_dynamic_rage_quantization.tflite\n",
      "INFO:tensorflow:Assets written to: /tmp/tmp09g8cfyk/assets\n"
     ]
    },
    {
     "name": "stderr",
     "output_type": "stream",
     "text": [
      "INFO:tensorflow:Assets written to: /tmp/tmp09g8cfyk/assets\n"
     ]
    },
    {
     "name": "stdout",
     "output_type": "stream",
     "text": [
      "Full integer quantizatized TFLite model (2848144 Bytes) saved to: beans_models_optimized/MobileNetV2_beans_model_PolynomialDecay90_KMeansPlusPlus32_full_integer_quantization.tflite\n",
      "INFO:tensorflow:Assets written to: /tmp/tmp__a3s2ja/assets\n"
     ]
    },
    {
     "name": "stderr",
     "output_type": "stream",
     "text": [
      "INFO:tensorflow:Assets written to: /tmp/tmp__a3s2ja/assets\n"
     ]
    },
    {
     "name": "stdout",
     "output_type": "stream",
     "text": [
      "Full integer quantizatized with integer io TFLite model (2846896 Bytes) saved to: beans_models_optimized/MobileNetV2_beans_model_PolynomialDecay90_KMeansPlusPlus32_full_integer_quantization_integer_io.tflite\n",
      "INFO:tensorflow:Assets written to: /tmp/tmpvmitfn1b/assets\n"
     ]
    },
    {
     "name": "stderr",
     "output_type": "stream",
     "text": [
      "INFO:tensorflow:Assets written to: /tmp/tmpvmitfn1b/assets\n"
     ]
    },
    {
     "name": "stdout",
     "output_type": "stream",
     "text": [
      "float16 quantizatized TFLite model (4469136 Bytes) saved to: beans_models_optimized/MobileNetV2_beans_model_PolynomialDecay90_KMeansPlusPlus32_float16_quantization.tflite\n",
      "WARNING:tensorflow:No training configuration found in the save file, so the model was *not* compiled. Compile it manually.\n"
     ]
    },
    {
     "name": "stderr",
     "output_type": "stream",
     "text": [
      "WARNING:tensorflow:No training configuration found in the save file, so the model was *not* compiled. Compile it manually.\n"
     ]
    },
    {
     "name": "stdout",
     "output_type": "stream",
     "text": [
      "INFO:tensorflow:Assets written to: /tmp/tmppygvqats/assets\n"
     ]
    },
    {
     "name": "stderr",
     "output_type": "stream",
     "text": [
      "INFO:tensorflow:Assets written to: /tmp/tmppygvqats/assets\n"
     ]
    },
    {
     "name": "stdout",
     "output_type": "stream",
     "text": [
      "Converted TFLite model (8873924 Bytes) saved to: beans_models_optimized/MobileNetV2_beans_model_KMeansPlusPlus128.tflite\n",
      "INFO:tensorflow:Assets written to: /tmp/tmpbgrns4xp/assets\n"
     ]
    },
    {
     "name": "stderr",
     "output_type": "stream",
     "text": [
      "INFO:tensorflow:Assets written to: /tmp/tmpbgrns4xp/assets\n"
     ]
    },
    {
     "name": "stdout",
     "output_type": "stream",
     "text": [
      "Dynamic range quantizatized TFLite model (2641872 Bytes) saved to: beans_models_optimized/MobileNetV2_beans_model_KMeansPlusPlus128_dynamic_rage_quantization.tflite\n",
      "INFO:tensorflow:Assets written to: /tmp/tmpe2_8llme/assets\n"
     ]
    },
    {
     "name": "stderr",
     "output_type": "stream",
     "text": [
      "INFO:tensorflow:Assets written to: /tmp/tmpe2_8llme/assets\n"
     ]
    },
    {
     "name": "stdout",
     "output_type": "stream",
     "text": [
      "Full integer quantizatized TFLite model (2848144 Bytes) saved to: beans_models_optimized/MobileNetV2_beans_model_KMeansPlusPlus128_full_integer_quantization.tflite\n",
      "INFO:tensorflow:Assets written to: /tmp/tmpn_jdr_l3/assets\n"
     ]
    },
    {
     "name": "stderr",
     "output_type": "stream",
     "text": [
      "INFO:tensorflow:Assets written to: /tmp/tmpn_jdr_l3/assets\n"
     ]
    },
    {
     "name": "stdout",
     "output_type": "stream",
     "text": [
      "Full integer quantizatized with integer io TFLite model (2846896 Bytes) saved to: beans_models_optimized/MobileNetV2_beans_model_KMeansPlusPlus128_full_integer_quantization_integer_io.tflite\n",
      "INFO:tensorflow:Assets written to: /tmp/tmp6tw39i6f/assets\n"
     ]
    },
    {
     "name": "stderr",
     "output_type": "stream",
     "text": [
      "INFO:tensorflow:Assets written to: /tmp/tmp6tw39i6f/assets\n"
     ]
    },
    {
     "name": "stdout",
     "output_type": "stream",
     "text": [
      "float16 quantizatized TFLite model (4469136 Bytes) saved to: beans_models_optimized/MobileNetV2_beans_model_KMeansPlusPlus128_float16_quantization.tflite\n",
      "WARNING:tensorflow:No training configuration found in the save file, so the model was *not* compiled. Compile it manually.\n"
     ]
    },
    {
     "name": "stderr",
     "output_type": "stream",
     "text": [
      "WARNING:tensorflow:No training configuration found in the save file, so the model was *not* compiled. Compile it manually.\n"
     ]
    },
    {
     "name": "stdout",
     "output_type": "stream",
     "text": [
      "INFO:tensorflow:Assets written to: /tmp/tmpppv5s1wy/assets\n"
     ]
    },
    {
     "name": "stderr",
     "output_type": "stream",
     "text": [
      "INFO:tensorflow:Assets written to: /tmp/tmpppv5s1wy/assets\n"
     ]
    },
    {
     "name": "stdout",
     "output_type": "stream",
     "text": [
      "Converted TFLite model (16044956 Bytes) saved to: beans_models_optimized/EfficentNetB0_beans_model_PolynomialDecay75_KMeansPlusPlus32.tflite\n",
      "INFO:tensorflow:Assets written to: /tmp/tmpwa7sqkwo/assets\n"
     ]
    },
    {
     "name": "stderr",
     "output_type": "stream",
     "text": [
      "INFO:tensorflow:Assets written to: /tmp/tmpwa7sqkwo/assets\n"
     ]
    },
    {
     "name": "stdout",
     "output_type": "stream",
     "text": [
      "Dynamic range quantizatized TFLite model (4789504 Bytes) saved to: beans_models_optimized/EfficentNetB0_beans_model_PolynomialDecay75_KMeansPlusPlus32_dynamic_rage_quantization.tflite\n",
      "INFO:tensorflow:Assets written to: /tmp/tmpw84fdtfj/assets\n"
     ]
    },
    {
     "name": "stderr",
     "output_type": "stream",
     "text": [
      "INFO:tensorflow:Assets written to: /tmp/tmpw84fdtfj/assets\n"
     ]
    },
    {
     "name": "stdout",
     "output_type": "stream",
     "text": [
      "Full integer quantizatized TFLite model (5160800 Bytes) saved to: beans_models_optimized/EfficentNetB0_beans_model_PolynomialDecay75_KMeansPlusPlus32_full_integer_quantization.tflite\n",
      "INFO:tensorflow:Assets written to: /tmp/tmp_dk9serj/assets\n"
     ]
    },
    {
     "name": "stderr",
     "output_type": "stream",
     "text": [
      "INFO:tensorflow:Assets written to: /tmp/tmp_dk9serj/assets\n"
     ]
    },
    {
     "name": "stdout",
     "output_type": "stream",
     "text": [
      "ERROR: Failed Full integer quantizatized with integer io TFLite model\n",
      "INFO:tensorflow:Assets written to: /tmp/tmpgc5kinl5/assets\n"
     ]
    },
    {
     "name": "stderr",
     "output_type": "stream",
     "text": [
      "INFO:tensorflow:Assets written to: /tmp/tmpgc5kinl5/assets\n"
     ]
    },
    {
     "name": "stdout",
     "output_type": "stream",
     "text": [
      "float16 quantizatized TFLite model (8096720 Bytes) saved to: beans_models_optimized/EfficentNetB0_beans_model_PolynomialDecay75_KMeansPlusPlus32_float16_quantization.tflite\n",
      "WARNING:tensorflow:No training configuration found in the save file, so the model was *not* compiled. Compile it manually.\n"
     ]
    },
    {
     "name": "stderr",
     "output_type": "stream",
     "text": [
      "WARNING:tensorflow:No training configuration found in the save file, so the model was *not* compiled. Compile it manually.\n"
     ]
    },
    {
     "name": "stdout",
     "output_type": "stream",
     "text": [
      "INFO:tensorflow:Assets written to: /tmp/tmp1ytjedlz/assets\n"
     ]
    },
    {
     "name": "stderr",
     "output_type": "stream",
     "text": [
      "INFO:tensorflow:Assets written to: /tmp/tmp1ytjedlz/assets\n"
     ]
    },
    {
     "name": "stdout",
     "output_type": "stream",
     "text": [
      "Converted TFLite model (16044956 Bytes) saved to: beans_models_optimized/EfficentNetB0_beans_model_PolynomialDecay50.tflite\n",
      "INFO:tensorflow:Assets written to: /tmp/tmp26hcj2lj/assets\n"
     ]
    },
    {
     "name": "stderr",
     "output_type": "stream",
     "text": [
      "INFO:tensorflow:Assets written to: /tmp/tmp26hcj2lj/assets\n"
     ]
    },
    {
     "name": "stdout",
     "output_type": "stream",
     "text": [
      "Dynamic range quantizatized TFLite model (4789504 Bytes) saved to: beans_models_optimized/EfficentNetB0_beans_model_PolynomialDecay50_dynamic_rage_quantization.tflite\n",
      "INFO:tensorflow:Assets written to: /tmp/tmpib5c6356/assets\n"
     ]
    },
    {
     "name": "stderr",
     "output_type": "stream",
     "text": [
      "INFO:tensorflow:Assets written to: /tmp/tmpib5c6356/assets\n"
     ]
    },
    {
     "name": "stdout",
     "output_type": "stream",
     "text": [
      "Full integer quantizatized TFLite model (5160800 Bytes) saved to: beans_models_optimized/EfficentNetB0_beans_model_PolynomialDecay50_full_integer_quantization.tflite\n",
      "INFO:tensorflow:Assets written to: /tmp/tmpndif4s6y/assets\n"
     ]
    },
    {
     "name": "stderr",
     "output_type": "stream",
     "text": [
      "INFO:tensorflow:Assets written to: /tmp/tmpndif4s6y/assets\n"
     ]
    },
    {
     "name": "stdout",
     "output_type": "stream",
     "text": [
      "ERROR: Failed Full integer quantizatized with integer io TFLite model\n",
      "INFO:tensorflow:Assets written to: /tmp/tmp7jta80y6/assets\n"
     ]
    },
    {
     "name": "stderr",
     "output_type": "stream",
     "text": [
      "INFO:tensorflow:Assets written to: /tmp/tmp7jta80y6/assets\n"
     ]
    },
    {
     "name": "stdout",
     "output_type": "stream",
     "text": [
      "float16 quantizatized TFLite model (8096720 Bytes) saved to: beans_models_optimized/EfficentNetB0_beans_model_PolynomialDecay50_float16_quantization.tflite\n",
      "WARNING:tensorflow:No training configuration found in the save file, so the model was *not* compiled. Compile it manually.\n"
     ]
    },
    {
     "name": "stderr",
     "output_type": "stream",
     "text": [
      "WARNING:tensorflow:No training configuration found in the save file, so the model was *not* compiled. Compile it manually.\n"
     ]
    },
    {
     "name": "stdout",
     "output_type": "stream",
     "text": [
      "INFO:tensorflow:Assets written to: /tmp/tmpvqysu4zj/assets\n"
     ]
    },
    {
     "name": "stderr",
     "output_type": "stream",
     "text": [
      "INFO:tensorflow:Assets written to: /tmp/tmpvqysu4zj/assets\n"
     ]
    },
    {
     "name": "stdout",
     "output_type": "stream",
     "text": [
      "Converted TFLite model (16044956 Bytes) saved to: beans_models_optimized/EfficentNetB0_beans_model_ConstantSparsity90.tflite\n",
      "INFO:tensorflow:Assets written to: /tmp/tmpf4_ielc6/assets\n"
     ]
    },
    {
     "name": "stderr",
     "output_type": "stream",
     "text": [
      "INFO:tensorflow:Assets written to: /tmp/tmpf4_ielc6/assets\n"
     ]
    },
    {
     "name": "stdout",
     "output_type": "stream",
     "text": [
      "Dynamic range quantizatized TFLite model (4789504 Bytes) saved to: beans_models_optimized/EfficentNetB0_beans_model_ConstantSparsity90_dynamic_rage_quantization.tflite\n",
      "INFO:tensorflow:Assets written to: /tmp/tmpbnjss7fc/assets\n"
     ]
    },
    {
     "name": "stderr",
     "output_type": "stream",
     "text": [
      "INFO:tensorflow:Assets written to: /tmp/tmpbnjss7fc/assets\n"
     ]
    },
    {
     "name": "stdout",
     "output_type": "stream",
     "text": [
      "Full integer quantizatized TFLite model (5160800 Bytes) saved to: beans_models_optimized/EfficentNetB0_beans_model_ConstantSparsity90_full_integer_quantization.tflite\n",
      "INFO:tensorflow:Assets written to: /tmp/tmplmasugkx/assets\n"
     ]
    },
    {
     "name": "stderr",
     "output_type": "stream",
     "text": [
      "INFO:tensorflow:Assets written to: /tmp/tmplmasugkx/assets\n"
     ]
    },
    {
     "name": "stdout",
     "output_type": "stream",
     "text": [
      "ERROR: Failed Full integer quantizatized with integer io TFLite model\n",
      "INFO:tensorflow:Assets written to: /tmp/tmp7l9622sn/assets\n"
     ]
    },
    {
     "name": "stderr",
     "output_type": "stream",
     "text": [
      "INFO:tensorflow:Assets written to: /tmp/tmp7l9622sn/assets\n"
     ]
    },
    {
     "name": "stdout",
     "output_type": "stream",
     "text": [
      "float16 quantizatized TFLite model (8096720 Bytes) saved to: beans_models_optimized/EfficentNetB0_beans_model_ConstantSparsity90_float16_quantization.tflite\n",
      "WARNING:tensorflow:No training configuration found in the save file, so the model was *not* compiled. Compile it manually.\n"
     ]
    },
    {
     "name": "stderr",
     "output_type": "stream",
     "text": [
      "WARNING:tensorflow:No training configuration found in the save file, so the model was *not* compiled. Compile it manually.\n"
     ]
    },
    {
     "name": "stdout",
     "output_type": "stream",
     "text": [
      "INFO:tensorflow:Assets written to: /tmp/tmplxm0a7a6/assets\n"
     ]
    },
    {
     "name": "stderr",
     "output_type": "stream",
     "text": [
      "INFO:tensorflow:Assets written to: /tmp/tmplxm0a7a6/assets\n"
     ]
    },
    {
     "name": "stdout",
     "output_type": "stream",
     "text": [
      "Converted TFLite model (16044956 Bytes) saved to: beans_models_optimized/EfficentNetB0_beans_model_ConstantSparsity50_KMeansPlusPlus32.tflite\n",
      "INFO:tensorflow:Assets written to: /tmp/tmp6lhiidxh/assets\n"
     ]
    },
    {
     "name": "stderr",
     "output_type": "stream",
     "text": [
      "INFO:tensorflow:Assets written to: /tmp/tmp6lhiidxh/assets\n"
     ]
    },
    {
     "name": "stdout",
     "output_type": "stream",
     "text": [
      "Dynamic range quantizatized TFLite model (4789504 Bytes) saved to: beans_models_optimized/EfficentNetB0_beans_model_ConstantSparsity50_KMeansPlusPlus32_dynamic_rage_quantization.tflite\n",
      "INFO:tensorflow:Assets written to: /tmp/tmpet904u5s/assets\n"
     ]
    },
    {
     "name": "stderr",
     "output_type": "stream",
     "text": [
      "INFO:tensorflow:Assets written to: /tmp/tmpet904u5s/assets\n"
     ]
    },
    {
     "name": "stdout",
     "output_type": "stream",
     "text": [
      "Full integer quantizatized TFLite model (5160800 Bytes) saved to: beans_models_optimized/EfficentNetB0_beans_model_ConstantSparsity50_KMeansPlusPlus32_full_integer_quantization.tflite\n",
      "INFO:tensorflow:Assets written to: /tmp/tmpxtnjng6m/assets\n"
     ]
    },
    {
     "name": "stderr",
     "output_type": "stream",
     "text": [
      "INFO:tensorflow:Assets written to: /tmp/tmpxtnjng6m/assets\n"
     ]
    },
    {
     "name": "stdout",
     "output_type": "stream",
     "text": [
      "ERROR: Failed Full integer quantizatized with integer io TFLite model\n",
      "INFO:tensorflow:Assets written to: /tmp/tmpzy8_qh7p/assets\n"
     ]
    },
    {
     "name": "stderr",
     "output_type": "stream",
     "text": [
      "INFO:tensorflow:Assets written to: /tmp/tmpzy8_qh7p/assets\n"
     ]
    },
    {
     "name": "stdout",
     "output_type": "stream",
     "text": [
      "float16 quantizatized TFLite model (8096720 Bytes) saved to: beans_models_optimized/EfficentNetB0_beans_model_ConstantSparsity50_KMeansPlusPlus32_float16_quantization.tflite\n",
      "WARNING:tensorflow:No training configuration found in the save file, so the model was *not* compiled. Compile it manually.\n"
     ]
    },
    {
     "name": "stderr",
     "output_type": "stream",
     "text": [
      "WARNING:tensorflow:No training configuration found in the save file, so the model was *not* compiled. Compile it manually.\n"
     ]
    },
    {
     "name": "stdout",
     "output_type": "stream",
     "text": [
      "INFO:tensorflow:Assets written to: /tmp/tmp_ljta97j/assets\n"
     ]
    },
    {
     "name": "stderr",
     "output_type": "stream",
     "text": [
      "INFO:tensorflow:Assets written to: /tmp/tmp_ljta97j/assets\n"
     ]
    },
    {
     "name": "stdout",
     "output_type": "stream",
     "text": [
      "Converted TFLite model (16044956 Bytes) saved to: beans_models_optimized/EfficentNetB0_beans_model_PolynomialDecay50_KMeansPlusPlus32.tflite\n",
      "INFO:tensorflow:Assets written to: /tmp/tmp6hnr_ru5/assets\n"
     ]
    },
    {
     "name": "stderr",
     "output_type": "stream",
     "text": [
      "INFO:tensorflow:Assets written to: /tmp/tmp6hnr_ru5/assets\n"
     ]
    },
    {
     "name": "stdout",
     "output_type": "stream",
     "text": [
      "Dynamic range quantizatized TFLite model (4789504 Bytes) saved to: beans_models_optimized/EfficentNetB0_beans_model_PolynomialDecay50_KMeansPlusPlus32_dynamic_rage_quantization.tflite\n",
      "INFO:tensorflow:Assets written to: /tmp/tmp6jp4l1jm/assets\n"
     ]
    },
    {
     "name": "stderr",
     "output_type": "stream",
     "text": [
      "INFO:tensorflow:Assets written to: /tmp/tmp6jp4l1jm/assets\n"
     ]
    },
    {
     "name": "stdout",
     "output_type": "stream",
     "text": [
      "Full integer quantizatized TFLite model (5160800 Bytes) saved to: beans_models_optimized/EfficentNetB0_beans_model_PolynomialDecay50_KMeansPlusPlus32_full_integer_quantization.tflite\n",
      "INFO:tensorflow:Assets written to: /tmp/tmpzi9w7yj1/assets\n"
     ]
    },
    {
     "name": "stderr",
     "output_type": "stream",
     "text": [
      "INFO:tensorflow:Assets written to: /tmp/tmpzi9w7yj1/assets\n"
     ]
    },
    {
     "name": "stdout",
     "output_type": "stream",
     "text": [
      "ERROR: Failed Full integer quantizatized with integer io TFLite model\n",
      "INFO:tensorflow:Assets written to: /tmp/tmpie8opi61/assets\n"
     ]
    },
    {
     "name": "stderr",
     "output_type": "stream",
     "text": [
      "INFO:tensorflow:Assets written to: /tmp/tmpie8opi61/assets\n"
     ]
    },
    {
     "name": "stdout",
     "output_type": "stream",
     "text": [
      "float16 quantizatized TFLite model (8096720 Bytes) saved to: beans_models_optimized/EfficentNetB0_beans_model_PolynomialDecay50_KMeansPlusPlus32_float16_quantization.tflite\n",
      "WARNING:tensorflow:No training configuration found in the save file, so the model was *not* compiled. Compile it manually.\n"
     ]
    },
    {
     "name": "stderr",
     "output_type": "stream",
     "text": [
      "WARNING:tensorflow:No training configuration found in the save file, so the model was *not* compiled. Compile it manually.\n"
     ]
    },
    {
     "name": "stdout",
     "output_type": "stream",
     "text": [
      "INFO:tensorflow:Assets written to: /tmp/tmp5tod8w41/assets\n"
     ]
    },
    {
     "name": "stderr",
     "output_type": "stream",
     "text": [
      "INFO:tensorflow:Assets written to: /tmp/tmp5tod8w41/assets\n"
     ]
    },
    {
     "name": "stdout",
     "output_type": "stream",
     "text": [
      "Converted TFLite model (16044956 Bytes) saved to: beans_models_optimized/EfficentNetB0_beans_model_ConstantSparsity90_KMeansPlusPlus128.tflite\n",
      "INFO:tensorflow:Assets written to: /tmp/tmphehbcyk_/assets\n"
     ]
    },
    {
     "name": "stderr",
     "output_type": "stream",
     "text": [
      "INFO:tensorflow:Assets written to: /tmp/tmphehbcyk_/assets\n"
     ]
    },
    {
     "name": "stdout",
     "output_type": "stream",
     "text": [
      "Dynamic range quantizatized TFLite model (4789504 Bytes) saved to: beans_models_optimized/EfficentNetB0_beans_model_ConstantSparsity90_KMeansPlusPlus128_dynamic_rage_quantization.tflite\n",
      "INFO:tensorflow:Assets written to: /tmp/tmpk308jous/assets\n"
     ]
    },
    {
     "name": "stderr",
     "output_type": "stream",
     "text": [
      "INFO:tensorflow:Assets written to: /tmp/tmpk308jous/assets\n"
     ]
    },
    {
     "name": "stdout",
     "output_type": "stream",
     "text": [
      "Full integer quantizatized TFLite model (5160800 Bytes) saved to: beans_models_optimized/EfficentNetB0_beans_model_ConstantSparsity90_KMeansPlusPlus128_full_integer_quantization.tflite\n",
      "INFO:tensorflow:Assets written to: /tmp/tmpu1ik1v29/assets\n"
     ]
    },
    {
     "name": "stderr",
     "output_type": "stream",
     "text": [
      "INFO:tensorflow:Assets written to: /tmp/tmpu1ik1v29/assets\n"
     ]
    },
    {
     "name": "stdout",
     "output_type": "stream",
     "text": [
      "ERROR: Failed Full integer quantizatized with integer io TFLite model\n",
      "INFO:tensorflow:Assets written to: /tmp/tmpt26jm3a8/assets\n"
     ]
    },
    {
     "name": "stderr",
     "output_type": "stream",
     "text": [
      "INFO:tensorflow:Assets written to: /tmp/tmpt26jm3a8/assets\n"
     ]
    },
    {
     "name": "stdout",
     "output_type": "stream",
     "text": [
      "float16 quantizatized TFLite model (8096720 Bytes) saved to: beans_models_optimized/EfficentNetB0_beans_model_ConstantSparsity90_KMeansPlusPlus128_float16_quantization.tflite\n",
      "WARNING:tensorflow:No training configuration found in the save file, so the model was *not* compiled. Compile it manually.\n"
     ]
    },
    {
     "name": "stderr",
     "output_type": "stream",
     "text": [
      "WARNING:tensorflow:No training configuration found in the save file, so the model was *not* compiled. Compile it manually.\n"
     ]
    },
    {
     "name": "stdout",
     "output_type": "stream",
     "text": [
      "INFO:tensorflow:Assets written to: /tmp/tmpdz35fp9l/assets\n"
     ]
    },
    {
     "name": "stderr",
     "output_type": "stream",
     "text": [
      "INFO:tensorflow:Assets written to: /tmp/tmpdz35fp9l/assets\n"
     ]
    },
    {
     "name": "stdout",
     "output_type": "stream",
     "text": [
      "Converted TFLite model (8873924 Bytes) saved to: beans_models_optimized/MobileNetV2_beans_model_KMeansPlusPlus32.tflite\n",
      "INFO:tensorflow:Assets written to: /tmp/tmpf3ol6804/assets\n"
     ]
    },
    {
     "name": "stderr",
     "output_type": "stream",
     "text": [
      "INFO:tensorflow:Assets written to: /tmp/tmpf3ol6804/assets\n"
     ]
    },
    {
     "name": "stdout",
     "output_type": "stream",
     "text": [
      "Dynamic range quantizatized TFLite model (2641872 Bytes) saved to: beans_models_optimized/MobileNetV2_beans_model_KMeansPlusPlus32_dynamic_rage_quantization.tflite\n",
      "INFO:tensorflow:Assets written to: /tmp/tmp73_qb09p/assets\n"
     ]
    },
    {
     "name": "stderr",
     "output_type": "stream",
     "text": [
      "INFO:tensorflow:Assets written to: /tmp/tmp73_qb09p/assets\n"
     ]
    },
    {
     "name": "stdout",
     "output_type": "stream",
     "text": [
      "Full integer quantizatized TFLite model (2848144 Bytes) saved to: beans_models_optimized/MobileNetV2_beans_model_KMeansPlusPlus32_full_integer_quantization.tflite\n",
      "INFO:tensorflow:Assets written to: /tmp/tmp3do2xnly/assets\n"
     ]
    },
    {
     "name": "stderr",
     "output_type": "stream",
     "text": [
      "INFO:tensorflow:Assets written to: /tmp/tmp3do2xnly/assets\n"
     ]
    },
    {
     "name": "stdout",
     "output_type": "stream",
     "text": [
      "Full integer quantizatized with integer io TFLite model (2846896 Bytes) saved to: beans_models_optimized/MobileNetV2_beans_model_KMeansPlusPlus32_full_integer_quantization_integer_io.tflite\n",
      "INFO:tensorflow:Assets written to: /tmp/tmpbvoyehoq/assets\n"
     ]
    },
    {
     "name": "stderr",
     "output_type": "stream",
     "text": [
      "INFO:tensorflow:Assets written to: /tmp/tmpbvoyehoq/assets\n"
     ]
    },
    {
     "name": "stdout",
     "output_type": "stream",
     "text": [
      "float16 quantizatized TFLite model (4469136 Bytes) saved to: beans_models_optimized/MobileNetV2_beans_model_KMeansPlusPlus32_float16_quantization.tflite\n",
      "WARNING:tensorflow:No training configuration found in the save file, so the model was *not* compiled. Compile it manually.\n"
     ]
    },
    {
     "name": "stderr",
     "output_type": "stream",
     "text": [
      "WARNING:tensorflow:No training configuration found in the save file, so the model was *not* compiled. Compile it manually.\n"
     ]
    },
    {
     "name": "stdout",
     "output_type": "stream",
     "text": [
      "INFO:tensorflow:Assets written to: /tmp/tmpshzzsdrj/assets\n"
     ]
    },
    {
     "name": "stderr",
     "output_type": "stream",
     "text": [
      "INFO:tensorflow:Assets written to: /tmp/tmpshzzsdrj/assets\n"
     ]
    },
    {
     "name": "stdout",
     "output_type": "stream",
     "text": [
      "Converted TFLite model (8873924 Bytes) saved to: beans_models_optimized/MobileNetV2_beans_model_ConstantSparsity75_KMeansPlusPlus128.tflite\n",
      "INFO:tensorflow:Assets written to: /tmp/tmp5v3lv3ow/assets\n"
     ]
    },
    {
     "name": "stderr",
     "output_type": "stream",
     "text": [
      "INFO:tensorflow:Assets written to: /tmp/tmp5v3lv3ow/assets\n"
     ]
    },
    {
     "name": "stdout",
     "output_type": "stream",
     "text": [
      "Dynamic range quantizatized TFLite model (2641872 Bytes) saved to: beans_models_optimized/MobileNetV2_beans_model_ConstantSparsity75_KMeansPlusPlus128_dynamic_rage_quantization.tflite\n",
      "INFO:tensorflow:Assets written to: /tmp/tmpsxnbz4cg/assets\n"
     ]
    },
    {
     "name": "stderr",
     "output_type": "stream",
     "text": [
      "INFO:tensorflow:Assets written to: /tmp/tmpsxnbz4cg/assets\n"
     ]
    },
    {
     "name": "stdout",
     "output_type": "stream",
     "text": [
      "Full integer quantizatized TFLite model (2848144 Bytes) saved to: beans_models_optimized/MobileNetV2_beans_model_ConstantSparsity75_KMeansPlusPlus128_full_integer_quantization.tflite\n",
      "INFO:tensorflow:Assets written to: /tmp/tmpa2by8bq4/assets\n"
     ]
    },
    {
     "name": "stderr",
     "output_type": "stream",
     "text": [
      "INFO:tensorflow:Assets written to: /tmp/tmpa2by8bq4/assets\n"
     ]
    },
    {
     "name": "stdout",
     "output_type": "stream",
     "text": [
      "Full integer quantizatized with integer io TFLite model (2846896 Bytes) saved to: beans_models_optimized/MobileNetV2_beans_model_ConstantSparsity75_KMeansPlusPlus128_full_integer_quantization_integer_io.tflite\n",
      "INFO:tensorflow:Assets written to: /tmp/tmp3rsbvatu/assets\n"
     ]
    },
    {
     "name": "stderr",
     "output_type": "stream",
     "text": [
      "INFO:tensorflow:Assets written to: /tmp/tmp3rsbvatu/assets\n"
     ]
    },
    {
     "name": "stdout",
     "output_type": "stream",
     "text": [
      "float16 quantizatized TFLite model (4469136 Bytes) saved to: beans_models_optimized/MobileNetV2_beans_model_ConstantSparsity75_KMeansPlusPlus128_float16_quantization.tflite\n",
      "WARNING:tensorflow:No training configuration found in the save file, so the model was *not* compiled. Compile it manually.\n"
     ]
    },
    {
     "name": "stderr",
     "output_type": "stream",
     "text": [
      "WARNING:tensorflow:No training configuration found in the save file, so the model was *not* compiled. Compile it manually.\n"
     ]
    },
    {
     "name": "stdout",
     "output_type": "stream",
     "text": [
      "INFO:tensorflow:Assets written to: /tmp/tmpa300aava/assets\n"
     ]
    },
    {
     "name": "stderr",
     "output_type": "stream",
     "text": [
      "INFO:tensorflow:Assets written to: /tmp/tmpa300aava/assets\n"
     ]
    },
    {
     "name": "stdout",
     "output_type": "stream",
     "text": [
      "Converted TFLite model (16044956 Bytes) saved to: beans_models_optimized/EfficentNetB0_beans_model_KMeansPlusPlus32.tflite\n",
      "INFO:tensorflow:Assets written to: /tmp/tmp07s3ji1m/assets\n"
     ]
    },
    {
     "name": "stderr",
     "output_type": "stream",
     "text": [
      "INFO:tensorflow:Assets written to: /tmp/tmp07s3ji1m/assets\n"
     ]
    },
    {
     "name": "stdout",
     "output_type": "stream",
     "text": [
      "Dynamic range quantizatized TFLite model (4789504 Bytes) saved to: beans_models_optimized/EfficentNetB0_beans_model_KMeansPlusPlus32_dynamic_rage_quantization.tflite\n",
      "INFO:tensorflow:Assets written to: /tmp/tmp_sosoccn/assets\n"
     ]
    },
    {
     "name": "stderr",
     "output_type": "stream",
     "text": [
      "INFO:tensorflow:Assets written to: /tmp/tmp_sosoccn/assets\n"
     ]
    },
    {
     "name": "stdout",
     "output_type": "stream",
     "text": [
      "Full integer quantizatized TFLite model (5160800 Bytes) saved to: beans_models_optimized/EfficentNetB0_beans_model_KMeansPlusPlus32_full_integer_quantization.tflite\n",
      "INFO:tensorflow:Assets written to: /tmp/tmprw2gcst7/assets\n"
     ]
    },
    {
     "name": "stderr",
     "output_type": "stream",
     "text": [
      "INFO:tensorflow:Assets written to: /tmp/tmprw2gcst7/assets\n"
     ]
    },
    {
     "name": "stdout",
     "output_type": "stream",
     "text": [
      "ERROR: Failed Full integer quantizatized with integer io TFLite model\n",
      "INFO:tensorflow:Assets written to: /tmp/tmp6db1fsu4/assets\n"
     ]
    },
    {
     "name": "stderr",
     "output_type": "stream",
     "text": [
      "INFO:tensorflow:Assets written to: /tmp/tmp6db1fsu4/assets\n"
     ]
    },
    {
     "name": "stdout",
     "output_type": "stream",
     "text": [
      "float16 quantizatized TFLite model (8096720 Bytes) saved to: beans_models_optimized/EfficentNetB0_beans_model_KMeansPlusPlus32_float16_quantization.tflite\n",
      "WARNING:tensorflow:No training configuration found in the save file, so the model was *not* compiled. Compile it manually.\n"
     ]
    },
    {
     "name": "stderr",
     "output_type": "stream",
     "text": [
      "WARNING:tensorflow:No training configuration found in the save file, so the model was *not* compiled. Compile it manually.\n"
     ]
    },
    {
     "name": "stdout",
     "output_type": "stream",
     "text": [
      "INFO:tensorflow:Assets written to: /tmp/tmpc6rhibql/assets\n"
     ]
    },
    {
     "name": "stderr",
     "output_type": "stream",
     "text": [
      "INFO:tensorflow:Assets written to: /tmp/tmpc6rhibql/assets\n"
     ]
    },
    {
     "name": "stdout",
     "output_type": "stream",
     "text": [
      "Converted TFLite model (8873924 Bytes) saved to: beans_models_optimized/MobileNetV2_beans_model_PolynomialDecay90_KMeansPlusPlus128.tflite\n",
      "INFO:tensorflow:Assets written to: /tmp/tmpw60wo0nl/assets\n"
     ]
    },
    {
     "name": "stderr",
     "output_type": "stream",
     "text": [
      "INFO:tensorflow:Assets written to: /tmp/tmpw60wo0nl/assets\n"
     ]
    },
    {
     "name": "stdout",
     "output_type": "stream",
     "text": [
      "Dynamic range quantizatized TFLite model (2641872 Bytes) saved to: beans_models_optimized/MobileNetV2_beans_model_PolynomialDecay90_KMeansPlusPlus128_dynamic_rage_quantization.tflite\n",
      "INFO:tensorflow:Assets written to: /tmp/tmpdemkb38d/assets\n"
     ]
    },
    {
     "name": "stderr",
     "output_type": "stream",
     "text": [
      "INFO:tensorflow:Assets written to: /tmp/tmpdemkb38d/assets\n"
     ]
    },
    {
     "name": "stdout",
     "output_type": "stream",
     "text": [
      "Full integer quantizatized TFLite model (2848144 Bytes) saved to: beans_models_optimized/MobileNetV2_beans_model_PolynomialDecay90_KMeansPlusPlus128_full_integer_quantization.tflite\n",
      "INFO:tensorflow:Assets written to: /tmp/tmptixek3_o/assets\n"
     ]
    },
    {
     "name": "stderr",
     "output_type": "stream",
     "text": [
      "INFO:tensorflow:Assets written to: /tmp/tmptixek3_o/assets\n"
     ]
    },
    {
     "name": "stdout",
     "output_type": "stream",
     "text": [
      "Full integer quantizatized with integer io TFLite model (2846896 Bytes) saved to: beans_models_optimized/MobileNetV2_beans_model_PolynomialDecay90_KMeansPlusPlus128_full_integer_quantization_integer_io.tflite\n",
      "INFO:tensorflow:Assets written to: /tmp/tmpyfb_dk5v/assets\n"
     ]
    },
    {
     "name": "stderr",
     "output_type": "stream",
     "text": [
      "INFO:tensorflow:Assets written to: /tmp/tmpyfb_dk5v/assets\n"
     ]
    },
    {
     "name": "stdout",
     "output_type": "stream",
     "text": [
      "float16 quantizatized TFLite model (4469136 Bytes) saved to: beans_models_optimized/MobileNetV2_beans_model_PolynomialDecay90_KMeansPlusPlus128_float16_quantization.tflite\n",
      "WARNING:tensorflow:No training configuration found in the save file, so the model was *not* compiled. Compile it manually.\n"
     ]
    },
    {
     "name": "stderr",
     "output_type": "stream",
     "text": [
      "WARNING:tensorflow:No training configuration found in the save file, so the model was *not* compiled. Compile it manually.\n"
     ]
    },
    {
     "name": "stdout",
     "output_type": "stream",
     "text": [
      "INFO:tensorflow:Assets written to: /tmp/tmpgdv_dsd3/assets\n"
     ]
    },
    {
     "name": "stderr",
     "output_type": "stream",
     "text": [
      "INFO:tensorflow:Assets written to: /tmp/tmpgdv_dsd3/assets\n"
     ]
    },
    {
     "name": "stdout",
     "output_type": "stream",
     "text": [
      "Converted TFLite model (8873924 Bytes) saved to: beans_models_optimized/MobileNetV2_beans_model_ConstantSparsity50.tflite\n",
      "INFO:tensorflow:Assets written to: /tmp/tmprx_wfs2d/assets\n"
     ]
    },
    {
     "name": "stderr",
     "output_type": "stream",
     "text": [
      "INFO:tensorflow:Assets written to: /tmp/tmprx_wfs2d/assets\n"
     ]
    },
    {
     "name": "stdout",
     "output_type": "stream",
     "text": [
      "Dynamic range quantizatized TFLite model (2641872 Bytes) saved to: beans_models_optimized/MobileNetV2_beans_model_ConstantSparsity50_dynamic_rage_quantization.tflite\n",
      "INFO:tensorflow:Assets written to: /tmp/tmpagfkzkeq/assets\n"
     ]
    },
    {
     "name": "stderr",
     "output_type": "stream",
     "text": [
      "INFO:tensorflow:Assets written to: /tmp/tmpagfkzkeq/assets\n"
     ]
    },
    {
     "name": "stdout",
     "output_type": "stream",
     "text": [
      "Full integer quantizatized TFLite model (2848144 Bytes) saved to: beans_models_optimized/MobileNetV2_beans_model_ConstantSparsity50_full_integer_quantization.tflite\n",
      "INFO:tensorflow:Assets written to: /tmp/tmpzwulyud8/assets\n"
     ]
    },
    {
     "name": "stderr",
     "output_type": "stream",
     "text": [
      "INFO:tensorflow:Assets written to: /tmp/tmpzwulyud8/assets\n"
     ]
    },
    {
     "name": "stdout",
     "output_type": "stream",
     "text": [
      "Full integer quantizatized with integer io TFLite model (2846896 Bytes) saved to: beans_models_optimized/MobileNetV2_beans_model_ConstantSparsity50_full_integer_quantization_integer_io.tflite\n",
      "INFO:tensorflow:Assets written to: /tmp/tmp5coxbk7u/assets\n"
     ]
    },
    {
     "name": "stderr",
     "output_type": "stream",
     "text": [
      "INFO:tensorflow:Assets written to: /tmp/tmp5coxbk7u/assets\n"
     ]
    },
    {
     "name": "stdout",
     "output_type": "stream",
     "text": [
      "float16 quantizatized TFLite model (4469136 Bytes) saved to: beans_models_optimized/MobileNetV2_beans_model_ConstantSparsity50_float16_quantization.tflite\n",
      "INFO:tensorflow:Assets written to: /tmp/tmp22jt7br7/assets\n"
     ]
    },
    {
     "name": "stderr",
     "output_type": "stream",
     "text": [
      "INFO:tensorflow:Assets written to: /tmp/tmp22jt7br7/assets\n"
     ]
    },
    {
     "name": "stdout",
     "output_type": "stream",
     "text": [
      "Converted TFLite model (16551964 Bytes) saved to: tf_flowers_models/EfficentNetB0_tf_flowers_model.tflite\n",
      "INFO:tensorflow:Assets written to: /tmp/tmpqtagya1s/assets\n"
     ]
    },
    {
     "name": "stderr",
     "output_type": "stream",
     "text": [
      "INFO:tensorflow:Assets written to: /tmp/tmpqtagya1s/assets\n"
     ]
    },
    {
     "name": "stdout",
     "output_type": "stream",
     "text": [
      "Dynamic range quantizatized TFLite model (4916336 Bytes) saved to: tf_flowers_models/EfficentNetB0_tf_flowers_model_dynamic_rage_quantization.tflite\n",
      "INFO:tensorflow:Assets written to: /tmp/tmpv5j6p8i0/assets\n"
     ]
    },
    {
     "name": "stderr",
     "output_type": "stream",
     "text": [
      "INFO:tensorflow:Assets written to: /tmp/tmpv5j6p8i0/assets\n"
     ]
    },
    {
     "name": "stdout",
     "output_type": "stream",
     "text": [
      "Full integer quantizatized TFLite model (5287664 Bytes) saved to: tf_flowers_models/EfficentNetB0_tf_flowers_model_full_integer_quantization.tflite\n",
      "INFO:tensorflow:Assets written to: /tmp/tmpbxtktr91/assets\n"
     ]
    },
    {
     "name": "stderr",
     "output_type": "stream",
     "text": [
      "INFO:tensorflow:Assets written to: /tmp/tmpbxtktr91/assets\n"
     ]
    },
    {
     "name": "stdout",
     "output_type": "stream",
     "text": [
      "ERROR: Failed Full integer quantizatized with integer io TFLite model\n",
      "INFO:tensorflow:Assets written to: /tmp/tmpwkvn3bbo/assets\n"
     ]
    },
    {
     "name": "stderr",
     "output_type": "stream",
     "text": [
      "INFO:tensorflow:Assets written to: /tmp/tmpwkvn3bbo/assets\n"
     ]
    },
    {
     "name": "stdout",
     "output_type": "stream",
     "text": [
      "float16 quantizatized TFLite model (8350080 Bytes) saved to: tf_flowers_models/EfficentNetB0_tf_flowers_model_float16_quantization.tflite\n",
      "WARNING:tensorflow:No training configuration found in the save file, so the model was *not* compiled. Compile it manually.\n"
     ]
    },
    {
     "name": "stderr",
     "output_type": "stream",
     "text": [
      "WARNING:tensorflow:No training configuration found in the save file, so the model was *not* compiled. Compile it manually.\n"
     ]
    },
    {
     "name": "stdout",
     "output_type": "stream",
     "text": [
      "INFO:tensorflow:Assets written to: /tmp/tmpnomzqyh4/assets\n"
     ]
    },
    {
     "name": "stderr",
     "output_type": "stream",
     "text": [
      "INFO:tensorflow:Assets written to: /tmp/tmpnomzqyh4/assets\n"
     ]
    },
    {
     "name": "stdout",
     "output_type": "stream",
     "text": [
      "Converted TFLite model (9381848 Bytes) saved to: tf_flowers_models/MobileNetV2_tf_flowers_model_ConstantSparsity90.tflite\n",
      "INFO:tensorflow:Assets written to: /tmp/tmpbf2xrc8e/assets\n"
     ]
    },
    {
     "name": "stderr",
     "output_type": "stream",
     "text": [
      "INFO:tensorflow:Assets written to: /tmp/tmpbf2xrc8e/assets\n"
     ]
    },
    {
     "name": "stdout",
     "output_type": "stream",
     "text": [
      "Dynamic range quantizatized TFLite model (2769648 Bytes) saved to: tf_flowers_models/MobileNetV2_tf_flowers_model_ConstantSparsity90_dynamic_rage_quantization.tflite\n",
      "INFO:tensorflow:Assets written to: /tmp/tmps8yc_yuf/assets\n"
     ]
    },
    {
     "name": "stderr",
     "output_type": "stream",
     "text": [
      "INFO:tensorflow:Assets written to: /tmp/tmps8yc_yuf/assets\n"
     ]
    },
    {
     "name": "stdout",
     "output_type": "stream",
     "text": [
      "Full integer quantizatized TFLite model (2975920 Bytes) saved to: tf_flowers_models/MobileNetV2_tf_flowers_model_ConstantSparsity90_full_integer_quantization.tflite\n",
      "INFO:tensorflow:Assets written to: /tmp/tmpzyvjwv6m/assets\n"
     ]
    },
    {
     "name": "stderr",
     "output_type": "stream",
     "text": [
      "INFO:tensorflow:Assets written to: /tmp/tmpzyvjwv6m/assets\n"
     ]
    },
    {
     "name": "stdout",
     "output_type": "stream",
     "text": [
      "Full integer quantizatized with integer io TFLite model (2974680 Bytes) saved to: tf_flowers_models/MobileNetV2_tf_flowers_model_ConstantSparsity90_full_integer_quantization_integer_io.tflite\n",
      "INFO:tensorflow:Assets written to: /tmp/tmpppqbpv_v/assets\n"
     ]
    },
    {
     "name": "stderr",
     "output_type": "stream",
     "text": [
      "INFO:tensorflow:Assets written to: /tmp/tmpppqbpv_v/assets\n"
     ]
    },
    {
     "name": "stdout",
     "output_type": "stream",
     "text": [
      "float16 quantizatized TFLite model (4723808 Bytes) saved to: tf_flowers_models/MobileNetV2_tf_flowers_model_ConstantSparsity90_float16_quantization.tflite\n",
      "WARNING:tensorflow:No training configuration found in the save file, so the model was *not* compiled. Compile it manually.\n"
     ]
    },
    {
     "name": "stderr",
     "output_type": "stream",
     "text": [
      "WARNING:tensorflow:No training configuration found in the save file, so the model was *not* compiled. Compile it manually.\n"
     ]
    },
    {
     "name": "stdout",
     "output_type": "stream",
     "text": [
      "INFO:tensorflow:Assets written to: /tmp/tmpfbe_94f0/assets\n"
     ]
    },
    {
     "name": "stderr",
     "output_type": "stream",
     "text": [
      "INFO:tensorflow:Assets written to: /tmp/tmpfbe_94f0/assets\n"
     ]
    },
    {
     "name": "stdout",
     "output_type": "stream",
     "text": [
      "Converted TFLite model (16551964 Bytes) saved to: tf_flowers_models/EfficentNetB0_tf_flowers_model_PolynomialDecay75_KMeansPlusPlus128.tflite\n",
      "INFO:tensorflow:Assets written to: /tmp/tmpw2zsq_cu/assets\n"
     ]
    },
    {
     "name": "stderr",
     "output_type": "stream",
     "text": [
      "INFO:tensorflow:Assets written to: /tmp/tmpw2zsq_cu/assets\n"
     ]
    },
    {
     "name": "stdout",
     "output_type": "stream",
     "text": [
      "Dynamic range quantizatized TFLite model (4916336 Bytes) saved to: tf_flowers_models/EfficentNetB0_tf_flowers_model_PolynomialDecay75_KMeansPlusPlus128_dynamic_rage_quantization.tflite\n",
      "INFO:tensorflow:Assets written to: /tmp/tmprnjc0hn5/assets\n"
     ]
    },
    {
     "name": "stderr",
     "output_type": "stream",
     "text": [
      "INFO:tensorflow:Assets written to: /tmp/tmprnjc0hn5/assets\n"
     ]
    },
    {
     "name": "stdout",
     "output_type": "stream",
     "text": [
      "Full integer quantizatized TFLite model (5287664 Bytes) saved to: tf_flowers_models/EfficentNetB0_tf_flowers_model_PolynomialDecay75_KMeansPlusPlus128_full_integer_quantization.tflite\n",
      "INFO:tensorflow:Assets written to: /tmp/tmp9wn7f9gk/assets\n"
     ]
    },
    {
     "name": "stderr",
     "output_type": "stream",
     "text": [
      "INFO:tensorflow:Assets written to: /tmp/tmp9wn7f9gk/assets\n"
     ]
    },
    {
     "name": "stdout",
     "output_type": "stream",
     "text": [
      "ERROR: Failed Full integer quantizatized with integer io TFLite model\n",
      "INFO:tensorflow:Assets written to: /tmp/tmphu9ezibz/assets\n"
     ]
    },
    {
     "name": "stderr",
     "output_type": "stream",
     "text": [
      "INFO:tensorflow:Assets written to: /tmp/tmphu9ezibz/assets\n"
     ]
    },
    {
     "name": "stdout",
     "output_type": "stream",
     "text": [
      "float16 quantizatized TFLite model (8350080 Bytes) saved to: tf_flowers_models/EfficentNetB0_tf_flowers_model_PolynomialDecay75_KMeansPlusPlus128_float16_quantization.tflite\n",
      "WARNING:tensorflow:No training configuration found in the save file, so the model was *not* compiled. Compile it manually.\n"
     ]
    },
    {
     "name": "stderr",
     "output_type": "stream",
     "text": [
      "WARNING:tensorflow:No training configuration found in the save file, so the model was *not* compiled. Compile it manually.\n"
     ]
    },
    {
     "name": "stdout",
     "output_type": "stream",
     "text": [
      "INFO:tensorflow:Assets written to: /tmp/tmp7xiipuuz/assets\n"
     ]
    },
    {
     "name": "stderr",
     "output_type": "stream",
     "text": [
      "INFO:tensorflow:Assets written to: /tmp/tmp7xiipuuz/assets\n"
     ]
    },
    {
     "name": "stdout",
     "output_type": "stream",
     "text": [
      "Converted TFLite model (16551964 Bytes) saved to: tf_flowers_models/EfficentNetB0_tf_flowers_model_PolynomialDecay50_KMeansPlusPlus128.tflite\n",
      "INFO:tensorflow:Assets written to: /tmp/tmpx3ovvq_p/assets\n"
     ]
    },
    {
     "name": "stderr",
     "output_type": "stream",
     "text": [
      "INFO:tensorflow:Assets written to: /tmp/tmpx3ovvq_p/assets\n"
     ]
    },
    {
     "name": "stdout",
     "output_type": "stream",
     "text": [
      "Dynamic range quantizatized TFLite model (4916336 Bytes) saved to: tf_flowers_models/EfficentNetB0_tf_flowers_model_PolynomialDecay50_KMeansPlusPlus128_dynamic_rage_quantization.tflite\n",
      "INFO:tensorflow:Assets written to: /tmp/tmpft5x5mx1/assets\n"
     ]
    },
    {
     "name": "stderr",
     "output_type": "stream",
     "text": [
      "INFO:tensorflow:Assets written to: /tmp/tmpft5x5mx1/assets\n"
     ]
    },
    {
     "name": "stdout",
     "output_type": "stream",
     "text": [
      "Full integer quantizatized TFLite model (5287664 Bytes) saved to: tf_flowers_models/EfficentNetB0_tf_flowers_model_PolynomialDecay50_KMeansPlusPlus128_full_integer_quantization.tflite\n",
      "INFO:tensorflow:Assets written to: /tmp/tmpi83plwgn/assets\n"
     ]
    },
    {
     "name": "stderr",
     "output_type": "stream",
     "text": [
      "INFO:tensorflow:Assets written to: /tmp/tmpi83plwgn/assets\n"
     ]
    },
    {
     "name": "stdout",
     "output_type": "stream",
     "text": [
      "ERROR: Failed Full integer quantizatized with integer io TFLite model\n",
      "INFO:tensorflow:Assets written to: /tmp/tmp_j4x2g7m/assets\n"
     ]
    },
    {
     "name": "stderr",
     "output_type": "stream",
     "text": [
      "INFO:tensorflow:Assets written to: /tmp/tmp_j4x2g7m/assets\n"
     ]
    },
    {
     "name": "stdout",
     "output_type": "stream",
     "text": [
      "float16 quantizatized TFLite model (8350080 Bytes) saved to: tf_flowers_models/EfficentNetB0_tf_flowers_model_PolynomialDecay50_KMeansPlusPlus128_float16_quantization.tflite\n",
      "WARNING:tensorflow:No training configuration found in the save file, so the model was *not* compiled. Compile it manually.\n"
     ]
    },
    {
     "name": "stderr",
     "output_type": "stream",
     "text": [
      "WARNING:tensorflow:No training configuration found in the save file, so the model was *not* compiled. Compile it manually.\n"
     ]
    },
    {
     "name": "stdout",
     "output_type": "stream",
     "text": [
      "INFO:tensorflow:Assets written to: /tmp/tmps1vkr5bz/assets\n"
     ]
    },
    {
     "name": "stderr",
     "output_type": "stream",
     "text": [
      "INFO:tensorflow:Assets written to: /tmp/tmps1vkr5bz/assets\n"
     ]
    },
    {
     "name": "stdout",
     "output_type": "stream",
     "text": [
      "Converted TFLite model (9381848 Bytes) saved to: tf_flowers_models/MobileNetV2_tf_flowers_model_ConstantSparsity75_KMeansPlusPlus32.tflite\n",
      "INFO:tensorflow:Assets written to: /tmp/tmpb6eyjd7e/assets\n"
     ]
    },
    {
     "name": "stderr",
     "output_type": "stream",
     "text": [
      "INFO:tensorflow:Assets written to: /tmp/tmpb6eyjd7e/assets\n"
     ]
    },
    {
     "name": "stdout",
     "output_type": "stream",
     "text": [
      "Dynamic range quantizatized TFLite model (2769648 Bytes) saved to: tf_flowers_models/MobileNetV2_tf_flowers_model_ConstantSparsity75_KMeansPlusPlus32_dynamic_rage_quantization.tflite\n",
      "INFO:tensorflow:Assets written to: /tmp/tmpkc9ue3gg/assets\n"
     ]
    },
    {
     "name": "stderr",
     "output_type": "stream",
     "text": [
      "INFO:tensorflow:Assets written to: /tmp/tmpkc9ue3gg/assets\n"
     ]
    },
    {
     "name": "stdout",
     "output_type": "stream",
     "text": [
      "Full integer quantizatized TFLite model (2975920 Bytes) saved to: tf_flowers_models/MobileNetV2_tf_flowers_model_ConstantSparsity75_KMeansPlusPlus32_full_integer_quantization.tflite\n",
      "INFO:tensorflow:Assets written to: /tmp/tmplkdzr8nf/assets\n"
     ]
    },
    {
     "name": "stderr",
     "output_type": "stream",
     "text": [
      "INFO:tensorflow:Assets written to: /tmp/tmplkdzr8nf/assets\n"
     ]
    },
    {
     "name": "stdout",
     "output_type": "stream",
     "text": [
      "Full integer quantizatized with integer io TFLite model (2974680 Bytes) saved to: tf_flowers_models/MobileNetV2_tf_flowers_model_ConstantSparsity75_KMeansPlusPlus32_full_integer_quantization_integer_io.tflite\n",
      "INFO:tensorflow:Assets written to: /tmp/tmpg7j2s77f/assets\n"
     ]
    },
    {
     "name": "stderr",
     "output_type": "stream",
     "text": [
      "INFO:tensorflow:Assets written to: /tmp/tmpg7j2s77f/assets\n"
     ]
    },
    {
     "name": "stdout",
     "output_type": "stream",
     "text": [
      "float16 quantizatized TFLite model (4723808 Bytes) saved to: tf_flowers_models/MobileNetV2_tf_flowers_model_ConstantSparsity75_KMeansPlusPlus32_float16_quantization.tflite\n",
      "WARNING:tensorflow:No training configuration found in the save file, so the model was *not* compiled. Compile it manually.\n"
     ]
    },
    {
     "name": "stderr",
     "output_type": "stream",
     "text": [
      "WARNING:tensorflow:No training configuration found in the save file, so the model was *not* compiled. Compile it manually.\n"
     ]
    },
    {
     "name": "stdout",
     "output_type": "stream",
     "text": [
      "INFO:tensorflow:Assets written to: /tmp/tmpczdshl5k/assets\n"
     ]
    },
    {
     "name": "stderr",
     "output_type": "stream",
     "text": [
      "INFO:tensorflow:Assets written to: /tmp/tmpczdshl5k/assets\n"
     ]
    },
    {
     "name": "stdout",
     "output_type": "stream",
     "text": [
      "Converted TFLite model (16551964 Bytes) saved to: tf_flowers_models/EfficentNetB0_tf_flowers_model_ConstantSparsity90.tflite\n",
      "INFO:tensorflow:Assets written to: /tmp/tmpaxl7epvn/assets\n"
     ]
    },
    {
     "name": "stderr",
     "output_type": "stream",
     "text": [
      "INFO:tensorflow:Assets written to: /tmp/tmpaxl7epvn/assets\n"
     ]
    },
    {
     "name": "stdout",
     "output_type": "stream",
     "text": [
      "Dynamic range quantizatized TFLite model (4916336 Bytes) saved to: tf_flowers_models/EfficentNetB0_tf_flowers_model_ConstantSparsity90_dynamic_rage_quantization.tflite\n",
      "INFO:tensorflow:Assets written to: /tmp/tmpuna8v0sy/assets\n"
     ]
    },
    {
     "name": "stderr",
     "output_type": "stream",
     "text": [
      "INFO:tensorflow:Assets written to: /tmp/tmpuna8v0sy/assets\n"
     ]
    },
    {
     "name": "stdout",
     "output_type": "stream",
     "text": [
      "Full integer quantizatized TFLite model (5287664 Bytes) saved to: tf_flowers_models/EfficentNetB0_tf_flowers_model_ConstantSparsity90_full_integer_quantization.tflite\n",
      "INFO:tensorflow:Assets written to: /tmp/tmprzrjc1ez/assets\n"
     ]
    },
    {
     "name": "stderr",
     "output_type": "stream",
     "text": [
      "INFO:tensorflow:Assets written to: /tmp/tmprzrjc1ez/assets\n"
     ]
    },
    {
     "name": "stdout",
     "output_type": "stream",
     "text": [
      "ERROR: Failed Full integer quantizatized with integer io TFLite model\n",
      "INFO:tensorflow:Assets written to: /tmp/tmp8qxye8f5/assets\n"
     ]
    },
    {
     "name": "stderr",
     "output_type": "stream",
     "text": [
      "INFO:tensorflow:Assets written to: /tmp/tmp8qxye8f5/assets\n"
     ]
    },
    {
     "name": "stdout",
     "output_type": "stream",
     "text": [
      "float16 quantizatized TFLite model (8350080 Bytes) saved to: tf_flowers_models/EfficentNetB0_tf_flowers_model_ConstantSparsity90_float16_quantization.tflite\n",
      "WARNING:tensorflow:No training configuration found in the save file, so the model was *not* compiled. Compile it manually.\n"
     ]
    },
    {
     "name": "stderr",
     "output_type": "stream",
     "text": [
      "WARNING:tensorflow:No training configuration found in the save file, so the model was *not* compiled. Compile it manually.\n"
     ]
    },
    {
     "name": "stdout",
     "output_type": "stream",
     "text": [
      "INFO:tensorflow:Assets written to: /tmp/tmpxff6ydy8/assets\n"
     ]
    },
    {
     "name": "stderr",
     "output_type": "stream",
     "text": [
      "INFO:tensorflow:Assets written to: /tmp/tmpxff6ydy8/assets\n"
     ]
    },
    {
     "name": "stdout",
     "output_type": "stream",
     "text": [
      "Converted TFLite model (16551964 Bytes) saved to: tf_flowers_models/EfficentNetB0_tf_flowers_model_ConstantSparsity50_KMeansPlusPlus128.tflite\n",
      "INFO:tensorflow:Assets written to: /tmp/tmpx4wkjjpp/assets\n"
     ]
    },
    {
     "name": "stderr",
     "output_type": "stream",
     "text": [
      "INFO:tensorflow:Assets written to: /tmp/tmpx4wkjjpp/assets\n"
     ]
    },
    {
     "name": "stdout",
     "output_type": "stream",
     "text": [
      "Dynamic range quantizatized TFLite model (4916336 Bytes) saved to: tf_flowers_models/EfficentNetB0_tf_flowers_model_ConstantSparsity50_KMeansPlusPlus128_dynamic_rage_quantization.tflite\n",
      "INFO:tensorflow:Assets written to: /tmp/tmpk29cdtw4/assets\n"
     ]
    },
    {
     "name": "stderr",
     "output_type": "stream",
     "text": [
      "INFO:tensorflow:Assets written to: /tmp/tmpk29cdtw4/assets\n"
     ]
    },
    {
     "name": "stdout",
     "output_type": "stream",
     "text": [
      "Full integer quantizatized TFLite model (5287664 Bytes) saved to: tf_flowers_models/EfficentNetB0_tf_flowers_model_ConstantSparsity50_KMeansPlusPlus128_full_integer_quantization.tflite\n",
      "INFO:tensorflow:Assets written to: /tmp/tmpzcgfu0oe/assets\n"
     ]
    },
    {
     "name": "stderr",
     "output_type": "stream",
     "text": [
      "INFO:tensorflow:Assets written to: /tmp/tmpzcgfu0oe/assets\n"
     ]
    },
    {
     "name": "stdout",
     "output_type": "stream",
     "text": [
      "ERROR: Failed Full integer quantizatized with integer io TFLite model\n",
      "INFO:tensorflow:Assets written to: /tmp/tmp4je0ap85/assets\n"
     ]
    },
    {
     "name": "stderr",
     "output_type": "stream",
     "text": [
      "INFO:tensorflow:Assets written to: /tmp/tmp4je0ap85/assets\n"
     ]
    },
    {
     "name": "stdout",
     "output_type": "stream",
     "text": [
      "float16 quantizatized TFLite model (8350080 Bytes) saved to: tf_flowers_models/EfficentNetB0_tf_flowers_model_ConstantSparsity50_KMeansPlusPlus128_float16_quantization.tflite\n",
      "WARNING:tensorflow:No training configuration found in the save file, so the model was *not* compiled. Compile it manually.\n"
     ]
    },
    {
     "name": "stderr",
     "output_type": "stream",
     "text": [
      "WARNING:tensorflow:No training configuration found in the save file, so the model was *not* compiled. Compile it manually.\n"
     ]
    },
    {
     "name": "stdout",
     "output_type": "stream",
     "text": [
      "INFO:tensorflow:Assets written to: /tmp/tmpsrsclt_i/assets\n"
     ]
    },
    {
     "name": "stderr",
     "output_type": "stream",
     "text": [
      "INFO:tensorflow:Assets written to: /tmp/tmpsrsclt_i/assets\n"
     ]
    },
    {
     "name": "stdout",
     "output_type": "stream",
     "text": [
      "Converted TFLite model (9381848 Bytes) saved to: tf_flowers_models/MobileNetV2_tf_flowers_model_ConstantSparsity75.tflite\n",
      "INFO:tensorflow:Assets written to: /tmp/tmpc0enebui/assets\n"
     ]
    },
    {
     "name": "stderr",
     "output_type": "stream",
     "text": [
      "INFO:tensorflow:Assets written to: /tmp/tmpc0enebui/assets\n"
     ]
    },
    {
     "name": "stdout",
     "output_type": "stream",
     "text": [
      "Dynamic range quantizatized TFLite model (2769648 Bytes) saved to: tf_flowers_models/MobileNetV2_tf_flowers_model_ConstantSparsity75_dynamic_rage_quantization.tflite\n",
      "INFO:tensorflow:Assets written to: /tmp/tmpgn8v0roq/assets\n"
     ]
    },
    {
     "name": "stderr",
     "output_type": "stream",
     "text": [
      "INFO:tensorflow:Assets written to: /tmp/tmpgn8v0roq/assets\n"
     ]
    },
    {
     "name": "stdout",
     "output_type": "stream",
     "text": [
      "Full integer quantizatized TFLite model (2975920 Bytes) saved to: tf_flowers_models/MobileNetV2_tf_flowers_model_ConstantSparsity75_full_integer_quantization.tflite\n",
      "INFO:tensorflow:Assets written to: /tmp/tmpwdmnjhqn/assets\n"
     ]
    },
    {
     "name": "stderr",
     "output_type": "stream",
     "text": [
      "INFO:tensorflow:Assets written to: /tmp/tmpwdmnjhqn/assets\n"
     ]
    },
    {
     "name": "stdout",
     "output_type": "stream",
     "text": [
      "Full integer quantizatized with integer io TFLite model (2974680 Bytes) saved to: tf_flowers_models/MobileNetV2_tf_flowers_model_ConstantSparsity75_full_integer_quantization_integer_io.tflite\n",
      "INFO:tensorflow:Assets written to: /tmp/tmpnc_00wo3/assets\n"
     ]
    },
    {
     "name": "stderr",
     "output_type": "stream",
     "text": [
      "INFO:tensorflow:Assets written to: /tmp/tmpnc_00wo3/assets\n"
     ]
    },
    {
     "name": "stdout",
     "output_type": "stream",
     "text": [
      "float16 quantizatized TFLite model (4723808 Bytes) saved to: tf_flowers_models/MobileNetV2_tf_flowers_model_ConstantSparsity75_float16_quantization.tflite\n",
      "WARNING:tensorflow:No training configuration found in the save file, so the model was *not* compiled. Compile it manually.\n"
     ]
    },
    {
     "name": "stderr",
     "output_type": "stream",
     "text": [
      "WARNING:tensorflow:No training configuration found in the save file, so the model was *not* compiled. Compile it manually.\n"
     ]
    },
    {
     "name": "stdout",
     "output_type": "stream",
     "text": [
      "INFO:tensorflow:Assets written to: /tmp/tmpputljstk/assets\n"
     ]
    },
    {
     "name": "stderr",
     "output_type": "stream",
     "text": [
      "INFO:tensorflow:Assets written to: /tmp/tmpputljstk/assets\n"
     ]
    },
    {
     "name": "stdout",
     "output_type": "stream",
     "text": [
      "Converted TFLite model (16551964 Bytes) saved to: tf_flowers_models/EfficentNetB0_tf_flowers_model_ConstantSparsity90_KMeansPlusPlus128.tflite\n",
      "INFO:tensorflow:Assets written to: /tmp/tmpfxiegmz5/assets\n"
     ]
    },
    {
     "name": "stderr",
     "output_type": "stream",
     "text": [
      "INFO:tensorflow:Assets written to: /tmp/tmpfxiegmz5/assets\n"
     ]
    },
    {
     "name": "stdout",
     "output_type": "stream",
     "text": [
      "Dynamic range quantizatized TFLite model (4916336 Bytes) saved to: tf_flowers_models/EfficentNetB0_tf_flowers_model_ConstantSparsity90_KMeansPlusPlus128_dynamic_rage_quantization.tflite\n",
      "INFO:tensorflow:Assets written to: /tmp/tmpzuyh5bbv/assets\n"
     ]
    },
    {
     "name": "stderr",
     "output_type": "stream",
     "text": [
      "INFO:tensorflow:Assets written to: /tmp/tmpzuyh5bbv/assets\n"
     ]
    },
    {
     "name": "stdout",
     "output_type": "stream",
     "text": [
      "Full integer quantizatized TFLite model (5287664 Bytes) saved to: tf_flowers_models/EfficentNetB0_tf_flowers_model_ConstantSparsity90_KMeansPlusPlus128_full_integer_quantization.tflite\n",
      "INFO:tensorflow:Assets written to: /tmp/tmp2mtznl2u/assets\n"
     ]
    },
    {
     "name": "stderr",
     "output_type": "stream",
     "text": [
      "INFO:tensorflow:Assets written to: /tmp/tmp2mtznl2u/assets\n"
     ]
    },
    {
     "name": "stdout",
     "output_type": "stream",
     "text": [
      "ERROR: Failed Full integer quantizatized with integer io TFLite model\n",
      "INFO:tensorflow:Assets written to: /tmp/tmpo2dqyo3a/assets\n"
     ]
    },
    {
     "name": "stderr",
     "output_type": "stream",
     "text": [
      "INFO:tensorflow:Assets written to: /tmp/tmpo2dqyo3a/assets\n"
     ]
    },
    {
     "name": "stdout",
     "output_type": "stream",
     "text": [
      "float16 quantizatized TFLite model (8350080 Bytes) saved to: tf_flowers_models/EfficentNetB0_tf_flowers_model_ConstantSparsity90_KMeansPlusPlus128_float16_quantization.tflite\n",
      "WARNING:tensorflow:No training configuration found in the save file, so the model was *not* compiled. Compile it manually.\n"
     ]
    },
    {
     "name": "stderr",
     "output_type": "stream",
     "text": [
      "WARNING:tensorflow:No training configuration found in the save file, so the model was *not* compiled. Compile it manually.\n"
     ]
    },
    {
     "name": "stdout",
     "output_type": "stream",
     "text": [
      "INFO:tensorflow:Assets written to: /tmp/tmpbx7bzdcx/assets\n"
     ]
    },
    {
     "name": "stderr",
     "output_type": "stream",
     "text": [
      "INFO:tensorflow:Assets written to: /tmp/tmpbx7bzdcx/assets\n"
     ]
    },
    {
     "name": "stdout",
     "output_type": "stream",
     "text": [
      "Converted TFLite model (9381848 Bytes) saved to: tf_flowers_models/MobileNetV2_tf_flowers_model_KMeansPlusPlus128.tflite\n",
      "INFO:tensorflow:Assets written to: /tmp/tmpjpnd9jdk/assets\n"
     ]
    },
    {
     "name": "stderr",
     "output_type": "stream",
     "text": [
      "INFO:tensorflow:Assets written to: /tmp/tmpjpnd9jdk/assets\n"
     ]
    },
    {
     "name": "stdout",
     "output_type": "stream",
     "text": [
      "Dynamic range quantizatized TFLite model (2769648 Bytes) saved to: tf_flowers_models/MobileNetV2_tf_flowers_model_KMeansPlusPlus128_dynamic_rage_quantization.tflite\n",
      "INFO:tensorflow:Assets written to: /tmp/tmpmi19qw98/assets\n"
     ]
    },
    {
     "name": "stderr",
     "output_type": "stream",
     "text": [
      "INFO:tensorflow:Assets written to: /tmp/tmpmi19qw98/assets\n"
     ]
    },
    {
     "name": "stdout",
     "output_type": "stream",
     "text": [
      "Full integer quantizatized TFLite model (2975920 Bytes) saved to: tf_flowers_models/MobileNetV2_tf_flowers_model_KMeansPlusPlus128_full_integer_quantization.tflite\n",
      "INFO:tensorflow:Assets written to: /tmp/tmppfddk5uu/assets\n"
     ]
    },
    {
     "name": "stderr",
     "output_type": "stream",
     "text": [
      "INFO:tensorflow:Assets written to: /tmp/tmppfddk5uu/assets\n"
     ]
    },
    {
     "name": "stdout",
     "output_type": "stream",
     "text": [
      "Full integer quantizatized with integer io TFLite model (2974680 Bytes) saved to: tf_flowers_models/MobileNetV2_tf_flowers_model_KMeansPlusPlus128_full_integer_quantization_integer_io.tflite\n",
      "INFO:tensorflow:Assets written to: /tmp/tmp5twy6dt3/assets\n"
     ]
    },
    {
     "name": "stderr",
     "output_type": "stream",
     "text": [
      "INFO:tensorflow:Assets written to: /tmp/tmp5twy6dt3/assets\n"
     ]
    },
    {
     "name": "stdout",
     "output_type": "stream",
     "text": [
      "float16 quantizatized TFLite model (4723808 Bytes) saved to: tf_flowers_models/MobileNetV2_tf_flowers_model_KMeansPlusPlus128_float16_quantization.tflite\n",
      "INFO:tensorflow:Assets written to: /tmp/tmp8__xt47s/assets\n"
     ]
    },
    {
     "name": "stderr",
     "output_type": "stream",
     "text": [
      "INFO:tensorflow:Assets written to: /tmp/tmp8__xt47s/assets\n"
     ]
    },
    {
     "name": "stdout",
     "output_type": "stream",
     "text": [
      "Converted TFLite model (9381848 Bytes) saved to: tf_flowers_models/MobileNetV2_tf_flowers_model.tflite\n",
      "INFO:tensorflow:Assets written to: /tmp/tmp8cwaar1b/assets\n"
     ]
    },
    {
     "name": "stderr",
     "output_type": "stream",
     "text": [
      "INFO:tensorflow:Assets written to: /tmp/tmp8cwaar1b/assets\n"
     ]
    },
    {
     "name": "stdout",
     "output_type": "stream",
     "text": [
      "Dynamic range quantizatized TFLite model (2769648 Bytes) saved to: tf_flowers_models/MobileNetV2_tf_flowers_model_dynamic_rage_quantization.tflite\n",
      "INFO:tensorflow:Assets written to: /tmp/tmpfecmn510/assets\n"
     ]
    },
    {
     "name": "stderr",
     "output_type": "stream",
     "text": [
      "INFO:tensorflow:Assets written to: /tmp/tmpfecmn510/assets\n"
     ]
    },
    {
     "name": "stdout",
     "output_type": "stream",
     "text": [
      "Full integer quantizatized TFLite model (2975920 Bytes) saved to: tf_flowers_models/MobileNetV2_tf_flowers_model_full_integer_quantization.tflite\n",
      "INFO:tensorflow:Assets written to: /tmp/tmp2tatno6m/assets\n"
     ]
    },
    {
     "name": "stderr",
     "output_type": "stream",
     "text": [
      "INFO:tensorflow:Assets written to: /tmp/tmp2tatno6m/assets\n"
     ]
    },
    {
     "name": "stdout",
     "output_type": "stream",
     "text": [
      "Full integer quantizatized with integer io TFLite model (2974680 Bytes) saved to: tf_flowers_models/MobileNetV2_tf_flowers_model_full_integer_quantization_integer_io.tflite\n",
      "INFO:tensorflow:Assets written to: /tmp/tmp7pug9wnp/assets\n"
     ]
    },
    {
     "name": "stderr",
     "output_type": "stream",
     "text": [
      "INFO:tensorflow:Assets written to: /tmp/tmp7pug9wnp/assets\n"
     ]
    },
    {
     "name": "stdout",
     "output_type": "stream",
     "text": [
      "float16 quantizatized TFLite model (4723808 Bytes) saved to: tf_flowers_models/MobileNetV2_tf_flowers_model_float16_quantization.tflite\n",
      "WARNING:tensorflow:No training configuration found in the save file, so the model was *not* compiled. Compile it manually.\n"
     ]
    },
    {
     "name": "stderr",
     "output_type": "stream",
     "text": [
      "WARNING:tensorflow:No training configuration found in the save file, so the model was *not* compiled. Compile it manually.\n"
     ]
    },
    {
     "name": "stdout",
     "output_type": "stream",
     "text": [
      "INFO:tensorflow:Assets written to: /tmp/tmpd4eq6ifb/assets\n"
     ]
    },
    {
     "name": "stderr",
     "output_type": "stream",
     "text": [
      "INFO:tensorflow:Assets written to: /tmp/tmpd4eq6ifb/assets\n"
     ]
    },
    {
     "name": "stdout",
     "output_type": "stream",
     "text": [
      "Converted TFLite model (16551964 Bytes) saved to: tf_flowers_models/EfficentNetB0_tf_flowers_model_KMeansPlusPlus128.tflite\n",
      "INFO:tensorflow:Assets written to: /tmp/tmpxe3iq66n/assets\n"
     ]
    },
    {
     "name": "stderr",
     "output_type": "stream",
     "text": [
      "INFO:tensorflow:Assets written to: /tmp/tmpxe3iq66n/assets\n"
     ]
    },
    {
     "name": "stdout",
     "output_type": "stream",
     "text": [
      "Dynamic range quantizatized TFLite model (4916336 Bytes) saved to: tf_flowers_models/EfficentNetB0_tf_flowers_model_KMeansPlusPlus128_dynamic_rage_quantization.tflite\n",
      "INFO:tensorflow:Assets written to: /tmp/tmpa_ihq38w/assets\n"
     ]
    },
    {
     "name": "stderr",
     "output_type": "stream",
     "text": [
      "INFO:tensorflow:Assets written to: /tmp/tmpa_ihq38w/assets\n"
     ]
    },
    {
     "name": "stdout",
     "output_type": "stream",
     "text": [
      "Full integer quantizatized TFLite model (5287664 Bytes) saved to: tf_flowers_models/EfficentNetB0_tf_flowers_model_KMeansPlusPlus128_full_integer_quantization.tflite\n",
      "INFO:tensorflow:Assets written to: /tmp/tmpxw_n973y/assets\n"
     ]
    },
    {
     "name": "stderr",
     "output_type": "stream",
     "text": [
      "INFO:tensorflow:Assets written to: /tmp/tmpxw_n973y/assets\n"
     ]
    },
    {
     "name": "stdout",
     "output_type": "stream",
     "text": [
      "ERROR: Failed Full integer quantizatized with integer io TFLite model\n",
      "INFO:tensorflow:Assets written to: /tmp/tmp98a18412/assets\n"
     ]
    },
    {
     "name": "stderr",
     "output_type": "stream",
     "text": [
      "INFO:tensorflow:Assets written to: /tmp/tmp98a18412/assets\n"
     ]
    },
    {
     "name": "stdout",
     "output_type": "stream",
     "text": [
      "float16 quantizatized TFLite model (8350080 Bytes) saved to: tf_flowers_models/EfficentNetB0_tf_flowers_model_KMeansPlusPlus128_float16_quantization.tflite\n",
      "WARNING:tensorflow:No training configuration found in the save file, so the model was *not* compiled. Compile it manually.\n"
     ]
    },
    {
     "name": "stderr",
     "output_type": "stream",
     "text": [
      "WARNING:tensorflow:No training configuration found in the save file, so the model was *not* compiled. Compile it manually.\n"
     ]
    },
    {
     "name": "stdout",
     "output_type": "stream",
     "text": [
      "INFO:tensorflow:Assets written to: /tmp/tmprxcxwt3q/assets\n"
     ]
    },
    {
     "name": "stderr",
     "output_type": "stream",
     "text": [
      "INFO:tensorflow:Assets written to: /tmp/tmprxcxwt3q/assets\n"
     ]
    },
    {
     "name": "stdout",
     "output_type": "stream",
     "text": [
      "Converted TFLite model (9381848 Bytes) saved to: tf_flowers_models/MobileNetV2_tf_flowers_model_ConstantSparsity75_KMeansPlusPlus128.tflite\n",
      "INFO:tensorflow:Assets written to: /tmp/tmp5rdxdn74/assets\n"
     ]
    },
    {
     "name": "stderr",
     "output_type": "stream",
     "text": [
      "INFO:tensorflow:Assets written to: /tmp/tmp5rdxdn74/assets\n"
     ]
    },
    {
     "name": "stdout",
     "output_type": "stream",
     "text": [
      "Dynamic range quantizatized TFLite model (2769648 Bytes) saved to: tf_flowers_models/MobileNetV2_tf_flowers_model_ConstantSparsity75_KMeansPlusPlus128_dynamic_rage_quantization.tflite\n",
      "INFO:tensorflow:Assets written to: /tmp/tmpcob0xi6q/assets\n"
     ]
    },
    {
     "name": "stderr",
     "output_type": "stream",
     "text": [
      "INFO:tensorflow:Assets written to: /tmp/tmpcob0xi6q/assets\n"
     ]
    },
    {
     "name": "stdout",
     "output_type": "stream",
     "text": [
      "Full integer quantizatized TFLite model (2975920 Bytes) saved to: tf_flowers_models/MobileNetV2_tf_flowers_model_ConstantSparsity75_KMeansPlusPlus128_full_integer_quantization.tflite\n",
      "INFO:tensorflow:Assets written to: /tmp/tmpl8z0g6va/assets\n"
     ]
    },
    {
     "name": "stderr",
     "output_type": "stream",
     "text": [
      "INFO:tensorflow:Assets written to: /tmp/tmpl8z0g6va/assets\n"
     ]
    },
    {
     "name": "stdout",
     "output_type": "stream",
     "text": [
      "Full integer quantizatized with integer io TFLite model (2974680 Bytes) saved to: tf_flowers_models/MobileNetV2_tf_flowers_model_ConstantSparsity75_KMeansPlusPlus128_full_integer_quantization_integer_io.tflite\n",
      "INFO:tensorflow:Assets written to: /tmp/tmprdrs1g5v/assets\n"
     ]
    },
    {
     "name": "stderr",
     "output_type": "stream",
     "text": [
      "INFO:tensorflow:Assets written to: /tmp/tmprdrs1g5v/assets\n"
     ]
    },
    {
     "name": "stdout",
     "output_type": "stream",
     "text": [
      "float16 quantizatized TFLite model (4723808 Bytes) saved to: tf_flowers_models/MobileNetV2_tf_flowers_model_ConstantSparsity75_KMeansPlusPlus128_float16_quantization.tflite\n",
      "WARNING:tensorflow:No training configuration found in the save file, so the model was *not* compiled. Compile it manually.\n"
     ]
    },
    {
     "name": "stderr",
     "output_type": "stream",
     "text": [
      "WARNING:tensorflow:No training configuration found in the save file, so the model was *not* compiled. Compile it manually.\n"
     ]
    },
    {
     "name": "stdout",
     "output_type": "stream",
     "text": [
      "INFO:tensorflow:Assets written to: /tmp/tmp16kdmz5b/assets\n"
     ]
    },
    {
     "name": "stderr",
     "output_type": "stream",
     "text": [
      "INFO:tensorflow:Assets written to: /tmp/tmp16kdmz5b/assets\n"
     ]
    },
    {
     "name": "stdout",
     "output_type": "stream",
     "text": [
      "Converted TFLite model (9381848 Bytes) saved to: tf_flowers_models/MobileNetV2_tf_flowers_model_PolynomialDecay75_KMeansPlusPlus128.tflite\n",
      "INFO:tensorflow:Assets written to: /tmp/tmp1njgms6b/assets\n"
     ]
    },
    {
     "name": "stderr",
     "output_type": "stream",
     "text": [
      "INFO:tensorflow:Assets written to: /tmp/tmp1njgms6b/assets\n"
     ]
    },
    {
     "name": "stdout",
     "output_type": "stream",
     "text": [
      "Dynamic range quantizatized TFLite model (2769648 Bytes) saved to: tf_flowers_models/MobileNetV2_tf_flowers_model_PolynomialDecay75_KMeansPlusPlus128_dynamic_rage_quantization.tflite\n",
      "INFO:tensorflow:Assets written to: /tmp/tmpbwfmst8_/assets\n"
     ]
    },
    {
     "name": "stderr",
     "output_type": "stream",
     "text": [
      "INFO:tensorflow:Assets written to: /tmp/tmpbwfmst8_/assets\n"
     ]
    },
    {
     "name": "stdout",
     "output_type": "stream",
     "text": [
      "Full integer quantizatized TFLite model (2975920 Bytes) saved to: tf_flowers_models/MobileNetV2_tf_flowers_model_PolynomialDecay75_KMeansPlusPlus128_full_integer_quantization.tflite\n",
      "INFO:tensorflow:Assets written to: /tmp/tmp65a003cm/assets\n"
     ]
    },
    {
     "name": "stderr",
     "output_type": "stream",
     "text": [
      "INFO:tensorflow:Assets written to: /tmp/tmp65a003cm/assets\n"
     ]
    },
    {
     "name": "stdout",
     "output_type": "stream",
     "text": [
      "Full integer quantizatized with integer io TFLite model (2974680 Bytes) saved to: tf_flowers_models/MobileNetV2_tf_flowers_model_PolynomialDecay75_KMeansPlusPlus128_full_integer_quantization_integer_io.tflite\n",
      "INFO:tensorflow:Assets written to: /tmp/tmpxxg9wt77/assets\n"
     ]
    },
    {
     "name": "stderr",
     "output_type": "stream",
     "text": [
      "INFO:tensorflow:Assets written to: /tmp/tmpxxg9wt77/assets\n"
     ]
    },
    {
     "name": "stdout",
     "output_type": "stream",
     "text": [
      "float16 quantizatized TFLite model (4723808 Bytes) saved to: tf_flowers_models/MobileNetV2_tf_flowers_model_PolynomialDecay75_KMeansPlusPlus128_float16_quantization.tflite\n",
      "WARNING:tensorflow:No training configuration found in the save file, so the model was *not* compiled. Compile it manually.\n"
     ]
    },
    {
     "name": "stderr",
     "output_type": "stream",
     "text": [
      "WARNING:tensorflow:No training configuration found in the save file, so the model was *not* compiled. Compile it manually.\n"
     ]
    },
    {
     "name": "stdout",
     "output_type": "stream",
     "text": [
      "INFO:tensorflow:Assets written to: /tmp/tmpj66jm406/assets\n"
     ]
    },
    {
     "name": "stderr",
     "output_type": "stream",
     "text": [
      "INFO:tensorflow:Assets written to: /tmp/tmpj66jm406/assets\n"
     ]
    },
    {
     "name": "stdout",
     "output_type": "stream",
     "text": [
      "Converted TFLite model (16551964 Bytes) saved to: tf_flowers_models/EfficentNetB0_tf_flowers_model_PolynomialDecay90.tflite\n",
      "INFO:tensorflow:Assets written to: /tmp/tmp65hmud7y/assets\n"
     ]
    },
    {
     "name": "stderr",
     "output_type": "stream",
     "text": [
      "INFO:tensorflow:Assets written to: /tmp/tmp65hmud7y/assets\n"
     ]
    },
    {
     "name": "stdout",
     "output_type": "stream",
     "text": [
      "Dynamic range quantizatized TFLite model (4916336 Bytes) saved to: tf_flowers_models/EfficentNetB0_tf_flowers_model_PolynomialDecay90_dynamic_rage_quantization.tflite\n",
      "INFO:tensorflow:Assets written to: /tmp/tmp4s6qd9ta/assets\n"
     ]
    },
    {
     "name": "stderr",
     "output_type": "stream",
     "text": [
      "INFO:tensorflow:Assets written to: /tmp/tmp4s6qd9ta/assets\n"
     ]
    },
    {
     "name": "stdout",
     "output_type": "stream",
     "text": [
      "Full integer quantizatized TFLite model (5287664 Bytes) saved to: tf_flowers_models/EfficentNetB0_tf_flowers_model_PolynomialDecay90_full_integer_quantization.tflite\n",
      "INFO:tensorflow:Assets written to: /tmp/tmphetcgncj/assets\n"
     ]
    },
    {
     "name": "stderr",
     "output_type": "stream",
     "text": [
      "INFO:tensorflow:Assets written to: /tmp/tmphetcgncj/assets\n"
     ]
    },
    {
     "name": "stdout",
     "output_type": "stream",
     "text": [
      "ERROR: Failed Full integer quantizatized with integer io TFLite model\n",
      "INFO:tensorflow:Assets written to: /tmp/tmpsg3cqcz5/assets\n"
     ]
    },
    {
     "name": "stderr",
     "output_type": "stream",
     "text": [
      "INFO:tensorflow:Assets written to: /tmp/tmpsg3cqcz5/assets\n"
     ]
    },
    {
     "name": "stdout",
     "output_type": "stream",
     "text": [
      "float16 quantizatized TFLite model (8350080 Bytes) saved to: tf_flowers_models/EfficentNetB0_tf_flowers_model_PolynomialDecay90_float16_quantization.tflite\n",
      "WARNING:tensorflow:No training configuration found in the save file, so the model was *not* compiled. Compile it manually.\n"
     ]
    },
    {
     "name": "stderr",
     "output_type": "stream",
     "text": [
      "WARNING:tensorflow:No training configuration found in the save file, so the model was *not* compiled. Compile it manually.\n"
     ]
    },
    {
     "name": "stdout",
     "output_type": "stream",
     "text": [
      "INFO:tensorflow:Assets written to: /tmp/tmprgqkjki2/assets\n"
     ]
    },
    {
     "name": "stderr",
     "output_type": "stream",
     "text": [
      "INFO:tensorflow:Assets written to: /tmp/tmprgqkjki2/assets\n"
     ]
    },
    {
     "name": "stdout",
     "output_type": "stream",
     "text": [
      "Converted TFLite model (16551964 Bytes) saved to: tf_flowers_models/EfficentNetB0_tf_flowers_model_ConstantSparsity50.tflite\n",
      "INFO:tensorflow:Assets written to: /tmp/tmpe91p330g/assets\n"
     ]
    },
    {
     "name": "stderr",
     "output_type": "stream",
     "text": [
      "INFO:tensorflow:Assets written to: /tmp/tmpe91p330g/assets\n"
     ]
    },
    {
     "name": "stdout",
     "output_type": "stream",
     "text": [
      "Dynamic range quantizatized TFLite model (4916336 Bytes) saved to: tf_flowers_models/EfficentNetB0_tf_flowers_model_ConstantSparsity50_dynamic_rage_quantization.tflite\n",
      "INFO:tensorflow:Assets written to: /tmp/tmpdamjl4lb/assets\n"
     ]
    },
    {
     "name": "stderr",
     "output_type": "stream",
     "text": [
      "INFO:tensorflow:Assets written to: /tmp/tmpdamjl4lb/assets\n"
     ]
    },
    {
     "name": "stdout",
     "output_type": "stream",
     "text": [
      "Full integer quantizatized TFLite model (5287664 Bytes) saved to: tf_flowers_models/EfficentNetB0_tf_flowers_model_ConstantSparsity50_full_integer_quantization.tflite\n",
      "INFO:tensorflow:Assets written to: /tmp/tmpdd3obqr7/assets\n"
     ]
    },
    {
     "name": "stderr",
     "output_type": "stream",
     "text": [
      "INFO:tensorflow:Assets written to: /tmp/tmpdd3obqr7/assets\n"
     ]
    },
    {
     "name": "stdout",
     "output_type": "stream",
     "text": [
      "ERROR: Failed Full integer quantizatized with integer io TFLite model\n",
      "INFO:tensorflow:Assets written to: /tmp/tmpya1xxoj1/assets\n"
     ]
    },
    {
     "name": "stderr",
     "output_type": "stream",
     "text": [
      "INFO:tensorflow:Assets written to: /tmp/tmpya1xxoj1/assets\n"
     ]
    },
    {
     "name": "stdout",
     "output_type": "stream",
     "text": [
      "float16 quantizatized TFLite model (8350080 Bytes) saved to: tf_flowers_models/EfficentNetB0_tf_flowers_model_ConstantSparsity50_float16_quantization.tflite\n",
      "WARNING:tensorflow:No training configuration found in the save file, so the model was *not* compiled. Compile it manually.\n"
     ]
    },
    {
     "name": "stderr",
     "output_type": "stream",
     "text": [
      "WARNING:tensorflow:No training configuration found in the save file, so the model was *not* compiled. Compile it manually.\n"
     ]
    },
    {
     "name": "stdout",
     "output_type": "stream",
     "text": [
      "INFO:tensorflow:Assets written to: /tmp/tmp8wxl50kk/assets\n"
     ]
    },
    {
     "name": "stderr",
     "output_type": "stream",
     "text": [
      "INFO:tensorflow:Assets written to: /tmp/tmp8wxl50kk/assets\n"
     ]
    },
    {
     "name": "stdout",
     "output_type": "stream",
     "text": [
      "Converted TFLite model (9381848 Bytes) saved to: tf_flowers_models/MobileNetV2_tf_flowers_model_ConstantSparsity50_KMeansPlusPlus128.tflite\n",
      "INFO:tensorflow:Assets written to: /tmp/tmp8agxq_9c/assets\n"
     ]
    },
    {
     "name": "stderr",
     "output_type": "stream",
     "text": [
      "INFO:tensorflow:Assets written to: /tmp/tmp8agxq_9c/assets\n"
     ]
    },
    {
     "name": "stdout",
     "output_type": "stream",
     "text": [
      "Dynamic range quantizatized TFLite model (2769648 Bytes) saved to: tf_flowers_models/MobileNetV2_tf_flowers_model_ConstantSparsity50_KMeansPlusPlus128_dynamic_rage_quantization.tflite\n",
      "INFO:tensorflow:Assets written to: /tmp/tmpx4_kj57f/assets\n"
     ]
    },
    {
     "name": "stderr",
     "output_type": "stream",
     "text": [
      "INFO:tensorflow:Assets written to: /tmp/tmpx4_kj57f/assets\n"
     ]
    },
    {
     "name": "stdout",
     "output_type": "stream",
     "text": [
      "Full integer quantizatized TFLite model (2975920 Bytes) saved to: tf_flowers_models/MobileNetV2_tf_flowers_model_ConstantSparsity50_KMeansPlusPlus128_full_integer_quantization.tflite\n",
      "INFO:tensorflow:Assets written to: /tmp/tmpq2iyuyyf/assets\n"
     ]
    },
    {
     "name": "stderr",
     "output_type": "stream",
     "text": [
      "INFO:tensorflow:Assets written to: /tmp/tmpq2iyuyyf/assets\n"
     ]
    },
    {
     "name": "stdout",
     "output_type": "stream",
     "text": [
      "Full integer quantizatized with integer io TFLite model (2974680 Bytes) saved to: tf_flowers_models/MobileNetV2_tf_flowers_model_ConstantSparsity50_KMeansPlusPlus128_full_integer_quantization_integer_io.tflite\n",
      "INFO:tensorflow:Assets written to: /tmp/tmpmjd0irq1/assets\n"
     ]
    },
    {
     "name": "stderr",
     "output_type": "stream",
     "text": [
      "INFO:tensorflow:Assets written to: /tmp/tmpmjd0irq1/assets\n"
     ]
    },
    {
     "name": "stdout",
     "output_type": "stream",
     "text": [
      "float16 quantizatized TFLite model (4723808 Bytes) saved to: tf_flowers_models/MobileNetV2_tf_flowers_model_ConstantSparsity50_KMeansPlusPlus128_float16_quantization.tflite\n",
      "WARNING:tensorflow:No training configuration found in the save file, so the model was *not* compiled. Compile it manually.\n"
     ]
    },
    {
     "name": "stderr",
     "output_type": "stream",
     "text": [
      "WARNING:tensorflow:No training configuration found in the save file, so the model was *not* compiled. Compile it manually.\n"
     ]
    },
    {
     "name": "stdout",
     "output_type": "stream",
     "text": [
      "INFO:tensorflow:Assets written to: /tmp/tmp8838tobj/assets\n"
     ]
    },
    {
     "name": "stderr",
     "output_type": "stream",
     "text": [
      "INFO:tensorflow:Assets written to: /tmp/tmp8838tobj/assets\n"
     ]
    },
    {
     "name": "stdout",
     "output_type": "stream",
     "text": [
      "Converted TFLite model (9381848 Bytes) saved to: tf_flowers_models/MobileNetV2_tf_flowers_model_PolynomialDecay75.tflite\n",
      "INFO:tensorflow:Assets written to: /tmp/tmpyqy5jztd/assets\n"
     ]
    },
    {
     "name": "stderr",
     "output_type": "stream",
     "text": [
      "INFO:tensorflow:Assets written to: /tmp/tmpyqy5jztd/assets\n"
     ]
    },
    {
     "name": "stdout",
     "output_type": "stream",
     "text": [
      "Dynamic range quantizatized TFLite model (2769648 Bytes) saved to: tf_flowers_models/MobileNetV2_tf_flowers_model_PolynomialDecay75_dynamic_rage_quantization.tflite\n",
      "INFO:tensorflow:Assets written to: /tmp/tmp34c08hn7/assets\n"
     ]
    },
    {
     "name": "stderr",
     "output_type": "stream",
     "text": [
      "INFO:tensorflow:Assets written to: /tmp/tmp34c08hn7/assets\n"
     ]
    },
    {
     "name": "stdout",
     "output_type": "stream",
     "text": [
      "Full integer quantizatized TFLite model (2975920 Bytes) saved to: tf_flowers_models/MobileNetV2_tf_flowers_model_PolynomialDecay75_full_integer_quantization.tflite\n",
      "INFO:tensorflow:Assets written to: /tmp/tmp2f6r2inz/assets\n"
     ]
    },
    {
     "name": "stderr",
     "output_type": "stream",
     "text": [
      "INFO:tensorflow:Assets written to: /tmp/tmp2f6r2inz/assets\n"
     ]
    },
    {
     "name": "stdout",
     "output_type": "stream",
     "text": [
      "Full integer quantizatized with integer io TFLite model (2974680 Bytes) saved to: tf_flowers_models/MobileNetV2_tf_flowers_model_PolynomialDecay75_full_integer_quantization_integer_io.tflite\n",
      "INFO:tensorflow:Assets written to: /tmp/tmp9d4lkt7l/assets\n"
     ]
    },
    {
     "name": "stderr",
     "output_type": "stream",
     "text": [
      "INFO:tensorflow:Assets written to: /tmp/tmp9d4lkt7l/assets\n"
     ]
    },
    {
     "name": "stdout",
     "output_type": "stream",
     "text": [
      "float16 quantizatized TFLite model (4723808 Bytes) saved to: tf_flowers_models/MobileNetV2_tf_flowers_model_PolynomialDecay75_float16_quantization.tflite\n",
      "WARNING:tensorflow:No training configuration found in the save file, so the model was *not* compiled. Compile it manually.\n"
     ]
    },
    {
     "name": "stderr",
     "output_type": "stream",
     "text": [
      "WARNING:tensorflow:No training configuration found in the save file, so the model was *not* compiled. Compile it manually.\n"
     ]
    },
    {
     "name": "stdout",
     "output_type": "stream",
     "text": [
      "INFO:tensorflow:Assets written to: /tmp/tmpimza5eyy/assets\n"
     ]
    },
    {
     "name": "stderr",
     "output_type": "stream",
     "text": [
      "INFO:tensorflow:Assets written to: /tmp/tmpimza5eyy/assets\n"
     ]
    },
    {
     "name": "stdout",
     "output_type": "stream",
     "text": [
      "Converted TFLite model (9381848 Bytes) saved to: tf_flowers_models/MobileNetV2_tf_flowers_model_ConstantSparsity50.tflite\n",
      "INFO:tensorflow:Assets written to: /tmp/tmpi7wnd00c/assets\n"
     ]
    },
    {
     "name": "stderr",
     "output_type": "stream",
     "text": [
      "INFO:tensorflow:Assets written to: /tmp/tmpi7wnd00c/assets\n"
     ]
    },
    {
     "name": "stdout",
     "output_type": "stream",
     "text": [
      "Dynamic range quantizatized TFLite model (2769648 Bytes) saved to: tf_flowers_models/MobileNetV2_tf_flowers_model_ConstantSparsity50_dynamic_rage_quantization.tflite\n",
      "INFO:tensorflow:Assets written to: /tmp/tmpnlvaqt93/assets\n"
     ]
    },
    {
     "name": "stderr",
     "output_type": "stream",
     "text": [
      "INFO:tensorflow:Assets written to: /tmp/tmpnlvaqt93/assets\n"
     ]
    },
    {
     "name": "stdout",
     "output_type": "stream",
     "text": [
      "Full integer quantizatized TFLite model (2975920 Bytes) saved to: tf_flowers_models/MobileNetV2_tf_flowers_model_ConstantSparsity50_full_integer_quantization.tflite\n",
      "INFO:tensorflow:Assets written to: /tmp/tmph4tamf69/assets\n"
     ]
    },
    {
     "name": "stderr",
     "output_type": "stream",
     "text": [
      "INFO:tensorflow:Assets written to: /tmp/tmph4tamf69/assets\n"
     ]
    },
    {
     "name": "stdout",
     "output_type": "stream",
     "text": [
      "Full integer quantizatized with integer io TFLite model (2974680 Bytes) saved to: tf_flowers_models/MobileNetV2_tf_flowers_model_ConstantSparsity50_full_integer_quantization_integer_io.tflite\n",
      "INFO:tensorflow:Assets written to: /tmp/tmpspexonuc/assets\n"
     ]
    },
    {
     "name": "stderr",
     "output_type": "stream",
     "text": [
      "INFO:tensorflow:Assets written to: /tmp/tmpspexonuc/assets\n"
     ]
    },
    {
     "name": "stdout",
     "output_type": "stream",
     "text": [
      "float16 quantizatized TFLite model (4723808 Bytes) saved to: tf_flowers_models/MobileNetV2_tf_flowers_model_ConstantSparsity50_float16_quantization.tflite\n",
      "WARNING:tensorflow:No training configuration found in the save file, so the model was *not* compiled. Compile it manually.\n"
     ]
    },
    {
     "name": "stderr",
     "output_type": "stream",
     "text": [
      "WARNING:tensorflow:No training configuration found in the save file, so the model was *not* compiled. Compile it manually.\n"
     ]
    },
    {
     "name": "stdout",
     "output_type": "stream",
     "text": [
      "INFO:tensorflow:Assets written to: /tmp/tmpce0penn2/assets\n"
     ]
    },
    {
     "name": "stderr",
     "output_type": "stream",
     "text": [
      "INFO:tensorflow:Assets written to: /tmp/tmpce0penn2/assets\n"
     ]
    },
    {
     "name": "stdout",
     "output_type": "stream",
     "text": [
      "Converted TFLite model (16551964 Bytes) saved to: tf_flowers_models/EfficentNetB0_tf_flowers_model_ConstantSparsity50_KMeansPlusPlus32.tflite\n",
      "INFO:tensorflow:Assets written to: /tmp/tmpr7f5coud/assets\n"
     ]
    },
    {
     "name": "stderr",
     "output_type": "stream",
     "text": [
      "INFO:tensorflow:Assets written to: /tmp/tmpr7f5coud/assets\n"
     ]
    },
    {
     "name": "stdout",
     "output_type": "stream",
     "text": [
      "Dynamic range quantizatized TFLite model (4916336 Bytes) saved to: tf_flowers_models/EfficentNetB0_tf_flowers_model_ConstantSparsity50_KMeansPlusPlus32_dynamic_rage_quantization.tflite\n",
      "INFO:tensorflow:Assets written to: /tmp/tmpcd9znz6o/assets\n"
     ]
    },
    {
     "name": "stderr",
     "output_type": "stream",
     "text": [
      "INFO:tensorflow:Assets written to: /tmp/tmpcd9znz6o/assets\n"
     ]
    },
    {
     "name": "stdout",
     "output_type": "stream",
     "text": [
      "Full integer quantizatized TFLite model (5287664 Bytes) saved to: tf_flowers_models/EfficentNetB0_tf_flowers_model_ConstantSparsity50_KMeansPlusPlus32_full_integer_quantization.tflite\n",
      "INFO:tensorflow:Assets written to: /tmp/tmp8sacxnsq/assets\n"
     ]
    },
    {
     "name": "stderr",
     "output_type": "stream",
     "text": [
      "INFO:tensorflow:Assets written to: /tmp/tmp8sacxnsq/assets\n"
     ]
    },
    {
     "name": "stdout",
     "output_type": "stream",
     "text": [
      "ERROR: Failed Full integer quantizatized with integer io TFLite model\n",
      "INFO:tensorflow:Assets written to: /tmp/tmp5h8xozhc/assets\n"
     ]
    },
    {
     "name": "stderr",
     "output_type": "stream",
     "text": [
      "INFO:tensorflow:Assets written to: /tmp/tmp5h8xozhc/assets\n"
     ]
    },
    {
     "name": "stdout",
     "output_type": "stream",
     "text": [
      "float16 quantizatized TFLite model (8350080 Bytes) saved to: tf_flowers_models/EfficentNetB0_tf_flowers_model_ConstantSparsity50_KMeansPlusPlus32_float16_quantization.tflite\n",
      "WARNING:tensorflow:No training configuration found in the save file, so the model was *not* compiled. Compile it manually.\n"
     ]
    },
    {
     "name": "stderr",
     "output_type": "stream",
     "text": [
      "WARNING:tensorflow:No training configuration found in the save file, so the model was *not* compiled. Compile it manually.\n"
     ]
    },
    {
     "name": "stdout",
     "output_type": "stream",
     "text": [
      "INFO:tensorflow:Assets written to: /tmp/tmp354azghx/assets\n"
     ]
    },
    {
     "name": "stderr",
     "output_type": "stream",
     "text": [
      "INFO:tensorflow:Assets written to: /tmp/tmp354azghx/assets\n"
     ]
    },
    {
     "name": "stdout",
     "output_type": "stream",
     "text": [
      "Converted TFLite model (9381848 Bytes) saved to: tf_flowers_models/MobileNetV2_tf_flowers_model_PolynomialDecay90_KMeansPlusPlus32.tflite\n",
      "INFO:tensorflow:Assets written to: /tmp/tmpjqfhoptz/assets\n"
     ]
    },
    {
     "name": "stderr",
     "output_type": "stream",
     "text": [
      "INFO:tensorflow:Assets written to: /tmp/tmpjqfhoptz/assets\n"
     ]
    },
    {
     "name": "stdout",
     "output_type": "stream",
     "text": [
      "Dynamic range quantizatized TFLite model (2769648 Bytes) saved to: tf_flowers_models/MobileNetV2_tf_flowers_model_PolynomialDecay90_KMeansPlusPlus32_dynamic_rage_quantization.tflite\n",
      "INFO:tensorflow:Assets written to: /tmp/tmpw8_nelim/assets\n"
     ]
    },
    {
     "name": "stderr",
     "output_type": "stream",
     "text": [
      "INFO:tensorflow:Assets written to: /tmp/tmpw8_nelim/assets\n"
     ]
    },
    {
     "name": "stdout",
     "output_type": "stream",
     "text": [
      "Full integer quantizatized TFLite model (2975920 Bytes) saved to: tf_flowers_models/MobileNetV2_tf_flowers_model_PolynomialDecay90_KMeansPlusPlus32_full_integer_quantization.tflite\n",
      "INFO:tensorflow:Assets written to: /tmp/tmpclz2ddx0/assets\n"
     ]
    },
    {
     "name": "stderr",
     "output_type": "stream",
     "text": [
      "INFO:tensorflow:Assets written to: /tmp/tmpclz2ddx0/assets\n"
     ]
    },
    {
     "name": "stdout",
     "output_type": "stream",
     "text": [
      "Full integer quantizatized with integer io TFLite model (2974680 Bytes) saved to: tf_flowers_models/MobileNetV2_tf_flowers_model_PolynomialDecay90_KMeansPlusPlus32_full_integer_quantization_integer_io.tflite\n",
      "INFO:tensorflow:Assets written to: /tmp/tmpl7u0v148/assets\n"
     ]
    },
    {
     "name": "stderr",
     "output_type": "stream",
     "text": [
      "INFO:tensorflow:Assets written to: /tmp/tmpl7u0v148/assets\n"
     ]
    },
    {
     "name": "stdout",
     "output_type": "stream",
     "text": [
      "float16 quantizatized TFLite model (4723808 Bytes) saved to: tf_flowers_models/MobileNetV2_tf_flowers_model_PolynomialDecay90_KMeansPlusPlus32_float16_quantization.tflite\n",
      "WARNING:tensorflow:No training configuration found in the save file, so the model was *not* compiled. Compile it manually.\n"
     ]
    },
    {
     "name": "stderr",
     "output_type": "stream",
     "text": [
      "WARNING:tensorflow:No training configuration found in the save file, so the model was *not* compiled. Compile it manually.\n"
     ]
    },
    {
     "name": "stdout",
     "output_type": "stream",
     "text": [
      "INFO:tensorflow:Assets written to: /tmp/tmpf9221whx/assets\n"
     ]
    },
    {
     "name": "stderr",
     "output_type": "stream",
     "text": [
      "INFO:tensorflow:Assets written to: /tmp/tmpf9221whx/assets\n"
     ]
    },
    {
     "name": "stdout",
     "output_type": "stream",
     "text": [
      "Converted TFLite model (9381848 Bytes) saved to: tf_flowers_models/MobileNetV2_tf_flowers_model_PolynomialDecay50_KMeansPlusPlus32.tflite\n",
      "INFO:tensorflow:Assets written to: /tmp/tmpuz64chsu/assets\n"
     ]
    },
    {
     "name": "stderr",
     "output_type": "stream",
     "text": [
      "INFO:tensorflow:Assets written to: /tmp/tmpuz64chsu/assets\n"
     ]
    },
    {
     "name": "stdout",
     "output_type": "stream",
     "text": [
      "Dynamic range quantizatized TFLite model (2769648 Bytes) saved to: tf_flowers_models/MobileNetV2_tf_flowers_model_PolynomialDecay50_KMeansPlusPlus32_dynamic_rage_quantization.tflite\n",
      "INFO:tensorflow:Assets written to: /tmp/tmp31takucs/assets\n"
     ]
    },
    {
     "name": "stderr",
     "output_type": "stream",
     "text": [
      "INFO:tensorflow:Assets written to: /tmp/tmp31takucs/assets\n"
     ]
    },
    {
     "name": "stdout",
     "output_type": "stream",
     "text": [
      "Full integer quantizatized TFLite model (2975920 Bytes) saved to: tf_flowers_models/MobileNetV2_tf_flowers_model_PolynomialDecay50_KMeansPlusPlus32_full_integer_quantization.tflite\n",
      "INFO:tensorflow:Assets written to: /tmp/tmperqz69u6/assets\n"
     ]
    },
    {
     "name": "stderr",
     "output_type": "stream",
     "text": [
      "INFO:tensorflow:Assets written to: /tmp/tmperqz69u6/assets\n"
     ]
    },
    {
     "name": "stdout",
     "output_type": "stream",
     "text": [
      "Full integer quantizatized with integer io TFLite model (2974680 Bytes) saved to: tf_flowers_models/MobileNetV2_tf_flowers_model_PolynomialDecay50_KMeansPlusPlus32_full_integer_quantization_integer_io.tflite\n",
      "INFO:tensorflow:Assets written to: /tmp/tmpf3df76gh/assets\n"
     ]
    },
    {
     "name": "stderr",
     "output_type": "stream",
     "text": [
      "INFO:tensorflow:Assets written to: /tmp/tmpf3df76gh/assets\n"
     ]
    },
    {
     "name": "stdout",
     "output_type": "stream",
     "text": [
      "float16 quantizatized TFLite model (4723808 Bytes) saved to: tf_flowers_models/MobileNetV2_tf_flowers_model_PolynomialDecay50_KMeansPlusPlus32_float16_quantization.tflite\n",
      "WARNING:tensorflow:No training configuration found in the save file, so the model was *not* compiled. Compile it manually.\n"
     ]
    },
    {
     "name": "stderr",
     "output_type": "stream",
     "text": [
      "WARNING:tensorflow:No training configuration found in the save file, so the model was *not* compiled. Compile it manually.\n"
     ]
    },
    {
     "name": "stdout",
     "output_type": "stream",
     "text": [
      "INFO:tensorflow:Assets written to: /tmp/tmpk4pcrfxm/assets\n"
     ]
    },
    {
     "name": "stderr",
     "output_type": "stream",
     "text": [
      "INFO:tensorflow:Assets written to: /tmp/tmpk4pcrfxm/assets\n"
     ]
    },
    {
     "name": "stdout",
     "output_type": "stream",
     "text": [
      "Converted TFLite model (16551964 Bytes) saved to: tf_flowers_models/EfficentNetB0_tf_flowers_model_ConstantSparsity75_KMeansPlusPlus32.tflite\n",
      "INFO:tensorflow:Assets written to: /tmp/tmpylzxqynv/assets\n"
     ]
    },
    {
     "name": "stderr",
     "output_type": "stream",
     "text": [
      "INFO:tensorflow:Assets written to: /tmp/tmpylzxqynv/assets\n"
     ]
    },
    {
     "name": "stdout",
     "output_type": "stream",
     "text": [
      "Dynamic range quantizatized TFLite model (4916336 Bytes) saved to: tf_flowers_models/EfficentNetB0_tf_flowers_model_ConstantSparsity75_KMeansPlusPlus32_dynamic_rage_quantization.tflite\n",
      "INFO:tensorflow:Assets written to: /tmp/tmpe3za_u95/assets\n"
     ]
    },
    {
     "name": "stderr",
     "output_type": "stream",
     "text": [
      "INFO:tensorflow:Assets written to: /tmp/tmpe3za_u95/assets\n"
     ]
    },
    {
     "name": "stdout",
     "output_type": "stream",
     "text": [
      "Full integer quantizatized TFLite model (5287664 Bytes) saved to: tf_flowers_models/EfficentNetB0_tf_flowers_model_ConstantSparsity75_KMeansPlusPlus32_full_integer_quantization.tflite\n",
      "INFO:tensorflow:Assets written to: /tmp/tmpi8comkle/assets\n"
     ]
    },
    {
     "name": "stderr",
     "output_type": "stream",
     "text": [
      "INFO:tensorflow:Assets written to: /tmp/tmpi8comkle/assets\n"
     ]
    },
    {
     "name": "stdout",
     "output_type": "stream",
     "text": [
      "ERROR: Failed Full integer quantizatized with integer io TFLite model\n",
      "INFO:tensorflow:Assets written to: /tmp/tmpriz495p5/assets\n"
     ]
    },
    {
     "name": "stderr",
     "output_type": "stream",
     "text": [
      "INFO:tensorflow:Assets written to: /tmp/tmpriz495p5/assets\n"
     ]
    },
    {
     "name": "stdout",
     "output_type": "stream",
     "text": [
      "float16 quantizatized TFLite model (8350080 Bytes) saved to: tf_flowers_models/EfficentNetB0_tf_flowers_model_ConstantSparsity75_KMeansPlusPlus32_float16_quantization.tflite\n",
      "WARNING:tensorflow:No training configuration found in the save file, so the model was *not* compiled. Compile it manually.\n"
     ]
    },
    {
     "name": "stderr",
     "output_type": "stream",
     "text": [
      "WARNING:tensorflow:No training configuration found in the save file, so the model was *not* compiled. Compile it manually.\n"
     ]
    },
    {
     "name": "stdout",
     "output_type": "stream",
     "text": [
      "INFO:tensorflow:Assets written to: /tmp/tmptpvmls8l/assets\n"
     ]
    },
    {
     "name": "stderr",
     "output_type": "stream",
     "text": [
      "INFO:tensorflow:Assets written to: /tmp/tmptpvmls8l/assets\n"
     ]
    },
    {
     "name": "stdout",
     "output_type": "stream",
     "text": [
      "Converted TFLite model (16551964 Bytes) saved to: tf_flowers_models/EfficentNetB0_tf_flowers_model_PolynomialDecay90_KMeansPlusPlus128.tflite\n",
      "INFO:tensorflow:Assets written to: /tmp/tmpbo_6iakh/assets\n"
     ]
    },
    {
     "name": "stderr",
     "output_type": "stream",
     "text": [
      "INFO:tensorflow:Assets written to: /tmp/tmpbo_6iakh/assets\n"
     ]
    },
    {
     "name": "stdout",
     "output_type": "stream",
     "text": [
      "Dynamic range quantizatized TFLite model (4916336 Bytes) saved to: tf_flowers_models/EfficentNetB0_tf_flowers_model_PolynomialDecay90_KMeansPlusPlus128_dynamic_rage_quantization.tflite\n",
      "INFO:tensorflow:Assets written to: /tmp/tmpihqvnbz8/assets\n"
     ]
    },
    {
     "name": "stderr",
     "output_type": "stream",
     "text": [
      "INFO:tensorflow:Assets written to: /tmp/tmpihqvnbz8/assets\n"
     ]
    },
    {
     "name": "stdout",
     "output_type": "stream",
     "text": [
      "Full integer quantizatized TFLite model (5287664 Bytes) saved to: tf_flowers_models/EfficentNetB0_tf_flowers_model_PolynomialDecay90_KMeansPlusPlus128_full_integer_quantization.tflite\n",
      "INFO:tensorflow:Assets written to: /tmp/tmpr5zhvfee/assets\n"
     ]
    },
    {
     "name": "stderr",
     "output_type": "stream",
     "text": [
      "INFO:tensorflow:Assets written to: /tmp/tmpr5zhvfee/assets\n"
     ]
    },
    {
     "name": "stdout",
     "output_type": "stream",
     "text": [
      "ERROR: Failed Full integer quantizatized with integer io TFLite model\n",
      "INFO:tensorflow:Assets written to: /tmp/tmp0ma32b6t/assets\n"
     ]
    },
    {
     "name": "stderr",
     "output_type": "stream",
     "text": [
      "INFO:tensorflow:Assets written to: /tmp/tmp0ma32b6t/assets\n"
     ]
    },
    {
     "name": "stdout",
     "output_type": "stream",
     "text": [
      "float16 quantizatized TFLite model (8350080 Bytes) saved to: tf_flowers_models/EfficentNetB0_tf_flowers_model_PolynomialDecay90_KMeansPlusPlus128_float16_quantization.tflite\n",
      "WARNING:tensorflow:No training configuration found in the save file, so the model was *not* compiled. Compile it manually.\n"
     ]
    },
    {
     "name": "stderr",
     "output_type": "stream",
     "text": [
      "WARNING:tensorflow:No training configuration found in the save file, so the model was *not* compiled. Compile it manually.\n"
     ]
    },
    {
     "name": "stdout",
     "output_type": "stream",
     "text": [
      "INFO:tensorflow:Assets written to: /tmp/tmptfczu_1o/assets\n"
     ]
    },
    {
     "name": "stderr",
     "output_type": "stream",
     "text": [
      "INFO:tensorflow:Assets written to: /tmp/tmptfczu_1o/assets\n"
     ]
    },
    {
     "name": "stdout",
     "output_type": "stream",
     "text": [
      "Converted TFLite model (9381848 Bytes) saved to: tf_flowers_models/MobileNetV2_tf_flowers_model_PolynomialDecay50.tflite\n",
      "INFO:tensorflow:Assets written to: /tmp/tmpavj6im1k/assets\n"
     ]
    },
    {
     "name": "stderr",
     "output_type": "stream",
     "text": [
      "INFO:tensorflow:Assets written to: /tmp/tmpavj6im1k/assets\n"
     ]
    },
    {
     "name": "stdout",
     "output_type": "stream",
     "text": [
      "Dynamic range quantizatized TFLite model (2769648 Bytes) saved to: tf_flowers_models/MobileNetV2_tf_flowers_model_PolynomialDecay50_dynamic_rage_quantization.tflite\n",
      "INFO:tensorflow:Assets written to: /tmp/tmpdia054p1/assets\n"
     ]
    },
    {
     "name": "stderr",
     "output_type": "stream",
     "text": [
      "INFO:tensorflow:Assets written to: /tmp/tmpdia054p1/assets\n"
     ]
    },
    {
     "name": "stdout",
     "output_type": "stream",
     "text": [
      "Full integer quantizatized TFLite model (2975920 Bytes) saved to: tf_flowers_models/MobileNetV2_tf_flowers_model_PolynomialDecay50_full_integer_quantization.tflite\n",
      "INFO:tensorflow:Assets written to: /tmp/tmp8b40qg65/assets\n"
     ]
    },
    {
     "name": "stderr",
     "output_type": "stream",
     "text": [
      "INFO:tensorflow:Assets written to: /tmp/tmp8b40qg65/assets\n"
     ]
    },
    {
     "name": "stdout",
     "output_type": "stream",
     "text": [
      "Full integer quantizatized with integer io TFLite model (2974680 Bytes) saved to: tf_flowers_models/MobileNetV2_tf_flowers_model_PolynomialDecay50_full_integer_quantization_integer_io.tflite\n",
      "INFO:tensorflow:Assets written to: /tmp/tmpn6x7o3os/assets\n"
     ]
    },
    {
     "name": "stderr",
     "output_type": "stream",
     "text": [
      "INFO:tensorflow:Assets written to: /tmp/tmpn6x7o3os/assets\n"
     ]
    },
    {
     "name": "stdout",
     "output_type": "stream",
     "text": [
      "float16 quantizatized TFLite model (4723808 Bytes) saved to: tf_flowers_models/MobileNetV2_tf_flowers_model_PolynomialDecay50_float16_quantization.tflite\n",
      "WARNING:tensorflow:No training configuration found in the save file, so the model was *not* compiled. Compile it manually.\n"
     ]
    },
    {
     "name": "stderr",
     "output_type": "stream",
     "text": [
      "WARNING:tensorflow:No training configuration found in the save file, so the model was *not* compiled. Compile it manually.\n"
     ]
    },
    {
     "name": "stdout",
     "output_type": "stream",
     "text": [
      "INFO:tensorflow:Assets written to: /tmp/tmpp11hbuwp/assets\n"
     ]
    },
    {
     "name": "stderr",
     "output_type": "stream",
     "text": [
      "INFO:tensorflow:Assets written to: /tmp/tmpp11hbuwp/assets\n"
     ]
    },
    {
     "name": "stdout",
     "output_type": "stream",
     "text": [
      "Converted TFLite model (9381848 Bytes) saved to: tf_flowers_models/MobileNetV2_tf_flowers_model_ConstantSparsity50_KMeansPlusPlus32.tflite\n",
      "INFO:tensorflow:Assets written to: /tmp/tmp7ckp7e9x/assets\n"
     ]
    },
    {
     "name": "stderr",
     "output_type": "stream",
     "text": [
      "INFO:tensorflow:Assets written to: /tmp/tmp7ckp7e9x/assets\n"
     ]
    },
    {
     "name": "stdout",
     "output_type": "stream",
     "text": [
      "Dynamic range quantizatized TFLite model (2769648 Bytes) saved to: tf_flowers_models/MobileNetV2_tf_flowers_model_ConstantSparsity50_KMeansPlusPlus32_dynamic_rage_quantization.tflite\n",
      "INFO:tensorflow:Assets written to: /tmp/tmphmfd21yf/assets\n"
     ]
    },
    {
     "name": "stderr",
     "output_type": "stream",
     "text": [
      "INFO:tensorflow:Assets written to: /tmp/tmphmfd21yf/assets\n"
     ]
    },
    {
     "name": "stdout",
     "output_type": "stream",
     "text": [
      "Full integer quantizatized TFLite model (2975920 Bytes) saved to: tf_flowers_models/MobileNetV2_tf_flowers_model_ConstantSparsity50_KMeansPlusPlus32_full_integer_quantization.tflite\n",
      "INFO:tensorflow:Assets written to: /tmp/tmpxzxvz9lj/assets\n"
     ]
    },
    {
     "name": "stderr",
     "output_type": "stream",
     "text": [
      "INFO:tensorflow:Assets written to: /tmp/tmpxzxvz9lj/assets\n"
     ]
    },
    {
     "name": "stdout",
     "output_type": "stream",
     "text": [
      "Full integer quantizatized with integer io TFLite model (2974680 Bytes) saved to: tf_flowers_models/MobileNetV2_tf_flowers_model_ConstantSparsity50_KMeansPlusPlus32_full_integer_quantization_integer_io.tflite\n",
      "INFO:tensorflow:Assets written to: /tmp/tmpkrzzcuxf/assets\n"
     ]
    },
    {
     "name": "stderr",
     "output_type": "stream",
     "text": [
      "INFO:tensorflow:Assets written to: /tmp/tmpkrzzcuxf/assets\n"
     ]
    },
    {
     "name": "stdout",
     "output_type": "stream",
     "text": [
      "float16 quantizatized TFLite model (4723808 Bytes) saved to: tf_flowers_models/MobileNetV2_tf_flowers_model_ConstantSparsity50_KMeansPlusPlus32_float16_quantization.tflite\n",
      "WARNING:tensorflow:No training configuration found in the save file, so the model was *not* compiled. Compile it manually.\n"
     ]
    },
    {
     "name": "stderr",
     "output_type": "stream",
     "text": [
      "WARNING:tensorflow:No training configuration found in the save file, so the model was *not* compiled. Compile it manually.\n"
     ]
    },
    {
     "name": "stdout",
     "output_type": "stream",
     "text": [
      "INFO:tensorflow:Assets written to: /tmp/tmp5mw73dfb/assets\n"
     ]
    },
    {
     "name": "stderr",
     "output_type": "stream",
     "text": [
      "INFO:tensorflow:Assets written to: /tmp/tmp5mw73dfb/assets\n"
     ]
    },
    {
     "name": "stdout",
     "output_type": "stream",
     "text": [
      "Converted TFLite model (16551964 Bytes) saved to: tf_flowers_models/EfficentNetB0_tf_flowers_model_PolynomialDecay75.tflite\n",
      "INFO:tensorflow:Assets written to: /tmp/tmpo2q8qmjz/assets\n"
     ]
    },
    {
     "name": "stderr",
     "output_type": "stream",
     "text": [
      "INFO:tensorflow:Assets written to: /tmp/tmpo2q8qmjz/assets\n"
     ]
    },
    {
     "name": "stdout",
     "output_type": "stream",
     "text": [
      "Dynamic range quantizatized TFLite model (4916336 Bytes) saved to: tf_flowers_models/EfficentNetB0_tf_flowers_model_PolynomialDecay75_dynamic_rage_quantization.tflite\n",
      "INFO:tensorflow:Assets written to: /tmp/tmpj__31juh/assets\n"
     ]
    },
    {
     "name": "stderr",
     "output_type": "stream",
     "text": [
      "INFO:tensorflow:Assets written to: /tmp/tmpj__31juh/assets\n"
     ]
    },
    {
     "name": "stdout",
     "output_type": "stream",
     "text": [
      "Full integer quantizatized TFLite model (5287664 Bytes) saved to: tf_flowers_models/EfficentNetB0_tf_flowers_model_PolynomialDecay75_full_integer_quantization.tflite\n",
      "INFO:tensorflow:Assets written to: /tmp/tmp0bx7kghm/assets\n"
     ]
    },
    {
     "name": "stderr",
     "output_type": "stream",
     "text": [
      "INFO:tensorflow:Assets written to: /tmp/tmp0bx7kghm/assets\n"
     ]
    },
    {
     "name": "stdout",
     "output_type": "stream",
     "text": [
      "ERROR: Failed Full integer quantizatized with integer io TFLite model\n",
      "INFO:tensorflow:Assets written to: /tmp/tmpxg3dprgl/assets\n"
     ]
    },
    {
     "name": "stderr",
     "output_type": "stream",
     "text": [
      "INFO:tensorflow:Assets written to: /tmp/tmpxg3dprgl/assets\n"
     ]
    },
    {
     "name": "stdout",
     "output_type": "stream",
     "text": [
      "float16 quantizatized TFLite model (8350080 Bytes) saved to: tf_flowers_models/EfficentNetB0_tf_flowers_model_PolynomialDecay75_float16_quantization.tflite\n",
      "WARNING:tensorflow:No training configuration found in the save file, so the model was *not* compiled. Compile it manually.\n"
     ]
    },
    {
     "name": "stderr",
     "output_type": "stream",
     "text": [
      "WARNING:tensorflow:No training configuration found in the save file, so the model was *not* compiled. Compile it manually.\n"
     ]
    },
    {
     "name": "stdout",
     "output_type": "stream",
     "text": [
      "INFO:tensorflow:Assets written to: /tmp/tmp7rade79x/assets\n"
     ]
    },
    {
     "name": "stderr",
     "output_type": "stream",
     "text": [
      "INFO:tensorflow:Assets written to: /tmp/tmp7rade79x/assets\n"
     ]
    },
    {
     "name": "stdout",
     "output_type": "stream",
     "text": [
      "Converted TFLite model (16551964 Bytes) saved to: tf_flowers_models/EfficentNetB0_tf_flowers_model_ConstantSparsity75.tflite\n",
      "INFO:tensorflow:Assets written to: /tmp/tmpjc9fhbe6/assets\n"
     ]
    },
    {
     "name": "stderr",
     "output_type": "stream",
     "text": [
      "INFO:tensorflow:Assets written to: /tmp/tmpjc9fhbe6/assets\n"
     ]
    },
    {
     "name": "stdout",
     "output_type": "stream",
     "text": [
      "Dynamic range quantizatized TFLite model (4916336 Bytes) saved to: tf_flowers_models/EfficentNetB0_tf_flowers_model_ConstantSparsity75_dynamic_rage_quantization.tflite\n",
      "INFO:tensorflow:Assets written to: /tmp/tmpur1kkb6b/assets\n"
     ]
    },
    {
     "name": "stderr",
     "output_type": "stream",
     "text": [
      "INFO:tensorflow:Assets written to: /tmp/tmpur1kkb6b/assets\n"
     ]
    },
    {
     "name": "stdout",
     "output_type": "stream",
     "text": [
      "Full integer quantizatized TFLite model (5287664 Bytes) saved to: tf_flowers_models/EfficentNetB0_tf_flowers_model_ConstantSparsity75_full_integer_quantization.tflite\n",
      "INFO:tensorflow:Assets written to: /tmp/tmpfywmqgb_/assets\n"
     ]
    },
    {
     "name": "stderr",
     "output_type": "stream",
     "text": [
      "INFO:tensorflow:Assets written to: /tmp/tmpfywmqgb_/assets\n"
     ]
    },
    {
     "name": "stdout",
     "output_type": "stream",
     "text": [
      "ERROR: Failed Full integer quantizatized with integer io TFLite model\n",
      "INFO:tensorflow:Assets written to: /tmp/tmp1smn0fke/assets\n"
     ]
    },
    {
     "name": "stderr",
     "output_type": "stream",
     "text": [
      "INFO:tensorflow:Assets written to: /tmp/tmp1smn0fke/assets\n"
     ]
    },
    {
     "name": "stdout",
     "output_type": "stream",
     "text": [
      "float16 quantizatized TFLite model (8350080 Bytes) saved to: tf_flowers_models/EfficentNetB0_tf_flowers_model_ConstantSparsity75_float16_quantization.tflite\n",
      "WARNING:tensorflow:No training configuration found in the save file, so the model was *not* compiled. Compile it manually.\n"
     ]
    },
    {
     "name": "stderr",
     "output_type": "stream",
     "text": [
      "WARNING:tensorflow:No training configuration found in the save file, so the model was *not* compiled. Compile it manually.\n"
     ]
    },
    {
     "name": "stdout",
     "output_type": "stream",
     "text": [
      "INFO:tensorflow:Assets written to: /tmp/tmpaymw7a1q/assets\n"
     ]
    },
    {
     "name": "stderr",
     "output_type": "stream",
     "text": [
      "INFO:tensorflow:Assets written to: /tmp/tmpaymw7a1q/assets\n"
     ]
    },
    {
     "name": "stdout",
     "output_type": "stream",
     "text": [
      "Converted TFLite model (9381848 Bytes) saved to: tf_flowers_models/MobileNetV2_tf_flowers_model_KMeansPlusPlus32.tflite\n",
      "INFO:tensorflow:Assets written to: /tmp/tmpuncxpuv7/assets\n"
     ]
    },
    {
     "name": "stderr",
     "output_type": "stream",
     "text": [
      "INFO:tensorflow:Assets written to: /tmp/tmpuncxpuv7/assets\n"
     ]
    },
    {
     "name": "stdout",
     "output_type": "stream",
     "text": [
      "Dynamic range quantizatized TFLite model (2769648 Bytes) saved to: tf_flowers_models/MobileNetV2_tf_flowers_model_KMeansPlusPlus32_dynamic_rage_quantization.tflite\n",
      "INFO:tensorflow:Assets written to: /tmp/tmporfk491b/assets\n"
     ]
    },
    {
     "name": "stderr",
     "output_type": "stream",
     "text": [
      "INFO:tensorflow:Assets written to: /tmp/tmporfk491b/assets\n"
     ]
    },
    {
     "name": "stdout",
     "output_type": "stream",
     "text": [
      "Full integer quantizatized TFLite model (2975920 Bytes) saved to: tf_flowers_models/MobileNetV2_tf_flowers_model_KMeansPlusPlus32_full_integer_quantization.tflite\n",
      "INFO:tensorflow:Assets written to: /tmp/tmpczq_cu35/assets\n"
     ]
    },
    {
     "name": "stderr",
     "output_type": "stream",
     "text": [
      "INFO:tensorflow:Assets written to: /tmp/tmpczq_cu35/assets\n"
     ]
    },
    {
     "name": "stdout",
     "output_type": "stream",
     "text": [
      "Full integer quantizatized with integer io TFLite model (2974680 Bytes) saved to: tf_flowers_models/MobileNetV2_tf_flowers_model_KMeansPlusPlus32_full_integer_quantization_integer_io.tflite\n",
      "INFO:tensorflow:Assets written to: /tmp/tmptzyqwev8/assets\n"
     ]
    },
    {
     "name": "stderr",
     "output_type": "stream",
     "text": [
      "INFO:tensorflow:Assets written to: /tmp/tmptzyqwev8/assets\n"
     ]
    },
    {
     "name": "stdout",
     "output_type": "stream",
     "text": [
      "float16 quantizatized TFLite model (4723808 Bytes) saved to: tf_flowers_models/MobileNetV2_tf_flowers_model_KMeansPlusPlus32_float16_quantization.tflite\n",
      "WARNING:tensorflow:No training configuration found in the save file, so the model was *not* compiled. Compile it manually.\n"
     ]
    },
    {
     "name": "stderr",
     "output_type": "stream",
     "text": [
      "WARNING:tensorflow:No training configuration found in the save file, so the model was *not* compiled. Compile it manually.\n"
     ]
    },
    {
     "name": "stdout",
     "output_type": "stream",
     "text": [
      "INFO:tensorflow:Assets written to: /tmp/tmpyd18bs85/assets\n"
     ]
    },
    {
     "name": "stderr",
     "output_type": "stream",
     "text": [
      "INFO:tensorflow:Assets written to: /tmp/tmpyd18bs85/assets\n"
     ]
    },
    {
     "name": "stdout",
     "output_type": "stream",
     "text": [
      "Converted TFLite model (9381848 Bytes) saved to: tf_flowers_models/MobileNetV2_tf_flowers_model_ConstantSparsity90_KMeansPlusPlus128.tflite\n",
      "INFO:tensorflow:Assets written to: /tmp/tmp2unnofo_/assets\n"
     ]
    },
    {
     "name": "stderr",
     "output_type": "stream",
     "text": [
      "INFO:tensorflow:Assets written to: /tmp/tmp2unnofo_/assets\n"
     ]
    },
    {
     "name": "stdout",
     "output_type": "stream",
     "text": [
      "Dynamic range quantizatized TFLite model (2769648 Bytes) saved to: tf_flowers_models/MobileNetV2_tf_flowers_model_ConstantSparsity90_KMeansPlusPlus128_dynamic_rage_quantization.tflite\n",
      "INFO:tensorflow:Assets written to: /tmp/tmp__92qro2/assets\n"
     ]
    },
    {
     "name": "stderr",
     "output_type": "stream",
     "text": [
      "INFO:tensorflow:Assets written to: /tmp/tmp__92qro2/assets\n"
     ]
    },
    {
     "name": "stdout",
     "output_type": "stream",
     "text": [
      "Full integer quantizatized TFLite model (2975920 Bytes) saved to: tf_flowers_models/MobileNetV2_tf_flowers_model_ConstantSparsity90_KMeansPlusPlus128_full_integer_quantization.tflite\n",
      "INFO:tensorflow:Assets written to: /tmp/tmpm3oowv_t/assets\n"
     ]
    },
    {
     "name": "stderr",
     "output_type": "stream",
     "text": [
      "INFO:tensorflow:Assets written to: /tmp/tmpm3oowv_t/assets\n"
     ]
    },
    {
     "name": "stdout",
     "output_type": "stream",
     "text": [
      "Full integer quantizatized with integer io TFLite model (2974680 Bytes) saved to: tf_flowers_models/MobileNetV2_tf_flowers_model_ConstantSparsity90_KMeansPlusPlus128_full_integer_quantization_integer_io.tflite\n",
      "INFO:tensorflow:Assets written to: /tmp/tmppkwvhc3q/assets\n"
     ]
    },
    {
     "name": "stderr",
     "output_type": "stream",
     "text": [
      "INFO:tensorflow:Assets written to: /tmp/tmppkwvhc3q/assets\n"
     ]
    },
    {
     "name": "stdout",
     "output_type": "stream",
     "text": [
      "float16 quantizatized TFLite model (4723808 Bytes) saved to: tf_flowers_models/MobileNetV2_tf_flowers_model_ConstantSparsity90_KMeansPlusPlus128_float16_quantization.tflite\n",
      "WARNING:tensorflow:No training configuration found in the save file, so the model was *not* compiled. Compile it manually.\n"
     ]
    },
    {
     "name": "stderr",
     "output_type": "stream",
     "text": [
      "WARNING:tensorflow:No training configuration found in the save file, so the model was *not* compiled. Compile it manually.\n"
     ]
    },
    {
     "name": "stdout",
     "output_type": "stream",
     "text": [
      "INFO:tensorflow:Assets written to: /tmp/tmpk8mjwl23/assets\n"
     ]
    },
    {
     "name": "stderr",
     "output_type": "stream",
     "text": [
      "INFO:tensorflow:Assets written to: /tmp/tmpk8mjwl23/assets\n"
     ]
    },
    {
     "name": "stdout",
     "output_type": "stream",
     "text": [
      "Converted TFLite model (9381848 Bytes) saved to: tf_flowers_models/MobileNetV2_tf_flowers_model_PolynomialDecay75_KMeansPlusPlus32.tflite\n",
      "INFO:tensorflow:Assets written to: /tmp/tmppmig332d/assets\n"
     ]
    },
    {
     "name": "stderr",
     "output_type": "stream",
     "text": [
      "INFO:tensorflow:Assets written to: /tmp/tmppmig332d/assets\n"
     ]
    },
    {
     "name": "stdout",
     "output_type": "stream",
     "text": [
      "Dynamic range quantizatized TFLite model (2769648 Bytes) saved to: tf_flowers_models/MobileNetV2_tf_flowers_model_PolynomialDecay75_KMeansPlusPlus32_dynamic_rage_quantization.tflite\n",
      "INFO:tensorflow:Assets written to: /tmp/tmp6kijw4ws/assets\n"
     ]
    },
    {
     "name": "stderr",
     "output_type": "stream",
     "text": [
      "INFO:tensorflow:Assets written to: /tmp/tmp6kijw4ws/assets\n"
     ]
    },
    {
     "name": "stdout",
     "output_type": "stream",
     "text": [
      "Full integer quantizatized TFLite model (2975920 Bytes) saved to: tf_flowers_models/MobileNetV2_tf_flowers_model_PolynomialDecay75_KMeansPlusPlus32_full_integer_quantization.tflite\n",
      "INFO:tensorflow:Assets written to: /tmp/tmprv3obevn/assets\n"
     ]
    },
    {
     "name": "stderr",
     "output_type": "stream",
     "text": [
      "INFO:tensorflow:Assets written to: /tmp/tmprv3obevn/assets\n"
     ]
    },
    {
     "name": "stdout",
     "output_type": "stream",
     "text": [
      "Full integer quantizatized with integer io TFLite model (2974680 Bytes) saved to: tf_flowers_models/MobileNetV2_tf_flowers_model_PolynomialDecay75_KMeansPlusPlus32_full_integer_quantization_integer_io.tflite\n",
      "INFO:tensorflow:Assets written to: /tmp/tmppy3fy5pb/assets\n"
     ]
    },
    {
     "name": "stderr",
     "output_type": "stream",
     "text": [
      "INFO:tensorflow:Assets written to: /tmp/tmppy3fy5pb/assets\n"
     ]
    },
    {
     "name": "stdout",
     "output_type": "stream",
     "text": [
      "float16 quantizatized TFLite model (4723808 Bytes) saved to: tf_flowers_models/MobileNetV2_tf_flowers_model_PolynomialDecay75_KMeansPlusPlus32_float16_quantization.tflite\n",
      "WARNING:tensorflow:No training configuration found in the save file, so the model was *not* compiled. Compile it manually.\n"
     ]
    },
    {
     "name": "stderr",
     "output_type": "stream",
     "text": [
      "WARNING:tensorflow:No training configuration found in the save file, so the model was *not* compiled. Compile it manually.\n"
     ]
    },
    {
     "name": "stdout",
     "output_type": "stream",
     "text": [
      "INFO:tensorflow:Assets written to: /tmp/tmpe_2jjcw0/assets\n"
     ]
    },
    {
     "name": "stderr",
     "output_type": "stream",
     "text": [
      "INFO:tensorflow:Assets written to: /tmp/tmpe_2jjcw0/assets\n"
     ]
    },
    {
     "name": "stdout",
     "output_type": "stream",
     "text": [
      "Converted TFLite model (9381848 Bytes) saved to: tf_flowers_models/MobileNetV2_tf_flowers_model_PolynomialDecay90.tflite\n",
      "INFO:tensorflow:Assets written to: /tmp/tmppydhonlc/assets\n"
     ]
    },
    {
     "name": "stderr",
     "output_type": "stream",
     "text": [
      "INFO:tensorflow:Assets written to: /tmp/tmppydhonlc/assets\n"
     ]
    },
    {
     "name": "stdout",
     "output_type": "stream",
     "text": [
      "Dynamic range quantizatized TFLite model (2769648 Bytes) saved to: tf_flowers_models/MobileNetV2_tf_flowers_model_PolynomialDecay90_dynamic_rage_quantization.tflite\n",
      "INFO:tensorflow:Assets written to: /tmp/tmp3o8l52lp/assets\n"
     ]
    },
    {
     "name": "stderr",
     "output_type": "stream",
     "text": [
      "INFO:tensorflow:Assets written to: /tmp/tmp3o8l52lp/assets\n"
     ]
    },
    {
     "name": "stdout",
     "output_type": "stream",
     "text": [
      "Full integer quantizatized TFLite model (2975920 Bytes) saved to: tf_flowers_models/MobileNetV2_tf_flowers_model_PolynomialDecay90_full_integer_quantization.tflite\n",
      "INFO:tensorflow:Assets written to: /tmp/tmps5otkcr3/assets\n"
     ]
    },
    {
     "name": "stderr",
     "output_type": "stream",
     "text": [
      "INFO:tensorflow:Assets written to: /tmp/tmps5otkcr3/assets\n"
     ]
    },
    {
     "name": "stdout",
     "output_type": "stream",
     "text": [
      "Full integer quantizatized with integer io TFLite model (2974680 Bytes) saved to: tf_flowers_models/MobileNetV2_tf_flowers_model_PolynomialDecay90_full_integer_quantization_integer_io.tflite\n",
      "INFO:tensorflow:Assets written to: /tmp/tmp5iffx0sx/assets\n"
     ]
    },
    {
     "name": "stderr",
     "output_type": "stream",
     "text": [
      "INFO:tensorflow:Assets written to: /tmp/tmp5iffx0sx/assets\n"
     ]
    },
    {
     "name": "stdout",
     "output_type": "stream",
     "text": [
      "float16 quantizatized TFLite model (4723808 Bytes) saved to: tf_flowers_models/MobileNetV2_tf_flowers_model_PolynomialDecay90_float16_quantization.tflite\n",
      "WARNING:tensorflow:No training configuration found in the save file, so the model was *not* compiled. Compile it manually.\n"
     ]
    },
    {
     "name": "stderr",
     "output_type": "stream",
     "text": [
      "WARNING:tensorflow:No training configuration found in the save file, so the model was *not* compiled. Compile it manually.\n"
     ]
    },
    {
     "name": "stdout",
     "output_type": "stream",
     "text": [
      "INFO:tensorflow:Assets written to: /tmp/tmpbrfabpe5/assets\n"
     ]
    },
    {
     "name": "stderr",
     "output_type": "stream",
     "text": [
      "INFO:tensorflow:Assets written to: /tmp/tmpbrfabpe5/assets\n"
     ]
    },
    {
     "name": "stdout",
     "output_type": "stream",
     "text": [
      "Converted TFLite model (16551964 Bytes) saved to: tf_flowers_models/EfficentNetB0_tf_flowers_model_PolynomialDecay50_KMeansPlusPlus32.tflite\n",
      "INFO:tensorflow:Assets written to: /tmp/tmp0tyqsmu5/assets\n"
     ]
    },
    {
     "name": "stderr",
     "output_type": "stream",
     "text": [
      "INFO:tensorflow:Assets written to: /tmp/tmp0tyqsmu5/assets\n"
     ]
    },
    {
     "name": "stdout",
     "output_type": "stream",
     "text": [
      "Dynamic range quantizatized TFLite model (4916336 Bytes) saved to: tf_flowers_models/EfficentNetB0_tf_flowers_model_PolynomialDecay50_KMeansPlusPlus32_dynamic_rage_quantization.tflite\n",
      "INFO:tensorflow:Assets written to: /tmp/tmp1m0lnxzw/assets\n"
     ]
    },
    {
     "name": "stderr",
     "output_type": "stream",
     "text": [
      "INFO:tensorflow:Assets written to: /tmp/tmp1m0lnxzw/assets\n"
     ]
    },
    {
     "name": "stdout",
     "output_type": "stream",
     "text": [
      "Full integer quantizatized TFLite model (5287664 Bytes) saved to: tf_flowers_models/EfficentNetB0_tf_flowers_model_PolynomialDecay50_KMeansPlusPlus32_full_integer_quantization.tflite\n",
      "INFO:tensorflow:Assets written to: /tmp/tmpqmo3l6co/assets\n"
     ]
    },
    {
     "name": "stderr",
     "output_type": "stream",
     "text": [
      "INFO:tensorflow:Assets written to: /tmp/tmpqmo3l6co/assets\n"
     ]
    },
    {
     "name": "stdout",
     "output_type": "stream",
     "text": [
      "ERROR: Failed Full integer quantizatized with integer io TFLite model\n",
      "INFO:tensorflow:Assets written to: /tmp/tmphn5_7d6y/assets\n"
     ]
    },
    {
     "name": "stderr",
     "output_type": "stream",
     "text": [
      "INFO:tensorflow:Assets written to: /tmp/tmphn5_7d6y/assets\n"
     ]
    },
    {
     "name": "stdout",
     "output_type": "stream",
     "text": [
      "float16 quantizatized TFLite model (8350080 Bytes) saved to: tf_flowers_models/EfficentNetB0_tf_flowers_model_PolynomialDecay50_KMeansPlusPlus32_float16_quantization.tflite\n",
      "WARNING:tensorflow:No training configuration found in the save file, so the model was *not* compiled. Compile it manually.\n"
     ]
    },
    {
     "name": "stderr",
     "output_type": "stream",
     "text": [
      "WARNING:tensorflow:No training configuration found in the save file, so the model was *not* compiled. Compile it manually.\n"
     ]
    },
    {
     "name": "stdout",
     "output_type": "stream",
     "text": [
      "INFO:tensorflow:Assets written to: /tmp/tmpyv7q6hci/assets\n"
     ]
    },
    {
     "name": "stderr",
     "output_type": "stream",
     "text": [
      "INFO:tensorflow:Assets written to: /tmp/tmpyv7q6hci/assets\n"
     ]
    },
    {
     "name": "stdout",
     "output_type": "stream",
     "text": [
      "Converted TFLite model (9381848 Bytes) saved to: tf_flowers_models/MobileNetV2_tf_flowers_model_PolynomialDecay50_KMeansPlusPlus128.tflite\n",
      "INFO:tensorflow:Assets written to: /tmp/tmpsp23qxo_/assets\n"
     ]
    },
    {
     "name": "stderr",
     "output_type": "stream",
     "text": [
      "INFO:tensorflow:Assets written to: /tmp/tmpsp23qxo_/assets\n"
     ]
    },
    {
     "name": "stdout",
     "output_type": "stream",
     "text": [
      "Dynamic range quantizatized TFLite model (2769648 Bytes) saved to: tf_flowers_models/MobileNetV2_tf_flowers_model_PolynomialDecay50_KMeansPlusPlus128_dynamic_rage_quantization.tflite\n",
      "INFO:tensorflow:Assets written to: /tmp/tmpm8s82dcd/assets\n"
     ]
    },
    {
     "name": "stderr",
     "output_type": "stream",
     "text": [
      "INFO:tensorflow:Assets written to: /tmp/tmpm8s82dcd/assets\n"
     ]
    },
    {
     "name": "stdout",
     "output_type": "stream",
     "text": [
      "Full integer quantizatized TFLite model (2975920 Bytes) saved to: tf_flowers_models/MobileNetV2_tf_flowers_model_PolynomialDecay50_KMeansPlusPlus128_full_integer_quantization.tflite\n",
      "INFO:tensorflow:Assets written to: /tmp/tmpol7n3jpe/assets\n"
     ]
    },
    {
     "name": "stderr",
     "output_type": "stream",
     "text": [
      "INFO:tensorflow:Assets written to: /tmp/tmpol7n3jpe/assets\n"
     ]
    },
    {
     "name": "stdout",
     "output_type": "stream",
     "text": [
      "Full integer quantizatized with integer io TFLite model (2974680 Bytes) saved to: tf_flowers_models/MobileNetV2_tf_flowers_model_PolynomialDecay50_KMeansPlusPlus128_full_integer_quantization_integer_io.tflite\n",
      "INFO:tensorflow:Assets written to: /tmp/tmpqpnkoikb/assets\n"
     ]
    },
    {
     "name": "stderr",
     "output_type": "stream",
     "text": [
      "INFO:tensorflow:Assets written to: /tmp/tmpqpnkoikb/assets\n"
     ]
    },
    {
     "name": "stdout",
     "output_type": "stream",
     "text": [
      "float16 quantizatized TFLite model (4723808 Bytes) saved to: tf_flowers_models/MobileNetV2_tf_flowers_model_PolynomialDecay50_KMeansPlusPlus128_float16_quantization.tflite\n",
      "WARNING:tensorflow:No training configuration found in the save file, so the model was *not* compiled. Compile it manually.\n"
     ]
    },
    {
     "name": "stderr",
     "output_type": "stream",
     "text": [
      "WARNING:tensorflow:No training configuration found in the save file, so the model was *not* compiled. Compile it manually.\n"
     ]
    },
    {
     "name": "stdout",
     "output_type": "stream",
     "text": [
      "INFO:tensorflow:Assets written to: /tmp/tmp5pp8ulmj/assets\n"
     ]
    },
    {
     "name": "stderr",
     "output_type": "stream",
     "text": [
      "INFO:tensorflow:Assets written to: /tmp/tmp5pp8ulmj/assets\n"
     ]
    },
    {
     "name": "stdout",
     "output_type": "stream",
     "text": [
      "Converted TFLite model (16551964 Bytes) saved to: tf_flowers_models/EfficentNetB0_tf_flowers_model_ConstantSparsity90_KMeansPlusPlus32.tflite\n",
      "INFO:tensorflow:Assets written to: /tmp/tmpmq7mk2oh/assets\n"
     ]
    },
    {
     "name": "stderr",
     "output_type": "stream",
     "text": [
      "INFO:tensorflow:Assets written to: /tmp/tmpmq7mk2oh/assets\n"
     ]
    },
    {
     "name": "stdout",
     "output_type": "stream",
     "text": [
      "Dynamic range quantizatized TFLite model (4916336 Bytes) saved to: tf_flowers_models/EfficentNetB0_tf_flowers_model_ConstantSparsity90_KMeansPlusPlus32_dynamic_rage_quantization.tflite\n",
      "INFO:tensorflow:Assets written to: /tmp/tmpenty2s5o/assets\n"
     ]
    },
    {
     "name": "stderr",
     "output_type": "stream",
     "text": [
      "INFO:tensorflow:Assets written to: /tmp/tmpenty2s5o/assets\n"
     ]
    },
    {
     "name": "stdout",
     "output_type": "stream",
     "text": [
      "Full integer quantizatized TFLite model (5287664 Bytes) saved to: tf_flowers_models/EfficentNetB0_tf_flowers_model_ConstantSparsity90_KMeansPlusPlus32_full_integer_quantization.tflite\n",
      "INFO:tensorflow:Assets written to: /tmp/tmpn_twwk4s/assets\n"
     ]
    },
    {
     "name": "stderr",
     "output_type": "stream",
     "text": [
      "INFO:tensorflow:Assets written to: /tmp/tmpn_twwk4s/assets\n"
     ]
    },
    {
     "name": "stdout",
     "output_type": "stream",
     "text": [
      "ERROR: Failed Full integer quantizatized with integer io TFLite model\n",
      "INFO:tensorflow:Assets written to: /tmp/tmpbnl8ly8a/assets\n"
     ]
    },
    {
     "name": "stderr",
     "output_type": "stream",
     "text": [
      "INFO:tensorflow:Assets written to: /tmp/tmpbnl8ly8a/assets\n"
     ]
    },
    {
     "name": "stdout",
     "output_type": "stream",
     "text": [
      "float16 quantizatized TFLite model (8350080 Bytes) saved to: tf_flowers_models/EfficentNetB0_tf_flowers_model_ConstantSparsity90_KMeansPlusPlus32_float16_quantization.tflite\n",
      "WARNING:tensorflow:No training configuration found in the save file, so the model was *not* compiled. Compile it manually.\n"
     ]
    },
    {
     "name": "stderr",
     "output_type": "stream",
     "text": [
      "WARNING:tensorflow:No training configuration found in the save file, so the model was *not* compiled. Compile it manually.\n"
     ]
    },
    {
     "name": "stdout",
     "output_type": "stream",
     "text": [
      "INFO:tensorflow:Assets written to: /tmp/tmpmr1o3kf9/assets\n"
     ]
    },
    {
     "name": "stderr",
     "output_type": "stream",
     "text": [
      "INFO:tensorflow:Assets written to: /tmp/tmpmr1o3kf9/assets\n"
     ]
    },
    {
     "name": "stdout",
     "output_type": "stream",
     "text": [
      "Converted TFLite model (16551964 Bytes) saved to: tf_flowers_models/EfficentNetB0_tf_flowers_model_KMeansPlusPlus32.tflite\n",
      "INFO:tensorflow:Assets written to: /tmp/tmpvjzauqz8/assets\n"
     ]
    },
    {
     "name": "stderr",
     "output_type": "stream",
     "text": [
      "INFO:tensorflow:Assets written to: /tmp/tmpvjzauqz8/assets\n"
     ]
    },
    {
     "name": "stdout",
     "output_type": "stream",
     "text": [
      "Dynamic range quantizatized TFLite model (4916336 Bytes) saved to: tf_flowers_models/EfficentNetB0_tf_flowers_model_KMeansPlusPlus32_dynamic_rage_quantization.tflite\n",
      "INFO:tensorflow:Assets written to: /tmp/tmp_v76icwx/assets\n"
     ]
    },
    {
     "name": "stderr",
     "output_type": "stream",
     "text": [
      "INFO:tensorflow:Assets written to: /tmp/tmp_v76icwx/assets\n"
     ]
    },
    {
     "name": "stdout",
     "output_type": "stream",
     "text": [
      "Full integer quantizatized TFLite model (5287664 Bytes) saved to: tf_flowers_models/EfficentNetB0_tf_flowers_model_KMeansPlusPlus32_full_integer_quantization.tflite\n",
      "INFO:tensorflow:Assets written to: /tmp/tmpcvpyvt9j/assets\n"
     ]
    },
    {
     "name": "stderr",
     "output_type": "stream",
     "text": [
      "INFO:tensorflow:Assets written to: /tmp/tmpcvpyvt9j/assets\n"
     ]
    },
    {
     "name": "stdout",
     "output_type": "stream",
     "text": [
      "ERROR: Failed Full integer quantizatized with integer io TFLite model\n",
      "INFO:tensorflow:Assets written to: /tmp/tmpt5lz28g_/assets\n"
     ]
    },
    {
     "name": "stderr",
     "output_type": "stream",
     "text": [
      "INFO:tensorflow:Assets written to: /tmp/tmpt5lz28g_/assets\n"
     ]
    },
    {
     "name": "stdout",
     "output_type": "stream",
     "text": [
      "float16 quantizatized TFLite model (8350080 Bytes) saved to: tf_flowers_models/EfficentNetB0_tf_flowers_model_KMeansPlusPlus32_float16_quantization.tflite\n",
      "WARNING:tensorflow:No training configuration found in the save file, so the model was *not* compiled. Compile it manually.\n"
     ]
    },
    {
     "name": "stderr",
     "output_type": "stream",
     "text": [
      "WARNING:tensorflow:No training configuration found in the save file, so the model was *not* compiled. Compile it manually.\n"
     ]
    },
    {
     "name": "stdout",
     "output_type": "stream",
     "text": [
      "INFO:tensorflow:Assets written to: /tmp/tmplhsvz7y_/assets\n"
     ]
    },
    {
     "name": "stderr",
     "output_type": "stream",
     "text": [
      "INFO:tensorflow:Assets written to: /tmp/tmplhsvz7y_/assets\n"
     ]
    },
    {
     "name": "stdout",
     "output_type": "stream",
     "text": [
      "Converted TFLite model (16551964 Bytes) saved to: tf_flowers_models/EfficentNetB0_tf_flowers_model_PolynomialDecay75_KMeansPlusPlus32.tflite\n",
      "INFO:tensorflow:Assets written to: /tmp/tmpfdgaywog/assets\n"
     ]
    },
    {
     "name": "stderr",
     "output_type": "stream",
     "text": [
      "INFO:tensorflow:Assets written to: /tmp/tmpfdgaywog/assets\n"
     ]
    },
    {
     "name": "stdout",
     "output_type": "stream",
     "text": [
      "Dynamic range quantizatized TFLite model (4916336 Bytes) saved to: tf_flowers_models/EfficentNetB0_tf_flowers_model_PolynomialDecay75_KMeansPlusPlus32_dynamic_rage_quantization.tflite\n",
      "INFO:tensorflow:Assets written to: /tmp/tmp2ixndjfd/assets\n"
     ]
    },
    {
     "name": "stderr",
     "output_type": "stream",
     "text": [
      "INFO:tensorflow:Assets written to: /tmp/tmp2ixndjfd/assets\n"
     ]
    },
    {
     "name": "stdout",
     "output_type": "stream",
     "text": [
      "Full integer quantizatized TFLite model (5287664 Bytes) saved to: tf_flowers_models/EfficentNetB0_tf_flowers_model_PolynomialDecay75_KMeansPlusPlus32_full_integer_quantization.tflite\n",
      "INFO:tensorflow:Assets written to: /tmp/tmpnb9hx8e3/assets\n"
     ]
    },
    {
     "name": "stderr",
     "output_type": "stream",
     "text": [
      "INFO:tensorflow:Assets written to: /tmp/tmpnb9hx8e3/assets\n"
     ]
    },
    {
     "name": "stdout",
     "output_type": "stream",
     "text": [
      "ERROR: Failed Full integer quantizatized with integer io TFLite model\n",
      "INFO:tensorflow:Assets written to: /tmp/tmpggt4ubij/assets\n"
     ]
    },
    {
     "name": "stderr",
     "output_type": "stream",
     "text": [
      "INFO:tensorflow:Assets written to: /tmp/tmpggt4ubij/assets\n"
     ]
    },
    {
     "name": "stdout",
     "output_type": "stream",
     "text": [
      "float16 quantizatized TFLite model (8350080 Bytes) saved to: tf_flowers_models/EfficentNetB0_tf_flowers_model_PolynomialDecay75_KMeansPlusPlus32_float16_quantization.tflite\n",
      "WARNING:tensorflow:No training configuration found in the save file, so the model was *not* compiled. Compile it manually.\n"
     ]
    },
    {
     "name": "stderr",
     "output_type": "stream",
     "text": [
      "WARNING:tensorflow:No training configuration found in the save file, so the model was *not* compiled. Compile it manually.\n"
     ]
    },
    {
     "name": "stdout",
     "output_type": "stream",
     "text": [
      "INFO:tensorflow:Assets written to: /tmp/tmprmaqa4e9/assets\n"
     ]
    },
    {
     "name": "stderr",
     "output_type": "stream",
     "text": [
      "INFO:tensorflow:Assets written to: /tmp/tmprmaqa4e9/assets\n"
     ]
    },
    {
     "name": "stdout",
     "output_type": "stream",
     "text": [
      "Converted TFLite model (16551964 Bytes) saved to: tf_flowers_models/EfficentNetB0_tf_flowers_model_PolynomialDecay50.tflite\n",
      "INFO:tensorflow:Assets written to: /tmp/tmpctvkt8uf/assets\n"
     ]
    },
    {
     "name": "stderr",
     "output_type": "stream",
     "text": [
      "INFO:tensorflow:Assets written to: /tmp/tmpctvkt8uf/assets\n"
     ]
    },
    {
     "name": "stdout",
     "output_type": "stream",
     "text": [
      "Dynamic range quantizatized TFLite model (4916336 Bytes) saved to: tf_flowers_models/EfficentNetB0_tf_flowers_model_PolynomialDecay50_dynamic_rage_quantization.tflite\n",
      "INFO:tensorflow:Assets written to: /tmp/tmpxgk21erh/assets\n"
     ]
    },
    {
     "name": "stderr",
     "output_type": "stream",
     "text": [
      "INFO:tensorflow:Assets written to: /tmp/tmpxgk21erh/assets\n"
     ]
    },
    {
     "name": "stdout",
     "output_type": "stream",
     "text": [
      "Full integer quantizatized TFLite model (5287664 Bytes) saved to: tf_flowers_models/EfficentNetB0_tf_flowers_model_PolynomialDecay50_full_integer_quantization.tflite\n",
      "INFO:tensorflow:Assets written to: /tmp/tmpj7dc6zxa/assets\n"
     ]
    },
    {
     "name": "stderr",
     "output_type": "stream",
     "text": [
      "INFO:tensorflow:Assets written to: /tmp/tmpj7dc6zxa/assets\n"
     ]
    },
    {
     "name": "stdout",
     "output_type": "stream",
     "text": [
      "ERROR: Failed Full integer quantizatized with integer io TFLite model\n",
      "INFO:tensorflow:Assets written to: /tmp/tmp_1vvrwvl/assets\n"
     ]
    },
    {
     "name": "stderr",
     "output_type": "stream",
     "text": [
      "INFO:tensorflow:Assets written to: /tmp/tmp_1vvrwvl/assets\n"
     ]
    },
    {
     "name": "stdout",
     "output_type": "stream",
     "text": [
      "float16 quantizatized TFLite model (8350080 Bytes) saved to: tf_flowers_models/EfficentNetB0_tf_flowers_model_PolynomialDecay50_float16_quantization.tflite\n",
      "WARNING:tensorflow:No training configuration found in the save file, so the model was *not* compiled. Compile it manually.\n"
     ]
    },
    {
     "name": "stderr",
     "output_type": "stream",
     "text": [
      "WARNING:tensorflow:No training configuration found in the save file, so the model was *not* compiled. Compile it manually.\n"
     ]
    },
    {
     "name": "stdout",
     "output_type": "stream",
     "text": [
      "INFO:tensorflow:Assets written to: /tmp/tmpjok0p42t/assets\n"
     ]
    },
    {
     "name": "stderr",
     "output_type": "stream",
     "text": [
      "INFO:tensorflow:Assets written to: /tmp/tmpjok0p42t/assets\n"
     ]
    },
    {
     "name": "stdout",
     "output_type": "stream",
     "text": [
      "Converted TFLite model (16551964 Bytes) saved to: tf_flowers_models/EfficentNetB0_tf_flowers_model_ConstantSparsity75_KMeansPlusPlus128.tflite\n",
      "INFO:tensorflow:Assets written to: /tmp/tmp4u5mmrfn/assets\n"
     ]
    },
    {
     "name": "stderr",
     "output_type": "stream",
     "text": [
      "INFO:tensorflow:Assets written to: /tmp/tmp4u5mmrfn/assets\n"
     ]
    },
    {
     "name": "stdout",
     "output_type": "stream",
     "text": [
      "Dynamic range quantizatized TFLite model (4916336 Bytes) saved to: tf_flowers_models/EfficentNetB0_tf_flowers_model_ConstantSparsity75_KMeansPlusPlus128_dynamic_rage_quantization.tflite\n",
      "INFO:tensorflow:Assets written to: /tmp/tmpr1jxu515/assets\n"
     ]
    },
    {
     "name": "stderr",
     "output_type": "stream",
     "text": [
      "INFO:tensorflow:Assets written to: /tmp/tmpr1jxu515/assets\n"
     ]
    },
    {
     "name": "stdout",
     "output_type": "stream",
     "text": [
      "Full integer quantizatized TFLite model (5287664 Bytes) saved to: tf_flowers_models/EfficentNetB0_tf_flowers_model_ConstantSparsity75_KMeansPlusPlus128_full_integer_quantization.tflite\n",
      "INFO:tensorflow:Assets written to: /tmp/tmp5s086cje/assets\n"
     ]
    },
    {
     "name": "stderr",
     "output_type": "stream",
     "text": [
      "INFO:tensorflow:Assets written to: /tmp/tmp5s086cje/assets\n"
     ]
    },
    {
     "name": "stdout",
     "output_type": "stream",
     "text": [
      "ERROR: Failed Full integer quantizatized with integer io TFLite model\n",
      "INFO:tensorflow:Assets written to: /tmp/tmphe0gz97k/assets\n"
     ]
    },
    {
     "name": "stderr",
     "output_type": "stream",
     "text": [
      "INFO:tensorflow:Assets written to: /tmp/tmphe0gz97k/assets\n"
     ]
    },
    {
     "name": "stdout",
     "output_type": "stream",
     "text": [
      "float16 quantizatized TFLite model (8350080 Bytes) saved to: tf_flowers_models/EfficentNetB0_tf_flowers_model_ConstantSparsity75_KMeansPlusPlus128_float16_quantization.tflite\n",
      "WARNING:tensorflow:No training configuration found in the save file, so the model was *not* compiled. Compile it manually.\n"
     ]
    },
    {
     "name": "stderr",
     "output_type": "stream",
     "text": [
      "WARNING:tensorflow:No training configuration found in the save file, so the model was *not* compiled. Compile it manually.\n"
     ]
    },
    {
     "name": "stdout",
     "output_type": "stream",
     "text": [
      "INFO:tensorflow:Assets written to: /tmp/tmpaf7zpf2g/assets\n"
     ]
    },
    {
     "name": "stderr",
     "output_type": "stream",
     "text": [
      "INFO:tensorflow:Assets written to: /tmp/tmpaf7zpf2g/assets\n"
     ]
    },
    {
     "name": "stdout",
     "output_type": "stream",
     "text": [
      "Converted TFLite model (9381848 Bytes) saved to: tf_flowers_models/MobileNetV2_tf_flowers_model_ConstantSparsity90_KMeansPlusPlus32.tflite\n",
      "INFO:tensorflow:Assets written to: /tmp/tmpedhn920p/assets\n"
     ]
    },
    {
     "name": "stderr",
     "output_type": "stream",
     "text": [
      "INFO:tensorflow:Assets written to: /tmp/tmpedhn920p/assets\n"
     ]
    },
    {
     "name": "stdout",
     "output_type": "stream",
     "text": [
      "Dynamic range quantizatized TFLite model (2769648 Bytes) saved to: tf_flowers_models/MobileNetV2_tf_flowers_model_ConstantSparsity90_KMeansPlusPlus32_dynamic_rage_quantization.tflite\n",
      "INFO:tensorflow:Assets written to: /tmp/tmpx4lt_ecy/assets\n"
     ]
    },
    {
     "name": "stderr",
     "output_type": "stream",
     "text": [
      "INFO:tensorflow:Assets written to: /tmp/tmpx4lt_ecy/assets\n"
     ]
    },
    {
     "name": "stdout",
     "output_type": "stream",
     "text": [
      "Full integer quantizatized TFLite model (2975920 Bytes) saved to: tf_flowers_models/MobileNetV2_tf_flowers_model_ConstantSparsity90_KMeansPlusPlus32_full_integer_quantization.tflite\n",
      "INFO:tensorflow:Assets written to: /tmp/tmpckw0yp_a/assets\n"
     ]
    },
    {
     "name": "stderr",
     "output_type": "stream",
     "text": [
      "INFO:tensorflow:Assets written to: /tmp/tmpckw0yp_a/assets\n"
     ]
    },
    {
     "name": "stdout",
     "output_type": "stream",
     "text": [
      "Full integer quantizatized with integer io TFLite model (2974680 Bytes) saved to: tf_flowers_models/MobileNetV2_tf_flowers_model_ConstantSparsity90_KMeansPlusPlus32_full_integer_quantization_integer_io.tflite\n",
      "INFO:tensorflow:Assets written to: /tmp/tmpt2ww8ya3/assets\n"
     ]
    },
    {
     "name": "stderr",
     "output_type": "stream",
     "text": [
      "INFO:tensorflow:Assets written to: /tmp/tmpt2ww8ya3/assets\n"
     ]
    },
    {
     "name": "stdout",
     "output_type": "stream",
     "text": [
      "float16 quantizatized TFLite model (4723808 Bytes) saved to: tf_flowers_models/MobileNetV2_tf_flowers_model_ConstantSparsity90_KMeansPlusPlus32_float16_quantization.tflite\n",
      "WARNING:tensorflow:No training configuration found in the save file, so the model was *not* compiled. Compile it manually.\n"
     ]
    },
    {
     "name": "stderr",
     "output_type": "stream",
     "text": [
      "WARNING:tensorflow:No training configuration found in the save file, so the model was *not* compiled. Compile it manually.\n"
     ]
    },
    {
     "name": "stdout",
     "output_type": "stream",
     "text": [
      "INFO:tensorflow:Assets written to: /tmp/tmpaw0qdcks/assets\n"
     ]
    },
    {
     "name": "stderr",
     "output_type": "stream",
     "text": [
      "INFO:tensorflow:Assets written to: /tmp/tmpaw0qdcks/assets\n"
     ]
    },
    {
     "name": "stdout",
     "output_type": "stream",
     "text": [
      "Converted TFLite model (16551964 Bytes) saved to: tf_flowers_models/EfficentNetB0_tf_flowers_model_PolynomialDecay90_KMeansPlusPlus32.tflite\n",
      "INFO:tensorflow:Assets written to: /tmp/tmpi3b31j71/assets\n"
     ]
    },
    {
     "name": "stderr",
     "output_type": "stream",
     "text": [
      "INFO:tensorflow:Assets written to: /tmp/tmpi3b31j71/assets\n"
     ]
    },
    {
     "name": "stdout",
     "output_type": "stream",
     "text": [
      "Dynamic range quantizatized TFLite model (4916336 Bytes) saved to: tf_flowers_models/EfficentNetB0_tf_flowers_model_PolynomialDecay90_KMeansPlusPlus32_dynamic_rage_quantization.tflite\n",
      "INFO:tensorflow:Assets written to: /tmp/tmppm00fvb6/assets\n"
     ]
    },
    {
     "name": "stderr",
     "output_type": "stream",
     "text": [
      "INFO:tensorflow:Assets written to: /tmp/tmppm00fvb6/assets\n"
     ]
    },
    {
     "name": "stdout",
     "output_type": "stream",
     "text": [
      "Full integer quantizatized TFLite model (5287664 Bytes) saved to: tf_flowers_models/EfficentNetB0_tf_flowers_model_PolynomialDecay90_KMeansPlusPlus32_full_integer_quantization.tflite\n",
      "INFO:tensorflow:Assets written to: /tmp/tmpx8yacni8/assets\n"
     ]
    },
    {
     "name": "stderr",
     "output_type": "stream",
     "text": [
      "INFO:tensorflow:Assets written to: /tmp/tmpx8yacni8/assets\n"
     ]
    },
    {
     "name": "stdout",
     "output_type": "stream",
     "text": [
      "ERROR: Failed Full integer quantizatized with integer io TFLite model\n",
      "INFO:tensorflow:Assets written to: /tmp/tmpsukxm7i6/assets\n"
     ]
    },
    {
     "name": "stderr",
     "output_type": "stream",
     "text": [
      "INFO:tensorflow:Assets written to: /tmp/tmpsukxm7i6/assets\n"
     ]
    },
    {
     "name": "stdout",
     "output_type": "stream",
     "text": [
      "float16 quantizatized TFLite model (8350080 Bytes) saved to: tf_flowers_models/EfficentNetB0_tf_flowers_model_PolynomialDecay90_KMeansPlusPlus32_float16_quantization.tflite\n",
      "WARNING:tensorflow:No training configuration found in the save file, so the model was *not* compiled. Compile it manually.\n"
     ]
    },
    {
     "name": "stderr",
     "output_type": "stream",
     "text": [
      "WARNING:tensorflow:No training configuration found in the save file, so the model was *not* compiled. Compile it manually.\n"
     ]
    },
    {
     "name": "stdout",
     "output_type": "stream",
     "text": [
      "INFO:tensorflow:Assets written to: /tmp/tmp1joi5o48/assets\n"
     ]
    },
    {
     "name": "stderr",
     "output_type": "stream",
     "text": [
      "INFO:tensorflow:Assets written to: /tmp/tmp1joi5o48/assets\n"
     ]
    },
    {
     "name": "stdout",
     "output_type": "stream",
     "text": [
      "Converted TFLite model (9381848 Bytes) saved to: tf_flowers_models/MobileNetV2_tf_flowers_model_PolynomialDecay90_KMeansPlusPlus128.tflite\n",
      "INFO:tensorflow:Assets written to: /tmp/tmpimyoncbg/assets\n"
     ]
    },
    {
     "name": "stderr",
     "output_type": "stream",
     "text": [
      "INFO:tensorflow:Assets written to: /tmp/tmpimyoncbg/assets\n"
     ]
    },
    {
     "name": "stdout",
     "output_type": "stream",
     "text": [
      "Dynamic range quantizatized TFLite model (2769648 Bytes) saved to: tf_flowers_models/MobileNetV2_tf_flowers_model_PolynomialDecay90_KMeansPlusPlus128_dynamic_rage_quantization.tflite\n",
      "INFO:tensorflow:Assets written to: /tmp/tmp83n2ngeo/assets\n"
     ]
    },
    {
     "name": "stderr",
     "output_type": "stream",
     "text": [
      "INFO:tensorflow:Assets written to: /tmp/tmp83n2ngeo/assets\n"
     ]
    },
    {
     "name": "stdout",
     "output_type": "stream",
     "text": [
      "Full integer quantizatized TFLite model (2975920 Bytes) saved to: tf_flowers_models/MobileNetV2_tf_flowers_model_PolynomialDecay90_KMeansPlusPlus128_full_integer_quantization.tflite\n",
      "INFO:tensorflow:Assets written to: /tmp/tmpmu4rnd7i/assets\n"
     ]
    },
    {
     "name": "stderr",
     "output_type": "stream",
     "text": [
      "INFO:tensorflow:Assets written to: /tmp/tmpmu4rnd7i/assets\n"
     ]
    },
    {
     "name": "stdout",
     "output_type": "stream",
     "text": [
      "Full integer quantizatized with integer io TFLite model (2974680 Bytes) saved to: tf_flowers_models/MobileNetV2_tf_flowers_model_PolynomialDecay90_KMeansPlusPlus128_full_integer_quantization_integer_io.tflite\n",
      "INFO:tensorflow:Assets written to: /tmp/tmpudufghir/assets\n"
     ]
    },
    {
     "name": "stderr",
     "output_type": "stream",
     "text": [
      "INFO:tensorflow:Assets written to: /tmp/tmpudufghir/assets\n"
     ]
    },
    {
     "name": "stdout",
     "output_type": "stream",
     "text": [
      "float16 quantizatized TFLite model (4723808 Bytes) saved to: tf_flowers_models/MobileNetV2_tf_flowers_model_PolynomialDecay90_KMeansPlusPlus128_float16_quantization.tflite\n",
      "INFO:tensorflow:Assets written to: /tmp/tmp42vriko6/assets\n"
     ]
    },
    {
     "name": "stderr",
     "output_type": "stream",
     "text": [
      "INFO:tensorflow:Assets written to: /tmp/tmp42vriko6/assets\n"
     ]
    },
    {
     "name": "stdout",
     "output_type": "stream",
     "text": [
      "Converted TFLite model (16551960 Bytes) saved to: flowers_models_optimized/EfficentNetB0_flowers_model.tflite\n",
      "INFO:tensorflow:Assets written to: /tmp/tmpdg2h_nik/assets\n"
     ]
    },
    {
     "name": "stderr",
     "output_type": "stream",
     "text": [
      "INFO:tensorflow:Assets written to: /tmp/tmpdg2h_nik/assets\n"
     ]
    },
    {
     "name": "stdout",
     "output_type": "stream",
     "text": [
      "Dynamic range quantizatized TFLite model (4916336 Bytes) saved to: flowers_models_optimized/EfficentNetB0_flowers_model_dynamic_rage_quantization.tflite\n",
      "INFO:tensorflow:Assets written to: /tmp/tmp8ykq606l/assets\n"
     ]
    },
    {
     "name": "stderr",
     "output_type": "stream",
     "text": [
      "INFO:tensorflow:Assets written to: /tmp/tmp8ykq606l/assets\n"
     ]
    },
    {
     "name": "stdout",
     "output_type": "stream",
     "text": [
      "Full integer quantizatized TFLite model (5287648 Bytes) saved to: flowers_models_optimized/EfficentNetB0_flowers_model_full_integer_quantization.tflite\n",
      "INFO:tensorflow:Assets written to: /tmp/tmp3vw4e4jf/assets\n"
     ]
    },
    {
     "name": "stderr",
     "output_type": "stream",
     "text": [
      "INFO:tensorflow:Assets written to: /tmp/tmp3vw4e4jf/assets\n"
     ]
    },
    {
     "name": "stdout",
     "output_type": "stream",
     "text": [
      "ERROR: Failed Full integer quantizatized with integer io TFLite model\n",
      "INFO:tensorflow:Assets written to: /tmp/tmpqlhv_gr1/assets\n"
     ]
    },
    {
     "name": "stderr",
     "output_type": "stream",
     "text": [
      "INFO:tensorflow:Assets written to: /tmp/tmpqlhv_gr1/assets\n"
     ]
    },
    {
     "name": "stdout",
     "output_type": "stream",
     "text": [
      "float16 quantizatized TFLite model (8350064 Bytes) saved to: flowers_models_optimized/EfficentNetB0_flowers_model_float16_quantization.tflite\n",
      "INFO:tensorflow:Assets written to: /tmp/tmpcr7mhlnw/assets\n"
     ]
    },
    {
     "name": "stderr",
     "output_type": "stream",
     "text": [
      "INFO:tensorflow:Assets written to: /tmp/tmpcr7mhlnw/assets\n"
     ]
    },
    {
     "name": "stdout",
     "output_type": "stream",
     "text": [
      "Converted TFLite model (9381072 Bytes) saved to: flowers_models_optimized/MobileNetV2_flowers_model.tflite\n",
      "INFO:tensorflow:Assets written to: /tmp/tmpg7i7h4vi/assets\n"
     ]
    },
    {
     "name": "stderr",
     "output_type": "stream",
     "text": [
      "INFO:tensorflow:Assets written to: /tmp/tmpg7i7h4vi/assets\n"
     ]
    },
    {
     "name": "stdout",
     "output_type": "stream",
     "text": [
      "Dynamic range quantizatized TFLite model (2768848 Bytes) saved to: flowers_models_optimized/MobileNetV2_flowers_model_dynamic_rage_quantization.tflite\n",
      "INFO:tensorflow:Assets written to: /tmp/tmpxn3bosfc/assets\n"
     ]
    },
    {
     "name": "stderr",
     "output_type": "stream",
     "text": [
      "INFO:tensorflow:Assets written to: /tmp/tmpxn3bosfc/assets\n"
     ]
    },
    {
     "name": "stdout",
     "output_type": "stream",
     "text": [
      "Full integer quantizatized TFLite model (2975120 Bytes) saved to: flowers_models_optimized/MobileNetV2_flowers_model_full_integer_quantization.tflite\n",
      "INFO:tensorflow:Assets written to: /tmp/tmp5n2jz2b_/assets\n"
     ]
    },
    {
     "name": "stderr",
     "output_type": "stream",
     "text": [
      "INFO:tensorflow:Assets written to: /tmp/tmp5n2jz2b_/assets\n"
     ]
    },
    {
     "name": "stdout",
     "output_type": "stream",
     "text": [
      "Full integer quantizatized with integer io TFLite model (2973880 Bytes) saved to: flowers_models_optimized/MobileNetV2_flowers_model_full_integer_quantization_integer_io.tflite\n",
      "INFO:tensorflow:Assets written to: /tmp/tmpsw0h1ln9/assets\n"
     ]
    },
    {
     "name": "stderr",
     "output_type": "stream",
     "text": [
      "INFO:tensorflow:Assets written to: /tmp/tmpsw0h1ln9/assets\n"
     ]
    },
    {
     "name": "stdout",
     "output_type": "stream",
     "text": [
      "float16 quantizatized TFLite model (4722624 Bytes) saved to: flowers_models_optimized/MobileNetV2_flowers_model_float16_quantization.tflite\n",
      "WARNING:tensorflow:No training configuration found in the save file, so the model was *not* compiled. Compile it manually.\n"
     ]
    },
    {
     "name": "stderr",
     "output_type": "stream",
     "text": [
      "WARNING:tensorflow:No training configuration found in the save file, so the model was *not* compiled. Compile it manually.\n"
     ]
    },
    {
     "name": "stdout",
     "output_type": "stream",
     "text": [
      "INFO:tensorflow:Assets written to: /tmp/tmpzy_u9hbi/assets\n"
     ]
    },
    {
     "name": "stderr",
     "output_type": "stream",
     "text": [
      "INFO:tensorflow:Assets written to: /tmp/tmpzy_u9hbi/assets\n"
     ]
    },
    {
     "name": "stdout",
     "output_type": "stream",
     "text": [
      "Converted TFLite model (9381072 Bytes) saved to: flowers_models_optimized/MobileNetV2_flowers_model_PolynomialDecay90_KMeansPlusPlus128.tflite\n",
      "INFO:tensorflow:Assets written to: /tmp/tmpwsyuots2/assets\n"
     ]
    },
    {
     "name": "stderr",
     "output_type": "stream",
     "text": [
      "INFO:tensorflow:Assets written to: /tmp/tmpwsyuots2/assets\n"
     ]
    },
    {
     "name": "stdout",
     "output_type": "stream",
     "text": [
      "Dynamic range quantizatized TFLite model (2768848 Bytes) saved to: flowers_models_optimized/MobileNetV2_flowers_model_PolynomialDecay90_KMeansPlusPlus128_dynamic_rage_quantization.tflite\n",
      "INFO:tensorflow:Assets written to: /tmp/tmpi_r5ut_m/assets\n"
     ]
    },
    {
     "name": "stderr",
     "output_type": "stream",
     "text": [
      "INFO:tensorflow:Assets written to: /tmp/tmpi_r5ut_m/assets\n"
     ]
    },
    {
     "name": "stdout",
     "output_type": "stream",
     "text": [
      "Full integer quantizatized TFLite model (2975120 Bytes) saved to: flowers_models_optimized/MobileNetV2_flowers_model_PolynomialDecay90_KMeansPlusPlus128_full_integer_quantization.tflite\n",
      "INFO:tensorflow:Assets written to: /tmp/tmpoqjvj5t5/assets\n"
     ]
    },
    {
     "name": "stderr",
     "output_type": "stream",
     "text": [
      "INFO:tensorflow:Assets written to: /tmp/tmpoqjvj5t5/assets\n"
     ]
    },
    {
     "name": "stdout",
     "output_type": "stream",
     "text": [
      "Full integer quantizatized with integer io TFLite model (2973880 Bytes) saved to: flowers_models_optimized/MobileNetV2_flowers_model_PolynomialDecay90_KMeansPlusPlus128_full_integer_quantization_integer_io.tflite\n",
      "INFO:tensorflow:Assets written to: /tmp/tmp9hg02nfx/assets\n"
     ]
    },
    {
     "name": "stderr",
     "output_type": "stream",
     "text": [
      "INFO:tensorflow:Assets written to: /tmp/tmp9hg02nfx/assets\n"
     ]
    },
    {
     "name": "stdout",
     "output_type": "stream",
     "text": [
      "float16 quantizatized TFLite model (4722624 Bytes) saved to: flowers_models_optimized/MobileNetV2_flowers_model_PolynomialDecay90_KMeansPlusPlus128_float16_quantization.tflite\n",
      "WARNING:tensorflow:No training configuration found in the save file, so the model was *not* compiled. Compile it manually.\n"
     ]
    },
    {
     "name": "stderr",
     "output_type": "stream",
     "text": [
      "WARNING:tensorflow:No training configuration found in the save file, so the model was *not* compiled. Compile it manually.\n"
     ]
    },
    {
     "name": "stdout",
     "output_type": "stream",
     "text": [
      "INFO:tensorflow:Assets written to: /tmp/tmpqzvjpeen/assets\n"
     ]
    },
    {
     "name": "stderr",
     "output_type": "stream",
     "text": [
      "INFO:tensorflow:Assets written to: /tmp/tmpqzvjpeen/assets\n"
     ]
    },
    {
     "name": "stdout",
     "output_type": "stream",
     "text": [
      "Converted TFLite model (16551960 Bytes) saved to: flowers_models_optimized/EfficentNetB0_flowers_model_PolynomialDecay50_KMeansPlusPlus128.tflite\n",
      "INFO:tensorflow:Assets written to: /tmp/tmpqt5682hn/assets\n"
     ]
    },
    {
     "name": "stderr",
     "output_type": "stream",
     "text": [
      "INFO:tensorflow:Assets written to: /tmp/tmpqt5682hn/assets\n"
     ]
    },
    {
     "name": "stdout",
     "output_type": "stream",
     "text": [
      "Dynamic range quantizatized TFLite model (4916336 Bytes) saved to: flowers_models_optimized/EfficentNetB0_flowers_model_PolynomialDecay50_KMeansPlusPlus128_dynamic_rage_quantization.tflite\n",
      "INFO:tensorflow:Assets written to: /tmp/tmpnnsc0418/assets\n"
     ]
    },
    {
     "name": "stderr",
     "output_type": "stream",
     "text": [
      "INFO:tensorflow:Assets written to: /tmp/tmpnnsc0418/assets\n"
     ]
    },
    {
     "name": "stdout",
     "output_type": "stream",
     "text": [
      "Full integer quantizatized TFLite model (5287648 Bytes) saved to: flowers_models_optimized/EfficentNetB0_flowers_model_PolynomialDecay50_KMeansPlusPlus128_full_integer_quantization.tflite\n",
      "INFO:tensorflow:Assets written to: /tmp/tmpqwln766u/assets\n"
     ]
    },
    {
     "name": "stderr",
     "output_type": "stream",
     "text": [
      "INFO:tensorflow:Assets written to: /tmp/tmpqwln766u/assets\n"
     ]
    },
    {
     "name": "stdout",
     "output_type": "stream",
     "text": [
      "ERROR: Failed Full integer quantizatized with integer io TFLite model\n",
      "INFO:tensorflow:Assets written to: /tmp/tmpxsso2rfg/assets\n"
     ]
    },
    {
     "name": "stderr",
     "output_type": "stream",
     "text": [
      "INFO:tensorflow:Assets written to: /tmp/tmpxsso2rfg/assets\n"
     ]
    },
    {
     "name": "stdout",
     "output_type": "stream",
     "text": [
      "float16 quantizatized TFLite model (8350064 Bytes) saved to: flowers_models_optimized/EfficentNetB0_flowers_model_PolynomialDecay50_KMeansPlusPlus128_float16_quantization.tflite\n",
      "WARNING:tensorflow:No training configuration found in the save file, so the model was *not* compiled. Compile it manually.\n"
     ]
    },
    {
     "name": "stderr",
     "output_type": "stream",
     "text": [
      "WARNING:tensorflow:No training configuration found in the save file, so the model was *not* compiled. Compile it manually.\n"
     ]
    },
    {
     "name": "stdout",
     "output_type": "stream",
     "text": [
      "INFO:tensorflow:Assets written to: /tmp/tmpkkkdxu16/assets\n"
     ]
    },
    {
     "name": "stderr",
     "output_type": "stream",
     "text": [
      "INFO:tensorflow:Assets written to: /tmp/tmpkkkdxu16/assets\n"
     ]
    },
    {
     "name": "stdout",
     "output_type": "stream",
     "text": [
      "Converted TFLite model (16551960 Bytes) saved to: flowers_models_optimized/EfficentNetB0_flowers_model_PolynomialDecay90_KMeansPlusPlus128.tflite\n",
      "INFO:tensorflow:Assets written to: /tmp/tmp_vhmmm0e/assets\n"
     ]
    },
    {
     "name": "stderr",
     "output_type": "stream",
     "text": [
      "INFO:tensorflow:Assets written to: /tmp/tmp_vhmmm0e/assets\n"
     ]
    },
    {
     "name": "stdout",
     "output_type": "stream",
     "text": [
      "Dynamic range quantizatized TFLite model (4916336 Bytes) saved to: flowers_models_optimized/EfficentNetB0_flowers_model_PolynomialDecay90_KMeansPlusPlus128_dynamic_rage_quantization.tflite\n",
      "INFO:tensorflow:Assets written to: /tmp/tmpezwg2hr6/assets\n"
     ]
    },
    {
     "name": "stderr",
     "output_type": "stream",
     "text": [
      "INFO:tensorflow:Assets written to: /tmp/tmpezwg2hr6/assets\n"
     ]
    },
    {
     "name": "stdout",
     "output_type": "stream",
     "text": [
      "Full integer quantizatized TFLite model (5287648 Bytes) saved to: flowers_models_optimized/EfficentNetB0_flowers_model_PolynomialDecay90_KMeansPlusPlus128_full_integer_quantization.tflite\n",
      "INFO:tensorflow:Assets written to: /tmp/tmp6yyb0veq/assets\n"
     ]
    },
    {
     "name": "stderr",
     "output_type": "stream",
     "text": [
      "INFO:tensorflow:Assets written to: /tmp/tmp6yyb0veq/assets\n"
     ]
    },
    {
     "name": "stdout",
     "output_type": "stream",
     "text": [
      "ERROR: Failed Full integer quantizatized with integer io TFLite model\n",
      "INFO:tensorflow:Assets written to: /tmp/tmpk7g2i_dn/assets\n"
     ]
    },
    {
     "name": "stderr",
     "output_type": "stream",
     "text": [
      "INFO:tensorflow:Assets written to: /tmp/tmpk7g2i_dn/assets\n"
     ]
    },
    {
     "name": "stdout",
     "output_type": "stream",
     "text": [
      "float16 quantizatized TFLite model (8350064 Bytes) saved to: flowers_models_optimized/EfficentNetB0_flowers_model_PolynomialDecay90_KMeansPlusPlus128_float16_quantization.tflite\n",
      "WARNING:tensorflow:No training configuration found in the save file, so the model was *not* compiled. Compile it manually.\n"
     ]
    },
    {
     "name": "stderr",
     "output_type": "stream",
     "text": [
      "WARNING:tensorflow:No training configuration found in the save file, so the model was *not* compiled. Compile it manually.\n"
     ]
    },
    {
     "name": "stdout",
     "output_type": "stream",
     "text": [
      "INFO:tensorflow:Assets written to: /tmp/tmpdmkkobdj/assets\n"
     ]
    },
    {
     "name": "stderr",
     "output_type": "stream",
     "text": [
      "INFO:tensorflow:Assets written to: /tmp/tmpdmkkobdj/assets\n"
     ]
    },
    {
     "name": "stdout",
     "output_type": "stream",
     "text": [
      "Converted TFLite model (9381072 Bytes) saved to: flowers_models_optimized/MobileNetV2_flowers_model_ConstantSparsity50.tflite\n",
      "INFO:tensorflow:Assets written to: /tmp/tmpm72exam8/assets\n"
     ]
    },
    {
     "name": "stderr",
     "output_type": "stream",
     "text": [
      "INFO:tensorflow:Assets written to: /tmp/tmpm72exam8/assets\n"
     ]
    },
    {
     "name": "stdout",
     "output_type": "stream",
     "text": [
      "Dynamic range quantizatized TFLite model (2768848 Bytes) saved to: flowers_models_optimized/MobileNetV2_flowers_model_ConstantSparsity50_dynamic_rage_quantization.tflite\n",
      "INFO:tensorflow:Assets written to: /tmp/tmpnc5v6ejh/assets\n"
     ]
    },
    {
     "name": "stderr",
     "output_type": "stream",
     "text": [
      "INFO:tensorflow:Assets written to: /tmp/tmpnc5v6ejh/assets\n"
     ]
    },
    {
     "name": "stdout",
     "output_type": "stream",
     "text": [
      "Full integer quantizatized TFLite model (2975120 Bytes) saved to: flowers_models_optimized/MobileNetV2_flowers_model_ConstantSparsity50_full_integer_quantization.tflite\n",
      "INFO:tensorflow:Assets written to: /tmp/tmprqiyfop9/assets\n"
     ]
    },
    {
     "name": "stderr",
     "output_type": "stream",
     "text": [
      "INFO:tensorflow:Assets written to: /tmp/tmprqiyfop9/assets\n"
     ]
    },
    {
     "name": "stdout",
     "output_type": "stream",
     "text": [
      "Full integer quantizatized with integer io TFLite model (2973880 Bytes) saved to: flowers_models_optimized/MobileNetV2_flowers_model_ConstantSparsity50_full_integer_quantization_integer_io.tflite\n",
      "INFO:tensorflow:Assets written to: /tmp/tmpv0yvij85/assets\n"
     ]
    },
    {
     "name": "stderr",
     "output_type": "stream",
     "text": [
      "INFO:tensorflow:Assets written to: /tmp/tmpv0yvij85/assets\n"
     ]
    },
    {
     "name": "stdout",
     "output_type": "stream",
     "text": [
      "float16 quantizatized TFLite model (4722624 Bytes) saved to: flowers_models_optimized/MobileNetV2_flowers_model_ConstantSparsity50_float16_quantization.tflite\n",
      "WARNING:tensorflow:No training configuration found in the save file, so the model was *not* compiled. Compile it manually.\n"
     ]
    },
    {
     "name": "stderr",
     "output_type": "stream",
     "text": [
      "WARNING:tensorflow:No training configuration found in the save file, so the model was *not* compiled. Compile it manually.\n"
     ]
    },
    {
     "name": "stdout",
     "output_type": "stream",
     "text": [
      "INFO:tensorflow:Assets written to: /tmp/tmp9rovcjrj/assets\n"
     ]
    },
    {
     "name": "stderr",
     "output_type": "stream",
     "text": [
      "INFO:tensorflow:Assets written to: /tmp/tmp9rovcjrj/assets\n"
     ]
    },
    {
     "name": "stdout",
     "output_type": "stream",
     "text": [
      "Converted TFLite model (16551960 Bytes) saved to: flowers_models_optimized/EfficentNetB0_flowers_model_ConstantSparsity50_KMeansPlusPlus32.tflite\n",
      "INFO:tensorflow:Assets written to: /tmp/tmpt80_4n0z/assets\n"
     ]
    },
    {
     "name": "stderr",
     "output_type": "stream",
     "text": [
      "INFO:tensorflow:Assets written to: /tmp/tmpt80_4n0z/assets\n"
     ]
    },
    {
     "name": "stdout",
     "output_type": "stream",
     "text": [
      "Dynamic range quantizatized TFLite model (4916336 Bytes) saved to: flowers_models_optimized/EfficentNetB0_flowers_model_ConstantSparsity50_KMeansPlusPlus32_dynamic_rage_quantization.tflite\n",
      "INFO:tensorflow:Assets written to: /tmp/tmpegwcridu/assets\n"
     ]
    },
    {
     "name": "stderr",
     "output_type": "stream",
     "text": [
      "INFO:tensorflow:Assets written to: /tmp/tmpegwcridu/assets\n"
     ]
    },
    {
     "name": "stdout",
     "output_type": "stream",
     "text": [
      "Full integer quantizatized TFLite model (5287648 Bytes) saved to: flowers_models_optimized/EfficentNetB0_flowers_model_ConstantSparsity50_KMeansPlusPlus32_full_integer_quantization.tflite\n",
      "INFO:tensorflow:Assets written to: /tmp/tmpdaee872g/assets\n"
     ]
    },
    {
     "name": "stderr",
     "output_type": "stream",
     "text": [
      "INFO:tensorflow:Assets written to: /tmp/tmpdaee872g/assets\n"
     ]
    },
    {
     "name": "stdout",
     "output_type": "stream",
     "text": [
      "ERROR: Failed Full integer quantizatized with integer io TFLite model\n",
      "INFO:tensorflow:Assets written to: /tmp/tmpbff9qct3/assets\n"
     ]
    },
    {
     "name": "stderr",
     "output_type": "stream",
     "text": [
      "INFO:tensorflow:Assets written to: /tmp/tmpbff9qct3/assets\n"
     ]
    },
    {
     "name": "stdout",
     "output_type": "stream",
     "text": [
      "float16 quantizatized TFLite model (8350064 Bytes) saved to: flowers_models_optimized/EfficentNetB0_flowers_model_ConstantSparsity50_KMeansPlusPlus32_float16_quantization.tflite\n",
      "WARNING:tensorflow:No training configuration found in the save file, so the model was *not* compiled. Compile it manually.\n"
     ]
    },
    {
     "name": "stderr",
     "output_type": "stream",
     "text": [
      "WARNING:tensorflow:No training configuration found in the save file, so the model was *not* compiled. Compile it manually.\n"
     ]
    },
    {
     "name": "stdout",
     "output_type": "stream",
     "text": [
      "INFO:tensorflow:Assets written to: /tmp/tmpb0u_o2by/assets\n"
     ]
    },
    {
     "name": "stderr",
     "output_type": "stream",
     "text": [
      "INFO:tensorflow:Assets written to: /tmp/tmpb0u_o2by/assets\n"
     ]
    },
    {
     "name": "stdout",
     "output_type": "stream",
     "text": [
      "Converted TFLite model (9381072 Bytes) saved to: flowers_models_optimized/MobileNetV2_flowers_model_PolynomialDecay90_KMeansPlusPlus32.tflite\n",
      "INFO:tensorflow:Assets written to: /tmp/tmp4b_lao_x/assets\n"
     ]
    },
    {
     "name": "stderr",
     "output_type": "stream",
     "text": [
      "INFO:tensorflow:Assets written to: /tmp/tmp4b_lao_x/assets\n"
     ]
    },
    {
     "name": "stdout",
     "output_type": "stream",
     "text": [
      "Dynamic range quantizatized TFLite model (2768848 Bytes) saved to: flowers_models_optimized/MobileNetV2_flowers_model_PolynomialDecay90_KMeansPlusPlus32_dynamic_rage_quantization.tflite\n",
      "INFO:tensorflow:Assets written to: /tmp/tmpqhg7r606/assets\n"
     ]
    },
    {
     "name": "stderr",
     "output_type": "stream",
     "text": [
      "INFO:tensorflow:Assets written to: /tmp/tmpqhg7r606/assets\n"
     ]
    },
    {
     "name": "stdout",
     "output_type": "stream",
     "text": [
      "Full integer quantizatized TFLite model (2975120 Bytes) saved to: flowers_models_optimized/MobileNetV2_flowers_model_PolynomialDecay90_KMeansPlusPlus32_full_integer_quantization.tflite\n",
      "INFO:tensorflow:Assets written to: /tmp/tmph1t_6j2b/assets\n"
     ]
    },
    {
     "name": "stderr",
     "output_type": "stream",
     "text": [
      "INFO:tensorflow:Assets written to: /tmp/tmph1t_6j2b/assets\n"
     ]
    },
    {
     "name": "stdout",
     "output_type": "stream",
     "text": [
      "Full integer quantizatized with integer io TFLite model (2973880 Bytes) saved to: flowers_models_optimized/MobileNetV2_flowers_model_PolynomialDecay90_KMeansPlusPlus32_full_integer_quantization_integer_io.tflite\n",
      "INFO:tensorflow:Assets written to: /tmp/tmpnnak5920/assets\n"
     ]
    },
    {
     "name": "stderr",
     "output_type": "stream",
     "text": [
      "INFO:tensorflow:Assets written to: /tmp/tmpnnak5920/assets\n"
     ]
    },
    {
     "name": "stdout",
     "output_type": "stream",
     "text": [
      "float16 quantizatized TFLite model (4722624 Bytes) saved to: flowers_models_optimized/MobileNetV2_flowers_model_PolynomialDecay90_KMeansPlusPlus32_float16_quantization.tflite\n",
      "WARNING:tensorflow:No training configuration found in the save file, so the model was *not* compiled. Compile it manually.\n"
     ]
    },
    {
     "name": "stderr",
     "output_type": "stream",
     "text": [
      "WARNING:tensorflow:No training configuration found in the save file, so the model was *not* compiled. Compile it manually.\n"
     ]
    },
    {
     "name": "stdout",
     "output_type": "stream",
     "text": [
      "INFO:tensorflow:Assets written to: /tmp/tmpz0xczrd9/assets\n"
     ]
    },
    {
     "name": "stderr",
     "output_type": "stream",
     "text": [
      "INFO:tensorflow:Assets written to: /tmp/tmpz0xczrd9/assets\n"
     ]
    },
    {
     "name": "stdout",
     "output_type": "stream",
     "text": [
      "Converted TFLite model (16551960 Bytes) saved to: flowers_models_optimized/EfficentNetB0_flowers_model_ConstantSparsity75.tflite\n",
      "INFO:tensorflow:Assets written to: /tmp/tmpjy5x88hc/assets\n"
     ]
    },
    {
     "name": "stderr",
     "output_type": "stream",
     "text": [
      "INFO:tensorflow:Assets written to: /tmp/tmpjy5x88hc/assets\n"
     ]
    },
    {
     "name": "stdout",
     "output_type": "stream",
     "text": [
      "Dynamic range quantizatized TFLite model (4916336 Bytes) saved to: flowers_models_optimized/EfficentNetB0_flowers_model_ConstantSparsity75_dynamic_rage_quantization.tflite\n",
      "INFO:tensorflow:Assets written to: /tmp/tmp3b06lh0p/assets\n"
     ]
    },
    {
     "name": "stderr",
     "output_type": "stream",
     "text": [
      "INFO:tensorflow:Assets written to: /tmp/tmp3b06lh0p/assets\n"
     ]
    },
    {
     "name": "stdout",
     "output_type": "stream",
     "text": [
      "Full integer quantizatized TFLite model (5287648 Bytes) saved to: flowers_models_optimized/EfficentNetB0_flowers_model_ConstantSparsity75_full_integer_quantization.tflite\n",
      "INFO:tensorflow:Assets written to: /tmp/tmpl01d3n72/assets\n"
     ]
    },
    {
     "name": "stderr",
     "output_type": "stream",
     "text": [
      "INFO:tensorflow:Assets written to: /tmp/tmpl01d3n72/assets\n"
     ]
    },
    {
     "name": "stdout",
     "output_type": "stream",
     "text": [
      "ERROR: Failed Full integer quantizatized with integer io TFLite model\n",
      "INFO:tensorflow:Assets written to: /tmp/tmp571hptjl/assets\n"
     ]
    },
    {
     "name": "stderr",
     "output_type": "stream",
     "text": [
      "INFO:tensorflow:Assets written to: /tmp/tmp571hptjl/assets\n"
     ]
    },
    {
     "name": "stdout",
     "output_type": "stream",
     "text": [
      "float16 quantizatized TFLite model (8350064 Bytes) saved to: flowers_models_optimized/EfficentNetB0_flowers_model_ConstantSparsity75_float16_quantization.tflite\n",
      "WARNING:tensorflow:No training configuration found in the save file, so the model was *not* compiled. Compile it manually.\n"
     ]
    },
    {
     "name": "stderr",
     "output_type": "stream",
     "text": [
      "WARNING:tensorflow:No training configuration found in the save file, so the model was *not* compiled. Compile it manually.\n"
     ]
    },
    {
     "name": "stdout",
     "output_type": "stream",
     "text": [
      "INFO:tensorflow:Assets written to: /tmp/tmpifh9ktu2/assets\n"
     ]
    },
    {
     "name": "stderr",
     "output_type": "stream",
     "text": [
      "INFO:tensorflow:Assets written to: /tmp/tmpifh9ktu2/assets\n"
     ]
    },
    {
     "name": "stdout",
     "output_type": "stream",
     "text": [
      "Converted TFLite model (16551960 Bytes) saved to: flowers_models_optimized/EfficentNetB0_flowers_model_PolynomialDecay50_KMeansPlusPlus32.tflite\n",
      "INFO:tensorflow:Assets written to: /tmp/tmpd9ejh8pt/assets\n"
     ]
    },
    {
     "name": "stderr",
     "output_type": "stream",
     "text": [
      "INFO:tensorflow:Assets written to: /tmp/tmpd9ejh8pt/assets\n"
     ]
    },
    {
     "name": "stdout",
     "output_type": "stream",
     "text": [
      "Dynamic range quantizatized TFLite model (4916336 Bytes) saved to: flowers_models_optimized/EfficentNetB0_flowers_model_PolynomialDecay50_KMeansPlusPlus32_dynamic_rage_quantization.tflite\n",
      "INFO:tensorflow:Assets written to: /tmp/tmplb8a_3sa/assets\n"
     ]
    },
    {
     "name": "stderr",
     "output_type": "stream",
     "text": [
      "INFO:tensorflow:Assets written to: /tmp/tmplb8a_3sa/assets\n"
     ]
    },
    {
     "name": "stdout",
     "output_type": "stream",
     "text": [
      "Full integer quantizatized TFLite model (5287648 Bytes) saved to: flowers_models_optimized/EfficentNetB0_flowers_model_PolynomialDecay50_KMeansPlusPlus32_full_integer_quantization.tflite\n",
      "INFO:tensorflow:Assets written to: /tmp/tmp1biqdq32/assets\n"
     ]
    },
    {
     "name": "stderr",
     "output_type": "stream",
     "text": [
      "INFO:tensorflow:Assets written to: /tmp/tmp1biqdq32/assets\n"
     ]
    },
    {
     "name": "stdout",
     "output_type": "stream",
     "text": [
      "ERROR: Failed Full integer quantizatized with integer io TFLite model\n",
      "INFO:tensorflow:Assets written to: /tmp/tmpkf2_bmzj/assets\n"
     ]
    },
    {
     "name": "stderr",
     "output_type": "stream",
     "text": [
      "INFO:tensorflow:Assets written to: /tmp/tmpkf2_bmzj/assets\n"
     ]
    },
    {
     "name": "stdout",
     "output_type": "stream",
     "text": [
      "float16 quantizatized TFLite model (8350064 Bytes) saved to: flowers_models_optimized/EfficentNetB0_flowers_model_PolynomialDecay50_KMeansPlusPlus32_float16_quantization.tflite\n",
      "WARNING:tensorflow:No training configuration found in the save file, so the model was *not* compiled. Compile it manually.\n"
     ]
    },
    {
     "name": "stderr",
     "output_type": "stream",
     "text": [
      "WARNING:tensorflow:No training configuration found in the save file, so the model was *not* compiled. Compile it manually.\n"
     ]
    },
    {
     "name": "stdout",
     "output_type": "stream",
     "text": [
      "INFO:tensorflow:Assets written to: /tmp/tmp9vb3hmig/assets\n"
     ]
    },
    {
     "name": "stderr",
     "output_type": "stream",
     "text": [
      "INFO:tensorflow:Assets written to: /tmp/tmp9vb3hmig/assets\n"
     ]
    },
    {
     "name": "stdout",
     "output_type": "stream",
     "text": [
      "Converted TFLite model (16551960 Bytes) saved to: flowers_models_optimized/EfficentNetB0_flowers_model_PolynomialDecay90.tflite\n",
      "INFO:tensorflow:Assets written to: /tmp/tmpp2ez7eeg/assets\n"
     ]
    },
    {
     "name": "stderr",
     "output_type": "stream",
     "text": [
      "INFO:tensorflow:Assets written to: /tmp/tmpp2ez7eeg/assets\n"
     ]
    },
    {
     "name": "stdout",
     "output_type": "stream",
     "text": [
      "Dynamic range quantizatized TFLite model (4916336 Bytes) saved to: flowers_models_optimized/EfficentNetB0_flowers_model_PolynomialDecay90_dynamic_rage_quantization.tflite\n",
      "INFO:tensorflow:Assets written to: /tmp/tmpnlxt80hk/assets\n"
     ]
    },
    {
     "name": "stderr",
     "output_type": "stream",
     "text": [
      "INFO:tensorflow:Assets written to: /tmp/tmpnlxt80hk/assets\n"
     ]
    },
    {
     "name": "stdout",
     "output_type": "stream",
     "text": [
      "Full integer quantizatized TFLite model (5287648 Bytes) saved to: flowers_models_optimized/EfficentNetB0_flowers_model_PolynomialDecay90_full_integer_quantization.tflite\n",
      "INFO:tensorflow:Assets written to: /tmp/tmporyl6dzr/assets\n"
     ]
    },
    {
     "name": "stderr",
     "output_type": "stream",
     "text": [
      "INFO:tensorflow:Assets written to: /tmp/tmporyl6dzr/assets\n"
     ]
    },
    {
     "name": "stdout",
     "output_type": "stream",
     "text": [
      "ERROR: Failed Full integer quantizatized with integer io TFLite model\n",
      "INFO:tensorflow:Assets written to: /tmp/tmp5hl8kx9w/assets\n"
     ]
    },
    {
     "name": "stderr",
     "output_type": "stream",
     "text": [
      "INFO:tensorflow:Assets written to: /tmp/tmp5hl8kx9w/assets\n"
     ]
    },
    {
     "name": "stdout",
     "output_type": "stream",
     "text": [
      "float16 quantizatized TFLite model (8350064 Bytes) saved to: flowers_models_optimized/EfficentNetB0_flowers_model_PolynomialDecay90_float16_quantization.tflite\n",
      "WARNING:tensorflow:No training configuration found in the save file, so the model was *not* compiled. Compile it manually.\n"
     ]
    },
    {
     "name": "stderr",
     "output_type": "stream",
     "text": [
      "WARNING:tensorflow:No training configuration found in the save file, so the model was *not* compiled. Compile it manually.\n"
     ]
    },
    {
     "name": "stdout",
     "output_type": "stream",
     "text": [
      "INFO:tensorflow:Assets written to: /tmp/tmppgnyafct/assets\n"
     ]
    },
    {
     "name": "stderr",
     "output_type": "stream",
     "text": [
      "INFO:tensorflow:Assets written to: /tmp/tmppgnyafct/assets\n"
     ]
    },
    {
     "name": "stdout",
     "output_type": "stream",
     "text": [
      "Converted TFLite model (16551960 Bytes) saved to: flowers_models_optimized/EfficentNetB0_flowers_model_PolynomialDecay90_KMeansPlusPlus32.tflite\n",
      "INFO:tensorflow:Assets written to: /tmp/tmpq0m8hh32/assets\n"
     ]
    },
    {
     "name": "stderr",
     "output_type": "stream",
     "text": [
      "INFO:tensorflow:Assets written to: /tmp/tmpq0m8hh32/assets\n"
     ]
    },
    {
     "name": "stdout",
     "output_type": "stream",
     "text": [
      "Dynamic range quantizatized TFLite model (4916336 Bytes) saved to: flowers_models_optimized/EfficentNetB0_flowers_model_PolynomialDecay90_KMeansPlusPlus32_dynamic_rage_quantization.tflite\n",
      "INFO:tensorflow:Assets written to: /tmp/tmp294sev6w/assets\n"
     ]
    },
    {
     "name": "stderr",
     "output_type": "stream",
     "text": [
      "INFO:tensorflow:Assets written to: /tmp/tmp294sev6w/assets\n"
     ]
    },
    {
     "name": "stdout",
     "output_type": "stream",
     "text": [
      "Full integer quantizatized TFLite model (5287648 Bytes) saved to: flowers_models_optimized/EfficentNetB0_flowers_model_PolynomialDecay90_KMeansPlusPlus32_full_integer_quantization.tflite\n",
      "INFO:tensorflow:Assets written to: /tmp/tmp4cjr7e4s/assets\n"
     ]
    },
    {
     "name": "stderr",
     "output_type": "stream",
     "text": [
      "INFO:tensorflow:Assets written to: /tmp/tmp4cjr7e4s/assets\n"
     ]
    },
    {
     "name": "stdout",
     "output_type": "stream",
     "text": [
      "ERROR: Failed Full integer quantizatized with integer io TFLite model\n",
      "INFO:tensorflow:Assets written to: /tmp/tmp3dc8qcx8/assets\n"
     ]
    },
    {
     "name": "stderr",
     "output_type": "stream",
     "text": [
      "INFO:tensorflow:Assets written to: /tmp/tmp3dc8qcx8/assets\n"
     ]
    },
    {
     "name": "stdout",
     "output_type": "stream",
     "text": [
      "float16 quantizatized TFLite model (8350064 Bytes) saved to: flowers_models_optimized/EfficentNetB0_flowers_model_PolynomialDecay90_KMeansPlusPlus32_float16_quantization.tflite\n",
      "WARNING:tensorflow:No training configuration found in the save file, so the model was *not* compiled. Compile it manually.\n"
     ]
    },
    {
     "name": "stderr",
     "output_type": "stream",
     "text": [
      "WARNING:tensorflow:No training configuration found in the save file, so the model was *not* compiled. Compile it manually.\n"
     ]
    },
    {
     "name": "stdout",
     "output_type": "stream",
     "text": [
      "INFO:tensorflow:Assets written to: /tmp/tmpplk086bc/assets\n"
     ]
    },
    {
     "name": "stderr",
     "output_type": "stream",
     "text": [
      "INFO:tensorflow:Assets written to: /tmp/tmpplk086bc/assets\n"
     ]
    },
    {
     "name": "stdout",
     "output_type": "stream",
     "text": [
      "Converted TFLite model (9381072 Bytes) saved to: flowers_models_optimized/MobileNetV2_flowers_model_PolynomialDecay75_KMeansPlusPlus128.tflite\n",
      "INFO:tensorflow:Assets written to: /tmp/tmpac954dz9/assets\n"
     ]
    },
    {
     "name": "stderr",
     "output_type": "stream",
     "text": [
      "INFO:tensorflow:Assets written to: /tmp/tmpac954dz9/assets\n"
     ]
    },
    {
     "name": "stdout",
     "output_type": "stream",
     "text": [
      "Dynamic range quantizatized TFLite model (2768848 Bytes) saved to: flowers_models_optimized/MobileNetV2_flowers_model_PolynomialDecay75_KMeansPlusPlus128_dynamic_rage_quantization.tflite\n",
      "INFO:tensorflow:Assets written to: /tmp/tmp9nruiv72/assets\n"
     ]
    },
    {
     "name": "stderr",
     "output_type": "stream",
     "text": [
      "INFO:tensorflow:Assets written to: /tmp/tmp9nruiv72/assets\n"
     ]
    },
    {
     "name": "stdout",
     "output_type": "stream",
     "text": [
      "Full integer quantizatized TFLite model (2975120 Bytes) saved to: flowers_models_optimized/MobileNetV2_flowers_model_PolynomialDecay75_KMeansPlusPlus128_full_integer_quantization.tflite\n",
      "INFO:tensorflow:Assets written to: /tmp/tmp6qeen9dy/assets\n"
     ]
    },
    {
     "name": "stderr",
     "output_type": "stream",
     "text": [
      "INFO:tensorflow:Assets written to: /tmp/tmp6qeen9dy/assets\n"
     ]
    },
    {
     "name": "stdout",
     "output_type": "stream",
     "text": [
      "Full integer quantizatized with integer io TFLite model (2973880 Bytes) saved to: flowers_models_optimized/MobileNetV2_flowers_model_PolynomialDecay75_KMeansPlusPlus128_full_integer_quantization_integer_io.tflite\n",
      "INFO:tensorflow:Assets written to: /tmp/tmp2bntw60v/assets\n"
     ]
    },
    {
     "name": "stderr",
     "output_type": "stream",
     "text": [
      "INFO:tensorflow:Assets written to: /tmp/tmp2bntw60v/assets\n"
     ]
    },
    {
     "name": "stdout",
     "output_type": "stream",
     "text": [
      "float16 quantizatized TFLite model (4722624 Bytes) saved to: flowers_models_optimized/MobileNetV2_flowers_model_PolynomialDecay75_KMeansPlusPlus128_float16_quantization.tflite\n",
      "WARNING:tensorflow:No training configuration found in the save file, so the model was *not* compiled. Compile it manually.\n"
     ]
    },
    {
     "name": "stderr",
     "output_type": "stream",
     "text": [
      "WARNING:tensorflow:No training configuration found in the save file, so the model was *not* compiled. Compile it manually.\n"
     ]
    },
    {
     "name": "stdout",
     "output_type": "stream",
     "text": [
      "INFO:tensorflow:Assets written to: /tmp/tmpvqdphgml/assets\n"
     ]
    },
    {
     "name": "stderr",
     "output_type": "stream",
     "text": [
      "INFO:tensorflow:Assets written to: /tmp/tmpvqdphgml/assets\n"
     ]
    },
    {
     "name": "stdout",
     "output_type": "stream",
     "text": [
      "Converted TFLite model (16551960 Bytes) saved to: flowers_models_optimized/EfficentNetB0_flowers_model_ConstantSparsity50.tflite\n",
      "INFO:tensorflow:Assets written to: /tmp/tmpqo0jcm4y/assets\n"
     ]
    },
    {
     "name": "stderr",
     "output_type": "stream",
     "text": [
      "INFO:tensorflow:Assets written to: /tmp/tmpqo0jcm4y/assets\n"
     ]
    },
    {
     "name": "stdout",
     "output_type": "stream",
     "text": [
      "Dynamic range quantizatized TFLite model (4916336 Bytes) saved to: flowers_models_optimized/EfficentNetB0_flowers_model_ConstantSparsity50_dynamic_rage_quantization.tflite\n",
      "INFO:tensorflow:Assets written to: /tmp/tmpnmzndwdh/assets\n"
     ]
    },
    {
     "name": "stderr",
     "output_type": "stream",
     "text": [
      "INFO:tensorflow:Assets written to: /tmp/tmpnmzndwdh/assets\n"
     ]
    },
    {
     "name": "stdout",
     "output_type": "stream",
     "text": [
      "Full integer quantizatized TFLite model (5287648 Bytes) saved to: flowers_models_optimized/EfficentNetB0_flowers_model_ConstantSparsity50_full_integer_quantization.tflite\n",
      "INFO:tensorflow:Assets written to: /tmp/tmpc21tduew/assets\n"
     ]
    },
    {
     "name": "stderr",
     "output_type": "stream",
     "text": [
      "INFO:tensorflow:Assets written to: /tmp/tmpc21tduew/assets\n"
     ]
    },
    {
     "name": "stdout",
     "output_type": "stream",
     "text": [
      "ERROR: Failed Full integer quantizatized with integer io TFLite model\n",
      "INFO:tensorflow:Assets written to: /tmp/tmpzef9hpvs/assets\n"
     ]
    },
    {
     "name": "stderr",
     "output_type": "stream",
     "text": [
      "INFO:tensorflow:Assets written to: /tmp/tmpzef9hpvs/assets\n"
     ]
    },
    {
     "name": "stdout",
     "output_type": "stream",
     "text": [
      "float16 quantizatized TFLite model (8350064 Bytes) saved to: flowers_models_optimized/EfficentNetB0_flowers_model_ConstantSparsity50_float16_quantization.tflite\n",
      "WARNING:tensorflow:No training configuration found in the save file, so the model was *not* compiled. Compile it manually.\n"
     ]
    },
    {
     "name": "stderr",
     "output_type": "stream",
     "text": [
      "WARNING:tensorflow:No training configuration found in the save file, so the model was *not* compiled. Compile it manually.\n"
     ]
    },
    {
     "name": "stdout",
     "output_type": "stream",
     "text": [
      "INFO:tensorflow:Assets written to: /tmp/tmpsoav357o/assets\n"
     ]
    },
    {
     "name": "stderr",
     "output_type": "stream",
     "text": [
      "INFO:tensorflow:Assets written to: /tmp/tmpsoav357o/assets\n"
     ]
    },
    {
     "name": "stdout",
     "output_type": "stream",
     "text": [
      "Converted TFLite model (9381072 Bytes) saved to: flowers_models_optimized/MobileNetV2_flowers_model_ConstantSparsity75_KMeansPlusPlus32.tflite\n",
      "INFO:tensorflow:Assets written to: /tmp/tmp13qjxcle/assets\n"
     ]
    },
    {
     "name": "stderr",
     "output_type": "stream",
     "text": [
      "INFO:tensorflow:Assets written to: /tmp/tmp13qjxcle/assets\n"
     ]
    },
    {
     "name": "stdout",
     "output_type": "stream",
     "text": [
      "Dynamic range quantizatized TFLite model (2768848 Bytes) saved to: flowers_models_optimized/MobileNetV2_flowers_model_ConstantSparsity75_KMeansPlusPlus32_dynamic_rage_quantization.tflite\n",
      "INFO:tensorflow:Assets written to: /tmp/tmps850vg_f/assets\n"
     ]
    },
    {
     "name": "stderr",
     "output_type": "stream",
     "text": [
      "INFO:tensorflow:Assets written to: /tmp/tmps850vg_f/assets\n"
     ]
    },
    {
     "name": "stdout",
     "output_type": "stream",
     "text": [
      "Full integer quantizatized TFLite model (2975120 Bytes) saved to: flowers_models_optimized/MobileNetV2_flowers_model_ConstantSparsity75_KMeansPlusPlus32_full_integer_quantization.tflite\n",
      "INFO:tensorflow:Assets written to: /tmp/tmpn09eys1q/assets\n"
     ]
    },
    {
     "name": "stderr",
     "output_type": "stream",
     "text": [
      "INFO:tensorflow:Assets written to: /tmp/tmpn09eys1q/assets\n"
     ]
    },
    {
     "name": "stdout",
     "output_type": "stream",
     "text": [
      "Full integer quantizatized with integer io TFLite model (2973880 Bytes) saved to: flowers_models_optimized/MobileNetV2_flowers_model_ConstantSparsity75_KMeansPlusPlus32_full_integer_quantization_integer_io.tflite\n",
      "INFO:tensorflow:Assets written to: /tmp/tmpt_3lk0j_/assets\n"
     ]
    },
    {
     "name": "stderr",
     "output_type": "stream",
     "text": [
      "INFO:tensorflow:Assets written to: /tmp/tmpt_3lk0j_/assets\n"
     ]
    },
    {
     "name": "stdout",
     "output_type": "stream",
     "text": [
      "float16 quantizatized TFLite model (4722624 Bytes) saved to: flowers_models_optimized/MobileNetV2_flowers_model_ConstantSparsity75_KMeansPlusPlus32_float16_quantization.tflite\n",
      "WARNING:tensorflow:No training configuration found in the save file, so the model was *not* compiled. Compile it manually.\n"
     ]
    },
    {
     "name": "stderr",
     "output_type": "stream",
     "text": [
      "WARNING:tensorflow:No training configuration found in the save file, so the model was *not* compiled. Compile it manually.\n"
     ]
    },
    {
     "name": "stdout",
     "output_type": "stream",
     "text": [
      "INFO:tensorflow:Assets written to: /tmp/tmps6vud3l1/assets\n"
     ]
    },
    {
     "name": "stderr",
     "output_type": "stream",
     "text": [
      "INFO:tensorflow:Assets written to: /tmp/tmps6vud3l1/assets\n"
     ]
    },
    {
     "name": "stdout",
     "output_type": "stream",
     "text": [
      "Converted TFLite model (9381072 Bytes) saved to: flowers_models_optimized/MobileNetV2_flowers_model_ConstantSparsity75_KMeansPlusPlus128.tflite\n",
      "INFO:tensorflow:Assets written to: /tmp/tmpl1lhbij8/assets\n"
     ]
    },
    {
     "name": "stderr",
     "output_type": "stream",
     "text": [
      "INFO:tensorflow:Assets written to: /tmp/tmpl1lhbij8/assets\n"
     ]
    },
    {
     "name": "stdout",
     "output_type": "stream",
     "text": [
      "Dynamic range quantizatized TFLite model (2768848 Bytes) saved to: flowers_models_optimized/MobileNetV2_flowers_model_ConstantSparsity75_KMeansPlusPlus128_dynamic_rage_quantization.tflite\n",
      "INFO:tensorflow:Assets written to: /tmp/tmpsmnmshvw/assets\n"
     ]
    },
    {
     "name": "stderr",
     "output_type": "stream",
     "text": [
      "INFO:tensorflow:Assets written to: /tmp/tmpsmnmshvw/assets\n"
     ]
    },
    {
     "name": "stdout",
     "output_type": "stream",
     "text": [
      "Full integer quantizatized TFLite model (2975120 Bytes) saved to: flowers_models_optimized/MobileNetV2_flowers_model_ConstantSparsity75_KMeansPlusPlus128_full_integer_quantization.tflite\n",
      "INFO:tensorflow:Assets written to: /tmp/tmpwfaqxn3h/assets\n"
     ]
    },
    {
     "name": "stderr",
     "output_type": "stream",
     "text": [
      "INFO:tensorflow:Assets written to: /tmp/tmpwfaqxn3h/assets\n"
     ]
    },
    {
     "name": "stdout",
     "output_type": "stream",
     "text": [
      "Full integer quantizatized with integer io TFLite model (2973880 Bytes) saved to: flowers_models_optimized/MobileNetV2_flowers_model_ConstantSparsity75_KMeansPlusPlus128_full_integer_quantization_integer_io.tflite\n",
      "INFO:tensorflow:Assets written to: /tmp/tmprqyzgzyz/assets\n"
     ]
    },
    {
     "name": "stderr",
     "output_type": "stream",
     "text": [
      "INFO:tensorflow:Assets written to: /tmp/tmprqyzgzyz/assets\n"
     ]
    },
    {
     "name": "stdout",
     "output_type": "stream",
     "text": [
      "float16 quantizatized TFLite model (4722624 Bytes) saved to: flowers_models_optimized/MobileNetV2_flowers_model_ConstantSparsity75_KMeansPlusPlus128_float16_quantization.tflite\n",
      "WARNING:tensorflow:No training configuration found in the save file, so the model was *not* compiled. Compile it manually.\n"
     ]
    },
    {
     "name": "stderr",
     "output_type": "stream",
     "text": [
      "WARNING:tensorflow:No training configuration found in the save file, so the model was *not* compiled. Compile it manually.\n"
     ]
    },
    {
     "name": "stdout",
     "output_type": "stream",
     "text": [
      "INFO:tensorflow:Assets written to: /tmp/tmpt4a37qmo/assets\n"
     ]
    },
    {
     "name": "stderr",
     "output_type": "stream",
     "text": [
      "INFO:tensorflow:Assets written to: /tmp/tmpt4a37qmo/assets\n"
     ]
    },
    {
     "name": "stdout",
     "output_type": "stream",
     "text": [
      "Converted TFLite model (9381072 Bytes) saved to: flowers_models_optimized/MobileNetV2_flowers_model_KMeansPlusPlus128.tflite\n",
      "INFO:tensorflow:Assets written to: /tmp/tmpylvrpgyj/assets\n"
     ]
    },
    {
     "name": "stderr",
     "output_type": "stream",
     "text": [
      "INFO:tensorflow:Assets written to: /tmp/tmpylvrpgyj/assets\n"
     ]
    },
    {
     "name": "stdout",
     "output_type": "stream",
     "text": [
      "Dynamic range quantizatized TFLite model (2768848 Bytes) saved to: flowers_models_optimized/MobileNetV2_flowers_model_KMeansPlusPlus128_dynamic_rage_quantization.tflite\n",
      "INFO:tensorflow:Assets written to: /tmp/tmp8nji7ljv/assets\n"
     ]
    },
    {
     "name": "stderr",
     "output_type": "stream",
     "text": [
      "INFO:tensorflow:Assets written to: /tmp/tmp8nji7ljv/assets\n"
     ]
    },
    {
     "name": "stdout",
     "output_type": "stream",
     "text": [
      "Full integer quantizatized TFLite model (2975120 Bytes) saved to: flowers_models_optimized/MobileNetV2_flowers_model_KMeansPlusPlus128_full_integer_quantization.tflite\n",
      "INFO:tensorflow:Assets written to: /tmp/tmp_q8uemmn/assets\n"
     ]
    },
    {
     "name": "stderr",
     "output_type": "stream",
     "text": [
      "INFO:tensorflow:Assets written to: /tmp/tmp_q8uemmn/assets\n"
     ]
    },
    {
     "name": "stdout",
     "output_type": "stream",
     "text": [
      "Full integer quantizatized with integer io TFLite model (2973880 Bytes) saved to: flowers_models_optimized/MobileNetV2_flowers_model_KMeansPlusPlus128_full_integer_quantization_integer_io.tflite\n",
      "INFO:tensorflow:Assets written to: /tmp/tmpsb2kpfz_/assets\n"
     ]
    },
    {
     "name": "stderr",
     "output_type": "stream",
     "text": [
      "INFO:tensorflow:Assets written to: /tmp/tmpsb2kpfz_/assets\n"
     ]
    },
    {
     "name": "stdout",
     "output_type": "stream",
     "text": [
      "float16 quantizatized TFLite model (4722624 Bytes) saved to: flowers_models_optimized/MobileNetV2_flowers_model_KMeansPlusPlus128_float16_quantization.tflite\n",
      "WARNING:tensorflow:No training configuration found in the save file, so the model was *not* compiled. Compile it manually.\n"
     ]
    },
    {
     "name": "stderr",
     "output_type": "stream",
     "text": [
      "WARNING:tensorflow:No training configuration found in the save file, so the model was *not* compiled. Compile it manually.\n"
     ]
    },
    {
     "name": "stdout",
     "output_type": "stream",
     "text": [
      "INFO:tensorflow:Assets written to: /tmp/tmpsijm_ttu/assets\n"
     ]
    },
    {
     "name": "stderr",
     "output_type": "stream",
     "text": [
      "INFO:tensorflow:Assets written to: /tmp/tmpsijm_ttu/assets\n"
     ]
    },
    {
     "name": "stdout",
     "output_type": "stream",
     "text": [
      "Converted TFLite model (9381072 Bytes) saved to: flowers_models_optimized/MobileNetV2_flowers_model_KMeansPlusPlus32.tflite\n",
      "INFO:tensorflow:Assets written to: /tmp/tmpuau7cvgu/assets\n"
     ]
    },
    {
     "name": "stderr",
     "output_type": "stream",
     "text": [
      "INFO:tensorflow:Assets written to: /tmp/tmpuau7cvgu/assets\n"
     ]
    },
    {
     "name": "stdout",
     "output_type": "stream",
     "text": [
      "Dynamic range quantizatized TFLite model (2768848 Bytes) saved to: flowers_models_optimized/MobileNetV2_flowers_model_KMeansPlusPlus32_dynamic_rage_quantization.tflite\n",
      "INFO:tensorflow:Assets written to: /tmp/tmp8cjfzm19/assets\n"
     ]
    },
    {
     "name": "stderr",
     "output_type": "stream",
     "text": [
      "INFO:tensorflow:Assets written to: /tmp/tmp8cjfzm19/assets\n"
     ]
    },
    {
     "name": "stdout",
     "output_type": "stream",
     "text": [
      "Full integer quantizatized TFLite model (2975120 Bytes) saved to: flowers_models_optimized/MobileNetV2_flowers_model_KMeansPlusPlus32_full_integer_quantization.tflite\n",
      "INFO:tensorflow:Assets written to: /tmp/tmpe7qnteme/assets\n"
     ]
    },
    {
     "name": "stderr",
     "output_type": "stream",
     "text": [
      "INFO:tensorflow:Assets written to: /tmp/tmpe7qnteme/assets\n"
     ]
    },
    {
     "name": "stdout",
     "output_type": "stream",
     "text": [
      "Full integer quantizatized with integer io TFLite model (2973880 Bytes) saved to: flowers_models_optimized/MobileNetV2_flowers_model_KMeansPlusPlus32_full_integer_quantization_integer_io.tflite\n",
      "INFO:tensorflow:Assets written to: /tmp/tmp1s6ggfpd/assets\n"
     ]
    },
    {
     "name": "stderr",
     "output_type": "stream",
     "text": [
      "INFO:tensorflow:Assets written to: /tmp/tmp1s6ggfpd/assets\n"
     ]
    },
    {
     "name": "stdout",
     "output_type": "stream",
     "text": [
      "float16 quantizatized TFLite model (4722624 Bytes) saved to: flowers_models_optimized/MobileNetV2_flowers_model_KMeansPlusPlus32_float16_quantization.tflite\n",
      "WARNING:tensorflow:No training configuration found in the save file, so the model was *not* compiled. Compile it manually.\n"
     ]
    },
    {
     "name": "stderr",
     "output_type": "stream",
     "text": [
      "WARNING:tensorflow:No training configuration found in the save file, so the model was *not* compiled. Compile it manually.\n"
     ]
    },
    {
     "name": "stdout",
     "output_type": "stream",
     "text": [
      "INFO:tensorflow:Assets written to: /tmp/tmprl41d4qa/assets\n"
     ]
    },
    {
     "name": "stderr",
     "output_type": "stream",
     "text": [
      "INFO:tensorflow:Assets written to: /tmp/tmprl41d4qa/assets\n"
     ]
    },
    {
     "name": "stdout",
     "output_type": "stream",
     "text": [
      "Converted TFLite model (16551960 Bytes) saved to: flowers_models_optimized/EfficentNetB0_flowers_model_ConstantSparsity90_KMeansPlusPlus32.tflite\n",
      "INFO:tensorflow:Assets written to: /tmp/tmp37fjsk9z/assets\n"
     ]
    },
    {
     "name": "stderr",
     "output_type": "stream",
     "text": [
      "INFO:tensorflow:Assets written to: /tmp/tmp37fjsk9z/assets\n"
     ]
    },
    {
     "name": "stdout",
     "output_type": "stream",
     "text": [
      "Dynamic range quantizatized TFLite model (4916336 Bytes) saved to: flowers_models_optimized/EfficentNetB0_flowers_model_ConstantSparsity90_KMeansPlusPlus32_dynamic_rage_quantization.tflite\n",
      "INFO:tensorflow:Assets written to: /tmp/tmpmvkbcod0/assets\n"
     ]
    },
    {
     "name": "stderr",
     "output_type": "stream",
     "text": [
      "INFO:tensorflow:Assets written to: /tmp/tmpmvkbcod0/assets\n"
     ]
    },
    {
     "name": "stdout",
     "output_type": "stream",
     "text": [
      "Full integer quantizatized TFLite model (5287648 Bytes) saved to: flowers_models_optimized/EfficentNetB0_flowers_model_ConstantSparsity90_KMeansPlusPlus32_full_integer_quantization.tflite\n",
      "INFO:tensorflow:Assets written to: /tmp/tmpzml4nx4y/assets\n"
     ]
    },
    {
     "name": "stderr",
     "output_type": "stream",
     "text": [
      "INFO:tensorflow:Assets written to: /tmp/tmpzml4nx4y/assets\n"
     ]
    },
    {
     "name": "stdout",
     "output_type": "stream",
     "text": [
      "ERROR: Failed Full integer quantizatized with integer io TFLite model\n",
      "INFO:tensorflow:Assets written to: /tmp/tmp2xlthp38/assets\n"
     ]
    },
    {
     "name": "stderr",
     "output_type": "stream",
     "text": [
      "INFO:tensorflow:Assets written to: /tmp/tmp2xlthp38/assets\n"
     ]
    },
    {
     "name": "stdout",
     "output_type": "stream",
     "text": [
      "float16 quantizatized TFLite model (8350064 Bytes) saved to: flowers_models_optimized/EfficentNetB0_flowers_model_ConstantSparsity90_KMeansPlusPlus32_float16_quantization.tflite\n",
      "WARNING:tensorflow:No training configuration found in the save file, so the model was *not* compiled. Compile it manually.\n"
     ]
    },
    {
     "name": "stderr",
     "output_type": "stream",
     "text": [
      "WARNING:tensorflow:No training configuration found in the save file, so the model was *not* compiled. Compile it manually.\n"
     ]
    },
    {
     "name": "stdout",
     "output_type": "stream",
     "text": [
      "INFO:tensorflow:Assets written to: /tmp/tmpq20t1akq/assets\n"
     ]
    },
    {
     "name": "stderr",
     "output_type": "stream",
     "text": [
      "INFO:tensorflow:Assets written to: /tmp/tmpq20t1akq/assets\n"
     ]
    },
    {
     "name": "stdout",
     "output_type": "stream",
     "text": [
      "Converted TFLite model (9381072 Bytes) saved to: flowers_models_optimized/MobileNetV2_flowers_model_ConstantSparsity90.tflite\n",
      "INFO:tensorflow:Assets written to: /tmp/tmpfwwipv5s/assets\n"
     ]
    },
    {
     "name": "stderr",
     "output_type": "stream",
     "text": [
      "INFO:tensorflow:Assets written to: /tmp/tmpfwwipv5s/assets\n"
     ]
    },
    {
     "name": "stdout",
     "output_type": "stream",
     "text": [
      "Dynamic range quantizatized TFLite model (2768848 Bytes) saved to: flowers_models_optimized/MobileNetV2_flowers_model_ConstantSparsity90_dynamic_rage_quantization.tflite\n",
      "INFO:tensorflow:Assets written to: /tmp/tmpjice7eq4/assets\n"
     ]
    },
    {
     "name": "stderr",
     "output_type": "stream",
     "text": [
      "INFO:tensorflow:Assets written to: /tmp/tmpjice7eq4/assets\n"
     ]
    },
    {
     "name": "stdout",
     "output_type": "stream",
     "text": [
      "Full integer quantizatized TFLite model (2975120 Bytes) saved to: flowers_models_optimized/MobileNetV2_flowers_model_ConstantSparsity90_full_integer_quantization.tflite\n",
      "INFO:tensorflow:Assets written to: /tmp/tmp526f8f_t/assets\n"
     ]
    },
    {
     "name": "stderr",
     "output_type": "stream",
     "text": [
      "INFO:tensorflow:Assets written to: /tmp/tmp526f8f_t/assets\n"
     ]
    },
    {
     "name": "stdout",
     "output_type": "stream",
     "text": [
      "Full integer quantizatized with integer io TFLite model (2973880 Bytes) saved to: flowers_models_optimized/MobileNetV2_flowers_model_ConstantSparsity90_full_integer_quantization_integer_io.tflite\n",
      "INFO:tensorflow:Assets written to: /tmp/tmp_46noro9/assets\n"
     ]
    },
    {
     "name": "stderr",
     "output_type": "stream",
     "text": [
      "INFO:tensorflow:Assets written to: /tmp/tmp_46noro9/assets\n"
     ]
    },
    {
     "name": "stdout",
     "output_type": "stream",
     "text": [
      "float16 quantizatized TFLite model (4722624 Bytes) saved to: flowers_models_optimized/MobileNetV2_flowers_model_ConstantSparsity90_float16_quantization.tflite\n",
      "WARNING:tensorflow:No training configuration found in the save file, so the model was *not* compiled. Compile it manually.\n"
     ]
    },
    {
     "name": "stderr",
     "output_type": "stream",
     "text": [
      "WARNING:tensorflow:No training configuration found in the save file, so the model was *not* compiled. Compile it manually.\n"
     ]
    },
    {
     "name": "stdout",
     "output_type": "stream",
     "text": [
      "INFO:tensorflow:Assets written to: /tmp/tmpgadgqrqs/assets\n"
     ]
    },
    {
     "name": "stderr",
     "output_type": "stream",
     "text": [
      "INFO:tensorflow:Assets written to: /tmp/tmpgadgqrqs/assets\n"
     ]
    },
    {
     "name": "stdout",
     "output_type": "stream",
     "text": [
      "Converted TFLite model (9381072 Bytes) saved to: flowers_models_optimized/MobileNetV2_flowers_model_ConstantSparsity75.tflite\n",
      "INFO:tensorflow:Assets written to: /tmp/tmpm1k47v43/assets\n"
     ]
    },
    {
     "name": "stderr",
     "output_type": "stream",
     "text": [
      "INFO:tensorflow:Assets written to: /tmp/tmpm1k47v43/assets\n"
     ]
    },
    {
     "name": "stdout",
     "output_type": "stream",
     "text": [
      "Dynamic range quantizatized TFLite model (2768848 Bytes) saved to: flowers_models_optimized/MobileNetV2_flowers_model_ConstantSparsity75_dynamic_rage_quantization.tflite\n",
      "INFO:tensorflow:Assets written to: /tmp/tmpohmjxi3j/assets\n"
     ]
    },
    {
     "name": "stderr",
     "output_type": "stream",
     "text": [
      "INFO:tensorflow:Assets written to: /tmp/tmpohmjxi3j/assets\n"
     ]
    },
    {
     "name": "stdout",
     "output_type": "stream",
     "text": [
      "Full integer quantizatized TFLite model (2975120 Bytes) saved to: flowers_models_optimized/MobileNetV2_flowers_model_ConstantSparsity75_full_integer_quantization.tflite\n",
      "INFO:tensorflow:Assets written to: /tmp/tmp_rzo18j1/assets\n"
     ]
    },
    {
     "name": "stderr",
     "output_type": "stream",
     "text": [
      "INFO:tensorflow:Assets written to: /tmp/tmp_rzo18j1/assets\n"
     ]
    },
    {
     "name": "stdout",
     "output_type": "stream",
     "text": [
      "Full integer quantizatized with integer io TFLite model (2973880 Bytes) saved to: flowers_models_optimized/MobileNetV2_flowers_model_ConstantSparsity75_full_integer_quantization_integer_io.tflite\n",
      "INFO:tensorflow:Assets written to: /tmp/tmpvy9ktt9v/assets\n"
     ]
    },
    {
     "name": "stderr",
     "output_type": "stream",
     "text": [
      "INFO:tensorflow:Assets written to: /tmp/tmpvy9ktt9v/assets\n"
     ]
    },
    {
     "name": "stdout",
     "output_type": "stream",
     "text": [
      "float16 quantizatized TFLite model (4722624 Bytes) saved to: flowers_models_optimized/MobileNetV2_flowers_model_ConstantSparsity75_float16_quantization.tflite\n",
      "WARNING:tensorflow:No training configuration found in the save file, so the model was *not* compiled. Compile it manually.\n"
     ]
    },
    {
     "name": "stderr",
     "output_type": "stream",
     "text": [
      "WARNING:tensorflow:No training configuration found in the save file, so the model was *not* compiled. Compile it manually.\n"
     ]
    },
    {
     "name": "stdout",
     "output_type": "stream",
     "text": [
      "INFO:tensorflow:Assets written to: /tmp/tmpn1yexda8/assets\n"
     ]
    },
    {
     "name": "stderr",
     "output_type": "stream",
     "text": [
      "INFO:tensorflow:Assets written to: /tmp/tmpn1yexda8/assets\n"
     ]
    },
    {
     "name": "stdout",
     "output_type": "stream",
     "text": [
      "Converted TFLite model (9381072 Bytes) saved to: flowers_models_optimized/MobileNetV2_flowers_model_ConstantSparsity50_KMeansPlusPlus128.tflite\n",
      "INFO:tensorflow:Assets written to: /tmp/tmp3kdzjixi/assets\n"
     ]
    },
    {
     "name": "stderr",
     "output_type": "stream",
     "text": [
      "INFO:tensorflow:Assets written to: /tmp/tmp3kdzjixi/assets\n"
     ]
    },
    {
     "name": "stdout",
     "output_type": "stream",
     "text": [
      "Dynamic range quantizatized TFLite model (2768848 Bytes) saved to: flowers_models_optimized/MobileNetV2_flowers_model_ConstantSparsity50_KMeansPlusPlus128_dynamic_rage_quantization.tflite\n",
      "INFO:tensorflow:Assets written to: /tmp/tmpr8cl20qv/assets\n"
     ]
    },
    {
     "name": "stderr",
     "output_type": "stream",
     "text": [
      "INFO:tensorflow:Assets written to: /tmp/tmpr8cl20qv/assets\n"
     ]
    },
    {
     "name": "stdout",
     "output_type": "stream",
     "text": [
      "Full integer quantizatized TFLite model (2975120 Bytes) saved to: flowers_models_optimized/MobileNetV2_flowers_model_ConstantSparsity50_KMeansPlusPlus128_full_integer_quantization.tflite\n",
      "INFO:tensorflow:Assets written to: /tmp/tmpw6q7ilcf/assets\n"
     ]
    },
    {
     "name": "stderr",
     "output_type": "stream",
     "text": [
      "INFO:tensorflow:Assets written to: /tmp/tmpw6q7ilcf/assets\n"
     ]
    },
    {
     "name": "stdout",
     "output_type": "stream",
     "text": [
      "Full integer quantizatized with integer io TFLite model (2973880 Bytes) saved to: flowers_models_optimized/MobileNetV2_flowers_model_ConstantSparsity50_KMeansPlusPlus128_full_integer_quantization_integer_io.tflite\n",
      "INFO:tensorflow:Assets written to: /tmp/tmpkjxnrdmk/assets\n"
     ]
    },
    {
     "name": "stderr",
     "output_type": "stream",
     "text": [
      "INFO:tensorflow:Assets written to: /tmp/tmpkjxnrdmk/assets\n"
     ]
    },
    {
     "name": "stdout",
     "output_type": "stream",
     "text": [
      "float16 quantizatized TFLite model (4722624 Bytes) saved to: flowers_models_optimized/MobileNetV2_flowers_model_ConstantSparsity50_KMeansPlusPlus128_float16_quantization.tflite\n",
      "WARNING:tensorflow:No training configuration found in the save file, so the model was *not* compiled. Compile it manually.\n"
     ]
    },
    {
     "name": "stderr",
     "output_type": "stream",
     "text": [
      "WARNING:tensorflow:No training configuration found in the save file, so the model was *not* compiled. Compile it manually.\n"
     ]
    },
    {
     "name": "stdout",
     "output_type": "stream",
     "text": [
      "INFO:tensorflow:Assets written to: /tmp/tmpp9a3q91j/assets\n"
     ]
    },
    {
     "name": "stderr",
     "output_type": "stream",
     "text": [
      "INFO:tensorflow:Assets written to: /tmp/tmpp9a3q91j/assets\n"
     ]
    },
    {
     "name": "stdout",
     "output_type": "stream",
     "text": [
      "Converted TFLite model (16551960 Bytes) saved to: flowers_models_optimized/EfficentNetB0_flowers_model_ConstantSparsity90.tflite\n",
      "INFO:tensorflow:Assets written to: /tmp/tmpkwr0dy8o/assets\n"
     ]
    },
    {
     "name": "stderr",
     "output_type": "stream",
     "text": [
      "INFO:tensorflow:Assets written to: /tmp/tmpkwr0dy8o/assets\n"
     ]
    },
    {
     "name": "stdout",
     "output_type": "stream",
     "text": [
      "Dynamic range quantizatized TFLite model (4916336 Bytes) saved to: flowers_models_optimized/EfficentNetB0_flowers_model_ConstantSparsity90_dynamic_rage_quantization.tflite\n",
      "INFO:tensorflow:Assets written to: /tmp/tmp1v1ogyet/assets\n"
     ]
    },
    {
     "name": "stderr",
     "output_type": "stream",
     "text": [
      "INFO:tensorflow:Assets written to: /tmp/tmp1v1ogyet/assets\n"
     ]
    },
    {
     "name": "stdout",
     "output_type": "stream",
     "text": [
      "Full integer quantizatized TFLite model (5287648 Bytes) saved to: flowers_models_optimized/EfficentNetB0_flowers_model_ConstantSparsity90_full_integer_quantization.tflite\n",
      "INFO:tensorflow:Assets written to: /tmp/tmpyn1pigs8/assets\n"
     ]
    },
    {
     "name": "stderr",
     "output_type": "stream",
     "text": [
      "INFO:tensorflow:Assets written to: /tmp/tmpyn1pigs8/assets\n"
     ]
    },
    {
     "name": "stdout",
     "output_type": "stream",
     "text": [
      "ERROR: Failed Full integer quantizatized with integer io TFLite model\n",
      "INFO:tensorflow:Assets written to: /tmp/tmptt8pzqhs/assets\n"
     ]
    },
    {
     "name": "stderr",
     "output_type": "stream",
     "text": [
      "INFO:tensorflow:Assets written to: /tmp/tmptt8pzqhs/assets\n"
     ]
    },
    {
     "name": "stdout",
     "output_type": "stream",
     "text": [
      "float16 quantizatized TFLite model (8350064 Bytes) saved to: flowers_models_optimized/EfficentNetB0_flowers_model_ConstantSparsity90_float16_quantization.tflite\n",
      "WARNING:tensorflow:No training configuration found in the save file, so the model was *not* compiled. Compile it manually.\n"
     ]
    },
    {
     "name": "stderr",
     "output_type": "stream",
     "text": [
      "WARNING:tensorflow:No training configuration found in the save file, so the model was *not* compiled. Compile it manually.\n"
     ]
    },
    {
     "name": "stdout",
     "output_type": "stream",
     "text": [
      "INFO:tensorflow:Assets written to: /tmp/tmpnmah_405/assets\n"
     ]
    },
    {
     "name": "stderr",
     "output_type": "stream",
     "text": [
      "INFO:tensorflow:Assets written to: /tmp/tmpnmah_405/assets\n"
     ]
    },
    {
     "name": "stdout",
     "output_type": "stream",
     "text": [
      "Converted TFLite model (9381072 Bytes) saved to: flowers_models_optimized/MobileNetV2_flowers_model_ConstantSparsity50_KMeansPlusPlus32.tflite\n",
      "INFO:tensorflow:Assets written to: /tmp/tmp217tgb9c/assets\n"
     ]
    },
    {
     "name": "stderr",
     "output_type": "stream",
     "text": [
      "INFO:tensorflow:Assets written to: /tmp/tmp217tgb9c/assets\n"
     ]
    },
    {
     "name": "stdout",
     "output_type": "stream",
     "text": [
      "Dynamic range quantizatized TFLite model (2768848 Bytes) saved to: flowers_models_optimized/MobileNetV2_flowers_model_ConstantSparsity50_KMeansPlusPlus32_dynamic_rage_quantization.tflite\n",
      "INFO:tensorflow:Assets written to: /tmp/tmpzkjiy9f5/assets\n"
     ]
    },
    {
     "name": "stderr",
     "output_type": "stream",
     "text": [
      "INFO:tensorflow:Assets written to: /tmp/tmpzkjiy9f5/assets\n"
     ]
    },
    {
     "name": "stdout",
     "output_type": "stream",
     "text": [
      "Full integer quantizatized TFLite model (2975120 Bytes) saved to: flowers_models_optimized/MobileNetV2_flowers_model_ConstantSparsity50_KMeansPlusPlus32_full_integer_quantization.tflite\n",
      "INFO:tensorflow:Assets written to: /tmp/tmpfz1w4t63/assets\n"
     ]
    },
    {
     "name": "stderr",
     "output_type": "stream",
     "text": [
      "INFO:tensorflow:Assets written to: /tmp/tmpfz1w4t63/assets\n"
     ]
    },
    {
     "name": "stdout",
     "output_type": "stream",
     "text": [
      "Full integer quantizatized with integer io TFLite model (2973880 Bytes) saved to: flowers_models_optimized/MobileNetV2_flowers_model_ConstantSparsity50_KMeansPlusPlus32_full_integer_quantization_integer_io.tflite\n",
      "INFO:tensorflow:Assets written to: /tmp/tmp9mppq5rl/assets\n"
     ]
    },
    {
     "name": "stderr",
     "output_type": "stream",
     "text": [
      "INFO:tensorflow:Assets written to: /tmp/tmp9mppq5rl/assets\n"
     ]
    },
    {
     "name": "stdout",
     "output_type": "stream",
     "text": [
      "float16 quantizatized TFLite model (4722624 Bytes) saved to: flowers_models_optimized/MobileNetV2_flowers_model_ConstantSparsity50_KMeansPlusPlus32_float16_quantization.tflite\n",
      "WARNING:tensorflow:No training configuration found in the save file, so the model was *not* compiled. Compile it manually.\n"
     ]
    },
    {
     "name": "stderr",
     "output_type": "stream",
     "text": [
      "WARNING:tensorflow:No training configuration found in the save file, so the model was *not* compiled. Compile it manually.\n"
     ]
    },
    {
     "name": "stdout",
     "output_type": "stream",
     "text": [
      "INFO:tensorflow:Assets written to: /tmp/tmpmhw9u9lv/assets\n"
     ]
    },
    {
     "name": "stderr",
     "output_type": "stream",
     "text": [
      "INFO:tensorflow:Assets written to: /tmp/tmpmhw9u9lv/assets\n"
     ]
    },
    {
     "name": "stdout",
     "output_type": "stream",
     "text": [
      "Converted TFLite model (9381072 Bytes) saved to: flowers_models_optimized/MobileNetV2_flowers_model_ConstantSparsity90_KMeansPlusPlus32.tflite\n",
      "INFO:tensorflow:Assets written to: /tmp/tmphe54quen/assets\n"
     ]
    },
    {
     "name": "stderr",
     "output_type": "stream",
     "text": [
      "INFO:tensorflow:Assets written to: /tmp/tmphe54quen/assets\n"
     ]
    },
    {
     "name": "stdout",
     "output_type": "stream",
     "text": [
      "Dynamic range quantizatized TFLite model (2768848 Bytes) saved to: flowers_models_optimized/MobileNetV2_flowers_model_ConstantSparsity90_KMeansPlusPlus32_dynamic_rage_quantization.tflite\n",
      "INFO:tensorflow:Assets written to: /tmp/tmpab1sempw/assets\n"
     ]
    },
    {
     "name": "stderr",
     "output_type": "stream",
     "text": [
      "INFO:tensorflow:Assets written to: /tmp/tmpab1sempw/assets\n"
     ]
    },
    {
     "name": "stdout",
     "output_type": "stream",
     "text": [
      "Full integer quantizatized TFLite model (2975120 Bytes) saved to: flowers_models_optimized/MobileNetV2_flowers_model_ConstantSparsity90_KMeansPlusPlus32_full_integer_quantization.tflite\n",
      "INFO:tensorflow:Assets written to: /tmp/tmp3jts4z9z/assets\n"
     ]
    },
    {
     "name": "stderr",
     "output_type": "stream",
     "text": [
      "INFO:tensorflow:Assets written to: /tmp/tmp3jts4z9z/assets\n"
     ]
    },
    {
     "name": "stdout",
     "output_type": "stream",
     "text": [
      "Full integer quantizatized with integer io TFLite model (2973880 Bytes) saved to: flowers_models_optimized/MobileNetV2_flowers_model_ConstantSparsity90_KMeansPlusPlus32_full_integer_quantization_integer_io.tflite\n",
      "INFO:tensorflow:Assets written to: /tmp/tmpx_bnbvf4/assets\n"
     ]
    },
    {
     "name": "stderr",
     "output_type": "stream",
     "text": [
      "INFO:tensorflow:Assets written to: /tmp/tmpx_bnbvf4/assets\n"
     ]
    },
    {
     "name": "stdout",
     "output_type": "stream",
     "text": [
      "float16 quantizatized TFLite model (4722624 Bytes) saved to: flowers_models_optimized/MobileNetV2_flowers_model_ConstantSparsity90_KMeansPlusPlus32_float16_quantization.tflite\n",
      "WARNING:tensorflow:No training configuration found in the save file, so the model was *not* compiled. Compile it manually.\n"
     ]
    },
    {
     "name": "stderr",
     "output_type": "stream",
     "text": [
      "WARNING:tensorflow:No training configuration found in the save file, so the model was *not* compiled. Compile it manually.\n"
     ]
    },
    {
     "name": "stdout",
     "output_type": "stream",
     "text": [
      "INFO:tensorflow:Assets written to: /tmp/tmp1fdt99r8/assets\n"
     ]
    },
    {
     "name": "stderr",
     "output_type": "stream",
     "text": [
      "INFO:tensorflow:Assets written to: /tmp/tmp1fdt99r8/assets\n"
     ]
    },
    {
     "name": "stdout",
     "output_type": "stream",
     "text": [
      "Converted TFLite model (9381072 Bytes) saved to: flowers_models_optimized/MobileNetV2_flowers_model_PolynomialDecay75.tflite\n",
      "INFO:tensorflow:Assets written to: /tmp/tmplb_6wg4p/assets\n"
     ]
    },
    {
     "name": "stderr",
     "output_type": "stream",
     "text": [
      "INFO:tensorflow:Assets written to: /tmp/tmplb_6wg4p/assets\n"
     ]
    },
    {
     "name": "stdout",
     "output_type": "stream",
     "text": [
      "Dynamic range quantizatized TFLite model (2768848 Bytes) saved to: flowers_models_optimized/MobileNetV2_flowers_model_PolynomialDecay75_dynamic_rage_quantization.tflite\n",
      "INFO:tensorflow:Assets written to: /tmp/tmplqd1pjjq/assets\n"
     ]
    },
    {
     "name": "stderr",
     "output_type": "stream",
     "text": [
      "INFO:tensorflow:Assets written to: /tmp/tmplqd1pjjq/assets\n"
     ]
    },
    {
     "name": "stdout",
     "output_type": "stream",
     "text": [
      "Full integer quantizatized TFLite model (2975120 Bytes) saved to: flowers_models_optimized/MobileNetV2_flowers_model_PolynomialDecay75_full_integer_quantization.tflite\n",
      "INFO:tensorflow:Assets written to: /tmp/tmpd1nkt9my/assets\n"
     ]
    },
    {
     "name": "stderr",
     "output_type": "stream",
     "text": [
      "INFO:tensorflow:Assets written to: /tmp/tmpd1nkt9my/assets\n"
     ]
    },
    {
     "name": "stdout",
     "output_type": "stream",
     "text": [
      "Full integer quantizatized with integer io TFLite model (2973880 Bytes) saved to: flowers_models_optimized/MobileNetV2_flowers_model_PolynomialDecay75_full_integer_quantization_integer_io.tflite\n",
      "INFO:tensorflow:Assets written to: /tmp/tmp6cge9tm5/assets\n"
     ]
    },
    {
     "name": "stderr",
     "output_type": "stream",
     "text": [
      "INFO:tensorflow:Assets written to: /tmp/tmp6cge9tm5/assets\n"
     ]
    },
    {
     "name": "stdout",
     "output_type": "stream",
     "text": [
      "float16 quantizatized TFLite model (4722624 Bytes) saved to: flowers_models_optimized/MobileNetV2_flowers_model_PolynomialDecay75_float16_quantization.tflite\n",
      "WARNING:tensorflow:No training configuration found in the save file, so the model was *not* compiled. Compile it manually.\n"
     ]
    },
    {
     "name": "stderr",
     "output_type": "stream",
     "text": [
      "WARNING:tensorflow:No training configuration found in the save file, so the model was *not* compiled. Compile it manually.\n"
     ]
    },
    {
     "name": "stdout",
     "output_type": "stream",
     "text": [
      "INFO:tensorflow:Assets written to: /tmp/tmp5kivm6o2/assets\n"
     ]
    },
    {
     "name": "stderr",
     "output_type": "stream",
     "text": [
      "INFO:tensorflow:Assets written to: /tmp/tmp5kivm6o2/assets\n"
     ]
    },
    {
     "name": "stdout",
     "output_type": "stream",
     "text": [
      "Converted TFLite model (9381072 Bytes) saved to: flowers_models_optimized/MobileNetV2_flowers_model_PolynomialDecay50.tflite\n",
      "INFO:tensorflow:Assets written to: /tmp/tmp47gf6s3u/assets\n"
     ]
    },
    {
     "name": "stderr",
     "output_type": "stream",
     "text": [
      "INFO:tensorflow:Assets written to: /tmp/tmp47gf6s3u/assets\n"
     ]
    },
    {
     "name": "stdout",
     "output_type": "stream",
     "text": [
      "Dynamic range quantizatized TFLite model (2768848 Bytes) saved to: flowers_models_optimized/MobileNetV2_flowers_model_PolynomialDecay50_dynamic_rage_quantization.tflite\n",
      "INFO:tensorflow:Assets written to: /tmp/tmpi55c5uvo/assets\n"
     ]
    },
    {
     "name": "stderr",
     "output_type": "stream",
     "text": [
      "INFO:tensorflow:Assets written to: /tmp/tmpi55c5uvo/assets\n"
     ]
    },
    {
     "name": "stdout",
     "output_type": "stream",
     "text": [
      "Full integer quantizatized TFLite model (2975120 Bytes) saved to: flowers_models_optimized/MobileNetV2_flowers_model_PolynomialDecay50_full_integer_quantization.tflite\n",
      "INFO:tensorflow:Assets written to: /tmp/tmp_dh2y19o/assets\n"
     ]
    },
    {
     "name": "stderr",
     "output_type": "stream",
     "text": [
      "INFO:tensorflow:Assets written to: /tmp/tmp_dh2y19o/assets\n"
     ]
    },
    {
     "name": "stdout",
     "output_type": "stream",
     "text": [
      "Full integer quantizatized with integer io TFLite model (2973880 Bytes) saved to: flowers_models_optimized/MobileNetV2_flowers_model_PolynomialDecay50_full_integer_quantization_integer_io.tflite\n",
      "INFO:tensorflow:Assets written to: /tmp/tmp6clnqeij/assets\n"
     ]
    },
    {
     "name": "stderr",
     "output_type": "stream",
     "text": [
      "INFO:tensorflow:Assets written to: /tmp/tmp6clnqeij/assets\n"
     ]
    },
    {
     "name": "stdout",
     "output_type": "stream",
     "text": [
      "float16 quantizatized TFLite model (4722624 Bytes) saved to: flowers_models_optimized/MobileNetV2_flowers_model_PolynomialDecay50_float16_quantization.tflite\n",
      "WARNING:tensorflow:No training configuration found in the save file, so the model was *not* compiled. Compile it manually.\n"
     ]
    },
    {
     "name": "stderr",
     "output_type": "stream",
     "text": [
      "WARNING:tensorflow:No training configuration found in the save file, so the model was *not* compiled. Compile it manually.\n"
     ]
    },
    {
     "name": "stdout",
     "output_type": "stream",
     "text": [
      "INFO:tensorflow:Assets written to: /tmp/tmps410edmx/assets\n"
     ]
    },
    {
     "name": "stderr",
     "output_type": "stream",
     "text": [
      "INFO:tensorflow:Assets written to: /tmp/tmps410edmx/assets\n"
     ]
    },
    {
     "name": "stdout",
     "output_type": "stream",
     "text": [
      "Converted TFLite model (9381072 Bytes) saved to: flowers_models_optimized/MobileNetV2_flowers_model_PolynomialDecay50_KMeansPlusPlus128.tflite\n",
      "INFO:tensorflow:Assets written to: /tmp/tmpenr93piq/assets\n"
     ]
    },
    {
     "name": "stderr",
     "output_type": "stream",
     "text": [
      "INFO:tensorflow:Assets written to: /tmp/tmpenr93piq/assets\n"
     ]
    },
    {
     "name": "stdout",
     "output_type": "stream",
     "text": [
      "Dynamic range quantizatized TFLite model (2768848 Bytes) saved to: flowers_models_optimized/MobileNetV2_flowers_model_PolynomialDecay50_KMeansPlusPlus128_dynamic_rage_quantization.tflite\n",
      "INFO:tensorflow:Assets written to: /tmp/tmptfd9o88r/assets\n"
     ]
    },
    {
     "name": "stderr",
     "output_type": "stream",
     "text": [
      "INFO:tensorflow:Assets written to: /tmp/tmptfd9o88r/assets\n"
     ]
    },
    {
     "name": "stdout",
     "output_type": "stream",
     "text": [
      "Full integer quantizatized TFLite model (2975120 Bytes) saved to: flowers_models_optimized/MobileNetV2_flowers_model_PolynomialDecay50_KMeansPlusPlus128_full_integer_quantization.tflite\n",
      "INFO:tensorflow:Assets written to: /tmp/tmptxzr_ty7/assets\n"
     ]
    },
    {
     "name": "stderr",
     "output_type": "stream",
     "text": [
      "INFO:tensorflow:Assets written to: /tmp/tmptxzr_ty7/assets\n"
     ]
    },
    {
     "name": "stdout",
     "output_type": "stream",
     "text": [
      "Full integer quantizatized with integer io TFLite model (2973880 Bytes) saved to: flowers_models_optimized/MobileNetV2_flowers_model_PolynomialDecay50_KMeansPlusPlus128_full_integer_quantization_integer_io.tflite\n",
      "INFO:tensorflow:Assets written to: /tmp/tmp4fgqq5g7/assets\n"
     ]
    },
    {
     "name": "stderr",
     "output_type": "stream",
     "text": [
      "INFO:tensorflow:Assets written to: /tmp/tmp4fgqq5g7/assets\n"
     ]
    },
    {
     "name": "stdout",
     "output_type": "stream",
     "text": [
      "float16 quantizatized TFLite model (4722624 Bytes) saved to: flowers_models_optimized/MobileNetV2_flowers_model_PolynomialDecay50_KMeansPlusPlus128_float16_quantization.tflite\n",
      "WARNING:tensorflow:No training configuration found in the save file, so the model was *not* compiled. Compile it manually.\n"
     ]
    },
    {
     "name": "stderr",
     "output_type": "stream",
     "text": [
      "WARNING:tensorflow:No training configuration found in the save file, so the model was *not* compiled. Compile it manually.\n"
     ]
    },
    {
     "name": "stdout",
     "output_type": "stream",
     "text": [
      "INFO:tensorflow:Assets written to: /tmp/tmp_lj6nocx/assets\n"
     ]
    },
    {
     "name": "stderr",
     "output_type": "stream",
     "text": [
      "INFO:tensorflow:Assets written to: /tmp/tmp_lj6nocx/assets\n"
     ]
    },
    {
     "name": "stdout",
     "output_type": "stream",
     "text": [
      "Converted TFLite model (16551960 Bytes) saved to: flowers_models_optimized/EfficentNetB0_flowers_model_PolynomialDecay75.tflite\n",
      "INFO:tensorflow:Assets written to: /tmp/tmpxw6pf0ge/assets\n"
     ]
    },
    {
     "name": "stderr",
     "output_type": "stream",
     "text": [
      "INFO:tensorflow:Assets written to: /tmp/tmpxw6pf0ge/assets\n"
     ]
    },
    {
     "name": "stdout",
     "output_type": "stream",
     "text": [
      "Dynamic range quantizatized TFLite model (4916336 Bytes) saved to: flowers_models_optimized/EfficentNetB0_flowers_model_PolynomialDecay75_dynamic_rage_quantization.tflite\n",
      "INFO:tensorflow:Assets written to: /tmp/tmpjnp9qtip/assets\n"
     ]
    },
    {
     "name": "stderr",
     "output_type": "stream",
     "text": [
      "INFO:tensorflow:Assets written to: /tmp/tmpjnp9qtip/assets\n"
     ]
    },
    {
     "name": "stdout",
     "output_type": "stream",
     "text": [
      "Full integer quantizatized TFLite model (5287648 Bytes) saved to: flowers_models_optimized/EfficentNetB0_flowers_model_PolynomialDecay75_full_integer_quantization.tflite\n",
      "INFO:tensorflow:Assets written to: /tmp/tmptebi02rj/assets\n"
     ]
    },
    {
     "name": "stderr",
     "output_type": "stream",
     "text": [
      "INFO:tensorflow:Assets written to: /tmp/tmptebi02rj/assets\n"
     ]
    },
    {
     "name": "stdout",
     "output_type": "stream",
     "text": [
      "ERROR: Failed Full integer quantizatized with integer io TFLite model\n",
      "INFO:tensorflow:Assets written to: /tmp/tmpwmdwkjzd/assets\n"
     ]
    },
    {
     "name": "stderr",
     "output_type": "stream",
     "text": [
      "INFO:tensorflow:Assets written to: /tmp/tmpwmdwkjzd/assets\n"
     ]
    },
    {
     "name": "stdout",
     "output_type": "stream",
     "text": [
      "float16 quantizatized TFLite model (8350064 Bytes) saved to: flowers_models_optimized/EfficentNetB0_flowers_model_PolynomialDecay75_float16_quantization.tflite\n",
      "WARNING:tensorflow:No training configuration found in the save file, so the model was *not* compiled. Compile it manually.\n"
     ]
    },
    {
     "name": "stderr",
     "output_type": "stream",
     "text": [
      "WARNING:tensorflow:No training configuration found in the save file, so the model was *not* compiled. Compile it manually.\n"
     ]
    },
    {
     "name": "stdout",
     "output_type": "stream",
     "text": [
      "INFO:tensorflow:Assets written to: /tmp/tmp2szhs7xh/assets\n"
     ]
    },
    {
     "name": "stderr",
     "output_type": "stream",
     "text": [
      "INFO:tensorflow:Assets written to: /tmp/tmp2szhs7xh/assets\n"
     ]
    },
    {
     "name": "stdout",
     "output_type": "stream",
     "text": [
      "Converted TFLite model (16551960 Bytes) saved to: flowers_models_optimized/EfficentNetB0_flowers_model_ConstantSparsity50_KMeansPlusPlus128.tflite\n",
      "INFO:tensorflow:Assets written to: /tmp/tmp710sqz28/assets\n"
     ]
    },
    {
     "name": "stderr",
     "output_type": "stream",
     "text": [
      "INFO:tensorflow:Assets written to: /tmp/tmp710sqz28/assets\n"
     ]
    },
    {
     "name": "stdout",
     "output_type": "stream",
     "text": [
      "Dynamic range quantizatized TFLite model (4916336 Bytes) saved to: flowers_models_optimized/EfficentNetB0_flowers_model_ConstantSparsity50_KMeansPlusPlus128_dynamic_rage_quantization.tflite\n",
      "INFO:tensorflow:Assets written to: /tmp/tmpo1_uqykl/assets\n"
     ]
    },
    {
     "name": "stderr",
     "output_type": "stream",
     "text": [
      "INFO:tensorflow:Assets written to: /tmp/tmpo1_uqykl/assets\n"
     ]
    },
    {
     "name": "stdout",
     "output_type": "stream",
     "text": [
      "Full integer quantizatized TFLite model (5287648 Bytes) saved to: flowers_models_optimized/EfficentNetB0_flowers_model_ConstantSparsity50_KMeansPlusPlus128_full_integer_quantization.tflite\n",
      "INFO:tensorflow:Assets written to: /tmp/tmphh19mnev/assets\n"
     ]
    },
    {
     "name": "stderr",
     "output_type": "stream",
     "text": [
      "INFO:tensorflow:Assets written to: /tmp/tmphh19mnev/assets\n"
     ]
    },
    {
     "name": "stdout",
     "output_type": "stream",
     "text": [
      "ERROR: Failed Full integer quantizatized with integer io TFLite model\n",
      "INFO:tensorflow:Assets written to: /tmp/tmpt4x3yd9l/assets\n"
     ]
    },
    {
     "name": "stderr",
     "output_type": "stream",
     "text": [
      "INFO:tensorflow:Assets written to: /tmp/tmpt4x3yd9l/assets\n"
     ]
    },
    {
     "name": "stdout",
     "output_type": "stream",
     "text": [
      "float16 quantizatized TFLite model (8350064 Bytes) saved to: flowers_models_optimized/EfficentNetB0_flowers_model_ConstantSparsity50_KMeansPlusPlus128_float16_quantization.tflite\n",
      "WARNING:tensorflow:No training configuration found in the save file, so the model was *not* compiled. Compile it manually.\n"
     ]
    },
    {
     "name": "stderr",
     "output_type": "stream",
     "text": [
      "WARNING:tensorflow:No training configuration found in the save file, so the model was *not* compiled. Compile it manually.\n"
     ]
    },
    {
     "name": "stdout",
     "output_type": "stream",
     "text": [
      "INFO:tensorflow:Assets written to: /tmp/tmpu43v1h7b/assets\n"
     ]
    },
    {
     "name": "stderr",
     "output_type": "stream",
     "text": [
      "INFO:tensorflow:Assets written to: /tmp/tmpu43v1h7b/assets\n"
     ]
    },
    {
     "name": "stdout",
     "output_type": "stream",
     "text": [
      "Converted TFLite model (16551960 Bytes) saved to: flowers_models_optimized/EfficentNetB0_flowers_model_KMeansPlusPlus32.tflite\n",
      "INFO:tensorflow:Assets written to: /tmp/tmp9k79pv1c/assets\n"
     ]
    },
    {
     "name": "stderr",
     "output_type": "stream",
     "text": [
      "INFO:tensorflow:Assets written to: /tmp/tmp9k79pv1c/assets\n"
     ]
    },
    {
     "name": "stdout",
     "output_type": "stream",
     "text": [
      "Dynamic range quantizatized TFLite model (4916336 Bytes) saved to: flowers_models_optimized/EfficentNetB0_flowers_model_KMeansPlusPlus32_dynamic_rage_quantization.tflite\n",
      "INFO:tensorflow:Assets written to: /tmp/tmp6zacuvqg/assets\n"
     ]
    },
    {
     "name": "stderr",
     "output_type": "stream",
     "text": [
      "INFO:tensorflow:Assets written to: /tmp/tmp6zacuvqg/assets\n"
     ]
    },
    {
     "name": "stdout",
     "output_type": "stream",
     "text": [
      "Full integer quantizatized TFLite model (5287648 Bytes) saved to: flowers_models_optimized/EfficentNetB0_flowers_model_KMeansPlusPlus32_full_integer_quantization.tflite\n",
      "INFO:tensorflow:Assets written to: /tmp/tmpe5wb_sxh/assets\n"
     ]
    },
    {
     "name": "stderr",
     "output_type": "stream",
     "text": [
      "INFO:tensorflow:Assets written to: /tmp/tmpe5wb_sxh/assets\n"
     ]
    },
    {
     "name": "stdout",
     "output_type": "stream",
     "text": [
      "ERROR: Failed Full integer quantizatized with integer io TFLite model\n",
      "INFO:tensorflow:Assets written to: /tmp/tmpn1t0s327/assets\n"
     ]
    },
    {
     "name": "stderr",
     "output_type": "stream",
     "text": [
      "INFO:tensorflow:Assets written to: /tmp/tmpn1t0s327/assets\n"
     ]
    },
    {
     "name": "stdout",
     "output_type": "stream",
     "text": [
      "float16 quantizatized TFLite model (8350064 Bytes) saved to: flowers_models_optimized/EfficentNetB0_flowers_model_KMeansPlusPlus32_float16_quantization.tflite\n",
      "WARNING:tensorflow:No training configuration found in the save file, so the model was *not* compiled. Compile it manually.\n"
     ]
    },
    {
     "name": "stderr",
     "output_type": "stream",
     "text": [
      "WARNING:tensorflow:No training configuration found in the save file, so the model was *not* compiled. Compile it manually.\n"
     ]
    },
    {
     "name": "stdout",
     "output_type": "stream",
     "text": [
      "INFO:tensorflow:Assets written to: /tmp/tmpj2jhj2qx/assets\n"
     ]
    },
    {
     "name": "stderr",
     "output_type": "stream",
     "text": [
      "INFO:tensorflow:Assets written to: /tmp/tmpj2jhj2qx/assets\n"
     ]
    },
    {
     "name": "stdout",
     "output_type": "stream",
     "text": [
      "Converted TFLite model (9381072 Bytes) saved to: flowers_models_optimized/MobileNetV2_flowers_model_PolynomialDecay75_KMeansPlusPlus32.tflite\n",
      "INFO:tensorflow:Assets written to: /tmp/tmpzwp411ef/assets\n"
     ]
    },
    {
     "name": "stderr",
     "output_type": "stream",
     "text": [
      "INFO:tensorflow:Assets written to: /tmp/tmpzwp411ef/assets\n"
     ]
    },
    {
     "name": "stdout",
     "output_type": "stream",
     "text": [
      "Dynamic range quantizatized TFLite model (2768848 Bytes) saved to: flowers_models_optimized/MobileNetV2_flowers_model_PolynomialDecay75_KMeansPlusPlus32_dynamic_rage_quantization.tflite\n",
      "INFO:tensorflow:Assets written to: /tmp/tmpfhdb9vbv/assets\n"
     ]
    },
    {
     "name": "stderr",
     "output_type": "stream",
     "text": [
      "INFO:tensorflow:Assets written to: /tmp/tmpfhdb9vbv/assets\n"
     ]
    },
    {
     "name": "stdout",
     "output_type": "stream",
     "text": [
      "Full integer quantizatized TFLite model (2975120 Bytes) saved to: flowers_models_optimized/MobileNetV2_flowers_model_PolynomialDecay75_KMeansPlusPlus32_full_integer_quantization.tflite\n",
      "INFO:tensorflow:Assets written to: /tmp/tmp9h1xl462/assets\n"
     ]
    },
    {
     "name": "stderr",
     "output_type": "stream",
     "text": [
      "INFO:tensorflow:Assets written to: /tmp/tmp9h1xl462/assets\n"
     ]
    },
    {
     "name": "stdout",
     "output_type": "stream",
     "text": [
      "Full integer quantizatized with integer io TFLite model (2973880 Bytes) saved to: flowers_models_optimized/MobileNetV2_flowers_model_PolynomialDecay75_KMeansPlusPlus32_full_integer_quantization_integer_io.tflite\n",
      "INFO:tensorflow:Assets written to: /tmp/tmperklkrix/assets\n"
     ]
    },
    {
     "name": "stderr",
     "output_type": "stream",
     "text": [
      "INFO:tensorflow:Assets written to: /tmp/tmperklkrix/assets\n"
     ]
    },
    {
     "name": "stdout",
     "output_type": "stream",
     "text": [
      "float16 quantizatized TFLite model (4722624 Bytes) saved to: flowers_models_optimized/MobileNetV2_flowers_model_PolynomialDecay75_KMeansPlusPlus32_float16_quantization.tflite\n",
      "WARNING:tensorflow:No training configuration found in the save file, so the model was *not* compiled. Compile it manually.\n"
     ]
    },
    {
     "name": "stderr",
     "output_type": "stream",
     "text": [
      "WARNING:tensorflow:No training configuration found in the save file, so the model was *not* compiled. Compile it manually.\n"
     ]
    },
    {
     "name": "stdout",
     "output_type": "stream",
     "text": [
      "INFO:tensorflow:Assets written to: /tmp/tmpdoryg1aq/assets\n"
     ]
    },
    {
     "name": "stderr",
     "output_type": "stream",
     "text": [
      "INFO:tensorflow:Assets written to: /tmp/tmpdoryg1aq/assets\n"
     ]
    },
    {
     "name": "stdout",
     "output_type": "stream",
     "text": [
      "Converted TFLite model (16551960 Bytes) saved to: flowers_models_optimized/EfficentNetB0_flowers_model_PolynomialDecay75_KMeansPlusPlus32.tflite\n",
      "INFO:tensorflow:Assets written to: /tmp/tmp0ev1t606/assets\n"
     ]
    },
    {
     "name": "stderr",
     "output_type": "stream",
     "text": [
      "INFO:tensorflow:Assets written to: /tmp/tmp0ev1t606/assets\n"
     ]
    },
    {
     "name": "stdout",
     "output_type": "stream",
     "text": [
      "Dynamic range quantizatized TFLite model (4916336 Bytes) saved to: flowers_models_optimized/EfficentNetB0_flowers_model_PolynomialDecay75_KMeansPlusPlus32_dynamic_rage_quantization.tflite\n",
      "INFO:tensorflow:Assets written to: /tmp/tmp25cns45b/assets\n"
     ]
    },
    {
     "name": "stderr",
     "output_type": "stream",
     "text": [
      "INFO:tensorflow:Assets written to: /tmp/tmp25cns45b/assets\n"
     ]
    },
    {
     "name": "stdout",
     "output_type": "stream",
     "text": [
      "Full integer quantizatized TFLite model (5287648 Bytes) saved to: flowers_models_optimized/EfficentNetB0_flowers_model_PolynomialDecay75_KMeansPlusPlus32_full_integer_quantization.tflite\n",
      "INFO:tensorflow:Assets written to: /tmp/tmp569kk2eo/assets\n"
     ]
    },
    {
     "name": "stderr",
     "output_type": "stream",
     "text": [
      "INFO:tensorflow:Assets written to: /tmp/tmp569kk2eo/assets\n"
     ]
    },
    {
     "name": "stdout",
     "output_type": "stream",
     "text": [
      "ERROR: Failed Full integer quantizatized with integer io TFLite model\n",
      "INFO:tensorflow:Assets written to: /tmp/tmp5vdzppel/assets\n"
     ]
    },
    {
     "name": "stderr",
     "output_type": "stream",
     "text": [
      "INFO:tensorflow:Assets written to: /tmp/tmp5vdzppel/assets\n"
     ]
    },
    {
     "name": "stdout",
     "output_type": "stream",
     "text": [
      "float16 quantizatized TFLite model (8350064 Bytes) saved to: flowers_models_optimized/EfficentNetB0_flowers_model_PolynomialDecay75_KMeansPlusPlus32_float16_quantization.tflite\n",
      "WARNING:tensorflow:No training configuration found in the save file, so the model was *not* compiled. Compile it manually.\n"
     ]
    },
    {
     "name": "stderr",
     "output_type": "stream",
     "text": [
      "WARNING:tensorflow:No training configuration found in the save file, so the model was *not* compiled. Compile it manually.\n"
     ]
    },
    {
     "name": "stdout",
     "output_type": "stream",
     "text": [
      "INFO:tensorflow:Assets written to: /tmp/tmpp1e8__gt/assets\n"
     ]
    },
    {
     "name": "stderr",
     "output_type": "stream",
     "text": [
      "INFO:tensorflow:Assets written to: /tmp/tmpp1e8__gt/assets\n"
     ]
    },
    {
     "name": "stdout",
     "output_type": "stream",
     "text": [
      "Converted TFLite model (16551960 Bytes) saved to: flowers_models_optimized/EfficentNetB0_flowers_model_PolynomialDecay50.tflite\n",
      "INFO:tensorflow:Assets written to: /tmp/tmpwlqhfhqh/assets\n"
     ]
    },
    {
     "name": "stderr",
     "output_type": "stream",
     "text": [
      "INFO:tensorflow:Assets written to: /tmp/tmpwlqhfhqh/assets\n"
     ]
    },
    {
     "name": "stdout",
     "output_type": "stream",
     "text": [
      "Dynamic range quantizatized TFLite model (4916336 Bytes) saved to: flowers_models_optimized/EfficentNetB0_flowers_model_PolynomialDecay50_dynamic_rage_quantization.tflite\n",
      "INFO:tensorflow:Assets written to: /tmp/tmpmg28fhhd/assets\n"
     ]
    },
    {
     "name": "stderr",
     "output_type": "stream",
     "text": [
      "INFO:tensorflow:Assets written to: /tmp/tmpmg28fhhd/assets\n"
     ]
    },
    {
     "name": "stdout",
     "output_type": "stream",
     "text": [
      "Full integer quantizatized TFLite model (5287648 Bytes) saved to: flowers_models_optimized/EfficentNetB0_flowers_model_PolynomialDecay50_full_integer_quantization.tflite\n",
      "INFO:tensorflow:Assets written to: /tmp/tmp_cisoknf/assets\n"
     ]
    },
    {
     "name": "stderr",
     "output_type": "stream",
     "text": [
      "INFO:tensorflow:Assets written to: /tmp/tmp_cisoknf/assets\n"
     ]
    },
    {
     "name": "stdout",
     "output_type": "stream",
     "text": [
      "ERROR: Failed Full integer quantizatized with integer io TFLite model\n",
      "INFO:tensorflow:Assets written to: /tmp/tmpbx9y5ubt/assets\n"
     ]
    },
    {
     "name": "stderr",
     "output_type": "stream",
     "text": [
      "INFO:tensorflow:Assets written to: /tmp/tmpbx9y5ubt/assets\n"
     ]
    },
    {
     "name": "stdout",
     "output_type": "stream",
     "text": [
      "float16 quantizatized TFLite model (8350064 Bytes) saved to: flowers_models_optimized/EfficentNetB0_flowers_model_PolynomialDecay50_float16_quantization.tflite\n",
      "WARNING:tensorflow:No training configuration found in the save file, so the model was *not* compiled. Compile it manually.\n"
     ]
    },
    {
     "name": "stderr",
     "output_type": "stream",
     "text": [
      "WARNING:tensorflow:No training configuration found in the save file, so the model was *not* compiled. Compile it manually.\n"
     ]
    },
    {
     "name": "stdout",
     "output_type": "stream",
     "text": [
      "INFO:tensorflow:Assets written to: /tmp/tmp92h1w4zs/assets\n"
     ]
    },
    {
     "name": "stderr",
     "output_type": "stream",
     "text": [
      "INFO:tensorflow:Assets written to: /tmp/tmp92h1w4zs/assets\n"
     ]
    },
    {
     "name": "stdout",
     "output_type": "stream",
     "text": [
      "Converted TFLite model (16551960 Bytes) saved to: flowers_models_optimized/EfficentNetB0_flowers_model_KMeansPlusPlus128.tflite\n",
      "INFO:tensorflow:Assets written to: /tmp/tmp_jkw8cyu/assets\n"
     ]
    },
    {
     "name": "stderr",
     "output_type": "stream",
     "text": [
      "INFO:tensorflow:Assets written to: /tmp/tmp_jkw8cyu/assets\n"
     ]
    },
    {
     "name": "stdout",
     "output_type": "stream",
     "text": [
      "Dynamic range quantizatized TFLite model (4916336 Bytes) saved to: flowers_models_optimized/EfficentNetB0_flowers_model_KMeansPlusPlus128_dynamic_rage_quantization.tflite\n",
      "INFO:tensorflow:Assets written to: /tmp/tmp5ejk275p/assets\n"
     ]
    },
    {
     "name": "stderr",
     "output_type": "stream",
     "text": [
      "INFO:tensorflow:Assets written to: /tmp/tmp5ejk275p/assets\n"
     ]
    },
    {
     "name": "stdout",
     "output_type": "stream",
     "text": [
      "Full integer quantizatized TFLite model (5287648 Bytes) saved to: flowers_models_optimized/EfficentNetB0_flowers_model_KMeansPlusPlus128_full_integer_quantization.tflite\n",
      "INFO:tensorflow:Assets written to: /tmp/tmpai_oq1zt/assets\n"
     ]
    },
    {
     "name": "stderr",
     "output_type": "stream",
     "text": [
      "INFO:tensorflow:Assets written to: /tmp/tmpai_oq1zt/assets\n"
     ]
    },
    {
     "name": "stdout",
     "output_type": "stream",
     "text": [
      "ERROR: Failed Full integer quantizatized with integer io TFLite model\n",
      "INFO:tensorflow:Assets written to: /tmp/tmpf_krnt0q/assets\n"
     ]
    },
    {
     "name": "stderr",
     "output_type": "stream",
     "text": [
      "INFO:tensorflow:Assets written to: /tmp/tmpf_krnt0q/assets\n"
     ]
    },
    {
     "name": "stdout",
     "output_type": "stream",
     "text": [
      "float16 quantizatized TFLite model (8350064 Bytes) saved to: flowers_models_optimized/EfficentNetB0_flowers_model_KMeansPlusPlus128_float16_quantization.tflite\n",
      "WARNING:tensorflow:No training configuration found in the save file, so the model was *not* compiled. Compile it manually.\n"
     ]
    },
    {
     "name": "stderr",
     "output_type": "stream",
     "text": [
      "WARNING:tensorflow:No training configuration found in the save file, so the model was *not* compiled. Compile it manually.\n"
     ]
    },
    {
     "name": "stdout",
     "output_type": "stream",
     "text": [
      "INFO:tensorflow:Assets written to: /tmp/tmpizw0qjxn/assets\n"
     ]
    },
    {
     "name": "stderr",
     "output_type": "stream",
     "text": [
      "INFO:tensorflow:Assets written to: /tmp/tmpizw0qjxn/assets\n"
     ]
    },
    {
     "name": "stdout",
     "output_type": "stream",
     "text": [
      "Converted TFLite model (16551960 Bytes) saved to: flowers_models_optimized/EfficentNetB0_flowers_model_ConstantSparsity90_KMeansPlusPlus128.tflite\n",
      "INFO:tensorflow:Assets written to: /tmp/tmp_cnyvewb/assets\n"
     ]
    },
    {
     "name": "stderr",
     "output_type": "stream",
     "text": [
      "INFO:tensorflow:Assets written to: /tmp/tmp_cnyvewb/assets\n"
     ]
    },
    {
     "name": "stdout",
     "output_type": "stream",
     "text": [
      "Dynamic range quantizatized TFLite model (4916336 Bytes) saved to: flowers_models_optimized/EfficentNetB0_flowers_model_ConstantSparsity90_KMeansPlusPlus128_dynamic_rage_quantization.tflite\n",
      "INFO:tensorflow:Assets written to: /tmp/tmpcm3srrd3/assets\n"
     ]
    },
    {
     "name": "stderr",
     "output_type": "stream",
     "text": [
      "INFO:tensorflow:Assets written to: /tmp/tmpcm3srrd3/assets\n"
     ]
    },
    {
     "name": "stdout",
     "output_type": "stream",
     "text": [
      "Full integer quantizatized TFLite model (5287648 Bytes) saved to: flowers_models_optimized/EfficentNetB0_flowers_model_ConstantSparsity90_KMeansPlusPlus128_full_integer_quantization.tflite\n",
      "INFO:tensorflow:Assets written to: /tmp/tmpzinrk_we/assets\n"
     ]
    },
    {
     "name": "stderr",
     "output_type": "stream",
     "text": [
      "INFO:tensorflow:Assets written to: /tmp/tmpzinrk_we/assets\n"
     ]
    },
    {
     "name": "stdout",
     "output_type": "stream",
     "text": [
      "ERROR: Failed Full integer quantizatized with integer io TFLite model\n",
      "INFO:tensorflow:Assets written to: /tmp/tmp9laz_iw0/assets\n"
     ]
    },
    {
     "name": "stderr",
     "output_type": "stream",
     "text": [
      "INFO:tensorflow:Assets written to: /tmp/tmp9laz_iw0/assets\n"
     ]
    },
    {
     "name": "stdout",
     "output_type": "stream",
     "text": [
      "float16 quantizatized TFLite model (8350064 Bytes) saved to: flowers_models_optimized/EfficentNetB0_flowers_model_ConstantSparsity90_KMeansPlusPlus128_float16_quantization.tflite\n",
      "WARNING:tensorflow:No training configuration found in the save file, so the model was *not* compiled. Compile it manually.\n"
     ]
    },
    {
     "name": "stderr",
     "output_type": "stream",
     "text": [
      "WARNING:tensorflow:No training configuration found in the save file, so the model was *not* compiled. Compile it manually.\n"
     ]
    },
    {
     "name": "stdout",
     "output_type": "stream",
     "text": [
      "INFO:tensorflow:Assets written to: /tmp/tmpfz08f65p/assets\n"
     ]
    },
    {
     "name": "stderr",
     "output_type": "stream",
     "text": [
      "INFO:tensorflow:Assets written to: /tmp/tmpfz08f65p/assets\n"
     ]
    },
    {
     "name": "stdout",
     "output_type": "stream",
     "text": [
      "Converted TFLite model (16551960 Bytes) saved to: flowers_models_optimized/EfficentNetB0_flowers_model_ConstantSparsity75_KMeansPlusPlus32.tflite\n",
      "INFO:tensorflow:Assets written to: /tmp/tmp8341nev0/assets\n"
     ]
    },
    {
     "name": "stderr",
     "output_type": "stream",
     "text": [
      "INFO:tensorflow:Assets written to: /tmp/tmp8341nev0/assets\n"
     ]
    },
    {
     "name": "stdout",
     "output_type": "stream",
     "text": [
      "Dynamic range quantizatized TFLite model (4916336 Bytes) saved to: flowers_models_optimized/EfficentNetB0_flowers_model_ConstantSparsity75_KMeansPlusPlus32_dynamic_rage_quantization.tflite\n",
      "INFO:tensorflow:Assets written to: /tmp/tmpb_sa5n60/assets\n"
     ]
    },
    {
     "name": "stderr",
     "output_type": "stream",
     "text": [
      "INFO:tensorflow:Assets written to: /tmp/tmpb_sa5n60/assets\n"
     ]
    },
    {
     "name": "stdout",
     "output_type": "stream",
     "text": [
      "Full integer quantizatized TFLite model (5287648 Bytes) saved to: flowers_models_optimized/EfficentNetB0_flowers_model_ConstantSparsity75_KMeansPlusPlus32_full_integer_quantization.tflite\n",
      "INFO:tensorflow:Assets written to: /tmp/tmpeogk8zy5/assets\n"
     ]
    },
    {
     "name": "stderr",
     "output_type": "stream",
     "text": [
      "INFO:tensorflow:Assets written to: /tmp/tmpeogk8zy5/assets\n"
     ]
    },
    {
     "name": "stdout",
     "output_type": "stream",
     "text": [
      "ERROR: Failed Full integer quantizatized with integer io TFLite model\n",
      "INFO:tensorflow:Assets written to: /tmp/tmprfs95w2g/assets\n"
     ]
    },
    {
     "name": "stderr",
     "output_type": "stream",
     "text": [
      "INFO:tensorflow:Assets written to: /tmp/tmprfs95w2g/assets\n"
     ]
    },
    {
     "name": "stdout",
     "output_type": "stream",
     "text": [
      "float16 quantizatized TFLite model (8350064 Bytes) saved to: flowers_models_optimized/EfficentNetB0_flowers_model_ConstantSparsity75_KMeansPlusPlus32_float16_quantization.tflite\n",
      "WARNING:tensorflow:No training configuration found in the save file, so the model was *not* compiled. Compile it manually.\n"
     ]
    },
    {
     "name": "stderr",
     "output_type": "stream",
     "text": [
      "WARNING:tensorflow:No training configuration found in the save file, so the model was *not* compiled. Compile it manually.\n"
     ]
    },
    {
     "name": "stdout",
     "output_type": "stream",
     "text": [
      "INFO:tensorflow:Assets written to: /tmp/tmpib3wm1e_/assets\n"
     ]
    },
    {
     "name": "stderr",
     "output_type": "stream",
     "text": [
      "INFO:tensorflow:Assets written to: /tmp/tmpib3wm1e_/assets\n"
     ]
    },
    {
     "name": "stdout",
     "output_type": "stream",
     "text": [
      "Converted TFLite model (16551960 Bytes) saved to: flowers_models_optimized/EfficentNetB0_flowers_model_ConstantSparsity75_KMeansPlusPlus128.tflite\n",
      "INFO:tensorflow:Assets written to: /tmp/tmp4idy9alh/assets\n"
     ]
    },
    {
     "name": "stderr",
     "output_type": "stream",
     "text": [
      "INFO:tensorflow:Assets written to: /tmp/tmp4idy9alh/assets\n"
     ]
    },
    {
     "name": "stdout",
     "output_type": "stream",
     "text": [
      "Dynamic range quantizatized TFLite model (4916336 Bytes) saved to: flowers_models_optimized/EfficentNetB0_flowers_model_ConstantSparsity75_KMeansPlusPlus128_dynamic_rage_quantization.tflite\n",
      "INFO:tensorflow:Assets written to: /tmp/tmpsb72rwmg/assets\n"
     ]
    },
    {
     "name": "stderr",
     "output_type": "stream",
     "text": [
      "INFO:tensorflow:Assets written to: /tmp/tmpsb72rwmg/assets\n"
     ]
    },
    {
     "name": "stdout",
     "output_type": "stream",
     "text": [
      "Full integer quantizatized TFLite model (5287648 Bytes) saved to: flowers_models_optimized/EfficentNetB0_flowers_model_ConstantSparsity75_KMeansPlusPlus128_full_integer_quantization.tflite\n",
      "INFO:tensorflow:Assets written to: /tmp/tmplp5l_tvv/assets\n"
     ]
    },
    {
     "name": "stderr",
     "output_type": "stream",
     "text": [
      "INFO:tensorflow:Assets written to: /tmp/tmplp5l_tvv/assets\n"
     ]
    },
    {
     "name": "stdout",
     "output_type": "stream",
     "text": [
      "ERROR: Failed Full integer quantizatized with integer io TFLite model\n",
      "INFO:tensorflow:Assets written to: /tmp/tmpj_ynl_no/assets\n"
     ]
    },
    {
     "name": "stderr",
     "output_type": "stream",
     "text": [
      "INFO:tensorflow:Assets written to: /tmp/tmpj_ynl_no/assets\n"
     ]
    },
    {
     "name": "stdout",
     "output_type": "stream",
     "text": [
      "float16 quantizatized TFLite model (8350064 Bytes) saved to: flowers_models_optimized/EfficentNetB0_flowers_model_ConstantSparsity75_KMeansPlusPlus128_float16_quantization.tflite\n",
      "WARNING:tensorflow:No training configuration found in the save file, so the model was *not* compiled. Compile it manually.\n"
     ]
    },
    {
     "name": "stderr",
     "output_type": "stream",
     "text": [
      "WARNING:tensorflow:No training configuration found in the save file, so the model was *not* compiled. Compile it manually.\n"
     ]
    },
    {
     "name": "stdout",
     "output_type": "stream",
     "text": [
      "INFO:tensorflow:Assets written to: /tmp/tmp8fidujtm/assets\n"
     ]
    },
    {
     "name": "stderr",
     "output_type": "stream",
     "text": [
      "INFO:tensorflow:Assets written to: /tmp/tmp8fidujtm/assets\n"
     ]
    },
    {
     "name": "stdout",
     "output_type": "stream",
     "text": [
      "Converted TFLite model (16551960 Bytes) saved to: flowers_models_optimized/EfficentNetB0_flowers_model_PolynomialDecay75_KMeansPlusPlus128.tflite\n",
      "INFO:tensorflow:Assets written to: /tmp/tmpscp9aqg_/assets\n"
     ]
    },
    {
     "name": "stderr",
     "output_type": "stream",
     "text": [
      "INFO:tensorflow:Assets written to: /tmp/tmpscp9aqg_/assets\n"
     ]
    },
    {
     "name": "stdout",
     "output_type": "stream",
     "text": [
      "Dynamic range quantizatized TFLite model (4916336 Bytes) saved to: flowers_models_optimized/EfficentNetB0_flowers_model_PolynomialDecay75_KMeansPlusPlus128_dynamic_rage_quantization.tflite\n",
      "INFO:tensorflow:Assets written to: /tmp/tmpe5ivoizf/assets\n"
     ]
    },
    {
     "name": "stderr",
     "output_type": "stream",
     "text": [
      "INFO:tensorflow:Assets written to: /tmp/tmpe5ivoizf/assets\n"
     ]
    },
    {
     "name": "stdout",
     "output_type": "stream",
     "text": [
      "Full integer quantizatized TFLite model (5287648 Bytes) saved to: flowers_models_optimized/EfficentNetB0_flowers_model_PolynomialDecay75_KMeansPlusPlus128_full_integer_quantization.tflite\n",
      "INFO:tensorflow:Assets written to: /tmp/tmp34egnrgj/assets\n"
     ]
    },
    {
     "name": "stderr",
     "output_type": "stream",
     "text": [
      "INFO:tensorflow:Assets written to: /tmp/tmp34egnrgj/assets\n"
     ]
    },
    {
     "name": "stdout",
     "output_type": "stream",
     "text": [
      "ERROR: Failed Full integer quantizatized with integer io TFLite model\n",
      "INFO:tensorflow:Assets written to: /tmp/tmpgjewulzb/assets\n"
     ]
    },
    {
     "name": "stderr",
     "output_type": "stream",
     "text": [
      "INFO:tensorflow:Assets written to: /tmp/tmpgjewulzb/assets\n"
     ]
    },
    {
     "name": "stdout",
     "output_type": "stream",
     "text": [
      "float16 quantizatized TFLite model (8350064 Bytes) saved to: flowers_models_optimized/EfficentNetB0_flowers_model_PolynomialDecay75_KMeansPlusPlus128_float16_quantization.tflite\n",
      "WARNING:tensorflow:No training configuration found in the save file, so the model was *not* compiled. Compile it manually.\n"
     ]
    },
    {
     "name": "stderr",
     "output_type": "stream",
     "text": [
      "WARNING:tensorflow:No training configuration found in the save file, so the model was *not* compiled. Compile it manually.\n"
     ]
    },
    {
     "name": "stdout",
     "output_type": "stream",
     "text": [
      "INFO:tensorflow:Assets written to: /tmp/tmpjsvdzxvf/assets\n"
     ]
    },
    {
     "name": "stderr",
     "output_type": "stream",
     "text": [
      "INFO:tensorflow:Assets written to: /tmp/tmpjsvdzxvf/assets\n"
     ]
    },
    {
     "name": "stdout",
     "output_type": "stream",
     "text": [
      "Converted TFLite model (9381072 Bytes) saved to: flowers_models_optimized/MobileNetV2_flowers_model_PolynomialDecay90.tflite\n",
      "INFO:tensorflow:Assets written to: /tmp/tmpys208r73/assets\n"
     ]
    },
    {
     "name": "stderr",
     "output_type": "stream",
     "text": [
      "INFO:tensorflow:Assets written to: /tmp/tmpys208r73/assets\n"
     ]
    },
    {
     "name": "stdout",
     "output_type": "stream",
     "text": [
      "Dynamic range quantizatized TFLite model (2768848 Bytes) saved to: flowers_models_optimized/MobileNetV2_flowers_model_PolynomialDecay90_dynamic_rage_quantization.tflite\n",
      "INFO:tensorflow:Assets written to: /tmp/tmpo8lti9ug/assets\n"
     ]
    },
    {
     "name": "stderr",
     "output_type": "stream",
     "text": [
      "INFO:tensorflow:Assets written to: /tmp/tmpo8lti9ug/assets\n"
     ]
    },
    {
     "name": "stdout",
     "output_type": "stream",
     "text": [
      "Full integer quantizatized TFLite model (2975120 Bytes) saved to: flowers_models_optimized/MobileNetV2_flowers_model_PolynomialDecay90_full_integer_quantization.tflite\n",
      "INFO:tensorflow:Assets written to: /tmp/tmp8mxizfyh/assets\n"
     ]
    },
    {
     "name": "stderr",
     "output_type": "stream",
     "text": [
      "INFO:tensorflow:Assets written to: /tmp/tmp8mxizfyh/assets\n"
     ]
    },
    {
     "name": "stdout",
     "output_type": "stream",
     "text": [
      "Full integer quantizatized with integer io TFLite model (2973880 Bytes) saved to: flowers_models_optimized/MobileNetV2_flowers_model_PolynomialDecay90_full_integer_quantization_integer_io.tflite\n",
      "INFO:tensorflow:Assets written to: /tmp/tmphww01qjz/assets\n"
     ]
    },
    {
     "name": "stderr",
     "output_type": "stream",
     "text": [
      "INFO:tensorflow:Assets written to: /tmp/tmphww01qjz/assets\n"
     ]
    },
    {
     "name": "stdout",
     "output_type": "stream",
     "text": [
      "float16 quantizatized TFLite model (4722624 Bytes) saved to: flowers_models_optimized/MobileNetV2_flowers_model_PolynomialDecay90_float16_quantization.tflite\n",
      "WARNING:tensorflow:No training configuration found in the save file, so the model was *not* compiled. Compile it manually.\n"
     ]
    },
    {
     "name": "stderr",
     "output_type": "stream",
     "text": [
      "WARNING:tensorflow:No training configuration found in the save file, so the model was *not* compiled. Compile it manually.\n"
     ]
    },
    {
     "name": "stdout",
     "output_type": "stream",
     "text": [
      "INFO:tensorflow:Assets written to: /tmp/tmpwkr0oxbi/assets\n"
     ]
    },
    {
     "name": "stderr",
     "output_type": "stream",
     "text": [
      "INFO:tensorflow:Assets written to: /tmp/tmpwkr0oxbi/assets\n"
     ]
    },
    {
     "name": "stdout",
     "output_type": "stream",
     "text": [
      "Converted TFLite model (9381072 Bytes) saved to: flowers_models_optimized/MobileNetV2_flowers_model_PolynomialDecay50_KMeansPlusPlus32.tflite\n",
      "INFO:tensorflow:Assets written to: /tmp/tmp34gd0f8t/assets\n"
     ]
    },
    {
     "name": "stderr",
     "output_type": "stream",
     "text": [
      "INFO:tensorflow:Assets written to: /tmp/tmp34gd0f8t/assets\n"
     ]
    },
    {
     "name": "stdout",
     "output_type": "stream",
     "text": [
      "Dynamic range quantizatized TFLite model (2768848 Bytes) saved to: flowers_models_optimized/MobileNetV2_flowers_model_PolynomialDecay50_KMeansPlusPlus32_dynamic_rage_quantization.tflite\n",
      "INFO:tensorflow:Assets written to: /tmp/tmpaqeqxlxz/assets\n"
     ]
    },
    {
     "name": "stderr",
     "output_type": "stream",
     "text": [
      "INFO:tensorflow:Assets written to: /tmp/tmpaqeqxlxz/assets\n"
     ]
    },
    {
     "name": "stdout",
     "output_type": "stream",
     "text": [
      "Full integer quantizatized TFLite model (2975120 Bytes) saved to: flowers_models_optimized/MobileNetV2_flowers_model_PolynomialDecay50_KMeansPlusPlus32_full_integer_quantization.tflite\n",
      "INFO:tensorflow:Assets written to: /tmp/tmp0x0i8904/assets\n"
     ]
    },
    {
     "name": "stderr",
     "output_type": "stream",
     "text": [
      "INFO:tensorflow:Assets written to: /tmp/tmp0x0i8904/assets\n"
     ]
    },
    {
     "name": "stdout",
     "output_type": "stream",
     "text": [
      "Full integer quantizatized with integer io TFLite model (2973880 Bytes) saved to: flowers_models_optimized/MobileNetV2_flowers_model_PolynomialDecay50_KMeansPlusPlus32_full_integer_quantization_integer_io.tflite\n",
      "INFO:tensorflow:Assets written to: /tmp/tmpyu22hyng/assets\n"
     ]
    },
    {
     "name": "stderr",
     "output_type": "stream",
     "text": [
      "INFO:tensorflow:Assets written to: /tmp/tmpyu22hyng/assets\n"
     ]
    },
    {
     "name": "stdout",
     "output_type": "stream",
     "text": [
      "float16 quantizatized TFLite model (4722624 Bytes) saved to: flowers_models_optimized/MobileNetV2_flowers_model_PolynomialDecay50_KMeansPlusPlus32_float16_quantization.tflite\n",
      "WARNING:tensorflow:No training configuration found in the save file, so the model was *not* compiled. Compile it manually.\n"
     ]
    },
    {
     "name": "stderr",
     "output_type": "stream",
     "text": [
      "WARNING:tensorflow:No training configuration found in the save file, so the model was *not* compiled. Compile it manually.\n"
     ]
    },
    {
     "name": "stdout",
     "output_type": "stream",
     "text": [
      "INFO:tensorflow:Assets written to: /tmp/tmp8ru6_rt9/assets\n"
     ]
    },
    {
     "name": "stderr",
     "output_type": "stream",
     "text": [
      "INFO:tensorflow:Assets written to: /tmp/tmp8ru6_rt9/assets\n"
     ]
    },
    {
     "name": "stdout",
     "output_type": "stream",
     "text": [
      "Converted TFLite model (9381072 Bytes) saved to: flowers_models_optimized/MobileNetV2_flowers_model_ConstantSparsity90_KMeansPlusPlus128.tflite\n",
      "INFO:tensorflow:Assets written to: /tmp/tmpypffy78e/assets\n"
     ]
    },
    {
     "name": "stderr",
     "output_type": "stream",
     "text": [
      "INFO:tensorflow:Assets written to: /tmp/tmpypffy78e/assets\n"
     ]
    },
    {
     "name": "stdout",
     "output_type": "stream",
     "text": [
      "Dynamic range quantizatized TFLite model (2768848 Bytes) saved to: flowers_models_optimized/MobileNetV2_flowers_model_ConstantSparsity90_KMeansPlusPlus128_dynamic_rage_quantization.tflite\n",
      "INFO:tensorflow:Assets written to: /tmp/tmpnk_385l3/assets\n"
     ]
    },
    {
     "name": "stderr",
     "output_type": "stream",
     "text": [
      "INFO:tensorflow:Assets written to: /tmp/tmpnk_385l3/assets\n"
     ]
    },
    {
     "name": "stdout",
     "output_type": "stream",
     "text": [
      "Full integer quantizatized TFLite model (2975120 Bytes) saved to: flowers_models_optimized/MobileNetV2_flowers_model_ConstantSparsity90_KMeansPlusPlus128_full_integer_quantization.tflite\n",
      "INFO:tensorflow:Assets written to: /tmp/tmpipfrp_q_/assets\n"
     ]
    },
    {
     "name": "stderr",
     "output_type": "stream",
     "text": [
      "INFO:tensorflow:Assets written to: /tmp/tmpipfrp_q_/assets\n"
     ]
    },
    {
     "name": "stdout",
     "output_type": "stream",
     "text": [
      "Full integer quantizatized with integer io TFLite model (2973880 Bytes) saved to: flowers_models_optimized/MobileNetV2_flowers_model_ConstantSparsity90_KMeansPlusPlus128_full_integer_quantization_integer_io.tflite\n",
      "INFO:tensorflow:Assets written to: /tmp/tmp1h9xp9pm/assets\n"
     ]
    },
    {
     "name": "stderr",
     "output_type": "stream",
     "text": [
      "INFO:tensorflow:Assets written to: /tmp/tmp1h9xp9pm/assets\n"
     ]
    },
    {
     "name": "stdout",
     "output_type": "stream",
     "text": [
      "float16 quantizatized TFLite model (4722624 Bytes) saved to: flowers_models_optimized/MobileNetV2_flowers_model_ConstantSparsity90_KMeansPlusPlus128_float16_quantization.tflite\n"
     ]
    }
   ],
   "source": [
    "for model_path in model_paths:\n",
    "    if \"tf_flowers\" in model_path:\n",
    "        model_quantization(model_path=model_path, ds=tf_flowers_datasets[0])\n",
    "    elif \"flowers\" in model_path:\n",
    "        model_quantization(model_path=model_path, ds=flowers_datasets[0])\n",
    "    elif \"beans\" in model_path:\n",
    "        model_quantization(model_path=model_path, ds=beans_datasets[0])"
   ]
  },
  {
   "cell_type": "code",
   "execution_count": null,
   "metadata": {},
   "outputs": [],
   "source": []
  }
 ],
 "metadata": {
  "kernelspec": {
   "display_name": "Python 3",
   "language": "python",
   "name": "python3"
  },
  "language_info": {
   "codemirror_mode": {
    "name": "ipython",
    "version": 3
   },
   "file_extension": ".py",
   "mimetype": "text/x-python",
   "name": "python",
   "nbconvert_exporter": "python",
   "pygments_lexer": "ipython3",
   "version": "3.8.8"
  }
 },
 "nbformat": 4,
 "nbformat_minor": 4
}
