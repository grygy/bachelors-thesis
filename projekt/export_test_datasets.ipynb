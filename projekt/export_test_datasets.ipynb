{
 "cells": [
  {
   "cell_type": "markdown",
   "metadata": {},
   "source": [
    "# Evaluation scrip to run on NXP board"
   ]
  },
  {
   "cell_type": "markdown",
   "metadata": {},
   "source": [
    "## Save images to png\n",
    "\n",
    "inspirated by https://stackoverflow.com/questions/57338091/how-to-save-tensor-as-a-image"
   ]
  },
  {
   "cell_type": "code",
   "execution_count": 3,
   "metadata": {},
   "outputs": [],
   "source": [
    "import tensorflow as tf\n",
    "import tensorflow_datasets as tfds\n",
    "import os\n",
    "from PIL import Image\n",
    "import pathlib"
   ]
  },
  {
   "cell_type": "code",
   "execution_count": null,
   "metadata": {},
   "outputs": [],
   "source": [
    "def preprocess_flowers_test_and_val(image, label):\n",
    "    image = tf.image.resize(image, [256, 256],\n",
    "                          method=tf.image.ResizeMethod.NEAREST_NEIGHBOR)\n",
    "    return image, label\n",
    "\n",
    "\n",
    "(ds_tran, ds_test), ds_info = tfds.load(\n",
    "        'oxford_flowers102',\n",
    "        split=['train','test'],\n",
    "        as_supervised=True,\n",
    "        with_info=True,\n",
    "    )\n",
    "ds_test = ds_test.map(preprocess_flowers_test_and_val)\n",
    "\n",
    "i = 0\n",
    "for image, label in ds_test.as_numpy_iterator():\n",
    "    i+=1\n",
    "    img = Image.fromarray(image)\n",
    "    image_directory = pathlib.Path(\"../datasets/flowers_test/\" + str(label))\n",
    "    image_directory.mkdir(parents=True, exist_ok=True)\n",
    "    image_path = image_directory/(str(i) + '.png')\n",
    "    img.save(str(image_path))"
   ]
  },
  {
   "cell_type": "code",
   "execution_count": 22,
   "metadata": {},
   "outputs": [],
   "source": [
    "(ds_tran, ds_test), ds_info = tfds.load(\n",
    "        'beans',\n",
    "        split=['train','test'],\n",
    "        as_supervised=True,\n",
    "        with_info=True,\n",
    "    )\n",
    "\n",
    "i = 0\n",
    "for image, label in ds_test.as_numpy_iterator():\n",
    "    i+=1\n",
    "    img = Image.fromarray(image)\n",
    "    image_directory = pathlib.Path(\"../datasets/beans_test/\" + str(label))\n",
    "    image_directory.mkdir(parents=True, exist_ok=True)\n",
    "    image_path = image_directory/(str(i) + '.png')\n",
    "    img.save(str(image_path))"
   ]
  },
  {
   "cell_type": "code",
   "execution_count": 5,
   "metadata": {},
   "outputs": [],
   "source": [
    "def preprocess_flowers_test_and_val(image, label):\n",
    "    image = tf.image.resize(image, [256, 256],\n",
    "                          method=tf.image.ResizeMethod.NEAREST_NEIGHBOR)\n",
    "    return image, label\n",
    "\n",
    "\n",
    "(ds_train, ds_validation, ds_test), ds_info = tfds.load(name=\"tf_flowers\", \n",
    "                                             with_info=True,\n",
    "                                             split=['train[:70%]', 'train[70%:85%]', 'train[85%:]'],  #70/15/15 split\n",
    "                                             as_supervised=True)\n",
    "ds_test = ds_test.map(preprocess_flowers_test_and_val)\n",
    "\n",
    "i = 0\n",
    "for image, label in ds_test.as_numpy_iterator():\n",
    "    i+=1\n",
    "    img = Image.fromarray(image)\n",
    "    image_directory = pathlib.Path(\"../datasets/tf_flowers_test/\" + str(label))\n",
    "    image_directory.mkdir(parents=True, exist_ok=True)\n",
    "    image_path = image_directory/(str(i) + '.png')\n",
    "    img.save(str(image_path))"
   ]
  },
  {
   "cell_type": "code",
   "execution_count": null,
   "metadata": {},
   "outputs": [],
   "source": []
  }
 ],
 "metadata": {
  "kernelspec": {
   "display_name": "Python 3",
   "language": "python",
   "name": "python3"
  },
  "language_info": {
   "codemirror_mode": {
    "name": "ipython",
    "version": 3
   },
   "file_extension": ".py",
   "mimetype": "text/x-python",
   "name": "python",
   "nbconvert_exporter": "python",
   "pygments_lexer": "ipython3",
   "version": "3.8.8"
  }
 },
 "nbformat": 4,
 "nbformat_minor": 4
}
